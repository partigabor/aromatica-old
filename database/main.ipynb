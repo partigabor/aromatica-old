{
 "cells": [
  {
   "cell_type": "markdown",
   "metadata": {},
   "source": [
    "# Encyclopaedia Aromatica pipeline"
   ]
  },
  {
   "cell_type": "markdown",
   "metadata": {},
   "source": [
    "## Libraries"
   ]
  },
  {
   "cell_type": "code",
   "execution_count": 61,
   "metadata": {},
   "outputs": [],
   "source": [
    "# Import dependencies\n",
    "import os\n",
    "import pandas as pd\n",
    "import numpy as np\n",
    "import re\n",
    "\n",
    "from collections import defaultdict\n",
    "from datetime import date, datetime, timedelta\n",
    "from py_markdown_table.markdown_table import markdown_table\n",
    "\n",
    "# pip install babelnet\n",
    "\n",
    "from plotly.io import write_image, write_json\n",
    "import plotly.express as px\n",
    "import plotly.graph_objs as go\n",
    "import geopandas as gpd\n",
    "\n",
    "from palette import *\n",
    "from scripts.unsplash import *\n",
    "from scripts.pexels import *\n",
    "from scripts.functions import *\n",
    "\n",
    "pd.options.mode.copy_on_write = True # to avoid SettingWithCopyWarning, https://stackoverflow.com/questions/20625582/how-to-deal-with-settingwithcopywarning-in-pandas\n"
   ]
  },
  {
   "cell_type": "markdown",
   "metadata": {},
   "source": [
    "## Paths"
   ]
  },
  {
   "cell_type": "code",
   "execution_count": 62,
   "metadata": {},
   "outputs": [],
   "source": [
    "path_in = \"data/\"\n",
    "path_out_tex = \"output/tex/\"\n",
    "path_out_md = \"output/md/\"\n",
    "path_out_html = \"output/html/\"\n",
    "path_out_json = \"output/json/\"\n",
    "path_out_png = \"output/png/\"\n",
    "path_out_pdf = \"output/pdf/\"\n",
    "path_downloaded_photos = \"output/photos/\"\n",
    "\n",
    "website_md = \"../content/items/\"\n",
    "website_json = \"../static/plotly/\"\n",
    "website_photos = \"../static/images/photos/\""
   ]
  },
  {
   "cell_type": "code",
   "execution_count": 63,
   "metadata": {},
   "outputs": [],
   "source": [
    "# import requests\n",
    " \n",
    "# def fetch_wikidata(params):\n",
    "#     url = 'https://www.wikidata.org/w/api.php'\n",
    "#     try:\n",
    "#         return requests.get(url, params=params)\n",
    "#     except:\n",
    "#         return 'There was and error'\n",
    "\n",
    "# # What text to search for\n",
    "# query = 'Elettaria cardamomum'\n",
    " \n",
    "# # Which parameters to use\n",
    "# params = {\n",
    "#         'action': 'wbsearchentities',\n",
    "#         'format': 'json',\n",
    "#         'search': query,\n",
    "#         'language': 'en'\n",
    "#     }\n",
    " \n",
    "# # Fetch API\n",
    "# data = fetch_wikidata(params)\n",
    " \n",
    "# #show response as JSON\n",
    "# data = data.json()\n",
    "# data"
   ]
  },
  {
   "cell_type": "markdown",
   "metadata": {},
   "source": [
    "## Functions"
   ]
  },
  {
   "cell_type": "code",
   "execution_count": 64,
   "metadata": {},
   "outputs": [],
   "source": [
    "# ################################################################################\n",
    "# # Convert PDFs\n",
    "# from pdf2image import convert_from_path\n",
    "\n",
    "# def convert_pdf_to_png(file):\n",
    "#     name = str(file)\n",
    "#     name = re.sub(\".*(?=/)\", \"\", name)\n",
    "#     name = re.sub(\"\\..*\", \"\", name)\n",
    "#     pages = convert_from_path(file, 0)\n",
    "#     for page in pages:\n",
    "#         page.save(path + name + \".png\", 'PNG')\n"
   ]
  },
  {
   "cell_type": "code",
   "execution_count": 65,
   "metadata": {},
   "outputs": [],
   "source": [
    "# Start timer\n",
    "start_time = datetime.now()"
   ]
  },
  {
   "cell_type": "markdown",
   "metadata": {},
   "source": [
    "# Data"
   ]
  },
  {
   "cell_type": "markdown",
   "metadata": {},
   "source": [
    "## Spices"
   ]
  },
  {
   "cell_type": "code",
   "execution_count": 66,
   "metadata": {},
   "outputs": [
    {
     "name": "stdout",
     "output_type": "stream",
     "text": [
      "37 spices in total.\n",
      "['allspice', 'angelica', 'anise', 'asafoetida', 'caraway', 'cardamom', 'cassia', 'chile', 'cinnamon', 'clove', 'coriander', 'cumin', 'dill', 'fennel', 'fenugreek', 'ginger', 'lemongrass', 'mace', 'nigella', 'nutmeg', 'pepper', 'saffron', 'star_anise', 'turmeric', 'vanilla', 'acuyo', 'agarwood', 'ajwain', 'ambergris', 'annatto', 'ashanti_pepper', 'black_cardamom', 'cubeb', 'javanese_long_pepper', 'long_pepper', 'sichuan_pepper', 'timiz']\n"
     ]
    }
   ],
   "source": [
    "# Read and store content of an excel file \n",
    "df = pd.read_excel(path_in+\"spices.xlsx\")\n",
    "\n",
    "# Write the dataframe object into csv file\n",
    "df.to_csv (path_in+\"spices.csv\", index = None, header=True)\n",
    "\n",
    "# Load in dataset of spices as a dataframe\n",
    "df = pd.read_csv(path_in+'spices.csv', header=[0], delimiter=',', encoding=\"utf-8\")\n",
    "\n",
    "# Select ones to include\n",
    "df = df.loc[(df['include'] == \"in\")]\n",
    "\n",
    "# Info\n",
    "list_of_items = df['item'].tolist()\n",
    "list_of_items.sort() # Sorts alphabetically, but capital letters come first\n",
    "\n",
    "# Add keys based on item, make lowercase and replace spaces with underscores\n",
    "df['key'] = df['item'].str.lower().str.replace(\" \", \"_\")\n",
    "list_of_keys = df['key'].tolist()\n",
    "print(len(list_of_keys), \"spices in total.\")\n",
    "print(list_of_keys)\n",
    "\n",
    "# Add links\n",
    "df['url'] = \"https://partigabor.github.io/aromatica/items/\" + df['item'].str.replace(\" \", \"_\")\n",
    "\n",
    "# Add counts of distribution\n",
    "df['no. of native regions'] = df['native regions'].str.count(',') + 1\n",
    "df['no. of introduced regions'] = df['introduced regions'].str.count(',') + 1"
   ]
  },
  {
   "cell_type": "markdown",
   "metadata": {},
   "source": [
    "### Amend data (online)"
   ]
  },
  {
   "cell_type": "code",
   "execution_count": 67,
   "metadata": {},
   "outputs": [],
   "source": [
    "if internet_on():\n",
    "    \n",
    "    # Location coordinates\n",
    "    generate_coordinates(df) # Generate geo-coordinates from location column\n",
    "    # generate_centroid_coordinates(df) # Generate geo-coordinates by finding the centroid of the native regions\n",
    "    \n",
    "    # # # Get a definition from WordNet\n",
    "    # wn_definition(df)\n",
    "    \n",
    "    # # Translate using WordNet\n",
    "    # wn_langs = ['fra', 'ita']\n",
    "    # for lan in wn_langs:\n",
    "    #     wn_translate(df, lan)\n",
    "    \n",
    "    # # Translate using DeepL\n",
    "    # dl_langs = ['fr', 'it']\n",
    "    # for lang in dl_langs:\n",
    "    #     dl_translate(df, lang)\n",
    "        \n",
    "    # # Create a new column called french and fill with NaN\n",
    "    # df['french'] = np.nan\n",
    "    # df['italian'] = np.nan\n",
    "    \n",
    "    # # Change \"\" to NaN in df\n",
    "    # df = df.replace(r'^\\s*$', np.nan, regex=True)\n",
    "    \n",
    "    # # Fill in 'french' column with values from 'wn_translation_fra' or 'dl_translation_fr' column where it is NaN\n",
    "    # df['french'] = df['french'].fillna(df['wn_translation_fra'])\n",
    "    # df['french'] = df['french'].fillna(df['dl_translation_fr'])\n",
    "    \n",
    "    # df['italian'] = df['italian'].fillna(df['wn_translation_ita'])\n",
    "    # df['italian'] = df['italian'].fillna(df['dl_translation_it'])\n",
    "\n",
    "# # Check\n",
    "# df_translations = df.filter(regex='fr')\n",
    "# df_translations"
   ]
  },
  {
   "cell_type": "code",
   "execution_count": 68,
   "metadata": {},
   "outputs": [
    {
     "name": "stdout",
     "output_type": "stream",
     "text": [
      "List of items with no coordinates: Empty DataFrame\n",
      "Columns: [item, lat, lon]\n",
      "Index: []\n"
     ]
    }
   ],
   "source": [
    "# Checking lat an lon where item is angelica\n",
    "# print(\"Check coordinates:\", df.loc[df['item'] == 'ambergris', ['lat', 'lon']])\n",
    "\n",
    "# List which items have NaN lat and lon values\n",
    "print(\"List of items with no coordinates:\", df.loc[(df['lat'].isnull()) & (df['lon'].isnull()), ['item', 'lat', 'lon']])"
   ]
  },
  {
   "cell_type": "code",
   "execution_count": 69,
   "metadata": {},
   "outputs": [],
   "source": [
    "# save for checking as xlsx\n",
    "df.to_excel(\"checking.xlsx\", index = None, header=True)"
   ]
  },
  {
   "cell_type": "markdown",
   "metadata": {},
   "source": [
    "## Botanical data"
   ]
  },
  {
   "cell_type": "code",
   "execution_count": 70,
   "metadata": {},
   "outputs": [],
   "source": [
    "# Read in wcvp files\n",
    "wcvp = pd.read_csv(path_in + 'resources/wcvp/wcvp_names.csv', header=[0], delimiter='|', encoding=\"utf-8\", dtype=str)\n",
    "\n",
    "# # Check line where taxon name is \"Piper capense\"\n",
    "# wcvp.loc[wcvp['taxon_name'] == \"Piper capense\"]\n",
    "\n",
    "# Merge wcvp with spice data \n",
    "df = pd.merge(df, wcvp, on=['taxon_name', 'taxon_authors'], how='left')\n",
    "\n",
    "# POWO links if not already there\n",
    "df['powo'] = df['powo'].fillna(\"https://powo.science.kew.org/taxon/\" + df['powo_id'].astype(str))\n"
   ]
  },
  {
   "cell_type": "code",
   "execution_count": 71,
   "metadata": {},
   "outputs": [
    {
     "data": {
      "text/html": [
       "<div>\n",
       "<style scoped>\n",
       "    .dataframe tbody tr th:only-of-type {\n",
       "        vertical-align: middle;\n",
       "    }\n",
       "\n",
       "    .dataframe tbody tr th {\n",
       "        vertical-align: top;\n",
       "    }\n",
       "\n",
       "    .dataframe thead th {\n",
       "        text-align: right;\n",
       "    }\n",
       "</style>\n",
       "<table border=\"1\" class=\"dataframe\">\n",
       "  <thead>\n",
       "    <tr style=\"text-align: right;\">\n",
       "      <th></th>\n",
       "      <th>include</th>\n",
       "      <th>values</th>\n",
       "      <th>level</th>\n",
       "      <th>done</th>\n",
       "      <th>id</th>\n",
       "      <th>group</th>\n",
       "      <th>item</th>\n",
       "      <th>description</th>\n",
       "      <th>related</th>\n",
       "      <th>see also</th>\n",
       "      <th>...</th>\n",
       "      <th>lifeform_description</th>\n",
       "      <th>climate_description</th>\n",
       "      <th>accepted_plant_name_id</th>\n",
       "      <th>basionym_plant_name_id</th>\n",
       "      <th>replaced_synonym_author</th>\n",
       "      <th>homotypic_synonym</th>\n",
       "      <th>parent_plant_name_id</th>\n",
       "      <th>powo_id</th>\n",
       "      <th>hybrid_formula</th>\n",
       "      <th>reviewed</th>\n",
       "    </tr>\n",
       "  </thead>\n",
       "  <tbody>\n",
       "    <tr>\n",
       "      <th>0</th>\n",
       "      <td>in</td>\n",
       "      <td>76.0</td>\n",
       "      <td>Basic</td>\n",
       "      <td>yes</td>\n",
       "      <td>NaN</td>\n",
       "      <td>NaN</td>\n",
       "      <td>allspice</td>\n",
       "      <td>The dried unripe berries of a small Caribbean ...</td>\n",
       "      <td>Bay rum tree</td>\n",
       "      <td>wild allspice</td>\n",
       "      <td>...</td>\n",
       "      <td>tree</td>\n",
       "      <td>seasonally dry tropical</td>\n",
       "      <td>156136</td>\n",
       "      <td>132459</td>\n",
       "      <td>NaN</td>\n",
       "      <td>NaN</td>\n",
       "      <td>156124</td>\n",
       "      <td>196799-2</td>\n",
       "      <td>NaN</td>\n",
       "      <td>Y</td>\n",
       "    </tr>\n",
       "    <tr>\n",
       "      <th>1</th>\n",
       "      <td>in</td>\n",
       "      <td>49.0</td>\n",
       "      <td>Basic</td>\n",
       "      <td>NaN</td>\n",
       "      <td>NaN</td>\n",
       "      <td>NaN</td>\n",
       "      <td>angelica</td>\n",
       "      <td>The scented stems and roots of a medicinal pla...</td>\n",
       "      <td>NaN</td>\n",
       "      <td>NaN</td>\n",
       "      <td>...</td>\n",
       "      <td>perennial</td>\n",
       "      <td>temperate</td>\n",
       "      <td>2638995</td>\n",
       "      <td>NaN</td>\n",
       "      <td>NaN</td>\n",
       "      <td>NaN</td>\n",
       "      <td>2638971</td>\n",
       "      <td>837560-1</td>\n",
       "      <td>NaN</td>\n",
       "      <td>N</td>\n",
       "    </tr>\n",
       "    <tr>\n",
       "      <th>2</th>\n",
       "      <td>in</td>\n",
       "      <td>66.0</td>\n",
       "      <td>Basic</td>\n",
       "      <td>NaN</td>\n",
       "      <td>NaN</td>\n",
       "      <td>NaN</td>\n",
       "      <td>anise</td>\n",
       "      <td>The seed-like fruits of a Mediterranean herb</td>\n",
       "      <td>fennel</td>\n",
       "      <td>star anise</td>\n",
       "      <td>...</td>\n",
       "      <td>annual</td>\n",
       "      <td>temperate</td>\n",
       "      <td>2402426</td>\n",
       "      <td>NaN</td>\n",
       "      <td>NaN</td>\n",
       "      <td>NaN</td>\n",
       "      <td>2402470</td>\n",
       "      <td>846658-1</td>\n",
       "      <td>NaN</td>\n",
       "      <td>N</td>\n",
       "    </tr>\n",
       "    <tr>\n",
       "      <th>3</th>\n",
       "      <td>in</td>\n",
       "      <td>66.0</td>\n",
       "      <td>Basic</td>\n",
       "      <td>NaN</td>\n",
       "      <td>NaN</td>\n",
       "      <td>NaN</td>\n",
       "      <td>asafoetida</td>\n",
       "      <td>The dried resin of Ferula foetida and F. assa-...</td>\n",
       "      <td>NaN</td>\n",
       "      <td>NaN</td>\n",
       "      <td>...</td>\n",
       "      <td>perennial</td>\n",
       "      <td>temperate</td>\n",
       "      <td>2808419</td>\n",
       "      <td>2479171</td>\n",
       "      <td>NaN</td>\n",
       "      <td>NaN</td>\n",
       "      <td>2808299</td>\n",
       "      <td>842277-1</td>\n",
       "      <td>NaN</td>\n",
       "      <td>N</td>\n",
       "    </tr>\n",
       "    <tr>\n",
       "      <th>4</th>\n",
       "      <td>in</td>\n",
       "      <td>55.0</td>\n",
       "      <td>Basic</td>\n",
       "      <td>NaN</td>\n",
       "      <td>NaN</td>\n",
       "      <td>NaN</td>\n",
       "      <td>caraway</td>\n",
       "      <td>The seed-like fruits of an Eurasian herb</td>\n",
       "      <td>NaN</td>\n",
       "      <td>NaN</td>\n",
       "      <td>...</td>\n",
       "      <td>perennial</td>\n",
       "      <td>temperate</td>\n",
       "      <td>2701499</td>\n",
       "      <td>NaN</td>\n",
       "      <td>NaN</td>\n",
       "      <td>NaN</td>\n",
       "      <td>2701447</td>\n",
       "      <td>839677-1</td>\n",
       "      <td>NaN</td>\n",
       "      <td>N</td>\n",
       "    </tr>\n",
       "  </tbody>\n",
       "</table>\n",
       "<p>5 rows × 152 columns</p>\n",
       "</div>"
      ],
      "text/plain": [
       "  include  values  level done   id group        item  \\\n",
       "0      in    76.0  Basic  yes  NaN   NaN    allspice   \n",
       "1      in    49.0  Basic  NaN  NaN   NaN    angelica   \n",
       "2      in    66.0  Basic  NaN  NaN   NaN       anise   \n",
       "3      in    66.0  Basic  NaN  NaN   NaN  asafoetida   \n",
       "4      in    55.0  Basic  NaN  NaN   NaN     caraway   \n",
       "\n",
       "                                         description       related  \\\n",
       "0  The dried unripe berries of a small Caribbean ...  Bay rum tree   \n",
       "1  The scented stems and roots of a medicinal pla...           NaN   \n",
       "2       The seed-like fruits of a Mediterranean herb        fennel   \n",
       "3  The dried resin of Ferula foetida and F. assa-...           NaN   \n",
       "4           The seed-like fruits of an Eurasian herb           NaN   \n",
       "\n",
       "        see also  ... lifeform_description      climate_description  \\\n",
       "0  wild allspice  ...                 tree  seasonally dry tropical   \n",
       "1            NaN  ...            perennial                temperate   \n",
       "2     star anise  ...               annual                temperate   \n",
       "3            NaN  ...            perennial                temperate   \n",
       "4            NaN  ...            perennial                temperate   \n",
       "\n",
       "  accepted_plant_name_id basionym_plant_name_id replaced_synonym_author  \\\n",
       "0                 156136                 132459                     NaN   \n",
       "1                2638995                    NaN                     NaN   \n",
       "2                2402426                    NaN                     NaN   \n",
       "3                2808419                2479171                     NaN   \n",
       "4                2701499                    NaN                     NaN   \n",
       "\n",
       "  homotypic_synonym parent_plant_name_id   powo_id hybrid_formula reviewed  \n",
       "0               NaN               156124  196799-2            NaN        Y  \n",
       "1               NaN              2638971  837560-1            NaN        N  \n",
       "2               NaN              2402470  846658-1            NaN        N  \n",
       "3               NaN              2808299  842277-1            NaN        N  \n",
       "4               NaN              2701447  839677-1            NaN        N  \n",
       "\n",
       "[5 rows x 152 columns]"
      ]
     },
     "execution_count": 71,
     "metadata": {},
     "output_type": "execute_result"
    }
   ],
   "source": [
    "df.head()"
   ]
  },
  {
   "cell_type": "code",
   "execution_count": 72,
   "metadata": {},
   "outputs": [
    {
     "data": {
      "text/html": [
       "<div>\n",
       "<style scoped>\n",
       "    .dataframe tbody tr th:only-of-type {\n",
       "        vertical-align: middle;\n",
       "    }\n",
       "\n",
       "    .dataframe tbody tr th {\n",
       "        vertical-align: top;\n",
       "    }\n",
       "\n",
       "    .dataframe thead th {\n",
       "        text-align: right;\n",
       "    }\n",
       "</style>\n",
       "<table border=\"1\" class=\"dataframe\">\n",
       "  <thead>\n",
       "    <tr style=\"text-align: right;\">\n",
       "      <th></th>\n",
       "      <th>plant_locality_id</th>\n",
       "      <th>plant_name_id</th>\n",
       "      <th>continent_code_l1</th>\n",
       "      <th>continent</th>\n",
       "      <th>region_code_l2</th>\n",
       "      <th>region</th>\n",
       "      <th>area_code_l3</th>\n",
       "      <th>area</th>\n",
       "      <th>introduced</th>\n",
       "      <th>extinct</th>\n",
       "      <th>location_doubtful</th>\n",
       "    </tr>\n",
       "  </thead>\n",
       "  <tbody>\n",
       "    <tr>\n",
       "      <th>1052884</th>\n",
       "      <td>2283824</td>\n",
       "      <td>2557720</td>\n",
       "      <td>2</td>\n",
       "      <td>AFRICA</td>\n",
       "      <td>22</td>\n",
       "      <td>West Tropical Africa</td>\n",
       "      <td>GHA</td>\n",
       "      <td>Ghana</td>\n",
       "      <td>0</td>\n",
       "      <td>0</td>\n",
       "      <td>0</td>\n",
       "    </tr>\n",
       "    <tr>\n",
       "      <th>1052885</th>\n",
       "      <td>2283825</td>\n",
       "      <td>2557720</td>\n",
       "      <td>2</td>\n",
       "      <td>AFRICA</td>\n",
       "      <td>22</td>\n",
       "      <td>West Tropical Africa</td>\n",
       "      <td>GUI</td>\n",
       "      <td>Guinea</td>\n",
       "      <td>0</td>\n",
       "      <td>0</td>\n",
       "      <td>0</td>\n",
       "    </tr>\n",
       "    <tr>\n",
       "      <th>1052886</th>\n",
       "      <td>2432043</td>\n",
       "      <td>2557720</td>\n",
       "      <td>2</td>\n",
       "      <td>AFRICA</td>\n",
       "      <td>22</td>\n",
       "      <td>West Tropical Africa</td>\n",
       "      <td>LBR</td>\n",
       "      <td>Liberia</td>\n",
       "      <td>0</td>\n",
       "      <td>0</td>\n",
       "      <td>0</td>\n",
       "    </tr>\n",
       "    <tr>\n",
       "      <th>1052887</th>\n",
       "      <td>2316225</td>\n",
       "      <td>2557720</td>\n",
       "      <td>2</td>\n",
       "      <td>AFRICA</td>\n",
       "      <td>22</td>\n",
       "      <td>West Tropical Africa</td>\n",
       "      <td>NGA</td>\n",
       "      <td>Nigeria</td>\n",
       "      <td>0</td>\n",
       "      <td>0</td>\n",
       "      <td>0</td>\n",
       "    </tr>\n",
       "    <tr>\n",
       "      <th>1052888</th>\n",
       "      <td>2283831</td>\n",
       "      <td>2557720</td>\n",
       "      <td>2</td>\n",
       "      <td>AFRICA</td>\n",
       "      <td>22</td>\n",
       "      <td>West Tropical Africa</td>\n",
       "      <td>SIE</td>\n",
       "      <td>Sierra Leone</td>\n",
       "      <td>0</td>\n",
       "      <td>0</td>\n",
       "      <td>0</td>\n",
       "    </tr>\n",
       "    <tr>\n",
       "      <th>1052889</th>\n",
       "      <td>2283820</td>\n",
       "      <td>2557720</td>\n",
       "      <td>2</td>\n",
       "      <td>AFRICA</td>\n",
       "      <td>23</td>\n",
       "      <td>West-Central Tropical Africa</td>\n",
       "      <td>BUR</td>\n",
       "      <td>Burundi</td>\n",
       "      <td>0</td>\n",
       "      <td>0</td>\n",
       "      <td>0</td>\n",
       "    </tr>\n",
       "    <tr>\n",
       "      <th>1052890</th>\n",
       "      <td>2283821</td>\n",
       "      <td>2557720</td>\n",
       "      <td>2</td>\n",
       "      <td>AFRICA</td>\n",
       "      <td>23</td>\n",
       "      <td>West-Central Tropical Africa</td>\n",
       "      <td>CMN</td>\n",
       "      <td>Cameroon</td>\n",
       "      <td>0</td>\n",
       "      <td>0</td>\n",
       "      <td>0</td>\n",
       "    </tr>\n",
       "    <tr>\n",
       "      <th>1052891</th>\n",
       "      <td>2820568</td>\n",
       "      <td>2557720</td>\n",
       "      <td>2</td>\n",
       "      <td>AFRICA</td>\n",
       "      <td>23</td>\n",
       "      <td>West-Central Tropical Africa</td>\n",
       "      <td>EQG</td>\n",
       "      <td>Equatorial Guinea</td>\n",
       "      <td>0</td>\n",
       "      <td>0</td>\n",
       "      <td>0</td>\n",
       "    </tr>\n",
       "    <tr>\n",
       "      <th>1052892</th>\n",
       "      <td>2283826</td>\n",
       "      <td>2557720</td>\n",
       "      <td>2</td>\n",
       "      <td>AFRICA</td>\n",
       "      <td>23</td>\n",
       "      <td>West-Central Tropical Africa</td>\n",
       "      <td>GAB</td>\n",
       "      <td>Gabon</td>\n",
       "      <td>0</td>\n",
       "      <td>0</td>\n",
       "      <td>0</td>\n",
       "    </tr>\n",
       "    <tr>\n",
       "      <th>1052893</th>\n",
       "      <td>2332684</td>\n",
       "      <td>2557720</td>\n",
       "      <td>2</td>\n",
       "      <td>AFRICA</td>\n",
       "      <td>23</td>\n",
       "      <td>West-Central Tropical Africa</td>\n",
       "      <td>GGI</td>\n",
       "      <td>Gulf of Guinea Is.</td>\n",
       "      <td>0</td>\n",
       "      <td>0</td>\n",
       "      <td>0</td>\n",
       "    </tr>\n",
       "    <tr>\n",
       "      <th>1052894</th>\n",
       "      <td>2283827</td>\n",
       "      <td>2557720</td>\n",
       "      <td>2</td>\n",
       "      <td>AFRICA</td>\n",
       "      <td>23</td>\n",
       "      <td>West-Central Tropical Africa</td>\n",
       "      <td>RWA</td>\n",
       "      <td>Rwanda</td>\n",
       "      <td>0</td>\n",
       "      <td>0</td>\n",
       "      <td>0</td>\n",
       "    </tr>\n",
       "    <tr>\n",
       "      <th>1052895</th>\n",
       "      <td>2283822</td>\n",
       "      <td>2557720</td>\n",
       "      <td>2</td>\n",
       "      <td>AFRICA</td>\n",
       "      <td>23</td>\n",
       "      <td>West-Central Tropical Africa</td>\n",
       "      <td>ZAI</td>\n",
       "      <td>Zaïre</td>\n",
       "      <td>0</td>\n",
       "      <td>0</td>\n",
       "      <td>0</td>\n",
       "    </tr>\n",
       "    <tr>\n",
       "      <th>1052896</th>\n",
       "      <td>2283823</td>\n",
       "      <td>2557720</td>\n",
       "      <td>2</td>\n",
       "      <td>AFRICA</td>\n",
       "      <td>24</td>\n",
       "      <td>Northeast Tropical Africa</td>\n",
       "      <td>ETH</td>\n",
       "      <td>Ethiopia</td>\n",
       "      <td>0</td>\n",
       "      <td>0</td>\n",
       "      <td>0</td>\n",
       "    </tr>\n",
       "    <tr>\n",
       "      <th>1052897</th>\n",
       "      <td>2283830</td>\n",
       "      <td>2557720</td>\n",
       "      <td>2</td>\n",
       "      <td>AFRICA</td>\n",
       "      <td>24</td>\n",
       "      <td>Northeast Tropical Africa</td>\n",
       "      <td>SUD</td>\n",
       "      <td>Sudan</td>\n",
       "      <td>0</td>\n",
       "      <td>0</td>\n",
       "      <td>0</td>\n",
       "    </tr>\n",
       "    <tr>\n",
       "      <th>1052898</th>\n",
       "      <td>2283834</td>\n",
       "      <td>2557720</td>\n",
       "      <td>2</td>\n",
       "      <td>AFRICA</td>\n",
       "      <td>25</td>\n",
       "      <td>East Tropical Africa</td>\n",
       "      <td>KEN</td>\n",
       "      <td>Kenya</td>\n",
       "      <td>0</td>\n",
       "      <td>0</td>\n",
       "      <td>0</td>\n",
       "    </tr>\n",
       "    <tr>\n",
       "      <th>1052899</th>\n",
       "      <td>2283835</td>\n",
       "      <td>2557720</td>\n",
       "      <td>2</td>\n",
       "      <td>AFRICA</td>\n",
       "      <td>25</td>\n",
       "      <td>East Tropical Africa</td>\n",
       "      <td>TAN</td>\n",
       "      <td>Tanzania</td>\n",
       "      <td>0</td>\n",
       "      <td>0</td>\n",
       "      <td>0</td>\n",
       "    </tr>\n",
       "    <tr>\n",
       "      <th>1052900</th>\n",
       "      <td>2283836</td>\n",
       "      <td>2557720</td>\n",
       "      <td>2</td>\n",
       "      <td>AFRICA</td>\n",
       "      <td>25</td>\n",
       "      <td>East Tropical Africa</td>\n",
       "      <td>UGA</td>\n",
       "      <td>Uganda</td>\n",
       "      <td>0</td>\n",
       "      <td>0</td>\n",
       "      <td>0</td>\n",
       "    </tr>\n",
       "    <tr>\n",
       "      <th>1052901</th>\n",
       "      <td>2215035</td>\n",
       "      <td>2557720</td>\n",
       "      <td>2</td>\n",
       "      <td>AFRICA</td>\n",
       "      <td>26</td>\n",
       "      <td>South Tropical Africa</td>\n",
       "      <td>ANG</td>\n",
       "      <td>Angola</td>\n",
       "      <td>0</td>\n",
       "      <td>0</td>\n",
       "      <td>0</td>\n",
       "    </tr>\n",
       "    <tr>\n",
       "      <th>1052902</th>\n",
       "      <td>2283828</td>\n",
       "      <td>2557720</td>\n",
       "      <td>2</td>\n",
       "      <td>AFRICA</td>\n",
       "      <td>26</td>\n",
       "      <td>South Tropical Africa</td>\n",
       "      <td>MLW</td>\n",
       "      <td>Malawi</td>\n",
       "      <td>0</td>\n",
       "      <td>0</td>\n",
       "      <td>0</td>\n",
       "    </tr>\n",
       "    <tr>\n",
       "      <th>1052903</th>\n",
       "      <td>2283829</td>\n",
       "      <td>2557720</td>\n",
       "      <td>2</td>\n",
       "      <td>AFRICA</td>\n",
       "      <td>26</td>\n",
       "      <td>South Tropical Africa</td>\n",
       "      <td>MOZ</td>\n",
       "      <td>Mozambique</td>\n",
       "      <td>0</td>\n",
       "      <td>0</td>\n",
       "      <td>0</td>\n",
       "    </tr>\n",
       "    <tr>\n",
       "      <th>1052904</th>\n",
       "      <td>2677155</td>\n",
       "      <td>2557720</td>\n",
       "      <td>2</td>\n",
       "      <td>AFRICA</td>\n",
       "      <td>26</td>\n",
       "      <td>South Tropical Africa</td>\n",
       "      <td>ZAM</td>\n",
       "      <td>Zambia</td>\n",
       "      <td>0</td>\n",
       "      <td>0</td>\n",
       "      <td>0</td>\n",
       "    </tr>\n",
       "    <tr>\n",
       "      <th>1052905</th>\n",
       "      <td>2283832</td>\n",
       "      <td>2557720</td>\n",
       "      <td>2</td>\n",
       "      <td>AFRICA</td>\n",
       "      <td>26</td>\n",
       "      <td>South Tropical Africa</td>\n",
       "      <td>ZIM</td>\n",
       "      <td>Zimbabwe</td>\n",
       "      <td>0</td>\n",
       "      <td>0</td>\n",
       "      <td>0</td>\n",
       "    </tr>\n",
       "    <tr>\n",
       "      <th>1052906</th>\n",
       "      <td>2659014</td>\n",
       "      <td>2557720</td>\n",
       "      <td>2</td>\n",
       "      <td>AFRICA</td>\n",
       "      <td>27</td>\n",
       "      <td>Southern Africa</td>\n",
       "      <td>CPP</td>\n",
       "      <td>Cape Provinces</td>\n",
       "      <td>0</td>\n",
       "      <td>0</td>\n",
       "      <td>0</td>\n",
       "    </tr>\n",
       "    <tr>\n",
       "      <th>1052907</th>\n",
       "      <td>2831242</td>\n",
       "      <td>2557720</td>\n",
       "      <td>2</td>\n",
       "      <td>AFRICA</td>\n",
       "      <td>27</td>\n",
       "      <td>Southern Africa</td>\n",
       "      <td>NAT</td>\n",
       "      <td>KwaZulu-Natal</td>\n",
       "      <td>0</td>\n",
       "      <td>0</td>\n",
       "      <td>0</td>\n",
       "    </tr>\n",
       "    <tr>\n",
       "      <th>1052908</th>\n",
       "      <td>2820569</td>\n",
       "      <td>2557720</td>\n",
       "      <td>2</td>\n",
       "      <td>AFRICA</td>\n",
       "      <td>27</td>\n",
       "      <td>Southern Africa</td>\n",
       "      <td>SWZ</td>\n",
       "      <td>Swaziland</td>\n",
       "      <td>0</td>\n",
       "      <td>0</td>\n",
       "      <td>0</td>\n",
       "    </tr>\n",
       "    <tr>\n",
       "      <th>1052909</th>\n",
       "      <td>2831241</td>\n",
       "      <td>2557720</td>\n",
       "      <td>2</td>\n",
       "      <td>AFRICA</td>\n",
       "      <td>27</td>\n",
       "      <td>Southern Africa</td>\n",
       "      <td>TVL</td>\n",
       "      <td>Northern Provinces</td>\n",
       "      <td>0</td>\n",
       "      <td>0</td>\n",
       "      <td>0</td>\n",
       "    </tr>\n",
       "    <tr>\n",
       "      <th>1052910</th>\n",
       "      <td>2283833</td>\n",
       "      <td>2557720</td>\n",
       "      <td>2</td>\n",
       "      <td>AFRICA</td>\n",
       "      <td>29</td>\n",
       "      <td>Western Indian Ocean</td>\n",
       "      <td>COM</td>\n",
       "      <td>Comoros</td>\n",
       "      <td>0</td>\n",
       "      <td>0</td>\n",
       "      <td>0</td>\n",
       "    </tr>\n",
       "    <tr>\n",
       "      <th>1052911</th>\n",
       "      <td>2458043</td>\n",
       "      <td>2557720</td>\n",
       "      <td>2</td>\n",
       "      <td>AFRICA</td>\n",
       "      <td>29</td>\n",
       "      <td>Western Indian Ocean</td>\n",
       "      <td>MDG</td>\n",
       "      <td>Madagascar</td>\n",
       "      <td>0</td>\n",
       "      <td>0</td>\n",
       "      <td>0</td>\n",
       "    </tr>\n",
       "    <tr>\n",
       "      <th>1052912</th>\n",
       "      <td>4600396</td>\n",
       "      <td>2557720</td>\n",
       "      <td>4</td>\n",
       "      <td>ASIA-TROPICAL</td>\n",
       "      <td>40</td>\n",
       "      <td>Indian Subcontinent</td>\n",
       "      <td>BAN</td>\n",
       "      <td>Bangladesh</td>\n",
       "      <td>1</td>\n",
       "      <td>0</td>\n",
       "      <td>0</td>\n",
       "    </tr>\n",
       "  </tbody>\n",
       "</table>\n",
       "</div>"
      ],
      "text/plain": [
       "        plant_locality_id plant_name_id continent_code_l1      continent  \\\n",
       "1052884           2283824       2557720                 2         AFRICA   \n",
       "1052885           2283825       2557720                 2         AFRICA   \n",
       "1052886           2432043       2557720                 2         AFRICA   \n",
       "1052887           2316225       2557720                 2         AFRICA   \n",
       "1052888           2283831       2557720                 2         AFRICA   \n",
       "1052889           2283820       2557720                 2         AFRICA   \n",
       "1052890           2283821       2557720                 2         AFRICA   \n",
       "1052891           2820568       2557720                 2         AFRICA   \n",
       "1052892           2283826       2557720                 2         AFRICA   \n",
       "1052893           2332684       2557720                 2         AFRICA   \n",
       "1052894           2283827       2557720                 2         AFRICA   \n",
       "1052895           2283822       2557720                 2         AFRICA   \n",
       "1052896           2283823       2557720                 2         AFRICA   \n",
       "1052897           2283830       2557720                 2         AFRICA   \n",
       "1052898           2283834       2557720                 2         AFRICA   \n",
       "1052899           2283835       2557720                 2         AFRICA   \n",
       "1052900           2283836       2557720                 2         AFRICA   \n",
       "1052901           2215035       2557720                 2         AFRICA   \n",
       "1052902           2283828       2557720                 2         AFRICA   \n",
       "1052903           2283829       2557720                 2         AFRICA   \n",
       "1052904           2677155       2557720                 2         AFRICA   \n",
       "1052905           2283832       2557720                 2         AFRICA   \n",
       "1052906           2659014       2557720                 2         AFRICA   \n",
       "1052907           2831242       2557720                 2         AFRICA   \n",
       "1052908           2820569       2557720                 2         AFRICA   \n",
       "1052909           2831241       2557720                 2         AFRICA   \n",
       "1052910           2283833       2557720                 2         AFRICA   \n",
       "1052911           2458043       2557720                 2         AFRICA   \n",
       "1052912           4600396       2557720                 4  ASIA-TROPICAL   \n",
       "\n",
       "        region_code_l2                        region area_code_l3  \\\n",
       "1052884             22          West Tropical Africa          GHA   \n",
       "1052885             22          West Tropical Africa          GUI   \n",
       "1052886             22          West Tropical Africa          LBR   \n",
       "1052887             22          West Tropical Africa          NGA   \n",
       "1052888             22          West Tropical Africa          SIE   \n",
       "1052889             23  West-Central Tropical Africa          BUR   \n",
       "1052890             23  West-Central Tropical Africa          CMN   \n",
       "1052891             23  West-Central Tropical Africa          EQG   \n",
       "1052892             23  West-Central Tropical Africa          GAB   \n",
       "1052893             23  West-Central Tropical Africa          GGI   \n",
       "1052894             23  West-Central Tropical Africa          RWA   \n",
       "1052895             23  West-Central Tropical Africa          ZAI   \n",
       "1052896             24     Northeast Tropical Africa          ETH   \n",
       "1052897             24     Northeast Tropical Africa          SUD   \n",
       "1052898             25          East Tropical Africa          KEN   \n",
       "1052899             25          East Tropical Africa          TAN   \n",
       "1052900             25          East Tropical Africa          UGA   \n",
       "1052901             26         South Tropical Africa          ANG   \n",
       "1052902             26         South Tropical Africa          MLW   \n",
       "1052903             26         South Tropical Africa          MOZ   \n",
       "1052904             26         South Tropical Africa          ZAM   \n",
       "1052905             26         South Tropical Africa          ZIM   \n",
       "1052906             27               Southern Africa          CPP   \n",
       "1052907             27               Southern Africa          NAT   \n",
       "1052908             27               Southern Africa          SWZ   \n",
       "1052909             27               Southern Africa          TVL   \n",
       "1052910             29          Western Indian Ocean          COM   \n",
       "1052911             29          Western Indian Ocean          MDG   \n",
       "1052912             40           Indian Subcontinent          BAN   \n",
       "\n",
       "                       area introduced extinct location_doubtful  \n",
       "1052884               Ghana          0       0                 0  \n",
       "1052885              Guinea          0       0                 0  \n",
       "1052886             Liberia          0       0                 0  \n",
       "1052887             Nigeria          0       0                 0  \n",
       "1052888        Sierra Leone          0       0                 0  \n",
       "1052889             Burundi          0       0                 0  \n",
       "1052890            Cameroon          0       0                 0  \n",
       "1052891   Equatorial Guinea          0       0                 0  \n",
       "1052892               Gabon          0       0                 0  \n",
       "1052893  Gulf of Guinea Is.          0       0                 0  \n",
       "1052894              Rwanda          0       0                 0  \n",
       "1052895               Zaïre          0       0                 0  \n",
       "1052896            Ethiopia          0       0                 0  \n",
       "1052897               Sudan          0       0                 0  \n",
       "1052898               Kenya          0       0                 0  \n",
       "1052899            Tanzania          0       0                 0  \n",
       "1052900              Uganda          0       0                 0  \n",
       "1052901              Angola          0       0                 0  \n",
       "1052902              Malawi          0       0                 0  \n",
       "1052903          Mozambique          0       0                 0  \n",
       "1052904              Zambia          0       0                 0  \n",
       "1052905            Zimbabwe          0       0                 0  \n",
       "1052906      Cape Provinces          0       0                 0  \n",
       "1052907       KwaZulu-Natal          0       0                 0  \n",
       "1052908           Swaziland          0       0                 0  \n",
       "1052909  Northern Provinces          0       0                 0  \n",
       "1052910             Comoros          0       0                 0  \n",
       "1052911          Madagascar          0       0                 0  \n",
       "1052912          Bangladesh          1       0                 0  "
      ]
     },
     "execution_count": 72,
     "metadata": {},
     "output_type": "execute_result"
    }
   ],
   "source": [
    "# Read in wcvp distribution files\n",
    "wcvp_dist = pd.read_csv(path_in+'resources/wcvp/wcvp_distribution.csv', header=[0], delimiter='|', encoding=\"utf-8\", dtype=str)\n",
    "wcvp_dist\n",
    "\n",
    "# Check line where taxon name is \"Piper capense\"\n",
    "wcvp_dist.loc[wcvp_dist['plant_name_id'] == \"2557720\"]"
   ]
  },
  {
   "cell_type": "code",
   "execution_count": 73,
   "metadata": {},
   "outputs": [
    {
     "data": {
      "text/html": [
       "<div>\n",
       "<style scoped>\n",
       "    .dataframe tbody tr th:only-of-type {\n",
       "        vertical-align: middle;\n",
       "    }\n",
       "\n",
       "    .dataframe tbody tr th {\n",
       "        vertical-align: top;\n",
       "    }\n",
       "\n",
       "    .dataframe thead th {\n",
       "        text-align: right;\n",
       "    }\n",
       "</style>\n",
       "<table border=\"1\" class=\"dataframe\">\n",
       "  <thead>\n",
       "    <tr style=\"text-align: right;\">\n",
       "      <th></th>\n",
       "      <th>include</th>\n",
       "      <th>values</th>\n",
       "      <th>level</th>\n",
       "      <th>done</th>\n",
       "      <th>id</th>\n",
       "      <th>group</th>\n",
       "      <th>item</th>\n",
       "      <th>description</th>\n",
       "      <th>related</th>\n",
       "      <th>see also</th>\n",
       "      <th>...</th>\n",
       "      <th>lifeform_description</th>\n",
       "      <th>climate_description</th>\n",
       "      <th>accepted_plant_name_id</th>\n",
       "      <th>basionym_plant_name_id</th>\n",
       "      <th>replaced_synonym_author</th>\n",
       "      <th>homotypic_synonym</th>\n",
       "      <th>parent_plant_name_id</th>\n",
       "      <th>powo_id</th>\n",
       "      <th>hybrid_formula</th>\n",
       "      <th>reviewed</th>\n",
       "    </tr>\n",
       "  </thead>\n",
       "  <tbody>\n",
       "    <tr>\n",
       "      <th>0</th>\n",
       "      <td>in</td>\n",
       "      <td>76.0</td>\n",
       "      <td>Basic</td>\n",
       "      <td>yes</td>\n",
       "      <td>NaN</td>\n",
       "      <td>NaN</td>\n",
       "      <td>allspice</td>\n",
       "      <td>The dried unripe berries of a small Caribbean ...</td>\n",
       "      <td>Bay rum tree</td>\n",
       "      <td>wild allspice</td>\n",
       "      <td>...</td>\n",
       "      <td>tree</td>\n",
       "      <td>seasonally dry tropical</td>\n",
       "      <td>156136</td>\n",
       "      <td>132459</td>\n",
       "      <td>NaN</td>\n",
       "      <td>NaN</td>\n",
       "      <td>156124</td>\n",
       "      <td>196799-2</td>\n",
       "      <td>NaN</td>\n",
       "      <td>Y</td>\n",
       "    </tr>\n",
       "    <tr>\n",
       "      <th>1</th>\n",
       "      <td>in</td>\n",
       "      <td>49.0</td>\n",
       "      <td>Basic</td>\n",
       "      <td>NaN</td>\n",
       "      <td>NaN</td>\n",
       "      <td>NaN</td>\n",
       "      <td>angelica</td>\n",
       "      <td>The scented stems and roots of a medicinal pla...</td>\n",
       "      <td>NaN</td>\n",
       "      <td>NaN</td>\n",
       "      <td>...</td>\n",
       "      <td>perennial</td>\n",
       "      <td>temperate</td>\n",
       "      <td>2638995</td>\n",
       "      <td>NaN</td>\n",
       "      <td>NaN</td>\n",
       "      <td>NaN</td>\n",
       "      <td>2638971</td>\n",
       "      <td>837560-1</td>\n",
       "      <td>NaN</td>\n",
       "      <td>N</td>\n",
       "    </tr>\n",
       "    <tr>\n",
       "      <th>2</th>\n",
       "      <td>in</td>\n",
       "      <td>66.0</td>\n",
       "      <td>Basic</td>\n",
       "      <td>NaN</td>\n",
       "      <td>NaN</td>\n",
       "      <td>NaN</td>\n",
       "      <td>anise</td>\n",
       "      <td>The seed-like fruits of a Mediterranean herb</td>\n",
       "      <td>fennel</td>\n",
       "      <td>star anise</td>\n",
       "      <td>...</td>\n",
       "      <td>annual</td>\n",
       "      <td>temperate</td>\n",
       "      <td>2402426</td>\n",
       "      <td>NaN</td>\n",
       "      <td>NaN</td>\n",
       "      <td>NaN</td>\n",
       "      <td>2402470</td>\n",
       "      <td>846658-1</td>\n",
       "      <td>NaN</td>\n",
       "      <td>N</td>\n",
       "    </tr>\n",
       "    <tr>\n",
       "      <th>3</th>\n",
       "      <td>in</td>\n",
       "      <td>66.0</td>\n",
       "      <td>Basic</td>\n",
       "      <td>NaN</td>\n",
       "      <td>NaN</td>\n",
       "      <td>NaN</td>\n",
       "      <td>asafoetida</td>\n",
       "      <td>The dried resin of Ferula foetida and F. assa-...</td>\n",
       "      <td>NaN</td>\n",
       "      <td>NaN</td>\n",
       "      <td>...</td>\n",
       "      <td>perennial</td>\n",
       "      <td>temperate</td>\n",
       "      <td>2808419</td>\n",
       "      <td>2479171</td>\n",
       "      <td>NaN</td>\n",
       "      <td>NaN</td>\n",
       "      <td>2808299</td>\n",
       "      <td>842277-1</td>\n",
       "      <td>NaN</td>\n",
       "      <td>N</td>\n",
       "    </tr>\n",
       "    <tr>\n",
       "      <th>4</th>\n",
       "      <td>in</td>\n",
       "      <td>55.0</td>\n",
       "      <td>Basic</td>\n",
       "      <td>NaN</td>\n",
       "      <td>NaN</td>\n",
       "      <td>NaN</td>\n",
       "      <td>caraway</td>\n",
       "      <td>The seed-like fruits of an Eurasian herb</td>\n",
       "      <td>NaN</td>\n",
       "      <td>NaN</td>\n",
       "      <td>...</td>\n",
       "      <td>perennial</td>\n",
       "      <td>temperate</td>\n",
       "      <td>2701499</td>\n",
       "      <td>NaN</td>\n",
       "      <td>NaN</td>\n",
       "      <td>NaN</td>\n",
       "      <td>2701447</td>\n",
       "      <td>839677-1</td>\n",
       "      <td>NaN</td>\n",
       "      <td>N</td>\n",
       "    </tr>\n",
       "  </tbody>\n",
       "</table>\n",
       "<p>5 rows × 152 columns</p>\n",
       "</div>"
      ],
      "text/plain": [
       "  include  values  level done   id group        item  \\\n",
       "0      in    76.0  Basic  yes  NaN   NaN    allspice   \n",
       "1      in    49.0  Basic  NaN  NaN   NaN    angelica   \n",
       "2      in    66.0  Basic  NaN  NaN   NaN       anise   \n",
       "3      in    66.0  Basic  NaN  NaN   NaN  asafoetida   \n",
       "4      in    55.0  Basic  NaN  NaN   NaN     caraway   \n",
       "\n",
       "                                         description       related  \\\n",
       "0  The dried unripe berries of a small Caribbean ...  Bay rum tree   \n",
       "1  The scented stems and roots of a medicinal pla...           NaN   \n",
       "2       The seed-like fruits of a Mediterranean herb        fennel   \n",
       "3  The dried resin of Ferula foetida and F. assa-...           NaN   \n",
       "4           The seed-like fruits of an Eurasian herb           NaN   \n",
       "\n",
       "        see also  ... lifeform_description      climate_description  \\\n",
       "0  wild allspice  ...                 tree  seasonally dry tropical   \n",
       "1            NaN  ...            perennial                temperate   \n",
       "2     star anise  ...               annual                temperate   \n",
       "3            NaN  ...            perennial                temperate   \n",
       "4            NaN  ...            perennial                temperate   \n",
       "\n",
       "  accepted_plant_name_id basionym_plant_name_id replaced_synonym_author  \\\n",
       "0                 156136                 132459                     NaN   \n",
       "1                2638995                    NaN                     NaN   \n",
       "2                2402426                    NaN                     NaN   \n",
       "3                2808419                2479171                     NaN   \n",
       "4                2701499                    NaN                     NaN   \n",
       "\n",
       "  homotypic_synonym parent_plant_name_id   powo_id hybrid_formula reviewed  \n",
       "0               NaN               156124  196799-2            NaN        Y  \n",
       "1               NaN              2638971  837560-1            NaN        N  \n",
       "2               NaN              2402470  846658-1            NaN        N  \n",
       "3               NaN              2808299  842277-1            NaN        N  \n",
       "4               NaN              2701447  839677-1            NaN        N  \n",
       "\n",
       "[5 rows x 152 columns]"
      ]
     },
     "execution_count": 73,
     "metadata": {},
     "output_type": "execute_result"
    }
   ],
   "source": [
    "# Assign\n",
    "df_items = df.copy()\n",
    "df.head()"
   ]
  },
  {
   "cell_type": "code",
   "execution_count": 74,
   "metadata": {},
   "outputs": [],
   "source": [
    "# Subsetting categories (spices, herbs, incense)\n",
    "# df_spices = df.loc[(df['id'] == \"S\")]\n",
    "# print(df_spices.shape[0])\n",
    "# df_herbs = df.loc[(df['id'] == \"H\")]\n",
    "# print(df_herbs.shape[0])\n",
    "# df_incense = df.loc[(df['id'] == \"I\")]\n",
    "# print(df_incense.shape[0])"
   ]
  },
  {
   "cell_type": "markdown",
   "metadata": {},
   "source": [
    "## Images"
   ]
  },
  {
   "cell_type": "code",
   "execution_count": 75,
   "metadata": {},
   "outputs": [],
   "source": [
    "# # Download images from Unsplash and Pexels to be curated later, query with underscores\n",
    "# item = \"allspice\"\n",
    "# dashed_key = re.sub(\" \", \"-\", item)\n",
    "# unsplash_downloader(dashed_key, path_downloaded_photos)\n",
    "# pexels_downloader(item, path_downloaded_photos)\n",
    "\n",
    "# # Move images to the right folder, regardless of extension\n",
    "# move_dir(path_downloaded_photos, website_photos, \"*.png\")\n",
    "# move_dir(path_downloaded_photos, website_photos, \"*.jpg\")\n",
    "# move_dir(path_downloaded_photos, website_photos, \"*.jpeg\")"
   ]
  },
  {
   "cell_type": "code",
   "execution_count": 76,
   "metadata": {},
   "outputs": [],
   "source": [
    "# Create thumbnails for images\n",
    "for photo in list_files(\"../static/images/photos\"):\n",
    "    create_thumbnail(photo)"
   ]
  },
  {
   "cell_type": "code",
   "execution_count": 77,
   "metadata": {},
   "outputs": [],
   "source": [
    "# Images df\n",
    "# # Define the relative folder path\n",
    "# folder_path = '../static/images/photos'\n",
    "\n",
    "# # List of keys\n",
    "# list_of_keys.sort()\n",
    "\n",
    "# # Initialize item_info dictionary\n",
    "# item_info = {}  # Dictionary to store item information\n",
    "\n",
    "# # Initialize item counts, extensions, file names, and sources to empty lists for each item\n",
    "# for item in list_of_keys:\n",
    "#     item_info[item] = {'count': 0, 'extensions': [], 'file_names': [], 'sources': []}\n",
    "\n",
    "# # Iterate through the files in the folder\n",
    "# for filename in os.listdir(folder_path):\n",
    "#     if os.path.isfile(os.path.join(folder_path, filename)):\n",
    "#         # Extract the item name, extension, file name, and source from the file name\n",
    "#         item_name = filename.split('-')[0]\n",
    "#         extension = filename.split('.')[-1]\n",
    "#         file_name = filename\n",
    "#         source = filename.split('-')[2] if len(filename.split('-')) > 2 else \"\"\n",
    "#         # Remove the file extension from the source\n",
    "#         source = source.split('.')[0]\n",
    "        \n",
    "#         # Check if the item name is in the list_of_items\n",
    "#         if item_name in list_of_keys:\n",
    "#             item_info[item_name]['count'] += 1\n",
    "#             item_info[item_name]['extensions'].append(extension)\n",
    "#             item_info[item_name]['file_names'].append(file_name)\n",
    "#             item_info[item_name]['sources'].append(source)\n",
    "\n",
    "# # Create a Pandas DataFrame from the item_info dictionary\n",
    "# data = {'key': [], 'count': [], 'source': [], 'extension': []}\n",
    "# for item, info in item_info.items():\n",
    "#     data['key'].append(item)\n",
    "#     data['count'].append(info['count'])\n",
    "#     data['source'].append(', '.join(info['sources']))\n",
    "#     data['extension'].append(', '.join(info['extensions']))\n",
    "\n",
    "# df = pd.DataFrame(data)\n",
    "\n",
    "# # Fill in missing items with 0 image counts and empty sources, extensions\n",
    "# for item in list_of_keys:\n",
    "#     if item not in df['key'].values:\n",
    "#         df = df.append({'key': item, 'count': 0, 'source': '', 'extension': ''}, ignore_index=True)\n",
    "\n",
    "# # Reorder the DataFrame with columns 'item', 'count', 'source', 'extension'\n",
    "# df = df[['key', 'count', 'source', 'extension']]\n",
    "\n",
    "# # Sort the DataFrame by 'item'\n",
    "# df = df.sort_values(by='key')\n",
    "\n",
    "# # Reset the index of the DataFrame\n",
    "# df = df.reset_index(drop=True)\n",
    "\n",
    "# # Rename the columns\n",
    "# df.rename(columns={'count': 'img_count', 'source': 'img_source', 'extension': 'img_extension'}, inplace=True)\n",
    "\n",
    "# # Save\n",
    "# df_images = df.copy()\n",
    "\n",
    "# # Display the final DataFrame\n",
    "# print(df)\n",
    "\n",
    "# # Merge the two dataframes\n",
    "# df_items = pd.merge(df_items, df_images, on='key', how='left')"
   ]
  },
  {
   "cell_type": "markdown",
   "metadata": {},
   "source": [
    "## Names"
   ]
  },
  {
   "cell_type": "code",
   "execution_count": 78,
   "metadata": {},
   "outputs": [],
   "source": [
    "# # Read and store content of an excel file \n",
    "# df = pd.read_excel(path_in+\"names.xlsx\")\n",
    "\n",
    "# # Write the dataframe object into csv file\n",
    "# df.to_csv (path_in+\"names.csv\", index = None, header=True)\n",
    "\n",
    "# # Load in dataset of names\n",
    "# df = pd.read_csv(path_in+'names.csv', header =[0], delimiter=',', encoding=\"utf-8\")\n",
    "\n",
    "# # Select ones to include\n",
    "# df = df.loc[df['include'] == 'yes'] # include ones to include"
   ]
  },
  {
   "cell_type": "code",
   "execution_count": 79,
   "metadata": {},
   "outputs": [],
   "source": [
    "# # Change NaN to empty string\n",
    "# df.fillna('', inplace=True)\n",
    "\n",
    "# # Info\n",
    "# print(df.shape[0], \"names in total.\")\n",
    "\n",
    "# # Assign\n",
    "# df_names = df.copy()"
   ]
  },
  {
   "cell_type": "markdown",
   "metadata": {},
   "source": [
    "## Etymologies"
   ]
  },
  {
   "cell_type": "code",
   "execution_count": 80,
   "metadata": {},
   "outputs": [
    {
     "name": "stdout",
     "output_type": "stream",
     "text": [
      "84 words in total\n",
      "['tester', 'allspice', 'fulful ifranji', 'duoxiangguo', 'pimento', 'anise', 'anisun', 'huiqin', 'asafoetida', 'hing', 'hiltit', 'anjudan', 'awei', 'xingqu', 'caraway', 'karawiya', 'geluzi', 'cardamom', 'amomum', 'hal', 'qaqulla', 'doukou', 'cassia', 'salikha', 'rougui', 'cinnamon', 'darsini', 'qirfa', 'chile', 'fulful harr', 'lajiao', 'paprika', 'clove', 'qaranful', 'dingxiang', 'coriander', 'kuzbura', 'yansui', 'husui', 'cumin', 'kammun', 'ziran', 'dill', 'shibitt', 'shiluo', 'fennel', 'shamar', 'huixiang', 'fenugreek', 'hulba', 'huluba', 'ginger', 'zanjabil', 'jiang', 'long pepper', 'darfilfil', 'biba', 'mace', 'basbas', 'roudoukoupi', 'nutmeg', 'jawz al-tib', 'roudoukou', 'pepper', 'fulful', 'hujiao', 'bors', 'saffron', 'zafaran', 'fanhonghua', 'Sichuan pepper', 'fagara', 'fulful sitshuwan', 'huajiao', 'star anise', 'yansun najmi', 'bajiaohuixiang', 'badian', 'turmeric', 'kurkum', 'jianghuang', 'vanilla', 'faniliya', 'xiangcao']\n"
     ]
    },
    {
     "name": "stderr",
     "output_type": "stream",
     "text": [
      "c:\\Users\\gparti\\anaconda3\\envs\\work\\lib\\site-packages\\numpy\\core\\fromnumeric.py:59: FutureWarning:\n",
      "\n",
      "'DataFrame.swapaxes' is deprecated and will be removed in a future version. Please use 'DataFrame.transpose' instead.\n",
      "\n"
     ]
    }
   ],
   "source": [
    "# Read and store content of an excel file \n",
    "read_file = pd.read_excel(path_in+\"etymologies.xlsx\")\n",
    "\n",
    "# Write the dataframe object into csv file\n",
    "read_file.to_csv (path_in+\"etymologies.csv\", index = None, header=True)\n",
    "\n",
    "# Load in dataset\n",
    "df_etymologies=pd.read_csv(path_in+'etymologies.csv', header =[0], delimiter=',', encoding=\"utf-8\")\n",
    "\n",
    "# Split the dataset wherever an empty row is found\n",
    "df_list_with_na = np.split(df_etymologies, df_etymologies[df_etymologies.isnull().all(1)].index)\n",
    "\n",
    "# Drop NAs and reset the index\n",
    "df_list = []\n",
    "for df in df_list_with_na:\n",
    "  df = df.dropna(how='all')\n",
    "  df.reset_index(inplace=True, drop=True)\n",
    "  df_list.append(df)\n",
    "\n",
    "# Automatically extract IDs from the dataset\n",
    "list_of_etymologies = []\n",
    "for df in df_list:\n",
    "  # print(df['item'].iloc[0])\n",
    "  df = df.dropna(how='all')\n",
    "  df.reset_index(drop=True)\n",
    "  item = str(df['item'].iloc[0])\n",
    "  list_of_etymologies.append(item)\n",
    "\n",
    "# Print the number if IDs and what are they\n",
    "length = len(df_list)\n",
    "print(length, \"words in total\")\n",
    "print(list_of_etymologies)\n",
    "\n",
    "#Create a defaultdict of spice-word etymologies\n",
    "etymologies=defaultdict(list)\n",
    "for i in range(length):\n",
    "  etymologies[list_of_etymologies[i]]=df_list[i]\n",
    "\n",
    "# Testing\n",
    "# print(etymologies['saffron'])"
   ]
  },
  {
   "cell_type": "markdown",
   "metadata": {},
   "source": [
    "### Etymology box for LaTeX"
   ]
  },
  {
   "cell_type": "code",
   "execution_count": 81,
   "metadata": {},
   "outputs": [],
   "source": [
    "# key = \"tester\"\n",
    "\n",
    "# ################################################################################\n",
    "\n",
    "# # The following code will create an etymology box environment for the key, to be used in LaTeX\n",
    "# print(\"Started the generation of '\" + key + \"' as etymbox...\")\n",
    "\n",
    "# df_local = etymologies[key]\n",
    "# # df_local.fillna('', inplace=True)\n",
    "\n",
    "# # # Skipping those marked\n",
    "# df_local = df_local[df_local['boxskip'] != 'yes']\n",
    "# df_local.reset_index(inplace=True, drop=True)\n",
    "\n",
    "# # # Replace empty cells with NaNs\n",
    "# # df_local.replace(r'^\\s*$', np.nan, regex=True, inplace=True)\n",
    "# # df_local.replace(r'^nan$', np.nan, regex=True, inplace=True)\n",
    "\n",
    "# # Create content and sources stage by stage\n",
    "# content = \"\"\n",
    "# source = \"\"\n",
    "# sources = \"\"\n",
    "# source_list = []\n",
    "# nl = \"\\n\"\n",
    "\n",
    "# for index, row in df_local.iterrows():\n",
    "#   stage = \"< \"\n",
    "#   if pd.notna(row['complex']): # complex relationships\n",
    "#     row['complex'] = re.sub(\"and from\", \"+\", row['complex'])\n",
    "#     stage += row['complex'] + \" \"\n",
    "#   if pd.notna(row['language']): # language\n",
    "#     stage += \"\\\\textbf{\" + row['language'] + \"} \"\n",
    "#   if pd.notna(row['script']): # script\n",
    "#     script = \"{\" + row['script'] + \"} \"\n",
    "#     if row['language'] == 'Chinese':\n",
    "#       script = \"\\\\tc{\" + row['script'] + \"} \"\n",
    "#     stage += script\n",
    "#   if pd.notna(row['term']): # term\n",
    "#     stage += \"\\\\textit{\" + row['term'] + \"} \"\n",
    "#   if pd.notna(row['IPA']): # IPA\n",
    "#     stage += row['IPA'] + \" \"\n",
    "#   if pd.notna(row['meaning']): # meaning\n",
    "#     stage += \"`\" + row['meaning'] + \"' \"\n",
    "#   if pd.notna(row['literal']): # literal meaning\n",
    "#     stage += \"[\" + row['literal'] + \"] \"\n",
    "#   stage = re.sub(' $', '', stage)\n",
    "#   stage += \", \"\n",
    "#   if pd.notna(row['explanation']): # explanation\n",
    "#     stage += row['explanation'] + \" \"\n",
    "#   if pd.notna(row['remark']): # remark\n",
    "#     stage += \"(\" + row['remark'] + \") \"\n",
    "#   stage = re.sub(',? ?$', '', stage)\n",
    "\n",
    "#   if pd.notna(row['date']): # dates\n",
    "#     stage += \", \"\n",
    "#     row['date'] = re.sub('a(?=\\d)', 'a. ', row['date'])\n",
    "#     row['date'] = re.sub('c(?=\\d)', 'ca. ', row['date'])\n",
    "#     if re.match('^-\\d\\d?$', row['date']): # if is a century BC\n",
    "#       row['date'] = re.sub(\"-\", \"\", row['date'])\n",
    "#       date = \"\\\\nth{\" + row['date'] + \"} c. \\BC{}\" # ARAB NUMERALS\n",
    "#       # date = \" \" + roman(row['date']) + \" \\BC{}\" # ROMAN NUMERALS\n",
    "#     elif re.match('^\\d\\d?$', row['date']): # if is a century AD\n",
    "#       date = \"\\\\nth{\" + row['date'] + \"} c. \\AD{}\" # ARAB NUMERALS\n",
    "#       # date = \" \" + roman(row['date']) + \" \\AD{}\" # ROMAN NUMERALS\n",
    "#     else:\n",
    "#       date = row['date'] + \" \" # if it's a year\n",
    "#     stage += date\n",
    "#     stage = re.sub(',? ?$', '', stage)\n",
    "#   if pd.notna(row['cognates']): # cognates\n",
    "#     stage += \"; cf. cognates \" + row['cognates'] + \" \"\n",
    "#   if pd.notna(row['derivates']): # cognates\n",
    "#     if pd.notna(row['cognates']):\n",
    "#       stage = re.sub(' $', '', stage)\n",
    "#       stage += \"; \" + row['derivates'] + \" \"\n",
    "#     else:\n",
    "#       stage = re.sub(' $', '', stage)\n",
    "#       stage += \"; cf. \" + row['derivates'] + \" \"\n",
    "#   stage = re.sub(',? ?$', '', stage)\n",
    "#   # stage = re.sub('cf\\..*?(cf\\.)', '', stage)\n",
    "\n",
    "# # Final touches\n",
    "#   if row['doubt'] == 'yes':\n",
    "#     stage = re.sub(r'<', '<\\\\\\\\textss{?}', stage) # ???\n",
    "#   if row['complex'] == '+':\n",
    "#     stage = re.sub('<', '', stage)\n",
    "#   if row['complex'] == 'or from':\n",
    "#     stage = re.sub('<', '', stage)\n",
    "#   content += stage + nl\n",
    "\n",
    "# # Sources\n",
    "#   source=\"\"\n",
    "#   if pd.notna(row['source zotero']):\n",
    "#     source = row['source zotero']\n",
    "#     print(\"1\",source)\n",
    "#     if '{' in source:\n",
    "#       source = \"s\" + row['source zotero'].lower()\n",
    "#       print(source)\n",
    "#     else:\n",
    "#       source = \"{\" + row['source zotero'].lower() + \"}\"\n",
    "#       print(source)\n",
    "#     if pd.notna(row['source page']):\n",
    "#       source = \"[\" + str(row['source page']) + \"]{\" + row['source zotero'].lower() + \"}\"\n",
    "#       print(\"4\",source)\n",
    "#       if row['source page'].isalpha() == True:\n",
    "#         source = \"[s.v. \" + str(row['source page']) + \"]{\" + row['source zotero'].lower() + \"}\"\n",
    "#         print(\"5\",source)\n",
    "#     source = \"\\\\textcite\" + source\n",
    "#   print(source)\n",
    "#   source_list.append(source)\n",
    "\n",
    "# # clear duplicates from sources:\n",
    "# print(\"SL1: \", source_list)\n",
    "# # source_set = sorted(set(source_list), key=source_list.index)\n",
    "# source_set = set(source_list)\n",
    "# print(\"SS2: \", source_set)\n",
    "# source_list2 = list(source_set)\n",
    "# print(\"S3: \", source_list2)\n",
    "# sources_unduplicated = '; '.join(source_list2)\n",
    "# print(\"S4: \", sources_unduplicated)\n",
    "# # test for duplicates\n",
    "# newlist = [] # empty list to hold unique elements from the list\n",
    "# duplist = [] # empty list to hold the duplicate elements from the list\n",
    "# for i in source_list:\n",
    "#     if i not in newlist:\n",
    "#         newlist.append(i)\n",
    "#     else:\n",
    "#         duplist.append(i) # this method catches the first duplicate entries, and appends them to the list\n",
    "\n",
    "# # The next stage is to print the duplicate entries, and the unique entries\n",
    "# print(\"List of duplicates\", duplist)\n",
    "# print(\"Unique Item List\", newlist) \n",
    "# if len(duplist) > 0:\n",
    "#   # print(\"UNDUPL\")\n",
    "#   sources = sources_unduplicated\n",
    "# else:\n",
    "#   # print(\"ORI\")\n",
    "#   sources =  '; '.join(source_list)\n",
    "# # print(\"S5: \", sources)\n",
    "\n",
    "# sources =  '; '.join(source_list)\n",
    "\n",
    "# # Cleaning\n",
    "# sources = re.sub(\"; $\", \"\", sources)\n",
    "# sources = re.sub(\"^; \", \"\", sources)\n",
    "# sources = re.sub(\"(; )+\", \"; \", sources)\n",
    "# sources = \"\\\\footnote{\" + sources + \"}\\n\"\n",
    "\n",
    "# content = re.sub(\"\\n$\", \"\", content)\n",
    "# content = re.sub(r\"^< \", \"\", content) # delete the first <\n",
    "# content = re.sub(r\"\\n,\", \",\", content)\n",
    "# content = re.sub(r\" nan \", \" \", content)\n",
    "# content = re.sub(\"(<\\.\\n?)+$\", \"\", content)\n",
    "\n",
    "# content += sources\n",
    "\n",
    "# env_begin = r\"\\begin{etymology}\" + \"\\label{ety:\" + df_local['item'].iloc[0] + \"}\" + nl \n",
    "# env_end = r\"\\end{etymology}\"\n",
    "\n",
    "# box = env_begin + content + env_end\n",
    "# box = re.sub(r\"\\u200e\", \"\", box) #removes right to left mark\n",
    "\n",
    "# # Save the spicebox as a standalone tex file\n",
    "\n",
    "# filename = re.sub(\" \", \"_\", key)\n",
    "# filename = filename.lower()\n",
    "# f = open(path_out_tex + \"{}.tex\".format(\"etymbox_\" + filename), \"w\", encoding='utf-8')\n",
    "# f.write(box)\n",
    "# f.close()\n",
    "# print(\"Etymology-box '\" + str(key) + \"' as a tex file was created.\")\n",
    "# box\n"
   ]
  },
  {
   "cell_type": "code",
   "execution_count": 82,
   "metadata": {},
   "outputs": [],
   "source": [
    "# def etymbox(key):\n",
    "  \n",
    "#   # The following code will create a etymology box environment for the key, to be used in LaTeX\n",
    "#   print(\"Started the generation of '\" + key + \"' as etymbox...\")\n",
    "\n",
    "#   df_local = etymologies[key]\n",
    "#   # df_local.fillna('', inplace=True)\n",
    "\n",
    "#   # # Skipping those marked\n",
    "#   df_local = df_local[df_local['boxskip'] != 'yes']\n",
    "#   df_local.reset_index(inplace=True, drop=True)\n",
    "\n",
    "#   # # Replace empty cells with NaNs\n",
    "#   # df_local.replace(r'^\\s*$', np.nan, regex=True, inplace=True)\n",
    "#   # df_local.replace(r'^nan$', np.nan, regex=True, inplace=True)\n",
    "\n",
    "#   # Create content and sources stage by stage\n",
    "#   content = \"\"\n",
    "#   source = \"\"\n",
    "#   sources = \"\"\n",
    "#   source_list = []\n",
    "#   nl = \"\\n\"\n",
    "\n",
    "#   for index, row in df_local.iterrows():\n",
    "#     stage = \"< \"\n",
    "#     if pd.notna(row['complex']): # complex relationships\n",
    "#       row['complex'] = re.sub(\"and from\", \"+\", row['complex'])\n",
    "#       stage += row['complex'] + \" \"\n",
    "#     if pd.notna(row['language']): # language\n",
    "#       stage += \"\\\\textbf{\" + row['language'] + \"} \"\n",
    "#     if pd.notna(row['script']): # script\n",
    "#       script = \"{\" + row['script'] + \"} \"\n",
    "#       if row['language'] == 'Chinese':\n",
    "#         script = \"\\\\tc{\" + row['script'] + \"} \"\n",
    "#       stage += script\n",
    "#     if pd.notna(row['term']): # term\n",
    "#       stage += \"\\\\textit{\" + row['term'] + \"} \"\n",
    "#     if pd.notna(row['IPA']): # IPA\n",
    "#       stage += row['IPA'] + \" \"\n",
    "#     if pd.notna(row['meaning']): # meaning\n",
    "#       stage += \"`\" + row['meaning'] + \"' \"\n",
    "#     if pd.notna(row['literal']): # literal meaning\n",
    "#       stage += \"[\" + row['literal'] + \"] \"\n",
    "#     stage = re.sub(' $', '', stage)\n",
    "#     stage += \", \"\n",
    "#     if pd.notna(row['explanation']): # explanation\n",
    "#       stage += row['explanation'] + \" \"\n",
    "#     if pd.notna(row['remark']): # remark\n",
    "#       stage += \"(\" + row['remark'] + \") \"\n",
    "#     stage = re.sub(',? ?$', '', stage)\n",
    "\n",
    "#     if pd.notna(row['date']): # dates\n",
    "#       stage += \", \"\n",
    "#       row['date'] = re.sub('a(?=\\d)', 'a. ', row['date'])\n",
    "#       row['date'] = re.sub('c(?=\\d)', 'ca. ', row['date'])\n",
    "#       if re.match('^-\\d\\d?$', row['date']): # if is a century BC\n",
    "#         row['date'] = re.sub(\"-\", \"\", row['date'])\n",
    "#         date = \"\\\\nth{\" + row['date'] + \"} c. \\BC{}\" # ARAB NUMERALS\n",
    "#         # date = \" \" + roman(row['date']) + \" \\BC{}\" # ROMAN NUMERALS\n",
    "#       elif re.match('^\\d\\d?$', row['date']): # if is a century AD\n",
    "#         date = \"\\\\nth{\" + row['date'] + \"} c. \\AD{}\" # ARAB NUMERALS\n",
    "#         # date = \" \" + roman(row['date']) + \" \\AD{}\" # ROMAN NUMERALS\n",
    "#       else:\n",
    "#         date = row['date'] + \" \" # if it's a year\n",
    "#       stage += date\n",
    "#       stage = re.sub(',? ?$', '', stage)\n",
    "#     if pd.notna(row['cognates']): # cognates\n",
    "#       stage += \"; cf. cognates \" + row['cognates'] + \" \"\n",
    "#     if pd.notna(row['derivates']): # cognates\n",
    "#       if pd.notna(row['cognates']):\n",
    "#         stage = re.sub(' $', '', stage)\n",
    "#         stage += \"; \" + row['derivates'] + \" \"\n",
    "#       else:\n",
    "#         stage = re.sub(' $', '', stage)\n",
    "#         stage += \"; cf. \" + row['derivates'] + \" \"\n",
    "#     stage = re.sub(',? ?$', '', stage)\n",
    "#     # stage = re.sub('cf\\..*?(cf\\.)', '', stage)\n",
    "\n",
    "#   # Final touches\n",
    "#     if row['doubt'] == 'yes':\n",
    "#       stage = re.sub(r'<', '<\\\\\\\\textss{?}', stage) # ???\n",
    "#     if row['complex'] == '+':\n",
    "#       stage = re.sub('<', '', stage)\n",
    "#     if row['complex'] == 'or from':\n",
    "#       stage = re.sub('<', '', stage)\n",
    "#     content += stage + nl\n",
    "\n",
    "#   # Sources\n",
    "#     source=\"\"\n",
    "#     if pd.notna(row['source zotero']):\n",
    "#       source = row['source zotero']\n",
    "#       # print(source)\n",
    "#       if '{' in source:\n",
    "#         source = \"s\" + row['source zotero'].lower()\n",
    "#         # print(source)\n",
    "#       else:\n",
    "#         source = \"{\" + row['source zotero'].lower() + \"}\"\n",
    "#         # print(source)\n",
    "#       if pd.notna(row['source page']):\n",
    "#         source = \"[\" + str(row['source page']) + \"]{\" + row['source zotero'].lower() + \"}\"\n",
    "#         # print(source)\n",
    "#         if row['source page'].isalpha() == True:\n",
    "#           source = \"[s.v. \" + str(row['source page']) + \"]{\" + row['source zotero'].lower() + \"}\"\n",
    "#           # print(source)\n",
    "#       source = \"\\\\textcite\" + source\n",
    "#     # print(source)\n",
    "#     source_list.append(source)\n",
    "\n",
    "#   # clear duplicates from sources:\n",
    "#   # print(\"SL1: \", source_list)\n",
    "#   # source_set = sorted(set(source_list), key=source_list.index)\n",
    "#   source_set = set(source_list)\n",
    "#   # print(\"SS2: \", source_set)\n",
    "#   source_list2 = list(source_set)\n",
    "#   # print(\"S3: \", source_list2)\n",
    "#   sources_unduplicated = '; '.join(source_list2)\n",
    "#   # print(\"S4: \", sources_unduplicated)\n",
    "#   # test for duplicates\n",
    "#   newlist = [] # empty list to hold unique elements from the list\n",
    "#   duplist = [] # empty list to hold the duplicate elements from the list\n",
    "#   for i in source_list:\n",
    "#       if i not in newlist:\n",
    "#           newlist.append(i)\n",
    "#       else:\n",
    "#           duplist.append(i) # this method catches the first duplicate entries, and appends them to the list\n",
    "#   # The next stage is to print the duplicate entries, and the unique entries\n",
    "#   # print(\"List of duplicates\", duplist)\n",
    "#   # print(\"Unique Item List\", newlist) \n",
    "#   if len(duplist) > 0:\n",
    "#     # print(\"UNDUPL\")\n",
    "#     sources = sources_unduplicated\n",
    "#   else:\n",
    "#     # print(\"ORI\")\n",
    "#     sources =  '; '.join(source_list)\n",
    "#   # print(\"S5: \", sources)\n",
    "\n",
    "#   sources =  '; '.join(source_list)\n",
    "\n",
    "#   # Cleaning\n",
    "#   sources = re.sub(\"; $\", \"\", sources)\n",
    "#   sources = re.sub(\"^; \", \"\", sources)\n",
    "#   sources = re.sub(\"(; )+\", \"; \", sources)\n",
    "#   sources = \"\\\\footnote{\" + sources + \"}\\n\"\n",
    "\n",
    "#   content = re.sub(\"\\n$\", \"\", content)\n",
    "#   content = re.sub(r\"^< \", \"\", content) # delete the first <\n",
    "#   content = re.sub(r\"\\n,\", \",\", content)\n",
    "#   content = re.sub(r\" nan \", \" \", content)\n",
    "#   content = re.sub(\"(<\\.\\n?)+$\", \"\", content)\n",
    "\n",
    "#   content += sources\n",
    "\n",
    "#   env_begin = r\"\\begin{etymology}\" + \"\\label{ety:\" + df_local['item'].iloc[0] + \"}\" + nl \n",
    "#   env_end = r\"\\end{etymology}\"\n",
    "\n",
    "#   box = env_begin + content + env_end\n",
    "#   box = re.sub(r\"\\u200e\", \"\", box) #removes right to left mark\n",
    "\n",
    "#   # Save the spicebox as a standalone tex file\n",
    "#   filename = re.sub(\" \", \"_\", key)\n",
    "#   filename = filename.lower()\n",
    "#   f = open(path_out_tex + \"{}.tex\".format(\"etymbox_\" + filename), \"w\", encoding='utf-8')  \n",
    "#   f.write(box)\n",
    "#   f.close()\n",
    "#   print(\"Etymology-box '\" + str(key) + \"' as a tex file was created.\")\n",
    "\n",
    "#   return box\n",
    "\n",
    "# etymbox(\"tester\")"
   ]
  },
  {
   "cell_type": "markdown",
   "metadata": {},
   "source": [
    "### Etymology box for Markdown"
   ]
  },
  {
   "cell_type": "code",
   "execution_count": 83,
   "metadata": {},
   "outputs": [
    {
     "name": "stdout",
     "output_type": "stream",
     "text": [
      "Started the generation of 'tester' as etymbox...\n"
     ]
    },
    {
     "data": {
      "text/plain": [
       "'**Language A** тест *test* /tɛst/ \\'meaning1\\' [literal1], explanation1 (remark1); cf. cognates cognates1; derivates derivates1\\n< **Language B** тестер *tester* /ˈtɛstə/ \\'meaning2\\' [literal2], explanation2, AD 12 c.; cf. cognates cognates2\\n< **Language C** тестинг *testing* /ˈtɛstɪŋ/ \\'meaning3\\' [literal3] (remark3), 9 c. BC; cf. derivates derivates3\\n< **Language D** тесте *teste* /ˈaltə/ \\'meaning4\\' [literal4], explanation4 (remark4); cf. cognates cognates4; derivates derivates4\\n {{< cite \"oed;wehr_dictionary_1976;wehr_dictionary_1976;liddell_greekenglish_1940;wehr_dictionary_1976;lewis_latin_1879;liddell_greekenglish_1940\" \"1;2-3;4;5;6;;7\" >}}'"
      ]
     },
     "execution_count": 83,
     "metadata": {},
     "output_type": "execute_result"
    }
   ],
   "source": [
    "def etymbox(e):\n",
    "\n",
    "  # The following code will create a etymology box environment for the key, to be used in Markdown\n",
    "  print(\"Started the generation of '\" + e + \"' as etymbox...\")\n",
    "\n",
    "  # Select word\n",
    "  df_local = etymologies[e]\n",
    "  # df_local.fillna('', inplace=True)\n",
    "\n",
    "  # Skipping those marked\n",
    "  df_local = df_local[df_local['skip'] != 'yes']\n",
    "  df_local.reset_index(inplace=True, drop=True)\n",
    "\n",
    "  # # Replace empty cells with NaNs\n",
    "  # df_local.replace(r'^\\s*$', np.nan, regex=True, inplace=True)\n",
    "  # df_local.replace(r'^nan$', np.nan, regex=True, inplace=True)\n",
    "\n",
    "  # Initialize\n",
    "  content = \"\"\n",
    "  sources = \"\"\n",
    "  source_pages = \"\"\n",
    "\n",
    "  # Iterate through a word's etymology dataframe (stage by stage = row by row)\n",
    "  for index, row in df_local.iterrows():\n",
    "    # Initialize stage, add an '<' if its not the first stage\n",
    "    if index == 0:\n",
    "      stage = \"\"\n",
    "    else:\n",
    "      stage = \"< \"\n",
    "    # If there are complex relations, add them (e.g., partly, and, or)\n",
    "    if pd.notna(row['complex']):\n",
    "      stage += row['complex'] + \" \"\n",
    "    # Add language (in bold)\n",
    "    if pd.notna(row['language']):\n",
    "      stage += \"**\" + row['language'] + \"** \"\n",
    "    # Add the term with native script (if exists)\n",
    "    if pd.notna(row['script']):\n",
    "      stage += row['script'] + \" \"\n",
    "    # Add the term with transcription (in italics)\n",
    "    if pd.notna(row['term']):\n",
    "      stage += \"*\" + row['term'] + \"* \"\n",
    "    # Add /IPA/\n",
    "    if pd.notna(row['IPA']):\n",
    "      stage += \"/\" + row['IPA'] + \"/ \"\n",
    "    # Add 'meaning', gloss\n",
    "    if pd.notna(row['meaning']):\n",
    "      stage += \"'\" + row['meaning'] + \"' \"\n",
    "    # Add the [literal meaning] if there is one\n",
    "    if pd.notna(row['literal']):\n",
    "      stage += \"[\" + row['literal'] + \"] \"\n",
    "    # Clear ending\n",
    "    stage = re.sub(' $', '', stage)\n",
    "    # Add explanation\n",
    "    if pd.notna(row['explanation']):\n",
    "      stage += \", \" + row['explanation'] + \" \"\n",
    "    # Add (remark)\n",
    "    if pd.notna(row['remark']):\n",
    "      stage += \" (\" + row['remark'] + \") \"\n",
    "    # Clear ending\n",
    "    stage = re.sub(\" +\", \" \", stage)\n",
    "    stage = re.sub(\",? ?$\", \"\", stage)\n",
    "\n",
    "    # Add date, if there is a date\n",
    "    if pd.notna(row['date']):\n",
    "      # If it's a year\n",
    "      date = row['date']\n",
    "\n",
    "    # Add century if there is no date\n",
    "    if pd.notna(row['century']) and pd.isna(row['date']):\n",
    "      \n",
    "      # If it's a century BC\n",
    "      if re.match('^-\\d\\d?\\??$', row['century']):\n",
    "        # Remove dash\n",
    "        row['century'] = re.sub(\"-\", \"\", row['century'])\n",
    "        # If there is question mark\n",
    "        if re.match('\\d\\?', row['century']):\n",
    "          # Remove the question mark\n",
    "          row['century'] = re.sub(\"\\?\", \"\", row['century'])\n",
    "          # Date BC\n",
    "          # date = roman(int(row['century'])) + \" BC?\" # ROMAN NUMERALS\n",
    "          date = row['century'] + \" c. BC?\" # ARAB NUMERALS\n",
    "        else:\n",
    "          # date = roman(int(row['century'])) + \" BC\" # ROMAN NUMERALS\n",
    "          date = row['century'] + \" c. BC\" # ARAB NUMERALS\n",
    "\n",
    "      # If it is a century AD\n",
    "      elif re.match('^\\d\\d?\\??$', row['century']):\n",
    "        # If there is question mark\n",
    "        if re.match('\\d\\?', row['century']):\n",
    "          # Remove the question mark\n",
    "          row['century'] = re.sub(\"\\?\", \"\", row['century'])\n",
    "          # Date AD\n",
    "          # date = \"AD \" + roman(int(row['century'])) + \"?\" # ROMAN NUMERALS\n",
    "          date = \"AD \" + row['century'] + \" c.\" # ARAB NUMERALS\n",
    "        else:\n",
    "          # date = \"AD \" + roman(int(row['century'])) # ROMAN NUMERALS\n",
    "          date = \"AD \" + row['century'] + \" c.\" # ARAB NUMERALS\n",
    "\n",
    "      # Add date to stage\n",
    "      stage += \", \" + date\n",
    "      \n",
    "    # Clear ending\n",
    "    stage = re.sub(',? ?$', '', stage)\n",
    "\n",
    "    # If both cognates and derivates\n",
    "    if pd.notna(row['cognates']) and pd.notna(row['derivates']):\n",
    "      stage += \"; cf. cognates \" + row['cognates'] + \"; derivates \" + row['derivates'] + \" \"\n",
    "    # If cognates only\n",
    "    if pd.notna(row['cognates']) and pd.isna(row['derivates']):\n",
    "      stage += \"; cf. cognates \" + row['cognates'] + \" \"\n",
    "    # If derivates only\n",
    "    if pd.notna(row['derivates']) and pd.isna(row['cognates']):\n",
    "      stage += \"; cf. derivates \" + row['derivates'] + \" \"\n",
    "    \n",
    "    # Clear ending\n",
    "    stage = re.sub(';?,? ?$', '', stage)\n",
    "\n",
    "    # If stage is doubtful, use '<?'\n",
    "    if row['doubt'] == 'yes':\n",
    "      stage = re.sub('<', '<\\?', stage)\n",
    "    # If stage is \"complex\", remove '<'\n",
    "    if pd.notna(row['complex']):\n",
    "      stage = re.sub('<', '', stage)\n",
    "\n",
    "    # # Sources (at each stage) A\n",
    "    # source = \"\"\n",
    "    # # If there is source (zotero), add\n",
    "    # if pd.notna(row['source']):\n",
    "    #   source = '\\\"' + row['source'] + '\\\"'\n",
    "    #   # If there is page, add\n",
    "    #   if pd.notna(row['source page']):\n",
    "    #     source = '\\\"' + str(row['source'].lower()) + '\\\" \\\"' + str(row['source page']) + '\\\"'\n",
    "    # # Add the Hugo shortcode syntax \n",
    "    # source = r' {{< cite ' + source + r' >}}'\n",
    "    # # Create content\n",
    "    # content += stage + source + \"\\n\"\n",
    "\n",
    "    # Sources (once in the end, removing duplicates) B\n",
    "    # If there is source (zotero), add\n",
    "    if pd.notna(row['source']):\n",
    "      sources += row['source'] + \";\"\n",
    "      # If there is page, add\n",
    "      if pd.notna(row['source page']):\n",
    "        source_pages += str(row['source page']) + \";\"\n",
    "      else:\n",
    "        source_pages += \";\"\n",
    "    # Create content\n",
    "    content += stage + \"\\n\"\n",
    "\n",
    "  # If using version B of sources\n",
    "  # Clean ending\n",
    "  sources = re.sub(';?$', '', sources)\n",
    "  source_pages = re.sub(';?$', '', source_pages)\n",
    "  # Add the Hugo-cite shortcode syntax \n",
    "  source = r' {{< cite \"' + sources + r'\" \"' + source_pages + r'\" >}}'\n",
    "  # Add source to content\n",
    "  content += source\n",
    "\n",
    "  # Cleaning\n",
    "  box = content\n",
    "  box = re.sub(r\"\\u200e\", \"\", box) # Removes right-to-left mark\n",
    "\n",
    "  # # Save the spicebox as a standalone markdown file (if ever needed)\n",
    "  # filename = re.sub(\" \", \"_\", key)\n",
    "  # filename = filename.lower()\n",
    "  # f = open(path_out_md + \"{}.md\".format(\"etymbox_\" + filename), \"w\", encoding='utf-8')  \n",
    "  # f.write(box)\n",
    "  # f.close()\n",
    "  # print(\"Etymology-box '\" + str(key) + \"' as a md file was created.\")\n",
    "\n",
    "  return box\n",
    "\n",
    "etymbox(\"tester\")"
   ]
  },
  {
   "cell_type": "code",
   "execution_count": 84,
   "metadata": {},
   "outputs": [
    {
     "name": "stdout",
     "output_type": "stream",
     "text": [
      "Started the generation of 'tester' as etymbox...\n",
      "Started the generation of 'allspice' as etymbox...\n",
      "Started the generation of 'fulful ifranji' as etymbox...\n",
      "Started the generation of 'duoxiangguo' as etymbox...\n",
      "Started the generation of 'pimento' as etymbox...\n",
      "Started the generation of 'anise' as etymbox...\n",
      "Started the generation of 'anisun' as etymbox...\n",
      "Started the generation of 'huiqin' as etymbox...\n",
      "Started the generation of 'asafoetida' as etymbox...\n",
      "Started the generation of 'hing' as etymbox...\n",
      "Started the generation of 'hiltit' as etymbox...\n",
      "Started the generation of 'anjudan' as etymbox...\n",
      "Started the generation of 'awei' as etymbox...\n",
      "Started the generation of 'xingqu' as etymbox...\n",
      "Started the generation of 'caraway' as etymbox...\n",
      "Started the generation of 'karawiya' as etymbox...\n",
      "Started the generation of 'geluzi' as etymbox...\n",
      "Started the generation of 'cardamom' as etymbox...\n",
      "Started the generation of 'amomum' as etymbox...\n",
      "Started the generation of 'hal' as etymbox...\n",
      "Started the generation of 'qaqulla' as etymbox...\n",
      "Started the generation of 'doukou' as etymbox...\n",
      "Started the generation of 'cassia' as etymbox...\n",
      "Started the generation of 'salikha' as etymbox...\n",
      "Started the generation of 'rougui' as etymbox...\n",
      "Started the generation of 'cinnamon' as etymbox...\n",
      "Started the generation of 'darsini' as etymbox...\n",
      "Started the generation of 'qirfa' as etymbox...\n",
      "Started the generation of 'chile' as etymbox...\n",
      "Started the generation of 'fulful harr' as etymbox...\n",
      "Started the generation of 'lajiao' as etymbox...\n",
      "Started the generation of 'paprika' as etymbox...\n",
      "Started the generation of 'clove' as etymbox...\n",
      "Started the generation of 'qaranful' as etymbox...\n",
      "Started the generation of 'dingxiang' as etymbox...\n",
      "Started the generation of 'coriander' as etymbox...\n",
      "Started the generation of 'kuzbura' as etymbox...\n",
      "Started the generation of 'yansui' as etymbox...\n",
      "Started the generation of 'husui' as etymbox...\n",
      "Started the generation of 'cumin' as etymbox...\n",
      "Started the generation of 'kammun' as etymbox...\n",
      "Started the generation of 'ziran' as etymbox...\n",
      "Started the generation of 'dill' as etymbox...\n",
      "Started the generation of 'shibitt' as etymbox...\n",
      "Started the generation of 'shiluo' as etymbox...\n",
      "Started the generation of 'fennel' as etymbox...\n",
      "Started the generation of 'shamar' as etymbox...\n",
      "Started the generation of 'huixiang' as etymbox...\n",
      "Started the generation of 'fenugreek' as etymbox...\n",
      "Started the generation of 'hulba' as etymbox...\n",
      "Started the generation of 'huluba' as etymbox...\n",
      "Started the generation of 'ginger' as etymbox...\n",
      "Started the generation of 'zanjabil' as etymbox...\n",
      "Started the generation of 'jiang' as etymbox...\n",
      "Started the generation of 'long pepper' as etymbox...\n",
      "Started the generation of 'darfilfil' as etymbox...\n",
      "Started the generation of 'biba' as etymbox...\n",
      "Started the generation of 'mace' as etymbox...\n",
      "Started the generation of 'basbas' as etymbox...\n",
      "Started the generation of 'roudoukoupi' as etymbox...\n",
      "Started the generation of 'nutmeg' as etymbox...\n",
      "Started the generation of 'jawz al-tib' as etymbox...\n",
      "Started the generation of 'roudoukou' as etymbox...\n",
      "Started the generation of 'pepper' as etymbox...\n",
      "Started the generation of 'fulful' as etymbox...\n",
      "Started the generation of 'hujiao' as etymbox...\n",
      "Started the generation of 'bors' as etymbox...\n",
      "Started the generation of 'saffron' as etymbox...\n",
      "Started the generation of 'zafaran' as etymbox...\n",
      "Started the generation of 'fanhonghua' as etymbox...\n",
      "Started the generation of 'Sichuan pepper' as etymbox...\n",
      "Started the generation of 'fagara' as etymbox...\n",
      "Started the generation of 'fulful sitshuwan' as etymbox...\n",
      "Started the generation of 'huajiao' as etymbox...\n",
      "Started the generation of 'star anise' as etymbox...\n",
      "Started the generation of 'yansun najmi' as etymbox...\n",
      "Started the generation of 'bajiaohuixiang' as etymbox...\n",
      "Started the generation of 'badian' as etymbox...\n",
      "Started the generation of 'turmeric' as etymbox...\n",
      "Started the generation of 'kurkum' as etymbox...\n",
      "Started the generation of 'jianghuang' as etymbox...\n",
      "Started the generation of 'vanilla' as etymbox...\n",
      "Started the generation of 'faniliya' as etymbox...\n",
      "Started the generation of 'xiangcao' as etymbox...\n",
      "Done.\n"
     ]
    }
   ],
   "source": [
    "# Creating a dictionary of etymologies\n",
    "dictionary_of_etymologies = {}\n",
    "\n",
    "# Loop\n",
    "for e in list_of_etymologies:\n",
    "    box = (etymbox(e))\n",
    "    # box = r'{{% notice style=\"primary\" title=\"Pirates\" icon=\"skull-crossbones\" %}}' + \"\\n\" + text + \"\\n\" + r\"{{% /notice %}}\" + \"\\n\\n\"\n",
    "    dictionary_update = {e: box}\n",
    "    dictionary_of_etymologies.update(dictionary_update)\n",
    "print('Done.')\n"
   ]
  },
  {
   "cell_type": "code",
   "execution_count": 85,
   "metadata": {},
   "outputs": [
    {
     "data": {
      "text/plain": [
       "'**English** *allspice*, from *all* + *spice*; after the flavor profile that resembles the combined aroma of cloves, nutmeg, cinnamon, and black pepper\\n {{< cite \"oed\" \"allspice\" >}}'"
      ]
     },
     "execution_count": 85,
     "metadata": {},
     "output_type": "execute_result"
    }
   ],
   "source": [
    "# Check\n",
    "dictionary_of_etymologies['allspice']"
   ]
  },
  {
   "cell_type": "markdown",
   "metadata": {},
   "source": [
    "# Website Generation"
   ]
  },
  {
   "cell_type": "markdown",
   "metadata": {},
   "source": [
    "## Create a webpage"
   ]
  },
  {
   "cell_type": "code",
   "execution_count": 86,
   "metadata": {},
   "outputs": [
    {
     "name": "stdout",
     "output_type": "stream",
     "text": [
      "Working on allspice\n",
      "**English:** allspice · **Hungarian:** szegfűbors · **Arabic:** <span class=\"arabic-text\" dir=\"rtl\">فلفل إفرنجي</span> · **Chinese:** <span class=\"traditional-chinese-text\">多香果</span> · \n",
      "Working on angelica\n",
      "**English:** angelica · **Hungarian:** orvosi angyalgyökér · **Arabic:** <span class=\"arabic-text\" dir=\"rtl\">عشبة الملاك المخزنية</span> · **Chinese:** <span class=\"traditional-chinese-text\">歐白芷</span> · \n",
      "Working on anise\n",
      "**English:** anise · **Hungarian:** ánizs · **Arabic:** <span class=\"arabic-text\" dir=\"rtl\">أنيسون</span> · **Chinese:** <span class=\"traditional-chinese-text\">茴芹</span> · \n",
      "Working on asafoetida\n",
      "**English:** asafoetida · **Hungarian:** ördöggyökér · **Arabic:** <span class=\"arabic-text\" dir=\"rtl\">حلتیت</span> · **Chinese:** <span class=\"traditional-chinese-text\">阿魏</span> · \n",
      "Working on caraway\n",
      "**English:** caraway · **Hungarian:** fűszerkömény  · **Arabic:** <span class=\"arabic-text\" dir=\"rtl\">كراويا</span> · **Chinese:** <span class=\"traditional-chinese-text\">葛縷子</span> · \n",
      "Working on cardamom\n",
      "**English:** cardamom · **Hungarian:** kardamom · **Arabic:** <span class=\"arabic-text\" dir=\"rtl\">هال</span> · **Chinese:** <span class=\"traditional-chinese-text\">豆蔻</span> · \n",
      "Working on cassia\n",
      "**English:** cassia · **Hungarian:** kasszia(fahéj) · **Arabic:** <span class=\"arabic-text\" dir=\"rtl\">سليخة</span> · **Chinese:** <span class=\"traditional-chinese-text\">肉桂</span> · \n",
      "Working on chile\n",
      "**English:** chile · **Hungarian:** paprika · **Arabic:** <span class=\"arabic-text\" dir=\"rtl\">فلفل حار</span> · **Chinese:** <span class=\"traditional-chinese-text\">辣椒</span> · \n",
      "Working on cinnamon\n",
      "**English:** cinnamon · **Hungarian:** fahéj · **Arabic:** <span class=\"arabic-text\" dir=\"rtl\">قرفة</span> · **Chinese:** <span class=\"traditional-chinese-text\">錫蘭肉桂</span> · \n",
      "Working on clove\n",
      "**English:** clove · **Hungarian:** szegfűszeg · **Arabic:** <span class=\"arabic-text\" dir=\"rtl\">قرنفل</span> · **Chinese:** <span class=\"traditional-chinese-text\">丁香</span> · \n",
      "Working on coriander\n",
      "**English:** coriander · **Hungarian:** koriander · **Arabic:** <span class=\"arabic-text\" dir=\"rtl\">كزبرة</span> · **Chinese:** <span class=\"traditional-chinese-text\">芫荽</span> · \n",
      "Working on cumin\n",
      "**English:** cumin · **Hungarian:** római kömény · **Arabic:** <span class=\"arabic-text\" dir=\"rtl\">كمون </span> · **Chinese:** <span class=\"traditional-chinese-text\">孜然</span> · \n",
      "Working on dill\n",
      "**English:** dill · **Hungarian:** kapor · **Arabic:** <span class=\"arabic-text\" dir=\"rtl\">شبت</span> · **Chinese:** <span class=\"traditional-chinese-text\">蒔蘿</span> · \n",
      "Working on fennel\n",
      "**English:** fennel · **Hungarian:** édeskömény · **Arabic:** <span class=\"arabic-text\" dir=\"rtl\">شمر</span> · **Chinese:** <span class=\"traditional-chinese-text\">茴香</span> · \n",
      "Working on fenugreek\n",
      "**English:** fenugreek · **Hungarian:** görögszéna · **Arabic:** <span class=\"arabic-text\" dir=\"rtl\">حلبة</span> · **Chinese:** <span class=\"traditional-chinese-text\">胡蘆巴</span> · \n",
      "Working on ginger\n",
      "**English:** ginger · **Hungarian:** gyömbér · **Arabic:** <span class=\"arabic-text\" dir=\"rtl\">زنجبيل</span> · **Chinese:** <span class=\"traditional-chinese-text\">薑</span> · \n",
      "Working on lemongrass\n",
      "\n",
      "Working on mace\n",
      "**English:** mace · **Hungarian:** szerecsendió-virág · **Arabic:** <span class=\"arabic-text\" dir=\"rtl\">بسباسة</span> · **Chinese:** <span class=\"traditional-chinese-text\">肉豆蔻皮</span> · \n",
      "Working on nigella\n",
      "**English:** nigella · **Hungarian:** kerti katicavirág; fekete kömény; fekete hagymamag; parasztbors · \n",
      "Working on nutmeg\n",
      "**English:** nutmeg · **Hungarian:** szerecsendió · **Arabic:** <span class=\"arabic-text\" dir=\"rtl\">جوز الطيب</span> · **Chinese:** <span class=\"traditional-chinese-text\">肉豆蔻</span> · \n",
      "Working on pepper\n",
      "**English:** pepper · **Hungarian:** bors · **Arabic:** <span class=\"arabic-text\" dir=\"rtl\">فلفل</span> · **Chinese:** <span class=\"traditional-chinese-text\">胡椒</span> · \n",
      "Working on saffron\n",
      "**English:** saffron · **Hungarian:** sáfrány · **Arabic:** <span class=\"arabic-text\" dir=\"rtl\">زعفران</span> · **Chinese:** <span class=\"traditional-chinese-text\">藏紅花</span> · \n",
      "Working on star_anise\n",
      "**English:** star anise · **Hungarian:** csillagánizs · **Arabic:** <span class=\"arabic-text\" dir=\"rtl\">يانسون نجمي</span> · **Chinese:** <span class=\"traditional-chinese-text\">八角</span> · \n",
      "Working on turmeric\n",
      "**English:** turmeric · **Hungarian:** kurkuma · **Arabic:** <span class=\"arabic-text\" dir=\"rtl\">كركم</span> · **Chinese:** <span class=\"traditional-chinese-text\">薑黃</span> · \n",
      "Working on vanilla\n",
      "**English:** vanilla · **Hungarian:** vanília · **Arabic:** <span class=\"arabic-text\" dir=\"rtl\">فانيليا</span> · **Chinese:** <span class=\"traditional-chinese-text\">香草</span> · \n",
      "Working on acuyo\n",
      "\n",
      "Working on agarwood\n",
      "**Arabic:** <span class=\"arabic-text\" dir=\"rtl\">عود</span> · **Chinese:** <span class=\"traditional-chinese-text\">沉香</span> · \n",
      "Working on ajwain\n",
      "**English:** ajowan · \n",
      "Working on ambergris\n",
      "**English:** ambergris · **Hungarian:** ámbra · **Arabic:** <span class=\"arabic-text\" dir=\"rtl\">عنبر</span> · **Chinese:** <span class=\"traditional-chinese-text\">龍涎香</span> · \n",
      "Working on annatto\n",
      "**English:** annatto · **Hungarian:** annatto · **Arabic:** <span class=\"arabic-text\" dir=\"rtl\">أناتو</span> · **Chinese:** <span class=\"traditional-chinese-text\">胭脂樹紅</span> · \n",
      "Working on ashanti_pepper\n",
      "\n",
      "Working on black_cardamom\n",
      "**English:** black cardamom · **Hungarian:** fekete kardamom · **Arabic:** <span class=\"arabic-text\" dir=\"rtl\">قاقلة</span> · **Chinese:** <span class=\"traditional-chinese-text\">香豆蔻</span> · \n",
      "Working on cubeb\n",
      "**English:** cubeb · **Hungarian:** kubébabors · **Arabic:** <span class=\"arabic-text\" dir=\"rtl\">كبابة</span> · **Chinese:** <span class=\"traditional-chinese-text\">蓽澄茄</span> · \n",
      "Working on javanese_long_pepper\n",
      "**English:** Javanese long pepper · \n",
      "Working on long_pepper\n",
      "**English:** long pepper · **Hungarian:** hosszú bors · **Arabic:** <span class=\"arabic-text\" dir=\"rtl\">دارفلفل</span> · **Chinese:** <span class=\"traditional-chinese-text\">蓽撥</span> · \n",
      "Working on sichuan_pepper\n",
      "**English:** Sichuan pepper · **Hungarian:** szecsuáni bors · **Arabic:** <span class=\"arabic-text\" dir=\"rtl\">فلفل سيتشوان</span> · **Chinese:** <span class=\"traditional-chinese-text\">花椒</span> · \n",
      "Working on timiz\n",
      "\n",
      "Done.\n"
     ]
    }
   ],
   "source": [
    "# Todo: Make every element optional with if statements\n",
    "\n",
    "def webpage(key):\n",
    "    \n",
    "    '''\n",
    "    This cell generates web pages from the datasets and writes them out to markdown files.\n",
    "    '''\n",
    "\n",
    "    # Get dataframe of current item\n",
    "    print(\"Working on\", key)\n",
    "    df_local = df_items.loc[df_items['key'] == key]\n",
    "    \n",
    "    # Item\n",
    "    item = df_local['item'].iloc[0]\n",
    "    \n",
    "    # Reset index\n",
    "    df_local.reset_index(drop=True, inplace=True)\n",
    "    \n",
    "    # Definition (if exists)\n",
    "    if 'wn_definition' in df_local:\n",
    "        if pd.notna(df_local['wn_definition'][0]):\n",
    "            definition = df_local['wn_definition'][0]\n",
    "            definition = definition[0].upper() + definition[1:]\n",
    "            definition = \"WordNet definition: \" + definition + \".\" if definition[-1] != \".\" else definition\n",
    "    else:\n",
    "        definition = \"\"\n",
    "\n",
    "    # Description\n",
    "    if pd.notna(df_local['description'][0]):\n",
    "        description = df_local['description'][0]\n",
    "        description = description[0].upper() + description[1:]\n",
    "        aka = \", also known as \" + str(df_local['en alt'].iloc[0]) if pd.notna(df_local['en alt'].iloc[0]) else \"\"\n",
    "        if aka != \"\":\n",
    "            description += aka\n",
    "        related = \", related to \" + str(df_local['related'].iloc[0]) if pd.notna(df_local['related'].iloc[0]) else \"\"\n",
    "        if related != \"\":\n",
    "            description += related\n",
    "        see_also = \". See also \" + str(df_local['see also'].iloc[0]) if pd.notna(df_local['see also'].iloc[0]) else \"\"\n",
    "        if see_also != \"\":\n",
    "            description += see_also            \n",
    "            \n",
    "        description += \". \"\n",
    "        preamble_description = description\n",
    "        page_description = \">\" + description\n",
    "        \n",
    "    else:\n",
    "        description = \"\"\n",
    "        preamble_description = \"\"\n",
    "        page_description = \"\"\n",
    "\n",
    "    page_description += \"\\n\\n\"\n",
    "    \n",
    "    # Extract categories and tags and groups (which will be treated as tags)\n",
    "    if pd.notna(df_local['category'][0]):\n",
    "        category = df_local['category'][0]\n",
    "        category_list = category.split(\"; \") if \";\" in category else [f'{category}']\n",
    "    else:\n",
    "        category = \"\"\n",
    "        category_list = []\n",
    "    \n",
    "    if pd.notna(df_local['tag'][0]):\n",
    "        tag = df_local['tag'][0]\n",
    "        tag_list = tag.split(\"; \") if \";\" in tag else [f'{tag}']\n",
    "    else:\n",
    "        tag = \"\"\n",
    "        tag_list = []\n",
    "        \n",
    "    if pd.notna(df_local['group'][0]):\n",
    "        group = df_local['group'][0]\n",
    "        group_list = group.split(\";\") if \";\" in group else [f'{group}']\n",
    "    else:\n",
    "        group_list = []\n",
    "        \n",
    "    tag_list = tag_list + group_list\n",
    "\n",
    "    # Assemble preamble\n",
    "    preamble = f'+++\\ntitle = \"{item.title()}\"\\nauthor = \"Gabor Parti\"\\ndate = \"{str(date.today())}\"\\ndescription = \"{preamble_description}\"\\nweight = 10\\n# draft = \"true\"\\n# hidden = \"true\"\\nplotly = true\\ncategories = {str(category_list)}\\ntags = {str(tag_list)}\\nbibFile = \"static/bibliography/parti.json\"\\n+++\\n\\n'\n",
    "\n",
    "\n",
    "\n",
    "    ###########################\n",
    "    ######## The Spice ########\n",
    "    ###########################\n",
    "    \n",
    "    taxon_name = str(df_local['taxon_name'][0])\n",
    "    \n",
    "    if pd.notna(df_local['taxon_authors'][0]):\n",
    "        taxon_authors = str(df_local['taxon_authors'][0])\n",
    "    else:\n",
    "        taxon_authors = \"\"\n",
    "        \n",
    "    taxon = f\"*{taxon_name}* {taxon_authors}\"\n",
    "        \n",
    "    family = str(df_local['family'][0])\n",
    "    \n",
    "    category = re.sub('; ', ' and ', category)\n",
    "    if pd.notna(df_local['tag'][0]):\n",
    "        tag = re.sub('; ', ' and ', tag)\n",
    "    else:\n",
    "        tag = \"\"\n",
    "    \n",
    "    part = str(df_local['part used'][0])\n",
    "    \n",
    "    lifeform_description = str(df_local['lifeform_description'][0])\n",
    "    climate_description = str(df_local['climate_description'][0])\n",
    "    \n",
    "    # Intro\n",
    "    intro = item.upper() + f\" (*{taxon_name}* {taxon_authors}) is a(n) {lifeform_description} from the *{family}* family, growing in the {climate_description} biome, originating in the region(s) of {df_local['powo range'][0]}. It is used as a(n) {tag} {category}, and cultivated for its {part}.\\n\\n\"\n",
    "    \n",
    "    # if pd.notna(df_local['heat'][0]):\n",
    "    #     intro = intro + \"It is used for its \" + re.sub('; ', ' and ', part) + \", primarily for \" + str(df_local['major uses'][0]) + \". Its aroma is described as \" + str(df_local['taste/smell'][0]) + \", with a heat index of \" + str(df_local['heat'][0]) + \".[^ucla_medicinal_2002]\" + \"\\n\\n\" + \"[^ucla_medicinal_2002]: Medicinal Spices Exhibit. (2002). UCLA Biomedical Library: History & Special Collections. https://unitproj.library.ucla.edu/biomed/spice/index.cfm?spicefilename=taste.txt&itemsuppress=yes&displayswitch=0\\n\\n\"\n",
    "    \n",
    "    # Add values from df_local['petruzzello][0] if it's value is 'yes'.\n",
    "    citations = \"\"\n",
    "    if pd.notna(df_local['powo'][0]):\n",
    "       citations += \"powo\"\n",
    "    # if df_local['petruzzello'][0] == 'yes':\n",
    "    #     citations += \";petruzzello_2023_list\" \n",
    "    # if df_local['vanwyk'][0] == 'yes':\n",
    "    #     citations += \";vanwyk_2014_culinary\"\n",
    "    # if df_local['dalby'][0] == 'yes':\n",
    "    #     citations += \";dalby_2000_dangerous\"\n",
    "    # if df_local['hill'][0] == 'yes':\n",
    "    #     citations += \";hill_2004_contemporary\"\n",
    "    # if df_local['anderson'][0] == 'yes':\n",
    "    #     citations += \";anderson_2023_history\"\n",
    "        \n",
    "    if citations != \"\":\n",
    "        sources = r'{{< cite \"' + citations + '\" >}}\\n\\n'\n",
    "    else:\n",
    "        sources = \"\"\n",
    "    intro += sources\n",
    "    \n",
    "    \n",
    "    \n",
    "    # Overview \n",
    "    overview_head = \"## Overview\\n\\n\"\n",
    "    \n",
    "    # Add taxon\n",
    "    df_local['taxon'] = taxon\n",
    "\n",
    "    # Prepare overview tables\n",
    "    df_overview = df_local[['taxon', 'family', 'region of origin', 'macroarea', 'part used']]\n",
    "    \n",
    "    # Add cultivation if available\n",
    "    if pd.notna(df_local['cultivation'][0]):\n",
    "        #add cultivation column to df_overview\n",
    "        df_overview['cultivation'] = df_local['cultivation']\n",
    "        \n",
    "    # Set database link(s)\n",
    "    if pd.notna(df_local['powo'][0]):\n",
    "        botanical_database = \"[POWO](\" + df_local['powo'] + \")\"\n",
    "    else:\n",
    "        botanical_database = \"\"\n",
    "        \n",
    "    if pd.notna(df_local['gbif'][0]):\n",
    "        botanical_database += \", [GBIF](\" + df_local['gbif'][0] + \")\"\n",
    "        \n",
    "    df_local['botanical database'] = botanical_database\n",
    "    \n",
    "    if pd.notna(df_local['botanical database'][0]):\n",
    "        #add cultivation column to df_overview\n",
    "        df_overview['botanical database'] = df_local['botanical database']\n",
    "        \n",
    "    # Transpose table\n",
    "    df_overview = df_overview.T\n",
    "    # Reset index\n",
    "    df_overview.reset_index(inplace=True)\n",
    "    # Rename columns\n",
    "    df_overview.columns = ['item', item]\n",
    "    # Prepare data to create markdown table\n",
    "    data = df_overview.to_dict(orient='records')\n",
    "    # Create markdown table\n",
    "    overview_mdt = markdown_table(data).set_params(row_sep = 'markdown', quote = False).get_markdown()\n",
    "    # Table\n",
    "    overview = overview_head + overview_mdt + \"\\n\\n\"\n",
    "    \n",
    "    # Photo (todo, make list of img ext and source now they are string)\n",
    "    # if df_local['img_count'][0] > 0:\n",
    "    #     img_src = re.sub(',.*', '', df_local['img_source'][0])\n",
    "    #     img_src = re.sub('_', ' ', img_src)\n",
    "        \n",
    "    #     photo = \"![\" + df_local['item'][0] + \"](/images/photos/\" + df_local['item'][0] + \"-1-\" + re.sub(',.*', '', df_local['img_source'][0]) + \".\" + re.sub(',.*', '', df_local['img_extension'][0]) + \"?width=14rem&classes=shadow\" + ' \"Photo: ' + img_src + '\")\\n\\n'\n",
    "    # else:\n",
    "    #     photo = \"\"\n",
    "    \n",
    "    \n",
    "    \n",
    "    # Illustration # &classes=shadow\n",
    "    if pd.notna(df_local['ill source'].iloc[0]):\n",
    "        illustration_alt = \"Illustration of \" + df_local['taxon_name'][0] + \" from \" + df_local['ill source'][0]\n",
    "        illustration = \"![\" + df_local['taxon_name'][0] + '](/images/illustrations/' + key + '.png?width=40rem \"' + illustration_alt + '\")' + '\\n'\n",
    "        illustration_source = df_local['ill source'][0] + r\"{{< cite -\" + str(df_local['ill key'][0]) + r\" >}} \" + str(df_local['ill page'][0]) + r\".\"\n",
    "        illustration = illustration + \"\\n>Illustration of \" + df_local['taxon_name'][0] + \" from \" + illustration_source\n",
    "        if pd.notna(df_local['ill link'].iloc[0]):\n",
    "            illustration = illustration + \" [{{% icon image %}}](\" + df_local['ill link'].iloc[0] + \")\"\n",
    "    else:\n",
    "        illustration = \"\"\n",
    "    illustration = illustration + \"\\n\\n\"\n",
    "    \n",
    "    # Top display gallery\n",
    "    if len(list_files(f\"../static/images/photos/{key}\")) > 1:\n",
    "        display_gallery = '{{< load-photoswipe >}}\\n\\n{{< gallery dir=\"/images/photos/' + key + '\" hover-effect=\"slideup\" caption-effect=\"fade\" caption-position=\"none\" />}}' + \"\\n\\n\"\n",
    "    else:\n",
    "        display_gallery = \"\"\n",
    "        \n",
    "    # Gallery on the bottom of the page\n",
    "    if os.path.isdir(f\"../static/images/photos/{key}/gallery\"):\n",
    "        gallery =  '## Gallery\\n\\n{{< load-photoswipe >}}\\n\\n{{< gallery dir=\"/images/photos/' + key + '/gallery\" hover-effect=\"slideup\" caption-effect=\"fade\" />}}' + \"\\n\\n\"\n",
    "    else:\n",
    "        gallery = \"\"\n",
    "\n",
    "\n",
    "\n",
    "    # Quick names (predefined)\n",
    "    if pd.notna(df_local['English'][0]):\n",
    "        en = \"**English:** \" + df_local['English'][0] + \" · \"\n",
    "    else:\n",
    "        en = \"\"\n",
    "    if pd.notna(df_local['Hungarian'][0]):\n",
    "        hu = \"**Hungarian:** \" + df_local['Hungarian'][0] + \" · \"\n",
    "    else:\n",
    "        hu = \"\"\n",
    "    if pd.notna(df_local['Arabic'][0]):\n",
    "        ar = '**Arabic:** <span class=\"arabic-text\" dir=\"rtl\">' + df_local['Arabic'][0] + '</span>' + \" · \"\n",
    "    else:\n",
    "        ar = \"\"\n",
    "    if pd.notna(df_local['Chinese'][0]):\n",
    "        zh = '**Chinese:** <span class=\"traditional-chinese-text\">' + df_local['Chinese'][0] + '</span>' + \" · \"\n",
    "    else:\n",
    "        zh = \"\"\n",
    "    \n",
    "    quick_names = en + hu + ar + zh\n",
    "    \n",
    "    # Quick names (additional)\n",
    "    if 'french' in df_local:\n",
    "        if pd.notna(df_local['french'][0]):\n",
    "            fr = \"**French:** \" + df_local['french'][0] + \" · \"\n",
    "            quick_names += fr\n",
    "        \n",
    "    if 'italian' in df_local:\n",
    "        if pd.notna(df_local['italian'][0]):\n",
    "            it = \"**Italian:** \" + df_local['italian'][0] + \" · \"\n",
    "            quick_names += it\n",
    "\n",
    "    print(quick_names)\n",
    "    \n",
    "    # Remove last dot from quick names\n",
    "    quick_names = re.sub(\" · $\", \"\", quick_names)\n",
    "    # Center it\n",
    "    quick_names = '<center>\\n\\n' + quick_names + '\\n\\n</center>\\n\\n'\n",
    "\n",
    "\n",
    "\n",
    "    # Distribution\n",
    "    if pd.notna(df_local['native regions'][0]):\n",
    "        distribution = \"## Distribution\\n\\n\"\n",
    "        distribution = distribution + r'{{< load-plotly >}}' + '\\n\\n' + r'{{< plotly json=\"/aromatica/plotly/distributions/' + key + r'.json\" weight=\"600\" height=\"300\" >}}' + '\\n\\n'\n",
    "        distribution = distribution + f\">Native and introduced habitats of {df_local['taxon_name'][0]}[^powo]\\n\\n[^powo]: {df_local['powo'][0]}\\n\\n\"\n",
    "\n",
    "        # Check if 'native regions' is not empty and not 'NA' before adding to the string\n",
    "        regions = \"\"\n",
    "        if pd.notna(df_local['native regions'][0]) and df_local['native regions'][0] != 'NA':\n",
    "            regions += \"**Native regions:** &ensp; &ensp; &ensp; \" + df_local['native regions'][0] + \"\\n\\n\"\n",
    "        # Check if 'introduced regions' is not empty and not 'NA' before adding to the string\n",
    "        if pd.notna(df_local['introduced regions'][0]) and df_local['introduced regions'][0] != 'NA':\n",
    "            regions += \"**Introduced regions:** \" + df_local['introduced regions'][0] + \"\\n\\n\"\n",
    "        distribution += '<p style=\"text-align:left;\">\\n\\n' + regions + '</p>\\n\\n'\n",
    "    else :\n",
    "        distribution = \"\"\n",
    "\n",
    "\n",
    "    \n",
    "    ##############################\n",
    "    ######## Nomenclature ########\n",
    "    ##############################\n",
    "\n",
    "    # Dataframe of current item \n",
    "    # df_names_local = df_names.loc[df_names['item'] == item]\n",
    "\n",
    "    # Reset index\n",
    "    # df_names_local.reset_index(drop=True, inplace=True)\n",
    "\n",
    "    # Names\n",
    "    # names_head = \"***\\n\\n## Nomenclature\\n\\n\"\n",
    "    # Heads\n",
    "    # names_head_en = \"### English\\n\\n\"\n",
    "    # names_head_ar = \"### Arabic\\n\\n\"\n",
    "    # names_head_zh = \"### Chinese\\n\\n\"\n",
    "    \n",
    "    # # Language by language\n",
    "    # language = \"English\"\n",
    "    # df = df_names_local.loc[df_names_local['language'] == language]\n",
    "    # df = df[['term', 'source human']]\n",
    "    # df = df.rename(columns={'source human': 'source'})\n",
    "    # data = df.to_dict(orient='records')\n",
    "    # names_mdt_en = markdown_table(data).set_params(row_sep = 'markdown', quote = False).get_markdown()\n",
    "\n",
    "    # language = \"Arabic\"\n",
    "    # df = df_names_local.loc[df_names_local['language'] == language]\n",
    "    # df = df[['script', 'term', 'literal', 'source human']]\n",
    "    # df = df.rename(columns={'source human': 'source'})\n",
    "    # data = df.to_dict(orient='records')\n",
    "    # names_mdt_ar = markdown_table(data).set_params(row_sep = 'markdown', quote = False).get_markdown()\n",
    "\n",
    "    # language = \"Chinese\"\n",
    "    # df = df_names_local.loc[df_names_local['language'] == language]\n",
    "    # df = df[['script', 'term', 'literal', 'source human']]\n",
    "    # df = df.rename(columns={'source human': 'source'})\n",
    "    # data = df.to_dict(orient='records')\n",
    "    # names_mdt_zh = markdown_table(data).set_params(row_sep = 'markdown', quote = False).get_markdown()\n",
    "    # names = names_head + names_head_en + names_mdt_en + \"\\n\\n\" + names_head_ar + names_mdt_ar + \"\\n\\n\" + names_head_zh + names_mdt_zh + \"\\n\\n\"\n",
    "    names = \"\"\n",
    "\n",
    "    ###########################\n",
    "    ####### Etymologies #######\n",
    "    ###########################\n",
    "\n",
    "    # wordlist = df_local['etymologies'][0].split(\"; \")\n",
    "    # etymologies = \"\"\n",
    "    # for word in wordlist:\n",
    "    #     etymologies += dictionary_of_etymologies[word]\n",
    "    # etymologies = \"## Etymologies\\n\\n\" + etymologies\n",
    "    etymologies = \"\"\n",
    "    \n",
    "\n",
    "    # Manuscripts (if any)\n",
    "    # if a file exists in the folder \"content/items/manuscripts/\" with the name of the item, then add it to the page\n",
    "    if os.path.isfile(f\"../content/items/manuscripts/{key}_ms.md\"):\n",
    "        manuscript = \"***\\n\\n{{% include \\\"content/items/manuscripts/\" + key + \"_ms.md\\\" %}}\\n\\n\"\n",
    "    else:\n",
    "        manuscript = \"\"\n",
    "\n",
    "    ######## Assemble page ########\n",
    "    page = preamble + page_description + display_gallery + quick_names + intro + overview + illustration + distribution + names + etymologies + gallery\n",
    "    \n",
    "    # Bibliography - if page contains \"{{< cite\", then add bibliography\n",
    "    if \"{{< cite\" in page:\n",
    "        bibliography = \"# Bibliography\\n\\n{{< bibliography cited >}}\\n\\n\"\n",
    "    else:\n",
    "        bibliography = \"\"\n",
    "            \n",
    "    # Write page to file\n",
    "    with open(path_out_md + key + '_gen.md', 'w', encoding='utf-8') as f:\n",
    "            f.write(page)\n",
    "            \n",
    "    # Write bibliography to file\n",
    "    with open(path_out_md + key + '_bib.md', 'w', encoding='utf-8') as f:\n",
    "            f.write(bibliography)\n",
    "    return\n",
    "\n",
    "# Loop through all spices\n",
    "for key in list_of_keys:\n",
    "    webpage(key)\n",
    "print(\"Done.\")"
   ]
  },
  {
   "cell_type": "markdown",
   "metadata": {},
   "source": [
    "## Merge autogenerated files with manuscripts and bibliographies"
   ]
  },
  {
   "cell_type": "code",
   "execution_count": 87,
   "metadata": {},
   "outputs": [
    {
     "name": "stdout",
     "output_type": "stream",
     "text": [
      "Done.\n"
     ]
    }
   ],
   "source": [
    "def assemble_page(key):\n",
    "    '''\n",
    "    This function merges generated web pages with hand written parts (manuscripts), and page bibliographies into a final markdown file to show on a web page. Gen and bib are generated above, manuscripts are not. E.g., allspice_gen.md + allspice_ms.md + allspice_bib.md = allspice.md.\n",
    "    '''\n",
    "    filepath = website_md + 'manuscripts/' + key + '_ms.md'\n",
    "    if os.path.isfile(filepath) == True:\n",
    "        # Read generated files\n",
    "        with open(path_out_md + key + '_gen.md', 'r', encoding='utf-8') as f:\n",
    "            generated = f.read()\n",
    "        # Read manuscript files    \n",
    "        with open(website_md + 'manuscripts/' + key + '_ms.md', 'r', encoding='utf-8') as f:\n",
    "            manuscript = f.read()\n",
    "        # Read bib files\n",
    "        with open(path_out_md + key + '_bib.md', 'r', encoding='utf-8') as f:\n",
    "            bibliography = f.read()\n",
    "        # Assemble    \n",
    "        page = generated + \"\\n\\n***\\n\\n\" + manuscript + \"\\n\\n\" + bibliography\n",
    "        # Write out page file\n",
    "        with open(website_md + key + '.md', 'w', encoding='utf-8') as f:\n",
    "            f.write(page)\n",
    "    else:\n",
    "        # Read generated files\n",
    "        with open(path_out_md + key + '_gen.md', 'r', encoding='utf-8') as f:\n",
    "            generated = f.read()\n",
    "        # Read bib files    \n",
    "        with open(path_out_md + key + '_bib.md', 'r', encoding='utf-8') as f:\n",
    "            bibliography = f.read()\n",
    "        # Assemble    \n",
    "        page = generated + \"\\n\\n\" + bibliography\n",
    "        # Write out page file\n",
    "        with open(website_md + key + '.md', 'w', encoding='utf-8') as f:\n",
    "            f.write(page)\n",
    "    return\n",
    "\n",
    "# Loop through all spices\n",
    "for key in list_of_keys:\n",
    "    assemble_page(key)\n",
    "print(\"Done.\")"
   ]
  },
  {
   "cell_type": "markdown",
   "metadata": {},
   "source": [
    "# Maps"
   ]
  },
  {
   "cell_type": "code",
   "execution_count": 88,
   "metadata": {},
   "outputs": [],
   "source": [
    "df = df_items.copy()"
   ]
  },
  {
   "cell_type": "code",
   "execution_count": 89,
   "metadata": {},
   "outputs": [],
   "source": [
    "# # Basic example with Plotly Go\n",
    "# # Create figure data\n",
    "# fig = go.Figure(data=go.Scattergeo(\n",
    "#         lon = df['lon'],\n",
    "#         lat = df['lat'],\n",
    "#         text = df['item'],\n",
    "#         mode = 'markers',\n",
    "#         # marker_color = df['cnt'],\n",
    "#         ))\n",
    "\n",
    "# # Update layout\n",
    "# fig.update_layout(\n",
    "#         title = 'Title',\n",
    "#         geo_scope='world',\n",
    "#         template = 'plotly_dark'\n",
    "#     )\n",
    "\n",
    "# # Show figure\n",
    "# fig.show()"
   ]
  },
  {
   "cell_type": "markdown",
   "metadata": {},
   "source": [
    "### Map settings"
   ]
  },
  {
   "cell_type": "code",
   "execution_count": 90,
   "metadata": {},
   "outputs": [],
   "source": [
    "# Visual variables for map (dark mode)\n",
    "\n",
    "font_size = 12\n",
    "font_color = \"#ffffff\"\n",
    "font_family = \"Noto Sans\"\n",
    "marker_symbol= 'circle'\n",
    "marker_size = 12\n",
    "max_marker_size = 32\n",
    "edge_color = transparent\n",
    "edge_size = 1\n",
    "opacity = 0.7\n",
    "line_width = 4\n",
    "water = \"#202020\"\n",
    "grid_color = \"#282828\"\n",
    "land = \"#303030\"\n",
    "lines = \"#383838\"\n",
    "copyright_color = \"#404040\"\n",
    "background_color = transparent\n",
    "legend_background_color = quarter_transparent\n",
    "color_scheme = prism"
   ]
  },
  {
   "cell_type": "code",
   "execution_count": 91,
   "metadata": {},
   "outputs": [],
   "source": [
    "# Orthographic globe layout\n",
    "ortho_traces = dict(\n",
    "    textposition = 'top right', # middle left, bottom center, etc.\n",
    "    textfont = dict(size=font_size, color=font_color, family=font_family),\n",
    "    hovertemplate=\n",
    "        \"<b>%{text}</b><br><br>\" +\n",
    "        \"Species: <i>%{customdata[0]}</i><br>\" +\n",
    "        \"Family: <i>%{customdata[1]}</i><br>\" +\n",
    "        \"Region of origin: %{customdata[2]}<br>\" +\n",
    "        \"Arabic: %{customdata[3]} <i>%{customdata[4]}</i><br>\" +\n",
    "        \"Chinese: %{customdata[5]} <i>%{customdata[6]}</i><br>\" +\n",
    "        # \"Spreadability: %{customdata[7]:.2f}<br>\" +\n",
    "        \"<extra></extra>\",\n",
    "    marker = dict(\n",
    "        symbol = marker_symbol,\n",
    "        size = marker_size,\n",
    "        line = dict(\n",
    "            color=edge_color,\n",
    "            width=edge_size\n",
    "        )\n",
    "    )\n",
    ")\n",
    "\n",
    "ortho_layout = go.Layout(\n",
    "    paper_bgcolor=background_color,\n",
    "    plot_bgcolor=background_color,\n",
    "    geo = dict(\n",
    "        resolution=110, # 50 is large; 110 is small\n",
    "        scope='world', # 'world', 'asia'\n",
    "        projection_type = 'orthographic', # orthographic, natural earth\n",
    "        projection_scale = 1,\n",
    "        projection_rotation = {'lat': 20, 'lon': 80, 'roll': 0},\n",
    "        bgcolor=background_color,\n",
    "        showcoastlines=True, coastlinewidth = 1, coastlinecolor = lines,\n",
    "        showcountries=False, countrywidth = 1, countrycolor = lines,\n",
    "        showframe=True, framewidth = 1, framecolor = lines,\n",
    "        showlakes=True, lakecolor = water,\n",
    "        showland=True, landcolor = land,\n",
    "        showocean=True, oceancolor = water,\n",
    "        showrivers=True, riverwidth = 1, rivercolor = water,\n",
    "        showsubunits=True, subunitwidth = 0, subunitcolor = lines,\n",
    "        lonaxis = dict(showgrid = True, gridwidth = 0.5, dtick = 10, gridcolor=grid_color),\n",
    "        lataxis = dict (showgrid = True, gridwidth = 0.5, dtick = 10, gridcolor=grid_color)),\n",
    "    showlegend = True,\n",
    "    legend=dict(x=0, y=0, xanchor=\"left\", yanchor=\"bottom\", bgcolor=legend_background_color,\n",
    "                font=dict(color=font_color, size=font_size, family=font_family),\n",
    "                title_font=dict(color=font_color, size=font_size+2, family=font_family),\n",
    "                traceorder = 'normal', orientation=\"v\"),\n",
    "    title=dict(x=0.5, y=0.99, xanchor='center', yanchor='top', text='',\n",
    "               font=dict(color=font_color, size=font_size+6, family=font_family)),\n",
    "    margin={\"r\":0,\"t\":0,\"l\":0,\"b\":0},\n",
    "    hoverlabel=dict(#bgcolor=\"white\",\n",
    "                    font_size=font_size,\n",
    "                    font_family=font_family),\n",
    "    )\n",
    "\n",
    "# \"Document size\" for pdfs\n",
    "document_size = dict(width = 600, height=600)\n",
    "\n",
    "# Copyright\n",
    "cr = dict(\n",
    "    name=\"copyright\",\n",
    "    text=\"© Gábor Parti, 2023\",\n",
    "    font=dict(color=copyright_color, size=8, family=font_family),\n",
    "    opacity=0.9,\n",
    "    xref=\"paper\",\n",
    "    yref=\"paper\",\n",
    "    x=0.5,\n",
    "    y=0,\n",
    "    # xanchor=\"right\", \n",
    "    # yanchor=\"bottom\", \n",
    "    # align=\"center\",\n",
    "    showarrow=False,\n",
    ")\n",
    "# fig.update_layout(annotations = [cr]) # to call\n",
    "\n",
    "## Info\n",
    "info = dict(\n",
    "    name=\"info\",\n",
    "    text=\"Click on a material to navigate to its corresponding page!\",\n",
    "    font=dict(color=font_color, size=font_size, family=font_family),\n",
    "    opacity=0.9,\n",
    "    xref=\"paper\",\n",
    "    yref=\"paper\",\n",
    "    x=0.5,\n",
    "    y=0.05,\n",
    "    # xanchor=\"right\", \n",
    "    # yanchor=\"bottom\", \n",
    "    # align=\"center\",\n",
    "    showarrow=False,\n",
    ")\n",
    "# fig.update_layout(annotations = [info]) # to call\n",
    "\n",
    "# Adding layout images\n",
    "logo = dict(\n",
    "    source=\"https://upload.wikimedia.org/wikipedia/en/thumb/9/9e/PolyU_Logo_with_wordmark.svg/1024px-PolyU_Logo_with_wordmark.svg.png\",\n",
    "    sizex=0.15, sizey=0.15,\n",
    "    x=1, y=0, \n",
    "    xanchor=\"right\", \n",
    "    yanchor=\"bottom\", \n",
    ")\n",
    "# fig.add_layout_image(logo) # to call"
   ]
  },
  {
   "cell_type": "code",
   "execution_count": 92,
   "metadata": {},
   "outputs": [],
   "source": [
    "# Natural earth layout for cloropleth maps (regions and distributions)\n",
    "ne_traces = dict(\n",
    "    hovertemplate=\n",
    "        \"Region: <i>%{customdata[0]}</i><br>\" +\n",
    "        \"Code: <i>%{customdata[1]}</i><br>\" +\n",
    "        \"<extra></extra>\",\n",
    ")\n",
    "\n",
    "ne_layout = go.Layout(\n",
    "    paper_bgcolor=background_color,\n",
    "    plot_bgcolor=background_color,\n",
    "    geo = dict(\n",
    "        resolution=110, # 50 is large; 110 is small\n",
    "        scope='world', # 'world', 'asia'\n",
    "        projection_type = 'orthographic', #'natural earth',\n",
    "        projection_scale = 2,\n",
    "        projection_rotation = {'lat': 20, 'lon': 80, 'roll': 0},\n",
    "        bgcolor=background_color,\n",
    "        showcoastlines=True, coastlinewidth = 1, coastlinecolor = lines,\n",
    "        showcountries=False, countrywidth = 1, countrycolor = lines,\n",
    "        showframe=True, framewidth = 1, framecolor = lines,\n",
    "        showlakes=True, lakecolor = water,\n",
    "        showland=True, landcolor = land,\n",
    "        showocean=True, oceancolor = water,\n",
    "        showrivers=True, riverwidth = 1, rivercolor = water,\n",
    "        showsubunits=True, subunitwidth = 0, subunitcolor = lines,\n",
    "        lonaxis = dict(showgrid = True, gridwidth = 0.5, dtick = 10, gridcolor=grid_color),\n",
    "        lataxis = dict (showgrid = True, gridwidth = 0.5, dtick = 10, gridcolor=grid_color)),\n",
    "    showlegend = True,\n",
    "    legend=dict(xanchor=\"left\", yanchor=\"bottom\", \n",
    "                # x=0.1, y=0.1, # for natural earth\n",
    "                x=0, y=0, # for orthographic\n",
    "                bgcolor=legend_background_color,\n",
    "                font=dict(color=font_color, size=font_size, family=font_family),\n",
    "                title_font=dict(color=font_color, size=font_size+2, family=font_family),\n",
    "                traceorder = 'normal', orientation=\"v\"),\n",
    "    title=dict(x=0.5, y=0.99, xanchor='center', yanchor='top', text='',\n",
    "               font=dict(color=font_color, size=font_size+6, family=font_family)),\n",
    "    margin={\"r\":0,\"t\":0,\"l\":0,\"b\":0},\n",
    "    hoverlabel=dict(#bgcolor=\"white\",\n",
    "                    font_size=font_size,\n",
    "                    font_family=font_family),\n",
    "    )"
   ]
  },
  {
   "cell_type": "code",
   "execution_count": 93,
   "metadata": {},
   "outputs": [],
   "source": [
    "# Define the map layout with the Marble basemap\n",
    "marble = go.Layout(\n",
    "    hovermode=\"closest\",\n",
    "    mapbox_style=\"white-bg\",\n",
    "    mapbox_layers=[\n",
    "        {\n",
    "            \"below\": 'traces',\n",
    "            \"sourcetype\": \"raster\",\n",
    "            \"sourceattribution\": \"United States Geological Survey\",\n",
    "            \"source\": [\n",
    "                \"https://basemap.nationalmap.gov/arcgis/rest/services/USGSImageryOnly/MapServer/tile/{z}/{y}/{x}\"\n",
    "            ]\n",
    "        }\n",
    "      ]\n",
    "    # mapbox=dict(\n",
    "    #     center=dict(lat=0, lon=0),\n",
    "    #     style=\"open-street-map\", \n",
    "    #     zoom=1,\n",
    "    # ),\n",
    ")"
   ]
  },
  {
   "cell_type": "markdown",
   "metadata": {},
   "source": [
    "## Plot by family"
   ]
  },
  {
   "cell_type": "code",
   "execution_count": 94,
   "metadata": {},
   "outputs": [
    {
     "data": {
      "application/vnd.plotly.v1+json": {
       "config": {
        "plotlyServerURL": "https://plot.ly"
       },
       "data": [
        {
         "customdata": [
          [
           "Pimenta dioica",
           "Myrtaceae",
           "S. Mexico to C. America; Caribbean",
           "فلفل إفرنجي",
           "fulful ifranjī",
           "多香果",
           "duōxiāngguǒ",
           -77,
           18,
           1
          ],
          [
           "Syzygium aromaticum",
           "Myrtaceae",
           "N. Moluccas, Indonesia",
           "قرنفل",
           "qaranful",
           "丁香",
           "dīngxiāng",
           127,
           0,
           1
          ]
         ],
         "geo": "geo",
         "hovertemplate": "<b>%{text}</b><br><br>Species: <i>%{customdata[0]}</i><br>Family: <i>%{customdata[1]}</i><br>Region of origin: %{customdata[2]}<br>Arabic: %{customdata[3]} <i>%{customdata[4]}</i><br>Chinese: %{customdata[5]} <i>%{customdata[6]}</i><br><extra></extra>",
         "hovertext": [
          "allspice",
          "clove"
         ],
         "lat": [
          18,
          0
         ],
         "legendgroup": "Myrtaceae",
         "lon": [
          -77,
          127
         ],
         "marker": {
          "color": "#5f4690",
          "line": {
           "color": "rgba(0,0,0,0)",
           "width": 1
          },
          "opacity": 0.7,
          "size": 12,
          "sizemode": "area",
          "sizeref": 0.0009765625,
          "symbol": "circle"
         },
         "mode": "markers+text",
         "name": "Myrtaceae",
         "showlegend": true,
         "text": [
          "allspice",
          "clove"
         ],
         "textfont": {
          "color": "#ffffff",
          "family": "Noto Sans",
          "size": 12
         },
         "textposition": "top right",
         "type": "scattergeo"
        },
        {
         "customdata": [
          [
           "Angelica archangelica",
           "Apiaceae",
           "Eur; As",
           "عشبة الملاك المخزنية",
           "ʿushbat al-malāk al-makhzaniyya",
           "歐白芷",
           "ōubái​zhǐ",
           11,
           60,
           1
          ],
          [
           "Pimpinella anisum",
           "Apiaceae",
           "E. Mediterranean; W. Asia; Asia Minor",
           "أنيسون",
           "anīsūn",
           "茴芹",
           "huíqín",
           33,
           35,
           1
          ],
          [
           "Ferula foetida",
           "Apiaceae",
           "Iran; W. and C. Asia",
           "حلتیت",
           "ḥiltīt",
           "阿魏",
           "āwèi",
           55,
           35,
           1
          ],
          [
           "Carum carvi",
           "Apiaceae",
           "Mediterranean; C. Europe; Eurasia",
           "كراويا",
           "karāwiyā",
           "葛縷子",
           "gě​lǚ​zi",
           69,
           45,
           1
          ],
          [
           "Coriandrum sativum",
           "Apiaceae",
           "E. Mediterranean; W. Asia",
           "كزبرة",
           "kuzbara",
           "芫荽",
           "yán​sui",
           45,
           40,
           1
          ],
          [
           "Cuminum cyminum",
           "Apiaceae",
           "S. Europe; W. & C. Asia; India",
           "كمون ",
           "kammūn",
           "孜然",
           "zī​rán",
           53,
           32,
           1
          ],
          [
           "Anethum graveolens",
           "Apiaceae",
           "S. Europe; N. Africa; SW. Asia",
           "شبت",
           "shibitt",
           "蒔蘿",
           "shíluó",
           30,
           28,
           1
          ],
          [
           "Foeniculum vulgare",
           "Apiaceae",
           "Mediterranean",
           "شمر",
           "shamar",
           "茴香",
           "huíxiāng",
           42,
           29,
           1
          ],
          [
           "Trachyspermum ammi",
           "Apiaceae",
           "Near East",
           null,
           null,
           null,
           null,
           60,
           39,
           1
          ]
         ],
         "geo": "geo",
         "hovertemplate": "<b>%{text}</b><br><br>Species: <i>%{customdata[0]}</i><br>Family: <i>%{customdata[1]}</i><br>Region of origin: %{customdata[2]}<br>Arabic: %{customdata[3]} <i>%{customdata[4]}</i><br>Chinese: %{customdata[5]} <i>%{customdata[6]}</i><br><extra></extra>",
         "hovertext": [
          "angelica",
          "anise",
          "asafoetida",
          "caraway",
          "coriander",
          "cumin",
          "dill",
          "fennel",
          "ajwain"
         ],
         "lat": [
          60,
          35,
          35,
          45,
          40,
          32,
          28,
          29,
          39
         ],
         "legendgroup": "Apiaceae",
         "lon": [
          11,
          33,
          55,
          69,
          45,
          53,
          30,
          42,
          60
         ],
         "marker": {
          "color": "#1d6996",
          "line": {
           "color": "rgba(0,0,0,0)",
           "width": 1
          },
          "opacity": 0.7,
          "size": 12,
          "sizemode": "area",
          "sizeref": 0.0009765625,
          "symbol": "circle"
         },
         "mode": "markers+text",
         "name": "Apiaceae",
         "showlegend": true,
         "text": [
          "angelica",
          "anise",
          "asafoetida",
          "caraway",
          "coriander",
          "cumin",
          "dill",
          "fennel",
          "ajwain"
         ],
         "textfont": {
          "color": "#ffffff",
          "family": "Noto Sans",
          "size": 12
         },
         "textposition": "top right",
         "type": "scattergeo"
        },
        {
         "customdata": [
          [
           "Elettaria cardamomum",
           "Zingiberaceae",
           "Kerala, S. India; southern Asia",
           "هال",
           "hāl",
           "豆蔻",
           "dòukòu",
           75,
           16,
           1
          ],
          [
           "Zingiber officinale",
           "Zingiberaceae",
           "South East Asia; India (secondary)",
           "زنجبيل",
           "zanjabīl",
           "薑",
           "jiāng",
           95,
           24,
           1
          ],
          [
           "Curcuma longa",
           "Zingiberaceae",
           "India",
           "كركم",
           "kurkum",
           "薑黃",
           "jiānghuáng",
           79,
           12,
           1
          ],
          [
           "Amomum subulatum",
           "Zingiberaceae",
           "Himalayas",
           "قاقلة",
           "qāqulla",
           "香豆蔻",
           "xiāngdòukòu",
           85,
           28,
           1
          ]
         ],
         "geo": "geo",
         "hovertemplate": "<b>%{text}</b><br><br>Species: <i>%{customdata[0]}</i><br>Family: <i>%{customdata[1]}</i><br>Region of origin: %{customdata[2]}<br>Arabic: %{customdata[3]} <i>%{customdata[4]}</i><br>Chinese: %{customdata[5]} <i>%{customdata[6]}</i><br><extra></extra>",
         "hovertext": [
          "cardamom",
          "ginger",
          "turmeric",
          "black cardamom"
         ],
         "lat": [
          16,
          24,
          12,
          28
         ],
         "legendgroup": "Zingiberaceae",
         "lon": [
          75,
          95,
          79,
          85
         ],
         "marker": {
          "color": "#38a6a5",
          "line": {
           "color": "rgba(0,0,0,0)",
           "width": 1
          },
          "opacity": 0.7,
          "size": 12,
          "sizemode": "area",
          "sizeref": 0.0009765625,
          "symbol": "circle"
         },
         "mode": "markers+text",
         "name": "Zingiberaceae",
         "showlegend": true,
         "text": [
          "cardamom",
          "ginger",
          "turmeric",
          "black cardamom"
         ],
         "textfont": {
          "color": "#ffffff",
          "family": "Noto Sans",
          "size": 12
         },
         "textposition": "top right",
         "type": "scattergeo"
        },
        {
         "customdata": [
          [
           "Capsicum annuum",
           "Solanaceae",
           "Central America",
           "فلفل حار",
           "fulful hārr",
           "辣椒",
           "làjiāo",
           -85,
           12,
           1
          ]
         ],
         "geo": "geo",
         "hovertemplate": "<b>%{text}</b><br><br>Species: <i>%{customdata[0]}</i><br>Family: <i>%{customdata[1]}</i><br>Region of origin: %{customdata[2]}<br>Arabic: %{customdata[3]} <i>%{customdata[4]}</i><br>Chinese: %{customdata[5]} <i>%{customdata[6]}</i><br><extra></extra>",
         "hovertext": [
          "chile"
         ],
         "lat": [
          12
         ],
         "legendgroup": "Solanaceae",
         "lon": [
          -85
         ],
         "marker": {
          "color": "#73af48",
          "line": {
           "color": "rgba(0,0,0,0)",
           "width": 1
          },
          "opacity": 0.7,
          "size": 12,
          "sizemode": "area",
          "sizeref": 0.0009765625,
          "symbol": "circle"
         },
         "mode": "markers+text",
         "name": "Solanaceae",
         "showlegend": true,
         "text": [
          "chile"
         ],
         "textfont": {
          "color": "#ffffff",
          "family": "Noto Sans",
          "size": 12
         },
         "textposition": "top right",
         "type": "scattergeo"
        },
        {
         "customdata": [
          [
           "Trigonella foenum-graecum",
           "Fabaceae",
           "S. Europe; W. Asia",
           "حلبة",
           "ḥulba",
           "胡蘆巴",
           "húlúbā",
           67,
           33,
           1
          ]
         ],
         "geo": "geo",
         "hovertemplate": "<b>%{text}</b><br><br>Species: <i>%{customdata[0]}</i><br>Family: <i>%{customdata[1]}</i><br>Region of origin: %{customdata[2]}<br>Arabic: %{customdata[3]} <i>%{customdata[4]}</i><br>Chinese: %{customdata[5]} <i>%{customdata[6]}</i><br><extra></extra>",
         "hovertext": [
          "fenugreek"
         ],
         "lat": [
          33
         ],
         "legendgroup": "Fabaceae",
         "lon": [
          67
         ],
         "marker": {
          "color": "#edae08",
          "line": {
           "color": "rgba(0,0,0,0)",
           "width": 1
          },
          "opacity": 0.7,
          "size": 12,
          "sizemode": "area",
          "sizeref": 0.0009765625,
          "symbol": "circle"
         },
         "mode": "markers+text",
         "name": "Fabaceae",
         "showlegend": true,
         "text": [
          "fenugreek"
         ],
         "textfont": {
          "color": "#ffffff",
          "family": "Noto Sans",
          "size": 12
         },
         "textposition": "top right",
         "type": "scattergeo"
        },
        {
         "customdata": [
          [
           "Cymbopogon citratus",
           "Poaceae",
           "Maritime Southeast Asia; cultigen",
           null,
           null,
           null,
           null,
           100,
           6,
           1
          ]
         ],
         "geo": "geo",
         "hovertemplate": "<b>%{text}</b><br><br>Species: <i>%{customdata[0]}</i><br>Family: <i>%{customdata[1]}</i><br>Region of origin: %{customdata[2]}<br>Arabic: %{customdata[3]} <i>%{customdata[4]}</i><br>Chinese: %{customdata[5]} <i>%{customdata[6]}</i><br><extra></extra>",
         "hovertext": [
          "lemongrass"
         ],
         "lat": [
          6
         ],
         "legendgroup": "Poaceae",
         "lon": [
          100
         ],
         "marker": {
          "color": "#e17909",
          "line": {
           "color": "rgba(0,0,0,0)",
           "width": 1
          },
          "opacity": 0.7,
          "size": 12,
          "sizemode": "area",
          "sizeref": 0.0009765625,
          "symbol": "circle"
         },
         "mode": "markers+text",
         "name": "Poaceae",
         "showlegend": true,
         "text": [
          "lemongrass"
         ],
         "textfont": {
          "color": "#ffffff",
          "family": "Noto Sans",
          "size": 12
         },
         "textposition": "top right",
         "type": "scattergeo"
        },
        {
         "customdata": [
          [
           "Myristica fragrans",
           "Myristicaceae",
           "Moluccas (Indonesia)",
           "بسباسة",
           "basbāsa",
           "肉豆蔻皮",
           "ròudòukòupí",
           130,
           -6,
           1
          ],
          [
           "Myristica fragrans",
           "Myristicaceae",
           "Moluccas (Indonesia)",
           "جوز الطيب",
           "jawz al-ṭīb",
           "肉豆蔻",
           "ròudòukòu",
           129,
           -4,
           1
          ]
         ],
         "geo": "geo",
         "hovertemplate": "<b>%{text}</b><br><br>Species: <i>%{customdata[0]}</i><br>Family: <i>%{customdata[1]}</i><br>Region of origin: %{customdata[2]}<br>Arabic: %{customdata[3]} <i>%{customdata[4]}</i><br>Chinese: %{customdata[5]} <i>%{customdata[6]}</i><br><extra></extra>",
         "hovertext": [
          "mace",
          "nutmeg"
         ],
         "lat": [
          -6,
          -4
         ],
         "legendgroup": "Myristicaceae",
         "lon": [
          130,
          129
         ],
         "marker": {
          "color": "#cc503e",
          "line": {
           "color": "rgba(0,0,0,0)",
           "width": 1
          },
          "opacity": 0.7,
          "size": 12,
          "sizemode": "area",
          "sizeref": 0.0009765625,
          "symbol": "circle"
         },
         "mode": "markers+text",
         "name": "Myristicaceae",
         "showlegend": true,
         "text": [
          "mace",
          "nutmeg"
         ],
         "textfont": {
          "color": "#ffffff",
          "family": "Noto Sans",
          "size": 12
         },
         "textposition": "top right",
         "type": "scattergeo"
        },
        {
         "customdata": [
          [
           "Nigella sativa",
           "Ranunculaceae",
           "Med; As",
           null,
           null,
           null,
           null,
           25,
           46,
           1
          ]
         ],
         "geo": "geo",
         "hovertemplate": "<b>%{text}</b><br><br>Species: <i>%{customdata[0]}</i><br>Family: <i>%{customdata[1]}</i><br>Region of origin: %{customdata[2]}<br>Arabic: %{customdata[3]} <i>%{customdata[4]}</i><br>Chinese: %{customdata[5]} <i>%{customdata[6]}</i><br><extra></extra>",
         "hovertext": [
          "nigella"
         ],
         "lat": [
          46
         ],
         "legendgroup": "Ranunculaceae",
         "lon": [
          25
         ],
         "marker": {
          "color": "#94346e",
          "line": {
           "color": "rgba(0,0,0,0)",
           "width": 1
          },
          "opacity": 0.7,
          "size": 12,
          "sizemode": "area",
          "sizeref": 0.0009765625,
          "symbol": "circle"
         },
         "mode": "markers+text",
         "name": "Ranunculaceae",
         "showlegend": true,
         "text": [
          "nigella"
         ],
         "textfont": {
          "color": "#ffffff",
          "family": "Noto Sans",
          "size": 12
         },
         "textposition": "top right",
         "type": "scattergeo"
        },
        {
         "customdata": [
          [
           "Piper nigrum",
           "Piperaceae",
           "Malabar coast (South India)",
           "فلفل",
           "filfil, fulful",
           "胡椒",
           "hújiāo",
           76,
           14,
           1
          ],
          [
           "Piper auritum",
           "Piperaceae",
           "Central America",
           null,
           null,
           null,
           null,
           -88.8755669,
           20.6845957,
           1
          ],
          [
           "Piper guineense",
           "Piperaceae",
           "tropical Africa",
           null,
           null,
           null,
           null,
           -0.1753186980377071,
           5.7051780999999995,
           1
          ],
          [
           "Piper cubeba",
           "Piperaceae",
           "Southeast Asia",
           "كبابة",
           "kabāba, kubāba",
           "蓽澄茄",
           "bìchéngqié",
           101,
           0,
           1
          ],
          [
           "Piper retrofractum",
           "Piperaceae",
           "SE As",
           null,
           null,
           null,
           null,
           111,
           -8,
           1
          ],
          [
           "Piper longum",
           "Piperaceae",
           "E. Himalaya to S. China; Indo-China; India",
           "دارفلفل",
           "dārfilfil",
           "蓽撥",
           "bìbō",
           80,
           23,
           1
          ],
          [
           "Piper capense",
           "Piperaceae",
           "East Africa",
           null,
           null,
           null,
           null,
           38.6521203,
           10.2116702,
           1
          ]
         ],
         "geo": "geo",
         "hovertemplate": "<b>%{text}</b><br><br>Species: <i>%{customdata[0]}</i><br>Family: <i>%{customdata[1]}</i><br>Region of origin: %{customdata[2]}<br>Arabic: %{customdata[3]} <i>%{customdata[4]}</i><br>Chinese: %{customdata[5]} <i>%{customdata[6]}</i><br><extra></extra>",
         "hovertext": [
          "pepper",
          "acuyo",
          "Ashanti pepper",
          "cubeb",
          "Javanese long pepper",
          "long pepper",
          "timiz"
         ],
         "lat": [
          14,
          20.6845957,
          5.7051780999999995,
          0,
          -8,
          23,
          10.2116702
         ],
         "legendgroup": "Piperaceae",
         "lon": [
          76,
          -88.8755669,
          -0.1753186980377071,
          101,
          111,
          80,
          38.6521203
         ],
         "marker": {
          "color": "#6f4070",
          "line": {
           "color": "rgba(0,0,0,0)",
           "width": 1
          },
          "opacity": 0.7,
          "size": 12,
          "sizemode": "area",
          "sizeref": 0.0009765625,
          "symbol": "circle"
         },
         "mode": "markers+text",
         "name": "Piperaceae",
         "showlegend": true,
         "text": [
          "pepper",
          "acuyo",
          "Ashanti pepper",
          "cubeb",
          "Javanese long pepper",
          "long pepper",
          "timiz"
         ],
         "textfont": {
          "color": "#ffffff",
          "family": "Noto Sans",
          "size": 12
         },
         "textposition": "top right",
         "type": "scattergeo"
        },
        {
         "customdata": [
          [
           "Crocus sativus",
           "Iridaceae",
           "Greece; Near East",
           "زعفران",
           "zaʿfarān",
           "藏紅花",
           "zànghónghuā",
           25,
           36,
           1
          ]
         ],
         "geo": "geo",
         "hovertemplate": "<b>%{text}</b><br><br>Species: <i>%{customdata[0]}</i><br>Family: <i>%{customdata[1]}</i><br>Region of origin: %{customdata[2]}<br>Arabic: %{customdata[3]} <i>%{customdata[4]}</i><br>Chinese: %{customdata[5]} <i>%{customdata[6]}</i><br><extra></extra>",
         "hovertext": [
          "saffron"
         ],
         "lat": [
          36
         ],
         "legendgroup": "Iridaceae",
         "lon": [
          25
         ],
         "marker": {
          "color": "#a28aba",
          "line": {
           "color": "rgba(0,0,0,0)",
           "width": 1
          },
          "opacity": 0.7,
          "size": 12,
          "sizemode": "area",
          "sizeref": 0.0009765625,
          "symbol": "circle"
         },
         "mode": "markers+text",
         "name": "Iridaceae",
         "showlegend": true,
         "text": [
          "saffron"
         ],
         "textfont": {
          "color": "#ffffff",
          "family": "Noto Sans",
          "size": 12
         },
         "textposition": "top right",
         "type": "scattergeo"
        },
        {
         "customdata": [
          [
           "Illicium verum",
           "Schisandraceae",
           "SE. China; Vietnam",
           "يانسون نجمي",
           "yānsūn najmī",
           "八角",
           "bājiǎo",
           106,
           18,
           1
          ]
         ],
         "geo": "geo",
         "hovertemplate": "<b>%{text}</b><br><br>Species: <i>%{customdata[0]}</i><br>Family: <i>%{customdata[1]}</i><br>Region of origin: %{customdata[2]}<br>Arabic: %{customdata[3]} <i>%{customdata[4]}</i><br>Chinese: %{customdata[5]} <i>%{customdata[6]}</i><br><extra></extra>",
         "hovertext": [
          "star anise"
         ],
         "lat": [
          18
         ],
         "legendgroup": "Schisandraceae",
         "lon": [
          106
         ],
         "marker": {
          "color": "#6baed6",
          "line": {
           "color": "rgba(0,0,0,0)",
           "width": 1
          },
          "opacity": 0.7,
          "size": 12,
          "sizemode": "area",
          "sizeref": 0.0009765625,
          "symbol": "circle"
         },
         "mode": "markers+text",
         "name": "Schisandraceae",
         "showlegend": true,
         "text": [
          "star anise"
         ],
         "textfont": {
          "color": "#ffffff",
          "family": "Noto Sans",
          "size": 12
         },
         "textposition": "top right",
         "type": "scattergeo"
        },
        {
         "customdata": [
          [
           "Aquilaria malaccensis",
           "Thymelaeaceae",
           "Southeast Asia",
           "عود",
           null,
           "沉香",
           "chénxiāng",
           107.9650855,
           15.9266657,
           1
          ]
         ],
         "geo": "geo",
         "hovertemplate": "<b>%{text}</b><br><br>Species: <i>%{customdata[0]}</i><br>Family: <i>%{customdata[1]}</i><br>Region of origin: %{customdata[2]}<br>Arabic: %{customdata[3]} <i>%{customdata[4]}</i><br>Chinese: %{customdata[5]} <i>%{customdata[6]}</i><br><extra></extra>",
         "hovertext": [
          "agarwood"
         ],
         "lat": [
          15.9266657
         ],
         "legendgroup": "Thymelaeaceae",
         "lon": [
          107.9650855
         ],
         "marker": {
          "color": "#8dd3d7",
          "line": {
           "color": "rgba(0,0,0,0)",
           "width": 1
          },
          "opacity": 0.7,
          "size": 12,
          "sizemode": "area",
          "sizeref": 0.0009765625,
          "symbol": "circle"
         },
         "mode": "markers+text",
         "name": "Thymelaeaceae",
         "showlegend": true,
         "text": [
          "agarwood"
         ],
         "textfont": {
          "color": "#ffffff",
          "family": "Noto Sans",
          "size": 12
         },
         "textposition": "top right",
         "type": "scattergeo"
        },
        {
         "customdata": [
          [
           "Bixa orellana",
           "Bixaceae",
           "Trop. Am.; C. Am.",
           "أناتو",
           "anātū",
           "胭脂樹紅",
           "yān​zhīshùhóng",
           -81,
           9,
           1
          ]
         ],
         "geo": "geo",
         "hovertemplate": "<b>%{text}</b><br><br>Species: <i>%{customdata[0]}</i><br>Family: <i>%{customdata[1]}</i><br>Region of origin: %{customdata[2]}<br>Arabic: %{customdata[3]} <i>%{customdata[4]}</i><br>Chinese: %{customdata[5]} <i>%{customdata[6]}</i><br><extra></extra>",
         "hovertext": [
          "annatto"
         ],
         "lat": [
          9
         ],
         "legendgroup": "Bixaceae",
         "lon": [
          -81
         ],
         "marker": {
          "color": "#7fbf7b",
          "line": {
           "color": "rgba(0,0,0,0)",
           "width": 1
          },
          "opacity": 0.7,
          "size": 12,
          "sizemode": "area",
          "sizeref": 0.0009765625,
          "symbol": "circle"
         },
         "mode": "markers+text",
         "name": "Bixaceae",
         "showlegend": true,
         "text": [
          "annatto"
         ],
         "textfont": {
          "color": "#ffffff",
          "family": "Noto Sans",
          "size": 12
         },
         "textposition": "top right",
         "type": "scattergeo"
        },
        {
         "customdata": [
          [
           "Zanthoxylum bungeanum",
           "Rutaceae",
           "China",
           "فلفل سيتشوان",
           "fulful sītshuwān",
           "花椒",
           "huā​jiāo",
           105,
           35,
           1
          ]
         ],
         "geo": "geo",
         "hovertemplate": "<b>%{text}</b><br><br>Species: <i>%{customdata[0]}</i><br>Family: <i>%{customdata[1]}</i><br>Region of origin: %{customdata[2]}<br>Arabic: %{customdata[3]} <i>%{customdata[4]}</i><br>Chinese: %{customdata[5]} <i>%{customdata[6]}</i><br><extra></extra>",
         "hovertext": [
          "Sichuan pepper"
         ],
         "lat": [
          35
         ],
         "legendgroup": "Rutaceae",
         "lon": [
          105
         ],
         "marker": {
          "color": "#b2cf6b",
          "line": {
           "color": "rgba(0,0,0,0)",
           "width": 1
          },
          "opacity": 0.7,
          "size": 12,
          "sizemode": "area",
          "sizeref": 0.0009765625,
          "symbol": "circle"
         },
         "mode": "markers+text",
         "name": "Rutaceae",
         "showlegend": true,
         "text": [
          "Sichuan pepper"
         ],
         "textfont": {
          "color": "#ffffff",
          "family": "Noto Sans",
          "size": 12
         },
         "textposition": "top right",
         "type": "scattergeo"
        }
       ],
       "layout": {
        "annotations": [
         {
          "font": {
           "color": "#404040",
           "family": "Noto Sans",
           "size": 8
          },
          "name": "copyright",
          "opacity": 0.9,
          "showarrow": false,
          "text": "© Gábor Parti, 2023",
          "x": 0.5,
          "xref": "paper",
          "y": 0,
          "yref": "paper"
         }
        ],
        "geo": {
         "bgcolor": "rgba(0,0,0,0)",
         "center": {},
         "coastlinecolor": "#383838",
         "coastlinewidth": 1,
         "countrycolor": "#383838",
         "countrywidth": 1,
         "domain": {
          "x": [
           0,
           1
          ],
          "y": [
           0,
           1
          ]
         },
         "framecolor": "#383838",
         "framewidth": 1,
         "lakecolor": "#202020",
         "landcolor": "#303030",
         "lataxis": {
          "dtick": 10,
          "gridcolor": "#282828",
          "gridwidth": 0.5,
          "showgrid": true
         },
         "lonaxis": {
          "dtick": 10,
          "gridcolor": "#282828",
          "gridwidth": 0.5,
          "showgrid": true
         },
         "oceancolor": "#202020",
         "projection": {
          "rotation": {
           "lat": 20,
           "lon": 80,
           "roll": 0
          },
          "scale": 1,
          "type": "orthographic"
         },
         "resolution": 110,
         "rivercolor": "#202020",
         "riverwidth": 1,
         "scope": "world",
         "showcoastlines": true,
         "showcountries": false,
         "showframe": true,
         "showlakes": true,
         "showland": true,
         "showocean": true,
         "showrivers": true,
         "showsubunits": true,
         "subunitcolor": "#383838",
         "subunitwidth": 0
        },
        "hoverlabel": {
         "font": {
          "family": "Noto Sans",
          "size": 12
         }
        },
        "legend": {
         "bgcolor": "rgba(0,0,0,0.25)",
         "font": {
          "color": "#ffffff",
          "family": "Noto Sans",
          "size": 12
         },
         "itemsizing": "constant",
         "orientation": "v",
         "title": {
          "font": {
           "color": "#ffffff",
           "family": "Noto Sans",
           "size": 14
          },
          "text": "family"
         },
         "tracegroupgap": 0,
         "traceorder": "normal",
         "x": 0,
         "xanchor": "left",
         "y": 0,
         "yanchor": "bottom"
        },
        "margin": {
         "b": 0,
         "l": 0,
         "r": 0,
         "t": 0
        },
        "paper_bgcolor": "rgba(0,0,0,0)",
        "plot_bgcolor": "rgba(0,0,0,0)",
        "showlegend": true,
        "template": {
         "data": {
          "bar": [
           {
            "error_x": {
             "color": "#2a3f5f"
            },
            "error_y": {
             "color": "#2a3f5f"
            },
            "marker": {
             "line": {
              "color": "#E5ECF6",
              "width": 0.5
             },
             "pattern": {
              "fillmode": "overlay",
              "size": 10,
              "solidity": 0.2
             }
            },
            "type": "bar"
           }
          ],
          "barpolar": [
           {
            "marker": {
             "line": {
              "color": "#E5ECF6",
              "width": 0.5
             },
             "pattern": {
              "fillmode": "overlay",
              "size": 10,
              "solidity": 0.2
             }
            },
            "type": "barpolar"
           }
          ],
          "carpet": [
           {
            "aaxis": {
             "endlinecolor": "#2a3f5f",
             "gridcolor": "white",
             "linecolor": "white",
             "minorgridcolor": "white",
             "startlinecolor": "#2a3f5f"
            },
            "baxis": {
             "endlinecolor": "#2a3f5f",
             "gridcolor": "white",
             "linecolor": "white",
             "minorgridcolor": "white",
             "startlinecolor": "#2a3f5f"
            },
            "type": "carpet"
           }
          ],
          "choropleth": [
           {
            "colorbar": {
             "outlinewidth": 0,
             "ticks": ""
            },
            "type": "choropleth"
           }
          ],
          "contour": [
           {
            "colorbar": {
             "outlinewidth": 0,
             "ticks": ""
            },
            "colorscale": [
             [
              0,
              "#0d0887"
             ],
             [
              0.1111111111111111,
              "#46039f"
             ],
             [
              0.2222222222222222,
              "#7201a8"
             ],
             [
              0.3333333333333333,
              "#9c179e"
             ],
             [
              0.4444444444444444,
              "#bd3786"
             ],
             [
              0.5555555555555556,
              "#d8576b"
             ],
             [
              0.6666666666666666,
              "#ed7953"
             ],
             [
              0.7777777777777778,
              "#fb9f3a"
             ],
             [
              0.8888888888888888,
              "#fdca26"
             ],
             [
              1,
              "#f0f921"
             ]
            ],
            "type": "contour"
           }
          ],
          "contourcarpet": [
           {
            "colorbar": {
             "outlinewidth": 0,
             "ticks": ""
            },
            "type": "contourcarpet"
           }
          ],
          "heatmap": [
           {
            "colorbar": {
             "outlinewidth": 0,
             "ticks": ""
            },
            "colorscale": [
             [
              0,
              "#0d0887"
             ],
             [
              0.1111111111111111,
              "#46039f"
             ],
             [
              0.2222222222222222,
              "#7201a8"
             ],
             [
              0.3333333333333333,
              "#9c179e"
             ],
             [
              0.4444444444444444,
              "#bd3786"
             ],
             [
              0.5555555555555556,
              "#d8576b"
             ],
             [
              0.6666666666666666,
              "#ed7953"
             ],
             [
              0.7777777777777778,
              "#fb9f3a"
             ],
             [
              0.8888888888888888,
              "#fdca26"
             ],
             [
              1,
              "#f0f921"
             ]
            ],
            "type": "heatmap"
           }
          ],
          "heatmapgl": [
           {
            "colorbar": {
             "outlinewidth": 0,
             "ticks": ""
            },
            "colorscale": [
             [
              0,
              "#0d0887"
             ],
             [
              0.1111111111111111,
              "#46039f"
             ],
             [
              0.2222222222222222,
              "#7201a8"
             ],
             [
              0.3333333333333333,
              "#9c179e"
             ],
             [
              0.4444444444444444,
              "#bd3786"
             ],
             [
              0.5555555555555556,
              "#d8576b"
             ],
             [
              0.6666666666666666,
              "#ed7953"
             ],
             [
              0.7777777777777778,
              "#fb9f3a"
             ],
             [
              0.8888888888888888,
              "#fdca26"
             ],
             [
              1,
              "#f0f921"
             ]
            ],
            "type": "heatmapgl"
           }
          ],
          "histogram": [
           {
            "marker": {
             "pattern": {
              "fillmode": "overlay",
              "size": 10,
              "solidity": 0.2
             }
            },
            "type": "histogram"
           }
          ],
          "histogram2d": [
           {
            "colorbar": {
             "outlinewidth": 0,
             "ticks": ""
            },
            "colorscale": [
             [
              0,
              "#0d0887"
             ],
             [
              0.1111111111111111,
              "#46039f"
             ],
             [
              0.2222222222222222,
              "#7201a8"
             ],
             [
              0.3333333333333333,
              "#9c179e"
             ],
             [
              0.4444444444444444,
              "#bd3786"
             ],
             [
              0.5555555555555556,
              "#d8576b"
             ],
             [
              0.6666666666666666,
              "#ed7953"
             ],
             [
              0.7777777777777778,
              "#fb9f3a"
             ],
             [
              0.8888888888888888,
              "#fdca26"
             ],
             [
              1,
              "#f0f921"
             ]
            ],
            "type": "histogram2d"
           }
          ],
          "histogram2dcontour": [
           {
            "colorbar": {
             "outlinewidth": 0,
             "ticks": ""
            },
            "colorscale": [
             [
              0,
              "#0d0887"
             ],
             [
              0.1111111111111111,
              "#46039f"
             ],
             [
              0.2222222222222222,
              "#7201a8"
             ],
             [
              0.3333333333333333,
              "#9c179e"
             ],
             [
              0.4444444444444444,
              "#bd3786"
             ],
             [
              0.5555555555555556,
              "#d8576b"
             ],
             [
              0.6666666666666666,
              "#ed7953"
             ],
             [
              0.7777777777777778,
              "#fb9f3a"
             ],
             [
              0.8888888888888888,
              "#fdca26"
             ],
             [
              1,
              "#f0f921"
             ]
            ],
            "type": "histogram2dcontour"
           }
          ],
          "mesh3d": [
           {
            "colorbar": {
             "outlinewidth": 0,
             "ticks": ""
            },
            "type": "mesh3d"
           }
          ],
          "parcoords": [
           {
            "line": {
             "colorbar": {
              "outlinewidth": 0,
              "ticks": ""
             }
            },
            "type": "parcoords"
           }
          ],
          "pie": [
           {
            "automargin": true,
            "type": "pie"
           }
          ],
          "scatter": [
           {
            "fillpattern": {
             "fillmode": "overlay",
             "size": 10,
             "solidity": 0.2
            },
            "type": "scatter"
           }
          ],
          "scatter3d": [
           {
            "line": {
             "colorbar": {
              "outlinewidth": 0,
              "ticks": ""
             }
            },
            "marker": {
             "colorbar": {
              "outlinewidth": 0,
              "ticks": ""
             }
            },
            "type": "scatter3d"
           }
          ],
          "scattercarpet": [
           {
            "marker": {
             "colorbar": {
              "outlinewidth": 0,
              "ticks": ""
             }
            },
            "type": "scattercarpet"
           }
          ],
          "scattergeo": [
           {
            "marker": {
             "colorbar": {
              "outlinewidth": 0,
              "ticks": ""
             }
            },
            "type": "scattergeo"
           }
          ],
          "scattergl": [
           {
            "marker": {
             "colorbar": {
              "outlinewidth": 0,
              "ticks": ""
             }
            },
            "type": "scattergl"
           }
          ],
          "scattermapbox": [
           {
            "marker": {
             "colorbar": {
              "outlinewidth": 0,
              "ticks": ""
             }
            },
            "type": "scattermapbox"
           }
          ],
          "scatterpolar": [
           {
            "marker": {
             "colorbar": {
              "outlinewidth": 0,
              "ticks": ""
             }
            },
            "type": "scatterpolar"
           }
          ],
          "scatterpolargl": [
           {
            "marker": {
             "colorbar": {
              "outlinewidth": 0,
              "ticks": ""
             }
            },
            "type": "scatterpolargl"
           }
          ],
          "scatterternary": [
           {
            "marker": {
             "colorbar": {
              "outlinewidth": 0,
              "ticks": ""
             }
            },
            "type": "scatterternary"
           }
          ],
          "surface": [
           {
            "colorbar": {
             "outlinewidth": 0,
             "ticks": ""
            },
            "colorscale": [
             [
              0,
              "#0d0887"
             ],
             [
              0.1111111111111111,
              "#46039f"
             ],
             [
              0.2222222222222222,
              "#7201a8"
             ],
             [
              0.3333333333333333,
              "#9c179e"
             ],
             [
              0.4444444444444444,
              "#bd3786"
             ],
             [
              0.5555555555555556,
              "#d8576b"
             ],
             [
              0.6666666666666666,
              "#ed7953"
             ],
             [
              0.7777777777777778,
              "#fb9f3a"
             ],
             [
              0.8888888888888888,
              "#fdca26"
             ],
             [
              1,
              "#f0f921"
             ]
            ],
            "type": "surface"
           }
          ],
          "table": [
           {
            "cells": {
             "fill": {
              "color": "#EBF0F8"
             },
             "line": {
              "color": "white"
             }
            },
            "header": {
             "fill": {
              "color": "#C8D4E3"
             },
             "line": {
              "color": "white"
             }
            },
            "type": "table"
           }
          ]
         },
         "layout": {
          "annotationdefaults": {
           "arrowcolor": "#2a3f5f",
           "arrowhead": 0,
           "arrowwidth": 1
          },
          "autotypenumbers": "strict",
          "coloraxis": {
           "colorbar": {
            "outlinewidth": 0,
            "ticks": ""
           }
          },
          "colorscale": {
           "diverging": [
            [
             0,
             "#8e0152"
            ],
            [
             0.1,
             "#c51b7d"
            ],
            [
             0.2,
             "#de77ae"
            ],
            [
             0.3,
             "#f1b6da"
            ],
            [
             0.4,
             "#fde0ef"
            ],
            [
             0.5,
             "#f7f7f7"
            ],
            [
             0.6,
             "#e6f5d0"
            ],
            [
             0.7,
             "#b8e186"
            ],
            [
             0.8,
             "#7fbc41"
            ],
            [
             0.9,
             "#4d9221"
            ],
            [
             1,
             "#276419"
            ]
           ],
           "sequential": [
            [
             0,
             "#0d0887"
            ],
            [
             0.1111111111111111,
             "#46039f"
            ],
            [
             0.2222222222222222,
             "#7201a8"
            ],
            [
             0.3333333333333333,
             "#9c179e"
            ],
            [
             0.4444444444444444,
             "#bd3786"
            ],
            [
             0.5555555555555556,
             "#d8576b"
            ],
            [
             0.6666666666666666,
             "#ed7953"
            ],
            [
             0.7777777777777778,
             "#fb9f3a"
            ],
            [
             0.8888888888888888,
             "#fdca26"
            ],
            [
             1,
             "#f0f921"
            ]
           ],
           "sequentialminus": [
            [
             0,
             "#0d0887"
            ],
            [
             0.1111111111111111,
             "#46039f"
            ],
            [
             0.2222222222222222,
             "#7201a8"
            ],
            [
             0.3333333333333333,
             "#9c179e"
            ],
            [
             0.4444444444444444,
             "#bd3786"
            ],
            [
             0.5555555555555556,
             "#d8576b"
            ],
            [
             0.6666666666666666,
             "#ed7953"
            ],
            [
             0.7777777777777778,
             "#fb9f3a"
            ],
            [
             0.8888888888888888,
             "#fdca26"
            ],
            [
             1,
             "#f0f921"
            ]
           ]
          },
          "colorway": [
           "#636efa",
           "#EF553B",
           "#00cc96",
           "#ab63fa",
           "#FFA15A",
           "#19d3f3",
           "#FF6692",
           "#B6E880",
           "#FF97FF",
           "#FECB52"
          ],
          "font": {
           "color": "#2a3f5f"
          },
          "geo": {
           "bgcolor": "white",
           "lakecolor": "white",
           "landcolor": "#E5ECF6",
           "showlakes": true,
           "showland": true,
           "subunitcolor": "white"
          },
          "hoverlabel": {
           "align": "left"
          },
          "hovermode": "closest",
          "mapbox": {
           "style": "light"
          },
          "paper_bgcolor": "white",
          "plot_bgcolor": "#E5ECF6",
          "polar": {
           "angularaxis": {
            "gridcolor": "white",
            "linecolor": "white",
            "ticks": ""
           },
           "bgcolor": "#E5ECF6",
           "radialaxis": {
            "gridcolor": "white",
            "linecolor": "white",
            "ticks": ""
           }
          },
          "scene": {
           "xaxis": {
            "backgroundcolor": "#E5ECF6",
            "gridcolor": "white",
            "gridwidth": 2,
            "linecolor": "white",
            "showbackground": true,
            "ticks": "",
            "zerolinecolor": "white"
           },
           "yaxis": {
            "backgroundcolor": "#E5ECF6",
            "gridcolor": "white",
            "gridwidth": 2,
            "linecolor": "white",
            "showbackground": true,
            "ticks": "",
            "zerolinecolor": "white"
           },
           "zaxis": {
            "backgroundcolor": "#E5ECF6",
            "gridcolor": "white",
            "gridwidth": 2,
            "linecolor": "white",
            "showbackground": true,
            "ticks": "",
            "zerolinecolor": "white"
           }
          },
          "shapedefaults": {
           "line": {
            "color": "#2a3f5f"
           }
          },
          "ternary": {
           "aaxis": {
            "gridcolor": "white",
            "linecolor": "white",
            "ticks": ""
           },
           "baxis": {
            "gridcolor": "white",
            "linecolor": "white",
            "ticks": ""
           },
           "bgcolor": "#E5ECF6",
           "caxis": {
            "gridcolor": "white",
            "linecolor": "white",
            "ticks": ""
           }
          },
          "title": {
           "x": 0.05
          },
          "xaxis": {
           "automargin": true,
           "gridcolor": "white",
           "linecolor": "white",
           "ticks": "",
           "title": {
            "standoff": 15
           },
           "zerolinecolor": "white",
           "zerolinewidth": 2
          },
          "yaxis": {
           "automargin": true,
           "gridcolor": "white",
           "linecolor": "white",
           "ticks": "",
           "title": {
            "standoff": 15
           },
           "zerolinecolor": "white",
           "zerolinewidth": 2
          }
         }
        },
        "title": {
         "font": {
          "color": "#ffffff",
          "family": "Noto Sans",
          "size": 18
         },
         "text": "",
         "x": 0.5,
         "xanchor": "center",
         "y": 0.99,
         "yanchor": "top"
        }
       }
      }
     },
     "metadata": {},
     "output_type": "display_data"
    }
   ],
   "source": [
    "# Set size\n",
    "df['size'] = 1\n",
    "\n",
    "# Create figure data\n",
    "data = px.scatter_geo(df,\n",
    "    lat='lat', \n",
    "    lon='lon',\n",
    "    text='item',\n",
    "    color='family',\n",
    "    color_discrete_sequence=color_scheme,\n",
    "    size_max = max_marker_size,\n",
    "    size = 'size',\n",
    "    opacity = opacity,\n",
    "    hover_name='item',\n",
    "    hover_data={'taxon_name':True, 'family':True, 'region of origin':True, 'Arabic':True, 'ar transliteration':True, 'Chinese':True, 'pinyin':True, 'lon':False, 'lat':False, 'size':False}, #'spreadability':':.2f', \n",
    "    labels={\"group\": \"category\"}\n",
    "    )\n",
    "\n",
    "# Save figure data\n",
    "fig = data\n",
    "\n",
    "###################################################\n",
    "# Interactive visualization (HTML/JSON) for the web\n",
    "\n",
    "# Call the orthographic traces and layout settings from above\n",
    "fig.update_traces(ortho_traces)\n",
    "fig.update_layout(ortho_layout)\n",
    "# fig.update_layout(title_text = \"Title\")\n",
    "# fig.update_layout(basemap_visible=True)\n",
    "\n",
    "# Add copyrigth\n",
    "fig.update_layout(annotations=[cr])\n",
    "\n",
    "# Show figure\n",
    "fig.show()\n",
    "\n",
    "# Write interactive visualization (HTML/JSON) for the web\n",
    "filename = \"home\"\n",
    "fig.write_html(path_out_html + filename + \".html\")\n",
    "fig.write_json(path_out_json + filename + \".json\", validate=True, pretty=True)\n",
    "\n",
    "###################################################\n",
    "# Image (PNG/PDF) for documents\n",
    "\n",
    "# Call figure data\n",
    "# fig = data\n",
    "\n",
    "# Call the orthographic traces and layout settings from above\n",
    "# fig.update_traces(ortho_traces)\n",
    "# fig.update_layout(ortho_layout)\n",
    "# fig.update_layout(geo=dict(projection_rotation = {'lat': 20, 'lon': 80, 'roll': 0}))\n",
    "# fig.update_layout(document_size)\n",
    "\n",
    "# Show figure\n",
    "# fig.show()\n",
    "\n",
    "# filename = \"home\"\n",
    "# fig.write_image(path_out_png + filename + \".png\", scale=3)\n",
    "# fig.write_image(filename + \".pdf\", engine=\"kaleido\")\n"
   ]
  },
  {
   "cell_type": "code",
   "execution_count": 95,
   "metadata": {},
   "outputs": [],
   "source": [
    "# Move files to the website folder\n",
    "move_dir(path_out_json, website_json, \"*.json\")"
   ]
  },
  {
   "cell_type": "markdown",
   "metadata": {},
   "source": [
    "# Other maps"
   ]
  },
  {
   "cell_type": "code",
   "execution_count": 96,
   "metadata": {},
   "outputs": [],
   "source": [
    "# # Basic map to show some countries, not very good\n",
    "\n",
    "# import plotly.express as px\n",
    "# import geopandas as gpd\n",
    "\n",
    "# # Load the world map data\n",
    "# world = gpd.read_file(gpd.datasets.get_path('naturalearth_lowres'))\n",
    "\n",
    "# # Filter the data to include only India, Sri Lanka, and Maldives\n",
    "# target_countries = ['India', 'Sri Lanka', 'Maldives', 'Wales']\n",
    "# filtered_world = world[world['name'].isin(target_countries)]\n",
    "\n",
    "# # Create a choropleth map\n",
    "# fig = px.choropleth(\n",
    "#     filtered_world,\n",
    "#     locations='iso_a3',\n",
    "#     color='name',\n",
    "#     color_discrete_sequence = color_scheme,\n",
    "#     projection='orthographic',\n",
    "#     title='Highlighted Countries: India, Sri Lanka, Maldives'\n",
    "# )\n",
    "\n",
    "# # Call the orthographic traces and layout settings from above\n",
    "# fig.update_layout(ortho_layout)\n",
    "# # fig.update_layout(title_text = \"Title\")\n",
    "\n",
    "# # Show the map\n",
    "# fig.show()\n"
   ]
  },
  {
   "cell_type": "code",
   "execution_count": 97,
   "metadata": {},
   "outputs": [],
   "source": [
    "df = df_items.copy()\n",
    "\n",
    "key = \"saffron\""
   ]
  },
  {
   "cell_type": "markdown",
   "metadata": {},
   "source": [
    "## Distribution maps"
   ]
  },
  {
   "cell_type": "code",
   "execution_count": 98,
   "metadata": {},
   "outputs": [],
   "source": [
    "def habitat_map(key):\n",
    "    '''\n",
    "    This function generates a map of the distributions of a spice.\n",
    "    '''\n",
    "\n",
    "    print(\"Drawing habitat map of\", key)\n",
    "    \n",
    "    # Load the geographic data (shapefile or GeoJSON) # https://github.com/tdwg/wgsrpd\n",
    "    gdf = gpd.read_file(\"data\\\\resources\\\\geo\\\\level3.geojson\")\n",
    "\n",
    "    # Rename columns\n",
    "    gdf.columns = ['name', 'code', 'code_l2', 'code_l1', 'geometry']\n",
    "\n",
    "    # Get local df and reset its index\n",
    "    df_local = df_items.loc[df_items['key'] == key]\n",
    "    df_local.reset_index(drop=True, inplace=True)\n",
    "\n",
    "    # Get list of native regions\n",
    "    native_regions = df_local.loc[0, 'native regions'].split(', ')\n",
    "\n",
    "    # Get list of introduced regions, if it is not NA\n",
    "    if pd.notna(df_local.loc[0, 'introduced regions']):\n",
    "        introduced_regions = df_local.loc[0, 'introduced regions'].split(', ')\n",
    "    else:\n",
    "        introduced_regions = []\n",
    "\n",
    "    # Filter data for native regions from gdf dataframe's LEVEL3_NAM column\n",
    "    filtered_data_native = gdf[gdf['name'].isin(native_regions)].copy()  # Ensure a copy is made\n",
    "    filtered_data_native.loc[:, 'region'] = 'native'\n",
    "\n",
    "    # Filter data for introduced regions from gdf dataframe's LEVEL3_NAM column\n",
    "    filtered_data_introduced = gdf[gdf['name'].isin(introduced_regions)].copy()  # Ensure a copy is made\n",
    "    if not filtered_data_introduced.empty:\n",
    "        filtered_data_introduced.loc[:, 'region'] = 'introduced'\n",
    "\n",
    "    # Concatenate the filtered dataframes\n",
    "    filtered_data = pd.concat([filtered_data_native, filtered_data_introduced])\n",
    "\n",
    "    # ***\n",
    "\n",
    "    # Create the choropleth map\n",
    "    fig = px.choropleth(\n",
    "        filtered_data,\n",
    "        geojson = filtered_data.geometry,\n",
    "        locations = filtered_data.index,\n",
    "        color = 'region',\n",
    "        color_discrete_sequence = ['#88ae43', '#6943ae'],\n",
    "        hover_data = {'name': True, 'code': True},\n",
    "        projection = 'natural earth'\n",
    "    )\n",
    "\n",
    "    # Call layout\n",
    "    fig.update_traces(ne_traces)\n",
    "    fig.update_layout(ne_layout)\n",
    "\n",
    "    # Adjust map bounds\n",
    "    # fig.update_geos(fitbounds='locations')  \n",
    "\n",
    "    # Get centroid values for the native regions of the item\n",
    "    for index, row in df_local.iterrows():\n",
    "        native_distribution = row['native regions'].split(', ')\n",
    "        # Filter data for native distribution from gdf dataframe's LEVEL3_NAM column\n",
    "        native_data = gdf[gdf['name'].isin(native_distribution)].copy() \n",
    "        # Calculate centroid data\n",
    "        native_centroid = native_data.to_crs('+proj=cea').centroid.to_crs(native_data.crs)\n",
    "        native_centroid_lon = native_centroid.x.iloc[0]\n",
    "        native_centroid_lat = native_centroid.y.iloc[0] + 10\n",
    "\n",
    "    # Amend projection rotation with the native regions' centroid values\n",
    "    fig.update_layout(geo=dict(projection_rotation = {'lat': native_centroid_lat, 'lon': native_centroid_lon, 'roll': 0}))\n",
    "\n",
    "    # Show the map\n",
    "    # fig.show()\n",
    "\n",
    "    # Save\n",
    "    # fig.write_html(path_out_html + key + \".html\")\n",
    "    fig.write_json(path_out_json + key + \".json\", validate=True, pretty=True)\n",
    "    # fig.write_image(path_out_png + key + \".png\", scale=3)\n",
    "    return"
   ]
  },
  {
   "cell_type": "code",
   "execution_count": 99,
   "metadata": {},
   "outputs": [],
   "source": [
    "# # Loop through all spices\n",
    "# for key in list_of_keys:\n",
    "#     # If item belongs to kingdom Plantae, draw a map\n",
    "#     if df_items.loc[df_items['key'] == key, 'kingdom'].iloc[0] == 'Plantae':\n",
    "#         habitat_map(key)\n",
    "# print(\"Done.\")\n",
    "\n",
    "# # Move files to the website folder\n",
    "# move_dir(path_out_json, website_json + \"/distributions\", \"*.json\")"
   ]
  },
  {
   "cell_type": "markdown",
   "metadata": {},
   "source": [
    "# End"
   ]
  },
  {
   "cell_type": "code",
   "execution_count": 100,
   "metadata": {},
   "outputs": [
    {
     "name": "stdout",
     "output_type": "stream",
     "text": [
      "All done at 2023-12-08 16:16:45.228691.\n",
      "Duration: 0:00:25.596728\n"
     ]
    }
   ],
   "source": [
    "# ...measure time\n",
    "end_time = datetime.now()\n",
    "print(\"All done at \" + str(end_time) + \".\")\n",
    "print('Duration: {}'.format(end_time - start_time))"
   ]
  },
  {
   "cell_type": "markdown",
   "metadata": {},
   "source": [
    "# Notes"
   ]
  },
  {
   "cell_type": "code",
   "execution_count": 101,
   "metadata": {},
   "outputs": [],
   "source": [
    "# print(gpd.datasets.available)\n",
    "# import geodatasets\n",
    "# geodatasets.data\n",
    "\n",
    "# with open(\"data\\\\resources\\\\geo\\\\level3.geojson\", 'r') as f:\n",
    "#     geojson_data = json.load(f)\n",
    "\n",
    "# geojson_data"
   ]
  }
 ],
 "metadata": {
  "kernelspec": {
   "display_name": "work",
   "language": "python",
   "name": "python3"
  },
  "language_info": {
   "codemirror_mode": {
    "name": "ipython",
    "version": 3
   },
   "file_extension": ".py",
   "mimetype": "text/x-python",
   "name": "python",
   "nbconvert_exporter": "python",
   "pygments_lexer": "ipython3",
   "version": "3.10.12"
  },
  "orig_nbformat": 4
 },
 "nbformat": 4,
 "nbformat_minor": 2
}
