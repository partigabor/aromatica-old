{
 "cells": [
  {
   "cell_type": "markdown",
   "metadata": {},
   "source": [
    "# Encyclopaedia Aromatica pipeline"
   ]
  },
  {
   "cell_type": "markdown",
   "metadata": {},
   "source": [
    "## Libraries"
   ]
  },
  {
   "cell_type": "code",
   "execution_count": 332,
   "metadata": {},
   "outputs": [],
   "source": [
    "# Import dependencies\n",
    "import os\n",
    "import pandas as pd\n",
    "from tabulate import tabulate\n",
    "import numpy as np\n",
    "import re\n",
    "\n",
    "from collections import defaultdict\n",
    "from datetime import date, datetime, timedelta\n",
    "from py_markdown_table.markdown_table import markdown_table\n",
    "\n",
    "# pip install babelnet\n",
    "\n",
    "from plotly.io import write_image, write_json\n",
    "import plotly.express as px\n",
    "import plotly.graph_objs as go\n",
    "from plotly.offline import plot\n",
    "\n",
    "# import geopandas as gpd\n",
    "\n",
    "from palette import *\n",
    "from scripts.unsplash import *\n",
    "from scripts.pexels import *\n",
    "from scripts.functions import *\n",
    "\n",
    "pd.options.mode.copy_on_write = True # to avoid SettingWithCopyWarning, https://stackoverflow.com/questions/20625582/how-to-deal-with-settingwithcopywarning-in-pandas\n"
   ]
  },
  {
   "cell_type": "markdown",
   "metadata": {},
   "source": [
    "## Paths"
   ]
  },
  {
   "cell_type": "code",
   "execution_count": 333,
   "metadata": {},
   "outputs": [],
   "source": [
    "path_in = \"data/\"\n",
    "path_out_tex = \"output/tex/\"\n",
    "path_out_md = \"output/md/\"\n",
    "path_out_html = \"output/html/\"\n",
    "path_out_json = \"output/json/\"\n",
    "path_out_png = \"output/png/\"\n",
    "path_out_pdf = \"output/pdf/\"\n",
    "path_downloaded_photos = \"output/photos/\"\n",
    "\n",
    "website_md = \"../content/items/\"\n",
    "website_json = \"../static/plotly/\"\n",
    "website_photos = \"../static/images/photos/\""
   ]
  },
  {
   "cell_type": "code",
   "execution_count": 334,
   "metadata": {},
   "outputs": [],
   "source": [
    "# import requests\n",
    " \n",
    "# def fetch_wikidata(params):\n",
    "#     url = 'https://www.wikidata.org/w/api.php'\n",
    "#     try:\n",
    "#         return requests.get(url, params=params)\n",
    "#     except:\n",
    "#         return 'There was and error'\n",
    "\n",
    "# # What text to search for\n",
    "# query = 'Elettaria cardamomum'\n",
    " \n",
    "# # Which parameters to use\n",
    "# params = {\n",
    "#         'action': 'wbsearchentities',\n",
    "#         'format': 'json',\n",
    "#         'search': query,\n",
    "#         'language': 'en'\n",
    "#     }\n",
    "\n",
    "# # Fetch API\n",
    "# data = fetch_wikidata(params)\n",
    " \n",
    "# #show response as JSON\n",
    "# data = data.json()\n",
    "# data"
   ]
  },
  {
   "cell_type": "markdown",
   "metadata": {},
   "source": [
    "## Functions"
   ]
  },
  {
   "cell_type": "code",
   "execution_count": 335,
   "metadata": {},
   "outputs": [],
   "source": [
    "# Start timer\n",
    "start_time = datetime.now()"
   ]
  },
  {
   "cell_type": "markdown",
   "metadata": {},
   "source": [
    "# Data"
   ]
  },
  {
   "cell_type": "markdown",
   "metadata": {},
   "source": [
    "## Spices"
   ]
  },
  {
   "cell_type": "code",
   "execution_count": 336,
   "metadata": {},
   "outputs": [
    {
     "name": "stdout",
     "output_type": "stream",
     "text": [
      "1 spices in total:,  ['allspice']\n",
      "['allspice']\n",
      "+----+-----------+-----+--------+------+---------------------------------------------+----------------+-----------------+----------------------------+-------------+---------------+----------+----------------------------------------------------+--------------+---------------+----------------------+---------------+--------+---------+----------+------------+----------+--------+---------+--------+------------+--------------------------------------------+-----------+-----------+--------------------------+----------------------------------------+-------------------------------------------+------------------------------------------------------------+------------------------------------+------------------------------------+-------------+-----------------+--------------------------------------------------+-------------+-----------+-------------+--------------+------------------------------------------------+-----------------------------------------+---------------+------------------------------------+----------------+-------+-------+------------+-------------+---------------------------+------------+-----------------------+--------+----------------------------------------------------------------------------------------------------------------------+-----------------------------+------------+----------------------+------------------------------------------------------------------+---------------+---------------+---------------+--------------+-----------+-------------------------+-------------+----------------+-----------------+----------+-----------+-------------+------------------+----------+------------+-------------+--------------+---------------------------------------------------------+--------------+-------------+------+--------------+-------------------------------+----------------------------------------------+---------------------------------+-------+----------+-----------+----------+--------------+----------+------------+-------------------+----------------------+---------------------+----------+-------+-------------------+---------------+------------+--------------------------------------+------------------------------------+-------------------------------+--------+---------+--------------+--------------+-----------+----------------+------------+----------+-------------------------------------------------------+\n",
      "|    | include   |   v | done   |   id | powo                                        | taxon_name     | taxon_authors   | taxon_syn                  |   taxon_alt | group         | item     | description                                        | related      | also          | source               |   petruzzello |   hill |   dalby |   vanwyk |   anderson |   katzer |   ucla |   polyu |   freq | category   | tag                                        |   comment | kingdom   | part                     | wikipedia                              | britannica                                | common_names                                               | wyk_name                           | dalby_name                         |   hill_name | anderson_name   | katzer_name                                      |   amar_name |   hu_name |   wiki_name |   other_name | etymologies                                    | wiktionary                              | plant name    | region_of_origin                   |   origin dalby |   lat |   lon | location   | macroarea   | cultivation               | color      | taste_smell           |   heat | major_uses                                                                                                           | ill_source                  | ill_page   | ill_key              | ill_link                                                         |   other_links | wn_plant      | wn            |   wn_comment | English   | en_alt                  | Arabic      | ar             | ar_literal      |   ar_alt | Chinese   | zh          | zh_literal       |   zh_alt |   zh_notes | Hungarian   | hu_literal   | hu_alt                                                  | hu_notes     |   Cantonese |   yu |   yu literal | notes                         | operative                                    | pharmaceutical                  |   tcm |   tcm_db |   tcm_url |   tcm_zh |   tcm_pinyin |   tcm_en |   tcm_desc |   medicinal_group |   nature_and_flavors |   meridian_affinity |   action |   foc |   hu_history_1990 |   year_in_tcm |   ayurveda | gbif                                 | trop                               | eol                           |   ncbi | Hindi   | hi           |   hi literal |   Hi alt  | Indonesian     | Persian    | key      | url                                                   |\n",
      "|----+-----------+-----+--------+------+---------------------------------------------+----------------+-----------------+----------------------------+-------------+---------------+----------+----------------------------------------------------+--------------+---------------+----------------------+---------------+--------+---------+----------+------------+----------+--------+---------+--------+------------+--------------------------------------------+-----------+-----------+--------------------------+----------------------------------------+-------------------------------------------+------------------------------------------------------------+------------------------------------+------------------------------------+-------------+-----------------+--------------------------------------------------+-------------+-----------+-------------+--------------+------------------------------------------------+-----------------------------------------+---------------+------------------------------------+----------------+-------+-------+------------+-------------+---------------------------+------------+-----------------------+--------+----------------------------------------------------------------------------------------------------------------------+-----------------------------+------------+----------------------+------------------------------------------------------------------+---------------+---------------+---------------+--------------+-----------+-------------------------+-------------+----------------+-----------------+----------+-----------+-------------+------------------+----------+------------+-------------+--------------+---------------------------------------------------------+--------------+-------------+------+--------------+-------------------------------+----------------------------------------------+---------------------------------+-------+----------+-----------+----------+--------------+----------+------------+-------------------+----------------------+---------------------+----------+-------+-------------------+---------------+------------+--------------------------------------+------------------------------------+-------------------------------+--------+---------+--------------+--------------+-----------+----------------+------------+----------+-------------------------------------------------------|\n",
      "|  0 | in        |  82 | yes    |  nan | https://powo.science.kew.org/taxon/196799-2 | Pimenta dioica | (L.) Merr.      | Pimenta officinalis Lindl. |         nan | false peppers | allspice | the dried unripe berries of a small Caribbean tree | bay rum tree | wild allspice | vanwyk_2014_culinary |             1 |      1 |       1 |        1 |          1 |        1 |      1 |       0 |      7 | spice      | culinary; medicinal; perfumery; distillery |       nan | Plantae   | unripe fruit; leaf; wood | https://en.wikipedia.org/wiki/Allspice | https://www.britannica.com/plant/allspice | allspice; Jamaica pepper; pimento; myrtle pepper; newspice | allspice; pimento; Jamaican pepper | Allspice, Jamaica pepper, *pimento |         nan | allspice        | Jamaica pepper, Myrtle pepper, Pimento, Newspice |         nan |       nan |         nan |          nan | allspice; pimento; fulful ifranji; duoxiangguo | https://en.wiktionary.org/wiki/allspice | allspice tree | S. Mexico to C. America; Caribbean |            nan |    18 |   -77 | Jamaica    | Americas    | Jamaica; Mexico; Honduras | dark brown | pungent, mixed, spicy |      4 | pickles, wines, desserts, liquors; spice for jerking meat; leaf oil for flavouring rum; wood to smoke and grill meat | Köhler's Medizinal-Pflanzen | II 174     | koehler_1887_koehler | https://www.biodiversitylibrary.org/item/10837#page/697/mode/1up |           nan | allspice.n.01 | allspice.n.03 |          nan | allspice  | pimento; Jamaica pepper | فلفل إفرنجي | fulful ifranjī | Frankish pepper |      nan | 多香果    | duōxiāngguǒ | many-spice-fruit |      nan |        nan | szegfűbors  | clove-pepper | jamaicaibors [Jamaican-pepper]; amomummag [amomum-seed] | vegyesfűszer |         nan |  nan |          nan | West Indies; Greater Antilles | look for similar spices on wikipedia article | Fructus Amomi; Fructus Pimentae |     0 |      nan |       nan |      nan |          nan |      nan |        nan |               nan |                  nan |                 nan |      nan |   nan |               nan |           nan |        nan | https://www.gbif.org/species/3186061 | https://tropicos.org/name/22101787 | https://eol.org/pages/2508608 | 375272 | गंधद्रव्य  | gandhadravya |          nan |       nan | merica Jamaika | فلفل فرنگی | allspice | https://partigabor.github.io/aromatica/items/allspice |\n",
      "+----+-----------+-----+--------+------+---------------------------------------------+----------------+-----------------+----------------------------+-------------+---------------+----------+----------------------------------------------------+--------------+---------------+----------------------+---------------+--------+---------+----------+------------+----------+--------+---------+--------+------------+--------------------------------------------+-----------+-----------+--------------------------+----------------------------------------+-------------------------------------------+------------------------------------------------------------+------------------------------------+------------------------------------+-------------+-----------------+--------------------------------------------------+-------------+-----------+-------------+--------------+------------------------------------------------+-----------------------------------------+---------------+------------------------------------+----------------+-------+-------+------------+-------------+---------------------------+------------+-----------------------+--------+----------------------------------------------------------------------------------------------------------------------+-----------------------------+------------+----------------------+------------------------------------------------------------------+---------------+---------------+---------------+--------------+-----------+-------------------------+-------------+----------------+-----------------+----------+-----------+-------------+------------------+----------+------------+-------------+--------------+---------------------------------------------------------+--------------+-------------+------+--------------+-------------------------------+----------------------------------------------+---------------------------------+-------+----------+-----------+----------+--------------+----------+------------+-------------------+----------------------+---------------------+----------+-------+-------------------+---------------+------------+--------------------------------------+------------------------------------+-------------------------------+--------+---------+--------------+--------------+-----------+----------------+------------+----------+-------------------------------------------------------+\n"
     ]
    }
   ],
   "source": [
    "# Read and store content of an excel file \n",
    "df = pd.read_excel(path_in+\"spices.xlsx\")\n",
    "\n",
    "# Write the dataframe object into csv file\n",
    "df.to_csv (path_in+\"spices.csv\", index = None, header=True)\n",
    "\n",
    "# Load in dataset of spices as a dataframe\n",
    "df = pd.read_csv(path_in+'spices.csv', header=[0], delimiter=',', encoding=\"utf-8\")\n",
    "\n",
    "# Select ones to include\n",
    "df = df.loc[(df['include'] == \"in\")]\n",
    "\n",
    "# Save a list of items (the spices)\n",
    "list_of_items = df['item'].tolist()\n",
    "list_of_items.sort() # Sorts alphabetically, but capital letters come first\n",
    "\n",
    "# Save a list of keys based on \"item\", make it lowercase and replace spaces with underscores\n",
    "df['key'] = df['item'].str.lower().str.replace(\" \", \"_\")\n",
    "list_of_keys = df['key'].tolist()\n",
    "\n",
    "# Show how many spices there are and what are they\n",
    "n = len(list_of_keys)\n",
    "print(n, \"spices in total:, \", list_of_keys)\n",
    "print(list_of_keys)\n",
    "\n",
    "# Write n to a markdown file\n",
    "number = f\"As of now, the website contains information on **{n}** items.\"\n",
    "with open(\"../content/number.md\", \"w\") as file:\n",
    "    file.write(number)\n",
    "\n",
    "# Add links in a new column\n",
    "df['url'] = \"https://partigabor.github.io/aromatica/items/\" + df['key']\n",
    "\n",
    "# Inspect\n",
    "print(tabulate(df, headers='keys', tablefmt='psql'))"
   ]
  },
  {
   "cell_type": "markdown",
   "metadata": {},
   "source": [
    "## Botanical data"
   ]
  },
  {
   "cell_type": "code",
   "execution_count": 337,
   "metadata": {},
   "outputs": [
    {
     "name": "stdout",
     "output_type": "stream",
     "text": [
      "List items with no POWO links:\n",
      " Empty DataFrame\n",
      "Columns: [item, powo_url]\n",
      "Index: []\n"
     ]
    }
   ],
   "source": [
    "# Read in wcvp files\n",
    "wcvp = pd.read_csv(path_in + 'resources/wcvp/wcvp_names.csv', header=[0], delimiter='|', encoding=\"utf-8\", dtype=str)\n",
    "\n",
    "# Check row with a taxon name\n",
    "# wcvp.loc[wcvp['taxon_name'] == \"Zingiber officinale\"]\n",
    "\n",
    "# Merge wcvp plant data with spice data\n",
    "df = pd.merge(df, wcvp, on=['taxon_name', 'taxon_authors'], how='left')\n",
    "\n",
    "# Add family name \"Animalia\" to animal spices that don't have value in family column\n",
    "# df.loc[(df['kingdom'] == \"Animalia\") & (df['family'].isnull()), 'family'] = \"Animalia\"\n",
    "\n",
    "# Add POWO links by adding the powo_id to the end of the link \"https://powo.science.kew.org/taxon/\"\n",
    "df['powo_url'] = \"https://powo.science.kew.org/taxon/\" + df['powo_id']\n",
    "\n",
    "# Look at powo column of a spice\n",
    "# print(\"Print POWO link for checking:\", df.loc[df['key'] == 'ginger', ['powo_url']], \"\\n\")\n",
    "\n",
    "# Show items with missing POWO links\n",
    "print(\"List items with no POWO links:\\n\", df.loc[df['powo_url'].isnull(), ['item', 'powo_url']])"
   ]
  },
  {
   "cell_type": "code",
   "execution_count": 338,
   "metadata": {},
   "outputs": [],
   "source": [
    "# Read in wcvp plant distribution files\n",
    "wcvp_dist = pd.read_csv(path_in+'resources/wcvp/wcvp_distribution.csv', header=[0], delimiter='|', encoding=\"utf-8\", dtype=str)\n",
    "\n",
    "# Check line by plant_name_id\n",
    "wcvp_dist.loc[wcvp_dist['plant_name_id'] == \"273361\"]\n",
    "\n",
    "# Iterate through df to get native and introduced areas and regions\n",
    "for index, row in df.iterrows():\n",
    "    # Get a list of all vales in the area column for this plant_name_id, where 'introduced' is 0\n",
    "    native = wcvp_dist.loc[(wcvp_dist['plant_name_id'] == row['plant_name_id']) & (wcvp_dist['introduced'] == \"0\"), 'area'].tolist()\n",
    "    # Convert list to string\n",
    "    native = ', '.join(native)\n",
    "    # Add to df\n",
    "    df.at[index, 'native'] = native\n",
    "    \n",
    "    # Get a list of all vales in the area column for this plant_name_id, where 'introduced' is 1\n",
    "    introduced = wcvp_dist.loc[(wcvp_dist['plant_name_id'] == row['plant_name_id']) & (wcvp_dist['introduced'] == \"1\"), 'area'].tolist()\n",
    "    # Convert list to string\n",
    "    introduced = ', '.join(introduced)\n",
    "    # Add to df\n",
    "    df.at[index, 'introduced'] = introduced\n",
    "    \n",
    "    # Get a list of all vales in the region column for this plant_name_id, where 'introduced' is 0\n",
    "    regions = wcvp_dist.loc[(wcvp_dist['plant_name_id'] == row['plant_name_id']) & (wcvp_dist['introduced'] == \"0\"), 'region'].tolist()\n",
    "    # Remove duplicates from the list\n",
    "    regions = list(dict.fromkeys(regions))\n",
    "    # Convert list to string\n",
    "    regions = ', '.join(regions)\n",
    "    # Add to df\n",
    "    df.at[index, 'regions'] = regions\n",
    "    \n",
    "    # Get list of all values in the continent column for this plant_name_id, where 'introduced' is 0\n",
    "    continents = wcvp_dist.loc[(wcvp_dist['plant_name_id'] == row['plant_name_id']) & (wcvp_dist['introduced'] == \"0\"), 'continent'].tolist()\n",
    "    # Remove duplicates from the list\n",
    "    continents = list(dict.fromkeys(continents))\n",
    "    # Convert list to string\n",
    "    continents = ', '.join(continents)\n",
    "    # Title case continents column values\n",
    "    continents = continents.title()    \n",
    "    # Add to df\n",
    "    df.at[index, 'continents'] = continents\n",
    "     \n",
    "# # Add counts of distributions\n",
    "# df['n_of_native'] = df['native'].str.count(',') + 1\n",
    "# df['n_of_introduced'] = df['introduced'].str.count(',') + 1"
   ]
  },
  {
   "cell_type": "code",
   "execution_count": 339,
   "metadata": {},
   "outputs": [
    {
     "name": "stdout",
     "output_type": "stream",
     "text": [
      "List items with no native areas:\n",
      " Empty DataFrame\n",
      "Columns: [item, native]\n",
      "Index: []\n"
     ]
    }
   ],
   "source": [
    "# Check if any native or introduced areas are missing\n",
    "print(\"List items with no native areas:\\n\", df.loc[df['native'].isnull(), ['item', 'native']])"
   ]
  },
  {
   "cell_type": "code",
   "execution_count": 340,
   "metadata": {},
   "outputs": [],
   "source": [
    "# save for checking as xlsx\n",
    "df.to_excel(\"checking.xlsx\", index = None, header=True)"
   ]
  },
  {
   "cell_type": "markdown",
   "metadata": {},
   "source": [
    "## Additional data (online)\n",
    "\n",
    "Machine translations, WordNet definitions, Geocoordinates"
   ]
  },
  {
   "cell_type": "code",
   "execution_count": 341,
   "metadata": {},
   "outputs": [
    {
     "name": "stdout",
     "output_type": "stream",
     "text": [
      "Calculating coordinates of allspice\n"
     ]
    }
   ],
   "source": [
    "if internet_on():\n",
    "    \n",
    "    # Location coordinates\n",
    "    # generate_coordinates(df) # Generate geo-coordinates from location column\n",
    "    centroid_coordinates(df) # Generate geo-coordinates by finding the centroid of the native areas\n",
    "    \n",
    "    # # # Get a definition from WordNet\n",
    "    # wn_definition(df)\n",
    "    \n",
    "    # # Translate using WordNet\n",
    "    # wn_langs = ['fra', 'ita']\n",
    "    # for lan in wn_langs:\n",
    "    #     wn_translate(df, lan)\n",
    "    \n",
    "    # # Translate using DeepL\n",
    "    # dl_langs = ['fr', 'it']\n",
    "    # for lang in dl_langs:\n",
    "    #     dl_translate(df, lang)\n",
    "        \n",
    "    # # Create a new column called french and fill with NaN\n",
    "    # df['french'] = np.nan\n",
    "    # df['italian'] = np.nan\n",
    "    \n",
    "    # # Change \"\" to NaN in df\n",
    "    # df = df.replace(r'^\\s*$', np.nan, regex=True)\n",
    "    \n",
    "    # # Fill in 'french' column with values from 'wn_translation_fra' or 'dl_translation_fr' column where it is NaN\n",
    "    # df['french'] = df['french'].fillna(df['wn_translation_fra'])\n",
    "    # df['french'] = df['french'].fillna(df['dl_translation_fr'])\n",
    "    \n",
    "    # df['italian'] = df['italian'].fillna(df['wn_translation_ita'])\n",
    "    # df['italian'] = df['italian'].fillna(df['dl_translation_it'])\n",
    "\n",
    "# # Check\n",
    "# df_translations = df.filter(regex='fr')\n",
    "# df_translations"
   ]
  },
  {
   "cell_type": "code",
   "execution_count": 342,
   "metadata": {},
   "outputs": [
    {
     "name": "stdout",
     "output_type": "stream",
     "text": [
      "List of items with no coordinates: Empty DataFrame\n",
      "Columns: [item, lat, lon]\n",
      "Index: []\n"
     ]
    }
   ],
   "source": [
    "# Checking lat and lon for an item\n",
    "# print(\"Check coordinates:\", df.loc[df['key'] == 'ginger', ['lat', 'lon']])\n",
    "\n",
    "# List which items have NaN lat and lon values\n",
    "print(\"List of items with no coordinates:\", df.loc[(df['lat'].isnull()) & (df['lon'].isnull()), ['item', 'lat', 'lon']])"
   ]
  },
  {
   "cell_type": "code",
   "execution_count": 343,
   "metadata": {},
   "outputs": [],
   "source": [
    "# # Check if any coordinates overlap (identical lat and lon values in different rows)\n",
    "# print(\"List of items with identical coordinates:\", df.loc[df.duplicated(subset=['lat', 'lon'], keep=False), ['item', 'lat', 'lon']])\n",
    "\n",
    "# # Repel data points by adding a small random value to each coordinate\n",
    "# df['lat'] = df['lat'] + np.random.uniform(-5, 5, len(df))\n",
    "# df['lon'] = df['lon'] + np.random.uniform(-5, 5, len(df))"
   ]
  },
  {
   "cell_type": "code",
   "execution_count": 344,
   "metadata": {},
   "outputs": [],
   "source": [
    "# Subsetting categories (spices, herbs, incense)\n",
    "# df_spices = df.loc[(df['id'] == \"S\")]\n",
    "# print(df_spices.shape[0])\n",
    "# df_herbs = df.loc[(df['id'] == \"H\")]\n",
    "# print(df_herbs.shape[0])\n",
    "# df_incense = df.loc[(df['id'] == \"I\")]\n",
    "# print(df_incense.shape[0])"
   ]
  },
  {
   "cell_type": "code",
   "execution_count": 345,
   "metadata": {},
   "outputs": [
    {
     "data": {
      "text/html": [
       "<div>\n",
       "<style scoped>\n",
       "    .dataframe tbody tr th:only-of-type {\n",
       "        vertical-align: middle;\n",
       "    }\n",
       "\n",
       "    .dataframe tbody tr th {\n",
       "        vertical-align: top;\n",
       "    }\n",
       "\n",
       "    .dataframe thead th {\n",
       "        text-align: right;\n",
       "    }\n",
       "</style>\n",
       "<table border=\"1\" class=\"dataframe\">\n",
       "  <thead>\n",
       "    <tr style=\"text-align: right;\">\n",
       "      <th></th>\n",
       "      <th>include</th>\n",
       "      <th>v</th>\n",
       "      <th>done</th>\n",
       "      <th>id</th>\n",
       "      <th>powo</th>\n",
       "      <th>taxon_name</th>\n",
       "      <th>taxon_authors</th>\n",
       "      <th>taxon_syn</th>\n",
       "      <th>taxon_alt</th>\n",
       "      <th>group</th>\n",
       "      <th>...</th>\n",
       "      <th>homotypic_synonym</th>\n",
       "      <th>parent_plant_name_id</th>\n",
       "      <th>powo_id</th>\n",
       "      <th>hybrid_formula</th>\n",
       "      <th>reviewed</th>\n",
       "      <th>powo_url</th>\n",
       "      <th>native</th>\n",
       "      <th>introduced</th>\n",
       "      <th>regions</th>\n",
       "      <th>continents</th>\n",
       "    </tr>\n",
       "  </thead>\n",
       "  <tbody>\n",
       "    <tr>\n",
       "      <th>0</th>\n",
       "      <td>in</td>\n",
       "      <td>82.0</td>\n",
       "      <td>yes</td>\n",
       "      <td>NaN</td>\n",
       "      <td>https://powo.science.kew.org/taxon/196799-2</td>\n",
       "      <td>Pimenta dioica</td>\n",
       "      <td>(L.) Merr.</td>\n",
       "      <td>Pimenta officinalis Lindl.</td>\n",
       "      <td>NaN</td>\n",
       "      <td>false peppers</td>\n",
       "      <td>...</td>\n",
       "      <td>NaN</td>\n",
       "      <td>156124</td>\n",
       "      <td>196799-2</td>\n",
       "      <td>NaN</td>\n",
       "      <td>Y</td>\n",
       "      <td>https://powo.science.kew.org/taxon/196799-2</td>\n",
       "      <td>Mexico Gulf, Mexico Southwest, Mexico Southeas...</td>\n",
       "      <td>Society Is., Caroline Is., Hawaii, Florida, El...</td>\n",
       "      <td>Mexico, Central America, Caribbean</td>\n",
       "      <td>Northern America, Southern America</td>\n",
       "    </tr>\n",
       "  </tbody>\n",
       "</table>\n",
       "<p>1 rows × 145 columns</p>\n",
       "</div>"
      ],
      "text/plain": [
       "  include     v done   id                                         powo  \\\n",
       "0      in  82.0  yes  NaN  https://powo.science.kew.org/taxon/196799-2   \n",
       "\n",
       "       taxon_name taxon_authors                   taxon_syn taxon_alt  \\\n",
       "0  Pimenta dioica    (L.) Merr.  Pimenta officinalis Lindl.       NaN   \n",
       "\n",
       "           group  ... homotypic_synonym parent_plant_name_id   powo_id  \\\n",
       "0  false peppers  ...               NaN               156124  196799-2   \n",
       "\n",
       "  hybrid_formula reviewed                                     powo_url  \\\n",
       "0            NaN        Y  https://powo.science.kew.org/taxon/196799-2   \n",
       "\n",
       "                                              native  \\\n",
       "0  Mexico Gulf, Mexico Southwest, Mexico Southeas...   \n",
       "\n",
       "                                          introduced  \\\n",
       "0  Society Is., Caroline Is., Hawaii, Florida, El...   \n",
       "\n",
       "                              regions                          continents  \n",
       "0  Mexico, Central America, Caribbean  Northern America, Southern America  \n",
       "\n",
       "[1 rows x 145 columns]"
      ]
     },
     "execution_count": 345,
     "metadata": {},
     "output_type": "execute_result"
    }
   ],
   "source": [
    "# Assign\n",
    "df_items = df.copy()\n",
    "df.head()"
   ]
  },
  {
   "cell_type": "markdown",
   "metadata": {},
   "source": [
    "## Images"
   ]
  },
  {
   "cell_type": "code",
   "execution_count": 346,
   "metadata": {},
   "outputs": [],
   "source": [
    "# ##################\n",
    "# ### Downloader ###\n",
    "# ##################\n",
    "\n",
    "# # Download images from Unsplash and Pexels to be curated later, query with underscores\n",
    "# search = \"pink pepper\"\n",
    "# dashed_search = re.sub(\" \", \"-\", search)\n",
    "# unsplash_downloader(dashed_search, path_downloaded_photos)\n",
    "# pexels_downloader(search, path_downloaded_photos)\n",
    "\n",
    "# # Move images to the right folder, regardless of extension\n",
    "# move_dir(path_downloaded_photos, website_photos, \"*.png\")\n",
    "# move_dir(path_downloaded_photos, website_photos, \"*.jpg\")\n",
    "# move_dir(path_downloaded_photos, website_photos, \"*.jpeg\")"
   ]
  },
  {
   "cell_type": "code",
   "execution_count": 347,
   "metadata": {},
   "outputs": [],
   "source": [
    "# Create thumbnails for images\n",
    "for photo in list_files(\"../static/images/photos\"):\n",
    "    create_thumbnail(photo)"
   ]
  },
  {
   "cell_type": "code",
   "execution_count": 348,
   "metadata": {},
   "outputs": [],
   "source": [
    "# Images df\n",
    "# # Define the relative folder path\n",
    "# folder_path = '../static/images/photos'\n",
    "\n",
    "# # List of keys\n",
    "# list_of_keys.sort()\n",
    "\n",
    "# # Initialize item_info dictionary\n",
    "# item_info = {}  # Dictionary to store item information\n",
    "\n",
    "# # Initialize item counts, extensions, file names, and sources to empty lists for each item\n",
    "# for item in list_of_keys:\n",
    "#     item_info[item] = {'count': 0, 'extensions': [], 'file_names': [], 'sources': []}\n",
    "\n",
    "# # Iterate through the files in the folder\n",
    "# for filename in os.listdir(folder_path):\n",
    "#     if os.path.isfile(os.path.join(folder_path, filename)):\n",
    "#         # Extract the item name, extension, file name, and source from the file name\n",
    "#         item_name = filename.split('-')[0]\n",
    "#         extension = filename.split('.')[-1]\n",
    "#         file_name = filename\n",
    "#         source = filename.split('-')[2] if len(filename.split('-')) > 2 else \"\"\n",
    "#         # Remove the file extension from the source\n",
    "#         source = source.split('.')[0]\n",
    "        \n",
    "#         # Check if the item name is in the list_of_items\n",
    "#         if item_name in list_of_keys:\n",
    "#             item_info[item_name]['count'] += 1\n",
    "#             item_info[item_name]['extensions'].append(extension)\n",
    "#             item_info[item_name]['file_names'].append(file_name)\n",
    "#             item_info[item_name]['sources'].append(source)\n",
    "\n",
    "# # Create a Pandas DataFrame from the item_info dictionary\n",
    "# data = {'key': [], 'count': [], 'source': [], 'extension': []}\n",
    "# for item, info in item_info.items():\n",
    "#     data['key'].append(item)\n",
    "#     data['count'].append(info['count'])\n",
    "#     data['source'].append(', '.join(info['sources']))\n",
    "#     data['extension'].append(', '.join(info['extensions']))\n",
    "\n",
    "# df = pd.DataFrame(data)\n",
    "\n",
    "# # Fill in missing items with 0 image counts and empty sources, extensions\n",
    "# for item in list_of_keys:\n",
    "#     if item not in df['key'].values:\n",
    "#         df = df.append({'key': item, 'count': 0, 'source': '', 'extension': ''}, ignore_index=True)\n",
    "\n",
    "# # Reorder the DataFrame with columns 'item', 'count', 'source', 'extension'\n",
    "# df = df[['key', 'count', 'source', 'extension']]\n",
    "\n",
    "# # Sort the DataFrame by 'item'\n",
    "# df = df.sort_values(by='key')\n",
    "\n",
    "# # Reset the index of the DataFrame\n",
    "# df = df.reset_index(drop=True)\n",
    "\n",
    "# # Rename the columns\n",
    "# df.rename(columns={'count': 'img_count', 'source': 'img_source', 'extension': 'img_extension'}, inplace=True)\n",
    "\n",
    "# # Save\n",
    "# df_images = df.copy()\n",
    "\n",
    "# # Display the final DataFrame\n",
    "# print(df)\n",
    "\n",
    "# # Merge the two dataframes\n",
    "# df_items = pd.merge(df_items, df_images, on='key', how='left')"
   ]
  },
  {
   "cell_type": "markdown",
   "metadata": {},
   "source": [
    "## Names"
   ]
  },
  {
   "cell_type": "code",
   "execution_count": 349,
   "metadata": {},
   "outputs": [],
   "source": [
    "# # Read and store content of an excel file \n",
    "# df = pd.read_excel(path_in+\"names.xlsx\")\n",
    "\n",
    "# # Write the dataframe object into csv file\n",
    "# df.to_csv (path_in+\"names.csv\", index = None, header=True)\n",
    "\n",
    "# # Load in dataset of names\n",
    "# df = pd.read_csv(path_in+'names.csv', header =[0], delimiter=',', encoding=\"utf-8\")\n",
    "\n",
    "# # Select ones to include\n",
    "# df = df.loc[df['include'] == 'yes'] # include ones to include"
   ]
  },
  {
   "cell_type": "code",
   "execution_count": 350,
   "metadata": {},
   "outputs": [],
   "source": [
    "# # Change NaN to empty string\n",
    "# df.fillna('', inplace=True)\n",
    "\n",
    "# # Info\n",
    "# print(df.shape[0], \"names in total.\")\n",
    "\n",
    "# # Assign\n",
    "# df_names = df.copy()"
   ]
  },
  {
   "cell_type": "markdown",
   "metadata": {},
   "source": [
    "## Etymologies"
   ]
  },
  {
   "cell_type": "code",
   "execution_count": 351,
   "metadata": {},
   "outputs": [
    {
     "name": "stdout",
     "output_type": "stream",
     "text": [
      "84 words in total\n",
      "['tester', 'allspice', 'fulful ifranji', 'duoxiangguo', 'pimento', 'anise', 'anisun', 'huiqin', 'asafoetida', 'hing', 'hiltit', 'anjudan', 'awei', 'xingqu', 'caraway', 'karawiya', 'geluzi', 'cardamom', 'amomum', 'hal', 'qaqulla', 'doukou', 'cassia', 'salikha', 'rougui', 'cinnamon', 'darsini', 'qirfa', 'chile', 'fulful harr', 'lajiao', 'paprika', 'clove', 'qaranful', 'dingxiang', 'coriander', 'kuzbura', 'yansui', 'husui', 'cumin', 'kammun', 'ziran', 'dill', 'shibitt', 'shiluo', 'fennel', 'shamar', 'huixiang', 'fenugreek', 'hulba', 'huluba', 'ginger', 'zanjabil', 'jiang', 'long pepper', 'darfilfil', 'biba', 'mace', 'basbas', 'roudoukoupi', 'nutmeg', 'jawz al-tib', 'roudoukou', 'pepper', 'fulful', 'hujiao', 'bors', 'saffron', 'zafaran', 'fanhonghua', 'Sichuan pepper', 'fagara', 'fulful sitshuwan', 'huajiao', 'star anise', 'yansun najmi', 'bajiaohuixiang', 'badian', 'turmeric', 'kurkum', 'jianghuang', 'vanilla', 'faniliya', 'xiangcao']\n"
     ]
    }
   ],
   "source": [
    "# Read and store content of an excel file \n",
    "read_file = pd.read_excel(path_in+\"etymologies.xlsx\")\n",
    "\n",
    "# Write the dataframe object into csv file\n",
    "read_file.to_csv (path_in+\"etymologies.csv\", index = None, header=True)\n",
    "\n",
    "# Load in dataset\n",
    "df_etymologies=pd.read_csv(path_in+'etymologies.csv', header =[0], delimiter=',', encoding=\"utf-8\")\n",
    "\n",
    "# Split the dataset wherever an empty row is found\n",
    "df_list_with_na = np.split(df_etymologies, df_etymologies[df_etymologies.isnull().all(1)].index)\n",
    "\n",
    "# Drop NAs and reset the index\n",
    "df_list = []\n",
    "for df in df_list_with_na:\n",
    "  df = df.dropna(how='all')\n",
    "  df.reset_index(inplace=True, drop=True)\n",
    "  df_list.append(df)\n",
    "\n",
    "# Automatically extract IDs from the dataset\n",
    "list_of_etymologies = []\n",
    "for df in df_list:\n",
    "  # print(df['item'].iloc[0])\n",
    "  df = df.dropna(how='all')\n",
    "  df.reset_index(drop=True)\n",
    "  item = str(df['item'].iloc[0])\n",
    "  list_of_etymologies.append(item)\n",
    "\n",
    "# Print the number if IDs and what are they\n",
    "length = len(df_list)\n",
    "print(length, \"words in total\")\n",
    "print(list_of_etymologies)\n",
    "\n",
    "#Create a defaultdict of spice-word etymologies\n",
    "etymologies=defaultdict(list)\n",
    "for i in range(length):\n",
    "  etymologies[list_of_etymologies[i]]=df_list[i]\n",
    "\n",
    "# Testing\n",
    "# print(etymologies['saffron'])"
   ]
  },
  {
   "cell_type": "markdown",
   "metadata": {},
   "source": [
    "### Etymology box for LaTeX"
   ]
  },
  {
   "cell_type": "code",
   "execution_count": 352,
   "metadata": {},
   "outputs": [],
   "source": [
    "# key = \"tester\"\n",
    "\n",
    "# ################################################################################\n",
    "\n",
    "# # The following code will create an etymology box environment for the key, to be used in LaTeX\n",
    "# print(\"Started the generation of '\" + key + \"' as etymbox...\")\n",
    "\n",
    "# df_local = etymologies[key]\n",
    "# # df_local.fillna('', inplace=True)\n",
    "\n",
    "# # # Skipping those marked\n",
    "# df_local = df_local[df_local['boxskip'] != 'yes']\n",
    "# df_local.reset_index(inplace=True, drop=True)\n",
    "\n",
    "# # # Replace empty cells with NaNs\n",
    "# # df_local.replace(r'^\\s*$', np.nan, regex=True, inplace=True)\n",
    "# # df_local.replace(r'^nan$', np.nan, regex=True, inplace=True)\n",
    "\n",
    "# # Create content and sources stage by stage\n",
    "# content = \"\"\n",
    "# source = \"\"\n",
    "# sources = \"\"\n",
    "# source_list = []\n",
    "# nl = \"\\n\"\n",
    "\n",
    "# for index, row in df_local.iterrows():\n",
    "#   stage = \"< \"\n",
    "#   if pd.notna(row['complex']): # complex relationships\n",
    "#     row['complex'] = re.sub(\"and from\", \"+\", row['complex'])\n",
    "#     stage += row['complex'] + \" \"\n",
    "#   if pd.notna(row['language']): # language\n",
    "#     stage += \"\\\\textbf{\" + row['language'] + \"} \"\n",
    "#   if pd.notna(row['script']): # script\n",
    "#     script = \"{\" + row['script'] + \"} \"\n",
    "#     if row['language'] == 'Chinese':\n",
    "#       script = \"\\\\tc{\" + row['script'] + \"} \"\n",
    "#     stage += script\n",
    "#   if pd.notna(row['term']): # term\n",
    "#     stage += \"\\\\textit{\" + row['term'] + \"} \"\n",
    "#   if pd.notna(row['IPA']): # IPA\n",
    "#     stage += row['IPA'] + \" \"\n",
    "#   if pd.notna(row['meaning']): # meaning\n",
    "#     stage += \"`\" + row['meaning'] + \"' \"\n",
    "#   if pd.notna(row['literal']): # literal meaning\n",
    "#     stage += \"[\" + row['literal'] + \"] \"\n",
    "#   stage = re.sub(' $', '', stage)\n",
    "#   stage += \", \"\n",
    "#   if pd.notna(row['explanation']): # explanation\n",
    "#     stage += row['explanation'] + \" \"\n",
    "#   if pd.notna(row['remark']): # remark\n",
    "#     stage += \"(\" + row['remark'] + \") \"\n",
    "#   stage = re.sub(',? ?$', '', stage)\n",
    "\n",
    "#   if pd.notna(row['date']): # dates\n",
    "#     stage += \", \"\n",
    "#     row['date'] = re.sub('a(?=\\d)', 'a. ', row['date'])\n",
    "#     row['date'] = re.sub('c(?=\\d)', 'ca. ', row['date'])\n",
    "#     if re.match('^-\\d\\d?$', row['date']): # if is a century BC\n",
    "#       row['date'] = re.sub(\"-\", \"\", row['date'])\n",
    "#       date = \"\\\\nth{\" + row['date'] + \"} c. \\BC{}\" # ARAB NUMERALS\n",
    "#       # date = \" \" + roman(row['date']) + \" \\BC{}\" # ROMAN NUMERALS\n",
    "#     elif re.match('^\\d\\d?$', row['date']): # if is a century AD\n",
    "#       date = \"\\\\nth{\" + row['date'] + \"} c. \\AD{}\" # ARAB NUMERALS\n",
    "#       # date = \" \" + roman(row['date']) + \" \\AD{}\" # ROMAN NUMERALS\n",
    "#     else:\n",
    "#       date = row['date'] + \" \" # if it's a year\n",
    "#     stage += date\n",
    "#     stage = re.sub(',? ?$', '', stage)\n",
    "#   if pd.notna(row['cognates']): # cognates\n",
    "#     stage += \"; cf. cognates \" + row['cognates'] + \" \"\n",
    "#   if pd.notna(row['derivates']): # cognates\n",
    "#     if pd.notna(row['cognates']):\n",
    "#       stage = re.sub(' $', '', stage)\n",
    "#       stage += \"; \" + row['derivates'] + \" \"\n",
    "#     else:\n",
    "#       stage = re.sub(' $', '', stage)\n",
    "#       stage += \"; cf. \" + row['derivates'] + \" \"\n",
    "#   stage = re.sub(',? ?$', '', stage)\n",
    "#   # stage = re.sub('cf\\..*?(cf\\.)', '', stage)\n",
    "\n",
    "# # Final touches\n",
    "#   if row['doubt'] == 'yes':\n",
    "#     stage = re.sub(r'<', '<\\\\\\\\textss{?}', stage) # ???\n",
    "#   if row['complex'] == '+':\n",
    "#     stage = re.sub('<', '', stage)\n",
    "#   if row['complex'] == 'or from':\n",
    "#     stage = re.sub('<', '', stage)\n",
    "#   content += stage + nl\n",
    "\n",
    "# # Sources\n",
    "#   source=\"\"\n",
    "#   if pd.notna(row['source zotero']):\n",
    "#     source = row['source zotero']\n",
    "#     print(\"1\",source)\n",
    "#     if '{' in source:\n",
    "#       source = \"s\" + row['source zotero'].lower()\n",
    "#       print(source)\n",
    "#     else:\n",
    "#       source = \"{\" + row['source zotero'].lower() + \"}\"\n",
    "#       print(source)\n",
    "#     if pd.notna(row['source page']):\n",
    "#       source = \"[\" + str(row['source page']) + \"]{\" + row['source zotero'].lower() + \"}\"\n",
    "#       print(\"4\",source)\n",
    "#       if row['source page'].isalpha() == True:\n",
    "#         source = \"[s.v. \" + str(row['source page']) + \"]{\" + row['source zotero'].lower() + \"}\"\n",
    "#         print(\"5\",source)\n",
    "#     source = \"\\\\textcite\" + source\n",
    "#   print(source)\n",
    "#   source_list.append(source)\n",
    "\n",
    "# # clear duplicates from sources:\n",
    "# print(\"SL1: \", source_list)\n",
    "# # source_set = sorted(set(source_list), key=source_list.index)\n",
    "# source_set = set(source_list)\n",
    "# print(\"SS2: \", source_set)\n",
    "# source_list2 = list(source_set)\n",
    "# print(\"S3: \", source_list2)\n",
    "# sources_unduplicated = '; '.join(source_list2)\n",
    "# print(\"S4: \", sources_unduplicated)\n",
    "# # test for duplicates\n",
    "# newlist = [] # empty list to hold unique elements from the list\n",
    "# duplist = [] # empty list to hold the duplicate elements from the list\n",
    "# for i in source_list:\n",
    "#     if i not in newlist:\n",
    "#         newlist.append(i)\n",
    "#     else:\n",
    "#         duplist.append(i) # this method catches the first duplicate entries, and appends them to the list\n",
    "\n",
    "# # The next stage is to print the duplicate entries, and the unique entries\n",
    "# print(\"List of duplicates\", duplist)\n",
    "# print(\"Unique Item List\", newlist) \n",
    "# if len(duplist) > 0:\n",
    "#   # print(\"UNDUPL\")\n",
    "#   sources = sources_unduplicated\n",
    "# else:\n",
    "#   # print(\"ORI\")\n",
    "#   sources =  '; '.join(source_list)\n",
    "# # print(\"S5: \", sources)\n",
    "\n",
    "# sources =  '; '.join(source_list)\n",
    "\n",
    "# # Cleaning\n",
    "# sources = re.sub(\"; $\", \"\", sources)\n",
    "# sources = re.sub(\"^; \", \"\", sources)\n",
    "# sources = re.sub(\"(; )+\", \"; \", sources)\n",
    "# sources = \"\\\\footnote{\" + sources + \"}\\n\"\n",
    "\n",
    "# content = re.sub(\"\\n$\", \"\", content)\n",
    "# content = re.sub(r\"^< \", \"\", content) # delete the first <\n",
    "# content = re.sub(r\"\\n,\", \",\", content)\n",
    "# content = re.sub(r\" nan \", \" \", content)\n",
    "# content = re.sub(\"(<\\.\\n?)+$\", \"\", content)\n",
    "\n",
    "# content += sources\n",
    "\n",
    "# env_begin = r\"\\begin{etymology}\" + \"\\label{ety:\" + df_local['item'].iloc[0] + \"}\" + nl \n",
    "# env_end = r\"\\end{etymology}\"\n",
    "\n",
    "# box = env_begin + content + env_end\n",
    "# box = re.sub(r\"\\u200e\", \"\", box) #removes right to left mark\n",
    "\n",
    "# # Save the spicebox as a standalone tex file\n",
    "\n",
    "# filename = re.sub(\" \", \"_\", key)\n",
    "# filename = filename.lower()\n",
    "# f = open(path_out_tex + \"{}.tex\".format(\"etymbox_\" + filename), \"w\", encoding='utf-8')\n",
    "# f.write(box)\n",
    "# f.close()\n",
    "# print(\"Etymology-box '\" + str(key) + \"' as a tex file was created.\")\n",
    "# box\n"
   ]
  },
  {
   "cell_type": "code",
   "execution_count": 353,
   "metadata": {},
   "outputs": [],
   "source": [
    "# def etymbox(key):\n",
    "  \n",
    "#   # The following code will create a etymology box environment for the key, to be used in LaTeX\n",
    "#   print(\"Started the generation of '\" + key + \"' as etymbox...\")\n",
    "\n",
    "#   df_local = etymologies[key]\n",
    "#   # df_local.fillna('', inplace=True)\n",
    "\n",
    "#   # # Skipping those marked\n",
    "#   df_local = df_local[df_local['boxskip'] != 'yes']\n",
    "#   df_local.reset_index(inplace=True, drop=True)\n",
    "\n",
    "#   # # Replace empty cells with NaNs\n",
    "#   # df_local.replace(r'^\\s*$', np.nan, regex=True, inplace=True)\n",
    "#   # df_local.replace(r'^nan$', np.nan, regex=True, inplace=True)\n",
    "\n",
    "#   # Create content and sources stage by stage\n",
    "#   content = \"\"\n",
    "#   source = \"\"\n",
    "#   sources = \"\"\n",
    "#   source_list = []\n",
    "#   nl = \"\\n\"\n",
    "\n",
    "#   for index, row in df_local.iterrows():\n",
    "#     stage = \"< \"\n",
    "#     if pd.notna(row['complex']): # complex relationships\n",
    "#       row['complex'] = re.sub(\"and from\", \"+\", row['complex'])\n",
    "#       stage += row['complex'] + \" \"\n",
    "#     if pd.notna(row['language']): # language\n",
    "#       stage += \"\\\\textbf{\" + row['language'] + \"} \"\n",
    "#     if pd.notna(row['script']): # script\n",
    "#       script = \"{\" + row['script'] + \"} \"\n",
    "#       if row['language'] == 'Chinese':\n",
    "#         script = \"\\\\tc{\" + row['script'] + \"} \"\n",
    "#       stage += script\n",
    "#     if pd.notna(row['term']): # term\n",
    "#       stage += \"\\\\textit{\" + row['term'] + \"} \"\n",
    "#     if pd.notna(row['IPA']): # IPA\n",
    "#       stage += row['IPA'] + \" \"\n",
    "#     if pd.notna(row['meaning']): # meaning\n",
    "#       stage += \"`\" + row['meaning'] + \"' \"\n",
    "#     if pd.notna(row['literal']): # literal meaning\n",
    "#       stage += \"[\" + row['literal'] + \"] \"\n",
    "#     stage = re.sub(' $', '', stage)\n",
    "#     stage += \", \"\n",
    "#     if pd.notna(row['explanation']): # explanation\n",
    "#       stage += row['explanation'] + \" \"\n",
    "#     if pd.notna(row['remark']): # remark\n",
    "#       stage += \"(\" + row['remark'] + \") \"\n",
    "#     stage = re.sub(',? ?$', '', stage)\n",
    "\n",
    "#     if pd.notna(row['date']): # dates\n",
    "#       stage += \", \"\n",
    "#       row['date'] = re.sub('a(?=\\d)', 'a. ', row['date'])\n",
    "#       row['date'] = re.sub('c(?=\\d)', 'ca. ', row['date'])\n",
    "#       if re.match('^-\\d\\d?$', row['date']): # if is a century BC\n",
    "#         row['date'] = re.sub(\"-\", \"\", row['date'])\n",
    "#         date = \"\\\\nth{\" + row['date'] + \"} c. \\BC{}\" # ARAB NUMERALS\n",
    "#         # date = \" \" + roman(row['date']) + \" \\BC{}\" # ROMAN NUMERALS\n",
    "#       elif re.match('^\\d\\d?$', row['date']): # if is a century AD\n",
    "#         date = \"\\\\nth{\" + row['date'] + \"} c. \\AD{}\" # ARAB NUMERALS\n",
    "#         # date = \" \" + roman(row['date']) + \" \\AD{}\" # ROMAN NUMERALS\n",
    "#       else:\n",
    "#         date = row['date'] + \" \" # if it's a year\n",
    "#       stage += date\n",
    "#       stage = re.sub(',? ?$', '', stage)\n",
    "#     if pd.notna(row['cognates']): # cognates\n",
    "#       stage += \"; cf. cognates \" + row['cognates'] + \" \"\n",
    "#     if pd.notna(row['derivates']): # cognates\n",
    "#       if pd.notna(row['cognates']):\n",
    "#         stage = re.sub(' $', '', stage)\n",
    "#         stage += \"; \" + row['derivates'] + \" \"\n",
    "#       else:\n",
    "#         stage = re.sub(' $', '', stage)\n",
    "#         stage += \"; cf. \" + row['derivates'] + \" \"\n",
    "#     stage = re.sub(',? ?$', '', stage)\n",
    "#     # stage = re.sub('cf\\..*?(cf\\.)', '', stage)\n",
    "\n",
    "#   # Final touches\n",
    "#     if row['doubt'] == 'yes':\n",
    "#       stage = re.sub(r'<', '<\\\\\\\\textss{?}', stage) # ???\n",
    "#     if row['complex'] == '+':\n",
    "#       stage = re.sub('<', '', stage)\n",
    "#     if row['complex'] == 'or from':\n",
    "#       stage = re.sub('<', '', stage)\n",
    "#     content += stage + nl\n",
    "\n",
    "#   # Sources\n",
    "#     source=\"\"\n",
    "#     if pd.notna(row['source zotero']):\n",
    "#       source = row['source zotero']\n",
    "#       # print(source)\n",
    "#       if '{' in source:\n",
    "#         source = \"s\" + row['source zotero'].lower()\n",
    "#         # print(source)\n",
    "#       else:\n",
    "#         source = \"{\" + row['source zotero'].lower() + \"}\"\n",
    "#         # print(source)\n",
    "#       if pd.notna(row['source page']):\n",
    "#         source = \"[\" + str(row['source page']) + \"]{\" + row['source zotero'].lower() + \"}\"\n",
    "#         # print(source)\n",
    "#         if row['source page'].isalpha() == True:\n",
    "#           source = \"[s.v. \" + str(row['source page']) + \"]{\" + row['source zotero'].lower() + \"}\"\n",
    "#           # print(source)\n",
    "#       source = \"\\\\textcite\" + source\n",
    "#     # print(source)\n",
    "#     source_list.append(source)\n",
    "\n",
    "#   # clear duplicates from sources:\n",
    "#   # print(\"SL1: \", source_list)\n",
    "#   # source_set = sorted(set(source_list), key=source_list.index)\n",
    "#   source_set = set(source_list)\n",
    "#   # print(\"SS2: \", source_set)\n",
    "#   source_list2 = list(source_set)\n",
    "#   # print(\"S3: \", source_list2)\n",
    "#   sources_unduplicated = '; '.join(source_list2)\n",
    "#   # print(\"S4: \", sources_unduplicated)\n",
    "#   # test for duplicates\n",
    "#   newlist = [] # empty list to hold unique elements from the list\n",
    "#   duplist = [] # empty list to hold the duplicate elements from the list\n",
    "#   for i in source_list:\n",
    "#       if i not in newlist:\n",
    "#           newlist.append(i)\n",
    "#       else:\n",
    "#           duplist.append(i) # this method catches the first duplicate entries, and appends them to the list\n",
    "#   # The next stage is to print the duplicate entries, and the unique entries\n",
    "#   # print(\"List of duplicates\", duplist)\n",
    "#   # print(\"Unique Item List\", newlist) \n",
    "#   if len(duplist) > 0:\n",
    "#     # print(\"UNDUPL\")\n",
    "#     sources = sources_unduplicated\n",
    "#   else:\n",
    "#     # print(\"ORI\")\n",
    "#     sources =  '; '.join(source_list)\n",
    "#   # print(\"S5: \", sources)\n",
    "\n",
    "#   sources =  '; '.join(source_list)\n",
    "\n",
    "#   # Cleaning\n",
    "#   sources = re.sub(\"; $\", \"\", sources)\n",
    "#   sources = re.sub(\"^; \", \"\", sources)\n",
    "#   sources = re.sub(\"(; )+\", \"; \", sources)\n",
    "#   sources = \"\\\\footnote{\" + sources + \"}\\n\"\n",
    "\n",
    "#   content = re.sub(\"\\n$\", \"\", content)\n",
    "#   content = re.sub(r\"^< \", \"\", content) # delete the first <\n",
    "#   content = re.sub(r\"\\n,\", \",\", content)\n",
    "#   content = re.sub(r\" nan \", \" \", content)\n",
    "#   content = re.sub(\"(<\\.\\n?)+$\", \"\", content)\n",
    "\n",
    "#   content += sources\n",
    "\n",
    "#   env_begin = r\"\\begin{etymology}\" + \"\\label{ety:\" + df_local['item'].iloc[0] + \"}\" + nl \n",
    "#   env_end = r\"\\end{etymology}\"\n",
    "\n",
    "#   box = env_begin + content + env_end\n",
    "#   box = re.sub(r\"\\u200e\", \"\", box) #removes right to left mark\n",
    "\n",
    "#   # Save the spicebox as a standalone tex file\n",
    "#   filename = re.sub(\" \", \"_\", key)\n",
    "#   filename = filename.lower()\n",
    "#   f = open(path_out_tex + \"{}.tex\".format(\"etymbox_\" + filename), \"w\", encoding='utf-8')  \n",
    "#   f.write(box)\n",
    "#   f.close()\n",
    "#   print(\"Etymology-box '\" + str(key) + \"' as a tex file was created.\")\n",
    "\n",
    "#   return box\n",
    "\n",
    "# etymbox(\"tester\")"
   ]
  },
  {
   "cell_type": "markdown",
   "metadata": {},
   "source": [
    "### Etymology box for Markdown"
   ]
  },
  {
   "cell_type": "code",
   "execution_count": 354,
   "metadata": {},
   "outputs": [
    {
     "name": "stdout",
     "output_type": "stream",
     "text": [
      "Started the generation of 'tester' as etymbox...\n"
     ]
    },
    {
     "data": {
      "text/plain": [
       "'**Language A** тест *test* /tɛst/ \\'meaning1\\' [literal1], explanation1 (remark1); cf. cognates cognates1; derivates derivates1\\n< **Language B** тестер *tester* /ˈtɛstə/ \\'meaning2\\' [literal2], explanation2, AD 12 c.; cf. cognates cognates2\\n< **Language C** тестинг *testing* /ˈtɛstɪŋ/ \\'meaning3\\' [literal3] (remark3), 9 c. BC; cf. derivates derivates3\\n< **Language D** тесте *teste* /ˈaltə/ \\'meaning4\\' [literal4], explanation4 (remark4); cf. cognates cognates4; derivates derivates4\\n {{< cite \"oed;wehr_dictionary_1976;wehr_dictionary_1976;liddell_greekenglish_1940;wehr_dictionary_1976;lewis_latin_1879;liddell_greekenglish_1940\" \"1;2-3;4;5;6;;7\" >}}'"
      ]
     },
     "execution_count": 354,
     "metadata": {},
     "output_type": "execute_result"
    }
   ],
   "source": [
    "def etymbox(e):\n",
    "\n",
    "  # The following code will create a etymology box environment for the key, to be used in Markdown\n",
    "  print(\"Started the generation of '\" + e + \"' as etymbox...\")\n",
    "\n",
    "  # Select word\n",
    "  df_local = etymologies[e]\n",
    "  # df_local.fillna('', inplace=True)\n",
    "\n",
    "  # Skipping those marked\n",
    "  df_local = df_local[df_local['skip'] != 'yes']\n",
    "  df_local.reset_index(inplace=True, drop=True)\n",
    "\n",
    "  # # Replace empty cells with NaNs\n",
    "  # df_local.replace(r'^\\s*$', np.nan, regex=True, inplace=True)\n",
    "  # df_local.replace(r'^nan$', np.nan, regex=True, inplace=True)\n",
    "\n",
    "  # Initialize\n",
    "  content = \"\"\n",
    "  sources = \"\"\n",
    "  source_pages = \"\"\n",
    "\n",
    "  # Iterate through a word's etymology dataframe (stage by stage = row by row)\n",
    "  for index, row in df_local.iterrows():\n",
    "    # Initialize stage, add an '<' if its not the first stage\n",
    "    if index == 0:\n",
    "      stage = \"\"\n",
    "    else:\n",
    "      stage = \"< \"\n",
    "    # If there are complex relations, add them (e.g., partly, and, or)\n",
    "    if pd.notna(row['complex']):\n",
    "      stage += row['complex'] + \" \"\n",
    "    # Add language (in bold)\n",
    "    if pd.notna(row['language']):\n",
    "      stage += \"**\" + row['language'] + \"** \"\n",
    "    # Add the term with native script (if exists)\n",
    "    if pd.notna(row['script']):\n",
    "      stage += row['script'] + \" \"\n",
    "    # Add the term with transcription (in italics)\n",
    "    if pd.notna(row['term']):\n",
    "      stage += \"*\" + row['term'] + \"* \"\n",
    "    # Add /IPA/\n",
    "    if pd.notna(row['IPA']):\n",
    "      stage += \"/\" + row['IPA'] + \"/ \"\n",
    "    # Add 'meaning', gloss\n",
    "    if pd.notna(row['meaning']):\n",
    "      stage += \"'\" + row['meaning'] + \"' \"\n",
    "    # Add the [literal meaning] if there is one\n",
    "    if pd.notna(row['literal']):\n",
    "      stage += \"[\" + row['literal'] + \"] \"\n",
    "    # Clear ending\n",
    "    stage = re.sub(' $', '', stage)\n",
    "    # Add explanation\n",
    "    if pd.notna(row['explanation']):\n",
    "      stage += \", \" + row['explanation'] + \" \"\n",
    "    # Add (remark)\n",
    "    if pd.notna(row['remark']):\n",
    "      stage += \" (\" + row['remark'] + \") \"\n",
    "    # Clear ending\n",
    "    stage = re.sub(\" +\", \" \", stage)\n",
    "    stage = re.sub(\",? ?$\", \"\", stage)\n",
    "\n",
    "    # Add date, if there is a date\n",
    "    if pd.notna(row['date']):\n",
    "      # If it's a year\n",
    "      date = row['date']\n",
    "\n",
    "    # Add century if there is no date\n",
    "    if pd.notna(row['century']) and pd.isna(row['date']):\n",
    "      \n",
    "      # If it's a century BC\n",
    "      if re.match('^-\\d\\d?\\??$', row['century']):\n",
    "        # Remove dash\n",
    "        row['century'] = re.sub(\"-\", \"\", row['century'])\n",
    "        # If there is question mark\n",
    "        if re.match('\\d\\?', row['century']):\n",
    "          # Remove the question mark\n",
    "          row['century'] = re.sub(\"\\?\", \"\", row['century'])\n",
    "          # Date BC\n",
    "          # date = roman(int(row['century'])) + \" BC?\" # ROMAN NUMERALS\n",
    "          date = row['century'] + \" c. BC?\" # ARAB NUMERALS\n",
    "        else:\n",
    "          # date = roman(int(row['century'])) + \" BC\" # ROMAN NUMERALS\n",
    "          date = row['century'] + \" c. BC\" # ARAB NUMERALS\n",
    "\n",
    "      # If it is a century AD\n",
    "      elif re.match('^\\d\\d?\\??$', row['century']):\n",
    "        # If there is question mark\n",
    "        if re.match('\\d\\?', row['century']):\n",
    "          # Remove the question mark\n",
    "          row['century'] = re.sub(\"\\?\", \"\", row['century'])\n",
    "          # Date AD\n",
    "          # date = \"AD \" + roman(int(row['century'])) + \"?\" # ROMAN NUMERALS\n",
    "          date = \"AD \" + row['century'] + \" c.\" # ARAB NUMERALS\n",
    "        else:\n",
    "          # date = \"AD \" + roman(int(row['century'])) # ROMAN NUMERALS\n",
    "          date = \"AD \" + row['century'] + \" c.\" # ARAB NUMERALS\n",
    "\n",
    "      # Add date to stage\n",
    "      stage += \", \" + date\n",
    "      \n",
    "    # Clear ending\n",
    "    stage = re.sub(',? ?$', '', stage)\n",
    "\n",
    "    # If both cognates and derivates\n",
    "    if pd.notna(row['cognates']) and pd.notna(row['derivates']):\n",
    "      stage += \"; cf. cognates \" + row['cognates'] + \"; derivates \" + row['derivates'] + \" \"\n",
    "    # If cognates only\n",
    "    if pd.notna(row['cognates']) and pd.isna(row['derivates']):\n",
    "      stage += \"; cf. cognates \" + row['cognates'] + \" \"\n",
    "    # If derivates only\n",
    "    if pd.notna(row['derivates']) and pd.isna(row['cognates']):\n",
    "      stage += \"; cf. derivates \" + row['derivates'] + \" \"\n",
    "    \n",
    "    # Clear ending\n",
    "    stage = re.sub(';?,? ?$', '', stage)\n",
    "\n",
    "    # If stage is doubtful, use '<?'\n",
    "    if row['doubt'] == 'yes':\n",
    "      stage = re.sub('<', '<\\?', stage)\n",
    "    # If stage is \"complex\", remove '<'\n",
    "    if pd.notna(row['complex']):\n",
    "      stage = re.sub('<', '', stage)\n",
    "\n",
    "    # # Sources (at each stage) A\n",
    "    # source = \"\"\n",
    "    # # If there is source (zotero), add\n",
    "    # if pd.notna(row['source']):\n",
    "    #   source = '\\\"' + row['source'] + '\\\"'\n",
    "    #   # If there is page, add\n",
    "    #   if pd.notna(row['source page']):\n",
    "    #     source = '\\\"' + str(row['source'].lower()) + '\\\" \\\"' + str(row['source page']) + '\\\"'\n",
    "    # # Add the Hugo shortcode syntax \n",
    "    # source = r' {{< cite ' + source + r' >}}'\n",
    "    # # Create content\n",
    "    # content += stage + source + \"\\n\"\n",
    "\n",
    "    # Sources (once in the end, removing duplicates) B\n",
    "    # If there is source (zotero), add\n",
    "    if pd.notna(row['source']):\n",
    "      sources += row['source'] + \";\"\n",
    "      # If there is page, add\n",
    "      if pd.notna(row['source page']):\n",
    "        source_pages += str(row['source page']) + \";\"\n",
    "      else:\n",
    "        source_pages += \";\"\n",
    "    # Create content\n",
    "    content += stage + \"\\n\"\n",
    "\n",
    "  # If using version B of sources\n",
    "  # Clean ending\n",
    "  sources = re.sub(';?$', '', sources)\n",
    "  source_pages = re.sub(';?$', '', source_pages)\n",
    "  # Add the Hugo-cite shortcode syntax \n",
    "  source = r' {{< cite \"' + sources + r'\" \"' + source_pages + r'\" >}}'\n",
    "  # Add source to content\n",
    "  content += source\n",
    "\n",
    "  # Cleaning\n",
    "  box = content\n",
    "  box = re.sub(r\"\\u200e\", \"\", box) # Removes right-to-left mark\n",
    "\n",
    "  # # Save the spicebox as a standalone markdown file (if ever needed)\n",
    "  # filename = re.sub(\" \", \"_\", key)\n",
    "  # filename = filename.lower()\n",
    "  # f = open(path_out_md + \"{}.md\".format(\"etymbox_\" + filename), \"w\", encoding='utf-8')  \n",
    "  # f.write(box)\n",
    "  # f.close()\n",
    "  # print(\"Etymology-box '\" + str(key) + \"' as a md file was created.\")\n",
    "\n",
    "  return box\n",
    "\n",
    "etymbox(\"tester\")"
   ]
  },
  {
   "cell_type": "code",
   "execution_count": 355,
   "metadata": {},
   "outputs": [
    {
     "name": "stdout",
     "output_type": "stream",
     "text": [
      "Started the generation of 'tester' as etymbox...\n",
      "Started the generation of 'allspice' as etymbox...\n",
      "Started the generation of 'fulful ifranji' as etymbox...\n",
      "Started the generation of 'duoxiangguo' as etymbox...\n",
      "Started the generation of 'pimento' as etymbox...\n",
      "Started the generation of 'anise' as etymbox...\n",
      "Started the generation of 'anisun' as etymbox...\n",
      "Started the generation of 'huiqin' as etymbox...\n",
      "Started the generation of 'asafoetida' as etymbox...\n",
      "Started the generation of 'hing' as etymbox...\n",
      "Started the generation of 'hiltit' as etymbox...\n",
      "Started the generation of 'anjudan' as etymbox...\n",
      "Started the generation of 'awei' as etymbox...\n",
      "Started the generation of 'xingqu' as etymbox...\n",
      "Started the generation of 'caraway' as etymbox...\n",
      "Started the generation of 'karawiya' as etymbox...\n",
      "Started the generation of 'geluzi' as etymbox...\n",
      "Started the generation of 'cardamom' as etymbox...\n",
      "Started the generation of 'amomum' as etymbox...\n",
      "Started the generation of 'hal' as etymbox...\n",
      "Started the generation of 'qaqulla' as etymbox...\n",
      "Started the generation of 'doukou' as etymbox...\n",
      "Started the generation of 'cassia' as etymbox...\n",
      "Started the generation of 'salikha' as etymbox...\n",
      "Started the generation of 'rougui' as etymbox...\n",
      "Started the generation of 'cinnamon' as etymbox...\n",
      "Started the generation of 'darsini' as etymbox...\n",
      "Started the generation of 'qirfa' as etymbox...\n",
      "Started the generation of 'chile' as etymbox...\n",
      "Started the generation of 'fulful harr' as etymbox...\n",
      "Started the generation of 'lajiao' as etymbox...\n",
      "Started the generation of 'paprika' as etymbox...\n",
      "Started the generation of 'clove' as etymbox...\n",
      "Started the generation of 'qaranful' as etymbox...\n",
      "Started the generation of 'dingxiang' as etymbox...\n",
      "Started the generation of 'coriander' as etymbox...\n",
      "Started the generation of 'kuzbura' as etymbox...\n",
      "Started the generation of 'yansui' as etymbox...\n",
      "Started the generation of 'husui' as etymbox...\n",
      "Started the generation of 'cumin' as etymbox...\n",
      "Started the generation of 'kammun' as etymbox...\n",
      "Started the generation of 'ziran' as etymbox...\n",
      "Started the generation of 'dill' as etymbox...\n",
      "Started the generation of 'shibitt' as etymbox...\n",
      "Started the generation of 'shiluo' as etymbox...\n",
      "Started the generation of 'fennel' as etymbox...\n",
      "Started the generation of 'shamar' as etymbox...\n",
      "Started the generation of 'huixiang' as etymbox...\n",
      "Started the generation of 'fenugreek' as etymbox...\n",
      "Started the generation of 'hulba' as etymbox...\n",
      "Started the generation of 'huluba' as etymbox...\n",
      "Started the generation of 'ginger' as etymbox...\n",
      "Started the generation of 'zanjabil' as etymbox...\n",
      "Started the generation of 'jiang' as etymbox...\n",
      "Started the generation of 'long pepper' as etymbox...\n",
      "Started the generation of 'darfilfil' as etymbox...\n",
      "Started the generation of 'biba' as etymbox...\n",
      "Started the generation of 'mace' as etymbox...\n",
      "Started the generation of 'basbas' as etymbox...\n",
      "Started the generation of 'roudoukoupi' as etymbox...\n",
      "Started the generation of 'nutmeg' as etymbox...\n",
      "Started the generation of 'jawz al-tib' as etymbox...\n",
      "Started the generation of 'roudoukou' as etymbox...\n",
      "Started the generation of 'pepper' as etymbox...\n",
      "Started the generation of 'fulful' as etymbox...\n",
      "Started the generation of 'hujiao' as etymbox...\n",
      "Started the generation of 'bors' as etymbox...\n",
      "Started the generation of 'saffron' as etymbox...\n",
      "Started the generation of 'zafaran' as etymbox...\n",
      "Started the generation of 'fanhonghua' as etymbox...\n",
      "Started the generation of 'Sichuan pepper' as etymbox...\n",
      "Started the generation of 'fagara' as etymbox...\n",
      "Started the generation of 'fulful sitshuwan' as etymbox...\n",
      "Started the generation of 'huajiao' as etymbox...\n",
      "Started the generation of 'star anise' as etymbox...\n",
      "Started the generation of 'yansun najmi' as etymbox...\n",
      "Started the generation of 'bajiaohuixiang' as etymbox...\n",
      "Started the generation of 'badian' as etymbox...\n",
      "Started the generation of 'turmeric' as etymbox...\n",
      "Started the generation of 'kurkum' as etymbox...\n",
      "Started the generation of 'jianghuang' as etymbox...\n",
      "Started the generation of 'vanilla' as etymbox...\n",
      "Started the generation of 'faniliya' as etymbox...\n",
      "Started the generation of 'xiangcao' as etymbox...\n",
      "Done.\n"
     ]
    }
   ],
   "source": [
    "# Creating a dictionary of etymologies\n",
    "dictionary_of_etymologies = {}\n",
    "\n",
    "# Loop\n",
    "for e in list_of_etymologies:\n",
    "    box = (etymbox(e))\n",
    "    # box = r'{{% notice style=\"primary\" title=\"Pirates\" icon=\"skull-crossbones\" %}}' + \"\\n\" + text + \"\\n\" + r\"{{% /notice %}}\" + \"\\n\\n\"\n",
    "    dictionary_update = {e: box}\n",
    "    dictionary_of_etymologies.update(dictionary_update)\n",
    "print('Done.')\n"
   ]
  },
  {
   "cell_type": "code",
   "execution_count": 356,
   "metadata": {},
   "outputs": [
    {
     "data": {
      "text/plain": [
       "'**English** *allspice*, from *all* + *spice*; after the flavor profile that resembles the combined aroma of cloves, nutmeg, cinnamon, and black pepper\\n {{< cite \"oed\" \"allspice\" >}}'"
      ]
     },
     "execution_count": 356,
     "metadata": {},
     "output_type": "execute_result"
    }
   ],
   "source": [
    "# Check\n",
    "dictionary_of_etymologies['allspice']"
   ]
  },
  {
   "cell_type": "markdown",
   "metadata": {},
   "source": [
    "# Website Generation"
   ]
  },
  {
   "cell_type": "markdown",
   "metadata": {},
   "source": [
    "## Create a webpage"
   ]
  },
  {
   "cell_type": "code",
   "execution_count": 357,
   "metadata": {},
   "outputs": [
    {
     "name": "stdout",
     "output_type": "stream",
     "text": [
      "Working on allspice\n",
      "Done.\n"
     ]
    }
   ],
   "source": [
    "# Todo: Make every element optional with if statements\n",
    "\n",
    "def webpage(key):\n",
    "    \n",
    "    '''\n",
    "    This cell generates web pages from the datasets and writes them out to markdown files.\n",
    "    '''\n",
    "\n",
    "    # Get dataframe of current item\n",
    "    print(\"Working on\", key)\n",
    "    df_local = df_items.loc[df_items['key'] == key]\n",
    "    \n",
    "    # Item\n",
    "    item = df_local['item'].iloc[0]\n",
    "    \n",
    "    # Reset index\n",
    "    df_local.reset_index(drop=True, inplace=True)\n",
    "    \n",
    "    # Definition (if exists)\n",
    "    if 'wn_definition' in df_local:\n",
    "        if pd.notna(df_local['wn_definition'][0]):\n",
    "            definition = df_local['wn_definition'][0]\n",
    "            definition = definition[0].upper() + definition[1:]\n",
    "            definition = \"WordNet definition: \" + definition + \".\" if definition[-1] != \".\" else definition\n",
    "    else:\n",
    "        definition = \"\"\n",
    "\n",
    "    # Description\n",
    "    if pd.notna(df_local['description'][0]):\n",
    "        # Initialize description from data\n",
    "        description = str(df_local['description'][0])\n",
    "        # Capitalize first letter\n",
    "        description = description[0].upper() + description[1:]\n",
    "        \n",
    "        # Initialize aka\n",
    "        aka = \", also known as \" + str(df_local['common_names'].iloc[0]) if pd.notna(df_local['common_names'].iloc[0]) else \"\"\n",
    "        \n",
    "        # Add aka to description\n",
    "        if aka != \"\":\n",
    "            description += aka\n",
    "        \n",
    "        # Add a dot to the end of aka if not already\n",
    "        description = description + \".\" if description != \"\" and description[-1] != \".\" else description\n",
    "\n",
    "        if pd.notna(df_local['related'][0]):\n",
    "            related = str(df_local['related'].iloc[0])\n",
    "            # turn related into a list that is separated by semicolons\n",
    "            related = related.split(\"; \")\n",
    "            # drop an element off the list, if it does not appear in the list of items\n",
    "            related = [x for x in related if x in list_of_items]\n",
    "            # change every element of the list to a link that has the form [x](../items/x)\n",
    "            related = [f'[{x}](../items/{x})' for x in related]\n",
    "            # in every element of the list, change whitespace to underscore if in (brackets)\n",
    "            related = [re.sub(r'(?<=\\()(.*?)(?=\\))', lambda x: re.sub(r'\\s', '_', x.group(0)), x) for x in related]        \n",
    "            # join the elements of the list with a comma and a space\n",
    "            related = \", \".join(related)\n",
    "            # add text\n",
    "        else:\n",
    "            related = \"\"\n",
    "        \n",
    "        if related != \"\":\n",
    "            related = \" It is related to \" + related + \".\" if related[-1] != \".\" else related\n",
    "            \n",
    "        description += related\n",
    "            \n",
    "        if pd.notna(df_local['also'][0]):\n",
    "            also = str(df_local['also'].iloc[0])\n",
    "            # turn related into a list that is separated by semicolons\n",
    "            also = also.split(\"; \")\n",
    "            # drop an element off the list, if it does not appear in the list of items\n",
    "            also = [x for x in also if x in list_of_items]\n",
    "            # change every element of the list to a link that has the form [x](../items/x)\n",
    "            also = [f'[{x}](../items/{x})' for x in also]\n",
    "            # in every element of the list, change whitespace to underscore if in (brackets)\n",
    "            also = [re.sub(r'(?<=\\()(.*?)(?=\\))', lambda x: re.sub(r'\\s', '_', x.group(0)), x) for x in also]        \n",
    "            # join the elements of the list with a comma and a space\n",
    "            also = \", \".join(also)\n",
    "        else:\n",
    "            also = \"\"\n",
    "        \n",
    "        if also != \"\":\n",
    "            also = \" See also \" + also + \".\" if also[-1] != \".\" else also\n",
    "            \n",
    "        description += also            \n",
    "            \n",
    "        # Add a dot to the end of aka if not already\n",
    "        description = description + \".\" if description != \"\" and description[-1] != \".\" else description\n",
    "        \n",
    "        preamble_description = description\n",
    "        page_description = description\n",
    "        \n",
    "    else:\n",
    "        description = \"\"\n",
    "        preamble_description = \"\"\n",
    "        page_description = \"\"\n",
    "    \n",
    "    if pd.notna(df_local['wikipedia'][0]):\n",
    "        page_description += '\\n\\n[<i class=\"fab fa-wikipedia-w\"></i>](' + df_local['wikipedia'][0] + \")\"\n",
    "        \n",
    "    if pd.notna(df_local['wiktionary'][0]):\n",
    "        page_description += ' [[<i class=\"fab fa-wikipedia-w\"></i>]](' + df_local['wiktionary'][0] + \")\"\n",
    "    \n",
    "    page_description += \"\\n\\n\"\n",
    "    \n",
    "    \n",
    "    \n",
    "    # Extract categories and tags and groups (which will be treated as tags)\n",
    "    if pd.notna(df_local['category'][0]):\n",
    "        category = df_local['category'][0]\n",
    "        category_list = category.split(\"; \") if \";\" in category else [f'{category}']\n",
    "    else:\n",
    "        category = \"\"\n",
    "        category_list = []\n",
    "    \n",
    "    if pd.notna(df_local['tag'][0]):\n",
    "        tag = df_local['tag'][0]\n",
    "        tag_list = tag.split(\"; \") if \";\" in tag else [f'{tag}']\n",
    "    else:\n",
    "        tag = \"\"\n",
    "        tag_list = []\n",
    "        \n",
    "    if pd.notna(df_local['group'][0]):\n",
    "        group = df_local['group'][0]\n",
    "        group_list = group.split(\";\") if \";\" in group else [f'{group}']\n",
    "    else:\n",
    "        group_list = []\n",
    "        \n",
    "    tag_list = tag_list + group_list\n",
    "\n",
    "    # Assemble preamble\n",
    "    preamble = f'+++\\ntitle = \"{item.title()}\"\\nauthor = \"Gabor Parti\"\\ndate = \"{str(date.today())}\"\\ndescription = \"{preamble_description}\"\\nweight = 10\\n# draft = \"true\"\\n# hidden = \"true\"\\nplotly = true\\ncategories = {str(category_list)}\\ntags = {str(tag_list)}\\nbibFile = \"static/bibliography/parti.json\"\\n+++\\n\\n'\n",
    "\n",
    "\n",
    "\n",
    "    ###########################\n",
    "    ######## The Spice ########\n",
    "    ###########################\n",
    "    \n",
    "    # Define taxon name\n",
    "    taxon_name = str(df_local['taxon_name'][0])\n",
    "    \n",
    "    if pd.notna(df_local['taxon_authors'][0]):\n",
    "        taxon_authors = str(df_local['taxon_authors'][0])\n",
    "    else:\n",
    "        taxon_authors = \"\"\n",
    "        \n",
    "    taxon = f\"*{taxon_name}* {taxon_authors}\"\n",
    "        \n",
    "    family = str(df_local['family'][0])\n",
    "    \n",
    "    # category = re.sub('; ', ' and ', category)\n",
    "    # if pd.notna(df_local['tag'][0]):\n",
    "    #     tag = re.sub('; ', ' and ', tag)\n",
    "    # else:\n",
    "    #     tag = \"\"\n",
    "    \n",
    "    part = str(df_local['part'][0])\n",
    "    \n",
    "    geographic_area = str(df_local['geographic_area'][0])\n",
    "    lifeform_description = str(df_local['lifeform_description'][0])\n",
    "    climate_description = str(df_local['climate_description'][0])\n",
    "    \n",
    "    # Intro\n",
    "    intro = item.upper() + f\" -- *{taxon_name}* {taxon_authors} -- is a(n) {lifeform_description} in the *{family}* family, growing in the {climate_description} biome, with a native range of {geographic_area}. It is used as a(n) {tag} {category}, cultivated for its {part}.\"\n",
    "    \n",
    "    # if pd.notna(df_local['heat'][0]):\n",
    "    #     intro = intro + \"It is used for its \" + re.sub('; ', ' and ', part) + \", primarily for \" + str(df_local['major uses'][0]) + \". Its aroma is described as \" + str(df_local['taste/smell'][0]) + \", with a heat index of \" + str(df_local['heat'][0]) + \".[^ucla_medicinal_2002]\" + \"\\n\\n\" + \"[^ucla_medicinal_2002]: Medicinal Spices Exhibit. (2002). UCLA Biomedical Library: History & Special Collections. https://unitproj.library.ucla.edu/biomed/spice/index.cfm?spicefilename=taste.txt&itemsuppress=yes&displayswitch=0\\n\\n\"\n",
    "    \n",
    "    # Add values from df_local['petruzzello][0] if it's value is 'yes'.\n",
    "    citations = \"\"\n",
    "    if pd.notna(df_local['powo_url'][0]):\n",
    "        citations += \"powo\"\n",
    "    if pd.notna(df_local['petruzzello'][0]):\n",
    "        citations += \";petruzzello_2023_list\"\n",
    "    if pd.notna(df_local['vanwyk'][0]):\n",
    "        citations += \";vanwyk_2014_culinary\"\n",
    "    if pd.notna(df_local['dalby'][0]):\n",
    "        citations += \";dalby_2000_dangerous\"\n",
    "    if pd.notna(df_local['hill'][0]):\n",
    "        citations += \";hill_2004_contemporary\"\n",
    "    if pd.notna(df_local['anderson'][0]):\n",
    "        citations += \";anderson_2023_history\"\n",
    "        \n",
    "    if citations != \"\":\n",
    "        sources = r' {{< cite \"' + citations + r'\" >}}'\n",
    "    else:\n",
    "        sources = \"\"\n",
    "        \n",
    "    intro += \" See more in \" + sources + \"\\n\\n\"\n",
    "    \n",
    "    \n",
    "    \n",
    "    # Overview \n",
    "    overview_head = \"## Overview\\n\\n\"\n",
    "    \n",
    "    # Add taxon\n",
    "    df_local['taxon'] = taxon\n",
    "\n",
    "    # Prepare overview tables\n",
    "    df_overview = df_local[['taxon', 'family', 'regions', 'continents', 'part']]\n",
    "    \n",
    "    # Add cultivation if available\n",
    "    if pd.notna(df_local['cultivation'][0]):\n",
    "        #add cultivation column to df_overview\n",
    "        df_overview['cultivation'] = df_local['cultivation']\n",
    "        \n",
    "    # Set database link(s)\n",
    "    if pd.notna(df_local['powo_url'][0]):\n",
    "        botanical_database = \"[POWO](\" + df_local['powo_url'] + \")\"\n",
    "    else:\n",
    "        botanical_database = \"\"\n",
    "        \n",
    "    if pd.notna(df_local['gbif'][0]):\n",
    "        botanical_database += \", [GBIF](\" + df_local['gbif'][0] + \")\"\n",
    "        \n",
    "    if pd.notna(df_local['trop'][0]):\n",
    "        botanical_database += \", [TROP](\" + df_local['trop'][0] + \")\"\n",
    "        \n",
    "    if pd.notna(df_local['eol'][0]):\n",
    "        botanical_database += \", [EOL](\" + df_local['eol'][0] + \")\"\n",
    "        \n",
    "    df_local['botanical database'] = botanical_database\n",
    "    \n",
    "    if pd.notna(df_local['botanical database'][0]):\n",
    "        #add cultivation column to df_overview\n",
    "        df_overview['botanical database'] = df_local['botanical database']\n",
    "        \n",
    "    # Transpose table\n",
    "    df_overview = df_overview.T\n",
    "    # Reset index\n",
    "    df_overview.reset_index(inplace=True)\n",
    "    # Rename columns\n",
    "    df_overview.columns = ['item', item]\n",
    "    # Prepare data to create markdown table\n",
    "    data = df_overview.to_dict(orient='records')\n",
    "    # Create markdown table\n",
    "    overview_mdt = markdown_table(data).set_params(row_sep = 'markdown', quote = False).get_markdown()\n",
    "    # Table\n",
    "    overview = overview_head + overview_mdt + \"\\n\\n\"\n",
    "    \n",
    "    # Photo (todo, make list of img ext and source now they are string)\n",
    "    # if df_local['img_count'][0] > 0:\n",
    "    #     img_src = re.sub(',.*', '', df_local['img_source'][0])\n",
    "    #     img_src = re.sub('_', ' ', img_src)\n",
    "        \n",
    "    #     photo = \"![\" + df_local['item'][0] + \"](/images/photos/\" + df_local['item'][0] + \"-1-\" + re.sub(',.*', '', df_local['img_source'][0]) + \".\" + re.sub(',.*', '', df_local['img_extension'][0]) + \"?width=14rem&classes=shadow\" + ' \"Photo: ' + img_src + '\")\\n\\n'\n",
    "    # else:\n",
    "    #     photo = \"\"\n",
    "    \n",
    "    \n",
    "    \n",
    "    # Illustration # &classes=shadow\n",
    "    if pd.notna(df_local['ill_source'].iloc[0]):\n",
    "        illustration_alt = \"Illustration of \" + df_local['taxon_name'][0] + \" from \" + df_local['ill_source'][0]\n",
    "        illustration = \"![\" + df_local['taxon_name'][0] + '](/images/illustrations/' + key + '.png?width=40rem \"' + illustration_alt + '\")' + '\\n'\n",
    "        illustration_source = df_local['ill_source'][0] + r\"{{< cite -\" + str(df_local['ill_key'][0]) + r\" >}} \" + str(df_local['ill_page'][0]) + r\".\"\n",
    "        illustration = illustration + \"\\n>Illustration of \" + df_local['taxon_name'][0] + \" from \" + illustration_source\n",
    "        if pd.notna(df_local['ill_link'].iloc[0]):\n",
    "            illustration = illustration + \" [{{% icon image %}}](\" + df_local['ill_link'].iloc[0] + \")\"\n",
    "    else:\n",
    "        illustration = \"\"\n",
    "    illustration = illustration + \"\\n\\n\"\n",
    "    \n",
    "    # Top display gallery\n",
    "    if len(list_files(f\"../static/images/photos/{key}\")) > 1:\n",
    "        display_gallery = '{{< load-photoswipe >}}\\n\\n{{< gallery dir=\"/images/photos/' + key + '\" hover-effect=\"slideup\" caption-effect=\"fade\" caption-position=\"none\" />}}' + \"\\n\\n\"\n",
    "    else:\n",
    "        display_gallery = \"\"\n",
    "        \n",
    "    # Gallery on the bottom of the page\n",
    "    if os.path.isdir(f\"../static/images/photos/{key}/gallery\"):\n",
    "        gallery =  '## Gallery\\n\\n{{< load-photoswipe >}}\\n\\n{{< gallery dir=\"/images/photos/' + key + '/gallery\" hover-effect=\"slideup\" caption-effect=\"fade\" />}}' + \"\\n\\n\"\n",
    "    else:\n",
    "        gallery = \"\"\n",
    "\n",
    "\n",
    "\n",
    "    # Quick names (predefined)\n",
    "    if pd.notna(df_local['English'][0]):\n",
    "        en = \"**English:** \" + df_local['English'][0] + \" · \"\n",
    "    else:\n",
    "        en = \"\"\n",
    "    if pd.notna(df_local['Hungarian'][0]):\n",
    "        hu = \"**Hungarian:** \" + df_local['Hungarian'][0] + \" · \"\n",
    "    else:\n",
    "        hu = \"\"\n",
    "    if pd.notna(df_local['Arabic'][0]):\n",
    "        ar = '**Arabic:** <span class=\"arabic-text\" dir=\"rtl\">' + df_local['Arabic'][0] + '</span>' + \" · \"\n",
    "    else:\n",
    "        ar = \"\"\n",
    "    if pd.notna(df_local['Hindi'][0]):\n",
    "        hi = '**Hindi:** <span class=\"devanagari-text\">' + df_local['Hindi'][0] + '</span>' + \" · \"\n",
    "    else:\n",
    "        hi = \"\"\n",
    "    if pd.notna(df_local['Chinese'][0]):\n",
    "        zh = '**Chinese:** <span class=\"traditional-chinese-text\">' + df_local['Chinese'][0] + '</span>' + \" · \"\n",
    "    else:\n",
    "        zh = \"\"\n",
    "    \n",
    "    quick_names = en + hu + ar + hi + zh\n",
    "    \n",
    "    # Quick names (additional)\n",
    "    if 'french' in df_local:\n",
    "        if pd.notna(df_local['french'][0]):\n",
    "            fr = \"**French:** \" + df_local['french'][0] + \" · \"\n",
    "            quick_names += fr\n",
    "        \n",
    "    if 'italian' in df_local:\n",
    "        if pd.notna(df_local['italian'][0]):\n",
    "            it = \"**Italian:** \" + df_local['italian'][0] + \" · \"\n",
    "            quick_names += it\n",
    "    \n",
    "    # Remove last dot from quick names\n",
    "    quick_names = re.sub(\" · $\", \"\", quick_names)\n",
    "    # Center it\n",
    "    quick_names = '<center>\\n\\n' + quick_names + '\\n\\n</center>\\n\\n'\n",
    "\n",
    "\n",
    "\n",
    "    # Distribution\n",
    "    if pd.notna(df_local['native'][0]):\n",
    "        distribution = \"## Distribution\\n\\n\"\n",
    "        distribution = distribution + r'{{< load-plotly >}}' + '\\n\\n' + r'{{< plotly json=\"/aromatica/plotly/distributions/' + key + r'.json\" weight=\"600\" height=\"300\" >}}' + '\\n\\n'\n",
    "        distribution = distribution + f\">Native and introduced habitats of {df_local['taxon_name'][0]}[^powo]\\n\\n[^powo]: {df_local['powo_url'][0]}\\n\\n\"\n",
    "\n",
    "        # Check if 'native areas' is not empty and not 'NA' before adding to the string\n",
    "        regions = \"\"\n",
    "        if pd.notna(df_local['native'][0]) and df_local['native'][0] != 'NA':\n",
    "            regions += \"**Native areas:** &ensp; &ensp; &ensp; \" + df_local['native'][0] + \"\\n\\n\"\n",
    "        # Check if 'introduced areas' is not empty and not 'NA' before adding to the string\n",
    "        if pd.notna(df_local['introduced'][0]) and df_local['introduced'][0] != 'NA':\n",
    "            regions += \"**Introduced areas:** \" + df_local['introduced'][0] + \"\\n\\n\"\n",
    "        distribution += '<p style=\"text-align:left;\">\\n\\n' + regions + '</p>\\n\\n'\n",
    "    else :\n",
    "        distribution = \"\"\n",
    "\n",
    "\n",
    "    \n",
    "    ##############################\n",
    "    ######## Nomenclature ########\n",
    "    ##############################\n",
    "\n",
    "    # Dataframe of current item \n",
    "    # df_names_local = df_names.loc[df_names['item'] == item]\n",
    "\n",
    "    # Reset index\n",
    "    # df_names_local.reset_index(drop=True, inplace=True)\n",
    "\n",
    "    # Names\n",
    "    # names_head = \"***\\n\\n## Nomenclature\\n\\n\"\n",
    "    # Heads\n",
    "    # names_head_en = \"### English\\n\\n\"\n",
    "    # names_head_ar = \"### Arabic\\n\\n\"\n",
    "    # names_head_zh = \"### Chinese\\n\\n\"\n",
    "    \n",
    "    # # Language by language\n",
    "    # language = \"English\"\n",
    "    # df = df_names_local.loc[df_names_local['language'] == language]\n",
    "    # df = df[['term', 'source human']]\n",
    "    # df = df.rename(columns={'source human': 'source'})\n",
    "    # data = df.to_dict(orient='records')\n",
    "    # names_mdt_en = markdown_table(data).set_params(row_sep = 'markdown', quote = False).get_markdown()\n",
    "\n",
    "    # language = \"Arabic\"\n",
    "    # df = df_names_local.loc[df_names_local['language'] == language]\n",
    "    # df = df[['script', 'term', 'literal', 'source human']]\n",
    "    # df = df.rename(columns={'source human': 'source'})\n",
    "    # data = df.to_dict(orient='records')\n",
    "    # names_mdt_ar = markdown_table(data).set_params(row_sep = 'markdown', quote = False).get_markdown()\n",
    "\n",
    "    # language = \"Chinese\"\n",
    "    # df = df_names_local.loc[df_names_local['language'] == language]\n",
    "    # df = df[['script', 'term', 'literal', 'source human']]\n",
    "    # df = df.rename(columns={'source human': 'source'})\n",
    "    # data = df.to_dict(orient='records')\n",
    "    # names_mdt_zh = markdown_table(data).set_params(row_sep = 'markdown', quote = False).get_markdown()\n",
    "    # names = names_head + names_head_en + names_mdt_en + \"\\n\\n\" + names_head_ar + names_mdt_ar + \"\\n\\n\" + names_head_zh + names_mdt_zh + \"\\n\\n\"\n",
    "    names = \"\"\n",
    "\n",
    "    ###########################\n",
    "    ####### Etymologies #######\n",
    "    ###########################\n",
    "\n",
    "    wordlist = df_local['etymologies'][0].split(\"; \")\n",
    "    etymologies = \"\"\n",
    "    for word in wordlist:\n",
    "        etymologies += dictionary_of_etymologies[word]\n",
    "    etymologies = \"## Etymologies\\n\\n\" + etymologies\n",
    "    etymologies = \"\"\n",
    "    \n",
    "\n",
    "    # Manuscripts (if any)\n",
    "    # if a file exists in the folder \"content/items/manuscripts/\" with the name of the item, then add it to the page\n",
    "    if os.path.isfile(f\"../content/items/manuscripts/{key}_ms.md\"):\n",
    "        manuscript = \"***\\n\\n{{% include \\\"content/items/manuscripts/\" + key + \"_ms.md\\\" %}}\\n\\n\"\n",
    "    else:\n",
    "        manuscript = \"\"\n",
    "\n",
    "    ######## Assemble page ########\n",
    "    page = preamble + page_description + display_gallery + quick_names + overview + intro + illustration + distribution + names + etymologies + gallery\n",
    "    \n",
    "    # Bibliography - if page contains \"{{< cite\", then add bibliography\n",
    "    if \"{{< cite\" in page:\n",
    "        bibliography = \"# Bibliography\\n\\n{{< bibliography cited >}}\\n\\n\"\n",
    "    else:\n",
    "        bibliography = \"\"\n",
    "            \n",
    "    # Write page to file\n",
    "    with open(path_out_md + key + '_gen.md', 'w', encoding='utf-8') as f:\n",
    "            f.write(page)\n",
    "            \n",
    "    # Write bibliography to file\n",
    "    with open(path_out_md + key + '_bib.md', 'w', encoding='utf-8') as f:\n",
    "            f.write(bibliography)\n",
    "    return\n",
    "\n",
    "# Loop through all spices\n",
    "for key in list_of_keys:\n",
    "    webpage(key)\n",
    "print(\"Done.\")"
   ]
  },
  {
   "cell_type": "markdown",
   "metadata": {},
   "source": [
    "## Merge autogenerated files with manuscripts and bibliographies"
   ]
  },
  {
   "cell_type": "code",
   "execution_count": 358,
   "metadata": {},
   "outputs": [
    {
     "name": "stdout",
     "output_type": "stream",
     "text": [
      "Done.\n"
     ]
    }
   ],
   "source": [
    "def assemble_page(key):\n",
    "    '''\n",
    "    This function merges generated web pages with hand written parts (manuscripts), and page bibliographies into a final markdown file to show on a web page. Gen and bib are generated above, manuscripts are not. E.g., allspice_gen.md + allspice_ms.md + allspice_bib.md = allspice.md.\n",
    "    '''\n",
    "    filepath = website_md + 'manuscripts/' + key + '_ms.md'\n",
    "    if os.path.isfile(filepath) == True:\n",
    "        # Read generated files\n",
    "        with open(path_out_md + key + '_gen.md', 'r', encoding='utf-8') as f:\n",
    "            generated = f.read()\n",
    "        # Read manuscript files    \n",
    "        with open(website_md + 'manuscripts/' + key + '_ms.md', 'r', encoding='utf-8') as f:\n",
    "            manuscript = f.read()\n",
    "        # Read bib files\n",
    "        with open(path_out_md + key + '_bib.md', 'r', encoding='utf-8') as f:\n",
    "            bibliography = f.read()\n",
    "        # Assemble    \n",
    "        page = generated + \"\\n\\n***\\n\\n\" + manuscript + \"\\n\\n\" + bibliography\n",
    "        # Write out page file\n",
    "        with open(website_md + key + '.md', 'w', encoding='utf-8') as f:\n",
    "            f.write(page)\n",
    "    else:\n",
    "        # Read generated files\n",
    "        with open(path_out_md + key + '_gen.md', 'r', encoding='utf-8') as f:\n",
    "            generated = f.read()\n",
    "        # Read bib files    \n",
    "        with open(path_out_md + key + '_bib.md', 'r', encoding='utf-8') as f:\n",
    "            bibliography = f.read()\n",
    "        # Assemble    \n",
    "        page = generated + \"\\n\\n\" + bibliography\n",
    "        # Write out page file\n",
    "        with open(website_md + key + '.md', 'w', encoding='utf-8') as f:\n",
    "            f.write(page)\n",
    "    return\n",
    "\n",
    "# Loop through all spices\n",
    "for key in list_of_keys:\n",
    "    assemble_page(key)\n",
    "print(\"Done.\")"
   ]
  },
  {
   "cell_type": "markdown",
   "metadata": {},
   "source": [
    "# Maps"
   ]
  },
  {
   "cell_type": "code",
   "execution_count": 359,
   "metadata": {},
   "outputs": [],
   "source": [
    "df = df_items.copy()\n",
    "\n",
    "# Fill NaNs in the Arabic column with \"Not available\"\n",
    "# df['Arabic'].fillna('Not available', inplace=True)\n",
    "# df['Chinese'].fillna('Not available', inplace=True)\n",
    "\n",
    "df.fillna({'Arabic': 'Not available'}, inplace=True)\n",
    "df.fillna({'ar': ''}, inplace=True)\n",
    "\n",
    "df.fillna({'Chinese': 'Not available'}, inplace=True)\n",
    "df.fillna({'zh': ''}, inplace=True)"
   ]
  },
  {
   "cell_type": "code",
   "execution_count": 360,
   "metadata": {},
   "outputs": [
    {
     "data": {
      "application/vnd.plotly.v1+json": {
       "config": {
        "plotlyServerURL": "https://plot.ly"
       },
       "data": [
        {
         "lat": [
          18
         ],
         "lon": [
          -77
         ],
         "marker": {
          "color": "#73af48",
          "size": 10
         },
         "mode": "markers",
         "text": [
          "allspice"
         ],
         "type": "scattergeo"
        }
       ],
       "layout": {
        "geo": {
         "scope": "world"
        },
        "template": {
         "data": {
          "bar": [
           {
            "error_x": {
             "color": "#2a3f5f"
            },
            "error_y": {
             "color": "#2a3f5f"
            },
            "marker": {
             "line": {
              "color": "#E5ECF6",
              "width": 0.5
             },
             "pattern": {
              "fillmode": "overlay",
              "size": 10,
              "solidity": 0.2
             }
            },
            "type": "bar"
           }
          ],
          "barpolar": [
           {
            "marker": {
             "line": {
              "color": "#E5ECF6",
              "width": 0.5
             },
             "pattern": {
              "fillmode": "overlay",
              "size": 10,
              "solidity": 0.2
             }
            },
            "type": "barpolar"
           }
          ],
          "carpet": [
           {
            "aaxis": {
             "endlinecolor": "#2a3f5f",
             "gridcolor": "white",
             "linecolor": "white",
             "minorgridcolor": "white",
             "startlinecolor": "#2a3f5f"
            },
            "baxis": {
             "endlinecolor": "#2a3f5f",
             "gridcolor": "white",
             "linecolor": "white",
             "minorgridcolor": "white",
             "startlinecolor": "#2a3f5f"
            },
            "type": "carpet"
           }
          ],
          "choropleth": [
           {
            "colorbar": {
             "outlinewidth": 0,
             "ticks": ""
            },
            "type": "choropleth"
           }
          ],
          "contour": [
           {
            "colorbar": {
             "outlinewidth": 0,
             "ticks": ""
            },
            "colorscale": [
             [
              0,
              "#0d0887"
             ],
             [
              0.1111111111111111,
              "#46039f"
             ],
             [
              0.2222222222222222,
              "#7201a8"
             ],
             [
              0.3333333333333333,
              "#9c179e"
             ],
             [
              0.4444444444444444,
              "#bd3786"
             ],
             [
              0.5555555555555556,
              "#d8576b"
             ],
             [
              0.6666666666666666,
              "#ed7953"
             ],
             [
              0.7777777777777778,
              "#fb9f3a"
             ],
             [
              0.8888888888888888,
              "#fdca26"
             ],
             [
              1,
              "#f0f921"
             ]
            ],
            "type": "contour"
           }
          ],
          "contourcarpet": [
           {
            "colorbar": {
             "outlinewidth": 0,
             "ticks": ""
            },
            "type": "contourcarpet"
           }
          ],
          "heatmap": [
           {
            "colorbar": {
             "outlinewidth": 0,
             "ticks": ""
            },
            "colorscale": [
             [
              0,
              "#0d0887"
             ],
             [
              0.1111111111111111,
              "#46039f"
             ],
             [
              0.2222222222222222,
              "#7201a8"
             ],
             [
              0.3333333333333333,
              "#9c179e"
             ],
             [
              0.4444444444444444,
              "#bd3786"
             ],
             [
              0.5555555555555556,
              "#d8576b"
             ],
             [
              0.6666666666666666,
              "#ed7953"
             ],
             [
              0.7777777777777778,
              "#fb9f3a"
             ],
             [
              0.8888888888888888,
              "#fdca26"
             ],
             [
              1,
              "#f0f921"
             ]
            ],
            "type": "heatmap"
           }
          ],
          "heatmapgl": [
           {
            "colorbar": {
             "outlinewidth": 0,
             "ticks": ""
            },
            "colorscale": [
             [
              0,
              "#0d0887"
             ],
             [
              0.1111111111111111,
              "#46039f"
             ],
             [
              0.2222222222222222,
              "#7201a8"
             ],
             [
              0.3333333333333333,
              "#9c179e"
             ],
             [
              0.4444444444444444,
              "#bd3786"
             ],
             [
              0.5555555555555556,
              "#d8576b"
             ],
             [
              0.6666666666666666,
              "#ed7953"
             ],
             [
              0.7777777777777778,
              "#fb9f3a"
             ],
             [
              0.8888888888888888,
              "#fdca26"
             ],
             [
              1,
              "#f0f921"
             ]
            ],
            "type": "heatmapgl"
           }
          ],
          "histogram": [
           {
            "marker": {
             "pattern": {
              "fillmode": "overlay",
              "size": 10,
              "solidity": 0.2
             }
            },
            "type": "histogram"
           }
          ],
          "histogram2d": [
           {
            "colorbar": {
             "outlinewidth": 0,
             "ticks": ""
            },
            "colorscale": [
             [
              0,
              "#0d0887"
             ],
             [
              0.1111111111111111,
              "#46039f"
             ],
             [
              0.2222222222222222,
              "#7201a8"
             ],
             [
              0.3333333333333333,
              "#9c179e"
             ],
             [
              0.4444444444444444,
              "#bd3786"
             ],
             [
              0.5555555555555556,
              "#d8576b"
             ],
             [
              0.6666666666666666,
              "#ed7953"
             ],
             [
              0.7777777777777778,
              "#fb9f3a"
             ],
             [
              0.8888888888888888,
              "#fdca26"
             ],
             [
              1,
              "#f0f921"
             ]
            ],
            "type": "histogram2d"
           }
          ],
          "histogram2dcontour": [
           {
            "colorbar": {
             "outlinewidth": 0,
             "ticks": ""
            },
            "colorscale": [
             [
              0,
              "#0d0887"
             ],
             [
              0.1111111111111111,
              "#46039f"
             ],
             [
              0.2222222222222222,
              "#7201a8"
             ],
             [
              0.3333333333333333,
              "#9c179e"
             ],
             [
              0.4444444444444444,
              "#bd3786"
             ],
             [
              0.5555555555555556,
              "#d8576b"
             ],
             [
              0.6666666666666666,
              "#ed7953"
             ],
             [
              0.7777777777777778,
              "#fb9f3a"
             ],
             [
              0.8888888888888888,
              "#fdca26"
             ],
             [
              1,
              "#f0f921"
             ]
            ],
            "type": "histogram2dcontour"
           }
          ],
          "mesh3d": [
           {
            "colorbar": {
             "outlinewidth": 0,
             "ticks": ""
            },
            "type": "mesh3d"
           }
          ],
          "parcoords": [
           {
            "line": {
             "colorbar": {
              "outlinewidth": 0,
              "ticks": ""
             }
            },
            "type": "parcoords"
           }
          ],
          "pie": [
           {
            "automargin": true,
            "type": "pie"
           }
          ],
          "scatter": [
           {
            "fillpattern": {
             "fillmode": "overlay",
             "size": 10,
             "solidity": 0.2
            },
            "type": "scatter"
           }
          ],
          "scatter3d": [
           {
            "line": {
             "colorbar": {
              "outlinewidth": 0,
              "ticks": ""
             }
            },
            "marker": {
             "colorbar": {
              "outlinewidth": 0,
              "ticks": ""
             }
            },
            "type": "scatter3d"
           }
          ],
          "scattercarpet": [
           {
            "marker": {
             "colorbar": {
              "outlinewidth": 0,
              "ticks": ""
             }
            },
            "type": "scattercarpet"
           }
          ],
          "scattergeo": [
           {
            "marker": {
             "colorbar": {
              "outlinewidth": 0,
              "ticks": ""
             }
            },
            "type": "scattergeo"
           }
          ],
          "scattergl": [
           {
            "marker": {
             "colorbar": {
              "outlinewidth": 0,
              "ticks": ""
             }
            },
            "type": "scattergl"
           }
          ],
          "scattermapbox": [
           {
            "marker": {
             "colorbar": {
              "outlinewidth": 0,
              "ticks": ""
             }
            },
            "type": "scattermapbox"
           }
          ],
          "scatterpolar": [
           {
            "marker": {
             "colorbar": {
              "outlinewidth": 0,
              "ticks": ""
             }
            },
            "type": "scatterpolar"
           }
          ],
          "scatterpolargl": [
           {
            "marker": {
             "colorbar": {
              "outlinewidth": 0,
              "ticks": ""
             }
            },
            "type": "scatterpolargl"
           }
          ],
          "scatterternary": [
           {
            "marker": {
             "colorbar": {
              "outlinewidth": 0,
              "ticks": ""
             }
            },
            "type": "scatterternary"
           }
          ],
          "surface": [
           {
            "colorbar": {
             "outlinewidth": 0,
             "ticks": ""
            },
            "colorscale": [
             [
              0,
              "#0d0887"
             ],
             [
              0.1111111111111111,
              "#46039f"
             ],
             [
              0.2222222222222222,
              "#7201a8"
             ],
             [
              0.3333333333333333,
              "#9c179e"
             ],
             [
              0.4444444444444444,
              "#bd3786"
             ],
             [
              0.5555555555555556,
              "#d8576b"
             ],
             [
              0.6666666666666666,
              "#ed7953"
             ],
             [
              0.7777777777777778,
              "#fb9f3a"
             ],
             [
              0.8888888888888888,
              "#fdca26"
             ],
             [
              1,
              "#f0f921"
             ]
            ],
            "type": "surface"
           }
          ],
          "table": [
           {
            "cells": {
             "fill": {
              "color": "#EBF0F8"
             },
             "line": {
              "color": "white"
             }
            },
            "header": {
             "fill": {
              "color": "#C8D4E3"
             },
             "line": {
              "color": "white"
             }
            },
            "type": "table"
           }
          ]
         },
         "layout": {
          "annotationdefaults": {
           "arrowcolor": "#2a3f5f",
           "arrowhead": 0,
           "arrowwidth": 1
          },
          "autotypenumbers": "strict",
          "coloraxis": {
           "colorbar": {
            "outlinewidth": 0,
            "ticks": ""
           }
          },
          "colorscale": {
           "diverging": [
            [
             0,
             "#8e0152"
            ],
            [
             0.1,
             "#c51b7d"
            ],
            [
             0.2,
             "#de77ae"
            ],
            [
             0.3,
             "#f1b6da"
            ],
            [
             0.4,
             "#fde0ef"
            ],
            [
             0.5,
             "#f7f7f7"
            ],
            [
             0.6,
             "#e6f5d0"
            ],
            [
             0.7,
             "#b8e186"
            ],
            [
             0.8,
             "#7fbc41"
            ],
            [
             0.9,
             "#4d9221"
            ],
            [
             1,
             "#276419"
            ]
           ],
           "sequential": [
            [
             0,
             "#0d0887"
            ],
            [
             0.1111111111111111,
             "#46039f"
            ],
            [
             0.2222222222222222,
             "#7201a8"
            ],
            [
             0.3333333333333333,
             "#9c179e"
            ],
            [
             0.4444444444444444,
             "#bd3786"
            ],
            [
             0.5555555555555556,
             "#d8576b"
            ],
            [
             0.6666666666666666,
             "#ed7953"
            ],
            [
             0.7777777777777778,
             "#fb9f3a"
            ],
            [
             0.8888888888888888,
             "#fdca26"
            ],
            [
             1,
             "#f0f921"
            ]
           ],
           "sequentialminus": [
            [
             0,
             "#0d0887"
            ],
            [
             0.1111111111111111,
             "#46039f"
            ],
            [
             0.2222222222222222,
             "#7201a8"
            ],
            [
             0.3333333333333333,
             "#9c179e"
            ],
            [
             0.4444444444444444,
             "#bd3786"
            ],
            [
             0.5555555555555556,
             "#d8576b"
            ],
            [
             0.6666666666666666,
             "#ed7953"
            ],
            [
             0.7777777777777778,
             "#fb9f3a"
            ],
            [
             0.8888888888888888,
             "#fdca26"
            ],
            [
             1,
             "#f0f921"
            ]
           ]
          },
          "colorway": [
           "#636efa",
           "#EF553B",
           "#00cc96",
           "#ab63fa",
           "#FFA15A",
           "#19d3f3",
           "#FF6692",
           "#B6E880",
           "#FF97FF",
           "#FECB52"
          ],
          "font": {
           "color": "#2a3f5f"
          },
          "geo": {
           "bgcolor": "white",
           "lakecolor": "white",
           "landcolor": "#E5ECF6",
           "showlakes": true,
           "showland": true,
           "subunitcolor": "white"
          },
          "hoverlabel": {
           "align": "left"
          },
          "hovermode": "closest",
          "mapbox": {
           "style": "light"
          },
          "paper_bgcolor": "white",
          "plot_bgcolor": "#E5ECF6",
          "polar": {
           "angularaxis": {
            "gridcolor": "white",
            "linecolor": "white",
            "ticks": ""
           },
           "bgcolor": "#E5ECF6",
           "radialaxis": {
            "gridcolor": "white",
            "linecolor": "white",
            "ticks": ""
           }
          },
          "scene": {
           "xaxis": {
            "backgroundcolor": "#E5ECF6",
            "gridcolor": "white",
            "gridwidth": 2,
            "linecolor": "white",
            "showbackground": true,
            "ticks": "",
            "zerolinecolor": "white"
           },
           "yaxis": {
            "backgroundcolor": "#E5ECF6",
            "gridcolor": "white",
            "gridwidth": 2,
            "linecolor": "white",
            "showbackground": true,
            "ticks": "",
            "zerolinecolor": "white"
           },
           "zaxis": {
            "backgroundcolor": "#E5ECF6",
            "gridcolor": "white",
            "gridwidth": 2,
            "linecolor": "white",
            "showbackground": true,
            "ticks": "",
            "zerolinecolor": "white"
           }
          },
          "shapedefaults": {
           "line": {
            "color": "#2a3f5f"
           }
          },
          "ternary": {
           "aaxis": {
            "gridcolor": "white",
            "linecolor": "white",
            "ticks": ""
           },
           "baxis": {
            "gridcolor": "white",
            "linecolor": "white",
            "ticks": ""
           },
           "bgcolor": "#E5ECF6",
           "caxis": {
            "gridcolor": "white",
            "linecolor": "white",
            "ticks": ""
           }
          },
          "title": {
           "x": 0.05
          },
          "xaxis": {
           "automargin": true,
           "gridcolor": "white",
           "linecolor": "white",
           "ticks": "",
           "title": {
            "standoff": 15
           },
           "zerolinecolor": "white",
           "zerolinewidth": 2
          },
          "yaxis": {
           "automargin": true,
           "gridcolor": "white",
           "linecolor": "white",
           "ticks": "",
           "title": {
            "standoff": 15
           },
           "zerolinecolor": "white",
           "zerolinewidth": 2
          }
         }
        },
        "title": {
         "text": "Title"
        }
       }
      }
     },
     "metadata": {},
     "output_type": "display_data"
    }
   ],
   "source": [
    "# Basic example with Plotly Go\n",
    "# Create figure data\n",
    "fig = go.Figure(data=go.Scattergeo(\n",
    "        lon = df['lon'],\n",
    "        lat = df['lat'],\n",
    "        text = df['item'],\n",
    "        mode = 'markers',\n",
    "        marker_color = lime,\n",
    "        marker_size = 10,\n",
    "        ))\n",
    "\n",
    "# Update layout\n",
    "fig.update_layout(\n",
    "        title = 'Title',\n",
    "        geo_scope='world',\n",
    "    )\n",
    "\n",
    "# Show figure\n",
    "fig.show()"
   ]
  },
  {
   "cell_type": "markdown",
   "metadata": {},
   "source": [
    "### Map settings"
   ]
  },
  {
   "cell_type": "code",
   "execution_count": 361,
   "metadata": {},
   "outputs": [],
   "source": [
    "# Visual variables for map (dark mode)\n",
    "font_size = 12\n",
    "font_color = \"#dddddd\"\n",
    "font_family = \"Noto Sans\"\n",
    "marker_symbol= 'circle'\n",
    "marker_size = 12\n",
    "max_marker_size = 32\n",
    "edge_color = transparent\n",
    "edge_size = 1\n",
    "opacity = 0.75\n",
    "line_width = 4\n",
    "water = \"#202020\"\n",
    "grid_color = \"#282828\"\n",
    "land = \"#303030\"\n",
    "lines = \"#383838\"\n",
    "copyright_color = \"#404040\"\n",
    "background_color = transparent\n",
    "legend_background_color = quarter_transparent\n",
    "color_scheme = prism\n",
    "\n",
    "# # Visual variables for map (light mode)\n",
    "# font_size = 12\n",
    "# font_color = \"#000000\"\n",
    "# font_family = \"Noto Serif\"\n",
    "# marker_symbol= 'circle'\n",
    "# marker_size = 12\n",
    "# max_marker_size = 32\n",
    "# edge_color = transparent\n",
    "# edge_size = 1\n",
    "# opacity = 0.75\n",
    "# line_width = 4\n",
    "# water = \"#ffffff\"\n",
    "# grid_color = \"#f7f7f7\"\n",
    "# land = \"#ffffff\"\n",
    "# lines = \"#777777\"\n",
    "# copyright_color = \"#f7f7f7\"\n",
    "# background_color = transparent\n",
    "# legend_background_color = quarter_transparent\n",
    "# color_scheme = prism"
   ]
  },
  {
   "cell_type": "code",
   "execution_count": 362,
   "metadata": {},
   "outputs": [],
   "source": [
    "# Orthographic globe layout\n",
    "ortho_traces = dict(\n",
    "    textposition = 'top right', # middle left, bottom center, etc.\n",
    "    textfont = dict(size=font_size, color=font_color, family=font_family),\n",
    "    hovertemplate=\n",
    "        \"<b>%{customdata[0]}</b><br><br>\" +\n",
    "        \"Species: <i>%{customdata[1]}</i><br>\" +\n",
    "        \"Family: <i>%{customdata[2]}</i><br>\" +\n",
    "        \"Region of origin: %{customdata[3]}<br>\" +\n",
    "        \"Arabic: %{customdata[4]} <i>%{customdata[5]}</i><br>\" +\n",
    "        \"Chinese: %{customdata[6]} <i>%{customdata[7]}</i><br>\" +\n",
    "        # \"Spreadability: %{customdata[7]:.2f}<br>\" +\n",
    "        \"<extra></extra>\",\n",
    "    marker = dict(\n",
    "        symbol = marker_symbol,\n",
    "        size = marker_size,\n",
    "        line = dict(\n",
    "            color=edge_color,\n",
    "            width=edge_size\n",
    "        )\n",
    "    )\n",
    ")\n",
    "\n",
    "ortho_layout = go.Layout(\n",
    "    paper_bgcolor=background_color,\n",
    "    plot_bgcolor=background_color,\n",
    "    geo = dict(\n",
    "        resolution=110, # 50 is large; 110 is small\n",
    "        scope='world', # 'world', 'asia'\n",
    "        projection_type = 'orthographic', # orthographic, natural earth\n",
    "        projection_scale = 1,\n",
    "        projection_rotation = {'lat': 20, 'lon': 80, 'roll': 0},\n",
    "        bgcolor=background_color,\n",
    "        showcoastlines=True, coastlinewidth = 1, coastlinecolor = lines,\n",
    "        showcountries=False, countrywidth = 1, countrycolor = lines,\n",
    "        showframe=True, framewidth = 1, framecolor = lines,\n",
    "        showlakes=True, lakecolor = water,\n",
    "        showland=True, landcolor = land,\n",
    "        showocean=True, oceancolor = water,\n",
    "        showrivers=True, riverwidth = 1, rivercolor = water,\n",
    "        showsubunits=True, subunitwidth = 0, subunitcolor = lines,\n",
    "        lonaxis = dict(showgrid = True, gridwidth = 0.5, dtick = 10, gridcolor=grid_color),\n",
    "        lataxis = dict (showgrid = True, gridwidth = 0.5, dtick = 10, gridcolor=grid_color)),\n",
    "    showlegend = True,\n",
    "    legend=dict(x=0, y=0, xanchor=\"left\", yanchor=\"bottom\", bgcolor=legend_background_color,\n",
    "                font=dict(color=font_color, size=font_size, family=font_family),\n",
    "                title_font=dict(color=font_color, size=font_size+2, family=font_family),\n",
    "                traceorder = 'normal', orientation=\"v\"),\n",
    "    title=dict(x=0.5, y=0.99, xanchor='center', yanchor='top', text='',\n",
    "               font=dict(color=font_color, size=font_size+6, family=font_family)),\n",
    "    margin={\"r\":0,\"t\":0,\"l\":0,\"b\":0},\n",
    "    hoverlabel=dict(#bgcolor=\"white\",\n",
    "                    font_size=font_size,\n",
    "                    font_family=font_family),\n",
    "    )\n",
    "\n",
    "# \"Document size\" for pdfs\n",
    "document_size = dict(width = 600, height=600)\n",
    "\n",
    "# Copyright\n",
    "cr = dict(\n",
    "    name=\"copyright\",\n",
    "    text=\"© Gábor Parti, 2024\",\n",
    "    font=dict(color=copyright_color, size=8, family=font_family),\n",
    "    opacity=0.9,\n",
    "    xref=\"paper\",\n",
    "    yref=\"paper\",\n",
    "    x=0.5,\n",
    "    y=0,\n",
    "    # xanchor=\"right\", \n",
    "    # yanchor=\"bottom\", \n",
    "    # align=\"center\",\n",
    "    showarrow=False,\n",
    ")\n",
    "# fig.update_layout(annotations = [cr]) # to call\n",
    "\n",
    "## Info\n",
    "info = dict(\n",
    "    name=\"info\",\n",
    "    text=\"Click on a material to navigate to its corresponding page!\",\n",
    "    font=dict(color=font_color, size=font_size, family=font_family),\n",
    "    opacity=0.9,\n",
    "    xref=\"paper\",\n",
    "    yref=\"paper\",\n",
    "    x=0.5,\n",
    "    y=0.05,\n",
    "    # xanchor=\"right\", \n",
    "    # yanchor=\"bottom\", \n",
    "    # align=\"center\",\n",
    "    showarrow=False,\n",
    ")\n",
    "# fig.update_layout(annotations = [info]) # to call\n",
    "\n",
    "# Adding layout images\n",
    "logo = dict(\n",
    "    source=\"https://upload.wikimedia.org/wikipedia/en/thumb/9/9e/PolyU_Logo_with_wordmark.svg/1024px-PolyU_Logo_with_wordmark.svg.png\",\n",
    "    sizex=0.15, sizey=0.15,\n",
    "    x=1, y=0, \n",
    "    xanchor=\"right\", \n",
    "    yanchor=\"bottom\", \n",
    ")\n",
    "# fig.add_layout_image(logo) # to call"
   ]
  },
  {
   "cell_type": "code",
   "execution_count": 363,
   "metadata": {},
   "outputs": [],
   "source": [
    "# Natural earth layout for cloropleth maps (regions and distributions)\n",
    "dist_traces = dict(\n",
    "    hovertemplate=\n",
    "        \"Region: <i>%{customdata[0]}</i><br>\" +\n",
    "        \"Code: <i>%{customdata[1]}</i><br>\" +\n",
    "        \"<extra></extra>\",\n",
    ")\n",
    "\n",
    "dist_layout = go.Layout(\n",
    "    paper_bgcolor=background_color,\n",
    "    plot_bgcolor=background_color,\n",
    "    geo = dict(\n",
    "        resolution=110, # 50 is large; 110 is small\n",
    "        scope='world', # 'world', 'asia'\n",
    "        projection_type = 'orthographic', #'natural earth',\n",
    "        projection_scale = 2,\n",
    "        projection_rotation = {'lat': 20, 'lon': 80, 'roll': 0},\n",
    "        bgcolor=background_color,\n",
    "        showcoastlines=True, coastlinewidth = 1, coastlinecolor = lines,\n",
    "        showcountries=False, countrywidth = 1, countrycolor = lines,\n",
    "        showframe=True, framewidth = 1, framecolor = lines,\n",
    "        showlakes=True, lakecolor = water,\n",
    "        showland=True, landcolor = land,\n",
    "        showocean=True, oceancolor = water,\n",
    "        showrivers=True, riverwidth = 1, rivercolor = water,\n",
    "        showsubunits=True, subunitwidth = 0, subunitcolor = lines,\n",
    "        lonaxis = dict(showgrid = True, gridwidth = 0.5, dtick = 10, gridcolor=grid_color),\n",
    "        lataxis = dict (showgrid = True, gridwidth = 0.5, dtick = 10, gridcolor=grid_color)),\n",
    "    showlegend = True,\n",
    "    legend=dict(xanchor=\"left\", yanchor=\"bottom\", \n",
    "                # x=0.1, y=0.1, # for natural earth\n",
    "                x=0, y=0, # for orthographic\n",
    "                bgcolor=legend_background_color,\n",
    "                font=dict(color=font_color, size=font_size, family=font_family),\n",
    "                title_font=dict(color=font_color, size=font_size+2, family=font_family),\n",
    "                traceorder = 'normal', orientation=\"v\"),\n",
    "    title=dict(x=0.5, y=0.99, xanchor='center', yanchor='top', text='',\n",
    "               font=dict(color=font_color, size=font_size+6, family=font_family)),\n",
    "    margin={\"r\":0,\"t\":0,\"l\":0,\"b\":0},\n",
    "    hoverlabel=dict(#bgcolor=\"white\",\n",
    "                    font_size=font_size,\n",
    "                    font_family=font_family),\n",
    "    )"
   ]
  },
  {
   "cell_type": "code",
   "execution_count": 364,
   "metadata": {},
   "outputs": [],
   "source": [
    "# Define the map layout with the Marble basemap\n",
    "marble = go.Layout(\n",
    "    hovermode=\"closest\",\n",
    "    mapbox_style=\"white-bg\",\n",
    "    mapbox_layers=[\n",
    "        {\n",
    "            \"below\": 'traces',\n",
    "            \"sourcetype\": \"raster\",\n",
    "            \"sourceattribution\": \"United States Geological Survey\",\n",
    "            \"source\": [\n",
    "                \"https://basemap.nationalmap.gov/arcgis/rest/services/USGSImageryOnly/MapServer/tile/{z}/{y}/{x}\"\n",
    "            ]\n",
    "        }\n",
    "      ]\n",
    "    # mapbox=dict(\n",
    "    #     center=dict(lat=0, lon=0),\n",
    "    #     style=\"open-street-map\", \n",
    "    #     zoom=1,\n",
    "    # ),\n",
    ")"
   ]
  },
  {
   "cell_type": "markdown",
   "metadata": {},
   "source": [
    "## Plot by family"
   ]
  },
  {
   "cell_type": "code",
   "execution_count": 365,
   "metadata": {},
   "outputs": [
    {
     "data": {
      "application/vnd.plotly.v1+json": {
       "config": {
        "plotlyServerURL": "https://plot.ly"
       },
       "data": [
        {
         "customdata": [
          [
           "allspice",
           "Pimenta dioica",
           "Myrtaceae",
           "S. Mexico to C. America, Caribbean",
           "فلفل إفرنجي",
           "fulful ifranjī",
           "多香果",
           "duōxiāngguǒ",
           -77,
           18,
           1
          ]
         ],
         "geo": "geo",
         "hovertemplate": "<b>%{customdata[0]}</b><br><br>Species: <i>%{customdata[1]}</i><br>Family: <i>%{customdata[2]}</i><br>Region of origin: %{customdata[3]}<br>Arabic: %{customdata[4]} <i>%{customdata[5]}</i><br>Chinese: %{customdata[6]} <i>%{customdata[7]}</i><br><extra></extra>",
         "hovertext": [
          "allspice"
         ],
         "lat": [
          18
         ],
         "legendgroup": "Myrtaceae",
         "lon": [
          -77
         ],
         "marker": {
          "color": "#5f4690",
          "line": {
           "color": "rgba(0,0,0,0)",
           "width": 1
          },
          "opacity": 0.75,
          "size": 12,
          "sizemode": "area",
          "sizeref": 0.0009765625,
          "symbol": "circle"
         },
         "mode": "markers",
         "name": "Myrtaceae",
         "showlegend": true,
         "textfont": {
          "color": "#dddddd",
          "family": "Noto Sans",
          "size": 12
         },
         "textposition": "top right",
         "type": "scattergeo"
        }
       ],
       "layout": {
        "annotations": [
         {
          "font": {
           "color": "#404040",
           "family": "Noto Sans",
           "size": 8
          },
          "name": "copyright",
          "opacity": 0.9,
          "showarrow": false,
          "text": "© Gábor Parti, 2024",
          "x": 0.5,
          "xref": "paper",
          "y": 0,
          "yref": "paper"
         }
        ],
        "geo": {
         "bgcolor": "rgba(0,0,0,0)",
         "center": {},
         "coastlinecolor": "#383838",
         "coastlinewidth": 1,
         "countrycolor": "#383838",
         "countrywidth": 1,
         "domain": {
          "x": [
           0,
           1
          ],
          "y": [
           0,
           1
          ]
         },
         "framecolor": "#383838",
         "framewidth": 1,
         "lakecolor": "#202020",
         "landcolor": "#303030",
         "lataxis": {
          "dtick": 10,
          "gridcolor": "#282828",
          "gridwidth": 0.5,
          "showgrid": true
         },
         "lonaxis": {
          "dtick": 10,
          "gridcolor": "#282828",
          "gridwidth": 0.5,
          "showgrid": true
         },
         "oceancolor": "#202020",
         "projection": {
          "rotation": {
           "lat": 20,
           "lon": 80,
           "roll": 0
          },
          "scale": 1,
          "type": "orthographic"
         },
         "resolution": 110,
         "rivercolor": "#202020",
         "riverwidth": 1,
         "scope": "world",
         "showcoastlines": true,
         "showcountries": false,
         "showframe": true,
         "showlakes": true,
         "showland": true,
         "showocean": true,
         "showrivers": true,
         "showsubunits": true,
         "subunitcolor": "#383838",
         "subunitwidth": 0
        },
        "hoverlabel": {
         "font": {
          "family": "Noto Sans",
          "size": 12
         }
        },
        "legend": {
         "bgcolor": "rgba(0,0,0,0.25)",
         "font": {
          "color": "#dddddd",
          "family": "Noto Sans",
          "size": 12
         },
         "itemsizing": "constant",
         "orientation": "v",
         "title": {
          "font": {
           "color": "#dddddd",
           "family": "Noto Sans",
           "size": 14
          },
          "text": "family"
         },
         "tracegroupgap": 0,
         "traceorder": "normal",
         "x": 0,
         "xanchor": "left",
         "y": 0,
         "yanchor": "bottom"
        },
        "margin": {
         "b": 0,
         "l": 0,
         "r": 0,
         "t": 0
        },
        "paper_bgcolor": "rgba(0,0,0,0)",
        "plot_bgcolor": "rgba(0,0,0,0)",
        "showlegend": true,
        "template": {
         "data": {
          "bar": [
           {
            "error_x": {
             "color": "#2a3f5f"
            },
            "error_y": {
             "color": "#2a3f5f"
            },
            "marker": {
             "line": {
              "color": "#E5ECF6",
              "width": 0.5
             },
             "pattern": {
              "fillmode": "overlay",
              "size": 10,
              "solidity": 0.2
             }
            },
            "type": "bar"
           }
          ],
          "barpolar": [
           {
            "marker": {
             "line": {
              "color": "#E5ECF6",
              "width": 0.5
             },
             "pattern": {
              "fillmode": "overlay",
              "size": 10,
              "solidity": 0.2
             }
            },
            "type": "barpolar"
           }
          ],
          "carpet": [
           {
            "aaxis": {
             "endlinecolor": "#2a3f5f",
             "gridcolor": "white",
             "linecolor": "white",
             "minorgridcolor": "white",
             "startlinecolor": "#2a3f5f"
            },
            "baxis": {
             "endlinecolor": "#2a3f5f",
             "gridcolor": "white",
             "linecolor": "white",
             "minorgridcolor": "white",
             "startlinecolor": "#2a3f5f"
            },
            "type": "carpet"
           }
          ],
          "choropleth": [
           {
            "colorbar": {
             "outlinewidth": 0,
             "ticks": ""
            },
            "type": "choropleth"
           }
          ],
          "contour": [
           {
            "colorbar": {
             "outlinewidth": 0,
             "ticks": ""
            },
            "colorscale": [
             [
              0,
              "#0d0887"
             ],
             [
              0.1111111111111111,
              "#46039f"
             ],
             [
              0.2222222222222222,
              "#7201a8"
             ],
             [
              0.3333333333333333,
              "#9c179e"
             ],
             [
              0.4444444444444444,
              "#bd3786"
             ],
             [
              0.5555555555555556,
              "#d8576b"
             ],
             [
              0.6666666666666666,
              "#ed7953"
             ],
             [
              0.7777777777777778,
              "#fb9f3a"
             ],
             [
              0.8888888888888888,
              "#fdca26"
             ],
             [
              1,
              "#f0f921"
             ]
            ],
            "type": "contour"
           }
          ],
          "contourcarpet": [
           {
            "colorbar": {
             "outlinewidth": 0,
             "ticks": ""
            },
            "type": "contourcarpet"
           }
          ],
          "heatmap": [
           {
            "colorbar": {
             "outlinewidth": 0,
             "ticks": ""
            },
            "colorscale": [
             [
              0,
              "#0d0887"
             ],
             [
              0.1111111111111111,
              "#46039f"
             ],
             [
              0.2222222222222222,
              "#7201a8"
             ],
             [
              0.3333333333333333,
              "#9c179e"
             ],
             [
              0.4444444444444444,
              "#bd3786"
             ],
             [
              0.5555555555555556,
              "#d8576b"
             ],
             [
              0.6666666666666666,
              "#ed7953"
             ],
             [
              0.7777777777777778,
              "#fb9f3a"
             ],
             [
              0.8888888888888888,
              "#fdca26"
             ],
             [
              1,
              "#f0f921"
             ]
            ],
            "type": "heatmap"
           }
          ],
          "heatmapgl": [
           {
            "colorbar": {
             "outlinewidth": 0,
             "ticks": ""
            },
            "colorscale": [
             [
              0,
              "#0d0887"
             ],
             [
              0.1111111111111111,
              "#46039f"
             ],
             [
              0.2222222222222222,
              "#7201a8"
             ],
             [
              0.3333333333333333,
              "#9c179e"
             ],
             [
              0.4444444444444444,
              "#bd3786"
             ],
             [
              0.5555555555555556,
              "#d8576b"
             ],
             [
              0.6666666666666666,
              "#ed7953"
             ],
             [
              0.7777777777777778,
              "#fb9f3a"
             ],
             [
              0.8888888888888888,
              "#fdca26"
             ],
             [
              1,
              "#f0f921"
             ]
            ],
            "type": "heatmapgl"
           }
          ],
          "histogram": [
           {
            "marker": {
             "pattern": {
              "fillmode": "overlay",
              "size": 10,
              "solidity": 0.2
             }
            },
            "type": "histogram"
           }
          ],
          "histogram2d": [
           {
            "colorbar": {
             "outlinewidth": 0,
             "ticks": ""
            },
            "colorscale": [
             [
              0,
              "#0d0887"
             ],
             [
              0.1111111111111111,
              "#46039f"
             ],
             [
              0.2222222222222222,
              "#7201a8"
             ],
             [
              0.3333333333333333,
              "#9c179e"
             ],
             [
              0.4444444444444444,
              "#bd3786"
             ],
             [
              0.5555555555555556,
              "#d8576b"
             ],
             [
              0.6666666666666666,
              "#ed7953"
             ],
             [
              0.7777777777777778,
              "#fb9f3a"
             ],
             [
              0.8888888888888888,
              "#fdca26"
             ],
             [
              1,
              "#f0f921"
             ]
            ],
            "type": "histogram2d"
           }
          ],
          "histogram2dcontour": [
           {
            "colorbar": {
             "outlinewidth": 0,
             "ticks": ""
            },
            "colorscale": [
             [
              0,
              "#0d0887"
             ],
             [
              0.1111111111111111,
              "#46039f"
             ],
             [
              0.2222222222222222,
              "#7201a8"
             ],
             [
              0.3333333333333333,
              "#9c179e"
             ],
             [
              0.4444444444444444,
              "#bd3786"
             ],
             [
              0.5555555555555556,
              "#d8576b"
             ],
             [
              0.6666666666666666,
              "#ed7953"
             ],
             [
              0.7777777777777778,
              "#fb9f3a"
             ],
             [
              0.8888888888888888,
              "#fdca26"
             ],
             [
              1,
              "#f0f921"
             ]
            ],
            "type": "histogram2dcontour"
           }
          ],
          "mesh3d": [
           {
            "colorbar": {
             "outlinewidth": 0,
             "ticks": ""
            },
            "type": "mesh3d"
           }
          ],
          "parcoords": [
           {
            "line": {
             "colorbar": {
              "outlinewidth": 0,
              "ticks": ""
             }
            },
            "type": "parcoords"
           }
          ],
          "pie": [
           {
            "automargin": true,
            "type": "pie"
           }
          ],
          "scatter": [
           {
            "fillpattern": {
             "fillmode": "overlay",
             "size": 10,
             "solidity": 0.2
            },
            "type": "scatter"
           }
          ],
          "scatter3d": [
           {
            "line": {
             "colorbar": {
              "outlinewidth": 0,
              "ticks": ""
             }
            },
            "marker": {
             "colorbar": {
              "outlinewidth": 0,
              "ticks": ""
             }
            },
            "type": "scatter3d"
           }
          ],
          "scattercarpet": [
           {
            "marker": {
             "colorbar": {
              "outlinewidth": 0,
              "ticks": ""
             }
            },
            "type": "scattercarpet"
           }
          ],
          "scattergeo": [
           {
            "marker": {
             "colorbar": {
              "outlinewidth": 0,
              "ticks": ""
             }
            },
            "type": "scattergeo"
           }
          ],
          "scattergl": [
           {
            "marker": {
             "colorbar": {
              "outlinewidth": 0,
              "ticks": ""
             }
            },
            "type": "scattergl"
           }
          ],
          "scattermapbox": [
           {
            "marker": {
             "colorbar": {
              "outlinewidth": 0,
              "ticks": ""
             }
            },
            "type": "scattermapbox"
           }
          ],
          "scatterpolar": [
           {
            "marker": {
             "colorbar": {
              "outlinewidth": 0,
              "ticks": ""
             }
            },
            "type": "scatterpolar"
           }
          ],
          "scatterpolargl": [
           {
            "marker": {
             "colorbar": {
              "outlinewidth": 0,
              "ticks": ""
             }
            },
            "type": "scatterpolargl"
           }
          ],
          "scatterternary": [
           {
            "marker": {
             "colorbar": {
              "outlinewidth": 0,
              "ticks": ""
             }
            },
            "type": "scatterternary"
           }
          ],
          "surface": [
           {
            "colorbar": {
             "outlinewidth": 0,
             "ticks": ""
            },
            "colorscale": [
             [
              0,
              "#0d0887"
             ],
             [
              0.1111111111111111,
              "#46039f"
             ],
             [
              0.2222222222222222,
              "#7201a8"
             ],
             [
              0.3333333333333333,
              "#9c179e"
             ],
             [
              0.4444444444444444,
              "#bd3786"
             ],
             [
              0.5555555555555556,
              "#d8576b"
             ],
             [
              0.6666666666666666,
              "#ed7953"
             ],
             [
              0.7777777777777778,
              "#fb9f3a"
             ],
             [
              0.8888888888888888,
              "#fdca26"
             ],
             [
              1,
              "#f0f921"
             ]
            ],
            "type": "surface"
           }
          ],
          "table": [
           {
            "cells": {
             "fill": {
              "color": "#EBF0F8"
             },
             "line": {
              "color": "white"
             }
            },
            "header": {
             "fill": {
              "color": "#C8D4E3"
             },
             "line": {
              "color": "white"
             }
            },
            "type": "table"
           }
          ]
         },
         "layout": {
          "annotationdefaults": {
           "arrowcolor": "#2a3f5f",
           "arrowhead": 0,
           "arrowwidth": 1
          },
          "autotypenumbers": "strict",
          "coloraxis": {
           "colorbar": {
            "outlinewidth": 0,
            "ticks": ""
           }
          },
          "colorscale": {
           "diverging": [
            [
             0,
             "#8e0152"
            ],
            [
             0.1,
             "#c51b7d"
            ],
            [
             0.2,
             "#de77ae"
            ],
            [
             0.3,
             "#f1b6da"
            ],
            [
             0.4,
             "#fde0ef"
            ],
            [
             0.5,
             "#f7f7f7"
            ],
            [
             0.6,
             "#e6f5d0"
            ],
            [
             0.7,
             "#b8e186"
            ],
            [
             0.8,
             "#7fbc41"
            ],
            [
             0.9,
             "#4d9221"
            ],
            [
             1,
             "#276419"
            ]
           ],
           "sequential": [
            [
             0,
             "#0d0887"
            ],
            [
             0.1111111111111111,
             "#46039f"
            ],
            [
             0.2222222222222222,
             "#7201a8"
            ],
            [
             0.3333333333333333,
             "#9c179e"
            ],
            [
             0.4444444444444444,
             "#bd3786"
            ],
            [
             0.5555555555555556,
             "#d8576b"
            ],
            [
             0.6666666666666666,
             "#ed7953"
            ],
            [
             0.7777777777777778,
             "#fb9f3a"
            ],
            [
             0.8888888888888888,
             "#fdca26"
            ],
            [
             1,
             "#f0f921"
            ]
           ],
           "sequentialminus": [
            [
             0,
             "#0d0887"
            ],
            [
             0.1111111111111111,
             "#46039f"
            ],
            [
             0.2222222222222222,
             "#7201a8"
            ],
            [
             0.3333333333333333,
             "#9c179e"
            ],
            [
             0.4444444444444444,
             "#bd3786"
            ],
            [
             0.5555555555555556,
             "#d8576b"
            ],
            [
             0.6666666666666666,
             "#ed7953"
            ],
            [
             0.7777777777777778,
             "#fb9f3a"
            ],
            [
             0.8888888888888888,
             "#fdca26"
            ],
            [
             1,
             "#f0f921"
            ]
           ]
          },
          "colorway": [
           "#636efa",
           "#EF553B",
           "#00cc96",
           "#ab63fa",
           "#FFA15A",
           "#19d3f3",
           "#FF6692",
           "#B6E880",
           "#FF97FF",
           "#FECB52"
          ],
          "font": {
           "color": "#2a3f5f"
          },
          "geo": {
           "bgcolor": "white",
           "lakecolor": "white",
           "landcolor": "#E5ECF6",
           "showlakes": true,
           "showland": true,
           "subunitcolor": "white"
          },
          "hoverlabel": {
           "align": "left"
          },
          "hovermode": "closest",
          "mapbox": {
           "style": "light"
          },
          "paper_bgcolor": "white",
          "plot_bgcolor": "#E5ECF6",
          "polar": {
           "angularaxis": {
            "gridcolor": "white",
            "linecolor": "white",
            "ticks": ""
           },
           "bgcolor": "#E5ECF6",
           "radialaxis": {
            "gridcolor": "white",
            "linecolor": "white",
            "ticks": ""
           }
          },
          "scene": {
           "xaxis": {
            "backgroundcolor": "#E5ECF6",
            "gridcolor": "white",
            "gridwidth": 2,
            "linecolor": "white",
            "showbackground": true,
            "ticks": "",
            "zerolinecolor": "white"
           },
           "yaxis": {
            "backgroundcolor": "#E5ECF6",
            "gridcolor": "white",
            "gridwidth": 2,
            "linecolor": "white",
            "showbackground": true,
            "ticks": "",
            "zerolinecolor": "white"
           },
           "zaxis": {
            "backgroundcolor": "#E5ECF6",
            "gridcolor": "white",
            "gridwidth": 2,
            "linecolor": "white",
            "showbackground": true,
            "ticks": "",
            "zerolinecolor": "white"
           }
          },
          "shapedefaults": {
           "line": {
            "color": "#2a3f5f"
           }
          },
          "ternary": {
           "aaxis": {
            "gridcolor": "white",
            "linecolor": "white",
            "ticks": ""
           },
           "baxis": {
            "gridcolor": "white",
            "linecolor": "white",
            "ticks": ""
           },
           "bgcolor": "#E5ECF6",
           "caxis": {
            "gridcolor": "white",
            "linecolor": "white",
            "ticks": ""
           }
          },
          "title": {
           "x": 0.05
          },
          "xaxis": {
           "automargin": true,
           "gridcolor": "white",
           "linecolor": "white",
           "ticks": "",
           "title": {
            "standoff": 15
           },
           "zerolinecolor": "white",
           "zerolinewidth": 2
          },
          "yaxis": {
           "automargin": true,
           "gridcolor": "white",
           "linecolor": "white",
           "ticks": "",
           "title": {
            "standoff": 15
           },
           "zerolinecolor": "white",
           "zerolinewidth": 2
          }
         }
        },
        "title": {
         "font": {
          "color": "#dddddd",
          "family": "Noto Sans",
          "size": 18
         },
         "text": "",
         "x": 0.5,
         "xanchor": "center",
         "y": 0.99,
         "yanchor": "top"
        }
       }
      }
     },
     "metadata": {},
     "output_type": "display_data"
    },
    {
     "ename": "FileNotFoundError",
     "evalue": "[Errno 2] No such file or directory: 'output\\\\png\\\\home.png'",
     "output_type": "error",
     "traceback": [
      "\u001b[1;31m---------------------------------------------------------------------------\u001b[0m",
      "\u001b[1;31mFileNotFoundError\u001b[0m                         Traceback (most recent call last)",
      "Cell \u001b[1;32mIn[365], line 57\u001b[0m\n\u001b[0;32m     40\u001b[0m fig\u001b[38;5;241m.\u001b[39mwrite_json(path_out_json \u001b[38;5;241m+\u001b[39m filename \u001b[38;5;241m+\u001b[39m \u001b[38;5;124m\"\u001b[39m\u001b[38;5;124m.json\u001b[39m\u001b[38;5;124m\"\u001b[39m, validate\u001b[38;5;241m=\u001b[39m\u001b[38;5;28;01mTrue\u001b[39;00m, pretty\u001b[38;5;241m=\u001b[39m\u001b[38;5;28;01mTrue\u001b[39;00m)\n\u001b[0;32m     42\u001b[0m \u001b[38;5;66;03m###################################################\u001b[39;00m\n\u001b[0;32m     43\u001b[0m \u001b[38;5;66;03m# Image (PNG/PDF) for documents\u001b[39;00m\n\u001b[0;32m     44\u001b[0m \n\u001b[1;32m   (...)\u001b[0m\n\u001b[0;32m     54\u001b[0m \u001b[38;5;66;03m# Show figure\u001b[39;00m\n\u001b[0;32m     55\u001b[0m \u001b[38;5;66;03m# fig.show()\u001b[39;00m\n\u001b[1;32m---> 57\u001b[0m \u001b[43mfig\u001b[49m\u001b[38;5;241;43m.\u001b[39;49m\u001b[43mwrite_image\u001b[49m\u001b[43m(\u001b[49m\u001b[43mpath_out_png\u001b[49m\u001b[43m \u001b[49m\u001b[38;5;241;43m+\u001b[39;49m\u001b[43m \u001b[49m\u001b[43mfilename\u001b[49m\u001b[43m \u001b[49m\u001b[38;5;241;43m+\u001b[39;49m\u001b[43m \u001b[49m\u001b[38;5;124;43m\"\u001b[39;49m\u001b[38;5;124;43m.png\u001b[39;49m\u001b[38;5;124;43m\"\u001b[39;49m\u001b[43m,\u001b[49m\u001b[43m \u001b[49m\u001b[43mscale\u001b[49m\u001b[38;5;241;43m=\u001b[39;49m\u001b[38;5;241;43m3\u001b[39;49m\u001b[43m)\u001b[49m\n\u001b[0;32m     58\u001b[0m fig\u001b[38;5;241m.\u001b[39mwrite_image(filename \u001b[38;5;241m+\u001b[39m \u001b[38;5;124m\"\u001b[39m\u001b[38;5;124m.pdf\u001b[39m\u001b[38;5;124m\"\u001b[39m, engine\u001b[38;5;241m=\u001b[39m\u001b[38;5;124m\"\u001b[39m\u001b[38;5;124mkaleido\u001b[39m\u001b[38;5;124m\"\u001b[39m)\n",
      "File \u001b[1;32mc:\\Users\\gparti\\AppData\\Local\\Anaconda3\\envs\\work\\lib\\site-packages\\plotly\\basedatatypes.py:3840\u001b[0m, in \u001b[0;36mBaseFigure.write_image\u001b[1;34m(self, *args, **kwargs)\u001b[0m\n\u001b[0;32m   3780\u001b[0m \u001b[38;5;250m\u001b[39m\u001b[38;5;124;03m\"\"\"\u001b[39;00m\n\u001b[0;32m   3781\u001b[0m \u001b[38;5;124;03mConvert a figure to a static image and write it to a file or writeable\u001b[39;00m\n\u001b[0;32m   3782\u001b[0m \u001b[38;5;124;03mobject\u001b[39;00m\n\u001b[1;32m   (...)\u001b[0m\n\u001b[0;32m   3836\u001b[0m \u001b[38;5;124;03mNone\u001b[39;00m\n\u001b[0;32m   3837\u001b[0m \u001b[38;5;124;03m\"\"\"\u001b[39;00m\n\u001b[0;32m   3838\u001b[0m \u001b[38;5;28;01mimport\u001b[39;00m \u001b[38;5;21;01mplotly\u001b[39;00m\u001b[38;5;21;01m.\u001b[39;00m\u001b[38;5;21;01mio\u001b[39;00m \u001b[38;5;28;01mas\u001b[39;00m \u001b[38;5;21;01mpio\u001b[39;00m\n\u001b[1;32m-> 3840\u001b[0m \u001b[38;5;28;01mreturn\u001b[39;00m pio\u001b[38;5;241m.\u001b[39mwrite_image(\u001b[38;5;28mself\u001b[39m, \u001b[38;5;241m*\u001b[39margs, \u001b[38;5;241m*\u001b[39m\u001b[38;5;241m*\u001b[39mkwargs)\n",
      "File \u001b[1;32mc:\\Users\\gparti\\AppData\\Local\\Anaconda3\\envs\\work\\lib\\site-packages\\plotly\\io\\_kaleido.py:297\u001b[0m, in \u001b[0;36mwrite_image\u001b[1;34m(fig, file, format, scale, width, height, validate, engine)\u001b[0m\n\u001b[0;32m    287\u001b[0m         \u001b[38;5;28;01mraise\u001b[39;00m \u001b[38;5;167;01mValueError\u001b[39;00m(\n\u001b[0;32m    288\u001b[0m \u001b[38;5;250m            \u001b[39m\u001b[38;5;124;03m\"\"\"\u001b[39;00m\n\u001b[0;32m    289\u001b[0m \u001b[38;5;124;03mThe 'file' argument '{file}' is not a string, pathlib.Path object, or file descriptor.\u001b[39;00m\n\u001b[1;32m   (...)\u001b[0m\n\u001b[0;32m    292\u001b[0m             )\n\u001b[0;32m    293\u001b[0m         )\n\u001b[0;32m    294\u001b[0m     \u001b[38;5;28;01melse\u001b[39;00m:\n\u001b[0;32m    295\u001b[0m         \u001b[38;5;66;03m# We previously succeeded in interpreting `file` as a pathlib object.\u001b[39;00m\n\u001b[0;32m    296\u001b[0m         \u001b[38;5;66;03m# Now we can use `write_bytes()`.\u001b[39;00m\n\u001b[1;32m--> 297\u001b[0m         \u001b[43mpath\u001b[49m\u001b[38;5;241;43m.\u001b[39;49m\u001b[43mwrite_bytes\u001b[49m\u001b[43m(\u001b[49m\u001b[43mimg_data\u001b[49m\u001b[43m)\u001b[49m\n",
      "File \u001b[1;32mc:\\Users\\gparti\\AppData\\Local\\Anaconda3\\envs\\work\\lib\\pathlib.py:1143\u001b[0m, in \u001b[0;36mPath.write_bytes\u001b[1;34m(self, data)\u001b[0m\n\u001b[0;32m   1141\u001b[0m \u001b[38;5;66;03m# type-check for the buffer interface before truncating the file\u001b[39;00m\n\u001b[0;32m   1142\u001b[0m view \u001b[38;5;241m=\u001b[39m \u001b[38;5;28mmemoryview\u001b[39m(data)\n\u001b[1;32m-> 1143\u001b[0m \u001b[38;5;28;01mwith\u001b[39;00m \u001b[38;5;28;43mself\u001b[39;49m\u001b[38;5;241;43m.\u001b[39;49m\u001b[43mopen\u001b[49m\u001b[43m(\u001b[49m\u001b[43mmode\u001b[49m\u001b[38;5;241;43m=\u001b[39;49m\u001b[38;5;124;43m'\u001b[39;49m\u001b[38;5;124;43mwb\u001b[39;49m\u001b[38;5;124;43m'\u001b[39;49m\u001b[43m)\u001b[49m \u001b[38;5;28;01mas\u001b[39;00m f:\n\u001b[0;32m   1144\u001b[0m     \u001b[38;5;28;01mreturn\u001b[39;00m f\u001b[38;5;241m.\u001b[39mwrite(view)\n",
      "File \u001b[1;32mc:\\Users\\gparti\\AppData\\Local\\Anaconda3\\envs\\work\\lib\\pathlib.py:1119\u001b[0m, in \u001b[0;36mPath.open\u001b[1;34m(self, mode, buffering, encoding, errors, newline)\u001b[0m\n\u001b[0;32m   1117\u001b[0m \u001b[38;5;28;01mif\u001b[39;00m \u001b[38;5;124m\"\u001b[39m\u001b[38;5;124mb\u001b[39m\u001b[38;5;124m\"\u001b[39m \u001b[38;5;129;01mnot\u001b[39;00m \u001b[38;5;129;01min\u001b[39;00m mode:\n\u001b[0;32m   1118\u001b[0m     encoding \u001b[38;5;241m=\u001b[39m io\u001b[38;5;241m.\u001b[39mtext_encoding(encoding)\n\u001b[1;32m-> 1119\u001b[0m \u001b[38;5;28;01mreturn\u001b[39;00m \u001b[38;5;28;43mself\u001b[39;49m\u001b[38;5;241;43m.\u001b[39;49m\u001b[43m_accessor\u001b[49m\u001b[38;5;241;43m.\u001b[39;49m\u001b[43mopen\u001b[49m\u001b[43m(\u001b[49m\u001b[38;5;28;43mself\u001b[39;49m\u001b[43m,\u001b[49m\u001b[43m \u001b[49m\u001b[43mmode\u001b[49m\u001b[43m,\u001b[49m\u001b[43m \u001b[49m\u001b[43mbuffering\u001b[49m\u001b[43m,\u001b[49m\u001b[43m \u001b[49m\u001b[43mencoding\u001b[49m\u001b[43m,\u001b[49m\u001b[43m \u001b[49m\u001b[43merrors\u001b[49m\u001b[43m,\u001b[49m\n\u001b[0;32m   1120\u001b[0m \u001b[43m                           \u001b[49m\u001b[43mnewline\u001b[49m\u001b[43m)\u001b[49m\n",
      "\u001b[1;31mFileNotFoundError\u001b[0m: [Errno 2] No such file or directory: 'output\\\\png\\\\home.png'"
     ]
    }
   ],
   "source": [
    "# Set size\n",
    "df['size'] = 1\n",
    "\n",
    "# Create figure data\n",
    "data = px.scatter_geo(df,\n",
    "    lat='lat', \n",
    "    lon='lon',\n",
    "    # text='item',\n",
    "    color='family',\n",
    "    color_discrete_sequence=color_scheme,\n",
    "    size_max = max_marker_size,\n",
    "    size = 'size',\n",
    "    opacity = opacity,\n",
    "    hover_name='item',\n",
    "    hover_data={'item':True, 'taxon_name':True, 'family':True, 'geographic_area':True, 'Arabic':True, 'ar':True, 'Chinese':True, 'zh':True, 'lon':False, 'lat':False, 'size':False}, #'spreadability':':.2f', \n",
    "    labels={\"group\": \"category\"}\n",
    "    )\n",
    "\n",
    "# Save figure data\n",
    "fig = data\n",
    "\n",
    "###################################################\n",
    "# Interactive visualization (HTML/JSON) for the web\n",
    "\n",
    "# Call the orthographic traces and layout settings from above\n",
    "fig.update_traces(ortho_traces)\n",
    "fig.update_layout(ortho_layout)\n",
    "# fig.update_layout(title_text = \"Title\")\n",
    "# fig.update_layout(basemap_visible=True)\n",
    "\n",
    "# Add copyrigth\n",
    "fig.update_layout(annotations=[cr])\n",
    "\n",
    "# Show figure\n",
    "fig.show()\n",
    "\n",
    "# Write interactive visualization (HTML/JSON) for the web\n",
    "filename = \"home\"\n",
    "fig.write_html(path_out_html + filename + \".html\")\n",
    "fig.write_json(path_out_json + filename + \".json\", validate=True, pretty=True)\n",
    "\n",
    "###################################################\n",
    "# Image (PNG/PDF) for documents\n",
    "\n",
    "# Call figure data\n",
    "# fig = data\n",
    "\n",
    "# Call the orthographic traces and layout settings from above\n",
    "# fig.update_traces(ortho_traces)\n",
    "# fig.update_layout(ortho_layout)\n",
    "# fig.update_layout(geo=dict(projection_rotation = {'lat': 20, 'lon': 80, 'roll': 0}))\n",
    "# fig.update_layout(document_size)\n",
    "\n",
    "# Show figure\n",
    "# fig.show()\n",
    "\n",
    "fig.write_image(path_out_png + filename + \".png\", scale=3)\n",
    "fig.write_image(filename + \".pdf\", engine=\"kaleido\")"
   ]
  },
  {
   "cell_type": "markdown",
   "metadata": {},
   "source": [
    "## Plot with links"
   ]
  },
  {
   "cell_type": "code",
   "execution_count": null,
   "metadata": {},
   "outputs": [],
   "source": [
    "# Orthographic globe layout\n",
    "html_traces = dict(\n",
    "    textposition = 'top right', # middle left, bottom center, etc.\n",
    "    textfont = dict(size=font_size, color=font_color, family=font_family),\n",
    "    hovertemplate=\n",
    "        \"<b>%{customdata[0]}</b><br><br>\" +\n",
    "        \"Species: <i>%{customdata[1]}</i><br>\" +\n",
    "        \"Family: <i>%{customdata[2]}</i><br>\" +\n",
    "        \"Region of origin: %{customdata[3]}<br>\" +\n",
    "        \"Arabic: %{customdata[4]} <i>%{customdata[5]}</i><br>\" +\n",
    "        \"Chinese: %{customdata[6]} <i>%{customdata[7]}</i><br>\" +\n",
    "        # \"Spreadability: %{customdata[7]:.2f}<br>\" +\n",
    "        \"<extra></extra>\",\n",
    "    marker = dict(\n",
    "        symbol = marker_symbol,\n",
    "        size = marker_size,\n",
    "        line = dict(\n",
    "            color=edge_color,\n",
    "            width=edge_size\n",
    "        )\n",
    "    )\n",
    ")"
   ]
  },
  {
   "cell_type": "code",
   "execution_count": null,
   "metadata": {},
   "outputs": [
    {
     "data": {
      "application/vnd.plotly.v1+json": {
       "config": {
        "plotlyServerURL": "https://plot.ly"
       },
       "data": [
        {
         "customdata": [
          [
           "allspice",
           "Pimenta dioica",
           "Myrtaceae",
           "Mexico, Central America, Caribbean",
           "فلفل إفرنجي",
           "fulful ifranjī",
           "多香果",
           "duōxiāngguǒ",
           -77,
           18,
           1
          ]
         ],
         "geo": "geo",
         "hovertemplate": "<b>%{customdata[0]}</b><br><br>Species: <i>%{customdata[1]}</i><br>Family: <i>%{customdata[2]}</i><br>Region of origin: %{customdata[3]}<br>Arabic: %{customdata[4]} <i>%{customdata[5]}</i><br>Chinese: %{customdata[6]} <i>%{customdata[7]}</i><br><extra></extra>",
         "hovertext": [
          "allspice"
         ],
         "lat": [
          18
         ],
         "legendgroup": "Myrtaceae",
         "lon": [
          -77
         ],
         "marker": {
          "color": "#5f4690",
          "line": {
           "color": "rgba(0,0,0,0)",
           "width": 1
          },
          "opacity": 0.75,
          "size": 12,
          "sizemode": "area",
          "sizeref": 0.006944444444444444,
          "symbol": "circle"
         },
         "mode": "markers+text",
         "name": "Myrtaceae",
         "showlegend": true,
         "text": [
          "allspice"
         ],
         "textfont": {
          "color": "#dddddd",
          "family": "Noto Sans",
          "size": 12
         },
         "textposition": "top right",
         "type": "scattergeo"
        },
        {
         "customdata": [
          [
           "cubeb",
           "Piper cubeba",
           "Piperaceae",
           "Indo-China, Malesia",
           "كبابة",
           "kabāba, kubāba",
           "蓽澄茄",
           "bìchéngqié",
           101,
           0,
           1
          ]
         ],
         "geo": "geo",
         "hovertemplate": "<b>%{customdata[0]}</b><br><br>Species: <i>%{customdata[1]}</i><br>Family: <i>%{customdata[2]}</i><br>Region of origin: %{customdata[3]}<br>Arabic: %{customdata[4]} <i>%{customdata[5]}</i><br>Chinese: %{customdata[6]} <i>%{customdata[7]}</i><br><extra></extra>",
         "hovertext": [
          "cubeb"
         ],
         "lat": [
          0
         ],
         "legendgroup": "Piperaceae",
         "lon": [
          101
         ],
         "marker": {
          "color": "#1d6996",
          "line": {
           "color": "rgba(0,0,0,0)",
           "width": 1
          },
          "opacity": 0.75,
          "size": 12,
          "sizemode": "area",
          "sizeref": 0.006944444444444444,
          "symbol": "circle"
         },
         "mode": "markers+text",
         "name": "Piperaceae",
         "showlegend": true,
         "text": [
          "cubeb"
         ],
         "textfont": {
          "color": "#dddddd",
          "family": "Noto Sans",
          "size": 12
         },
         "textposition": "top right",
         "type": "scattergeo"
        }
       ],
       "layout": {
        "geo": {
         "center": {},
         "domain": {
          "x": [
           0,
           1
          ],
          "y": [
           0,
           1
          ]
         },
         "scope": "world"
        },
        "legend": {
         "itemsizing": "constant",
         "title": {
          "text": "family"
         },
         "tracegroupgap": 0
        },
        "margin": {
         "t": 60
        },
        "template": {
         "data": {
          "bar": [
           {
            "error_x": {
             "color": "#f2f5fa"
            },
            "error_y": {
             "color": "#f2f5fa"
            },
            "marker": {
             "line": {
              "color": "rgb(17,17,17)",
              "width": 0.5
             },
             "pattern": {
              "fillmode": "overlay",
              "size": 10,
              "solidity": 0.2
             }
            },
            "type": "bar"
           }
          ],
          "barpolar": [
           {
            "marker": {
             "line": {
              "color": "rgb(17,17,17)",
              "width": 0.5
             },
             "pattern": {
              "fillmode": "overlay",
              "size": 10,
              "solidity": 0.2
             }
            },
            "type": "barpolar"
           }
          ],
          "carpet": [
           {
            "aaxis": {
             "endlinecolor": "#A2B1C6",
             "gridcolor": "#506784",
             "linecolor": "#506784",
             "minorgridcolor": "#506784",
             "startlinecolor": "#A2B1C6"
            },
            "baxis": {
             "endlinecolor": "#A2B1C6",
             "gridcolor": "#506784",
             "linecolor": "#506784",
             "minorgridcolor": "#506784",
             "startlinecolor": "#A2B1C6"
            },
            "type": "carpet"
           }
          ],
          "choropleth": [
           {
            "colorbar": {
             "outlinewidth": 0,
             "ticks": ""
            },
            "type": "choropleth"
           }
          ],
          "contour": [
           {
            "colorbar": {
             "outlinewidth": 0,
             "ticks": ""
            },
            "colorscale": [
             [
              0,
              "#0d0887"
             ],
             [
              0.1111111111111111,
              "#46039f"
             ],
             [
              0.2222222222222222,
              "#7201a8"
             ],
             [
              0.3333333333333333,
              "#9c179e"
             ],
             [
              0.4444444444444444,
              "#bd3786"
             ],
             [
              0.5555555555555556,
              "#d8576b"
             ],
             [
              0.6666666666666666,
              "#ed7953"
             ],
             [
              0.7777777777777778,
              "#fb9f3a"
             ],
             [
              0.8888888888888888,
              "#fdca26"
             ],
             [
              1,
              "#f0f921"
             ]
            ],
            "type": "contour"
           }
          ],
          "contourcarpet": [
           {
            "colorbar": {
             "outlinewidth": 0,
             "ticks": ""
            },
            "type": "contourcarpet"
           }
          ],
          "heatmap": [
           {
            "colorbar": {
             "outlinewidth": 0,
             "ticks": ""
            },
            "colorscale": [
             [
              0,
              "#0d0887"
             ],
             [
              0.1111111111111111,
              "#46039f"
             ],
             [
              0.2222222222222222,
              "#7201a8"
             ],
             [
              0.3333333333333333,
              "#9c179e"
             ],
             [
              0.4444444444444444,
              "#bd3786"
             ],
             [
              0.5555555555555556,
              "#d8576b"
             ],
             [
              0.6666666666666666,
              "#ed7953"
             ],
             [
              0.7777777777777778,
              "#fb9f3a"
             ],
             [
              0.8888888888888888,
              "#fdca26"
             ],
             [
              1,
              "#f0f921"
             ]
            ],
            "type": "heatmap"
           }
          ],
          "heatmapgl": [
           {
            "colorbar": {
             "outlinewidth": 0,
             "ticks": ""
            },
            "colorscale": [
             [
              0,
              "#0d0887"
             ],
             [
              0.1111111111111111,
              "#46039f"
             ],
             [
              0.2222222222222222,
              "#7201a8"
             ],
             [
              0.3333333333333333,
              "#9c179e"
             ],
             [
              0.4444444444444444,
              "#bd3786"
             ],
             [
              0.5555555555555556,
              "#d8576b"
             ],
             [
              0.6666666666666666,
              "#ed7953"
             ],
             [
              0.7777777777777778,
              "#fb9f3a"
             ],
             [
              0.8888888888888888,
              "#fdca26"
             ],
             [
              1,
              "#f0f921"
             ]
            ],
            "type": "heatmapgl"
           }
          ],
          "histogram": [
           {
            "marker": {
             "pattern": {
              "fillmode": "overlay",
              "size": 10,
              "solidity": 0.2
             }
            },
            "type": "histogram"
           }
          ],
          "histogram2d": [
           {
            "colorbar": {
             "outlinewidth": 0,
             "ticks": ""
            },
            "colorscale": [
             [
              0,
              "#0d0887"
             ],
             [
              0.1111111111111111,
              "#46039f"
             ],
             [
              0.2222222222222222,
              "#7201a8"
             ],
             [
              0.3333333333333333,
              "#9c179e"
             ],
             [
              0.4444444444444444,
              "#bd3786"
             ],
             [
              0.5555555555555556,
              "#d8576b"
             ],
             [
              0.6666666666666666,
              "#ed7953"
             ],
             [
              0.7777777777777778,
              "#fb9f3a"
             ],
             [
              0.8888888888888888,
              "#fdca26"
             ],
             [
              1,
              "#f0f921"
             ]
            ],
            "type": "histogram2d"
           }
          ],
          "histogram2dcontour": [
           {
            "colorbar": {
             "outlinewidth": 0,
             "ticks": ""
            },
            "colorscale": [
             [
              0,
              "#0d0887"
             ],
             [
              0.1111111111111111,
              "#46039f"
             ],
             [
              0.2222222222222222,
              "#7201a8"
             ],
             [
              0.3333333333333333,
              "#9c179e"
             ],
             [
              0.4444444444444444,
              "#bd3786"
             ],
             [
              0.5555555555555556,
              "#d8576b"
             ],
             [
              0.6666666666666666,
              "#ed7953"
             ],
             [
              0.7777777777777778,
              "#fb9f3a"
             ],
             [
              0.8888888888888888,
              "#fdca26"
             ],
             [
              1,
              "#f0f921"
             ]
            ],
            "type": "histogram2dcontour"
           }
          ],
          "mesh3d": [
           {
            "colorbar": {
             "outlinewidth": 0,
             "ticks": ""
            },
            "type": "mesh3d"
           }
          ],
          "parcoords": [
           {
            "line": {
             "colorbar": {
              "outlinewidth": 0,
              "ticks": ""
             }
            },
            "type": "parcoords"
           }
          ],
          "pie": [
           {
            "automargin": true,
            "type": "pie"
           }
          ],
          "scatter": [
           {
            "marker": {
             "line": {
              "color": "#283442"
             }
            },
            "type": "scatter"
           }
          ],
          "scatter3d": [
           {
            "line": {
             "colorbar": {
              "outlinewidth": 0,
              "ticks": ""
             }
            },
            "marker": {
             "colorbar": {
              "outlinewidth": 0,
              "ticks": ""
             }
            },
            "type": "scatter3d"
           }
          ],
          "scattercarpet": [
           {
            "marker": {
             "colorbar": {
              "outlinewidth": 0,
              "ticks": ""
             }
            },
            "type": "scattercarpet"
           }
          ],
          "scattergeo": [
           {
            "marker": {
             "colorbar": {
              "outlinewidth": 0,
              "ticks": ""
             }
            },
            "type": "scattergeo"
           }
          ],
          "scattergl": [
           {
            "marker": {
             "line": {
              "color": "#283442"
             }
            },
            "type": "scattergl"
           }
          ],
          "scattermapbox": [
           {
            "marker": {
             "colorbar": {
              "outlinewidth": 0,
              "ticks": ""
             }
            },
            "type": "scattermapbox"
           }
          ],
          "scatterpolar": [
           {
            "marker": {
             "colorbar": {
              "outlinewidth": 0,
              "ticks": ""
             }
            },
            "type": "scatterpolar"
           }
          ],
          "scatterpolargl": [
           {
            "marker": {
             "colorbar": {
              "outlinewidth": 0,
              "ticks": ""
             }
            },
            "type": "scatterpolargl"
           }
          ],
          "scatterternary": [
           {
            "marker": {
             "colorbar": {
              "outlinewidth": 0,
              "ticks": ""
             }
            },
            "type": "scatterternary"
           }
          ],
          "surface": [
           {
            "colorbar": {
             "outlinewidth": 0,
             "ticks": ""
            },
            "colorscale": [
             [
              0,
              "#0d0887"
             ],
             [
              0.1111111111111111,
              "#46039f"
             ],
             [
              0.2222222222222222,
              "#7201a8"
             ],
             [
              0.3333333333333333,
              "#9c179e"
             ],
             [
              0.4444444444444444,
              "#bd3786"
             ],
             [
              0.5555555555555556,
              "#d8576b"
             ],
             [
              0.6666666666666666,
              "#ed7953"
             ],
             [
              0.7777777777777778,
              "#fb9f3a"
             ],
             [
              0.8888888888888888,
              "#fdca26"
             ],
             [
              1,
              "#f0f921"
             ]
            ],
            "type": "surface"
           }
          ],
          "table": [
           {
            "cells": {
             "fill": {
              "color": "#506784"
             },
             "line": {
              "color": "rgb(17,17,17)"
             }
            },
            "header": {
             "fill": {
              "color": "#2a3f5f"
             },
             "line": {
              "color": "rgb(17,17,17)"
             }
            },
            "type": "table"
           }
          ]
         },
         "layout": {
          "annotationdefaults": {
           "arrowcolor": "#f2f5fa",
           "arrowhead": 0,
           "arrowwidth": 1
          },
          "autotypenumbers": "strict",
          "coloraxis": {
           "colorbar": {
            "outlinewidth": 0,
            "ticks": ""
           }
          },
          "colorscale": {
           "diverging": [
            [
             0,
             "#8e0152"
            ],
            [
             0.1,
             "#c51b7d"
            ],
            [
             0.2,
             "#de77ae"
            ],
            [
             0.3,
             "#f1b6da"
            ],
            [
             0.4,
             "#fde0ef"
            ],
            [
             0.5,
             "#f7f7f7"
            ],
            [
             0.6,
             "#e6f5d0"
            ],
            [
             0.7,
             "#b8e186"
            ],
            [
             0.8,
             "#7fbc41"
            ],
            [
             0.9,
             "#4d9221"
            ],
            [
             1,
             "#276419"
            ]
           ],
           "sequential": [
            [
             0,
             "#0d0887"
            ],
            [
             0.1111111111111111,
             "#46039f"
            ],
            [
             0.2222222222222222,
             "#7201a8"
            ],
            [
             0.3333333333333333,
             "#9c179e"
            ],
            [
             0.4444444444444444,
             "#bd3786"
            ],
            [
             0.5555555555555556,
             "#d8576b"
            ],
            [
             0.6666666666666666,
             "#ed7953"
            ],
            [
             0.7777777777777778,
             "#fb9f3a"
            ],
            [
             0.8888888888888888,
             "#fdca26"
            ],
            [
             1,
             "#f0f921"
            ]
           ],
           "sequentialminus": [
            [
             0,
             "#0d0887"
            ],
            [
             0.1111111111111111,
             "#46039f"
            ],
            [
             0.2222222222222222,
             "#7201a8"
            ],
            [
             0.3333333333333333,
             "#9c179e"
            ],
            [
             0.4444444444444444,
             "#bd3786"
            ],
            [
             0.5555555555555556,
             "#d8576b"
            ],
            [
             0.6666666666666666,
             "#ed7953"
            ],
            [
             0.7777777777777778,
             "#fb9f3a"
            ],
            [
             0.8888888888888888,
             "#fdca26"
            ],
            [
             1,
             "#f0f921"
            ]
           ]
          },
          "colorway": [
           "#636efa",
           "#EF553B",
           "#00cc96",
           "#ab63fa",
           "#FFA15A",
           "#19d3f3",
           "#FF6692",
           "#B6E880",
           "#FF97FF",
           "#FECB52"
          ],
          "font": {
           "color": "#f2f5fa"
          },
          "geo": {
           "bgcolor": "rgb(17,17,17)",
           "lakecolor": "rgb(17,17,17)",
           "landcolor": "rgb(17,17,17)",
           "showlakes": true,
           "showland": true,
           "subunitcolor": "#506784"
          },
          "hoverlabel": {
           "align": "left"
          },
          "hovermode": "closest",
          "mapbox": {
           "style": "dark"
          },
          "paper_bgcolor": "rgb(17,17,17)",
          "plot_bgcolor": "rgb(17,17,17)",
          "polar": {
           "angularaxis": {
            "gridcolor": "#506784",
            "linecolor": "#506784",
            "ticks": ""
           },
           "bgcolor": "rgb(17,17,17)",
           "radialaxis": {
            "gridcolor": "#506784",
            "linecolor": "#506784",
            "ticks": ""
           }
          },
          "scene": {
           "xaxis": {
            "backgroundcolor": "rgb(17,17,17)",
            "gridcolor": "#506784",
            "gridwidth": 2,
            "linecolor": "#506784",
            "showbackground": true,
            "ticks": "",
            "zerolinecolor": "#C8D4E3"
           },
           "yaxis": {
            "backgroundcolor": "rgb(17,17,17)",
            "gridcolor": "#506784",
            "gridwidth": 2,
            "linecolor": "#506784",
            "showbackground": true,
            "ticks": "",
            "zerolinecolor": "#C8D4E3"
           },
           "zaxis": {
            "backgroundcolor": "rgb(17,17,17)",
            "gridcolor": "#506784",
            "gridwidth": 2,
            "linecolor": "#506784",
            "showbackground": true,
            "ticks": "",
            "zerolinecolor": "#C8D4E3"
           }
          },
          "shapedefaults": {
           "line": {
            "color": "#f2f5fa"
           }
          },
          "sliderdefaults": {
           "bgcolor": "#C8D4E3",
           "bordercolor": "rgb(17,17,17)",
           "borderwidth": 1,
           "tickwidth": 0
          },
          "ternary": {
           "aaxis": {
            "gridcolor": "#506784",
            "linecolor": "#506784",
            "ticks": ""
           },
           "baxis": {
            "gridcolor": "#506784",
            "linecolor": "#506784",
            "ticks": ""
           },
           "bgcolor": "rgb(17,17,17)",
           "caxis": {
            "gridcolor": "#506784",
            "linecolor": "#506784",
            "ticks": ""
           }
          },
          "title": {
           "x": 0.05
          },
          "updatemenudefaults": {
           "bgcolor": "#506784",
           "borderwidth": 0
          },
          "xaxis": {
           "automargin": true,
           "gridcolor": "#283442",
           "linecolor": "#506784",
           "ticks": "",
           "title": {
            "standoff": 15
           },
           "zerolinecolor": "#283442",
           "zerolinewidth": 2
          },
          "yaxis": {
           "automargin": true,
           "gridcolor": "#283442",
           "linecolor": "#506784",
           "ticks": "",
           "title": {
            "standoff": 15
           },
           "zerolinecolor": "#283442",
           "zerolinewidth": 2
          }
         }
        }
       }
      }
     },
     "metadata": {},
     "output_type": "display_data"
    }
   ],
   "source": [
    "# Set size\n",
    "df['size'] = 1\n",
    "# Size by spreadability\n",
    "# df['spreadability'] = df['spreadability'].astype(float)\n",
    "# df['spreadability'] = df['spreadability'].round(2)\n",
    "# df['size'] = df['spreadability'] + 2\n",
    "max_marker_size = 12\n",
    "\n",
    "# Add links\n",
    "df['url'] = \"https://partigabor.github.io/aromatica/items/\" + df['key']\n",
    "\n",
    "# For the website, with hyperlinks\n",
    "data = px.scatter_geo(df, \n",
    "    lat='lat', lon='lon',\n",
    "    text='item',\n",
    "    color=\"family\",\n",
    "    color_discrete_sequence=color_scheme,\n",
    "    opacity = opacity,\n",
    "    size=\"size\",\n",
    "    size_max=max_marker_size,\n",
    "    hover_name=\"item\", \n",
    "    hover_data={'item':True, 'taxon_name':True, 'family':True, 'regions':True, 'Arabic':True, 'ar':True, 'Chinese':True, 'zh':True, 'lon':False, 'lat':False, 'size':False},\n",
    "    # labels={\"group\": \"category\"},\n",
    "    )\n",
    "\n",
    "fig = data\n",
    "\n",
    "# Update layout\n",
    "fig.update_layout(\n",
    "        # title = 'Title',\n",
    "        geo_scope='world',\n",
    "        template = 'plotly_dark',\n",
    "    )\n",
    "\n",
    "fig.update_traces(html_traces)\n",
    "# fig.update_layout(ne_layout)\n",
    "\n",
    "# fig.update_layout(annotations=[info])\n",
    "# fig.add_layout_image(logo)\n",
    "\n",
    "# fig.update_layout(marble)\n",
    "\n",
    "# Write\n",
    "filename = \"distribution_map\"\n",
    "fig.write_json(filename + \".json\", validate=True, pretty=True)\n",
    "# fig.write_html(filename + \".html\")\n",
    "# fig.write_image(filename + \".pdf\", engine=\"kaleido\")\n",
    "# fig.write_image(filename + \".png\", scale=3)\n",
    "\n",
    "fig.show()\n",
    "\n",
    "######################################################\n",
    "# Get HTML representation of plotly.js and this figure\n",
    "plot_div = plot(fig, output_type='div', include_plotlyjs=True)\n",
    "\n",
    "# Get id of html div element that looks like\n",
    "# <div id=\"301d22ab-bfba-4621-8f5d-dc4fd855bb33\" ... >\n",
    "res = re.search('<div id=\"([^\"]*)\"', plot_div)\n",
    "div_id = res.groups()[0]\n",
    "\n",
    "# Build JavaScript callback for handling clicks\n",
    "# and opening the URL in the trace's customdata \n",
    "js_callback = \"\"\"\n",
    "<script>\n",
    "var plot_element = document.getElementById(\"{div_id}\");\n",
    "plot_element.on('plotly_click', function(data){{\n",
    "    console.log(data);\n",
    "    var point = data.points[0];\n",
    "    if (point) {{\n",
    "        console.log(point.customdata[0]);\n",
    "        window.open(point.customdata[0]);\n",
    "    }}\n",
    "}})\n",
    "</script>\n",
    "\"\"\".format(div_id=div_id)\n",
    "\n",
    "# Build HTML string\n",
    "html_str = \"\"\"\n",
    "<html>\n",
    "<body>\n",
    "{plot_div}\n",
    "{js_callback}\n",
    "</body>\n",
    "</html>\n",
    "\"\"\".format(plot_div=plot_div, js_callback=js_callback)\n",
    "\n",
    "# Write html with hyperlinks\n",
    "with open(filename + \".html\", 'w') as f:\n",
    "    f.write(html_str)\n",
    "\n",
    "# # Read back html and write it as json. Seems to work but does not open links when embedded...\n",
    "# def html_to_json(html_file):\n",
    "#     with open(html_file + '.html') as f:\n",
    "#         html = f.read()\n",
    "#     call_arg_str = re.findall(r'Plotly\\.newPlot\\((.*)\\)', html[-2**16:])[0]\n",
    "#     call_args = json.loads(f'[{call_arg_str}]')\n",
    "#     plotly_json = {'data': call_args[1], 'layout': call_args[2]}  \n",
    "#     figure=plotly.io.from_json(json.dumps(plotly_json))\n",
    "#     figure.write_json(filename + \".json\", validate=True, pretty=True)\n",
    "#     return\n",
    "\n",
    "# html_to_json('distribution_map')"
   ]
  },
  {
   "cell_type": "code",
   "execution_count": null,
   "metadata": {},
   "outputs": [],
   "source": [
    "# Move files to the website folder\n",
    "move_dir(path_out_json, website_json, \"*.json\")"
   ]
  },
  {
   "cell_type": "code",
   "execution_count": null,
   "metadata": {},
   "outputs": [],
   "source": [
    "# # Basic map to show some countries, not very good\n",
    "\n",
    "# import plotly.express as px\n",
    "# import geopandas as gpd\n",
    "\n",
    "# # Load the world map data\n",
    "# world = gpd.read_file(gpd.datasets.get_path('naturalearth_lowres'))\n",
    "\n",
    "# # Filter the data to include only India, Sri Lanka, and Maldives\n",
    "# target_countries = ['India', 'Sri Lanka', 'Maldives', 'Wales']\n",
    "# filtered_world = world[world['name'].isin(target_countries)]\n",
    "\n",
    "# # Create a choropleth map\n",
    "# fig = px.choropleth(\n",
    "#     filtered_world,\n",
    "#     locations='iso_a3',\n",
    "#     color='name',\n",
    "#     color_discrete_sequence = color_scheme,\n",
    "#     projection='orthographic',\n",
    "#     title='Highlighted Countries: India, Sri Lanka, Maldives'\n",
    "# )\n",
    "\n",
    "# # Call the orthographic traces and layout settings from above\n",
    "# fig.update_layout(ortho_layout)\n",
    "# # fig.update_layout(title_text = \"Title\")\n",
    "\n",
    "# # Show the map\n",
    "# fig.show()\n"
   ]
  },
  {
   "cell_type": "code",
   "execution_count": null,
   "metadata": {},
   "outputs": [],
   "source": [
    "df = df_items.copy()\n",
    "\n",
    "key = \"saffron\""
   ]
  },
  {
   "cell_type": "markdown",
   "metadata": {},
   "source": [
    "## Distribution maps"
   ]
  },
  {
   "cell_type": "code",
   "execution_count": null,
   "metadata": {},
   "outputs": [],
   "source": [
    "def habitat_map(key):\n",
    "    '''\n",
    "    This function generates a map of the distributions of a spice.\n",
    "    '''\n",
    "\n",
    "    print(\"Drawing habitat map of\", key)\n",
    "    \n",
    "    # Load the geographic data (shapefile or GeoJSON) # https://github.com/tdwg/wgsrpd\n",
    "    gdf = gpd.read_file(\"data\\\\resources\\\\geo\\\\level3.geojson\")\n",
    "\n",
    "    # Rename columns\n",
    "    gdf.columns = ['name', 'code', 'code_l2', 'code_l1', 'geometry']\n",
    "\n",
    "    # Get local df and reset its index\n",
    "    df_local = df_items.loc[df_items['key'] == key]\n",
    "    df_local.reset_index(drop=True, inplace=True)\n",
    "\n",
    "    # Get list of native areas\n",
    "    native = df_local.loc[0, 'native'].split(', ')\n",
    "\n",
    "    # Get list of introduced areas, if it is not NA\n",
    "    if pd.notna(df_local.loc[0, 'introduced']):\n",
    "        introduced = df_local.loc[0, 'introduced'].split(', ')\n",
    "    else:\n",
    "        introduced = []\n",
    "\n",
    "    # Filter data for native areas from gdf dataframe's LEVEL3_NAM column\n",
    "    filtered_data_native = gdf[gdf['name'].isin(native)].copy()  # Ensure a copy is made\n",
    "    filtered_data_native.loc[:, 'region'] = 'native'\n",
    "\n",
    "    # Filter data for introduced areas from gdf dataframe's LEVEL3_NAM column\n",
    "    filtered_data_introduced = gdf[gdf['name'].isin(introduced)].copy()  # Ensure a copy is made\n",
    "    if not filtered_data_introduced.empty:\n",
    "        filtered_data_introduced.loc[:, 'region'] = 'introduced'\n",
    "\n",
    "    # Concatenate the filtered dataframes\n",
    "    filtered_data = pd.concat([filtered_data_native, filtered_data_introduced])\n",
    "\n",
    "    # ***\n",
    "\n",
    "    # Create the choropleth map\n",
    "    fig = px.choropleth(\n",
    "        filtered_data,\n",
    "        geojson = filtered_data.geometry,\n",
    "        locations = filtered_data.index,\n",
    "        color = 'region',\n",
    "        color_discrete_sequence = ['#88ae43', '#6943ae'],\n",
    "        hover_data = {'name': True, 'code': True},\n",
    "        projection = 'orthographic'\n",
    "    )\n",
    "\n",
    "    # Call layout\n",
    "    fig.update_traces(dist_traces)\n",
    "    fig.update_layout(dist_layout)\n",
    "\n",
    "    # Adjust map bounds\n",
    "    # fig.update_geos(fitbounds='locations')\n",
    "\n",
    "    # Get centroid values for the native areas of the item\n",
    "    for index, row in df_local.iterrows():\n",
    "        native_distribution = row['native'].split(', ')\n",
    "        # Filter data for native distribution from gdf dataframe's LEVEL3_NAM column\n",
    "        native_data = gdf[gdf['name'].isin(native_distribution)].copy() \n",
    "        # Calculate centroid data\n",
    "        native_centroid = native_data.to_crs('+proj=cea').centroid.to_crs(native_data.crs)\n",
    "        native_centroid_lon = native_centroid.x.iloc[0]\n",
    "        native_centroid_lat = native_centroid.y.iloc[0]\n",
    "    # Amend projection rotation with the native areas' centroid values\n",
    "    fig.update_layout(geo=dict(projection_rotation = {'lat': native_centroid_lat, 'lon': native_centroid_lon, 'roll': 0}))\n",
    "\n",
    "    # Show the map\n",
    "    # fig.show()\n",
    "\n",
    "    # Save\n",
    "    # fig.write_html(path_out_html + key + \".html\")\n",
    "    fig.write_json(path_out_json + key + \".json\", validate=True, pretty=True)\n",
    "    # fig.write_image(path_out_png + key + \".png\", scale=3)\n",
    "    return"
   ]
  },
  {
   "cell_type": "code",
   "execution_count": null,
   "metadata": {},
   "outputs": [
    {
     "name": "stdout",
     "output_type": "stream",
     "text": [
      "Drawing habitat map of allspice\n",
      "Drawing habitat map of cubeb\n",
      "Done.\n"
     ]
    }
   ],
   "source": [
    "# Loop through all spices\n",
    "for key in list_of_keys:\n",
    "    # If item belongs to kingdom Plantae, draw a map\n",
    "    if df_items.loc[df_items['key'] == key, 'kingdom'].iloc[0] == 'Plantae':\n",
    "        habitat_map(key)\n",
    "print(\"Done.\")\n",
    "\n",
    "# Move files to the website folder\n",
    "move_dir(path_out_json, website_json + \"/distributions\", \"*.json\")"
   ]
  },
  {
   "cell_type": "markdown",
   "metadata": {},
   "source": [
    "# End"
   ]
  },
  {
   "cell_type": "code",
   "execution_count": null,
   "metadata": {},
   "outputs": [
    {
     "name": "stdout",
     "output_type": "stream",
     "text": [
      "All done at 2024-02-28 11:21:37.111884.\n",
      "Duration: 0:00:17.515642\n"
     ]
    }
   ],
   "source": [
    "# ...measure time\n",
    "end_time = datetime.now()\n",
    "print(\"All done at \" + str(end_time) + \".\")\n",
    "print('Duration: {}'.format(end_time - start_time))"
   ]
  },
  {
   "cell_type": "markdown",
   "metadata": {},
   "source": [
    "# Notes"
   ]
  },
  {
   "cell_type": "code",
   "execution_count": null,
   "metadata": {},
   "outputs": [],
   "source": [
    "# print(gpd.datasets.available)\n",
    "# import geodatasets\n",
    "# geodatasets.data\n",
    "\n",
    "# with open(\"data\\\\resources\\\\geo\\\\level3.geojson\", 'r') as f:\n",
    "#     geojson_data = json.load(f)\n",
    "\n",
    "# geojson_data"
   ]
  }
 ],
 "metadata": {
  "kernelspec": {
   "display_name": "work",
   "language": "python",
   "name": "python3"
  },
  "language_info": {
   "codemirror_mode": {
    "name": "ipython",
    "version": 3
   },
   "file_extension": ".py",
   "mimetype": "text/x-python",
   "name": "python",
   "nbconvert_exporter": "python",
   "pygments_lexer": "ipython3",
   "version": "3.10.11"
  },
  "orig_nbformat": 4
 },
 "nbformat": 4,
 "nbformat_minor": 2
}
