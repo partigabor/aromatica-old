{
 "cells": [
  {
   "cell_type": "markdown",
   "metadata": {},
   "source": [
    "# Encyclopaedia Aromatica pipeline"
   ]
  },
  {
   "cell_type": "markdown",
   "metadata": {},
   "source": [
    "## Libraries"
   ]
  },
  {
   "cell_type": "code",
   "execution_count": 1,
   "metadata": {},
   "outputs": [],
   "source": [
    "# !pip install -r requirements.txt"
   ]
  },
  {
   "cell_type": "code",
   "execution_count": 40,
   "metadata": {},
   "outputs": [],
   "source": [
    "# Import dependencies\n",
    "import pandas as pd\n",
    "import numpy as np\n",
    "import re\n",
    "import os\n",
    "from datetime import date, datetime, timedelta\n",
    "from collections import defaultdict\n",
    "from py_markdown_table.markdown_table import markdown_table\n",
    "from scripts.functions import *\n",
    "\n",
    "import plotly.express as px\n",
    "import plotly.graph_objs as go\n",
    "from plotly.io import write_image, write_json\n",
    "from plotly.offline import plot"
   ]
  },
  {
   "cell_type": "markdown",
   "metadata": {},
   "source": [
    "## Functions"
   ]
  },
  {
   "cell_type": "code",
   "execution_count": 3,
   "metadata": {},
   "outputs": [],
   "source": [
    "# from tabulate import tabulate\n",
    "\n",
    "# # Functions and palette\n",
    "# from scripts.functions import *\n",
    "# from scripts.palette import *"
   ]
  },
  {
   "cell_type": "code",
   "execution_count": 4,
   "metadata": {},
   "outputs": [],
   "source": [
    "\n",
    "# # pip install babelnet\n",
    "\n",
    "\n",
    "# \n",
    "\n",
    "# # from scripts.unsplash import *\n",
    "# # from scripts.pexels import *\n",
    "\n",
    "# pd.options.mode.copy_on_write = True # to avoid SettingWithCopyWarning, https://stackoverflow.com/questions/20625582/how-to-deal-with-settingwithcopywarning-in-pandas\n"
   ]
  },
  {
   "cell_type": "markdown",
   "metadata": {},
   "source": [
    "## Paths"
   ]
  },
  {
   "cell_type": "code",
   "execution_count": 5,
   "metadata": {},
   "outputs": [],
   "source": [
    "path_in = \"data/\"\n",
    "path_out_tex = \"output/tex/\"\n",
    "path_out_md = \"output/md/\"\n",
    "path_out_html = \"output/html/\"\n",
    "path_out_json = \"output/json/\"\n",
    "path_out_png = \"output/png/\"\n",
    "path_out_pdf = \"output/pdf/\"\n",
    "\n",
    "# Create these folders if they don't exist\n",
    "for folder in [path_out_tex, path_out_md, path_out_html, path_out_json, path_out_png, path_out_pdf]:\n",
    "    if not os.path.exists(folder):\n",
    "        os.makedirs(folder)\n",
    "\n",
    "website_md = \"../content/items/\"\n",
    "website_json = \"../static/plotly/\"\n",
    "\n",
    "path_downloaded_photos = \"output/photos/\"\n",
    "website_photos = \"../static/images/photos/\""
   ]
  },
  {
   "cell_type": "code",
   "execution_count": 6,
   "metadata": {},
   "outputs": [],
   "source": [
    "# Start timer\n",
    "start_time = datetime.now()"
   ]
  },
  {
   "cell_type": "markdown",
   "metadata": {},
   "source": [
    "# Data"
   ]
  },
  {
   "cell_type": "markdown",
   "metadata": {},
   "source": [
    "## Spices"
   ]
  },
  {
   "cell_type": "code",
   "execution_count": 7,
   "metadata": {},
   "outputs": [
    {
     "name": "stdout",
     "output_type": "stream",
     "text": [
      "22 spices in total:,  ['allspice', 'anise', 'asafoetida', 'caraway', 'cardamom', 'cassia', 'cinnamon', 'clove', 'coriander', 'cubeb', 'cumin', 'fennel', 'fenugreek', 'ginger', 'long_pepper', 'mace', 'nutmeg', 'pepper', 'saffron', 'star_anise', 'turmeric', 'vanilla']\n",
      "['allspice', 'anise', 'asafoetida', 'caraway', 'cardamom', 'cassia', 'cinnamon', 'clove', 'coriander', 'cubeb', 'cumin', 'fennel', 'fenugreek', 'ginger', 'long_pepper', 'mace', 'nutmeg', 'pepper', 'saffron', 'star_anise', 'turmeric', 'vanilla']\n"
     ]
    },
    {
     "data": {
      "text/html": [
       "<div>\n",
       "<style scoped>\n",
       "    .dataframe tbody tr th:only-of-type {\n",
       "        vertical-align: middle;\n",
       "    }\n",
       "\n",
       "    .dataframe tbody tr th {\n",
       "        vertical-align: top;\n",
       "    }\n",
       "\n",
       "    .dataframe thead th {\n",
       "        text-align: right;\n",
       "    }\n",
       "</style>\n",
       "<table border=\"1\" class=\"dataframe\">\n",
       "  <thead>\n",
       "    <tr style=\"text-align: right;\">\n",
       "      <th></th>\n",
       "      <th>include</th>\n",
       "      <th>v</th>\n",
       "      <th>done</th>\n",
       "      <th>id</th>\n",
       "      <th>powo</th>\n",
       "      <th>taxon_name</th>\n",
       "      <th>taxon_authors</th>\n",
       "      <th>taxon_syn</th>\n",
       "      <th>taxon_alt</th>\n",
       "      <th>group</th>\n",
       "      <th>...</th>\n",
       "      <th>eol</th>\n",
       "      <th>ncbi</th>\n",
       "      <th>Hindi</th>\n",
       "      <th>hi</th>\n",
       "      <th>hi literal</th>\n",
       "      <th>Hi alt</th>\n",
       "      <th>Indonesian</th>\n",
       "      <th>Persian</th>\n",
       "      <th>key</th>\n",
       "      <th>url</th>\n",
       "    </tr>\n",
       "  </thead>\n",
       "  <tbody>\n",
       "    <tr>\n",
       "      <th>0</th>\n",
       "      <td>in</td>\n",
       "      <td>82.0</td>\n",
       "      <td>yes</td>\n",
       "      <td>NaN</td>\n",
       "      <td>https://powo.science.kew.org/taxon/196799-2</td>\n",
       "      <td>Pimenta dioica</td>\n",
       "      <td>(L.) Merr.</td>\n",
       "      <td>Pimenta officinalis Lindl.</td>\n",
       "      <td>NaN</td>\n",
       "      <td>false peppers</td>\n",
       "      <td>...</td>\n",
       "      <td>https://eol.org/pages/2508608</td>\n",
       "      <td>375272.0</td>\n",
       "      <td>गंधद्रव्य</td>\n",
       "      <td>gandhadravya</td>\n",
       "      <td>NaN</td>\n",
       "      <td>NaN</td>\n",
       "      <td>merica Jamaika</td>\n",
       "      <td>فلفل فرنگی</td>\n",
       "      <td>allspice</td>\n",
       "      <td>https://partigabor.github.io/aromatica/items/a...</td>\n",
       "    </tr>\n",
       "    <tr>\n",
       "      <th>1</th>\n",
       "      <td>in</td>\n",
       "      <td>79.0</td>\n",
       "      <td>NaN</td>\n",
       "      <td>NaN</td>\n",
       "      <td>NaN</td>\n",
       "      <td>Pimpinella anisum</td>\n",
       "      <td>L.</td>\n",
       "      <td>NaN</td>\n",
       "      <td>NaN</td>\n",
       "      <td>NaN</td>\n",
       "      <td>...</td>\n",
       "      <td>https://eol.org/pages/581422</td>\n",
       "      <td>271192.0</td>\n",
       "      <td>मोटी सौंफ़</td>\n",
       "      <td>motī saunf</td>\n",
       "      <td>fat fennel</td>\n",
       "      <td>NaN</td>\n",
       "      <td>adas manis</td>\n",
       "      <td>بادیان رومی، انیسون</td>\n",
       "      <td>anise</td>\n",
       "      <td>https://partigabor.github.io/aromatica/items/a...</td>\n",
       "    </tr>\n",
       "    <tr>\n",
       "      <th>2</th>\n",
       "      <td>in</td>\n",
       "      <td>64.0</td>\n",
       "      <td>NaN</td>\n",
       "      <td>NaN</td>\n",
       "      <td>NaN</td>\n",
       "      <td>Ferula foetida</td>\n",
       "      <td>(Bunge) Regel</td>\n",
       "      <td>NaN</td>\n",
       "      <td>Ferula assa-foetida L.; Ferula narthex; et al.</td>\n",
       "      <td>NaN</td>\n",
       "      <td>...</td>\n",
       "      <td>NaN</td>\n",
       "      <td>371345.0</td>\n",
       "      <td>हींग</td>\n",
       "      <td>hīng</td>\n",
       "      <td>NaN</td>\n",
       "      <td>NaN</td>\n",
       "      <td>NaN</td>\n",
       "      <td>NaN</td>\n",
       "      <td>asafoetida</td>\n",
       "      <td>https://partigabor.github.io/aromatica/items/a...</td>\n",
       "    </tr>\n",
       "    <tr>\n",
       "      <th>5</th>\n",
       "      <td>in</td>\n",
       "      <td>48.0</td>\n",
       "      <td>NaN</td>\n",
       "      <td>NaN</td>\n",
       "      <td>NaN</td>\n",
       "      <td>Carum carvi</td>\n",
       "      <td>L.</td>\n",
       "      <td>NaN</td>\n",
       "      <td>NaN</td>\n",
       "      <td>NaN</td>\n",
       "      <td>...</td>\n",
       "      <td>NaN</td>\n",
       "      <td>48032.0</td>\n",
       "      <td>NaN</td>\n",
       "      <td>NaN</td>\n",
       "      <td>NaN</td>\n",
       "      <td>NaN</td>\n",
       "      <td>NaN</td>\n",
       "      <td>NaN</td>\n",
       "      <td>caraway</td>\n",
       "      <td>https://partigabor.github.io/aromatica/items/c...</td>\n",
       "    </tr>\n",
       "    <tr>\n",
       "      <th>6</th>\n",
       "      <td>in</td>\n",
       "      <td>72.0</td>\n",
       "      <td>NaN</td>\n",
       "      <td>1</td>\n",
       "      <td>https://powo.science.kew.org/taxon/796556-1</td>\n",
       "      <td>Elettaria cardamomum</td>\n",
       "      <td>(L.) Maton</td>\n",
       "      <td>Amomum cardamomum L.</td>\n",
       "      <td>NaN</td>\n",
       "      <td>cardamoms</td>\n",
       "      <td>...</td>\n",
       "      <td>https://eol.org/pages/1120064</td>\n",
       "      <td>105181.0</td>\n",
       "      <td>इलायची</td>\n",
       "      <td>ilāychī</td>\n",
       "      <td>NaN</td>\n",
       "      <td>NaN</td>\n",
       "      <td>kapulaga seberang</td>\n",
       "      <td>هل سبز</td>\n",
       "      <td>cardamom</td>\n",
       "      <td>https://partigabor.github.io/aromatica/items/c...</td>\n",
       "    </tr>\n",
       "    <tr>\n",
       "      <th>7</th>\n",
       "      <td>in</td>\n",
       "      <td>78.0</td>\n",
       "      <td>NaN</td>\n",
       "      <td>NaN</td>\n",
       "      <td>NaN</td>\n",
       "      <td>Cinnamomum aromaticum</td>\n",
       "      <td>Nees</td>\n",
       "      <td>Cinnamomum cassia (L.) J.Presl.</td>\n",
       "      <td>et al.</td>\n",
       "      <td>cinnamon</td>\n",
       "      <td>...</td>\n",
       "      <td>https://eol.org/pages/483593</td>\n",
       "      <td>119260.0</td>\n",
       "      <td>दालचीनी</td>\n",
       "      <td>dālchīnī</td>\n",
       "      <td>NaN</td>\n",
       "      <td>दारचीनी</td>\n",
       "      <td>kayu manis</td>\n",
       "      <td>دارچین چینی</td>\n",
       "      <td>cassia</td>\n",
       "      <td>https://partigabor.github.io/aromatica/items/c...</td>\n",
       "    </tr>\n",
       "    <tr>\n",
       "      <th>9</th>\n",
       "      <td>in</td>\n",
       "      <td>64.0</td>\n",
       "      <td>NaN</td>\n",
       "      <td>NaN</td>\n",
       "      <td>NaN</td>\n",
       "      <td>Cinnamomum verum</td>\n",
       "      <td>J.Presl</td>\n",
       "      <td>Cinnamomum zeylanicum Blume</td>\n",
       "      <td>NaN</td>\n",
       "      <td>cinnamon</td>\n",
       "      <td>...</td>\n",
       "      <td>https://eol.org/pages/490672</td>\n",
       "      <td>128608.0</td>\n",
       "      <td>दालचीनी</td>\n",
       "      <td>dālchīnī</td>\n",
       "      <td>?</td>\n",
       "      <td>दारचीनी darchini</td>\n",
       "      <td>kayu manis</td>\n",
       "      <td>دارچین</td>\n",
       "      <td>cinnamon</td>\n",
       "      <td>https://partigabor.github.io/aromatica/items/c...</td>\n",
       "    </tr>\n",
       "    <tr>\n",
       "      <th>10</th>\n",
       "      <td>in</td>\n",
       "      <td>75.0</td>\n",
       "      <td>NaN</td>\n",
       "      <td>NaN</td>\n",
       "      <td>NaN</td>\n",
       "      <td>Syzygium aromaticum</td>\n",
       "      <td>(L.) Merr. &amp; L.M.Perry</td>\n",
       "      <td>Eugenia aromatica (L.) Baill.; Eugenia cayophy...</td>\n",
       "      <td>NaN</td>\n",
       "      <td>NaN</td>\n",
       "      <td>...</td>\n",
       "      <td>https://eol.org/pages/2508665</td>\n",
       "      <td>219868.0</td>\n",
       "      <td>लौंग</td>\n",
       "      <td>laung</td>\n",
       "      <td>NaN</td>\n",
       "      <td>NaN</td>\n",
       "      <td>cengkih</td>\n",
       "      <td>میخک صدپر</td>\n",
       "      <td>clove</td>\n",
       "      <td>https://partigabor.github.io/aromatica/items/c...</td>\n",
       "    </tr>\n",
       "    <tr>\n",
       "      <th>11</th>\n",
       "      <td>in</td>\n",
       "      <td>65.0</td>\n",
       "      <td>NaN</td>\n",
       "      <td>NaN</td>\n",
       "      <td>NaN</td>\n",
       "      <td>Coriandrum sativum</td>\n",
       "      <td>L.</td>\n",
       "      <td>NaN</td>\n",
       "      <td>NaN</td>\n",
       "      <td>NaN</td>\n",
       "      <td>...</td>\n",
       "      <td>https://eol.org/pages/581687</td>\n",
       "      <td>4047.0</td>\n",
       "      <td>धनिया</td>\n",
       "      <td>dhaniyā</td>\n",
       "      <td>NaN</td>\n",
       "      <td>NaN</td>\n",
       "      <td>ketumbar</td>\n",
       "      <td>گشنیز</td>\n",
       "      <td>coriander</td>\n",
       "      <td>https://partigabor.github.io/aromatica/items/c...</td>\n",
       "    </tr>\n",
       "    <tr>\n",
       "      <th>12</th>\n",
       "      <td>in</td>\n",
       "      <td>62.0</td>\n",
       "      <td>NaN</td>\n",
       "      <td>NaN</td>\n",
       "      <td>NaN</td>\n",
       "      <td>Piper cubeba</td>\n",
       "      <td>L.f.</td>\n",
       "      <td>Cubeba officinalis Miq.</td>\n",
       "      <td>NaN</td>\n",
       "      <td>false peppers</td>\n",
       "      <td>...</td>\n",
       "      <td>https://eol.org/pages/51845162</td>\n",
       "      <td>NaN</td>\n",
       "      <td>कबाबचीनी</td>\n",
       "      <td>kabābchīnī</td>\n",
       "      <td>Chinese-cubeb</td>\n",
       "      <td>NaN</td>\n",
       "      <td>kemukus</td>\n",
       "      <td>کبابهٔ چینی‎</td>\n",
       "      <td>cubeb</td>\n",
       "      <td>https://partigabor.github.io/aromatica/items/c...</td>\n",
       "    </tr>\n",
       "    <tr>\n",
       "      <th>13</th>\n",
       "      <td>in</td>\n",
       "      <td>59.0</td>\n",
       "      <td>NaN</td>\n",
       "      <td>NaN</td>\n",
       "      <td>NaN</td>\n",
       "      <td>Cuminum cyminum</td>\n",
       "      <td>L.</td>\n",
       "      <td>NaN</td>\n",
       "      <td>NaN</td>\n",
       "      <td>NaN</td>\n",
       "      <td>...</td>\n",
       "      <td>https://eol.org/pages/488085</td>\n",
       "      <td>52462.0</td>\n",
       "      <td>जीरा</td>\n",
       "      <td>jīrā</td>\n",
       "      <td>NaN</td>\n",
       "      <td>NaN</td>\n",
       "      <td>jintan putih</td>\n",
       "      <td>NaN</td>\n",
       "      <td>cumin</td>\n",
       "      <td>https://partigabor.github.io/aromatica/items/c...</td>\n",
       "    </tr>\n",
       "    <tr>\n",
       "      <th>14</th>\n",
       "      <td>in</td>\n",
       "      <td>67.0</td>\n",
       "      <td>NaN</td>\n",
       "      <td>NaN</td>\n",
       "      <td>NaN</td>\n",
       "      <td>Foeniculum vulgare</td>\n",
       "      <td>Mill.</td>\n",
       "      <td>NaN</td>\n",
       "      <td>NaN</td>\n",
       "      <td>NaN</td>\n",
       "      <td>...</td>\n",
       "      <td>NaN</td>\n",
       "      <td>2849586.0</td>\n",
       "      <td>सौंफ़</td>\n",
       "      <td>saunf</td>\n",
       "      <td>fennel</td>\n",
       "      <td>NaN</td>\n",
       "      <td>adas; jintan manis?</td>\n",
       "      <td>رازیانه، بادیانه، بادیان</td>\n",
       "      <td>fennel</td>\n",
       "      <td>https://partigabor.github.io/aromatica/items/f...</td>\n",
       "    </tr>\n",
       "    <tr>\n",
       "      <th>15</th>\n",
       "      <td>in</td>\n",
       "      <td>46.0</td>\n",
       "      <td>NaN</td>\n",
       "      <td>NaN</td>\n",
       "      <td>NaN</td>\n",
       "      <td>Trigonella foenum-graecum</td>\n",
       "      <td>L.</td>\n",
       "      <td>NaN</td>\n",
       "      <td>NaN</td>\n",
       "      <td>NaN</td>\n",
       "      <td>...</td>\n",
       "      <td>NaN</td>\n",
       "      <td>78534.0</td>\n",
       "      <td>NaN</td>\n",
       "      <td>NaN</td>\n",
       "      <td>NaN</td>\n",
       "      <td>NaN</td>\n",
       "      <td>From Malay adas (“fennel”), from Arabic عَدَس‎...</td>\n",
       "      <td>NaN</td>\n",
       "      <td>fenugreek</td>\n",
       "      <td>https://partigabor.github.io/aromatica/items/f...</td>\n",
       "    </tr>\n",
       "    <tr>\n",
       "      <th>16</th>\n",
       "      <td>in</td>\n",
       "      <td>74.0</td>\n",
       "      <td>NaN</td>\n",
       "      <td>NaN</td>\n",
       "      <td>NaN</td>\n",
       "      <td>Zingiber officinale</td>\n",
       "      <td>Roscoe</td>\n",
       "      <td>NaN</td>\n",
       "      <td>NaN</td>\n",
       "      <td>NaN</td>\n",
       "      <td>...</td>\n",
       "      <td>https://eol.org/pages/987032</td>\n",
       "      <td>94328.0</td>\n",
       "      <td>अदरक</td>\n",
       "      <td>adrak</td>\n",
       "      <td>NaN</td>\n",
       "      <td>NaN</td>\n",
       "      <td>jahe</td>\n",
       "      <td>زنجبیل</td>\n",
       "      <td>ginger</td>\n",
       "      <td>https://partigabor.github.io/aromatica/items/g...</td>\n",
       "    </tr>\n",
       "    <tr>\n",
       "      <th>22</th>\n",
       "      <td>in</td>\n",
       "      <td>68.0</td>\n",
       "      <td>NaN</td>\n",
       "      <td>NaN</td>\n",
       "      <td>NaN</td>\n",
       "      <td>Piper longum</td>\n",
       "      <td>L.</td>\n",
       "      <td>NaN</td>\n",
       "      <td>P. retrofactum Vahl</td>\n",
       "      <td>false peppers</td>\n",
       "      <td>...</td>\n",
       "      <td>https://eol.org/pages/489436</td>\n",
       "      <td>49511.0</td>\n",
       "      <td>पिप्पली</td>\n",
       "      <td>pippalī</td>\n",
       "      <td>NaN</td>\n",
       "      <td>NaN</td>\n",
       "      <td>cabe jawa</td>\n",
       "      <td>فلفل بلند</td>\n",
       "      <td>long_pepper</td>\n",
       "      <td>https://partigabor.github.io/aromatica/items/l...</td>\n",
       "    </tr>\n",
       "    <tr>\n",
       "      <th>23</th>\n",
       "      <td>in</td>\n",
       "      <td>61.0</td>\n",
       "      <td>NaN</td>\n",
       "      <td>NaN</td>\n",
       "      <td>https://powo.science.kew.org/taxon/586076-1</td>\n",
       "      <td>Myristica fragrans</td>\n",
       "      <td>Houtt.</td>\n",
       "      <td>NaN</td>\n",
       "      <td>NaN</td>\n",
       "      <td>NaN</td>\n",
       "      <td>...</td>\n",
       "      <td>https://eol.org/pages/596922</td>\n",
       "      <td>51089.0</td>\n",
       "      <td>जावित्री</td>\n",
       "      <td>jāvitrī</td>\n",
       "      <td>?</td>\n",
       "      <td>NaN</td>\n",
       "      <td>bunga pala</td>\n",
       "      <td>بسپاسه</td>\n",
       "      <td>mace</td>\n",
       "      <td>https://partigabor.github.io/aromatica/items/mace</td>\n",
       "    </tr>\n",
       "    <tr>\n",
       "      <th>24</th>\n",
       "      <td>in</td>\n",
       "      <td>72.0</td>\n",
       "      <td>NaN</td>\n",
       "      <td>NaN</td>\n",
       "      <td>https://powo.science.kew.org/taxon/586076-1</td>\n",
       "      <td>Myristica fragrans</td>\n",
       "      <td>Houtt.</td>\n",
       "      <td>NaN</td>\n",
       "      <td>NaN</td>\n",
       "      <td>NaN</td>\n",
       "      <td>...</td>\n",
       "      <td>https://eol.org/pages/596922</td>\n",
       "      <td>51089.0</td>\n",
       "      <td>जायफल</td>\n",
       "      <td>jāyaphal</td>\n",
       "      <td>?</td>\n",
       "      <td>NaN</td>\n",
       "      <td>pala</td>\n",
       "      <td>جوز هندی</td>\n",
       "      <td>nutmeg</td>\n",
       "      <td>https://partigabor.github.io/aromatica/items/n...</td>\n",
       "    </tr>\n",
       "    <tr>\n",
       "      <th>25</th>\n",
       "      <td>in</td>\n",
       "      <td>80.0</td>\n",
       "      <td>NaN</td>\n",
       "      <td>NaN</td>\n",
       "      <td>NaN</td>\n",
       "      <td>Piper nigrum</td>\n",
       "      <td>L.</td>\n",
       "      <td>NaN</td>\n",
       "      <td>NaN</td>\n",
       "      <td>NaN</td>\n",
       "      <td>...</td>\n",
       "      <td>https://eol.org/pages/596620</td>\n",
       "      <td>13216.0</td>\n",
       "      <td>काली मिर्च</td>\n",
       "      <td>kālī mirch</td>\n",
       "      <td>black pepper</td>\n",
       "      <td>सफेद काली मिर्च…</td>\n",
       "      <td>lada; lada hitam; lada putih; merica</td>\n",
       "      <td>فلفل سیاه</td>\n",
       "      <td>pepper</td>\n",
       "      <td>https://partigabor.github.io/aromatica/items/p...</td>\n",
       "    </tr>\n",
       "    <tr>\n",
       "      <th>27</th>\n",
       "      <td>in</td>\n",
       "      <td>75.0</td>\n",
       "      <td>NaN</td>\n",
       "      <td>NaN</td>\n",
       "      <td>NaN</td>\n",
       "      <td>Crocus sativus</td>\n",
       "      <td>L.</td>\n",
       "      <td>NaN</td>\n",
       "      <td>NaN</td>\n",
       "      <td>NaN</td>\n",
       "      <td>...</td>\n",
       "      <td>https://eol.org/pages/488247</td>\n",
       "      <td>82528.0</td>\n",
       "      <td>केसर</td>\n",
       "      <td>kesar</td>\n",
       "      <td>hair, mane</td>\n",
       "      <td>कुंकुम; जाफरान; सैफ्रन</td>\n",
       "      <td>kuma-kuma; safron</td>\n",
       "      <td>زعفران</td>\n",
       "      <td>saffron</td>\n",
       "      <td>https://partigabor.github.io/aromatica/items/s...</td>\n",
       "    </tr>\n",
       "    <tr>\n",
       "      <th>30</th>\n",
       "      <td>in</td>\n",
       "      <td>65.0</td>\n",
       "      <td>NaN</td>\n",
       "      <td>NaN</td>\n",
       "      <td>NaN</td>\n",
       "      <td>Illicium verum</td>\n",
       "      <td>Hook.f.</td>\n",
       "      <td>NaN</td>\n",
       "      <td>NaN</td>\n",
       "      <td>NaN</td>\n",
       "      <td>...</td>\n",
       "      <td>https://eol.org/pages/484056</td>\n",
       "      <td>124778.0</td>\n",
       "      <td>चक्रफूल</td>\n",
       "      <td>NaN</td>\n",
       "      <td>NaN</td>\n",
       "      <td>NaN</td>\n",
       "      <td>bunga lawang</td>\n",
       "      <td>NaN</td>\n",
       "      <td>star_anise</td>\n",
       "      <td>https://partigabor.github.io/aromatica/items/s...</td>\n",
       "    </tr>\n",
       "    <tr>\n",
       "      <th>32</th>\n",
       "      <td>in</td>\n",
       "      <td>75.0</td>\n",
       "      <td>NaN</td>\n",
       "      <td>NaN</td>\n",
       "      <td>NaN</td>\n",
       "      <td>Curcuma longa</td>\n",
       "      <td>L.</td>\n",
       "      <td>Curcuma domestica Valeton</td>\n",
       "      <td>NaN</td>\n",
       "      <td>NaN</td>\n",
       "      <td>...</td>\n",
       "      <td>https://eol.org/pages/1122309</td>\n",
       "      <td>136217.0</td>\n",
       "      <td>हल्दी</td>\n",
       "      <td>haldī</td>\n",
       "      <td>NaN</td>\n",
       "      <td>NaN</td>\n",
       "      <td>kunyit</td>\n",
       "      <td>زردچوبه</td>\n",
       "      <td>turmeric</td>\n",
       "      <td>https://partigabor.github.io/aromatica/items/t...</td>\n",
       "    </tr>\n",
       "    <tr>\n",
       "      <th>33</th>\n",
       "      <td>in</td>\n",
       "      <td>56.0</td>\n",
       "      <td>NaN</td>\n",
       "      <td>NaN</td>\n",
       "      <td>NaN</td>\n",
       "      <td>Vanilla planifolia</td>\n",
       "      <td>Andrews</td>\n",
       "      <td>Vanilla fragrans Ames</td>\n",
       "      <td>V. tahitensis J.W. Moore; V. pompona Schiede</td>\n",
       "      <td>NaN</td>\n",
       "      <td>...</td>\n",
       "      <td>https://eol.org/pages/1127948</td>\n",
       "      <td>51239.0</td>\n",
       "      <td>वैनिला</td>\n",
       "      <td>vainilaa</td>\n",
       "      <td>NaN</td>\n",
       "      <td>NaN</td>\n",
       "      <td>vanila</td>\n",
       "      <td>وانیل</td>\n",
       "      <td>vanilla</td>\n",
       "      <td>https://partigabor.github.io/aromatica/items/v...</td>\n",
       "    </tr>\n",
       "  </tbody>\n",
       "</table>\n",
       "<p>22 rows × 111 columns</p>\n",
       "</div>"
      ],
      "text/plain": [
       "   include     v done   id                                         powo  \\\n",
       "0       in  82.0  yes  NaN  https://powo.science.kew.org/taxon/196799-2   \n",
       "1       in  79.0  NaN  NaN                                          NaN   \n",
       "2       in  64.0  NaN  NaN                                          NaN   \n",
       "5       in  48.0  NaN  NaN                                          NaN   \n",
       "6       in  72.0  NaN    1  https://powo.science.kew.org/taxon/796556-1   \n",
       "7       in  78.0  NaN  NaN                                          NaN   \n",
       "9       in  64.0  NaN  NaN                                          NaN   \n",
       "10      in  75.0  NaN  NaN                                          NaN   \n",
       "11      in  65.0  NaN  NaN                                          NaN   \n",
       "12      in  62.0  NaN  NaN                                          NaN   \n",
       "13      in  59.0  NaN  NaN                                          NaN   \n",
       "14      in  67.0  NaN  NaN                                          NaN   \n",
       "15      in  46.0  NaN  NaN                                          NaN   \n",
       "16      in  74.0  NaN  NaN                                          NaN   \n",
       "22      in  68.0  NaN  NaN                                          NaN   \n",
       "23      in  61.0  NaN  NaN  https://powo.science.kew.org/taxon/586076-1   \n",
       "24      in  72.0  NaN  NaN  https://powo.science.kew.org/taxon/586076-1   \n",
       "25      in  80.0  NaN  NaN                                          NaN   \n",
       "27      in  75.0  NaN  NaN                                          NaN   \n",
       "30      in  65.0  NaN  NaN                                          NaN   \n",
       "32      in  75.0  NaN  NaN                                          NaN   \n",
       "33      in  56.0  NaN  NaN                                          NaN   \n",
       "\n",
       "                   taxon_name           taxon_authors  \\\n",
       "0              Pimenta dioica              (L.) Merr.   \n",
       "1           Pimpinella anisum                      L.   \n",
       "2              Ferula foetida           (Bunge) Regel   \n",
       "5                 Carum carvi                      L.   \n",
       "6        Elettaria cardamomum              (L.) Maton   \n",
       "7       Cinnamomum aromaticum                    Nees   \n",
       "9            Cinnamomum verum                 J.Presl   \n",
       "10        Syzygium aromaticum  (L.) Merr. & L.M.Perry   \n",
       "11         Coriandrum sativum                      L.   \n",
       "12               Piper cubeba                    L.f.   \n",
       "13            Cuminum cyminum                      L.   \n",
       "14         Foeniculum vulgare                   Mill.   \n",
       "15  Trigonella foenum-graecum                      L.   \n",
       "16        Zingiber officinale                  Roscoe   \n",
       "22               Piper longum                      L.   \n",
       "23         Myristica fragrans                  Houtt.   \n",
       "24         Myristica fragrans                  Houtt.   \n",
       "25               Piper nigrum                      L.   \n",
       "27             Crocus sativus                      L.   \n",
       "30             Illicium verum                 Hook.f.   \n",
       "32              Curcuma longa                      L.   \n",
       "33         Vanilla planifolia                 Andrews   \n",
       "\n",
       "                                            taxon_syn  \\\n",
       "0                          Pimenta officinalis Lindl.   \n",
       "1                                                 NaN   \n",
       "2                                                 NaN   \n",
       "5                                                 NaN   \n",
       "6                                Amomum cardamomum L.   \n",
       "7                     Cinnamomum cassia (L.) J.Presl.   \n",
       "9                         Cinnamomum zeylanicum Blume   \n",
       "10  Eugenia aromatica (L.) Baill.; Eugenia cayophy...   \n",
       "11                                                NaN   \n",
       "12                            Cubeba officinalis Miq.   \n",
       "13                                                NaN   \n",
       "14                                                NaN   \n",
       "15                                                NaN   \n",
       "16                                                NaN   \n",
       "22                                                NaN   \n",
       "23                                                NaN   \n",
       "24                                                NaN   \n",
       "25                                                NaN   \n",
       "27                                                NaN   \n",
       "30                                                NaN   \n",
       "32                          Curcuma domestica Valeton   \n",
       "33                              Vanilla fragrans Ames   \n",
       "\n",
       "                                         taxon_alt          group  ...  \\\n",
       "0                                              NaN  false peppers  ...   \n",
       "1                                              NaN            NaN  ...   \n",
       "2   Ferula assa-foetida L.; Ferula narthex; et al.            NaN  ...   \n",
       "5                                              NaN            NaN  ...   \n",
       "6                                              NaN      cardamoms  ...   \n",
       "7                                           et al.       cinnamon  ...   \n",
       "9                                              NaN       cinnamon  ...   \n",
       "10                                             NaN            NaN  ...   \n",
       "11                                             NaN            NaN  ...   \n",
       "12                                             NaN  false peppers  ...   \n",
       "13                                             NaN            NaN  ...   \n",
       "14                                             NaN            NaN  ...   \n",
       "15                                             NaN            NaN  ...   \n",
       "16                                             NaN            NaN  ...   \n",
       "22                             P. retrofactum Vahl  false peppers  ...   \n",
       "23                                             NaN            NaN  ...   \n",
       "24                                             NaN            NaN  ...   \n",
       "25                                             NaN            NaN  ...   \n",
       "27                                             NaN            NaN  ...   \n",
       "30                                             NaN            NaN  ...   \n",
       "32                                             NaN            NaN  ...   \n",
       "33    V. tahitensis J.W. Moore; V. pompona Schiede            NaN  ...   \n",
       "\n",
       "                               eol       ncbi       Hindi            hi  \\\n",
       "0    https://eol.org/pages/2508608   375272.0   गंधद्रव्य  gandhadravya   \n",
       "1     https://eol.org/pages/581422   271192.0   मोटी सौंफ़    motī saunf   \n",
       "2                              NaN   371345.0        हींग          hīng   \n",
       "5                              NaN    48032.0         NaN           NaN   \n",
       "6    https://eol.org/pages/1120064   105181.0     इलायची        ilāychī   \n",
       "7     https://eol.org/pages/483593   119260.0     दालचीनी      dālchīnī   \n",
       "9     https://eol.org/pages/490672   128608.0     दालचीनी      dālchīnī   \n",
       "10   https://eol.org/pages/2508665   219868.0        लौंग         laung   \n",
       "11    https://eol.org/pages/581687     4047.0      धनिया        dhaniyā   \n",
       "12  https://eol.org/pages/51845162        NaN   कबाबचीनी     kabābchīnī   \n",
       "13    https://eol.org/pages/488085    52462.0        जीरा          jīrā   \n",
       "14                             NaN  2849586.0        सौंफ़         saunf   \n",
       "15                             NaN    78534.0         NaN           NaN   \n",
       "16    https://eol.org/pages/987032    94328.0       अदरक          adrak   \n",
       "22    https://eol.org/pages/489436    49511.0    पिप्पली        pippalī   \n",
       "23    https://eol.org/pages/596922    51089.0    जावित्री       jāvitrī   \n",
       "24    https://eol.org/pages/596922    51089.0       जायफल      jāyaphal   \n",
       "25    https://eol.org/pages/596620    13216.0  काली मिर्च    kālī mirch   \n",
       "27    https://eol.org/pages/488247    82528.0        केसर         kesar   \n",
       "30    https://eol.org/pages/484056   124778.0     चक्रफूल           NaN   \n",
       "32   https://eol.org/pages/1122309   136217.0       हल्दी         haldī   \n",
       "33   https://eol.org/pages/1127948    51239.0      वैनिला      vainilaa   \n",
       "\n",
       "       hi literal                 Hi alt   \\\n",
       "0             NaN                     NaN   \n",
       "1      fat fennel                     NaN   \n",
       "2             NaN                     NaN   \n",
       "5             NaN                     NaN   \n",
       "6             NaN                     NaN   \n",
       "7             NaN                 दारचीनी   \n",
       "9               ?        दारचीनी darchini   \n",
       "10            NaN                     NaN   \n",
       "11            NaN                     NaN   \n",
       "12  Chinese-cubeb                     NaN   \n",
       "13            NaN                     NaN   \n",
       "14         fennel                     NaN   \n",
       "15            NaN                     NaN   \n",
       "16            NaN                     NaN   \n",
       "22            NaN                     NaN   \n",
       "23              ?                     NaN   \n",
       "24              ?                     NaN   \n",
       "25   black pepper        सफेद काली मिर्च…   \n",
       "27     hair, mane  कुंकुम; जाफरान; सैफ्रन   \n",
       "30            NaN                     NaN   \n",
       "32            NaN                     NaN   \n",
       "33            NaN                     NaN   \n",
       "\n",
       "                                           Indonesian  \\\n",
       "0                                      merica Jamaika   \n",
       "1                                          adas manis   \n",
       "2                                                 NaN   \n",
       "5                                                 NaN   \n",
       "6                                   kapulaga seberang   \n",
       "7                                          kayu manis   \n",
       "9                                          kayu manis   \n",
       "10                                            cengkih   \n",
       "11                                           ketumbar   \n",
       "12                                            kemukus   \n",
       "13                                       jintan putih   \n",
       "14                                adas; jintan manis?   \n",
       "15  From Malay adas (“fennel”), from Arabic عَدَس‎...   \n",
       "16                                               jahe   \n",
       "22                                          cabe jawa   \n",
       "23                                         bunga pala   \n",
       "24                                               pala   \n",
       "25               lada; lada hitam; lada putih; merica   \n",
       "27                                  kuma-kuma; safron   \n",
       "30                                       bunga lawang   \n",
       "32                                             kunyit   \n",
       "33                                             vanila   \n",
       "\n",
       "                     Persian          key  \\\n",
       "0                 فلفل فرنگی     allspice   \n",
       "1        بادیان رومی، انیسون        anise   \n",
       "2                        NaN   asafoetida   \n",
       "5                        NaN      caraway   \n",
       "6                     هل سبز     cardamom   \n",
       "7                دارچین چینی       cassia   \n",
       "9                    دارچین      cinnamon   \n",
       "10                 میخک صدپر        clove   \n",
       "11                    گشنیز     coriander   \n",
       "12              کبابهٔ چینی‎        cubeb   \n",
       "13                       NaN        cumin   \n",
       "14  رازیانه، بادیانه، بادیان       fennel   \n",
       "15                       NaN    fenugreek   \n",
       "16                   زنجبیل        ginger   \n",
       "22                 فلفل بلند  long_pepper   \n",
       "23                    بسپاسه         mace   \n",
       "24                  جوز هندی       nutmeg   \n",
       "25                 فلفل سیاه       pepper   \n",
       "27                   زعفران       saffron   \n",
       "30                       NaN   star_anise   \n",
       "32                   زردچوبه     turmeric   \n",
       "33                     وانیل      vanilla   \n",
       "\n",
       "                                                  url  \n",
       "0   https://partigabor.github.io/aromatica/items/a...  \n",
       "1   https://partigabor.github.io/aromatica/items/a...  \n",
       "2   https://partigabor.github.io/aromatica/items/a...  \n",
       "5   https://partigabor.github.io/aromatica/items/c...  \n",
       "6   https://partigabor.github.io/aromatica/items/c...  \n",
       "7   https://partigabor.github.io/aromatica/items/c...  \n",
       "9   https://partigabor.github.io/aromatica/items/c...  \n",
       "10  https://partigabor.github.io/aromatica/items/c...  \n",
       "11  https://partigabor.github.io/aromatica/items/c...  \n",
       "12  https://partigabor.github.io/aromatica/items/c...  \n",
       "13  https://partigabor.github.io/aromatica/items/c...  \n",
       "14  https://partigabor.github.io/aromatica/items/f...  \n",
       "15  https://partigabor.github.io/aromatica/items/f...  \n",
       "16  https://partigabor.github.io/aromatica/items/g...  \n",
       "22  https://partigabor.github.io/aromatica/items/l...  \n",
       "23  https://partigabor.github.io/aromatica/items/mace  \n",
       "24  https://partigabor.github.io/aromatica/items/n...  \n",
       "25  https://partigabor.github.io/aromatica/items/p...  \n",
       "27  https://partigabor.github.io/aromatica/items/s...  \n",
       "30  https://partigabor.github.io/aromatica/items/s...  \n",
       "32  https://partigabor.github.io/aromatica/items/t...  \n",
       "33  https://partigabor.github.io/aromatica/items/v...  \n",
       "\n",
       "[22 rows x 111 columns]"
      ]
     },
     "execution_count": 7,
     "metadata": {},
     "output_type": "execute_result"
    }
   ],
   "source": [
    "# Read and store content of an excel file \n",
    "df = pd.read_excel(path_in+\"spices.xlsx\")\n",
    "\n",
    "# Write the dataframe object into csv file\n",
    "df.to_csv (path_in+\"spices.csv\", index = None, header=True)\n",
    "\n",
    "# Load in dataset of spices as a dataframe\n",
    "df = pd.read_csv(path_in+'spices.csv', header=[0], delimiter=',', encoding=\"utf-8\")\n",
    "\n",
    "# Select ones to include\n",
    "df = df.loc[(df['include'] == \"in\")]\n",
    "\n",
    "# Save a list of items (the spices)\n",
    "list_of_items = df['item'].tolist()\n",
    "list_of_items.sort() # Sorts alphabetically, but capital letters come first\n",
    "\n",
    "# Save a list of keys based on \"item\", make it lowercase and replace spaces with underscores\n",
    "df['key'] = df['item'].str.lower().str.replace(\" \", \"_\")\n",
    "list_of_keys = df['key'].tolist()\n",
    "\n",
    "# Show how many spices there are and what are they\n",
    "n = len(list_of_keys)\n",
    "print(n, \"spices in total:, \", list_of_keys)\n",
    "print(list_of_keys)\n",
    "\n",
    "# Write n to a markdown file\n",
    "number = f\"As of now, the website contains information on **{n}** items.\"\n",
    "with open(\"../content/number.md\", \"w\") as file:\n",
    "    file.write(number)\n",
    "\n",
    "# Add links in a new column\n",
    "df['url'] = \"https://partigabor.github.io/aromatica/items/\" + df['key']\n",
    "\n",
    "# Inspect\n",
    "# print(tabulate(df, headers='keys', tablefmt='psql'))\n",
    "df"
   ]
  },
  {
   "cell_type": "markdown",
   "metadata": {},
   "source": [
    "## Botanical data"
   ]
  },
  {
   "cell_type": "code",
   "execution_count": 8,
   "metadata": {},
   "outputs": [
    {
     "name": "stdout",
     "output_type": "stream",
     "text": [
      "List items with no POWO links:\n",
      " Empty DataFrame\n",
      "Columns: [item, powo_url]\n",
      "Index: []\n"
     ]
    }
   ],
   "source": [
    "# Read in wcvp files\n",
    "wcvp = pd.read_csv(path_in + 'resources/wcvp/wcvp_names.csv', header=[0], delimiter='|', encoding=\"utf-8\", dtype=str)\n",
    "\n",
    "# Check row with a taxon name\n",
    "# wcvp.loc[wcvp['taxon_name'] == \"Zingiber officinale\"]\n",
    "\n",
    "# Merge wcvp plant data with spice data\n",
    "df = pd.merge(df, wcvp, on=['taxon_name', 'taxon_authors'], how='left')\n",
    "\n",
    "# Add family name \"Animalia\" to animal spices that don't have value in family column\n",
    "# df.loc[(df['kingdom'] == \"Animalia\") & (df['family'].isnull()), 'family'] = \"Animalia\"\n",
    "\n",
    "# Add POWO links by adding the powo_id to the end of the link \"https://powo.science.kew.org/taxon/\"\n",
    "df['powo_url'] = \"https://powo.science.kew.org/taxon/\" + df['powo_id']\n",
    "\n",
    "# Look at powo column of a spice\n",
    "# print(\"Print POWO link for checking:\", df.loc[df['key'] == 'ginger', ['powo_url']], \"\\n\")\n",
    "\n",
    "# Show items with missing POWO links\n",
    "print(\"List items with no POWO links:\\n\", df.loc[df['powo_url'].isnull(), ['item', 'powo_url']])"
   ]
  },
  {
   "cell_type": "code",
   "execution_count": 9,
   "metadata": {},
   "outputs": [
    {
     "name": "stdout",
     "output_type": "stream",
     "text": [
      "List items with no native areas:\n",
      " Empty DataFrame\n",
      "Columns: [item, native]\n",
      "Index: []\n"
     ]
    }
   ],
   "source": [
    "# Read in wcvp plant distribution files\n",
    "wcvp_dist = pd.read_csv(path_in+'resources/wcvp/wcvp_distribution.csv', header=[0], delimiter='|', encoding=\"utf-8\", dtype=str)\n",
    "\n",
    "# Check line by plant_name_id\n",
    "wcvp_dist.loc[wcvp_dist['plant_name_id'] == \"273361\"]\n",
    "\n",
    "# Iterate through df to get native and introduced areas and regions\n",
    "for index, row in df.iterrows():\n",
    "    # Get a list of all vales in the area column for this plant_name_id, where 'introduced' is 0\n",
    "    native = wcvp_dist.loc[(wcvp_dist['plant_name_id'] == row['plant_name_id']) & (wcvp_dist['introduced'] == \"0\"), 'area'].tolist()\n",
    "    # Convert list to string\n",
    "    native = ', '.join(native)\n",
    "    # Add to df\n",
    "    df.at[index, 'native'] = native\n",
    "    \n",
    "    # Get a list of all vales in the area column for this plant_name_id, where 'introduced' is 1\n",
    "    introduced = wcvp_dist.loc[(wcvp_dist['plant_name_id'] == row['plant_name_id']) & (wcvp_dist['introduced'] == \"1\"), 'area'].tolist()\n",
    "    # Convert list to string\n",
    "    introduced = ', '.join(introduced)\n",
    "    # Add to df\n",
    "    df.at[index, 'introduced'] = introduced\n",
    "    \n",
    "    # Get a list of all vales in the region column for this plant_name_id, where 'introduced' is 0\n",
    "    regions = wcvp_dist.loc[(wcvp_dist['plant_name_id'] == row['plant_name_id']) & (wcvp_dist['introduced'] == \"0\"), 'region'].tolist()\n",
    "    # Remove duplicates from the list\n",
    "    regions = list(dict.fromkeys(regions))\n",
    "    # Convert list to string\n",
    "    regions = ', '.join(regions)\n",
    "    # Add to df\n",
    "    df.at[index, 'regions'] = regions\n",
    "    \n",
    "    # Get list of all values in the continent column for this plant_name_id, where 'introduced' is 0\n",
    "    continents = wcvp_dist.loc[(wcvp_dist['plant_name_id'] == row['plant_name_id']) & (wcvp_dist['introduced'] == \"0\"), 'continent'].tolist()\n",
    "    # Remove duplicates from the list\n",
    "    continents = list(dict.fromkeys(continents))\n",
    "    # Convert list to string\n",
    "    continents = ', '.join(continents)\n",
    "    # Title case continents column values\n",
    "    continents = continents.title()    \n",
    "    # Add to df\n",
    "    df.at[index, 'continents'] = continents\n",
    "     \n",
    "# # Add counts of distributions\n",
    "# df['n_of_native'] = df['native'].str.count(',') + 1\n",
    "# df['n_of_introduced'] = df['introduced'].str.count(',') + 1\n",
    "\n",
    "# Check if any native or introduced areas are missing\n",
    "print(\"List items with no native areas:\\n\", df.loc[df['native'].isnull(), ['item', 'native']])"
   ]
  },
  {
   "cell_type": "markdown",
   "metadata": {},
   "source": [
    "## Geocordinates (online)"
   ]
  },
  {
   "cell_type": "code",
   "execution_count": 10,
   "metadata": {},
   "outputs": [
    {
     "name": "stdout",
     "output_type": "stream",
     "text": [
      "Calculating coordinates of allspice\n",
      "Calculating coordinates of anise\n",
      "Calculating coordinates of asafoetida\n",
      "Calculating coordinates of caraway\n",
      "Calculating coordinates of cardamom\n",
      "Calculating coordinates of cassia\n",
      "Calculating coordinates of cinnamon\n",
      "Calculating coordinates of clove\n",
      "Calculating coordinates of coriander\n",
      "Calculating coordinates of cubeb\n",
      "Calculating coordinates of cumin\n",
      "Calculating coordinates of fennel\n",
      "Calculating coordinates of fenugreek\n",
      "Calculating coordinates of ginger\n",
      "Calculating coordinates of long pepper\n",
      "Calculating coordinates of mace\n",
      "Calculating coordinates of nutmeg\n",
      "Calculating coordinates of pepper\n",
      "Calculating coordinates of saffron\n",
      "Calculating coordinates of star anise\n",
      "Calculating coordinates of turmeric\n",
      "Calculating coordinates of vanilla\n"
     ]
    }
   ],
   "source": [
    "if internet_is_on():\n",
    "    \n",
    "    # Location coordinates\n",
    "    # generate_coordinates(df) # Generate geo-coordinates from location column\n",
    "    centroid_coordinates(df) # Generate geo-coordinates by finding the centroid of the native areas"
   ]
  },
  {
   "cell_type": "markdown",
   "metadata": {},
   "source": [
    "## Definitions (online)"
   ]
  },
  {
   "cell_type": "code",
   "execution_count": 11,
   "metadata": {},
   "outputs": [],
   "source": [
    "# import nltk\n",
    "# from nltk.corpus import wordnet as wn\n",
    "# !nltk.download(\"wordnet\")\n",
    "# !nltk.download(\"omw-1.4\")\n",
    "# !nltk.download(\"extended_omw\") # if you want the wiktionary data\n",
    "\n",
    "# Wordnets using the Open Multilingual WordNet (https://omwn.org/omw1.html) # 100%: cmn, fin, hrv\n",
    "# # wn_langs = ['als', 'arb', 'bul', 'cat', 'cmn', 'dan', 'ell', 'eng', 'eus', 'fin', 'fra', 'glg', 'heb', 'hrv', 'ind', 'isl', 'ita', 'ita_iwn', 'jpn', 'lit', 'nld', 'nno', 'nob', 'pol', 'por', 'slv', 'spa', 'swe', 'tha', 'zsm'] # 100%: cmn, fin, hrv\n",
    "\n",
    "# wn_langs = ['fra'] # 'eng', 'arb', 'cmn', \n",
    "# print(wn.synset('allspice.n.03').definition())\n",
    "# print(wn.synsets('allspice', pos='n'))\n",
    "# print(wn.synset('allspice.n.03').lemma_names('ita'))\n",
    "\n",
    "# #WordNet definitions\n",
    "# def wn_definition(df):\n",
    "#     '''\n",
    "#     Returns a dataframe with Wordnet definitions of the words in the wn column.\n",
    "\n",
    "#         Parameters:\n",
    "#             df (pandas dataframe): Dataframe with a wn column.\n",
    "\n",
    "#         Returns:\n",
    "#             df (pandas dataframe): Dataframe with Wordnet definitions of the words in the wn column.\n",
    "#     '''\n",
    "#     for index, row in df.iterrows():\n",
    "#         if pd.notna(row['wn']):\n",
    "#             wn_definition = str(wn.synset(row['wn']).definition())\n",
    "#             df.at[index, \"wn_definition\"] = str(wn_definition)\n",
    "#     return df"
   ]
  },
  {
   "cell_type": "code",
   "execution_count": 12,
   "metadata": {},
   "outputs": [],
   "source": [
    "# if internet_is_on():\n",
    "#     # Get a definition from WordNet\n",
    "#     wn_definition(df)"
   ]
  },
  {
   "cell_type": "markdown",
   "metadata": {},
   "source": [
    "## Translations (online)"
   ]
  },
  {
   "cell_type": "code",
   "execution_count": 13,
   "metadata": {},
   "outputs": [],
   "source": [
    "\n",
    "# ### WordNet translations\n",
    "# def wn_translate(df, lan):\n",
    "#     '''\n",
    "#     Returns a dataframe with Wordnet translations of the words in the wn column.\n",
    "\n",
    "#         Parameters:\n",
    "#             df (pandas dataframe): Dataframe with a wn column.\n",
    "#             lan (str): Language code of the language to translate to.\n",
    "\n",
    "#         Returns:\n",
    "#             df (pandas dataframe): Dataframe with Wordnet translations of the words in the wn column.\n",
    "#     '''\n",
    "#     for index, row in df.iterrows():\n",
    "#         if pd.notna(row['wn']):\n",
    "#             translated_list = wn.synset(row['wn']).lemma_names(lan)\n",
    "#             translated = \", \".join(str(x) for x in translated_list)\n",
    "#             translated = re.sub(\"_\", \" \", translated)\n",
    "#             df.at[index, f\"wn_translation_{lan}\"] = translated\n",
    "#     return df\n",
    "\n",
    "\n",
    "\n",
    "# ### Translator\n",
    "# from googletrans import Translator\n",
    "# translator = Translator()\n",
    "# def translate(input, language):\n",
    "#     '''\n",
    "#     Returns a translation of a word or phrase into a language.\n",
    "    \n",
    "#             Parameters:\n",
    "#                 input (str): Word or phrase to translate.\n",
    "#                 language (str): Language code of the language to translate to.\n",
    "    \n",
    "#             Returns:\n",
    "#                 translated (str): Translation of the word or phrase into the language.\n",
    "#         '''\n",
    "#     translated = translator.translate(input, dest=language)\n",
    "#     return translated.text\n",
    "\n",
    "   \n",
    "\n",
    "# #### Translate with DeepL, using Google Translate\n",
    "# # https://developers.google.com/admin-sdk/directory/v1/languages\n",
    "# # dl_languages = {'afrikaans': 'af', 'albanian': 'sq', 'amharic': 'am', 'arabic': 'ar', 'armenian': 'hy', 'assamese': 'as', 'aymara': 'ay', 'azerbaijani': 'az', 'bambara': 'bm', 'basque': 'eu', 'belarusian': 'be', 'bengali': 'bn', 'bhojpuri': 'bho', 'bosnian': 'bs', 'bulgarian': 'bg', 'catalan': 'ca', 'cebuano': 'ceb', 'chichewa': 'ny', 'chinese (simplified)': 'zh-CN', 'chinese (traditional)': 'zh-TW', 'corsican': 'co', 'croatian': 'hr', 'czech': 'cs', 'danish': 'da', 'dhivehi': 'dv', 'dogri': 'doi', 'dutch': 'nl', 'english': 'en', 'esperanto': 'eo', 'estonian': 'et', 'ewe': 'ee', 'filipino': 'tl', 'finnish': 'fi', 'french': 'fr', 'frisian': 'fy', 'galician': 'gl', 'georgian': 'ka', 'german': 'de', 'greek': 'el', 'guarani': 'gn', 'gujarati': 'gu', 'haitian creole': 'ht', 'hausa': 'ha', 'hawaiian': 'haw', 'hebrew': 'iw', 'hindi': 'hi', 'hmong': 'hmn', 'hungarian': 'hu', 'icelandic': 'is', 'igbo': 'ig', 'ilocano': 'ilo', 'indonesian': 'id', 'irish': 'ga', 'italian': 'it', 'japanese': 'ja', 'javanese': 'jw', 'kannada': 'kn', 'kazakh': 'kk', 'khmer': 'km', 'kinyarwanda': 'rw', 'konkani': 'gom', 'korean': 'ko', 'krio': 'kri', 'kurdish (kurmanji)': 'ku', 'kurdish (sorani)': 'ckb', 'kyrgyz': 'ky', 'lao': 'lo', 'latin': 'la', 'latvian': 'lv', 'lingala': 'ln', 'lithuanian': 'lt', 'luganda': 'lg', 'luxembourgish': 'lb', 'macedonian': 'mk', 'maithili': 'mai', 'malagasy': 'mg', 'malay': 'ms', 'malayalam': 'ml', 'maltese': 'mt', 'maori': 'mi', 'marathi': 'mr', 'meiteilon (manipuri)': 'mni-Mtei', 'mizo': 'lus', 'mongolian': 'mn', 'myanmar': 'my', 'nepali': 'ne', 'norwegian': 'no', 'odia (oriya)': 'or', 'oromo': 'om', 'pashto': 'ps', 'persian': 'fa', 'polish': 'pl', 'portuguese': 'pt', 'punjabi': 'pa', 'quechua': 'qu', 'romanian': 'ro', 'russian': 'ru', 'samoan': 'sm', 'sanskrit': 'sa', 'scots gaelic': 'gd', 'sepedi': 'nso', 'serbian': 'sr', 'sesotho': 'st', 'shona': 'sn', 'sindhi': 'sd', 'sinhala': 'si', 'slovak': 'sk', 'slovenian': 'sl', 'somali': 'so', 'spanish': 'es', 'sundanese': 'su', 'swahili': 'sw', 'swedish': 'sv', 'tajik': 'tg', 'tamil': 'ta', 'tatar': 'tt', 'telugu': 'te', 'thai': 'th', 'tigrinya': 'ti', 'tsonga': 'ts', 'turkish': 'tr', 'turkmen': 'tk', 'twi': 'ak', 'ukrainian': 'uk', 'urdu': 'ur', 'uyghur': 'ug', 'uzbek': 'uz', 'vietnamese': 'vi', 'welsh': 'cy', 'xhosa': 'xh', 'yiddish': 'yi', 'yoruba': 'yo', 'zulu': 'zu'}\n",
    "\n",
    "# dl_languages = {'french': 'fr'} # 'hungarian': 'hu', 'english': 'en', 'arabic': 'ar', 'chinese': 'zh-TW',\n",
    "# dl_language_list = list(dl_languages.values())\n",
    "\n",
    "# from deep_translator import GoogleTranslator as dl\n",
    "# # translated = dl(source='en', target='hu').translate(\"allspice\") # api_key=openai\n",
    "# # print(translated)\n",
    "\n",
    "# def dl_translate(df, lang):\n",
    "#     '''\n",
    "#     Returns a dataframe with DeepL translations of the words in the English column.\n",
    "\n",
    "#         Parameters:\n",
    "#             df (pandas dataframe): Dataframe with an English column.\n",
    "#             lang (str): Language code of the language to translate to.\n",
    "\n",
    "#         Returns:\n",
    "#             df (pandas dataframe): Dataframe with DeepL translations of the words in the English column.\n",
    "#     '''    \n",
    "#     for index, row in df.iterrows():\n",
    "#         if pd.notna(row['English']):\n",
    "#             translated = dl(source='en', target=lang).translate(row['English'])\n",
    "#             df.at[index, f\"dl_translation_{lang}\"] = translated\n",
    "#     return df"
   ]
  },
  {
   "cell_type": "code",
   "execution_count": 14,
   "metadata": {},
   "outputs": [],
   "source": [
    "\n",
    "    \n",
    "    # # Translate using WordNet\n",
    "    # wn_langs = ['fra', 'ita']\n",
    "    # for lan in wn_langs:\n",
    "    #     wn_translate(df, lan)\n",
    "    \n",
    "    # # Translate using DeepL\n",
    "    # dl_langs = ['fr', 'it']\n",
    "    # for lang in dl_langs:\n",
    "    #     dl_translate(df, lang)\n",
    "        \n",
    "    # # Create a new column called french and fill with NaN\n",
    "    # df['french'] = np.nan\n",
    "    # df['italian'] = np.nan\n",
    "    \n",
    "    # # Change \"\" to NaN in df\n",
    "    # df = df.replace(r'^\\s*$', np.nan, regex=True)\n",
    "    \n",
    "    # # Fill in 'french' column with values from 'wn_translation_fra' or 'dl_translation_fr' column where it is NaN\n",
    "    # df['french'] = df['french'].fillna(df['wn_translation_fra'])\n",
    "    # df['french'] = df['french'].fillna(df['dl_translation_fr'])\n",
    "    \n",
    "    # df['italian'] = df['italian'].fillna(df['wn_translation_ita'])\n",
    "    # df['italian'] = df['italian'].fillna(df['dl_translation_it'])\n",
    "\n",
    "# # Check\n",
    "# df_translations = df.filter(regex='fr')\n",
    "# df_translations"
   ]
  },
  {
   "cell_type": "code",
   "execution_count": 15,
   "metadata": {},
   "outputs": [
    {
     "name": "stdout",
     "output_type": "stream",
     "text": [
      "Check coordinates:      lat   lon\n",
      "13  26.0  93.0\n",
      "List of items with no coordinates: Empty DataFrame\n",
      "Columns: [item, lat, lon]\n",
      "Index: []\n"
     ]
    }
   ],
   "source": [
    "# Checking lat and lon for an item\n",
    "print(\"Check coordinates:\", df.loc[df['key'] == 'ginger', ['lat', 'lon']])\n",
    "\n",
    "# List which items have NaN lat and lon values\n",
    "print(\"List of items with no coordinates:\", df.loc[(df['lat'].isnull()) & (df['lon'].isnull()), ['item', 'lat', 'lon']])"
   ]
  },
  {
   "cell_type": "code",
   "execution_count": 16,
   "metadata": {},
   "outputs": [
    {
     "name": "stdout",
     "output_type": "stream",
     "text": [
      "List of items with identical coordinates: Empty DataFrame\n",
      "Columns: [item, lat, lon]\n",
      "Index: []\n"
     ]
    }
   ],
   "source": [
    "# Check if any coordinates overlap (identical lat and lon values in different rows)\n",
    "print(\"List of items with identical coordinates:\", df.loc[df.duplicated(subset=['lat', 'lon'], keep=False), ['item', 'lat', 'lon']])\n",
    "\n",
    "# # Repel data points by adding a small random value to each coordinate\n",
    "# df['lat'] = df['lat'] + np.random.uniform(-5, 5, len(df))\n",
    "# df['lon'] = df['lon'] + np.random.uniform(-5, 5, len(df))"
   ]
  },
  {
   "cell_type": "code",
   "execution_count": 17,
   "metadata": {},
   "outputs": [],
   "source": [
    "# Subsetting categories (spices, herbs, incense)\n",
    "# df_spices = df.loc[(df['id'] == \"S\")]\n",
    "# print(df_spices.shape[0])\n",
    "# df_herbs = df.loc[(df['id'] == \"H\")]\n",
    "# print(df_herbs.shape[0])\n",
    "# df_incense = df.loc[(df['id'] == \"I\")]\n",
    "# print(df_incense.shape[0])"
   ]
  },
  {
   "cell_type": "code",
   "execution_count": 18,
   "metadata": {},
   "outputs": [
    {
     "data": {
      "text/html": [
       "<div>\n",
       "<style scoped>\n",
       "    .dataframe tbody tr th:only-of-type {\n",
       "        vertical-align: middle;\n",
       "    }\n",
       "\n",
       "    .dataframe tbody tr th {\n",
       "        vertical-align: top;\n",
       "    }\n",
       "\n",
       "    .dataframe thead th {\n",
       "        text-align: right;\n",
       "    }\n",
       "</style>\n",
       "<table border=\"1\" class=\"dataframe\">\n",
       "  <thead>\n",
       "    <tr style=\"text-align: right;\">\n",
       "      <th></th>\n",
       "      <th>include</th>\n",
       "      <th>v</th>\n",
       "      <th>done</th>\n",
       "      <th>id</th>\n",
       "      <th>powo</th>\n",
       "      <th>taxon_name</th>\n",
       "      <th>taxon_authors</th>\n",
       "      <th>taxon_syn</th>\n",
       "      <th>taxon_alt</th>\n",
       "      <th>group</th>\n",
       "      <th>...</th>\n",
       "      <th>homotypic_synonym</th>\n",
       "      <th>parent_plant_name_id</th>\n",
       "      <th>powo_id</th>\n",
       "      <th>hybrid_formula</th>\n",
       "      <th>reviewed</th>\n",
       "      <th>powo_url</th>\n",
       "      <th>native</th>\n",
       "      <th>introduced</th>\n",
       "      <th>regions</th>\n",
       "      <th>continents</th>\n",
       "    </tr>\n",
       "  </thead>\n",
       "  <tbody>\n",
       "    <tr>\n",
       "      <th>0</th>\n",
       "      <td>in</td>\n",
       "      <td>82.0</td>\n",
       "      <td>yes</td>\n",
       "      <td>NaN</td>\n",
       "      <td>https://powo.science.kew.org/taxon/196799-2</td>\n",
       "      <td>Pimenta dioica</td>\n",
       "      <td>(L.) Merr.</td>\n",
       "      <td>Pimenta officinalis Lindl.</td>\n",
       "      <td>NaN</td>\n",
       "      <td>false peppers</td>\n",
       "      <td>...</td>\n",
       "      <td>NaN</td>\n",
       "      <td>156124</td>\n",
       "      <td>196799-2</td>\n",
       "      <td>NaN</td>\n",
       "      <td>Y</td>\n",
       "      <td>https://powo.science.kew.org/taxon/196799-2</td>\n",
       "      <td>Mexico Gulf, Mexico Southwest, Mexico Southeas...</td>\n",
       "      <td>Society Is., Caroline Is., Hawaii, Florida, El...</td>\n",
       "      <td>Mexico, Central America, Caribbean</td>\n",
       "      <td>Northern America, Southern America</td>\n",
       "    </tr>\n",
       "    <tr>\n",
       "      <th>1</th>\n",
       "      <td>in</td>\n",
       "      <td>79.0</td>\n",
       "      <td>NaN</td>\n",
       "      <td>NaN</td>\n",
       "      <td>NaN</td>\n",
       "      <td>Pimpinella anisum</td>\n",
       "      <td>L.</td>\n",
       "      <td>NaN</td>\n",
       "      <td>NaN</td>\n",
       "      <td>NaN</td>\n",
       "      <td>...</td>\n",
       "      <td>NaN</td>\n",
       "      <td>2402470</td>\n",
       "      <td>846658-1</td>\n",
       "      <td>NaN</td>\n",
       "      <td>N</td>\n",
       "      <td>https://powo.science.kew.org/taxon/846658-1</td>\n",
       "      <td>Cyprus, Lebanon-Syria, Palestine, Turkey</td>\n",
       "      <td>Denmark, Norway, Sweden, Austria, Czechoslovak...</td>\n",
       "      <td>Western Asia</td>\n",
       "      <td>Asia-Temperate</td>\n",
       "    </tr>\n",
       "    <tr>\n",
       "      <th>2</th>\n",
       "      <td>in</td>\n",
       "      <td>64.0</td>\n",
       "      <td>NaN</td>\n",
       "      <td>NaN</td>\n",
       "      <td>NaN</td>\n",
       "      <td>Ferula foetida</td>\n",
       "      <td>(Bunge) Regel</td>\n",
       "      <td>NaN</td>\n",
       "      <td>Ferula assa-foetida L.; Ferula narthex; et al.</td>\n",
       "      <td>NaN</td>\n",
       "      <td>...</td>\n",
       "      <td>NaN</td>\n",
       "      <td>2808299</td>\n",
       "      <td>842277-1</td>\n",
       "      <td>NaN</td>\n",
       "      <td>N</td>\n",
       "      <td>https://powo.science.kew.org/taxon/842277-1</td>\n",
       "      <td>Kazakhstan, Kirgizstan, Turkmenistan, Tadzhiki...</td>\n",
       "      <td></td>\n",
       "      <td>Middle Asia, Western Asia, Indian Subcontinent</td>\n",
       "      <td>Asia-Temperate, Asia-Tropical</td>\n",
       "    </tr>\n",
       "    <tr>\n",
       "      <th>3</th>\n",
       "      <td>in</td>\n",
       "      <td>48.0</td>\n",
       "      <td>NaN</td>\n",
       "      <td>NaN</td>\n",
       "      <td>NaN</td>\n",
       "      <td>Carum carvi</td>\n",
       "      <td>L.</td>\n",
       "      <td>NaN</td>\n",
       "      <td>NaN</td>\n",
       "      <td>NaN</td>\n",
       "      <td>...</td>\n",
       "      <td>NaN</td>\n",
       "      <td>2701447</td>\n",
       "      <td>839677-1</td>\n",
       "      <td>NaN</td>\n",
       "      <td>N</td>\n",
       "      <td>https://powo.science.kew.org/taxon/839677-1</td>\n",
       "      <td>Denmark, Finland, Norway, Sweden, Austria, Bel...</td>\n",
       "      <td>Føroyar, Great Britain, Iceland, Ireland, Alge...</td>\n",
       "      <td>Northern Europe, Middle Europe, Southwestern E...</td>\n",
       "      <td>Europe, Asia-Temperate, Asia-Tropical</td>\n",
       "    </tr>\n",
       "    <tr>\n",
       "      <th>4</th>\n",
       "      <td>in</td>\n",
       "      <td>72.0</td>\n",
       "      <td>NaN</td>\n",
       "      <td>1</td>\n",
       "      <td>https://powo.science.kew.org/taxon/796556-1</td>\n",
       "      <td>Elettaria cardamomum</td>\n",
       "      <td>(L.) Maton</td>\n",
       "      <td>Amomum cardamomum L.</td>\n",
       "      <td>NaN</td>\n",
       "      <td>cardamoms</td>\n",
       "      <td>...</td>\n",
       "      <td>NaN</td>\n",
       "      <td>243049</td>\n",
       "      <td>796556-1</td>\n",
       "      <td>NaN</td>\n",
       "      <td>Y</td>\n",
       "      <td>https://powo.science.kew.org/taxon/796556-1</td>\n",
       "      <td>India</td>\n",
       "      <td>Réunion, Bangladesh, Cambodia, Thailand, Vietn...</td>\n",
       "      <td>Indian Subcontinent</td>\n",
       "      <td>Asia-Tropical</td>\n",
       "    </tr>\n",
       "  </tbody>\n",
       "</table>\n",
       "<p>5 rows × 145 columns</p>\n",
       "</div>"
      ],
      "text/plain": [
       "  include     v done   id                                         powo  \\\n",
       "0      in  82.0  yes  NaN  https://powo.science.kew.org/taxon/196799-2   \n",
       "1      in  79.0  NaN  NaN                                          NaN   \n",
       "2      in  64.0  NaN  NaN                                          NaN   \n",
       "3      in  48.0  NaN  NaN                                          NaN   \n",
       "4      in  72.0  NaN    1  https://powo.science.kew.org/taxon/796556-1   \n",
       "\n",
       "             taxon_name  taxon_authors                   taxon_syn  \\\n",
       "0        Pimenta dioica     (L.) Merr.  Pimenta officinalis Lindl.   \n",
       "1     Pimpinella anisum             L.                         NaN   \n",
       "2        Ferula foetida  (Bunge) Regel                         NaN   \n",
       "3           Carum carvi             L.                         NaN   \n",
       "4  Elettaria cardamomum     (L.) Maton        Amomum cardamomum L.   \n",
       "\n",
       "                                        taxon_alt          group  ...  \\\n",
       "0                                             NaN  false peppers  ...   \n",
       "1                                             NaN            NaN  ...   \n",
       "2  Ferula assa-foetida L.; Ferula narthex; et al.            NaN  ...   \n",
       "3                                             NaN            NaN  ...   \n",
       "4                                             NaN      cardamoms  ...   \n",
       "\n",
       "  homotypic_synonym parent_plant_name_id   powo_id hybrid_formula reviewed  \\\n",
       "0               NaN               156124  196799-2            NaN        Y   \n",
       "1               NaN              2402470  846658-1            NaN        N   \n",
       "2               NaN              2808299  842277-1            NaN        N   \n",
       "3               NaN              2701447  839677-1            NaN        N   \n",
       "4               NaN               243049  796556-1            NaN        Y   \n",
       "\n",
       "                                      powo_url  \\\n",
       "0  https://powo.science.kew.org/taxon/196799-2   \n",
       "1  https://powo.science.kew.org/taxon/846658-1   \n",
       "2  https://powo.science.kew.org/taxon/842277-1   \n",
       "3  https://powo.science.kew.org/taxon/839677-1   \n",
       "4  https://powo.science.kew.org/taxon/796556-1   \n",
       "\n",
       "                                              native  \\\n",
       "0  Mexico Gulf, Mexico Southwest, Mexico Southeas...   \n",
       "1           Cyprus, Lebanon-Syria, Palestine, Turkey   \n",
       "2  Kazakhstan, Kirgizstan, Turkmenistan, Tadzhiki...   \n",
       "3  Denmark, Finland, Norway, Sweden, Austria, Bel...   \n",
       "4                                              India   \n",
       "\n",
       "                                          introduced  \\\n",
       "0  Society Is., Caroline Is., Hawaii, Florida, El...   \n",
       "1  Denmark, Norway, Sweden, Austria, Czechoslovak...   \n",
       "2                                                      \n",
       "3  Føroyar, Great Britain, Iceland, Ireland, Alge...   \n",
       "4  Réunion, Bangladesh, Cambodia, Thailand, Vietn...   \n",
       "\n",
       "                                             regions  \\\n",
       "0                 Mexico, Central America, Caribbean   \n",
       "1                                       Western Asia   \n",
       "2     Middle Asia, Western Asia, Indian Subcontinent   \n",
       "3  Northern Europe, Middle Europe, Southwestern E...   \n",
       "4                                Indian Subcontinent   \n",
       "\n",
       "                              continents  \n",
       "0     Northern America, Southern America  \n",
       "1                         Asia-Temperate  \n",
       "2          Asia-Temperate, Asia-Tropical  \n",
       "3  Europe, Asia-Temperate, Asia-Tropical  \n",
       "4                          Asia-Tropical  \n",
       "\n",
       "[5 rows x 145 columns]"
      ]
     },
     "execution_count": 18,
     "metadata": {},
     "output_type": "execute_result"
    }
   ],
   "source": [
    "# Assign\n",
    "df_items = df.copy()\n",
    "df.head()"
   ]
  },
  {
   "cell_type": "code",
   "execution_count": 19,
   "metadata": {},
   "outputs": [],
   "source": [
    "# Save for checking as xlsx\n",
    "# df.to_excel(\"checking.xlsx\", index = None, header=True)"
   ]
  },
  {
   "cell_type": "markdown",
   "metadata": {},
   "source": [
    "## Images"
   ]
  },
  {
   "cell_type": "code",
   "execution_count": 20,
   "metadata": {},
   "outputs": [],
   "source": [
    "# ##################\n",
    "# ### Downloader ###\n",
    "# ##################\n",
    "\n",
    "# # Download images from Unsplash and Pexels to be curated later, query with underscores\n",
    "# search = \"pink pepper\"\n",
    "# dashed_search = re.sub(\" \", \"-\", search)\n",
    "# unsplash_downloader(dashed_search, path_downloaded_photos)\n",
    "# pexels_downloader(search, path_downloaded_photos)\n",
    "\n",
    "# # Move images to the right folder, regardless of extension\n",
    "# move_dir(path_downloaded_photos, website_photos, \"*.png\")\n",
    "# move_dir(path_downloaded_photos, website_photos, \"*.jpg\")\n",
    "# move_dir(path_downloaded_photos, website_photos, \"*.jpeg\")"
   ]
  },
  {
   "cell_type": "code",
   "execution_count": 21,
   "metadata": {},
   "outputs": [],
   "source": [
    "# Images df\n",
    "# # Define the relative folder path\n",
    "# folder_path = '../static/images/photos'\n",
    "\n",
    "# # List of keys\n",
    "# list_of_keys.sort()\n",
    "\n",
    "# # Initialize item_info dictionary\n",
    "# item_info = {}  # Dictionary to store item information\n",
    "\n",
    "# # Initialize item counts, extensions, file names, and sources to empty lists for each item\n",
    "# for item in list_of_keys:\n",
    "#     item_info[item] = {'count': 0, 'extensions': [], 'file_names': [], 'sources': []}\n",
    "\n",
    "# # Iterate through the files in the folder\n",
    "# for filename in os.listdir(folder_path):\n",
    "#     if os.path.isfile(os.path.join(folder_path, filename)):\n",
    "#         # Extract the item name, extension, file name, and source from the file name\n",
    "#         item_name = filename.split('-')[0]\n",
    "#         extension = filename.split('.')[-1]\n",
    "#         file_name = filename\n",
    "#         source = filename.split('-')[2] if len(filename.split('-')) > 2 else \"\"\n",
    "#         # Remove the file extension from the source\n",
    "#         source = source.split('.')[0]\n",
    "        \n",
    "#         # Check if the item name is in the list_of_items\n",
    "#         if item_name in list_of_keys:\n",
    "#             item_info[item_name]['count'] += 1\n",
    "#             item_info[item_name]['extensions'].append(extension)\n",
    "#             item_info[item_name]['file_names'].append(file_name)\n",
    "#             item_info[item_name]['sources'].append(source)\n",
    "\n",
    "# # Create a Pandas DataFrame from the item_info dictionary\n",
    "# data = {'key': [], 'count': [], 'source': [], 'extension': []}\n",
    "# for item, info in item_info.items():\n",
    "#     data['key'].append(item)\n",
    "#     data['count'].append(info['count'])\n",
    "#     data['source'].append(', '.join(info['sources']))\n",
    "#     data['extension'].append(', '.join(info['extensions']))\n",
    "\n",
    "# df = pd.DataFrame(data)\n",
    "\n",
    "# # Fill in missing items with 0 image counts and empty sources, extensions\n",
    "# for item in list_of_keys:\n",
    "#     if item not in df['key'].values:\n",
    "#         df = df.append({'key': item, 'count': 0, 'source': '', 'extension': ''}, ignore_index=True)\n",
    "\n",
    "# # Reorder the DataFrame with columns 'item', 'count', 'source', 'extension'\n",
    "# df = df[['key', 'count', 'source', 'extension']]\n",
    "\n",
    "# # Sort the DataFrame by 'item'\n",
    "# df = df.sort_values(by='key')\n",
    "\n",
    "# # Reset the index of the DataFrame\n",
    "# df = df.reset_index(drop=True)\n",
    "\n",
    "# # Rename the columns\n",
    "# df.rename(columns={'count': 'img_count', 'source': 'img_source', 'extension': 'img_extension'}, inplace=True)\n",
    "\n",
    "# # Save\n",
    "# df_images = df.copy()\n",
    "\n",
    "# # Display the final DataFrame\n",
    "# print(df)\n",
    "\n",
    "# # Merge the two dataframes\n",
    "# df_items = pd.merge(df_items, df_images, on='key', how='left')"
   ]
  },
  {
   "cell_type": "code",
   "execution_count": 22,
   "metadata": {},
   "outputs": [],
   "source": [
    "# Create thumbnails for images\n",
    "for photo in list_files(\"../static/images/photos\"):\n",
    "    create_thumbnail(photo)"
   ]
  },
  {
   "cell_type": "markdown",
   "metadata": {},
   "source": [
    "## Names"
   ]
  },
  {
   "cell_type": "code",
   "execution_count": 23,
   "metadata": {},
   "outputs": [],
   "source": [
    "# # Read and store content of an excel file \n",
    "# df = pd.read_excel(path_in+\"names.xlsx\")\n",
    "\n",
    "# # Write the dataframe object into csv file\n",
    "# df.to_csv (path_in+\"names.csv\", index = None, header=True)\n",
    "\n",
    "# # Load in dataset of names\n",
    "# df = pd.read_csv(path_in+'names.csv', header =[0], delimiter=',', encoding=\"utf-8\")\n",
    "\n",
    "# # Select ones to include\n",
    "# df = df.loc[df['include'] == 'yes'] # include ones to include"
   ]
  },
  {
   "cell_type": "code",
   "execution_count": 24,
   "metadata": {},
   "outputs": [],
   "source": [
    "# # Change NaN to empty string\n",
    "# df.fillna('', inplace=True)\n",
    "\n",
    "# # Info\n",
    "# print(df.shape[0], \"names in total.\")\n",
    "\n",
    "# # Assign\n",
    "# df_names = df.copy()"
   ]
  },
  {
   "cell_type": "markdown",
   "metadata": {},
   "source": [
    "## Etymologies"
   ]
  },
  {
   "cell_type": "code",
   "execution_count": 25,
   "metadata": {},
   "outputs": [
    {
     "name": "stdout",
     "output_type": "stream",
     "text": [
      "84 words in total\n",
      "['tester', 'allspice', 'fulful ifranji', 'duoxiangguo', 'pimento', 'anise', 'anisun', 'huiqin', 'asafoetida', 'hing', 'hiltit', 'anjudan', 'awei', 'xingqu', 'caraway', 'karawiya', 'geluzi', 'cardamom', 'amomum', 'hal', 'qaqulla', 'doukou', 'cassia', 'salikha', 'rougui', 'cinnamon', 'darsini', 'qirfa', 'chile', 'fulful harr', 'lajiao', 'paprika', 'clove', 'qaranful', 'dingxiang', 'coriander', 'kuzbura', 'yansui', 'husui', 'cumin', 'kammun', 'ziran', 'dill', 'shibitt', 'shiluo', 'fennel', 'shamar', 'huixiang', 'fenugreek', 'hulba', 'huluba', 'ginger', 'zanjabil', 'jiang', 'long pepper', 'darfilfil', 'biba', 'mace', 'basbas', 'roudoukoupi', 'nutmeg', 'jawz al-tib', 'roudoukou', 'pepper', 'fulful', 'hujiao', 'bors', 'saffron', 'zafaran', 'fanhonghua', 'Sichuan pepper', 'fagara', 'fulful sitshuwan', 'huajiao', 'star anise', 'yansun najmi', 'bajiaohuixiang', 'badian', 'turmeric', 'kurkum', 'jianghuang', 'vanilla', 'faniliya', 'xiangcao']\n",
      "     # include lang     item spice word skip doubt complex        language  \\\n",
      "0  1.0     yes   en  saffron   NaN  NaN  NaN   NaN     NaN         English   \n",
      "1  2.0     yes   en  saffron   NaN  NaN  NaN   NaN     NaN          French   \n",
      "2  3.0     yes   en  saffron   NaN  NaN  NaN   NaN     NaN  Medieval Latin   \n",
      "3  4.0     yes   en  saffron   NaN  NaN  NaN   NaN     NaN          Arabic   \n",
      "\n",
      "   ... ref page  reference                                           ref link  \\\n",
      "0  ...      NaN         OE            https://www.etymonline.com/word/saffron   \n",
      "1  ...      NaN        MED  https://quod.lib.umich.edu/m/middle-english-di...   \n",
      "2  ...      NaN        MED  https://quod.lib.umich.edu/m/middle-english-di...   \n",
      "3  ...      NaN  Hans-Wehr  http://ejtaal.net/aa/#hw4=451,ll=1274,ls=5,la=...   \n",
      "\n",
      "  ref page2 reference2                               ref link2 done  \\\n",
      "0       NaN        NaN                                     NaN  yes   \n",
      "1       NaN       tlfi  https://www.cnrtl.fr/etymologie/safran  yes   \n",
      "2       NaN        NaN                                     NaN  yes   \n",
      "3       NaN        NaN                                     NaN  yes   \n",
      "\n",
      "  Unnamed: 45 Unnamed: 46 Unnamed: 47  \n",
      "0         NaN         NaN         NaN  \n",
      "1         NaN         NaN         NaN  \n",
      "2         NaN         NaN         NaN  \n",
      "3         NaN         NaN         NaN  \n",
      "\n",
      "[4 rows x 48 columns]\n"
     ]
    },
    {
     "name": "stderr",
     "output_type": "stream",
     "text": [
      "c:\\Users\\Saga\\anaconda3\\envs\\work\\Lib\\site-packages\\numpy\\core\\fromnumeric.py:59: FutureWarning:\n",
      "\n",
      "'DataFrame.swapaxes' is deprecated and will be removed in a future version. Please use 'DataFrame.transpose' instead.\n",
      "\n"
     ]
    }
   ],
   "source": [
    "# Read and store content of an excel file \n",
    "read_file = pd.read_excel(path_in+\"etymologies.xlsx\")\n",
    "\n",
    "# Write the dataframe object into csv file\n",
    "read_file.to_csv (path_in+\"etymologies.csv\", index = None, header=True)\n",
    "\n",
    "# Load in dataset\n",
    "df_etymologies=pd.read_csv(path_in+'etymologies.csv', header =[0], delimiter=',', encoding=\"utf-8\")\n",
    "\n",
    "# Split the dataset wherever an empty row is found\n",
    "df_list_with_na = np.split(df_etymologies, df_etymologies[df_etymologies.isnull().all(1)].index)\n",
    "\n",
    "# Drop NAs and reset the index\n",
    "df_list = []\n",
    "for df in df_list_with_na:\n",
    "  df = df.dropna(how='all')\n",
    "  df.reset_index(inplace=True, drop=True)\n",
    "  df_list.append(df)\n",
    "\n",
    "# Automatically extract IDs from the dataset\n",
    "list_of_etymologies = []\n",
    "for df in df_list:\n",
    "  # print(df['item'].iloc[0])\n",
    "  df = df.dropna(how='all')\n",
    "  df.reset_index(drop=True)\n",
    "  item = str(df['item'].iloc[0])\n",
    "  list_of_etymologies.append(item)\n",
    "\n",
    "# Print the number if IDs and what are they\n",
    "length = len(df_list)\n",
    "print(length, \"words in total\")\n",
    "print(list_of_etymologies)\n",
    "\n",
    "#Create a defaultdict of spice-word etymologies\n",
    "etymologies=defaultdict(list)\n",
    "for i in range(length):\n",
    "  etymologies[list_of_etymologies[i]]=df_list[i]\n",
    "\n",
    "# Testing\n",
    "print(etymologies['saffron'])"
   ]
  },
  {
   "cell_type": "markdown",
   "metadata": {},
   "source": [
    "### Etymology box for LaTeX"
   ]
  },
  {
   "cell_type": "code",
   "execution_count": 26,
   "metadata": {},
   "outputs": [],
   "source": [
    "# key = \"tester\"\n",
    "\n",
    "# ################################################################################\n",
    "\n",
    "# # The following code will create an etymology box environment for the key, to be used in LaTeX\n",
    "# print(\"Started the generation of '\" + key + \"' as etymbox...\")\n",
    "\n",
    "# df_local = etymologies[key]\n",
    "# # df_local.fillna('', inplace=True)\n",
    "\n",
    "# # # Skipping those marked\n",
    "# df_local = df_local[df_local['boxskip'] != 'yes']\n",
    "# df_local.reset_index(inplace=True, drop=True)\n",
    "\n",
    "# # # Replace empty cells with NaNs\n",
    "# # df_local.replace(r'^\\s*$', np.nan, regex=True, inplace=True)\n",
    "# # df_local.replace(r'^nan$', np.nan, regex=True, inplace=True)\n",
    "\n",
    "# # Create content and sources stage by stage\n",
    "# content = \"\"\n",
    "# source = \"\"\n",
    "# sources = \"\"\n",
    "# source_list = []\n",
    "# nl = \"\\n\"\n",
    "\n",
    "# for index, row in df_local.iterrows():\n",
    "#   stage = \"< \"\n",
    "#   if pd.notna(row['complex']): # complex relationships\n",
    "#     row['complex'] = re.sub(\"and from\", \"+\", row['complex'])\n",
    "#     stage += row['complex'] + \" \"\n",
    "#   if pd.notna(row['language']): # language\n",
    "#     stage += \"\\\\textbf{\" + row['language'] + \"} \"\n",
    "#   if pd.notna(row['script']): # script\n",
    "#     script = \"{\" + row['script'] + \"} \"\n",
    "#     if row['language'] == 'Chinese':\n",
    "#       script = \"\\\\tc{\" + row['script'] + \"} \"\n",
    "#     stage += script\n",
    "#   if pd.notna(row['term']): # term\n",
    "#     stage += \"\\\\textit{\" + row['term'] + \"} \"\n",
    "#   if pd.notna(row['IPA']): # IPA\n",
    "#     stage += row['IPA'] + \" \"\n",
    "#   if pd.notna(row['meaning']): # meaning\n",
    "#     stage += \"`\" + row['meaning'] + \"' \"\n",
    "#   if pd.notna(row['literal']): # literal meaning\n",
    "#     stage += \"[\" + row['literal'] + \"] \"\n",
    "#   stage = re.sub(' $', '', stage)\n",
    "#   stage += \", \"\n",
    "#   if pd.notna(row['explanation']): # explanation\n",
    "#     stage += row['explanation'] + \" \"\n",
    "#   if pd.notna(row['remark']): # remark\n",
    "#     stage += \"(\" + row['remark'] + \") \"\n",
    "#   stage = re.sub(',? ?$', '', stage)\n",
    "\n",
    "#   if pd.notna(row['date']): # dates\n",
    "#     stage += \", \"\n",
    "#     row['date'] = re.sub('a(?=\\d)', 'a. ', row['date'])\n",
    "#     row['date'] = re.sub('c(?=\\d)', 'ca. ', row['date'])\n",
    "#     if re.match('^-\\d\\d?$', row['date']): # if is a century BC\n",
    "#       row['date'] = re.sub(\"-\", \"\", row['date'])\n",
    "#       date = \"\\\\nth{\" + row['date'] + \"} c. \\BC{}\" # ARAB NUMERALS\n",
    "#       # date = \" \" + roman(row['date']) + \" \\BC{}\" # ROMAN NUMERALS\n",
    "#     elif re.match('^\\d\\d?$', row['date']): # if is a century AD\n",
    "#       date = \"\\\\nth{\" + row['date'] + \"} c. \\AD{}\" # ARAB NUMERALS\n",
    "#       # date = \" \" + roman(row['date']) + \" \\AD{}\" # ROMAN NUMERALS\n",
    "#     else:\n",
    "#       date = row['date'] + \" \" # if it's a year\n",
    "#     stage += date\n",
    "#     stage = re.sub(',? ?$', '', stage)\n",
    "#   if pd.notna(row['cognates']): # cognates\n",
    "#     stage += \"; cf. cognates \" + row['cognates'] + \" \"\n",
    "#   if pd.notna(row['derivates']): # cognates\n",
    "#     if pd.notna(row['cognates']):\n",
    "#       stage = re.sub(' $', '', stage)\n",
    "#       stage += \"; \" + row['derivates'] + \" \"\n",
    "#     else:\n",
    "#       stage = re.sub(' $', '', stage)\n",
    "#       stage += \"; cf. \" + row['derivates'] + \" \"\n",
    "#   stage = re.sub(',? ?$', '', stage)\n",
    "#   # stage = re.sub('cf\\..*?(cf\\.)', '', stage)\n",
    "\n",
    "# # Final touches\n",
    "#   if row['doubt'] == 'yes':\n",
    "#     stage = re.sub(r'<', '<\\\\\\\\textss{?}', stage) # ???\n",
    "#   if row['complex'] == '+':\n",
    "#     stage = re.sub('<', '', stage)\n",
    "#   if row['complex'] == 'or from':\n",
    "#     stage = re.sub('<', '', stage)\n",
    "#   content += stage + nl\n",
    "\n",
    "# # Sources\n",
    "#   source=\"\"\n",
    "#   if pd.notna(row['source zotero']):\n",
    "#     source = row['source zotero']\n",
    "#     print(\"1\",source)\n",
    "#     if '{' in source:\n",
    "#       source = \"s\" + row['source zotero'].lower()\n",
    "#       print(source)\n",
    "#     else:\n",
    "#       source = \"{\" + row['source zotero'].lower() + \"}\"\n",
    "#       print(source)\n",
    "#     if pd.notna(row['source page']):\n",
    "#       source = \"[\" + str(row['source page']) + \"]{\" + row['source zotero'].lower() + \"}\"\n",
    "#       print(\"4\",source)\n",
    "#       if row['source page'].isalpha() == True:\n",
    "#         source = \"[s.v. \" + str(row['source page']) + \"]{\" + row['source zotero'].lower() + \"}\"\n",
    "#         print(\"5\",source)\n",
    "#     source = \"\\\\textcite\" + source\n",
    "#   print(source)\n",
    "#   source_list.append(source)\n",
    "\n",
    "# # clear duplicates from sources:\n",
    "# print(\"SL1: \", source_list)\n",
    "# # source_set = sorted(set(source_list), key=source_list.index)\n",
    "# source_set = set(source_list)\n",
    "# print(\"SS2: \", source_set)\n",
    "# source_list2 = list(source_set)\n",
    "# print(\"S3: \", source_list2)\n",
    "# sources_unduplicated = '; '.join(source_list2)\n",
    "# print(\"S4: \", sources_unduplicated)\n",
    "# # test for duplicates\n",
    "# newlist = [] # empty list to hold unique elements from the list\n",
    "# duplist = [] # empty list to hold the duplicate elements from the list\n",
    "# for i in source_list:\n",
    "#     if i not in newlist:\n",
    "#         newlist.append(i)\n",
    "#     else:\n",
    "#         duplist.append(i) # this method catches the first duplicate entries, and appends them to the list\n",
    "\n",
    "# # The next stage is to print the duplicate entries, and the unique entries\n",
    "# print(\"List of duplicates\", duplist)\n",
    "# print(\"Unique Item List\", newlist) \n",
    "# if len(duplist) > 0:\n",
    "#   # print(\"UNDUPL\")\n",
    "#   sources = sources_unduplicated\n",
    "# else:\n",
    "#   # print(\"ORI\")\n",
    "#   sources =  '; '.join(source_list)\n",
    "# # print(\"S5: \", sources)\n",
    "\n",
    "# sources =  '; '.join(source_list)\n",
    "\n",
    "# # Cleaning\n",
    "# sources = re.sub(\"; $\", \"\", sources)\n",
    "# sources = re.sub(\"^; \", \"\", sources)\n",
    "# sources = re.sub(\"(; )+\", \"; \", sources)\n",
    "# sources = \"\\\\footnote{\" + sources + \"}\\n\"\n",
    "\n",
    "# content = re.sub(\"\\n$\", \"\", content)\n",
    "# content = re.sub(r\"^< \", \"\", content) # delete the first <\n",
    "# content = re.sub(r\"\\n,\", \",\", content)\n",
    "# content = re.sub(r\" nan \", \" \", content)\n",
    "# content = re.sub(\"(<\\.\\n?)+$\", \"\", content)\n",
    "\n",
    "# content += sources\n",
    "\n",
    "# env_begin = r\"\\begin{etymology}\" + \"\\label{ety:\" + df_local['item'].iloc[0] + \"}\" + nl \n",
    "# env_end = r\"\\end{etymology}\"\n",
    "\n",
    "# box = env_begin + content + env_end\n",
    "# box = re.sub(r\"\\u200e\", \"\", box) #removes right to left mark\n",
    "\n",
    "# # Save the spicebox as a standalone tex file\n",
    "\n",
    "# filename = re.sub(\" \", \"_\", key)\n",
    "# filename = filename.lower()\n",
    "# f = open(path_out_tex + \"{}.tex\".format(\"etymbox_\" + filename), \"w\", encoding='utf-8')\n",
    "# f.write(box)\n",
    "# f.close()\n",
    "# print(\"Etymology-box '\" + str(key) + \"' as a tex file was created.\")\n",
    "# box\n"
   ]
  },
  {
   "cell_type": "code",
   "execution_count": 27,
   "metadata": {},
   "outputs": [],
   "source": [
    "# def etymbox(key):\n",
    "  \n",
    "#   # The following code will create a etymology box environment for the key, to be used in LaTeX\n",
    "#   print(\"Started the generation of '\" + key + \"' as etymbox...\")\n",
    "\n",
    "#   df_local = etymologies[key]\n",
    "#   # df_local.fillna('', inplace=True)\n",
    "\n",
    "#   # # Skipping those marked\n",
    "#   df_local = df_local[df_local['boxskip'] != 'yes']\n",
    "#   df_local.reset_index(inplace=True, drop=True)\n",
    "\n",
    "#   # # Replace empty cells with NaNs\n",
    "#   # df_local.replace(r'^\\s*$', np.nan, regex=True, inplace=True)\n",
    "#   # df_local.replace(r'^nan$', np.nan, regex=True, inplace=True)\n",
    "\n",
    "#   # Create content and sources stage by stage\n",
    "#   content = \"\"\n",
    "#   source = \"\"\n",
    "#   sources = \"\"\n",
    "#   source_list = []\n",
    "#   nl = \"\\n\"\n",
    "\n",
    "#   for index, row in df_local.iterrows():\n",
    "#     stage = \"< \"\n",
    "#     if pd.notna(row['complex']): # complex relationships\n",
    "#       row['complex'] = re.sub(\"and from\", \"+\", row['complex'])\n",
    "#       stage += row['complex'] + \" \"\n",
    "#     if pd.notna(row['language']): # language\n",
    "#       stage += \"\\\\textbf{\" + row['language'] + \"} \"\n",
    "#     if pd.notna(row['script']): # script\n",
    "#       script = \"{\" + row['script'] + \"} \"\n",
    "#       if row['language'] == 'Chinese':\n",
    "#         script = \"\\\\tc{\" + row['script'] + \"} \"\n",
    "#       stage += script\n",
    "#     if pd.notna(row['term']): # term\n",
    "#       stage += \"\\\\textit{\" + row['term'] + \"} \"\n",
    "#     if pd.notna(row['IPA']): # IPA\n",
    "#       stage += row['IPA'] + \" \"\n",
    "#     if pd.notna(row['meaning']): # meaning\n",
    "#       stage += \"`\" + row['meaning'] + \"' \"\n",
    "#     if pd.notna(row['literal']): # literal meaning\n",
    "#       stage += \"[\" + row['literal'] + \"] \"\n",
    "#     stage = re.sub(' $', '', stage)\n",
    "#     stage += \", \"\n",
    "#     if pd.notna(row['explanation']): # explanation\n",
    "#       stage += row['explanation'] + \" \"\n",
    "#     if pd.notna(row['remark']): # remark\n",
    "#       stage += \"(\" + row['remark'] + \") \"\n",
    "#     stage = re.sub(',? ?$', '', stage)\n",
    "\n",
    "#     if pd.notna(row['date']): # dates\n",
    "#       stage += \", \"\n",
    "#       row['date'] = re.sub('a(?=\\d)', 'a. ', row['date'])\n",
    "#       row['date'] = re.sub('c(?=\\d)', 'ca. ', row['date'])\n",
    "#       if re.match('^-\\d\\d?$', row['date']): # if is a century BC\n",
    "#         row['date'] = re.sub(\"-\", \"\", row['date'])\n",
    "#         date = \"\\\\nth{\" + row['date'] + \"} c. \\BC{}\" # ARAB NUMERALS\n",
    "#         # date = \" \" + roman(row['date']) + \" \\BC{}\" # ROMAN NUMERALS\n",
    "#       elif re.match('^\\d\\d?$', row['date']): # if is a century AD\n",
    "#         date = \"\\\\nth{\" + row['date'] + \"} c. \\AD{}\" # ARAB NUMERALS\n",
    "#         # date = \" \" + roman(row['date']) + \" \\AD{}\" # ROMAN NUMERALS\n",
    "#       else:\n",
    "#         date = row['date'] + \" \" # if it's a year\n",
    "#       stage += date\n",
    "#       stage = re.sub(',? ?$', '', stage)\n",
    "#     if pd.notna(row['cognates']): # cognates\n",
    "#       stage += \"; cf. cognates \" + row['cognates'] + \" \"\n",
    "#     if pd.notna(row['derivates']): # cognates\n",
    "#       if pd.notna(row['cognates']):\n",
    "#         stage = re.sub(' $', '', stage)\n",
    "#         stage += \"; \" + row['derivates'] + \" \"\n",
    "#       else:\n",
    "#         stage = re.sub(' $', '', stage)\n",
    "#         stage += \"; cf. \" + row['derivates'] + \" \"\n",
    "#     stage = re.sub(',? ?$', '', stage)\n",
    "#     # stage = re.sub('cf\\..*?(cf\\.)', '', stage)\n",
    "\n",
    "#   # Final touches\n",
    "#     if row['doubt'] == 'yes':\n",
    "#       stage = re.sub(r'<', '<\\\\\\\\textss{?}', stage) # ???\n",
    "#     if row['complex'] == '+':\n",
    "#       stage = re.sub('<', '', stage)\n",
    "#     if row['complex'] == 'or from':\n",
    "#       stage = re.sub('<', '', stage)\n",
    "#     content += stage + nl\n",
    "\n",
    "#   # Sources\n",
    "#     source=\"\"\n",
    "#     if pd.notna(row['source zotero']):\n",
    "#       source = row['source zotero']\n",
    "#       # print(source)\n",
    "#       if '{' in source:\n",
    "#         source = \"s\" + row['source zotero'].lower()\n",
    "#         # print(source)\n",
    "#       else:\n",
    "#         source = \"{\" + row['source zotero'].lower() + \"}\"\n",
    "#         # print(source)\n",
    "#       if pd.notna(row['source page']):\n",
    "#         source = \"[\" + str(row['source page']) + \"]{\" + row['source zotero'].lower() + \"}\"\n",
    "#         # print(source)\n",
    "#         if row['source page'].isalpha() == True:\n",
    "#           source = \"[s.v. \" + str(row['source page']) + \"]{\" + row['source zotero'].lower() + \"}\"\n",
    "#           # print(source)\n",
    "#       source = \"\\\\textcite\" + source\n",
    "#     # print(source)\n",
    "#     source_list.append(source)\n",
    "\n",
    "#   # clear duplicates from sources:\n",
    "#   # print(\"SL1: \", source_list)\n",
    "#   # source_set = sorted(set(source_list), key=source_list.index)\n",
    "#   source_set = set(source_list)\n",
    "#   # print(\"SS2: \", source_set)\n",
    "#   source_list2 = list(source_set)\n",
    "#   # print(\"S3: \", source_list2)\n",
    "#   sources_unduplicated = '; '.join(source_list2)\n",
    "#   # print(\"S4: \", sources_unduplicated)\n",
    "#   # test for duplicates\n",
    "#   newlist = [] # empty list to hold unique elements from the list\n",
    "#   duplist = [] # empty list to hold the duplicate elements from the list\n",
    "#   for i in source_list:\n",
    "#       if i not in newlist:\n",
    "#           newlist.append(i)\n",
    "#       else:\n",
    "#           duplist.append(i) # this method catches the first duplicate entries, and appends them to the list\n",
    "#   # The next stage is to print the duplicate entries, and the unique entries\n",
    "#   # print(\"List of duplicates\", duplist)\n",
    "#   # print(\"Unique Item List\", newlist) \n",
    "#   if len(duplist) > 0:\n",
    "#     # print(\"UNDUPL\")\n",
    "#     sources = sources_unduplicated\n",
    "#   else:\n",
    "#     # print(\"ORI\")\n",
    "#     sources =  '; '.join(source_list)\n",
    "#   # print(\"S5: \", sources)\n",
    "\n",
    "#   sources =  '; '.join(source_list)\n",
    "\n",
    "#   # Cleaning\n",
    "#   sources = re.sub(\"; $\", \"\", sources)\n",
    "#   sources = re.sub(\"^; \", \"\", sources)\n",
    "#   sources = re.sub(\"(; )+\", \"; \", sources)\n",
    "#   sources = \"\\\\footnote{\" + sources + \"}\\n\"\n",
    "\n",
    "#   content = re.sub(\"\\n$\", \"\", content)\n",
    "#   content = re.sub(r\"^< \", \"\", content) # delete the first <\n",
    "#   content = re.sub(r\"\\n,\", \",\", content)\n",
    "#   content = re.sub(r\" nan \", \" \", content)\n",
    "#   content = re.sub(\"(<\\.\\n?)+$\", \"\", content)\n",
    "\n",
    "#   content += sources\n",
    "\n",
    "#   env_begin = r\"\\begin{etymology}\" + \"\\label{ety:\" + df_local['item'].iloc[0] + \"}\" + nl \n",
    "#   env_end = r\"\\end{etymology}\"\n",
    "\n",
    "#   box = env_begin + content + env_end\n",
    "#   box = re.sub(r\"\\u200e\", \"\", box) #removes right to left mark\n",
    "\n",
    "#   # Save the spicebox as a standalone tex file\n",
    "#   filename = re.sub(\" \", \"_\", key)\n",
    "#   filename = filename.lower()\n",
    "#   f = open(path_out_tex + \"{}.tex\".format(\"etymbox_\" + filename), \"w\", encoding='utf-8')  \n",
    "#   f.write(box)\n",
    "#   f.close()\n",
    "#   print(\"Etymology-box '\" + str(key) + \"' as a tex file was created.\")\n",
    "\n",
    "#   return box\n",
    "\n",
    "# etymbox(\"tester\")"
   ]
  },
  {
   "cell_type": "markdown",
   "metadata": {},
   "source": [
    "### Etymology box for Markdown"
   ]
  },
  {
   "cell_type": "code",
   "execution_count": 28,
   "metadata": {},
   "outputs": [
    {
     "name": "stdout",
     "output_type": "stream",
     "text": [
      "Started the generation of 'saffron' as etymbox...\n"
     ]
    },
    {
     "data": {
      "text/plain": [
       "\"**English** *saffron*\\n< **French** *safran* 'id.'\\n< **Medieval Latin** *saffrānum* 'id.'\\n< **Arabic** زعفران *zaʿfarān* 'id.' (not connected with \\\\textit{ṣafrā'} feminine of \\\\textit{aṣfar} `yellow')\\n\""
      ]
     },
     "execution_count": 28,
     "metadata": {},
     "output_type": "execute_result"
    }
   ],
   "source": [
    "def etymbox(e):\n",
    "\n",
    "  # The following code will create a etymology box environment for the key, to be used in Markdown\n",
    "  print(\"Started the generation of '\" + e + \"' as etymbox...\")\n",
    "\n",
    "  # Select word\n",
    "  df_local = etymologies[e]\n",
    "  # df_local.fillna('', inplace=True)\n",
    "\n",
    "  # Skipping those marked\n",
    "  df_local = df_local[df_local['skip'] != 'yes']\n",
    "  df_local.reset_index(inplace=True, drop=True)\n",
    "\n",
    "  # # Replace empty cells with NaNs\n",
    "  # df_local.replace(r'^\\s*$', np.nan, regex=True, inplace=True)\n",
    "  # df_local.replace(r'^nan$', np.nan, regex=True, inplace=True)\n",
    "\n",
    "  content = \"\"\n",
    "  \n",
    "  # Iterate through a word's etymology dataframe (stage by stage = row by row)\n",
    "  for index, row in df_local.iterrows():\n",
    "    # Initialize stage, add an '<' if its not the first stage\n",
    "    if index == 0:\n",
    "      stage = \"\"\n",
    "    else:\n",
    "      stage = \"< \"\n",
    "    # If there are complex relations, add them (e.g., partly, and, or)\n",
    "    if pd.notna(row['complex']):\n",
    "      stage += row['complex'] + \" \"\n",
    "    # Add language (in bold)\n",
    "    if pd.notna(row['language']):\n",
    "      stage += \"**\" + row['language'] + \"** \"\n",
    "    # Add the term with native script (if exists)\n",
    "    if pd.notna(row['script']):\n",
    "      stage += row['script'] + \" \"\n",
    "    # Add the term with transcription (in italics)\n",
    "    if pd.notna(row['term']):\n",
    "      stage += \"*\" + row['term'] + \"* \"\n",
    "    # Add /IPA/\n",
    "    if pd.notna(row['IPA']):\n",
    "      stage += \"/\" + row['IPA'] + \"/ \"\n",
    "    # Add 'meaning', gloss\n",
    "    if pd.notna(row['meaning']):\n",
    "      stage += \"'\" + row['meaning'] + \"' \"\n",
    "    # Add the [literal meaning] if there is one\n",
    "    if pd.notna(row['gloss']):\n",
    "      stage += \"[\" + row['gloss'] + \"] \"\n",
    "    # Clear ending\n",
    "    stage = re.sub(' $', '', stage)\n",
    "    # Add explanation\n",
    "    if pd.notna(row['explanation']):\n",
    "      stage += \", \" + row['explanation'] + \" \"\n",
    "    # Add (remark)\n",
    "    if pd.notna(row['remark']):\n",
    "      stage += \" (\" + row['remark'] + \") \"\n",
    "    # Clear ending\n",
    "    stage = re.sub(\" +\", \" \", stage)\n",
    "    stage = re.sub(\",? ?$\", \"\", stage)\n",
    "\n",
    "    # Add date, if there is a date\n",
    "    if pd.notna(row['date']):\n",
    "      # If it's a year\n",
    "      date = row['date']\n",
    "\n",
    "    # Add century if there is no date\n",
    "    if pd.notna(row['century']) and pd.isna(row['date']):\n",
    "      \n",
    "      # If it's a century BC\n",
    "      if re.match('^-\\d\\d?\\??$', row['century']):\n",
    "        # Remove dash\n",
    "        row['century'] = re.sub(\"-\", \"\", row['century'])\n",
    "        # If there is question mark\n",
    "        if re.match('\\d\\?', row['century']):\n",
    "          # Remove the question mark\n",
    "          row['century'] = re.sub(\"\\?\", \"\", row['century'])\n",
    "          # Date BC\n",
    "          # date = roman(int(row['century'])) + \" BC?\" # ROMAN NUMERALS\n",
    "          date = row['century'] + \" c. BC?\" # ARAB NUMERALS\n",
    "        else:\n",
    "          # date = roman(int(row['century'])) + \" BC\" # ROMAN NUMERALS\n",
    "          date = row['century'] + \" c. BC\" # ARAB NUMERALS\n",
    "\n",
    "      # If it is a century AD\n",
    "      elif re.match('^\\d\\d?\\??$', row['century']):\n",
    "        # If there is question mark\n",
    "        if re.match('\\d\\?', row['century']):\n",
    "          # Remove the question mark\n",
    "          row['century'] = re.sub(\"\\?\", \"\", row['century'])\n",
    "          # Date AD\n",
    "          # date = \"AD \" + roman(int(row['century'])) + \"?\" # ROMAN NUMERALS\n",
    "          date = \"AD \" + row['century'] + \" c.\" # ARAB NUMERALS\n",
    "        else:\n",
    "          # date = \"AD \" + roman(int(row['century'])) # ROMAN NUMERALS\n",
    "          date = \"AD \" + row['century'] + \" c.\" # ARAB NUMERALS\n",
    "\n",
    "      # Add date to stage\n",
    "      stage += \", \" + date\n",
    "      \n",
    "    # Clear ending\n",
    "    stage = re.sub(',? ?$', '', stage)\n",
    "\n",
    "    # # If both cognates and derivates\n",
    "    # if pd.notna(row['cognates']) and pd.notna(row['derivates']):\n",
    "    #   stage += \"; cf. cognates \" + row['cognates'] + \"; derivates \" + row['derivates'] + \" \"\n",
    "    # # If cognates only\n",
    "    # if pd.notna(row['cognates']) and pd.isna(row['derivates']):\n",
    "    #   stage += \"; cf. cognates \" + row['cognates'] + \" \"\n",
    "    # # If derivates only\n",
    "    # if pd.notna(row['derivates']) and pd.isna(row['cognates']):\n",
    "    #   stage += \"; cf. derivates \" + row['derivates'] + \" \"\n",
    "    \n",
    "    # # Clear ending\n",
    "    # stage = re.sub(';?,? ?$', '', stage)\n",
    "\n",
    "    # # If stage is doubtful, use '<?'\n",
    "    # if row['doubt'] == 'yes':\n",
    "    #   stage = re.sub('<', '<\\?', stage)\n",
    "    # # If stage is \"complex\", remove '<'\n",
    "    # if pd.notna(row['complex']):\n",
    "    #   stage = re.sub('<', '', stage)\n",
    "\n",
    "    # # Sources (at each stage) A\n",
    "    # source = \"\"\n",
    "    # # If there is source (zotero), add\n",
    "    # if pd.notna(row['source']):\n",
    "    #   source = '\\\"' + row['source'] + '\\\"'\n",
    "    #   # If there is page, add\n",
    "    #   if pd.notna(row['source page']):\n",
    "    #     source = '\\\"' + str(row['source'].lower()) + '\\\" \\\"' + str(row['source page']) + '\\\"'\n",
    "    # # Add the Hugo shortcode syntax \n",
    "    # source = r' {{< cite ' + source + r' >}}'\n",
    "    # # Create content\n",
    "    # content += stage + source + \"\\n\"\n",
    "\n",
    "    # # Sources (once in the end, removing duplicates) B\n",
    "    # # If there is source (zotero), add\n",
    "    # if pd.notna(row['source']):\n",
    "    #   sources += row['source'] + \";\"\n",
    "    #   # If there is page, add\n",
    "    #   if pd.notna(row['source page']):\n",
    "    #     source_pages += str(row['source page']) + \";\"\n",
    "    #   else:\n",
    "    #     source_pages += \";\"\n",
    "    # # Create content\n",
    "    # content += stage + \"\\n\"\n",
    "\n",
    "    # Create content\n",
    "    content += stage + \"\\n\"\n",
    "    \n",
    "    # Sources C\n",
    "    # If there is source (zotero), add\n",
    "#     if pd.notna(row['sources']):\n",
    "#       sources += row['sources'] + \";\"\n",
    "      \n",
    "#   # Turn sources into a list divided by ';'\n",
    "#   source_list = sources.split(';')\n",
    "#   # Remove duplicates\n",
    "#   source_list = list(dict.fromkeys(source_list))\n",
    "#   # Convert list to string\n",
    "#   sources = ';'.join(source_list)    \n",
    "\n",
    "#   # Clean ending\n",
    "#   sources = re.sub(';?$', '', sources)\n",
    "# #   source_pages = re.sub(';?$', '', source_pages)\n",
    "\n",
    "#   # Add the Hugo-cite shortcode syntax\n",
    "#   sources = r' {{< cite \"' + sources + r'\" >}}'\n",
    "# #   source = r' {{< cite \"' + sources + r'\" \"' + source_pages + r'\" >}}'\n",
    "#   # Add source to content\n",
    "#   content += sources\n",
    "\n",
    "  # Cleaning\n",
    "  box = content\n",
    "  box = re.sub(r\"\\u200e\", \"\", box) # Removes right-to-left mark\n",
    "\n",
    "  # # Save the spicebox as a standalone markdown file (if ever needed)\n",
    "  # filename = re.sub(\" \", \"_\", key)\n",
    "  # filename = filename.lower()\n",
    "  # f = open(path_out_md + \"{}.md\".format(\"etymbox_\" + filename), \"w\", encoding='utf-8')  \n",
    "  # f.write(box)\n",
    "  # f.close()\n",
    "  # print(\"Etymology-box '\" + str(key) + \"' as a md file was created.\")\n",
    "\n",
    "  return box\n",
    "\n",
    "etymbox(\"saffron\")"
   ]
  },
  {
   "cell_type": "code",
   "execution_count": 29,
   "metadata": {},
   "outputs": [
    {
     "name": "stdout",
     "output_type": "stream",
     "text": [
      "Started the generation of 'tester' as etymbox...\n",
      "Started the generation of 'allspice' as etymbox...\n",
      "Started the generation of 'fulful ifranji' as etymbox...\n",
      "Started the generation of 'duoxiangguo' as etymbox...\n",
      "Started the generation of 'pimento' as etymbox...\n",
      "Started the generation of 'anise' as etymbox...\n",
      "Started the generation of 'anisun' as etymbox...\n",
      "Started the generation of 'huiqin' as etymbox...\n",
      "Started the generation of 'asafoetida' as etymbox...\n",
      "Started the generation of 'hing' as etymbox...\n",
      "Started the generation of 'hiltit' as etymbox...\n",
      "Started the generation of 'anjudan' as etymbox...\n",
      "Started the generation of 'awei' as etymbox...\n",
      "Started the generation of 'xingqu' as etymbox...\n",
      "Started the generation of 'caraway' as etymbox...\n",
      "Started the generation of 'karawiya' as etymbox...\n",
      "Started the generation of 'geluzi' as etymbox...\n",
      "Started the generation of 'cardamom' as etymbox...\n",
      "Started the generation of 'amomum' as etymbox...\n",
      "Started the generation of 'hal' as etymbox...\n",
      "Started the generation of 'qaqulla' as etymbox...\n",
      "Started the generation of 'doukou' as etymbox...\n",
      "Started the generation of 'cassia' as etymbox...\n",
      "Started the generation of 'salikha' as etymbox...\n",
      "Started the generation of 'rougui' as etymbox...\n",
      "Started the generation of 'cinnamon' as etymbox...\n",
      "Started the generation of 'darsini' as etymbox...\n",
      "Started the generation of 'qirfa' as etymbox...\n",
      "Started the generation of 'chile' as etymbox...\n",
      "Started the generation of 'fulful harr' as etymbox...\n",
      "Started the generation of 'lajiao' as etymbox...\n",
      "Started the generation of 'paprika' as etymbox...\n",
      "Started the generation of 'clove' as etymbox...\n",
      "Started the generation of 'qaranful' as etymbox...\n",
      "Started the generation of 'dingxiang' as etymbox...\n",
      "Started the generation of 'coriander' as etymbox...\n",
      "Started the generation of 'kuzbura' as etymbox...\n",
      "Started the generation of 'yansui' as etymbox...\n",
      "Started the generation of 'husui' as etymbox...\n",
      "Started the generation of 'cumin' as etymbox...\n",
      "Started the generation of 'kammun' as etymbox...\n",
      "Started the generation of 'ziran' as etymbox...\n",
      "Started the generation of 'dill' as etymbox...\n",
      "Started the generation of 'shibitt' as etymbox...\n",
      "Started the generation of 'shiluo' as etymbox...\n",
      "Started the generation of 'fennel' as etymbox...\n",
      "Started the generation of 'shamar' as etymbox...\n",
      "Started the generation of 'huixiang' as etymbox...\n",
      "Started the generation of 'fenugreek' as etymbox...\n",
      "Started the generation of 'hulba' as etymbox...\n",
      "Started the generation of 'huluba' as etymbox...\n",
      "Started the generation of 'ginger' as etymbox...\n",
      "Started the generation of 'zanjabil' as etymbox...\n",
      "Started the generation of 'jiang' as etymbox...\n",
      "Started the generation of 'long pepper' as etymbox...\n",
      "Started the generation of 'darfilfil' as etymbox...\n",
      "Started the generation of 'biba' as etymbox...\n",
      "Started the generation of 'mace' as etymbox...\n",
      "Started the generation of 'basbas' as etymbox...\n",
      "Started the generation of 'roudoukoupi' as etymbox...\n",
      "Started the generation of 'nutmeg' as etymbox...\n",
      "Started the generation of 'jawz al-tib' as etymbox...\n",
      "Started the generation of 'roudoukou' as etymbox...\n",
      "Started the generation of 'pepper' as etymbox...\n",
      "Started the generation of 'fulful' as etymbox...\n",
      "Started the generation of 'hujiao' as etymbox...\n",
      "Started the generation of 'bors' as etymbox...\n",
      "Started the generation of 'saffron' as etymbox...\n",
      "Started the generation of 'zafaran' as etymbox...\n",
      "Started the generation of 'fanhonghua' as etymbox...\n",
      "Started the generation of 'Sichuan pepper' as etymbox...\n",
      "Started the generation of 'fagara' as etymbox...\n",
      "Started the generation of 'fulful sitshuwan' as etymbox...\n",
      "Started the generation of 'huajiao' as etymbox...\n",
      "Started the generation of 'star anise' as etymbox...\n",
      "Started the generation of 'yansun najmi' as etymbox...\n",
      "Started the generation of 'bajiaohuixiang' as etymbox...\n",
      "Started the generation of 'badian' as etymbox...\n",
      "Started the generation of 'turmeric' as etymbox...\n",
      "Started the generation of 'kurkum' as etymbox...\n",
      "Started the generation of 'jianghuang' as etymbox...\n",
      "Started the generation of 'vanilla' as etymbox...\n",
      "Started the generation of 'faniliya' as etymbox...\n",
      "Started the generation of 'xiangcao' as etymbox...\n",
      "Done.\n"
     ]
    }
   ],
   "source": [
    "# Creating a dictionary of etymologies\n",
    "dictionary_of_etymologies = {}\n",
    "\n",
    "# Loop\n",
    "for e in list_of_etymologies:\n",
    "    box = (etymbox(e))\n",
    "    # box = r'{{% notice style=\"primary\" title=\"Pirates\" icon=\"skull-crossbones\" %}}' + \"\\n\" + text + \"\\n\" + r\"{{% /notice %}}\" + \"\\n\\n\"\n",
    "    dictionary_update = {e: box}\n",
    "    dictionary_of_etymologies.update(dictionary_update)\n",
    "print('Done.')\n"
   ]
  },
  {
   "cell_type": "code",
   "execution_count": 30,
   "metadata": {},
   "outputs": [
    {
     "data": {
      "text/plain": [
       "\"**English** *saffron*\\n< **French** *safran* 'id.'\\n< **Medieval Latin** *saffrānum* 'id.'\\n< **Arabic** زعفران *zaʿfarān* 'id.' (not connected with \\\\textit{ṣafrā'} feminine of \\\\textit{aṣfar} `yellow')\\n\""
      ]
     },
     "execution_count": 30,
     "metadata": {},
     "output_type": "execute_result"
    }
   ],
   "source": [
    "# Check\n",
    "dictionary_of_etymologies['saffron']"
   ]
  },
  {
   "cell_type": "markdown",
   "metadata": {},
   "source": [
    "# Website generation"
   ]
  },
  {
   "cell_type": "markdown",
   "metadata": {},
   "source": [
    "## Build webpages"
   ]
  },
  {
   "cell_type": "code",
   "execution_count": 31,
   "metadata": {},
   "outputs": [
    {
     "name": "stdout",
     "output_type": "stream",
     "text": [
      "Working on allspice...\n",
      "Definition: \n",
      "Description: The dried unripe berries of a small Caribbean tree, also known as allspice; Jamaica pepper; pimento; myrtle pepper; newspice.\n",
      "Categories: ['spice']\n",
      "Tags: ['culinary', 'medicinal', 'perfumery', 'distillery']\n",
      "Groups: ['false peppers']\n",
      "ALLSPICE is a culinary and medicinal and perfumery and distillery spice, valued and cultivated for its unripe fruit; leaf; wood. It is yielded from the plant *Pimenta dioica* (L.) Merr., a(n) tree in the *Myrtaceae* family, growing in the seasonally dry tropical biome, with the native range of S. Mexico to C. America, Caribbean.[^powo_allspice]\n",
      "\n",
      "[^powo_allspice]: [Plants of the World Online](https://powo.science.kew.org)\n",
      "\n",
      " See more in  {{< cite \"powo;petruzzello_2023_list;vanwyk_2014_culinary;dalby_2000_dangerous;hill_2004_contemporary;anderson_2023_history\" >}}\n",
      "\n",
      "\n",
      "## Overview\n",
      "\n",
      "|       item       |                                                                                      allspice                                                                                     |\n",
      "|------------------|-----------------------------------------------------------------------------------------------------------------------------------------------------------------------------------|\n",
      "|       taxon      |                                                                            *Pimenta dioica* (L.) Merr.                                                                            |\n",
      "|      family      |                                                                                     Myrtaceae                                                                                     |\n",
      "|      regions     |                                                                         Mexico, Central America, Caribbean                                                                        |\n",
      "|    continents    |                                                                         Northern America, Southern America                                                                        |\n",
      "|       part       |                                                                              unripe fruit; leaf; wood                                                                             |\n",
      "|    cultivation   |                                                                             Jamaica; Mexico; Honduras                                                                             |\n",
      "|botanical_database|[POWO](https://powo.science.kew.org/taxon/196799-2); [GBIF](https://www.gbif.org/species/3186061); [TROP](https://tropicos.org/name/22101787); [EOL](https://eol.org/pages/2508608)|\n",
      "\n",
      "\n",
      "Working on anise...\n",
      "Definition: \n",
      "Description: The seed-like fruits of a Mediterranean herb, also known as anise; aniseed; anise seed; brown anise; white anise. It is related to [fennel](../items/fennel). See also [star anise](../items/star_anise).\n",
      "Categories: ['spice']\n",
      "Tags: ['culinary', 'distillery']\n",
      "Groups: []\n",
      "ANISE is a culinary and distillery spice, valued and cultivated for its fruit; oil; leaf. It is yielded from the plant *Pimpinella anisum* L., a(n) annual in the *Apiaceae* family, growing in the temperate biome, with the native range of SE. Türkiye to C. Israel, Cyprus.[^powo_anise]\n",
      "\n",
      "[^powo_anise]: [Plants of the World Online](https://powo.science.kew.org)\n",
      "\n",
      " See more in  {{< cite \"powo;petruzzello_2023_list;vanwyk_2014_culinary;dalby_2000_dangerous;hill_2004_contemporary;anderson_2023_history\" >}}\n",
      "\n",
      "\n",
      "## Overview\n",
      "\n",
      "|       item       |                                                                                      anise                                                                                      |\n",
      "|------------------|---------------------------------------------------------------------------------------------------------------------------------------------------------------------------------|\n",
      "|       taxon      |                                                                              *Pimpinella anisum* L.                                                                             |\n",
      "|      family      |                                                                                     Apiaceae                                                                                    |\n",
      "|      regions     |                                                                                   Western Asia                                                                                  |\n",
      "|    continents    |                                                                                  Asia-Temperate                                                                                 |\n",
      "|       part       |                                                                                 fruit; oil; leaf                                                                                |\n",
      "|    cultivation   |                                                                    Turkey; Egypt; Spain; Russia; Italy; etc.                                                                    |\n",
      "|botanical_database|[POWO](https://powo.science.kew.org/taxon/846658-1); [GBIF](https://www.gbif.org/species/8080300); [TROP](https://tropicos.org/name/1700194); [EOL](https://eol.org/pages/581422)|\n",
      "\n",
      "\n",
      "Working on asafoetida...\n",
      "Definition: \n",
      "Description: The dried resin of Ferula foetida and F. assa-foetida, also known as asafoetida; hing, devil’s dung, asant; fetida.\n",
      "Categories: ['spice']\n",
      "Tags: ['culinary', 'medicinal']\n",
      "Groups: []\n",
      "ASAFOETIDA is a culinary and medicinal spice, valued and cultivated for its gum-resin (latex). It is yielded from the plant *Ferula foetida* (Bunge) Regel, a(n) perennial in the *Apiaceae* family, growing in the temperate biome, with the native range of Iran to C. Asia and W. Pakistan.[^powo_asafoetida]\n",
      "\n",
      "[^powo_asafoetida]: [Plants of the World Online](https://powo.science.kew.org)\n",
      "\n",
      " See more in  {{< cite \"powo;petruzzello_2023_list;vanwyk_2014_culinary;dalby_2000_dangerous;hill_2004_contemporary;anderson_2023_history\" >}}\n",
      "\n",
      "\n",
      "## Overview\n",
      "\n",
      "|       item       |                     asafoetida                    |\n",
      "|------------------|---------------------------------------------------|\n",
      "|       taxon      |           *Ferula foetida* (Bunge) Regel          |\n",
      "|      family      |                      Apiaceae                     |\n",
      "|      regions     |   Middle Asia, Western Asia, Indian Subcontinent  |\n",
      "|    continents    |           Asia-Temperate, Asia-Tropical           |\n",
      "|       part       |                 gum-resin (latex)                 |\n",
      "|    cultivation   |                 Iran; Afghanistan                 |\n",
      "|botanical_database|[POWO](https://powo.science.kew.org/taxon/842277-1)|\n",
      "\n",
      "\n",
      "Working on caraway...\n",
      "Definition: \n",
      "Description: The seed-like fruits of an Eurasian herb, also known as caraway (seeds).\n",
      "Categories: ['spice']\n",
      "Tags: ['culinary']\n",
      "Groups: []\n",
      "CARAWAY is a culinary spice, valued and cultivated for its fruit. It is yielded from the plant *Carum carvi* L., a(n) perennial in the *Apiaceae* family, growing in the temperate biome, with the native range of Temp. Eurasia.[^powo_caraway]\n",
      "\n",
      "[^powo_caraway]: [Plants of the World Online](https://powo.science.kew.org)\n",
      "\n",
      " See more in  {{< cite \"powo;petruzzello_2023_list;vanwyk_2014_culinary;dalby_2000_dangerous;hill_2004_contemporary;anderson_2023_history\" >}}\n",
      "\n",
      "\n",
      "## Overview\n",
      "\n",
      "|       item       |                                                                                            caraway                                                                                           |\n",
      "|------------------|----------------------------------------------------------------------------------------------------------------------------------------------------------------------------------------------|\n",
      "|       taxon      |                                                                                       *Carum carvi* L.                                                                                       |\n",
      "|      family      |                                                                                           Apiaceae                                                                                           |\n",
      "|      regions     |Northern Europe, Middle Europe, Southwestern Europe, Southeastern Europe, Eastern Europe, Siberia, Russian Far East, Middle Asia, Caucasus, Western Asia, China, Mongolia, Indian Subcontinent|\n",
      "|    continents    |                                                                             Europe, Asia-Temperate, Asia-Tropical                                                                            |\n",
      "|       part       |                                                                                             fruit                                                                                            |\n",
      "|    cultivation   |                                                                           Denmark; Lebanon; The Netherlands; Poland                                                                          |\n",
      "|botanical_database|                                                                      [POWO](https://powo.science.kew.org/taxon/839677-1)                                                                     |\n",
      "\n",
      "\n",
      "Working on cardamom...\n",
      "Definition: \n",
      "Description: The green seed pods of an Indian plant, also known as cardamom, -mon, -mum; green cardamom; true cardamom .\n",
      "Categories: ['spice']\n",
      "Tags: ['culinary', 'medicinal']\n",
      "Groups: ['cardamoms']\n",
      "CARDAMOM is a culinary and medicinal spice, valued and cultivated for its fruit & seed. It is yielded from the plant *Elettaria cardamomum* (L.) Maton, a(n) rhizomatous geophyte in the *Zingiberaceae* family, growing in the seasonally dry tropical biome, with the native range of SW. India.[^powo_cardamom]\n",
      "\n",
      "[^powo_cardamom]: [Plants of the World Online](https://powo.science.kew.org)\n",
      "\n",
      " See more in  {{< cite \"powo;petruzzello_2023_list;vanwyk_2014_culinary;dalby_2000_dangerous;hill_2004_contemporary;anderson_2023_history\" >}}\n",
      "\n",
      "\n",
      "## Overview\n",
      "\n",
      "|       item       |                                                                                      cardamom                                                                                     |\n",
      "|------------------|-----------------------------------------------------------------------------------------------------------------------------------------------------------------------------------|\n",
      "|       taxon      |                                                                         *Elettaria cardamomum* (L.) Maton                                                                         |\n",
      "|      family      |                                                                                   Zingiberaceae                                                                                   |\n",
      "|      regions     |                                                                                Indian Subcontinent                                                                                |\n",
      "|    continents    |                                                                                   Asia-Tropical                                                                                   |\n",
      "|       part       |                                                                                    fruit & seed                                                                                   |\n",
      "|    cultivation   |                                                              Guatemala; India; Sri Lanka; Tanzania; Papua New Guinea                                                              |\n",
      "|botanical_database|[POWO](https://powo.science.kew.org/taxon/796556-1); [GBIF](https://www.gbif.org/species/2759871); [TROP](https://tropicos.org/name/34500572); [EOL](https://eol.org/pages/1120064)|\n",
      "\n",
      "\n",
      "Working on cassia...\n",
      "Definition: \n",
      "Description: The inner bark of Southeast Asian trees, also known as cassia bark; Chinese cinnamon; cassia cinnamon; Chinese cassia. It is related to [cinnamon](../items/cinnamon).\n",
      "Categories: ['spice']\n",
      "Tags: ['culinary', 'medicinal']\n",
      "Groups: ['cinnamon']\n",
      "CASSIA is a culinary and medicinal spice, valued and cultivated for its bark; fruit. It is yielded from the plant *Cinnamomum aromaticum* Nees, a(n) tree in the *Lauraceae* family, growing in the subtropical biome, with the native range of SE. China to Vietnam.[^powo_cassia]\n",
      "\n",
      "[^powo_cassia]: [Plants of the World Online](https://powo.science.kew.org)\n",
      "\n",
      " See more in  {{< cite \"powo;petruzzello_2023_list;vanwyk_2014_culinary;dalby_2000_dangerous;hill_2004_contemporary;anderson_2023_history\" >}}\n",
      "\n",
      "\n",
      "## Overview\n",
      "\n",
      "|       item       |                                                                                      cassia                                                                                      |\n",
      "|------------------|----------------------------------------------------------------------------------------------------------------------------------------------------------------------------------|\n",
      "|       taxon      |                                                                           *Cinnamomum aromaticum* Nees                                                                           |\n",
      "|      family      |                                                                                     Lauraceae                                                                                    |\n",
      "|      regions     |                                                                                 China, Indo-China                                                                                |\n",
      "|    continents    |                                                                           Asia-Temperate, Asia-Tropical                                                                          |\n",
      "|       part       |                                                                                    bark; fruit                                                                                   |\n",
      "|    cultivation   |                                                                   Indonesia; China; Vietnam; Timor-Leste; etc.                                                                   |\n",
      "|botanical_database|[POWO](https://powo.science.kew.org/taxon/463288-1); [GBIF](https://www.gbif.org/species/3033982); [TROP](https://tropicos.org/name/17805773); [EOL](https://eol.org/pages/483593)|\n",
      "\n",
      "\n",
      "Working on cinnamon...\n",
      "Definition: \n",
      "Description: The inner bark of the cinnamon tree (Cinnamomum zeylanicum) from Sri Lanka, also known as cinnamon; Ceylon cinnamon. It is related to [cassia](../items/cassia).\n",
      "Categories: ['spice']\n",
      "Tags: ['culinary', 'medicinal']\n",
      "Groups: ['cinnamon']\n",
      "CINNAMON is a culinary and medicinal spice, valued and cultivated for its bark; leaf. It is yielded from the plant *Cinnamomum verum* J.Presl, a(n) tree in the *Lauraceae* family, growing in the wet tropical biome, with the native range of Sri Lanka.[^powo_cinnamon]\n",
      "\n",
      "[^powo_cinnamon]: [Plants of the World Online](https://powo.science.kew.org)\n",
      "\n",
      " See more in  {{< cite \"powo;petruzzello_2023_list;vanwyk_2014_culinary;dalby_2000_dangerous;hill_2004_contemporary;anderson_2023_history\" >}}\n",
      "\n",
      "\n",
      "## Overview\n",
      "\n",
      "|       item       |                                                                                     cinnamon                                                                                     |\n",
      "|------------------|----------------------------------------------------------------------------------------------------------------------------------------------------------------------------------|\n",
      "|       taxon      |                                                                            *Cinnamomum verum* J.Presl                                                                            |\n",
      "|      family      |                                                                                     Lauraceae                                                                                    |\n",
      "|      regions     |                                                                                Indian Subcontinent                                                                               |\n",
      "|    continents    |                                                                                   Asia-Tropical                                                                                  |\n",
      "|       part       |                                                                                    bark; leaf                                                                                    |\n",
      "|    cultivation   |                                                                     Sri Lanka; Seychelles; Madagascar; India                                                                     |\n",
      "|botanical_database|[POWO](https://powo.science.kew.org/taxon/463752-1); [GBIF](https://www.gbif.org/species/3033987); [TROP](https://tropicos.org/name/17800682); [EOL](https://eol.org/pages/490672)|\n",
      "\n",
      "\n",
      "Working on clove...\n",
      "Definition: \n",
      "Description: The dried flower-buds of a tropical tree from the Moluccas, Indonesia; bud of Syzygium aromaticum, also known as clove; cloves. See also [nutmeg](../items/nutmeg), [mace](../items/mace).\n",
      "Categories: ['spice']\n",
      "Tags: ['culinary', 'medicinal']\n",
      "Groups: []\n",
      "CLOVE is a culinary and medicinal spice, valued and cultivated for its flower buds. It is yielded from the plant *Syzygium aromaticum* (L.) Merr. & L.M.Perry, a(n) shrub or tree in the *Myrtaceae* family, growing in the wet tropical biome, with the native range of Maluku.[^powo_clove]\n",
      "\n",
      "[^powo_clove]: [Plants of the World Online](https://powo.science.kew.org)\n",
      "\n",
      " See more in  {{< cite \"powo;petruzzello_2023_list;vanwyk_2014_culinary;dalby_2000_dangerous;hill_2004_contemporary;anderson_2023_history\" >}}\n",
      "\n",
      "\n",
      "## Overview\n",
      "\n",
      "|       item       |                                                                                       clove                                                                                       |\n",
      "|------------------|-----------------------------------------------------------------------------------------------------------------------------------------------------------------------------------|\n",
      "|       taxon      |                                                                    *Syzygium aromaticum* (L.) Merr. & L.M.Perry                                                                   |\n",
      "|      family      |                                                                                     Myrtaceae                                                                                     |\n",
      "|      regions     |                                                                                      Malesia                                                                                      |\n",
      "|    continents    |                                                                                   Asia-Tropical                                                                                   |\n",
      "|       part       |                                                                                    flower buds                                                                                    |\n",
      "|    cultivation   |                                                                           Indonesia; Malaysia; Tanzania                                                                           |\n",
      "|botanical_database|[POWO](https://powo.science.kew.org/taxon/601421-1); [GBIF](https://www.gbif.org/species/3183002); [TROP](https://tropicos.org/name/22102278); [EOL](https://eol.org/pages/2508665)|\n",
      "\n",
      "\n",
      "Working on coriander...\n",
      "Definition: \n",
      "Description: The dried fruits of an annual herb, also known as cilantro, also known as coriander seeds; cilantro; Chinese parsley.\n",
      "Categories: ['spice']\n",
      "Tags: ['culinary']\n",
      "Groups: []\n",
      "CORIANDER is a culinary spice, valued and cultivated for its fruit. It is yielded from the plant *Coriandrum sativum* L., a(n) annual in the *Apiaceae* family, growing in the subtropical biome, with the native range of E. Medit. to Pakistan.[^powo_coriander]\n",
      "\n",
      "[^powo_coriander]: [Plants of the World Online](https://powo.science.kew.org)\n",
      "\n",
      " See more in  {{< cite \"powo;petruzzello_2023_list;vanwyk_2014_culinary;dalby_2000_dangerous;hill_2004_contemporary;anderson_2023_history\" >}}\n",
      "\n",
      "\n",
      "## Overview\n",
      "\n",
      "|       item       |                                                                                    coriander                                                                                    |\n",
      "|------------------|---------------------------------------------------------------------------------------------------------------------------------------------------------------------------------|\n",
      "|       taxon      |                                                                             *Coriandrum sativum* L.                                                                             |\n",
      "|      family      |                                                                                     Apiaceae                                                                                    |\n",
      "|      regions     |                                                          Caucasus, Western Asia, Arabian Peninsula, Indian Subcontinent                                                         |\n",
      "|    continents    |                                                                          Asia-Temperate, Asia-Tropical                                                                          |\n",
      "|       part       |                                                                                      fruit                                                                                      |\n",
      "|    cultivation   |                                                              Argentina; India; Morocco; Romania; Spain; Yugoslavia                                                              |\n",
      "|botanical_database|[POWO](https://powo.science.kew.org/taxon/840760-1); [GBIF](https://www.gbif.org/species/3034871); [TROP](https://tropicos.org/name/1700064); [EOL](https://eol.org/pages/581687)|\n",
      "\n",
      "\n",
      "Working on cubeb...\n",
      "Definition: \n",
      "Description: The dried berries of a Southeast Asian plant resembling black pepper, but with a small stalk attached, also known as cubeb pepper; tailed pepper; Java pepper. It is related to [pepper](../items/pepper).\n",
      "Categories: ['spice']\n",
      "Tags: ['culinary', 'distillery', 'medicinal', 'perfumery']\n",
      "Groups: ['false peppers']\n",
      "CUBEB is a culinary and distillery and medicinal and perfumery spice, valued and cultivated for its unripe fruit. It is yielded from the plant *Piper cubeba* L.f., a(n) nan in the *Piperaceae* family, growing in the wet tropical biome, with the native range of Indo-China to Malesia.[^powo_cubeb]\n",
      "\n",
      "[^powo_cubeb]: [Plants of the World Online](https://powo.science.kew.org)\n",
      "\n",
      " See more in  {{< cite \"powo;petruzzello_2023_list;vanwyk_2014_culinary;dalby_2000_dangerous;hill_2004_contemporary;anderson_2023_history\" >}}\n",
      "\n",
      "\n",
      "## Overview\n",
      "\n",
      "|       item       |                                                                                           cubeb                                                                                          |\n",
      "|------------------|------------------------------------------------------------------------------------------------------------------------------------------------------------------------------------------|\n",
      "|       taxon      |                                                                                    *Piper cubeba* L.f.                                                                                   |\n",
      "|      family      |                                                                                        Piperaceae                                                                                        |\n",
      "|      regions     |                                                                                    Indo-China, Malesia                                                                                   |\n",
      "|    continents    |                                                                                       Asia-Tropical                                                                                      |\n",
      "|       part       |                                                                                       unripe fruit                                                                                       |\n",
      "|    cultivation   |                                                                                         Indonesia                                                                                        |\n",
      "|botanical_database|[POWO](https://powo.science.kew.org/taxon/681071-1); [GBIF](https://www.gbif.org/species/7606629); [TROP](http://legacy.tropicos.org/Name/25002639); [EOL](https://eol.org/pages/51845162)|\n",
      "\n",
      "\n",
      "Working on cumin...\n",
      "Definition: \n",
      "Description: The dried seeds of a West Asian flowering plant, also known as brown cumin. It is related to [caraway](../items/caraway).\n",
      "Categories: ['spice']\n",
      "Tags: ['culinary']\n",
      "Groups: []\n",
      "CUMIN is a culinary spice, valued and cultivated for its fruit. It is yielded from the plant *Cuminum cyminum* L., a(n) annual in the *Apiaceae* family, growing in the subtropical biome, with the native range of Iraq to Afghanistan.[^powo_cumin]\n",
      "\n",
      "[^powo_cumin]: [Plants of the World Online](https://powo.science.kew.org)\n",
      "\n",
      " See more in  {{< cite \"powo;petruzzello_2023_list;vanwyk_2014_culinary;dalby_2000_dangerous;hill_2004_contemporary;anderson_2023_history\" >}}\n",
      "\n",
      "\n",
      "## Overview\n",
      "\n",
      "|       item       |                                                                 cumin                                                                |\n",
      "|------------------|--------------------------------------------------------------------------------------------------------------------------------------|\n",
      "|       taxon      |                                                         *Cuminum cyminum* L.                                                         |\n",
      "|      family      |                                                               Apiaceae                                                               |\n",
      "|      regions     |                                                             Western Asia                                                             |\n",
      "|    continents    |                                                            Asia-Temperate                                                            |\n",
      "|       part       |                                                                 fruit                                                                |\n",
      "|    cultivation   |                                                         India; Iran; Lebanon                                                         |\n",
      "|botanical_database|[POWO](https://powo.science.kew.org/taxon/840882-1); [GBIF](https://www.gbif.org/species/3034775); [EOL](https://eol.org/pages/488085)|\n",
      "\n",
      "\n",
      "Working on fennel...\n",
      "Definition: \n",
      "Description: The dried fruits of a perennial herb, also known as fennel (seeds).\n",
      "Categories: ['spice']\n",
      "Tags: ['culinary']\n",
      "Groups: []\n",
      "FENNEL is a culinary spice, valued and cultivated for its fruit. It is yielded from the plant *Foeniculum vulgare* Mill., a(n) perennial in the *Apiaceae* family, growing in the temperate biome, with the native range of Medit. to Ethiopia and W. Nepal.[^powo_fennel]\n",
      "\n",
      "[^powo_fennel]: [Plants of the World Online](https://powo.science.kew.org)\n",
      "\n",
      " See more in  {{< cite \"powo;petruzzello_2023_list;vanwyk_2014_culinary;hill_2004_contemporary;anderson_2023_history\" >}}\n",
      "\n",
      "\n",
      "## Overview\n",
      "\n",
      "|       item       |                                                                              fennel                                                                             |\n",
      "|------------------|-----------------------------------------------------------------------------------------------------------------------------------------------------------------|\n",
      "|       taxon      |                                                                    *Foeniculum vulgare* Mill.                                                                   |\n",
      "|      family      |                                                                             Apiaceae                                                                            |\n",
      "|      regions     |Southwestern Europe, Southeastern Europe, Northern Africa, Northeast Tropical Africa, Middle Asia, Caucasus, Western Asia, Arabian Peninsula, Indian Subcontinent|\n",
      "|    continents    |                                                          Europe, Africa, Asia-Temperate, Asia-Tropical                                                          |\n",
      "|       part       |                                                                              fruit                                                                              |\n",
      "|    cultivation   |                                                       Argentina; Bulgaria; Germany; Greece; India; Lebanon                                                      |\n",
      "|botanical_database|                                                       [POWO](https://powo.science.kew.org/taxon/842680-1)                                                       |\n",
      "\n",
      "\n",
      "Working on fenugreek...\n",
      "Definition: \n",
      "Description: The seeds of a West Asian herb, also known as fenugreek (seeds).\n",
      "Categories: ['spice', 'herb']\n",
      "Tags: ['culinary']\n",
      "Groups: []\n",
      "FENUGREEK is a culinary spice and herb, valued and cultivated for its seed; leaf. It is yielded from the plant *Trigonella foenum-graecum* L., a(n) annual in the *Fabaceae* family, growing in the temperate biome, with the native range of Iraq to N. Pakistan.[^powo_fenugreek]\n",
      "\n",
      "[^powo_fenugreek]: [Plants of the World Online](https://powo.science.kew.org)\n",
      "\n",
      " See more in  {{< cite \"powo;petruzzello_2023_list;vanwyk_2014_culinary;hill_2004_contemporary\" >}}\n",
      "\n",
      "\n",
      "## Overview\n",
      "\n",
      "|       item       |                     fenugreek                     |\n",
      "|------------------|---------------------------------------------------|\n",
      "|       taxon      |           *Trigonella foenum-graecum* L.          |\n",
      "|      family      |                      Fabaceae                     |\n",
      "|      regions     |         Western Asia, Indian Subcontinent         |\n",
      "|    continents    |           Asia-Temperate, Asia-Tropical           |\n",
      "|       part       |                     seed; leaf                    |\n",
      "|    cultivation   |                       India                       |\n",
      "|botanical_database|[POWO](https://powo.science.kew.org/taxon/523957-1)|\n",
      "\n",
      "\n",
      "Working on ginger...\n",
      "Definition: \n",
      "Description: The aromatic rhizomes of the ginger plant, fresh or dried, also known as ginger; common ginger. It is related to [turmeric](../items/turmeric).\n",
      "Categories: ['spice']\n",
      "Tags: ['culinary', 'medicinal']\n",
      "Groups: []\n",
      "GINGER is a culinary and medicinal spice, valued and cultivated for its rhizome. It is yielded from the plant *Zingiber officinale* Roscoe, a(n) perennial or rhizomatous geophyte in the *Zingiberaceae* family, growing in the seasonally dry tropical biome, with the native range of India to SC. China.[^powo_ginger]\n",
      "\n",
      "[^powo_ginger]: [Plants of the World Online](https://powo.science.kew.org)\n",
      "\n",
      " See more in  {{< cite \"powo;petruzzello_2023_list;vanwyk_2014_culinary;dalby_2000_dangerous;hill_2004_contemporary;anderson_2023_history\" >}}\n",
      "\n",
      "\n",
      "## Overview\n",
      "\n",
      "|       item       |                                                                                      ginger                                                                                      |\n",
      "|------------------|----------------------------------------------------------------------------------------------------------------------------------------------------------------------------------|\n",
      "|       taxon      |                                                                           *Zingiber officinale* Roscoe                                                                           |\n",
      "|      family      |                                                                                   Zingiberaceae                                                                                  |\n",
      "|      regions     |                                                                            China, Indian Subcontinent                                                                            |\n",
      "|    continents    |                                                                           Asia-Temperate, Asia-Tropical                                                                          |\n",
      "|       part       |                                                                                      rhizome                                                                                     |\n",
      "|    cultivation   |                                                                       India; Jamaica; Nigeria; Sierra Leone                                                                      |\n",
      "|botanical_database|[POWO](https://powo.science.kew.org/taxon/798372-1); [GBIF](https://www.gbif.org/species/2757280); [TROP](https://tropicos.org/name/34500018); [EOL](https://eol.org/pages/987032)|\n",
      "\n",
      "\n",
      "Working on long_pepper...\n",
      "Definition: \n",
      "Description: The spike-like cluster of fruits of Piper longum, also known as Indian long pepper; pippali; pipalli. It is related to [pepper](../items/pepper), [cubeb](../items/cubeb).\n",
      "Categories: ['spice']\n",
      "Tags: ['culinary', 'medicinal']\n",
      "Groups: ['false peppers']\n",
      "LONG PEPPER is a culinary and medicinal spice, valued and cultivated for its fruit. It is yielded from the plant *Piper longum* L., a(n) climbing perennial or subshrub in the *Piperaceae* family, growing in the temperate biome, with the native range of E. Himalaya to China (S. Yunnan) and Indo-China.[^powo_long pepper]\n",
      "\n",
      "[^powo_long pepper]: [Plants of the World Online](https://powo.science.kew.org)\n",
      "\n",
      " See more in  {{< cite \"powo;petruzzello_2023_list;vanwyk_2014_culinary;dalby_2000_dangerous;hill_2004_contemporary;anderson_2023_history\" >}}\n",
      "\n",
      "\n",
      "## Overview\n",
      "\n",
      "|       item       |                                                                                    long pepper                                                                                   |\n",
      "|------------------|----------------------------------------------------------------------------------------------------------------------------------------------------------------------------------|\n",
      "|       taxon      |                                                                                 *Piper longum* L.                                                                                |\n",
      "|      family      |                                                                                    Piperaceae                                                                                    |\n",
      "|      regions     |                                                                      China, Indian Subcontinent, Indo-China                                                                      |\n",
      "|    continents    |                                                                           Asia-Temperate, Asia-Tropical                                                                          |\n",
      "|       part       |                                                                                       fruit                                                                                      |\n",
      "|    cultivation   |                                                                            India; Indonesia; Thailand                                                                            |\n",
      "|botanical_database|[POWO](https://powo.science.kew.org/taxon/682031-1); [GBIF](https://www.gbif.org/species/3086338); [TROP](https://tropicos.org/name/25000012); [EOL](https://eol.org/pages/489436)|\n",
      "\n",
      "\n",
      "Working on mace...\n",
      "Definition: \n",
      "Description: The aril (seed-covering) of the nutmeg, also known as mace. It is related to [nutmeg](../items/nutmeg).\n",
      "Categories: ['spice']\n",
      "Tags: ['culinary']\n",
      "Groups: []\n",
      "MACE is a culinary spice, valued and cultivated for its aril. It is yielded from the plant *Myristica fragrans* Houtt., a(n) tree in the *Myristicaceae* family, growing in the wet tropical biome, with the native range of Maluku (Banda Is.).[^powo_mace]\n",
      "\n",
      "[^powo_mace]: [Plants of the World Online](https://powo.science.kew.org)\n",
      "\n",
      " See more in  {{< cite \"powo;petruzzello_2023_list;vanwyk_2014_culinary;dalby_2000_dangerous;hill_2004_contemporary;anderson_2023_history\" >}}\n",
      "\n",
      "\n",
      "## Overview\n",
      "\n",
      "|       item       |                                                                                       mace                                                                                       |\n",
      "|------------------|----------------------------------------------------------------------------------------------------------------------------------------------------------------------------------|\n",
      "|       taxon      |                                                                            *Myristica fragrans* Houtt.                                                                           |\n",
      "|      family      |                                                                                   Myristicaceae                                                                                  |\n",
      "|      regions     |                                                                                      Malesia                                                                                     |\n",
      "|    continents    |                                                                                   Asia-Tropical                                                                                  |\n",
      "|       part       |                                                                                       aril                                                                                       |\n",
      "|    cultivation   |                                                                                Grenada; Indonesia                                                                                |\n",
      "|botanical_database|[POWO](https://powo.science.kew.org/taxon/586076-1); [GBIF](https://www.gbif.org/species/5406817); [TROP](https://tropicos.org/name/21800077); [EOL](https://eol.org/pages/596922)|\n",
      "\n",
      "\n",
      "Working on nutmeg...\n",
      "Definition: \n",
      "Description: The seed of a peach-like fruit of the nutmeg tree of the Moluccas, Indonesia, also known as nutmeg. It is related to [mace](../items/mace).\n",
      "Categories: ['spice']\n",
      "Tags: ['culinary', 'medicinal']\n",
      "Groups: []\n",
      "NUTMEG is a culinary and medicinal spice, valued and cultivated for its seed. It is yielded from the plant *Myristica fragrans* Houtt., a(n) tree in the *Myristicaceae* family, growing in the wet tropical biome, with the native range of Maluku (Banda Is.).[^powo_nutmeg]\n",
      "\n",
      "[^powo_nutmeg]: [Plants of the World Online](https://powo.science.kew.org)\n",
      "\n",
      " See more in  {{< cite \"powo;petruzzello_2023_list;vanwyk_2014_culinary;dalby_2000_dangerous;hill_2004_contemporary;anderson_2023_history\" >}}\n",
      "\n",
      "\n",
      "## Overview\n",
      "\n",
      "|       item       |                                                                                      nutmeg                                                                                      |\n",
      "|------------------|----------------------------------------------------------------------------------------------------------------------------------------------------------------------------------|\n",
      "|       taxon      |                                                                            *Myristica fragrans* Houtt.                                                                           |\n",
      "|      family      |                                                                                   Myristicaceae                                                                                  |\n",
      "|      regions     |                                                                                      Malesia                                                                                     |\n",
      "|    continents    |                                                                                   Asia-Tropical                                                                                  |\n",
      "|       part       |                                                                                       seed                                                                                       |\n",
      "|    cultivation   |                                                                                Grenada; Indonesia                                                                                |\n",
      "|botanical_database|[POWO](https://powo.science.kew.org/taxon/586076-1); [GBIF](https://www.gbif.org/species/5406817); [TROP](https://tropicos.org/name/21800077); [EOL](https://eol.org/pages/596922)|\n",
      "\n",
      "\n",
      "Working on pepper...\n",
      "Definition: \n",
      "Description: The dried fruits of an Indian vine, also known as black pepper; peppercorns. It is related to [long pepper](../items/long_pepper), [cubeb](../items/cubeb).\n",
      "Categories: ['spice']\n",
      "Tags: ['culinary', 'medicinal']\n",
      "Groups: []\n",
      "PEPPER is a culinary and medicinal spice, valued and cultivated for its fruit. It is yielded from the plant *Piper nigrum* L., a(n) climber in the *Piperaceae* family, growing in the wet tropical biome, with the native range of SW. India.[^powo_pepper]\n",
      "\n",
      "[^powo_pepper]: [Plants of the World Online](https://powo.science.kew.org)\n",
      "\n",
      " See more in  {{< cite \"powo;petruzzello_2023_list;vanwyk_2014_culinary;dalby_2000_dangerous;hill_2004_contemporary;anderson_2023_history\" >}}\n",
      "\n",
      "\n",
      "## Overview\n",
      "\n",
      "|       item       |                                                                                      pepper                                                                                      |\n",
      "|------------------|----------------------------------------------------------------------------------------------------------------------------------------------------------------------------------|\n",
      "|       taxon      |                                                                                 *Piper nigrum* L.                                                                                |\n",
      "|      family      |                                                                                    Piperaceae                                                                                    |\n",
      "|      regions     |                                                                                Indian Subcontinent                                                                               |\n",
      "|    continents    |                                                                                   Asia-Tropical                                                                                  |\n",
      "|       part       |                                                                                       fruit                                                                                      |\n",
      "|    cultivation   |                                                                Vietnam; Brazil; Indonesia; India; Sri Lanka; etc.                                                                |\n",
      "|botanical_database|[POWO](https://powo.science.kew.org/taxon/682369-1); [GBIF](https://www.gbif.org/species/3086357); [TROP](https://tropicos.org/name/25000013); [EOL](https://eol.org/pages/596620)|\n",
      "\n",
      "\n",
      "Working on saffron...\n",
      "Definition: \n",
      "Description: The stigmas or styles of the saffron crocus flower; stamen of Crocus sativus, also known as saffron.\n",
      "Categories: ['spice', 'dye']\n",
      "Tags: ['culinary']\n",
      "Groups: []\n",
      "SAFFRON is a culinary spice and dye, valued and cultivated for its stigma (style). It is yielded from the plant *Crocus sativus* L., a(n) tuberous geophyte in the *Iridaceae* family, growing in the subtropical biome, with the native range of a cultigen from Greece.[^powo_saffron]\n",
      "\n",
      "[^powo_saffron]: [Plants of the World Online](https://powo.science.kew.org)\n",
      "\n",
      " See more in  {{< cite \"powo;petruzzello_2023_list;vanwyk_2014_culinary;dalby_2000_dangerous;hill_2004_contemporary;anderson_2023_history\" >}}\n",
      "\n",
      "\n",
      "## Overview\n",
      "\n",
      "|       item       |                                                                                      saffron                                                                                     |\n",
      "|------------------|----------------------------------------------------------------------------------------------------------------------------------------------------------------------------------|\n",
      "|       taxon      |                                                                                *Crocus sativus* L.                                                                               |\n",
      "|      family      |                                                                                     Iridaceae                                                                                    |\n",
      "|      regions     |                                                                                Southeastern Europe                                                                               |\n",
      "|    continents    |                                                                                      Europe                                                                                      |\n",
      "|       part       |                                                                                  stigma (style)                                                                                  |\n",
      "|    cultivation   |                                                                            Iran; Spain; Kashmir; etc.                                                                            |\n",
      "|botanical_database|[POWO](https://powo.science.kew.org/taxon/436688-1); [GBIF](https://www.gbif.org/species/2747430); [TROP](https://tropicos.org/name/16600120); [EOL](https://eol.org/pages/488247)|\n",
      "\n",
      "\n",
      "Working on star_anise...\n",
      "Definition: \n",
      "Description: The star shaped pericarps of a tree from Vietnam and South China; fruit of Illicium verum, also known as star anise; Chinese star anise; Chinese anise. See also [anise](../items/anise).\n",
      "Categories: ['spice']\n",
      "Tags: ['culinary']\n",
      "Groups: []\n",
      "STAR ANISE is a culinary spice, valued and cultivated for its pericarp. It is yielded from the plant *Illicium verum* Hook.f., a(n) tree in the *Schisandraceae* family, growing in the subtropical biome, with the native range of China (S. & W. Guangxi) to N. Vietnam.[^powo_star anise]\n",
      "\n",
      "[^powo_star anise]: [Plants of the World Online](https://powo.science.kew.org)\n",
      "\n",
      " See more in  {{< cite \"powo;petruzzello_2023_list;vanwyk_2014_culinary;dalby_2000_dangerous;hill_2004_contemporary\" >}}\n",
      "\n",
      "\n",
      "## Overview\n",
      "\n",
      "|       item       |                                                                                      star anise                                                                                      |\n",
      "|------------------|--------------------------------------------------------------------------------------------------------------------------------------------------------------------------------------|\n",
      "|       taxon      |                                                                               *Illicium verum* Hook.f.                                                                               |\n",
      "|      family      |                                                                                    Schisandraceae                                                                                    |\n",
      "|      regions     |                                                                                   China, Indo-China                                                                                  |\n",
      "|    continents    |                                                                             Asia-Temperate, Asia-Tropical                                                                            |\n",
      "|       part       |                                                                                       pericarp                                                                                       |\n",
      "|    cultivation   |                                                        China; Laos; Vietnam; Korea; Japan; Taiwan; Hainan; Philippines (POWO)                                                        |\n",
      "|botanical_database|[POWO](https://powo.science.kew.org/taxon/554553-1); [GBIF](https://www.gbif.org/species/2889756); [TROP](https://www.tropicos.org/name/50079582); [EOL](https://eol.org/pages/484056)|\n",
      "\n",
      "\n",
      "Working on turmeric...\n",
      "Definition: \n",
      "Description: The bright yellow powder yielded from the rhizomes of Curcuma longa, also known as turmeric.\n",
      "Categories: ['spice', 'dye']\n",
      "Tags: ['culinary', 'medicinal', 'ritualistic']\n",
      "Groups: []\n",
      "TURMERIC is a culinary and medicinal and ritualistic spice and dye, valued and cultivated for its rhizome. It is yielded from the plant *Curcuma longa* L., a(n) rhizomatous geophyte in the *Zingiberaceae* family, growing in the seasonally dry tropical biome, with the native range of a cultigen from SW. India.[^powo_turmeric]\n",
      "\n",
      "[^powo_turmeric]: [Plants of the World Online](https://powo.science.kew.org)\n",
      "\n",
      " See more in  {{< cite \"powo;petruzzello_2023_list;vanwyk_2014_culinary;dalby_2000_dangerous;hill_2004_contemporary;anderson_2023_history\" >}}\n",
      "\n",
      "\n",
      "## Overview\n",
      "\n",
      "|       item       |                                                                                      turmeric                                                                                     |\n",
      "|------------------|-----------------------------------------------------------------------------------------------------------------------------------------------------------------------------------|\n",
      "|       taxon      |                                                                                 *Curcuma longa* L.                                                                                |\n",
      "|      family      |                                                                                   Zingiberaceae                                                                                   |\n",
      "|      regions     |                                                                                Indian Subcontinent                                                                                |\n",
      "|    continents    |                                                                                   Asia-Tropical                                                                                   |\n",
      "|       part       |                                                                                      rhizome                                                                                      |\n",
      "|    cultivation   |                                                                     China; Honduras; India; Indonesia; Jamaica                                                                    |\n",
      "|botanical_database|[POWO](https://powo.science.kew.org/taxon/796451-1); [GBIF](https://www.gbif.org/species/2757624); [TROP](https://tropicos.org/name/34500029); [EOL](https://eol.org/pages/1122309)|\n",
      "\n",
      "\n",
      "Working on vanilla...\n",
      "Definition: \n",
      "Description: The aromatic seed pods of orchid species from America; fruit of Vanilla fragrans, also known as vanilla.\n",
      "Categories: ['spice']\n",
      "Tags: ['culinary']\n",
      "Groups: []\n",
      "VANILLA is a culinary spice, valued and cultivated for its fruit. It is yielded from the plant *Vanilla planifolia* Andrews, a(n) climber in the *Orchidaceae* family, growing in the wet tropical biome, with the native range of S. Mexico to Brazil.[^powo_vanilla]\n",
      "\n",
      "[^powo_vanilla]: [Plants of the World Online](https://powo.science.kew.org)\n",
      "\n",
      " See more in  {{< cite \"powo;petruzzello_2023_list;vanwyk_2014_culinary;dalby_2000_dangerous;hill_2004_contemporary\" >}}\n",
      "\n",
      "\n",
      "## Overview\n",
      "\n",
      "|       item       |                                                                                        vanilla                                                                                        |\n",
      "|------------------|---------------------------------------------------------------------------------------------------------------------------------------------------------------------------------------|\n",
      "|       taxon      |                                                                              *Vanilla planifolia* Andrews                                                                             |\n",
      "|      family      |                                                                                      Orchidaceae                                                                                      |\n",
      "|      regions     |                                                                 Mexico, Central America, Western South America, Brazil                                                                |\n",
      "|    continents    |                                                                           Northern America, Southern America                                                                          |\n",
      "|       part       |                                                                                         fruit                                                                                         |\n",
      "|    cultivation   |                                                                 Madagascar; Indonesia; Mexico; Papua New Guinea; China                                                                |\n",
      "|botanical_database|[POWO](https://powo.science.kew.org/taxon/262578-2); [GBIF](https://www.gbif.org/species/2803398); [TROP](https://www.tropicos.org/name/23501046); [EOL](https://eol.org/pages/1127948)|\n",
      "\n",
      "\n",
      "Done.\n"
     ]
    }
   ],
   "source": [
    "def webpage(key):\n",
    "    \n",
    "    '''\n",
    "    This cell generates web pages from the datasets and writes them out to markdown files.\n",
    "    '''\n",
    "\n",
    "    # Get dataframe of current item\n",
    "    print(f\"Working on {key}...\")\n",
    "    df_local = df_items.loc[df_items['key'] == key]\n",
    "\n",
    "    # Set a copy\n",
    "    df_local = df_local.copy()\n",
    "\n",
    "    # Item\n",
    "    item = df_local['item'].iloc[0]\n",
    "\n",
    "    # Reset index\n",
    "    df_local.reset_index(drop=True, inplace=True)\n",
    "\n",
    "    # Definition (if exists)\n",
    "    if 'wn_definition' in df_local:\n",
    "        if pd.notna(df_local['wn_definition'][0]):\n",
    "            definition = df_local['wn_definition'][0]\n",
    "            definition = definition[0].upper() + definition[1:]\n",
    "            definition = \"WordNet definition: \" + definition + \".\" if definition[-1] != \".\" else definition\n",
    "    else:\n",
    "        definition = \"\"\n",
    "\n",
    "    print(\"Definition:\", definition)\n",
    "\n",
    "    # Description\n",
    "    if pd.notna(df_local['description'][0]):\n",
    "        # Initialize description from data\n",
    "        description = str(df_local['description'][0])\n",
    "        # Capitalize first letter\n",
    "        description = description[0].upper() + description[1:]\n",
    "        # Initialize aka\n",
    "        aka = \", also known as \" + str(df_local['common_names'].iloc[0]) if pd.notna(df_local['common_names'].iloc[0]) else \"\"\n",
    "        # Add aka to description\n",
    "        if aka != \"\":\n",
    "            description += aka\n",
    "        # Add a dot to the end of aka if not already\n",
    "        description = description + \".\" if description != \"\" and description[-1] != \".\" else description\n",
    "\n",
    "        # Add related items if there are any\n",
    "        if pd.notna(df_local['related'][0]):\n",
    "            related = str(df_local['related'].iloc[0])\n",
    "            # turn related into a list that is separated by semicolons\n",
    "            related = related.split(\"; \")\n",
    "            # drop an element off the list, if it does not appear in the list of items\n",
    "            related = [x for x in related if x in list_of_items]\n",
    "            # change every element of the list to a link that has the form [x](../items/x)\n",
    "            related = [f'[{x}](../items/{x})' for x in related]\n",
    "            # in every element of the list, change whitespace to underscore if in (brackets)\n",
    "            related = [re.sub(r'(?<=\\()(.*?)(?=\\))', lambda x: re.sub(r'\\s', '_', x.group(0)), x) for x in related]        \n",
    "            # join the elements of the list with a comma and a space\n",
    "            related = \", \".join(related)\n",
    "            # add text\n",
    "        else:\n",
    "            related = \"\"\n",
    "        \n",
    "        if related != \"\":\n",
    "            related = \" It is related to \" + related + \".\" if related[-1] != \".\" else related\n",
    "            \n",
    "        description += related\n",
    "            \n",
    "        # Add \"see also\" itesm if there are any\n",
    "        if pd.notna(df_local['also'][0]):\n",
    "            also = str(df_local['also'].iloc[0])\n",
    "            # turn related into a list that is separated by semicolons\n",
    "            also = also.split(\"; \")\n",
    "            # drop an element off the list, if it does not appear in the list of items\n",
    "            also = [x for x in also if x in list_of_items]\n",
    "            # change every element of the list to a link that has the form [x](../items/x)\n",
    "            also = [f'[{x}](../items/{x})' for x in also]\n",
    "            # in every element of the list, change whitespace to underscore if in (brackets)\n",
    "            also = [re.sub(r'(?<=\\()(.*?)(?=\\))', lambda x: re.sub(r'\\s', '_', x.group(0)), x) for x in also]        \n",
    "            # join the elements of the list with a comma and a space\n",
    "            also = \", \".join(also)\n",
    "        else:\n",
    "            also = \"\"\n",
    "        \n",
    "        if also != \"\":\n",
    "            also = \" See also \" + also + \".\" if also[-1] != \".\" else also\n",
    "            \n",
    "        description += also            \n",
    "                \n",
    "        # Add a dot to the end of if not already\n",
    "        description = description + \".\" if description != \"\" and description[-1] != \".\" else description\n",
    "        preamble_description = description\n",
    "        page_description = description + \"\\n\\n\"\n",
    "        \n",
    "    else:\n",
    "        description = \"\"\n",
    "        preamble_description = \"\"\n",
    "        page_description = \"\"\n",
    "\n",
    "    print(\"Description:\", description)\n",
    "        \n",
    "    # Add Wikipedia link if exists\n",
    "    if pd.notna(df_local['wikipedia'][0]):\n",
    "        page_description += ' [<i class=\"fab fa-wikipedia-w\"></i>](' + df_local['wikipedia'][0] + \")\"\n",
    "\n",
    "    # Extract categories and tags and groups (which will be treated as tags)\n",
    "    if pd.notna(df_local['category'][0]):\n",
    "        category = df_local['category'][0]\n",
    "        category_list = category.split(\"; \") if \";\" in category else [f'{category}']\n",
    "    else:\n",
    "        category = \"\"\n",
    "        category_list = []\n",
    "\n",
    "    if pd.notna(df_local['tag'][0]):\n",
    "        tag = df_local['tag'][0]\n",
    "        tag_list = tag.split(\"; \") if \";\" in tag else [f'{tag}']\n",
    "    else:\n",
    "        tag = \"\"\n",
    "        tag_list = []\n",
    "        \n",
    "    if pd.notna(df_local['group'][0]):\n",
    "        group = df_local['group'][0]\n",
    "        group_list = group.split(\";\") if \";\" in group else [f'{group}']\n",
    "    else:\n",
    "        group_list = []\n",
    "        \n",
    "    print(\"Categories:\", category_list)\n",
    "    print(\"Tags:\", tag_list)\n",
    "    print(\"Groups:\", group_list)\n",
    "\n",
    "    # Combine tags and groups\n",
    "    tag_and_group_list = tag_list + group_list\n",
    "\n",
    "    # Assemble preamble\n",
    "    preamble = f'+++\\ntitle = \"{item.title()}\"\\nauthor = \"Gabor Parti\"\\ndate = \"{str(date.today())}\"\\ndescription = \"{preamble_description}\"\\nweight = 10\\n# draft = \"true\"\\n# hidden = \"true\"\\nplotly = true\\ncategories = {str(category_list)}\\ntags = {str(tag_and_group_list)}\\nbibFile = \"static/bibliography/parti.json\"\\n+++\\n\\n'\n",
    "\n",
    "    ###########################\n",
    "    ######## The Spice ########\n",
    "    ###########################\n",
    "\n",
    "    # Define taxon and family\n",
    "    taxon_name = str(df_local['taxon_name'][0])\n",
    "    if pd.notna(df_local['taxon_authors'][0]):\n",
    "        taxon_authors = str(df_local['taxon_authors'][0])\n",
    "    else:\n",
    "        taxon_authors = \"\"\n",
    "    taxon = f\"*{taxon_name}* {taxon_authors}\"\n",
    "\n",
    "    family = str(df_local['family'][0])\n",
    "    family = f\"*{family}*\"\n",
    "\n",
    "    category = re.sub('; ', ' and ', category)\n",
    "    if pd.notna(df_local['tag'][0]):\n",
    "        tag = re.sub('; ', ' and ', tag)\n",
    "    else:\n",
    "        tag = \"\"\n",
    "\n",
    "    part = str(df_local['part'][0])\n",
    "\n",
    "    geographic_area = str(df_local['geographic_area'][0])\n",
    "    lifeform_description = str(df_local['lifeform_description'][0])\n",
    "    climate_description = str(df_local['climate_description'][0])\n",
    "\n",
    "    # Intro\n",
    "    kingdom = str(df_local['kingdom'][0])\n",
    "\n",
    "    if kingdom == \"Plantae\":\n",
    "        intro = item.upper() + f\" is a {tag} {category}, valued and cultivated for its {part}. It is yielded from the plant {taxon}, a(n) {lifeform_description} in the {family} family, growing in the {climate_description} biome, with the native range of {geographic_area}.[^powo_{item}]\\n\\n[^powo_{item}]: [Plants of the World Online](https://powo.science.kew.org)\\n\\n\"\n",
    "        \n",
    "    if kingdom == \"Animalia\":\n",
    "        intro = item.upper() + f\" is a {tag} {category}, valued for its {part}. It is obtained from an animal, {taxon}, from the {family} family, living in the {climate_description} biome, with a native range of {geographic_area}.\"\n",
    "\n",
    "    # # if pd.notna(df_local['heat'][0]):\n",
    "    # #     intro = intro + \"It is used for its \" + re.sub('; ', ' and ', part) + \", primarily for \" + str(df_local['major uses'][0]) + \". Its aroma is described as \" + str(df_local['taste/smell'][0]) + \", with a heat index of \" + str(df_local['heat'][0]) + \".[^ucla_medicinal_2002]\" + \"\\n\\n\" + \"[^ucla_medicinal_2002]: Medicinal Spices Exhibit. (2002). UCLA Biomedical Library: History & Special Collections. https://unitproj.library.ucla.edu/biomed/spice/index.cfm?spicefilename=taste.txt&itemsuppress=yes&displayswitch=0\\n\\n\"\n",
    "\n",
    "    # Add values from df_local['petruzzello][0] if it's value is 'yes'.\n",
    "    citations = \"\"\n",
    "    if pd.notna(df_local['powo_url'][0]):\n",
    "        citations += \"powo\"\n",
    "    if pd.notna(df_local['petruzzello'][0]):\n",
    "        citations += \";petruzzello_2023_list\"\n",
    "    if pd.notna(df_local['vanwyk'][0]):\n",
    "        citations += \";vanwyk_2014_culinary\"\n",
    "    if pd.notna(df_local['dalby'][0]):\n",
    "        citations += \";dalby_2000_dangerous\"\n",
    "    if pd.notna(df_local['hill'][0]):\n",
    "        citations += \";hill_2004_contemporary\"\n",
    "    if pd.notna(df_local['anderson'][0]):\n",
    "        citations += \";anderson_2023_history\"\n",
    "        \n",
    "    if citations != \"\":\n",
    "        sources = r' {{< cite \"' + citations + r'\" >}}'\n",
    "    else:\n",
    "        sources = \"\"\n",
    "        \n",
    "    intro += \" See more in \" + sources + \"\\n\\n\"\n",
    "\n",
    "    print(intro)\n",
    "\n",
    "    # Overview \n",
    "    overview_head = \"## Overview\\n\\n\"\n",
    "\n",
    "    # Add taxon\n",
    "    df_local.loc[:, 'taxon'] = taxon\n",
    "\n",
    "    # Prepare overview tables\n",
    "    df_overview = df_local[['taxon', 'family', 'regions', 'continents', 'part']]\n",
    "\n",
    "    # Add cultivation if available\n",
    "    if pd.notna(df_local['cultivation'][0]):\n",
    "        # Add cultivation column to df_overview\n",
    "        df_overview = df_overview.assign(cultivation=df_local['cultivation'])\n",
    "        \n",
    "    # Set database link(s)\n",
    "    if pd.notna(df_local['powo_url'][0]):\n",
    "        botanical_database = \"[POWO](\" + df_local['powo_url'] + \")\"\n",
    "    else:\n",
    "        botanical_database = \"\"\n",
    "    if pd.notna(df_local['gbif'][0]):\n",
    "        botanical_database += \"; [GBIF](\" + df_local['gbif'][0] + \")\"\n",
    "    if pd.notna(df_local['trop'][0]):\n",
    "        botanical_database += \"; [TROP](\" + df_local['trop'][0] + \")\"\n",
    "    if pd.notna(df_local['eol'][0]):\n",
    "        botanical_database += \"; [EOL](\" + df_local['eol'][0] + \")\"\n",
    "    df_local.loc[:, 'botanical database'] = botanical_database\n",
    "\n",
    "    if pd.notna(df_local.loc[:, 'botanical database'][0]):\n",
    "        #add cultivation column to df_overview\n",
    "        df_overview = df_overview.assign(botanical_database=df_local['botanical database'])\n",
    "        \n",
    "    df_overview\n",
    "\n",
    "    # Transpose table\n",
    "    df_overview = df_overview.T\n",
    "    # Reset index\n",
    "    df_overview.reset_index(inplace=True)\n",
    "    # Rename columns\n",
    "    df_overview.columns = ['item', item]\n",
    "    # Prepare data to create markdown table\n",
    "    data = df_overview.to_dict(orient='records')\n",
    "    # Create markdown table\n",
    "    overview_mdt = markdown_table(data).set_params(row_sep = 'markdown', quote = False).get_markdown()\n",
    "    # Table\n",
    "    overview = overview_head + overview_mdt + \"\\n\\n\"\n",
    "\n",
    "    print(overview)\n",
    "    \n",
    "    # Photo (todo, make list of img ext and source now they are string)\n",
    "    # if df_local['img_count'][0] > 0:\n",
    "    #     img_src = re.sub(',.*', '', df_local['img_source'][0])\n",
    "    #     img_src = re.sub('_', ' ', img_src)\n",
    "        \n",
    "    #     photo = \"![\" + df_local['item'][0] + \"](/images/photos/\" + df_local['item'][0] + \"-1-\" + re.sub(',.*', '', df_local['img_source'][0]) + \".\" + re.sub(',.*', '', df_local['img_extension'][0]) + \"?width=14rem&classes=shadow\" + ' \"Photo: ' + img_src + '\")\\n\\n'\n",
    "    # else:\n",
    "    #     photo = \"\"\n",
    "    \n",
    "    \n",
    "    \n",
    "    # Illustration # &classes=shadow\n",
    "    if pd.notna(df_local['ill_source'].iloc[0]):\n",
    "        illustration_alt = \"Illustration of \" + df_local['taxon_name'][0] + \" from \" + df_local['ill_source'][0]\n",
    "        illustration = \"![\" + df_local['taxon_name'][0] + '](/images/illustrations/' + key + '.png?width=40rem \"' + illustration_alt + '\")' + '\\n'\n",
    "        illustration_source = df_local['ill_source'][0] + r\"{{< cite -\" + str(df_local['ill_key'][0]) + r\" >}} \" + str(df_local['ill_page'][0]) + r\".\"\n",
    "        illustration = illustration + \"\\n>Illustration of \" + df_local['taxon_name'][0] + \" from \" + illustration_source\n",
    "        if pd.notna(df_local['ill_link'].iloc[0]):\n",
    "            illustration = illustration + \" [{{% icon image %}}](\" + df_local['ill_link'].iloc[0] + \")\"\n",
    "    else:\n",
    "        illustration = \"\"\n",
    "    illustration = illustration + \"\\n\\n\"\n",
    "    \n",
    "    # Top display gallery\n",
    "    if len(list_files(f\"../static/images/photos/{key}\")) > 1:\n",
    "        display_gallery = '{{< load-photoswipe >}}\\n\\n{{< gallery dir=\"/images/photos/' + key + '\" hover-effect=\"slideup\" caption-effect=\"fade\" caption-position=\"none\" />}}' + \"\\n\\n\"\n",
    "    else:\n",
    "        display_gallery = \"\"\n",
    "        \n",
    "    # Gallery on the bottom of the page\n",
    "    if os.path.isdir(f\"../static/images/photos/{key}/gallery\"):\n",
    "        gallery =  '## Gallery\\n\\n{{< load-photoswipe >}}\\n\\n{{< gallery dir=\"/images/photos/' + key + '/gallery\" hover-effect=\"slideup\" caption-effect=\"fade\" />}}' + \"\\n\\n\"\n",
    "    else:\n",
    "        gallery = \"\"\n",
    "\n",
    "\n",
    "\n",
    "    # Quick names (predefined)\n",
    "    if pd.notna(df_local['English'][0]):\n",
    "        en = \"**English:** \" + df_local['English'][0] + \" · \"\n",
    "    else:\n",
    "        en = \"\"\n",
    "    if pd.notna(df_local['Hungarian'][0]):\n",
    "        hu = \"**Hungarian:** \" + df_local['Hungarian'][0] + \" · \"\n",
    "    else:\n",
    "        hu = \"\"\n",
    "    if pd.notna(df_local['Arabic'][0]):\n",
    "        ar = '**Arabic:** <span class=\"arabic-text\" dir=\"rtl\">' + df_local['Arabic'][0] + '</span>' + \" · \"\n",
    "    else:\n",
    "        ar = \"\"\n",
    "    if pd.notna(df_local['Hindi'][0]):\n",
    "        hi = '**Hindi:** <span class=\"devanagari-text\">' + df_local['Hindi'][0] + '</span>' + \" · \"\n",
    "    else:\n",
    "        hi = \"\"\n",
    "    if pd.notna(df_local['Chinese'][0]):\n",
    "        zh = '**Chinese:** <span class=\"traditional-chinese-text\">' + df_local['Chinese'][0] + '</span>' + \" · \"\n",
    "    else:\n",
    "        zh = \"\"\n",
    "    \n",
    "    quick_names = en + hu + ar + hi + zh\n",
    "    \n",
    "    # Quick names (additional)\n",
    "    if 'french' in df_local:\n",
    "        if pd.notna(df_local['french'][0]):\n",
    "            fr = \"**French:** \" + df_local['french'][0] + \" · \"\n",
    "            quick_names += fr\n",
    "        \n",
    "    if 'italian' in df_local:\n",
    "        if pd.notna(df_local['italian'][0]):\n",
    "            it = \"**Italian:** \" + df_local['italian'][0] + \" · \"\n",
    "            quick_names += it\n",
    "    \n",
    "    # Remove last dot from quick names\n",
    "    quick_names = re.sub(\" · $\", \"\", quick_names)\n",
    "    \n",
    "    if pd.notna(df_local['wiktionary'][0]):\n",
    "        wiktionary = ' · [<i class=\"fab fa-wikipedia-w\"></i>](' + df_local['wiktionary'][0] + \")\"\n",
    "    else:\n",
    "        wiktionary = \"\"\n",
    "        \n",
    "    quick_names += wiktionary\n",
    "    \n",
    "    # Center it\n",
    "    quick_names = '<center>\\n\\n' + quick_names + '\\n\\n</center>\\n\\n'\n",
    "\n",
    "\n",
    "\n",
    "    # Distribution\n",
    "    if pd.notna(df_local['native'][0]):\n",
    "        distribution = \"## Distribution\\n\\n\"\n",
    "        distribution = distribution + r'{{< load-plotly >}}' + '\\n\\n' + r'{{< plotly json=\"/aromatica/plotly/distributions/' + key + r'.json\" weight=\"600\" height=\"300\" >}}' + '\\n\\n'\n",
    "        distribution = distribution + f\">Native and introduced habitats of {df_local['taxon_name'][0]}[^powo]\\n\\n[^powo]: {df_local['powo_url'][0]}\\n\\n\"\n",
    "\n",
    "        # Check if 'native areas' is not empty and not 'NA' before adding to the string\n",
    "        regions = \"\"\n",
    "        if pd.notna(df_local['native'][0]) and df_local['native'][0] != 'NA':\n",
    "            regions += \"**Native areas:** &ensp; &ensp; &ensp; \" + df_local['native'][0] + \"\\n\\n\"\n",
    "        # Check if 'introduced areas' is not empty and not 'NA' before adding to the string\n",
    "        if pd.notna(df_local['introduced'][0]) and df_local['introduced'][0] != 'NA':\n",
    "            regions += \"**Introduced areas:** \" + df_local['introduced'][0] + \"\\n\\n\"\n",
    "        distribution += '<p style=\"text-align:left;\">\\n\\n' + regions + '</p>\\n\\n'\n",
    "    else :\n",
    "        distribution = \"\"\n",
    "\n",
    "\n",
    "    \n",
    "    ##############################\n",
    "    ######## Nomenclature ########\n",
    "    ##############################\n",
    "\n",
    "    # Dataframe of current item \n",
    "    # df_names_local = df_names.loc[df_names['item'] == item]\n",
    "\n",
    "    # Reset index\n",
    "    # df_names_local.reset_index(drop=True, inplace=True)\n",
    "\n",
    "    # Names\n",
    "    # names_head = \"***\\n\\n## Nomenclature\\n\\n\"\n",
    "    # Heads\n",
    "    # names_head_en = \"### English\\n\\n\"\n",
    "    # names_head_ar = \"### Arabic\\n\\n\"\n",
    "    # names_head_zh = \"### Chinese\\n\\n\"\n",
    "    \n",
    "    # # Language by language\n",
    "    # language = \"English\"\n",
    "    # df = df_names_local.loc[df_names_local['language'] == language]\n",
    "    # df = df[['term', 'source human']]\n",
    "    # df = df.rename(columns={'source human': 'source'})\n",
    "    # data = df.to_dict(orient='records')\n",
    "    # names_mdt_en = markdown_table(data).set_params(row_sep = 'markdown', quote = False).get_markdown()\n",
    "\n",
    "    # language = \"Arabic\"\n",
    "    # df = df_names_local.loc[df_names_local['language'] == language]\n",
    "    # df = df[['script', 'term', 'literal', 'source human']]\n",
    "    # df = df.rename(columns={'source human': 'source'})\n",
    "    # data = df.to_dict(orient='records')\n",
    "    # names_mdt_ar = markdown_table(data).set_params(row_sep = 'markdown', quote = False).get_markdown()\n",
    "\n",
    "    # language = \"Chinese\"\n",
    "    # df = df_names_local.loc[df_names_local['language'] == language]\n",
    "    # df = df[['script', 'term', 'literal', 'source human']]\n",
    "    # df = df.rename(columns={'source human': 'source'})\n",
    "    # data = df.to_dict(orient='records')\n",
    "    # names_mdt_zh = markdown_table(data).set_params(row_sep = 'markdown', quote = False).get_markdown()\n",
    "    # names = names_head + names_head_en + names_mdt_en + \"\\n\\n\" + names_head_ar + names_mdt_ar + \"\\n\\n\" + names_head_zh + names_mdt_zh + \"\\n\\n\"\n",
    "    names = \"\"\n",
    "\n",
    "\n",
    "\n",
    "    ###########################\n",
    "    ####### Etymologies #######\n",
    "    ###########################\n",
    "\n",
    "    # wordlist = df_local['etymologies'][0].split(\"; \")\n",
    "    # etymologies = \"\"\n",
    "    # for word in wordlist:\n",
    "    #     etymologies += dictionary_of_etymologies[word] + \"\\n\\n\"\n",
    "    # etymologies = \"## Etymologies\\n\\n\" + etymologies\n",
    "    etymologies = \"\" \n",
    "    \n",
    "    \n",
    "    \n",
    "    ###########################\n",
    "    ####### Manuscripts #######\n",
    "    ###########################\n",
    "    \n",
    "    # Manuscripts (if any)\n",
    "    # if a file exists in the folder \"content/items/manuscripts/\" with the name of the item, then add it to the page\n",
    "    if os.path.isfile(f\"../content/items/manuscripts/{key}_ms.md\"):\n",
    "        manuscript = \"***\\n\\n{{% include \\\"content/items/manuscripts/\" + key + \"_ms.md\\\" %}}\\n\\n\"\n",
    "    else:\n",
    "        manuscript = \"\"\n",
    "\n",
    "    ######## Assemble page ########\n",
    "    page = preamble + page_description + display_gallery + quick_names + overview + intro + illustration + distribution + names + etymologies + gallery\n",
    "    \n",
    "    # Bibliography - if page contains \"{{< cite\", then add bibliography\n",
    "    if \"{{< cite\" in page:\n",
    "        bibliography = \"# Bibliography\\n\\n{{< bibliography cited >}}\\n\\n\"\n",
    "    else:\n",
    "        bibliography = \"\"\n",
    "            \n",
    "    # Write page to file\n",
    "    with open(path_out_md + key + '_gen.md', 'w', encoding='utf-8') as f:\n",
    "            f.write(page)\n",
    "            \n",
    "    # Write bibliography to file\n",
    "    with open(path_out_md + key + '_bib.md', 'w', encoding='utf-8') as f:\n",
    "            f.write(bibliography)\n",
    "    return\n",
    "\n",
    "# Loop through all spices\n",
    "for key in list_of_keys:\n",
    "    webpage(key)\n",
    "print(\"Done.\")"
   ]
  },
  {
   "cell_type": "markdown",
   "metadata": {},
   "source": [
    "## Merge autogenerated files with manuscripts and bibliographies"
   ]
  },
  {
   "cell_type": "code",
   "execution_count": 32,
   "metadata": {},
   "outputs": [
    {
     "name": "stdout",
     "output_type": "stream",
     "text": [
      "Done.\n"
     ]
    }
   ],
   "source": [
    "def assemble_page(key):\n",
    "    '''\n",
    "    This function merges generated web pages with hand written parts (manuscripts), and page bibliographies into a final markdown file to show on a web page. Gen and bib are generated above, manuscripts are not. E.g., allspice_gen.md + allspice_ms.md + allspice_bib.md = allspice.md.\n",
    "    '''\n",
    "    filepath = website_md + 'manuscripts/' + key + '_ms.md'\n",
    "    if os.path.isfile(filepath) == True:\n",
    "        # Read generated files\n",
    "        with open(path_out_md + key + '_gen.md', 'r', encoding='utf-8') as f:\n",
    "            generated = f.read()\n",
    "        # Read manuscript files    \n",
    "        with open(website_md + 'manuscripts/' + key + '_ms.md', 'r', encoding='utf-8') as f:\n",
    "            manuscript = f.read()\n",
    "        # Read bib files\n",
    "        with open(path_out_md + key + '_bib.md', 'r', encoding='utf-8') as f:\n",
    "            bibliography = f.read()\n",
    "        # Assemble    \n",
    "        page = generated + \"\\n\\n***\\n\\n\" + manuscript + \"\\n\\n\" + bibliography\n",
    "        # Write out page file\n",
    "        with open(website_md + key + '.md', 'w', encoding='utf-8') as f:\n",
    "            f.write(page)\n",
    "    else:\n",
    "        # Read generated files\n",
    "        with open(path_out_md + key + '_gen.md', 'r', encoding='utf-8') as f:\n",
    "            generated = f.read()\n",
    "        # Read bib files    \n",
    "        with open(path_out_md + key + '_bib.md', 'r', encoding='utf-8') as f:\n",
    "            bibliography = f.read()\n",
    "        # Assemble    \n",
    "        page = generated + \"\\n\\n\" + bibliography\n",
    "        # Write out page file\n",
    "        with open(website_md + key + '.md', 'w', encoding='utf-8') as f:\n",
    "            f.write(page)\n",
    "    return\n",
    "\n",
    "# Loop through all spices\n",
    "for key in list_of_keys:\n",
    "    assemble_page(key)\n",
    "print(\"Done.\")"
   ]
  },
  {
   "cell_type": "markdown",
   "metadata": {},
   "source": [
    "# Maps"
   ]
  },
  {
   "cell_type": "code",
   "execution_count": 33,
   "metadata": {},
   "outputs": [],
   "source": [
    "df = df_items.copy()\n",
    "\n",
    "# Fill NaNs in the Arabic column with \"Not available\"\n",
    "df.fillna({'Arabic': 'Not available'}, inplace=True)\n",
    "df.fillna({'ar': ''}, inplace=True)\n",
    "\n",
    "df.fillna({'Chinese': 'Not available'}, inplace=True)\n",
    "df.fillna({'zh': ''}, inplace=True)"
   ]
  },
  {
   "cell_type": "markdown",
   "metadata": {},
   "source": [
    "### Map settings"
   ]
  },
  {
   "cell_type": "code",
   "execution_count": 34,
   "metadata": {},
   "outputs": [],
   "source": [
    "# Visual variables for map (dark mode)\n",
    "font_size = 12\n",
    "font_color = \"#dddddd\"\n",
    "font_family = \"Noto Sans\"\n",
    "marker_symbol= 'circle'\n",
    "marker_size = 12\n",
    "max_marker_size = 32\n",
    "edge_color = transparent\n",
    "edge_size = 1\n",
    "opacity = 0.75\n",
    "line_width = 4\n",
    "water = \"#202020\"\n",
    "grid_color = \"#282828\"\n",
    "land = \"#303030\"\n",
    "lines = \"#383838\"\n",
    "copyright_color = \"#404040\"\n",
    "background_color = transparent\n",
    "legend_background_color = quarter_transparent\n",
    "color_scheme = prism\n",
    "\n",
    "# # Visual variables for map (light mode)\n",
    "# font_size = 12\n",
    "# font_color = \"#000000\"\n",
    "# font_family = \"Noto Serif\"\n",
    "# marker_symbol= 'circle'\n",
    "# marker_size = 12\n",
    "# max_marker_size = 32\n",
    "# edge_color = transparent\n",
    "# edge_size = 1\n",
    "# opacity = 0.75\n",
    "# line_width = 4\n",
    "# water = \"#ffffff\"\n",
    "# grid_color = \"#f7f7f7\"\n",
    "# land = \"#ffffff\"\n",
    "# lines = \"#777777\"\n",
    "# copyright_color = \"#f7f7f7\"\n",
    "# background_color = transparent\n",
    "# legend_background_color = quarter_transparent\n",
    "# color_scheme = prism\n",
    "\n",
    "# Orthographic globe layout\n",
    "ortho_traces = dict(\n",
    "    textposition = 'top right', # middle left, bottom center, etc.\n",
    "    textfont = dict(size=font_size, color=font_color, family=font_family),\n",
    "    hovertemplate=\n",
    "        \"<b>%{customdata[0]}</b><br><br>\" +\n",
    "        \"Species: <i>%{customdata[1]}</i><br>\" +\n",
    "        \"Family: <i>%{customdata[2]}</i><br>\" +\n",
    "        \"Region of origin: %{customdata[3]}<br>\" +\n",
    "        \"Arabic: %{customdata[4]} <i>%{customdata[5]}</i><br>\" +\n",
    "        \"Chinese: %{customdata[6]} <i>%{customdata[7]}</i><br>\" +\n",
    "        # \"Spreadability: %{customdata[7]:.2f}<br>\" +\n",
    "        \"<extra></extra>\",\n",
    "    marker = dict(\n",
    "        symbol = marker_symbol,\n",
    "        size = marker_size,\n",
    "        line = dict(\n",
    "            color=edge_color,\n",
    "            width=edge_size\n",
    "        )\n",
    "    )\n",
    ")\n",
    "\n",
    "ortho_layout = go.Layout(\n",
    "    paper_bgcolor=background_color,\n",
    "    plot_bgcolor=background_color,\n",
    "    geo = dict(\n",
    "        resolution=110, # 50 is large; 110 is small\n",
    "        scope='world', # 'world', 'asia'\n",
    "        projection_type = 'orthographic', # orthographic, natural earth\n",
    "        projection_scale = 1,\n",
    "        projection_rotation = {'lat': 20, 'lon': 80, 'roll': 0},\n",
    "        bgcolor=background_color,\n",
    "        showcoastlines=True, coastlinewidth = 1, coastlinecolor = lines,\n",
    "        showcountries=False, countrywidth = 1, countrycolor = lines,\n",
    "        showframe=True, framewidth = 1, framecolor = lines,\n",
    "        showlakes=True, lakecolor = water,\n",
    "        showland=True, landcolor = land,\n",
    "        showocean=True, oceancolor = water,\n",
    "        showrivers=True, riverwidth = 1, rivercolor = water,\n",
    "        showsubunits=True, subunitwidth = 0, subunitcolor = lines,\n",
    "        lonaxis = dict(showgrid = True, gridwidth = 0.5, dtick = 10, gridcolor=grid_color),\n",
    "        lataxis = dict (showgrid = True, gridwidth = 0.5, dtick = 10, gridcolor=grid_color)),\n",
    "    showlegend = True,\n",
    "    legend=dict(x=0, y=0, xanchor=\"left\", yanchor=\"bottom\", bgcolor=legend_background_color,\n",
    "                font=dict(color=font_color, size=font_size, family=font_family),\n",
    "                title_font=dict(color=font_color, size=font_size+2, family=font_family),\n",
    "                traceorder = 'normal', orientation=\"v\"),\n",
    "    title=dict(x=0.5, y=0.99, xanchor='center', yanchor='top', text='',\n",
    "               font=dict(color=font_color, size=font_size+6, family=font_family)),\n",
    "    margin={\"r\":0,\"t\":0,\"l\":0,\"b\":0},\n",
    "    hoverlabel=dict(#bgcolor=\"white\",\n",
    "                    font_size=font_size,\n",
    "                    font_family=font_family),\n",
    "    )\n",
    "\n",
    "# \"Document size\" for pdfs\n",
    "document_size = dict(width = 600, height=600)\n",
    "\n",
    "# Copyright\n",
    "cr = dict(\n",
    "    name=\"copyright\",\n",
    "    text=\"© Gábor Parti, 2024\",\n",
    "    font=dict(color=copyright_color, size=font_size-4, family=font_family),\n",
    "    opacity=0.9,\n",
    "    xref=\"paper\",\n",
    "    yref=\"paper\",\n",
    "    x=0.5,\n",
    "    y=0,\n",
    "    # xanchor=\"right\", \n",
    "    # yanchor=\"bottom\", \n",
    "    # align=\"center\",\n",
    "    showarrow=False,\n",
    ")\n",
    "# fig.update_layout(annotations = [cr]) # to call\n",
    "\n",
    "## Info\n",
    "info = dict(\n",
    "    name=\"info\",\n",
    "    text=\"Click on a material to navigate to its corresponding page!\",\n",
    "    font=dict(color=font_color, size=font_size+4, family=font_family),\n",
    "    opacity=0.9,\n",
    "    xref=\"paper\",\n",
    "    yref=\"paper\",\n",
    "    x=0.5,\n",
    "    y=0.05,\n",
    "    # xanchor=\"right\", \n",
    "    # yanchor=\"bottom\", \n",
    "    # align=\"center\",\n",
    "    showarrow=False,\n",
    ")\n",
    "# fig.update_layout(annotations = [info]) # to call\n",
    "\n",
    "# Adding layout images\n",
    "logo = dict(\n",
    "    source=\"https://github.com/partigabor/aromatica/blob/main/static/images/favicon.svg\",\n",
    "    sizex=0.15, sizey=0.15,\n",
    "    x=1, y=0, \n",
    "    xanchor=\"right\", \n",
    "    yanchor=\"bottom\", \n",
    ")\n",
    "# fig.add_layout_image(logo) # to call"
   ]
  },
  {
   "cell_type": "code",
   "execution_count": 35,
   "metadata": {},
   "outputs": [],
   "source": [
    "# Layout for cloropleth maps (regions and distributions)\n",
    "dist_traces = dict(\n",
    "    hovertemplate=\n",
    "        \"Region: <i>%{customdata[0]}</i><br>\" +\n",
    "        \"Code: <i>%{customdata[1]}</i><br>\" +\n",
    "        \"<extra></extra>\",\n",
    ")\n",
    "\n",
    "dist_layout = go.Layout(\n",
    "    paper_bgcolor=background_color,\n",
    "    plot_bgcolor=background_color,\n",
    "    geo = dict(\n",
    "        resolution=110, # 50 is large; 110 is small\n",
    "        scope='world', # 'world', 'asia'\n",
    "        projection_type = 'orthographic', #'natural earth',\n",
    "        projection_scale = 2,\n",
    "        projection_rotation = {'lat': 20, 'lon': 80, 'roll': 0},\n",
    "        bgcolor=background_color,\n",
    "        showcoastlines=True, coastlinewidth = 1, coastlinecolor = lines,\n",
    "        showcountries=False, countrywidth = 1, countrycolor = lines,\n",
    "        showframe=True, framewidth = 1, framecolor = lines,\n",
    "        showlakes=True, lakecolor = water,\n",
    "        showland=True, landcolor = land,\n",
    "        showocean=True, oceancolor = water,\n",
    "        showrivers=True, riverwidth = 1, rivercolor = water,\n",
    "        showsubunits=True, subunitwidth = 0, subunitcolor = lines,\n",
    "        lonaxis = dict(showgrid = True, gridwidth = 0.5, dtick = 10, gridcolor=grid_color),\n",
    "        lataxis = dict (showgrid = True, gridwidth = 0.5, dtick = 10, gridcolor=grid_color)),\n",
    "    showlegend = True,\n",
    "    legend=dict(xanchor=\"left\", yanchor=\"bottom\", \n",
    "                # x=0.1, y=0.1, # for natural earth\n",
    "                x=0, y=0, # for orthographic\n",
    "                bgcolor=legend_background_color,\n",
    "                font=dict(color=font_color, size=font_size, family=font_family),\n",
    "                title_font=dict(color=font_color, size=font_size+2, family=font_family),\n",
    "                traceorder = 'normal', orientation=\"v\"),\n",
    "    title=dict(x=0.5, y=0.99, xanchor='center', yanchor='top', text='',\n",
    "               font=dict(color=font_color, size=font_size+6, family=font_family)),\n",
    "    margin={\"r\":0,\"t\":0,\"l\":0,\"b\":0},\n",
    "    hoverlabel=dict(#bgcolor=\"white\",\n",
    "                    font_size=font_size,\n",
    "                    font_family=font_family),\n",
    "    )"
   ]
  },
  {
   "cell_type": "code",
   "execution_count": 36,
   "metadata": {},
   "outputs": [],
   "source": [
    "# Define the map layout with the Marble basemap\n",
    "marble = go.Layout(\n",
    "    margin=dict(l=0, r=0, t=0, b=0),\n",
    "    hovermode=\"closest\",\n",
    "    mapbox_style=\"white-bg\",\n",
    "    mapbox_layers=[\n",
    "        {\n",
    "            \"below\": 'traces',\n",
    "            \"sourcetype\": \"raster\",\n",
    "            \"sourceattribution\": \"United States Geological Survey\",\n",
    "            \"source\": [\n",
    "                \"https://basemap.nationalmap.gov/arcgis/rest/services/USGSImageryOnly/MapServer/tile/{z}/{y}/{x}\"\n",
    "            ]\n",
    "        }\n",
    "      ]\n",
    "    # mapbox=dict(\n",
    "    #     center=dict(lat=0, lon=0),\n",
    "    #     style=\"open-street-map\", \n",
    "    #     zoom=1,\n",
    "    # ),\n",
    ")"
   ]
  },
  {
   "cell_type": "markdown",
   "metadata": {},
   "source": [
    "## World map by plant family"
   ]
  },
  {
   "cell_type": "code",
   "execution_count": 37,
   "metadata": {},
   "outputs": [
    {
     "data": {
      "application/vnd.plotly.v1+json": {
       "config": {
        "plotlyServerURL": "https://plot.ly"
       },
       "data": [
        {
         "customdata": [
          [
           "allspice",
           "Pimenta dioica",
           "Myrtaceae",
           "S. Mexico to C. America, Caribbean",
           "فلفل إفرنجي",
           "fulful ifranjī",
           "多香果",
           "duōxiāngguǒ",
           -77,
           18,
           1
          ],
          [
           "clove",
           "Syzygium aromaticum",
           "Myrtaceae",
           "Maluku",
           "قرنفل",
           "qaranful",
           "丁香",
           "dīngxiāng",
           127,
           1,
           1
          ]
         ],
         "geo": "geo",
         "hovertemplate": "<b>%{customdata[0]}</b><br><br>Species: <i>%{customdata[1]}</i><br>Family: <i>%{customdata[2]}</i><br>Region of origin: %{customdata[3]}<br>Arabic: %{customdata[4]} <i>%{customdata[5]}</i><br>Chinese: %{customdata[6]} <i>%{customdata[7]}</i><br><extra></extra>",
         "hovertext": [
          "allspice",
          "clove"
         ],
         "lat": [
          18,
          1
         ],
         "legendgroup": "Myrtaceae",
         "lon": [
          -77,
          127
         ],
         "marker": {
          "color": "#5f4690",
          "line": {
           "color": "rgba(0,0,0,0)",
           "width": 1
          },
          "opacity": 0.75,
          "size": 12,
          "sizemode": "area",
          "sizeref": 0.0009765625,
          "symbol": "circle"
         },
         "mode": "markers",
         "name": "Myrtaceae",
         "showlegend": true,
         "textfont": {
          "color": "#dddddd",
          "family": "Noto Sans",
          "size": 12
         },
         "textposition": "top right",
         "type": "scattergeo"
        },
        {
         "customdata": [
          [
           "anise",
           "Pimpinella anisum",
           "Apiaceae",
           "SE. Türkiye to C. Israel, Cyprus",
           "أنيسون",
           "anīsūn",
           "茴芹",
           "huíqín",
           33,
           35,
           1
          ],
          [
           "asafoetida",
           "Ferula foetida",
           "Apiaceae",
           "Iran to C. Asia and W. Pakistan",
           "حلتیت",
           "ḥiltīt",
           "阿魏",
           "āwèi",
           68,
           34,
           1
          ],
          [
           "caraway",
           "Carum carvi",
           "Apiaceae",
           "Temp. Eurasia",
           "كراويا",
           "karāwiyā",
           "葛縷子",
           "gě​lǚ​zi",
           69,
           45,
           1
          ],
          [
           "coriander",
           "Coriandrum sativum",
           "Apiaceae",
           "E. Medit. to Pakistan",
           "كزبرة",
           "kuzbara",
           "芫荽",
           "yán​sui",
           45,
           40,
           1
          ],
          [
           "cumin",
           "Cuminum cyminum",
           "Apiaceae",
           "Iraq to Afghanistan",
           "كمون ",
           "kammūn",
           "孜然",
           "zī​rán",
           51,
           36,
           1
          ],
          [
           "fennel",
           "Foeniculum vulgare",
           "Apiaceae",
           "Medit. to Ethiopia and W. Nepal",
           "شمر",
           "shamar",
           "茴香",
           "huíxiāng",
           39,
           35,
           1
          ]
         ],
         "geo": "geo",
         "hovertemplate": "<b>%{customdata[0]}</b><br><br>Species: <i>%{customdata[1]}</i><br>Family: <i>%{customdata[2]}</i><br>Region of origin: %{customdata[3]}<br>Arabic: %{customdata[4]} <i>%{customdata[5]}</i><br>Chinese: %{customdata[6]} <i>%{customdata[7]}</i><br><extra></extra>",
         "hovertext": [
          "anise",
          "asafoetida",
          "caraway",
          "coriander",
          "cumin",
          "fennel"
         ],
         "lat": [
          35,
          34,
          45,
          40,
          36,
          35
         ],
         "legendgroup": "Apiaceae",
         "lon": [
          33,
          68,
          69,
          45,
          51,
          39
         ],
         "marker": {
          "color": "#1d6996",
          "line": {
           "color": "rgba(0,0,0,0)",
           "width": 1
          },
          "opacity": 0.75,
          "size": 12,
          "sizemode": "area",
          "sizeref": 0.0009765625,
          "symbol": "circle"
         },
         "mode": "markers",
         "name": "Apiaceae",
         "showlegend": true,
         "textfont": {
          "color": "#dddddd",
          "family": "Noto Sans",
          "size": 12
         },
         "textposition": "top right",
         "type": "scattergeo"
        },
        {
         "customdata": [
          [
           "cardamom",
           "Elettaria cardamomum",
           "Zingiberaceae",
           "SW. India",
           "هال",
           "hāl",
           "小豆蔻",
           "xiǎodòukòu",
           77,
           10,
           1
          ],
          [
           "ginger",
           "Zingiber officinale",
           "Zingiberaceae",
           "India to SC. China",
           "زنجبيل",
           "zanjabīl",
           "薑",
           "jiāng",
           93,
           26,
           1
          ],
          [
           "turmeric",
           "Curcuma longa",
           "Zingiberaceae",
           "a cultigen from SW. India",
           "كركم",
           "kurkum",
           "薑黃",
           "jiānghuáng",
           79,
           11,
           1
          ]
         ],
         "geo": "geo",
         "hovertemplate": "<b>%{customdata[0]}</b><br><br>Species: <i>%{customdata[1]}</i><br>Family: <i>%{customdata[2]}</i><br>Region of origin: %{customdata[3]}<br>Arabic: %{customdata[4]} <i>%{customdata[5]}</i><br>Chinese: %{customdata[6]} <i>%{customdata[7]}</i><br><extra></extra>",
         "hovertext": [
          "cardamom",
          "ginger",
          "turmeric"
         ],
         "lat": [
          10,
          26,
          11
         ],
         "legendgroup": "Zingiberaceae",
         "lon": [
          77,
          93,
          79
         ],
         "marker": {
          "color": "#38a6a5",
          "line": {
           "color": "rgba(0,0,0,0)",
           "width": 1
          },
          "opacity": 0.75,
          "size": 12,
          "sizemode": "area",
          "sizeref": 0.0009765625,
          "symbol": "circle"
         },
         "mode": "markers",
         "name": "Zingiberaceae",
         "showlegend": true,
         "textfont": {
          "color": "#dddddd",
          "family": "Noto Sans",
          "size": 12
         },
         "textposition": "top right",
         "type": "scattergeo"
        },
        {
         "customdata": [
          [
           "cassia",
           "Cinnamomum aromaticum",
           "Lauraceae",
           "SE. China to Vietnam",
           "سليخة",
           "salīkha",
           "肉桂",
           "ròuguì",
           108,
           23,
           1
          ],
          [
           "cinnamon",
           "Cinnamomum verum",
           "Lauraceae",
           "Sri Lanka",
           "قرفة",
           "qirfa",
           "錫蘭肉桂",
           "xīlánròuguì",
           81,
           7,
           1
          ]
         ],
         "geo": "geo",
         "hovertemplate": "<b>%{customdata[0]}</b><br><br>Species: <i>%{customdata[1]}</i><br>Family: <i>%{customdata[2]}</i><br>Region of origin: %{customdata[3]}<br>Arabic: %{customdata[4]} <i>%{customdata[5]}</i><br>Chinese: %{customdata[6]} <i>%{customdata[7]}</i><br><extra></extra>",
         "hovertext": [
          "cassia",
          "cinnamon"
         ],
         "lat": [
          23,
          7
         ],
         "legendgroup": "Lauraceae",
         "lon": [
          108,
          81
         ],
         "marker": {
          "color": "#0f8554",
          "line": {
           "color": "rgba(0,0,0,0)",
           "width": 1
          },
          "opacity": 0.75,
          "size": 12,
          "sizemode": "area",
          "sizeref": 0.0009765625,
          "symbol": "circle"
         },
         "mode": "markers",
         "name": "Lauraceae",
         "showlegend": true,
         "textfont": {
          "color": "#dddddd",
          "family": "Noto Sans",
          "size": 12
         },
         "textposition": "top right",
         "type": "scattergeo"
        },
        {
         "customdata": [
          [
           "cubeb",
           "Piper cubeba",
           "Piperaceae",
           "Indo-China to Malesia",
           "كبابة",
           "kabāba, kubāba",
           "蓽澄茄",
           "bìchéngqié",
           101,
           0,
           1
          ],
          [
           "long pepper",
           "Piper longum",
           "Piperaceae",
           "E. Himalaya to China (S. Yunnan) and Indo-China",
           "دارفلفل",
           "dārfilfil",
           "蓽撥",
           "bìbō",
           82,
           25,
           1
          ],
          [
           "pepper",
           "Piper nigrum",
           "Piperaceae",
           "SW. India",
           "فلفل",
           "filfil, fulful",
           "胡椒",
           "hújiāo",
           76,
           15,
           1
          ]
         ],
         "geo": "geo",
         "hovertemplate": "<b>%{customdata[0]}</b><br><br>Species: <i>%{customdata[1]}</i><br>Family: <i>%{customdata[2]}</i><br>Region of origin: %{customdata[3]}<br>Arabic: %{customdata[4]} <i>%{customdata[5]}</i><br>Chinese: %{customdata[6]} <i>%{customdata[7]}</i><br><extra></extra>",
         "hovertext": [
          "cubeb",
          "long pepper",
          "pepper"
         ],
         "lat": [
          0,
          25,
          15
         ],
         "legendgroup": "Piperaceae",
         "lon": [
          101,
          82,
          76
         ],
         "marker": {
          "color": "#73af48",
          "line": {
           "color": "rgba(0,0,0,0)",
           "width": 1
          },
          "opacity": 0.75,
          "size": 12,
          "sizemode": "area",
          "sizeref": 0.0009765625,
          "symbol": "circle"
         },
         "mode": "markers",
         "name": "Piperaceae",
         "showlegend": true,
         "textfont": {
          "color": "#dddddd",
          "family": "Noto Sans",
          "size": 12
         },
         "textposition": "top right",
         "type": "scattergeo"
        },
        {
         "customdata": [
          [
           "fenugreek",
           "Trigonella foenum-graecum",
           "Fabaceae",
           "Iraq to N. Pakistan",
           "حلبة",
           "ḥulba",
           "胡蘆巴",
           "húlúbā",
           44,
           33,
           1
          ]
         ],
         "geo": "geo",
         "hovertemplate": "<b>%{customdata[0]}</b><br><br>Species: <i>%{customdata[1]}</i><br>Family: <i>%{customdata[2]}</i><br>Region of origin: %{customdata[3]}<br>Arabic: %{customdata[4]} <i>%{customdata[5]}</i><br>Chinese: %{customdata[6]} <i>%{customdata[7]}</i><br><extra></extra>",
         "hovertext": [
          "fenugreek"
         ],
         "lat": [
          33
         ],
         "legendgroup": "Fabaceae",
         "lon": [
          44
         ],
         "marker": {
          "color": "#edae08",
          "line": {
           "color": "rgba(0,0,0,0)",
           "width": 1
          },
          "opacity": 0.75,
          "size": 12,
          "sizemode": "area",
          "sizeref": 0.0009765625,
          "symbol": "circle"
         },
         "mode": "markers",
         "name": "Fabaceae",
         "showlegend": true,
         "textfont": {
          "color": "#dddddd",
          "family": "Noto Sans",
          "size": 12
         },
         "textposition": "top right",
         "type": "scattergeo"
        },
        {
         "customdata": [
          [
           "mace",
           "Myristica fragrans",
           "Myristicaceae",
           "Maluku (Banda Is.)",
           "بسباسة",
           "basbāsa",
           "肉豆蔻皮",
           "ròudòukòupí",
           130,
           -5,
           1
          ],
          [
           "nutmeg",
           "Myristica fragrans",
           "Myristicaceae",
           "Maluku (Banda Is.)",
           "جوز الطيب",
           "jawz al-ṭīb",
           "肉豆蔻",
           "ròudòukòu",
           129,
           -4,
           1
          ]
         ],
         "geo": "geo",
         "hovertemplate": "<b>%{customdata[0]}</b><br><br>Species: <i>%{customdata[1]}</i><br>Family: <i>%{customdata[2]}</i><br>Region of origin: %{customdata[3]}<br>Arabic: %{customdata[4]} <i>%{customdata[5]}</i><br>Chinese: %{customdata[6]} <i>%{customdata[7]}</i><br><extra></extra>",
         "hovertext": [
          "mace",
          "nutmeg"
         ],
         "lat": [
          -5,
          -4
         ],
         "legendgroup": "Myristicaceae",
         "lon": [
          130,
          129
         ],
         "marker": {
          "color": "#e17909",
          "line": {
           "color": "rgba(0,0,0,0)",
           "width": 1
          },
          "opacity": 0.75,
          "size": 12,
          "sizemode": "area",
          "sizeref": 0.0009765625,
          "symbol": "circle"
         },
         "mode": "markers",
         "name": "Myristicaceae",
         "showlegend": true,
         "textfont": {
          "color": "#dddddd",
          "family": "Noto Sans",
          "size": 12
         },
         "textposition": "top right",
         "type": "scattergeo"
        },
        {
         "customdata": [
          [
           "saffron",
           "Crocus sativus",
           "Iridaceae",
           "a cultigen from Greece",
           "زعفران",
           "zaʿfarān",
           "藏紅花",
           "zànghónghuā",
           25,
           36,
           1
          ]
         ],
         "geo": "geo",
         "hovertemplate": "<b>%{customdata[0]}</b><br><br>Species: <i>%{customdata[1]}</i><br>Family: <i>%{customdata[2]}</i><br>Region of origin: %{customdata[3]}<br>Arabic: %{customdata[4]} <i>%{customdata[5]}</i><br>Chinese: %{customdata[6]} <i>%{customdata[7]}</i><br><extra></extra>",
         "hovertext": [
          "saffron"
         ],
         "lat": [
          36
         ],
         "legendgroup": "Iridaceae",
         "lon": [
          25
         ],
         "marker": {
          "color": "#cc503e",
          "line": {
           "color": "rgba(0,0,0,0)",
           "width": 1
          },
          "opacity": 0.75,
          "size": 12,
          "sizemode": "area",
          "sizeref": 0.0009765625,
          "symbol": "circle"
         },
         "mode": "markers",
         "name": "Iridaceae",
         "showlegend": true,
         "textfont": {
          "color": "#dddddd",
          "family": "Noto Sans",
          "size": 12
         },
         "textposition": "top right",
         "type": "scattergeo"
        },
        {
         "customdata": [
          [
           "star anise",
           "Illicium verum",
           "Schisandraceae",
           "China (S. & W. Guangxi) to N. Vietnam",
           "يانسون نجمي",
           "yānsūn najmī",
           "八角",
           "bājiǎo",
           106,
           18,
           1
          ]
         ],
         "geo": "geo",
         "hovertemplate": "<b>%{customdata[0]}</b><br><br>Species: <i>%{customdata[1]}</i><br>Family: <i>%{customdata[2]}</i><br>Region of origin: %{customdata[3]}<br>Arabic: %{customdata[4]} <i>%{customdata[5]}</i><br>Chinese: %{customdata[6]} <i>%{customdata[7]}</i><br><extra></extra>",
         "hovertext": [
          "star anise"
         ],
         "lat": [
          18
         ],
         "legendgroup": "Schisandraceae",
         "lon": [
          106
         ],
         "marker": {
          "color": "#94346e",
          "line": {
           "color": "rgba(0,0,0,0)",
           "width": 1
          },
          "opacity": 0.75,
          "size": 12,
          "sizemode": "area",
          "sizeref": 0.0009765625,
          "symbol": "circle"
         },
         "mode": "markers",
         "name": "Schisandraceae",
         "showlegend": true,
         "textfont": {
          "color": "#dddddd",
          "family": "Noto Sans",
          "size": 12
         },
         "textposition": "top right",
         "type": "scattergeo"
        },
        {
         "customdata": [
          [
           "vanilla",
           "Vanilla planifolia",
           "Orchidaceae",
           "S. Mexico to Brazil",
           "فانيليا",
           "fānīliyā",
           "香草",
           "xiāngcǎo",
           -86,
           13,
           1
          ]
         ],
         "geo": "geo",
         "hovertemplate": "<b>%{customdata[0]}</b><br><br>Species: <i>%{customdata[1]}</i><br>Family: <i>%{customdata[2]}</i><br>Region of origin: %{customdata[3]}<br>Arabic: %{customdata[4]} <i>%{customdata[5]}</i><br>Chinese: %{customdata[6]} <i>%{customdata[7]}</i><br><extra></extra>",
         "hovertext": [
          "vanilla"
         ],
         "lat": [
          13
         ],
         "legendgroup": "Orchidaceae",
         "lon": [
          -86
         ],
         "marker": {
          "color": "#6f4070",
          "line": {
           "color": "rgba(0,0,0,0)",
           "width": 1
          },
          "opacity": 0.75,
          "size": 12,
          "sizemode": "area",
          "sizeref": 0.0009765625,
          "symbol": "circle"
         },
         "mode": "markers",
         "name": "Orchidaceae",
         "showlegend": true,
         "textfont": {
          "color": "#dddddd",
          "family": "Noto Sans",
          "size": 12
         },
         "textposition": "top right",
         "type": "scattergeo"
        }
       ],
       "layout": {
        "annotations": [
         {
          "font": {
           "color": "#404040",
           "family": "Noto Sans",
           "size": 8
          },
          "name": "copyright",
          "opacity": 0.9,
          "showarrow": false,
          "text": "© Gábor Parti, 2024",
          "x": 0.5,
          "xref": "paper",
          "y": 0,
          "yref": "paper"
         }
        ],
        "geo": {
         "bgcolor": "rgba(0,0,0,0)",
         "center": {},
         "coastlinecolor": "#383838",
         "coastlinewidth": 1,
         "countrycolor": "#383838",
         "countrywidth": 1,
         "domain": {
          "x": [
           0,
           1
          ],
          "y": [
           0,
           1
          ]
         },
         "framecolor": "#383838",
         "framewidth": 1,
         "lakecolor": "#202020",
         "landcolor": "#303030",
         "lataxis": {
          "dtick": 10,
          "gridcolor": "#282828",
          "gridwidth": 0.5,
          "showgrid": true
         },
         "lonaxis": {
          "dtick": 10,
          "gridcolor": "#282828",
          "gridwidth": 0.5,
          "showgrid": true
         },
         "oceancolor": "#202020",
         "projection": {
          "rotation": {
           "lat": 20,
           "lon": 80,
           "roll": 0
          },
          "scale": 1,
          "type": "orthographic"
         },
         "resolution": 110,
         "rivercolor": "#202020",
         "riverwidth": 1,
         "scope": "world",
         "showcoastlines": true,
         "showcountries": false,
         "showframe": true,
         "showlakes": true,
         "showland": true,
         "showocean": true,
         "showrivers": true,
         "showsubunits": true,
         "subunitcolor": "#383838",
         "subunitwidth": 0
        },
        "hoverlabel": {
         "font": {
          "family": "Noto Sans",
          "size": 12
         }
        },
        "legend": {
         "bgcolor": "rgba(0,0,0,0.25)",
         "font": {
          "color": "#dddddd",
          "family": "Noto Sans",
          "size": 12
         },
         "itemsizing": "constant",
         "orientation": "v",
         "title": {
          "font": {
           "color": "#dddddd",
           "family": "Noto Sans",
           "size": 14
          },
          "text": "family"
         },
         "tracegroupgap": 0,
         "traceorder": "normal",
         "x": 0,
         "xanchor": "left",
         "y": 0,
         "yanchor": "bottom"
        },
        "margin": {
         "b": 0,
         "l": 0,
         "r": 0,
         "t": 0
        },
        "paper_bgcolor": "rgba(0,0,0,0)",
        "plot_bgcolor": "rgba(0,0,0,0)",
        "showlegend": true,
        "template": {
         "data": {
          "bar": [
           {
            "error_x": {
             "color": "#2a3f5f"
            },
            "error_y": {
             "color": "#2a3f5f"
            },
            "marker": {
             "line": {
              "color": "#E5ECF6",
              "width": 0.5
             },
             "pattern": {
              "fillmode": "overlay",
              "size": 10,
              "solidity": 0.2
             }
            },
            "type": "bar"
           }
          ],
          "barpolar": [
           {
            "marker": {
             "line": {
              "color": "#E5ECF6",
              "width": 0.5
             },
             "pattern": {
              "fillmode": "overlay",
              "size": 10,
              "solidity": 0.2
             }
            },
            "type": "barpolar"
           }
          ],
          "carpet": [
           {
            "aaxis": {
             "endlinecolor": "#2a3f5f",
             "gridcolor": "white",
             "linecolor": "white",
             "minorgridcolor": "white",
             "startlinecolor": "#2a3f5f"
            },
            "baxis": {
             "endlinecolor": "#2a3f5f",
             "gridcolor": "white",
             "linecolor": "white",
             "minorgridcolor": "white",
             "startlinecolor": "#2a3f5f"
            },
            "type": "carpet"
           }
          ],
          "choropleth": [
           {
            "colorbar": {
             "outlinewidth": 0,
             "ticks": ""
            },
            "type": "choropleth"
           }
          ],
          "contour": [
           {
            "colorbar": {
             "outlinewidth": 0,
             "ticks": ""
            },
            "colorscale": [
             [
              0,
              "#0d0887"
             ],
             [
              0.1111111111111111,
              "#46039f"
             ],
             [
              0.2222222222222222,
              "#7201a8"
             ],
             [
              0.3333333333333333,
              "#9c179e"
             ],
             [
              0.4444444444444444,
              "#bd3786"
             ],
             [
              0.5555555555555556,
              "#d8576b"
             ],
             [
              0.6666666666666666,
              "#ed7953"
             ],
             [
              0.7777777777777778,
              "#fb9f3a"
             ],
             [
              0.8888888888888888,
              "#fdca26"
             ],
             [
              1,
              "#f0f921"
             ]
            ],
            "type": "contour"
           }
          ],
          "contourcarpet": [
           {
            "colorbar": {
             "outlinewidth": 0,
             "ticks": ""
            },
            "type": "contourcarpet"
           }
          ],
          "heatmap": [
           {
            "colorbar": {
             "outlinewidth": 0,
             "ticks": ""
            },
            "colorscale": [
             [
              0,
              "#0d0887"
             ],
             [
              0.1111111111111111,
              "#46039f"
             ],
             [
              0.2222222222222222,
              "#7201a8"
             ],
             [
              0.3333333333333333,
              "#9c179e"
             ],
             [
              0.4444444444444444,
              "#bd3786"
             ],
             [
              0.5555555555555556,
              "#d8576b"
             ],
             [
              0.6666666666666666,
              "#ed7953"
             ],
             [
              0.7777777777777778,
              "#fb9f3a"
             ],
             [
              0.8888888888888888,
              "#fdca26"
             ],
             [
              1,
              "#f0f921"
             ]
            ],
            "type": "heatmap"
           }
          ],
          "heatmapgl": [
           {
            "colorbar": {
             "outlinewidth": 0,
             "ticks": ""
            },
            "colorscale": [
             [
              0,
              "#0d0887"
             ],
             [
              0.1111111111111111,
              "#46039f"
             ],
             [
              0.2222222222222222,
              "#7201a8"
             ],
             [
              0.3333333333333333,
              "#9c179e"
             ],
             [
              0.4444444444444444,
              "#bd3786"
             ],
             [
              0.5555555555555556,
              "#d8576b"
             ],
             [
              0.6666666666666666,
              "#ed7953"
             ],
             [
              0.7777777777777778,
              "#fb9f3a"
             ],
             [
              0.8888888888888888,
              "#fdca26"
             ],
             [
              1,
              "#f0f921"
             ]
            ],
            "type": "heatmapgl"
           }
          ],
          "histogram": [
           {
            "marker": {
             "pattern": {
              "fillmode": "overlay",
              "size": 10,
              "solidity": 0.2
             }
            },
            "type": "histogram"
           }
          ],
          "histogram2d": [
           {
            "colorbar": {
             "outlinewidth": 0,
             "ticks": ""
            },
            "colorscale": [
             [
              0,
              "#0d0887"
             ],
             [
              0.1111111111111111,
              "#46039f"
             ],
             [
              0.2222222222222222,
              "#7201a8"
             ],
             [
              0.3333333333333333,
              "#9c179e"
             ],
             [
              0.4444444444444444,
              "#bd3786"
             ],
             [
              0.5555555555555556,
              "#d8576b"
             ],
             [
              0.6666666666666666,
              "#ed7953"
             ],
             [
              0.7777777777777778,
              "#fb9f3a"
             ],
             [
              0.8888888888888888,
              "#fdca26"
             ],
             [
              1,
              "#f0f921"
             ]
            ],
            "type": "histogram2d"
           }
          ],
          "histogram2dcontour": [
           {
            "colorbar": {
             "outlinewidth": 0,
             "ticks": ""
            },
            "colorscale": [
             [
              0,
              "#0d0887"
             ],
             [
              0.1111111111111111,
              "#46039f"
             ],
             [
              0.2222222222222222,
              "#7201a8"
             ],
             [
              0.3333333333333333,
              "#9c179e"
             ],
             [
              0.4444444444444444,
              "#bd3786"
             ],
             [
              0.5555555555555556,
              "#d8576b"
             ],
             [
              0.6666666666666666,
              "#ed7953"
             ],
             [
              0.7777777777777778,
              "#fb9f3a"
             ],
             [
              0.8888888888888888,
              "#fdca26"
             ],
             [
              1,
              "#f0f921"
             ]
            ],
            "type": "histogram2dcontour"
           }
          ],
          "mesh3d": [
           {
            "colorbar": {
             "outlinewidth": 0,
             "ticks": ""
            },
            "type": "mesh3d"
           }
          ],
          "parcoords": [
           {
            "line": {
             "colorbar": {
              "outlinewidth": 0,
              "ticks": ""
             }
            },
            "type": "parcoords"
           }
          ],
          "pie": [
           {
            "automargin": true,
            "type": "pie"
           }
          ],
          "scatter": [
           {
            "fillpattern": {
             "fillmode": "overlay",
             "size": 10,
             "solidity": 0.2
            },
            "type": "scatter"
           }
          ],
          "scatter3d": [
           {
            "line": {
             "colorbar": {
              "outlinewidth": 0,
              "ticks": ""
             }
            },
            "marker": {
             "colorbar": {
              "outlinewidth": 0,
              "ticks": ""
             }
            },
            "type": "scatter3d"
           }
          ],
          "scattercarpet": [
           {
            "marker": {
             "colorbar": {
              "outlinewidth": 0,
              "ticks": ""
             }
            },
            "type": "scattercarpet"
           }
          ],
          "scattergeo": [
           {
            "marker": {
             "colorbar": {
              "outlinewidth": 0,
              "ticks": ""
             }
            },
            "type": "scattergeo"
           }
          ],
          "scattergl": [
           {
            "marker": {
             "colorbar": {
              "outlinewidth": 0,
              "ticks": ""
             }
            },
            "type": "scattergl"
           }
          ],
          "scattermapbox": [
           {
            "marker": {
             "colorbar": {
              "outlinewidth": 0,
              "ticks": ""
             }
            },
            "type": "scattermapbox"
           }
          ],
          "scatterpolar": [
           {
            "marker": {
             "colorbar": {
              "outlinewidth": 0,
              "ticks": ""
             }
            },
            "type": "scatterpolar"
           }
          ],
          "scatterpolargl": [
           {
            "marker": {
             "colorbar": {
              "outlinewidth": 0,
              "ticks": ""
             }
            },
            "type": "scatterpolargl"
           }
          ],
          "scatterternary": [
           {
            "marker": {
             "colorbar": {
              "outlinewidth": 0,
              "ticks": ""
             }
            },
            "type": "scatterternary"
           }
          ],
          "surface": [
           {
            "colorbar": {
             "outlinewidth": 0,
             "ticks": ""
            },
            "colorscale": [
             [
              0,
              "#0d0887"
             ],
             [
              0.1111111111111111,
              "#46039f"
             ],
             [
              0.2222222222222222,
              "#7201a8"
             ],
             [
              0.3333333333333333,
              "#9c179e"
             ],
             [
              0.4444444444444444,
              "#bd3786"
             ],
             [
              0.5555555555555556,
              "#d8576b"
             ],
             [
              0.6666666666666666,
              "#ed7953"
             ],
             [
              0.7777777777777778,
              "#fb9f3a"
             ],
             [
              0.8888888888888888,
              "#fdca26"
             ],
             [
              1,
              "#f0f921"
             ]
            ],
            "type": "surface"
           }
          ],
          "table": [
           {
            "cells": {
             "fill": {
              "color": "#EBF0F8"
             },
             "line": {
              "color": "white"
             }
            },
            "header": {
             "fill": {
              "color": "#C8D4E3"
             },
             "line": {
              "color": "white"
             }
            },
            "type": "table"
           }
          ]
         },
         "layout": {
          "annotationdefaults": {
           "arrowcolor": "#2a3f5f",
           "arrowhead": 0,
           "arrowwidth": 1
          },
          "autotypenumbers": "strict",
          "coloraxis": {
           "colorbar": {
            "outlinewidth": 0,
            "ticks": ""
           }
          },
          "colorscale": {
           "diverging": [
            [
             0,
             "#8e0152"
            ],
            [
             0.1,
             "#c51b7d"
            ],
            [
             0.2,
             "#de77ae"
            ],
            [
             0.3,
             "#f1b6da"
            ],
            [
             0.4,
             "#fde0ef"
            ],
            [
             0.5,
             "#f7f7f7"
            ],
            [
             0.6,
             "#e6f5d0"
            ],
            [
             0.7,
             "#b8e186"
            ],
            [
             0.8,
             "#7fbc41"
            ],
            [
             0.9,
             "#4d9221"
            ],
            [
             1,
             "#276419"
            ]
           ],
           "sequential": [
            [
             0,
             "#0d0887"
            ],
            [
             0.1111111111111111,
             "#46039f"
            ],
            [
             0.2222222222222222,
             "#7201a8"
            ],
            [
             0.3333333333333333,
             "#9c179e"
            ],
            [
             0.4444444444444444,
             "#bd3786"
            ],
            [
             0.5555555555555556,
             "#d8576b"
            ],
            [
             0.6666666666666666,
             "#ed7953"
            ],
            [
             0.7777777777777778,
             "#fb9f3a"
            ],
            [
             0.8888888888888888,
             "#fdca26"
            ],
            [
             1,
             "#f0f921"
            ]
           ],
           "sequentialminus": [
            [
             0,
             "#0d0887"
            ],
            [
             0.1111111111111111,
             "#46039f"
            ],
            [
             0.2222222222222222,
             "#7201a8"
            ],
            [
             0.3333333333333333,
             "#9c179e"
            ],
            [
             0.4444444444444444,
             "#bd3786"
            ],
            [
             0.5555555555555556,
             "#d8576b"
            ],
            [
             0.6666666666666666,
             "#ed7953"
            ],
            [
             0.7777777777777778,
             "#fb9f3a"
            ],
            [
             0.8888888888888888,
             "#fdca26"
            ],
            [
             1,
             "#f0f921"
            ]
           ]
          },
          "colorway": [
           "#636efa",
           "#EF553B",
           "#00cc96",
           "#ab63fa",
           "#FFA15A",
           "#19d3f3",
           "#FF6692",
           "#B6E880",
           "#FF97FF",
           "#FECB52"
          ],
          "font": {
           "color": "#2a3f5f"
          },
          "geo": {
           "bgcolor": "white",
           "lakecolor": "white",
           "landcolor": "#E5ECF6",
           "showlakes": true,
           "showland": true,
           "subunitcolor": "white"
          },
          "hoverlabel": {
           "align": "left"
          },
          "hovermode": "closest",
          "mapbox": {
           "style": "light"
          },
          "paper_bgcolor": "white",
          "plot_bgcolor": "#E5ECF6",
          "polar": {
           "angularaxis": {
            "gridcolor": "white",
            "linecolor": "white",
            "ticks": ""
           },
           "bgcolor": "#E5ECF6",
           "radialaxis": {
            "gridcolor": "white",
            "linecolor": "white",
            "ticks": ""
           }
          },
          "scene": {
           "xaxis": {
            "backgroundcolor": "#E5ECF6",
            "gridcolor": "white",
            "gridwidth": 2,
            "linecolor": "white",
            "showbackground": true,
            "ticks": "",
            "zerolinecolor": "white"
           },
           "yaxis": {
            "backgroundcolor": "#E5ECF6",
            "gridcolor": "white",
            "gridwidth": 2,
            "linecolor": "white",
            "showbackground": true,
            "ticks": "",
            "zerolinecolor": "white"
           },
           "zaxis": {
            "backgroundcolor": "#E5ECF6",
            "gridcolor": "white",
            "gridwidth": 2,
            "linecolor": "white",
            "showbackground": true,
            "ticks": "",
            "zerolinecolor": "white"
           }
          },
          "shapedefaults": {
           "line": {
            "color": "#2a3f5f"
           }
          },
          "ternary": {
           "aaxis": {
            "gridcolor": "white",
            "linecolor": "white",
            "ticks": ""
           },
           "baxis": {
            "gridcolor": "white",
            "linecolor": "white",
            "ticks": ""
           },
           "bgcolor": "#E5ECF6",
           "caxis": {
            "gridcolor": "white",
            "linecolor": "white",
            "ticks": ""
           }
          },
          "title": {
           "x": 0.05
          },
          "xaxis": {
           "automargin": true,
           "gridcolor": "white",
           "linecolor": "white",
           "ticks": "",
           "title": {
            "standoff": 15
           },
           "zerolinecolor": "white",
           "zerolinewidth": 2
          },
          "yaxis": {
           "automargin": true,
           "gridcolor": "white",
           "linecolor": "white",
           "ticks": "",
           "title": {
            "standoff": 15
           },
           "zerolinecolor": "white",
           "zerolinewidth": 2
          }
         }
        },
        "title": {
         "font": {
          "color": "#dddddd",
          "family": "Noto Sans",
          "size": 18
         },
         "text": "",
         "x": 0.5,
         "xanchor": "center",
         "y": 0.99,
         "yanchor": "top"
        }
       }
      }
     },
     "metadata": {},
     "output_type": "display_data"
    }
   ],
   "source": [
    "# Set size\n",
    "df['size'] = 1\n",
    "\n",
    "# Create figure data\n",
    "data = px.scatter_geo(df,\n",
    "    lat='lat', \n",
    "    lon='lon',\n",
    "    # text='item',\n",
    "    color='family',\n",
    "    color_discrete_sequence=color_scheme,\n",
    "    size_max = max_marker_size,\n",
    "    size = 'size',\n",
    "    opacity = opacity,\n",
    "    hover_name='item',\n",
    "    hover_data={'item':True, 'taxon_name':True, 'family':True, 'geographic_area':True, 'Arabic':True, 'ar':True, 'Chinese':True, 'zh':True, 'lon':False, 'lat':False, 'size':False}, #'spreadability':':.2f', \n",
    "    labels={\"group\": \"category\"}\n",
    "    )\n",
    "\n",
    "# Save figure data\n",
    "fig = data\n",
    "\n",
    "###################################################\n",
    "# Interactive visualization (HTML/JSON) for the web\n",
    "\n",
    "# Call the orthographic traces and layout settings from above\n",
    "fig.update_traces(ortho_traces)\n",
    "fig.update_layout(ortho_layout)\n",
    "# fig.update_layout(title_text = \"Title\")\n",
    "# fig.update_layout(basemap_visible=True)\n",
    "\n",
    "# Add copyrigth\n",
    "fig.update_layout(annotations=[cr])\n",
    "\n",
    "# Show figure\n",
    "fig.show()\n",
    "\n",
    "# Write interactive visualization (HTML/JSON) for the web\n",
    "filename = \"home\"\n",
    "fig.write_html(path_out_html + filename + \".html\")\n",
    "fig.write_json(path_out_json + filename + \".json\", validate=True, pretty=True)\n",
    "\n",
    "###################################################\n",
    "# Image (PNG/PDF) for documents\n",
    "\n",
    "# Call figure data\n",
    "# fig = data\n",
    "\n",
    "# Call the orthographic traces and layout settings from above\n",
    "# fig.update_traces(ortho_traces)\n",
    "# fig.update_layout(ortho_layout)\n",
    "# fig.update_layout(geo=dict(projection_rotation = {'lat': 20, 'lon': 80, 'roll': 0}))\n",
    "# fig.update_layout(document_size)\n",
    "\n",
    "# Show figure\n",
    "# fig.show()\n",
    "\n",
    "fig.write_image(path_out_png + filename + \".png\", scale=3)\n",
    "fig.write_image(path_out_pdf + filename + \".pdf\", engine=\"kaleido\")"
   ]
  },
  {
   "cell_type": "code",
   "execution_count": 38,
   "metadata": {},
   "outputs": [
    {
     "data": {
      "application/vnd.plotly.v1+json": {
       "config": {
        "plotlyServerURL": "https://plot.ly"
       },
       "data": [
        {
         "hoverinfo": "text",
         "lat": [
          18,
          35,
          34,
          45,
          10,
          23,
          7,
          1,
          40,
          0,
          36,
          35,
          33,
          26,
          25,
          -5,
          -4,
          15,
          36,
          18,
          11,
          13
         ],
         "lon": [
          -77,
          33,
          68,
          69,
          77,
          108,
          81,
          127,
          45,
          101,
          51,
          39,
          44,
          93,
          82,
          130,
          129,
          76,
          25,
          106,
          79,
          -86
         ],
         "marker": {
          "color": "#88ae43",
          "opacity": 0.9,
          "size": 12
         },
         "mode": "markers+text",
         "text": [
          "allspice",
          "anise",
          "asafoetida",
          "caraway",
          "cardamom",
          "cassia",
          "cinnamon",
          "clove",
          "coriander",
          "cubeb",
          "cumin",
          "fennel",
          "fenugreek",
          "ginger",
          "long pepper",
          "mace",
          "nutmeg",
          "pepper",
          "saffron",
          "star anise",
          "turmeric",
          "vanilla"
         ],
         "type": "scattermapbox"
        }
       ],
       "layout": {
        "hovermode": "closest",
        "mapbox": {
         "layers": [
          {
           "below": "traces",
           "source": [
            "https://basemap.nationalmap.gov/arcgis/rest/services/USGSImageryOnly/MapServer/tile/{z}/{y}/{x}"
           ],
           "sourceattribution": "United States Geological Survey",
           "sourcetype": "raster"
          }
         ],
         "style": "white-bg"
        },
        "margin": {
         "b": 0,
         "l": 0,
         "r": 0,
         "t": 0
        },
        "template": {
         "data": {
          "bar": [
           {
            "error_x": {
             "color": "#2a3f5f"
            },
            "error_y": {
             "color": "#2a3f5f"
            },
            "marker": {
             "line": {
              "color": "#E5ECF6",
              "width": 0.5
             },
             "pattern": {
              "fillmode": "overlay",
              "size": 10,
              "solidity": 0.2
             }
            },
            "type": "bar"
           }
          ],
          "barpolar": [
           {
            "marker": {
             "line": {
              "color": "#E5ECF6",
              "width": 0.5
             },
             "pattern": {
              "fillmode": "overlay",
              "size": 10,
              "solidity": 0.2
             }
            },
            "type": "barpolar"
           }
          ],
          "carpet": [
           {
            "aaxis": {
             "endlinecolor": "#2a3f5f",
             "gridcolor": "white",
             "linecolor": "white",
             "minorgridcolor": "white",
             "startlinecolor": "#2a3f5f"
            },
            "baxis": {
             "endlinecolor": "#2a3f5f",
             "gridcolor": "white",
             "linecolor": "white",
             "minorgridcolor": "white",
             "startlinecolor": "#2a3f5f"
            },
            "type": "carpet"
           }
          ],
          "choropleth": [
           {
            "colorbar": {
             "outlinewidth": 0,
             "ticks": ""
            },
            "type": "choropleth"
           }
          ],
          "contour": [
           {
            "colorbar": {
             "outlinewidth": 0,
             "ticks": ""
            },
            "colorscale": [
             [
              0,
              "#0d0887"
             ],
             [
              0.1111111111111111,
              "#46039f"
             ],
             [
              0.2222222222222222,
              "#7201a8"
             ],
             [
              0.3333333333333333,
              "#9c179e"
             ],
             [
              0.4444444444444444,
              "#bd3786"
             ],
             [
              0.5555555555555556,
              "#d8576b"
             ],
             [
              0.6666666666666666,
              "#ed7953"
             ],
             [
              0.7777777777777778,
              "#fb9f3a"
             ],
             [
              0.8888888888888888,
              "#fdca26"
             ],
             [
              1,
              "#f0f921"
             ]
            ],
            "type": "contour"
           }
          ],
          "contourcarpet": [
           {
            "colorbar": {
             "outlinewidth": 0,
             "ticks": ""
            },
            "type": "contourcarpet"
           }
          ],
          "heatmap": [
           {
            "colorbar": {
             "outlinewidth": 0,
             "ticks": ""
            },
            "colorscale": [
             [
              0,
              "#0d0887"
             ],
             [
              0.1111111111111111,
              "#46039f"
             ],
             [
              0.2222222222222222,
              "#7201a8"
             ],
             [
              0.3333333333333333,
              "#9c179e"
             ],
             [
              0.4444444444444444,
              "#bd3786"
             ],
             [
              0.5555555555555556,
              "#d8576b"
             ],
             [
              0.6666666666666666,
              "#ed7953"
             ],
             [
              0.7777777777777778,
              "#fb9f3a"
             ],
             [
              0.8888888888888888,
              "#fdca26"
             ],
             [
              1,
              "#f0f921"
             ]
            ],
            "type": "heatmap"
           }
          ],
          "heatmapgl": [
           {
            "colorbar": {
             "outlinewidth": 0,
             "ticks": ""
            },
            "colorscale": [
             [
              0,
              "#0d0887"
             ],
             [
              0.1111111111111111,
              "#46039f"
             ],
             [
              0.2222222222222222,
              "#7201a8"
             ],
             [
              0.3333333333333333,
              "#9c179e"
             ],
             [
              0.4444444444444444,
              "#bd3786"
             ],
             [
              0.5555555555555556,
              "#d8576b"
             ],
             [
              0.6666666666666666,
              "#ed7953"
             ],
             [
              0.7777777777777778,
              "#fb9f3a"
             ],
             [
              0.8888888888888888,
              "#fdca26"
             ],
             [
              1,
              "#f0f921"
             ]
            ],
            "type": "heatmapgl"
           }
          ],
          "histogram": [
           {
            "marker": {
             "pattern": {
              "fillmode": "overlay",
              "size": 10,
              "solidity": 0.2
             }
            },
            "type": "histogram"
           }
          ],
          "histogram2d": [
           {
            "colorbar": {
             "outlinewidth": 0,
             "ticks": ""
            },
            "colorscale": [
             [
              0,
              "#0d0887"
             ],
             [
              0.1111111111111111,
              "#46039f"
             ],
             [
              0.2222222222222222,
              "#7201a8"
             ],
             [
              0.3333333333333333,
              "#9c179e"
             ],
             [
              0.4444444444444444,
              "#bd3786"
             ],
             [
              0.5555555555555556,
              "#d8576b"
             ],
             [
              0.6666666666666666,
              "#ed7953"
             ],
             [
              0.7777777777777778,
              "#fb9f3a"
             ],
             [
              0.8888888888888888,
              "#fdca26"
             ],
             [
              1,
              "#f0f921"
             ]
            ],
            "type": "histogram2d"
           }
          ],
          "histogram2dcontour": [
           {
            "colorbar": {
             "outlinewidth": 0,
             "ticks": ""
            },
            "colorscale": [
             [
              0,
              "#0d0887"
             ],
             [
              0.1111111111111111,
              "#46039f"
             ],
             [
              0.2222222222222222,
              "#7201a8"
             ],
             [
              0.3333333333333333,
              "#9c179e"
             ],
             [
              0.4444444444444444,
              "#bd3786"
             ],
             [
              0.5555555555555556,
              "#d8576b"
             ],
             [
              0.6666666666666666,
              "#ed7953"
             ],
             [
              0.7777777777777778,
              "#fb9f3a"
             ],
             [
              0.8888888888888888,
              "#fdca26"
             ],
             [
              1,
              "#f0f921"
             ]
            ],
            "type": "histogram2dcontour"
           }
          ],
          "mesh3d": [
           {
            "colorbar": {
             "outlinewidth": 0,
             "ticks": ""
            },
            "type": "mesh3d"
           }
          ],
          "parcoords": [
           {
            "line": {
             "colorbar": {
              "outlinewidth": 0,
              "ticks": ""
             }
            },
            "type": "parcoords"
           }
          ],
          "pie": [
           {
            "automargin": true,
            "type": "pie"
           }
          ],
          "scatter": [
           {
            "fillpattern": {
             "fillmode": "overlay",
             "size": 10,
             "solidity": 0.2
            },
            "type": "scatter"
           }
          ],
          "scatter3d": [
           {
            "line": {
             "colorbar": {
              "outlinewidth": 0,
              "ticks": ""
             }
            },
            "marker": {
             "colorbar": {
              "outlinewidth": 0,
              "ticks": ""
             }
            },
            "type": "scatter3d"
           }
          ],
          "scattercarpet": [
           {
            "marker": {
             "colorbar": {
              "outlinewidth": 0,
              "ticks": ""
             }
            },
            "type": "scattercarpet"
           }
          ],
          "scattergeo": [
           {
            "marker": {
             "colorbar": {
              "outlinewidth": 0,
              "ticks": ""
             }
            },
            "type": "scattergeo"
           }
          ],
          "scattergl": [
           {
            "marker": {
             "colorbar": {
              "outlinewidth": 0,
              "ticks": ""
             }
            },
            "type": "scattergl"
           }
          ],
          "scattermapbox": [
           {
            "marker": {
             "colorbar": {
              "outlinewidth": 0,
              "ticks": ""
             }
            },
            "type": "scattermapbox"
           }
          ],
          "scatterpolar": [
           {
            "marker": {
             "colorbar": {
              "outlinewidth": 0,
              "ticks": ""
             }
            },
            "type": "scatterpolar"
           }
          ],
          "scatterpolargl": [
           {
            "marker": {
             "colorbar": {
              "outlinewidth": 0,
              "ticks": ""
             }
            },
            "type": "scatterpolargl"
           }
          ],
          "scatterternary": [
           {
            "marker": {
             "colorbar": {
              "outlinewidth": 0,
              "ticks": ""
             }
            },
            "type": "scatterternary"
           }
          ],
          "surface": [
           {
            "colorbar": {
             "outlinewidth": 0,
             "ticks": ""
            },
            "colorscale": [
             [
              0,
              "#0d0887"
             ],
             [
              0.1111111111111111,
              "#46039f"
             ],
             [
              0.2222222222222222,
              "#7201a8"
             ],
             [
              0.3333333333333333,
              "#9c179e"
             ],
             [
              0.4444444444444444,
              "#bd3786"
             ],
             [
              0.5555555555555556,
              "#d8576b"
             ],
             [
              0.6666666666666666,
              "#ed7953"
             ],
             [
              0.7777777777777778,
              "#fb9f3a"
             ],
             [
              0.8888888888888888,
              "#fdca26"
             ],
             [
              1,
              "#f0f921"
             ]
            ],
            "type": "surface"
           }
          ],
          "table": [
           {
            "cells": {
             "fill": {
              "color": "#EBF0F8"
             },
             "line": {
              "color": "white"
             }
            },
            "header": {
             "fill": {
              "color": "#C8D4E3"
             },
             "line": {
              "color": "white"
             }
            },
            "type": "table"
           }
          ]
         },
         "layout": {
          "annotationdefaults": {
           "arrowcolor": "#2a3f5f",
           "arrowhead": 0,
           "arrowwidth": 1
          },
          "autotypenumbers": "strict",
          "coloraxis": {
           "colorbar": {
            "outlinewidth": 0,
            "ticks": ""
           }
          },
          "colorscale": {
           "diverging": [
            [
             0,
             "#8e0152"
            ],
            [
             0.1,
             "#c51b7d"
            ],
            [
             0.2,
             "#de77ae"
            ],
            [
             0.3,
             "#f1b6da"
            ],
            [
             0.4,
             "#fde0ef"
            ],
            [
             0.5,
             "#f7f7f7"
            ],
            [
             0.6,
             "#e6f5d0"
            ],
            [
             0.7,
             "#b8e186"
            ],
            [
             0.8,
             "#7fbc41"
            ],
            [
             0.9,
             "#4d9221"
            ],
            [
             1,
             "#276419"
            ]
           ],
           "sequential": [
            [
             0,
             "#0d0887"
            ],
            [
             0.1111111111111111,
             "#46039f"
            ],
            [
             0.2222222222222222,
             "#7201a8"
            ],
            [
             0.3333333333333333,
             "#9c179e"
            ],
            [
             0.4444444444444444,
             "#bd3786"
            ],
            [
             0.5555555555555556,
             "#d8576b"
            ],
            [
             0.6666666666666666,
             "#ed7953"
            ],
            [
             0.7777777777777778,
             "#fb9f3a"
            ],
            [
             0.8888888888888888,
             "#fdca26"
            ],
            [
             1,
             "#f0f921"
            ]
           ],
           "sequentialminus": [
            [
             0,
             "#0d0887"
            ],
            [
             0.1111111111111111,
             "#46039f"
            ],
            [
             0.2222222222222222,
             "#7201a8"
            ],
            [
             0.3333333333333333,
             "#9c179e"
            ],
            [
             0.4444444444444444,
             "#bd3786"
            ],
            [
             0.5555555555555556,
             "#d8576b"
            ],
            [
             0.6666666666666666,
             "#ed7953"
            ],
            [
             0.7777777777777778,
             "#fb9f3a"
            ],
            [
             0.8888888888888888,
             "#fdca26"
            ],
            [
             1,
             "#f0f921"
            ]
           ]
          },
          "colorway": [
           "#636efa",
           "#EF553B",
           "#00cc96",
           "#ab63fa",
           "#FFA15A",
           "#19d3f3",
           "#FF6692",
           "#B6E880",
           "#FF97FF",
           "#FECB52"
          ],
          "font": {
           "color": "#2a3f5f"
          },
          "geo": {
           "bgcolor": "white",
           "lakecolor": "white",
           "landcolor": "#E5ECF6",
           "showlakes": true,
           "showland": true,
           "subunitcolor": "white"
          },
          "hoverlabel": {
           "align": "left"
          },
          "hovermode": "closest",
          "mapbox": {
           "style": "light"
          },
          "paper_bgcolor": "white",
          "plot_bgcolor": "#E5ECF6",
          "polar": {
           "angularaxis": {
            "gridcolor": "white",
            "linecolor": "white",
            "ticks": ""
           },
           "bgcolor": "#E5ECF6",
           "radialaxis": {
            "gridcolor": "white",
            "linecolor": "white",
            "ticks": ""
           }
          },
          "scene": {
           "xaxis": {
            "backgroundcolor": "#E5ECF6",
            "gridcolor": "white",
            "gridwidth": 2,
            "linecolor": "white",
            "showbackground": true,
            "ticks": "",
            "zerolinecolor": "white"
           },
           "yaxis": {
            "backgroundcolor": "#E5ECF6",
            "gridcolor": "white",
            "gridwidth": 2,
            "linecolor": "white",
            "showbackground": true,
            "ticks": "",
            "zerolinecolor": "white"
           },
           "zaxis": {
            "backgroundcolor": "#E5ECF6",
            "gridcolor": "white",
            "gridwidth": 2,
            "linecolor": "white",
            "showbackground": true,
            "ticks": "",
            "zerolinecolor": "white"
           }
          },
          "shapedefaults": {
           "line": {
            "color": "#2a3f5f"
           }
          },
          "ternary": {
           "aaxis": {
            "gridcolor": "white",
            "linecolor": "white",
            "ticks": ""
           },
           "baxis": {
            "gridcolor": "white",
            "linecolor": "white",
            "ticks": ""
           },
           "bgcolor": "#E5ECF6",
           "caxis": {
            "gridcolor": "white",
            "linecolor": "white",
            "ticks": ""
           }
          },
          "title": {
           "x": 0.05
          },
          "xaxis": {
           "automargin": true,
           "gridcolor": "white",
           "linecolor": "white",
           "ticks": "",
           "title": {
            "standoff": 15
           },
           "zerolinecolor": "white",
           "zerolinewidth": 2
          },
          "yaxis": {
           "automargin": true,
           "gridcolor": "white",
           "linecolor": "white",
           "ticks": "",
           "title": {
            "standoff": 15
           },
           "zerolinecolor": "white",
           "zerolinewidth": 2
          }
         }
        }
       }
      }
     },
     "metadata": {},
     "output_type": "display_data"
    }
   ],
   "source": [
    "# fig = px.scatter_mapbox(df, lat=\"lat\", lon=\"lon\", color=\"family\", color_discrete_sequence=color_scheme, zoom=1)\n",
    "\n",
    "fig = go.Figure()\n",
    "\n",
    "fig.add_trace(go.Scattermapbox(\n",
    "        lat=df.lat,\n",
    "        lon=df.lon,\n",
    "        mode='markers+text',\n",
    "        marker=go.scattermapbox.Marker(\n",
    "            size=12,\n",
    "            color='#88ae43',\n",
    "            opacity=0.9\n",
    "        ),\n",
    "        text=df.item,\n",
    "        hoverinfo='text'\n",
    "    ))\n",
    "\n",
    "fig.update_layout(marble)\n",
    "\n",
    "fig.show()\n",
    "\n",
    "# Write interactive visualization (HTML/JSON) for the web\n",
    "filename = \"home_marble\"\n",
    "fig.write_html(path_out_html + filename + \".html\")\n",
    "fig.write_json(path_out_json + filename + \".json\", validate=True, pretty=True)\n",
    "\n",
    "# Write image\n",
    "# fig.write_image(path_out_png + filename + \".png\", scale=3)"
   ]
  },
  {
   "cell_type": "markdown",
   "metadata": {},
   "source": [
    "## World map with links"
   ]
  },
  {
   "cell_type": "code",
   "execution_count": 42,
   "metadata": {},
   "outputs": [
    {
     "data": {
      "application/vnd.plotly.v1+json": {
       "config": {
        "plotlyServerURL": "https://plot.ly"
       },
       "data": [
        {
         "customdata": [
          [
           "allspice",
           "Pimenta dioica",
           "Myrtaceae",
           "Mexico, Central America, Caribbean",
           "فلفل إفرنجي",
           "fulful ifranjī",
           "多香果",
           "duōxiāngguǒ",
           -77,
           18,
           1,
           "https://partigabor.github.io/aromatica/items/allspice"
          ],
          [
           "clove",
           "Syzygium aromaticum",
           "Myrtaceae",
           "Malesia",
           "قرنفل",
           "qaranful",
           "丁香",
           "dīngxiāng",
           127,
           1,
           1,
           "https://partigabor.github.io/aromatica/items/clove"
          ]
         ],
         "geo": "geo",
         "hovertemplate": "<b>%{customdata[0]}</b><br><br>Species: <i>%{customdata[1]}</i><br>Family: <i>%{customdata[2]}</i><br>Region of origin: %{customdata[3]}<br>Arabic: %{customdata[4]} <i>%{customdata[5]}</i><br>Chinese: %{customdata[6]} <i>%{customdata[7]}</i><br><extra></extra>",
         "hovertext": [
          "allspice",
          "clove"
         ],
         "lat": [
          18,
          1
         ],
         "legendgroup": "Myrtaceae",
         "lon": [
          -77,
          127
         ],
         "marker": {
          "color": "#5f4690",
          "line": {
           "color": "rgba(0,0,0,0)",
           "width": 1
          },
          "opacity": 0.75,
          "size": 12,
          "sizemode": "area",
          "sizeref": 0.006944444444444444,
          "symbol": "circle"
         },
         "mode": "markers+text",
         "name": "Myrtaceae",
         "showlegend": true,
         "text": [
          "allspice",
          "clove"
         ],
         "textfont": {
          "color": "#dddddd",
          "family": "Noto Sans",
          "size": 12
         },
         "textposition": "top right",
         "type": "scattergeo"
        },
        {
         "customdata": [
          [
           "anise",
           "Pimpinella anisum",
           "Apiaceae",
           "Western Asia",
           "أنيسون",
           "anīsūn",
           "茴芹",
           "huíqín",
           33,
           35,
           1,
           "https://partigabor.github.io/aromatica/items/anise"
          ],
          [
           "asafoetida",
           "Ferula foetida",
           "Apiaceae",
           "Middle Asia, Western Asia, Indian Subcontinent",
           "حلتیت",
           "ḥiltīt",
           "阿魏",
           "āwèi",
           68,
           34,
           1,
           "https://partigabor.github.io/aromatica/items/asafoetida"
          ],
          [
           "caraway",
           "Carum carvi",
           "Apiaceae",
           "Northern Europe, Middle Europe, Southwestern Europe, Southeastern Europe, Eastern Europe, Siberia, Russian Far East, Middle Asia, Caucasus, Western Asia, China, Mongolia, Indian Subcontinent",
           "كراويا",
           "karāwiyā",
           "葛縷子",
           "gě​lǚ​zi",
           69,
           45,
           1,
           "https://partigabor.github.io/aromatica/items/caraway"
          ],
          [
           "coriander",
           "Coriandrum sativum",
           "Apiaceae",
           "Caucasus, Western Asia, Arabian Peninsula, Indian Subcontinent",
           "كزبرة",
           "kuzbara",
           "芫荽",
           "yán​sui",
           45,
           40,
           1,
           "https://partigabor.github.io/aromatica/items/coriander"
          ],
          [
           "cumin",
           "Cuminum cyminum",
           "Apiaceae",
           "Western Asia",
           "كمون ",
           "kammūn",
           "孜然",
           "zī​rán",
           51,
           36,
           1,
           "https://partigabor.github.io/aromatica/items/cumin"
          ],
          [
           "fennel",
           "Foeniculum vulgare",
           "Apiaceae",
           "Southwestern Europe, Southeastern Europe, Northern Africa, Northeast Tropical Africa, Middle Asia, Caucasus, Western Asia, Arabian Peninsula, Indian Subcontinent",
           "شمر",
           "shamar",
           "茴香",
           "huíxiāng",
           39,
           35,
           1,
           "https://partigabor.github.io/aromatica/items/fennel"
          ]
         ],
         "geo": "geo",
         "hovertemplate": "<b>%{customdata[0]}</b><br><br>Species: <i>%{customdata[1]}</i><br>Family: <i>%{customdata[2]}</i><br>Region of origin: %{customdata[3]}<br>Arabic: %{customdata[4]} <i>%{customdata[5]}</i><br>Chinese: %{customdata[6]} <i>%{customdata[7]}</i><br><extra></extra>",
         "hovertext": [
          "anise",
          "asafoetida",
          "caraway",
          "coriander",
          "cumin",
          "fennel"
         ],
         "lat": [
          35,
          34,
          45,
          40,
          36,
          35
         ],
         "legendgroup": "Apiaceae",
         "lon": [
          33,
          68,
          69,
          45,
          51,
          39
         ],
         "marker": {
          "color": "#1d6996",
          "line": {
           "color": "rgba(0,0,0,0)",
           "width": 1
          },
          "opacity": 0.75,
          "size": 12,
          "sizemode": "area",
          "sizeref": 0.006944444444444444,
          "symbol": "circle"
         },
         "mode": "markers+text",
         "name": "Apiaceae",
         "showlegend": true,
         "text": [
          "anise",
          "asafoetida",
          "caraway",
          "coriander",
          "cumin",
          "fennel"
         ],
         "textfont": {
          "color": "#dddddd",
          "family": "Noto Sans",
          "size": 12
         },
         "textposition": "top right",
         "type": "scattergeo"
        },
        {
         "customdata": [
          [
           "cardamom",
           "Elettaria cardamomum",
           "Zingiberaceae",
           "Indian Subcontinent",
           "هال",
           "hāl",
           "小豆蔻",
           "xiǎodòukòu",
           77,
           10,
           1,
           "https://partigabor.github.io/aromatica/items/cardamom"
          ],
          [
           "ginger",
           "Zingiber officinale",
           "Zingiberaceae",
           "China, Indian Subcontinent",
           "زنجبيل",
           "zanjabīl",
           "薑",
           "jiāng",
           93,
           26,
           1,
           "https://partigabor.github.io/aromatica/items/ginger"
          ],
          [
           "turmeric",
           "Curcuma longa",
           "Zingiberaceae",
           "Indian Subcontinent",
           "كركم",
           "kurkum",
           "薑黃",
           "jiānghuáng",
           79,
           11,
           1,
           "https://partigabor.github.io/aromatica/items/turmeric"
          ]
         ],
         "geo": "geo",
         "hovertemplate": "<b>%{customdata[0]}</b><br><br>Species: <i>%{customdata[1]}</i><br>Family: <i>%{customdata[2]}</i><br>Region of origin: %{customdata[3]}<br>Arabic: %{customdata[4]} <i>%{customdata[5]}</i><br>Chinese: %{customdata[6]} <i>%{customdata[7]}</i><br><extra></extra>",
         "hovertext": [
          "cardamom",
          "ginger",
          "turmeric"
         ],
         "lat": [
          10,
          26,
          11
         ],
         "legendgroup": "Zingiberaceae",
         "lon": [
          77,
          93,
          79
         ],
         "marker": {
          "color": "#38a6a5",
          "line": {
           "color": "rgba(0,0,0,0)",
           "width": 1
          },
          "opacity": 0.75,
          "size": 12,
          "sizemode": "area",
          "sizeref": 0.006944444444444444,
          "symbol": "circle"
         },
         "mode": "markers+text",
         "name": "Zingiberaceae",
         "showlegend": true,
         "text": [
          "cardamom",
          "ginger",
          "turmeric"
         ],
         "textfont": {
          "color": "#dddddd",
          "family": "Noto Sans",
          "size": 12
         },
         "textposition": "top right",
         "type": "scattergeo"
        },
        {
         "customdata": [
          [
           "cassia",
           "Cinnamomum aromaticum",
           "Lauraceae",
           "China, Indo-China",
           "سليخة",
           "salīkha",
           "肉桂",
           "ròuguì",
           108,
           23,
           1,
           "https://partigabor.github.io/aromatica/items/cassia"
          ],
          [
           "cinnamon",
           "Cinnamomum verum",
           "Lauraceae",
           "Indian Subcontinent",
           "قرفة",
           "qirfa",
           "錫蘭肉桂",
           "xīlánròuguì",
           81,
           7,
           1,
           "https://partigabor.github.io/aromatica/items/cinnamon"
          ]
         ],
         "geo": "geo",
         "hovertemplate": "<b>%{customdata[0]}</b><br><br>Species: <i>%{customdata[1]}</i><br>Family: <i>%{customdata[2]}</i><br>Region of origin: %{customdata[3]}<br>Arabic: %{customdata[4]} <i>%{customdata[5]}</i><br>Chinese: %{customdata[6]} <i>%{customdata[7]}</i><br><extra></extra>",
         "hovertext": [
          "cassia",
          "cinnamon"
         ],
         "lat": [
          23,
          7
         ],
         "legendgroup": "Lauraceae",
         "lon": [
          108,
          81
         ],
         "marker": {
          "color": "#0f8554",
          "line": {
           "color": "rgba(0,0,0,0)",
           "width": 1
          },
          "opacity": 0.75,
          "size": 12,
          "sizemode": "area",
          "sizeref": 0.006944444444444444,
          "symbol": "circle"
         },
         "mode": "markers+text",
         "name": "Lauraceae",
         "showlegend": true,
         "text": [
          "cassia",
          "cinnamon"
         ],
         "textfont": {
          "color": "#dddddd",
          "family": "Noto Sans",
          "size": 12
         },
         "textposition": "top right",
         "type": "scattergeo"
        },
        {
         "customdata": [
          [
           "cubeb",
           "Piper cubeba",
           "Piperaceae",
           "Indo-China, Malesia",
           "كبابة",
           "kabāba, kubāba",
           "蓽澄茄",
           "bìchéngqié",
           101,
           0,
           1,
           "https://partigabor.github.io/aromatica/items/cubeb"
          ],
          [
           "long pepper",
           "Piper longum",
           "Piperaceae",
           "China, Indian Subcontinent, Indo-China",
           "دارفلفل",
           "dārfilfil",
           "蓽撥",
           "bìbō",
           82,
           25,
           1,
           "https://partigabor.github.io/aromatica/items/long_pepper"
          ],
          [
           "pepper",
           "Piper nigrum",
           "Piperaceae",
           "Indian Subcontinent",
           "فلفل",
           "filfil, fulful",
           "胡椒",
           "hújiāo",
           76,
           15,
           1,
           "https://partigabor.github.io/aromatica/items/pepper"
          ]
         ],
         "geo": "geo",
         "hovertemplate": "<b>%{customdata[0]}</b><br><br>Species: <i>%{customdata[1]}</i><br>Family: <i>%{customdata[2]}</i><br>Region of origin: %{customdata[3]}<br>Arabic: %{customdata[4]} <i>%{customdata[5]}</i><br>Chinese: %{customdata[6]} <i>%{customdata[7]}</i><br><extra></extra>",
         "hovertext": [
          "cubeb",
          "long pepper",
          "pepper"
         ],
         "lat": [
          0,
          25,
          15
         ],
         "legendgroup": "Piperaceae",
         "lon": [
          101,
          82,
          76
         ],
         "marker": {
          "color": "#73af48",
          "line": {
           "color": "rgba(0,0,0,0)",
           "width": 1
          },
          "opacity": 0.75,
          "size": 12,
          "sizemode": "area",
          "sizeref": 0.006944444444444444,
          "symbol": "circle"
         },
         "mode": "markers+text",
         "name": "Piperaceae",
         "showlegend": true,
         "text": [
          "cubeb",
          "long pepper",
          "pepper"
         ],
         "textfont": {
          "color": "#dddddd",
          "family": "Noto Sans",
          "size": 12
         },
         "textposition": "top right",
         "type": "scattergeo"
        },
        {
         "customdata": [
          [
           "fenugreek",
           "Trigonella foenum-graecum",
           "Fabaceae",
           "Western Asia, Indian Subcontinent",
           "حلبة",
           "ḥulba",
           "胡蘆巴",
           "húlúbā",
           44,
           33,
           1,
           "https://partigabor.github.io/aromatica/items/fenugreek"
          ]
         ],
         "geo": "geo",
         "hovertemplate": "<b>%{customdata[0]}</b><br><br>Species: <i>%{customdata[1]}</i><br>Family: <i>%{customdata[2]}</i><br>Region of origin: %{customdata[3]}<br>Arabic: %{customdata[4]} <i>%{customdata[5]}</i><br>Chinese: %{customdata[6]} <i>%{customdata[7]}</i><br><extra></extra>",
         "hovertext": [
          "fenugreek"
         ],
         "lat": [
          33
         ],
         "legendgroup": "Fabaceae",
         "lon": [
          44
         ],
         "marker": {
          "color": "#edae08",
          "line": {
           "color": "rgba(0,0,0,0)",
           "width": 1
          },
          "opacity": 0.75,
          "size": 12,
          "sizemode": "area",
          "sizeref": 0.006944444444444444,
          "symbol": "circle"
         },
         "mode": "markers+text",
         "name": "Fabaceae",
         "showlegend": true,
         "text": [
          "fenugreek"
         ],
         "textfont": {
          "color": "#dddddd",
          "family": "Noto Sans",
          "size": 12
         },
         "textposition": "top right",
         "type": "scattergeo"
        },
        {
         "customdata": [
          [
           "mace",
           "Myristica fragrans",
           "Myristicaceae",
           "Malesia",
           "بسباسة",
           "basbāsa",
           "肉豆蔻皮",
           "ròudòukòupí",
           130,
           -5,
           1,
           "https://partigabor.github.io/aromatica/items/mace"
          ],
          [
           "nutmeg",
           "Myristica fragrans",
           "Myristicaceae",
           "Malesia",
           "جوز الطيب",
           "jawz al-ṭīb",
           "肉豆蔻",
           "ròudòukòu",
           129,
           -4,
           1,
           "https://partigabor.github.io/aromatica/items/nutmeg"
          ]
         ],
         "geo": "geo",
         "hovertemplate": "<b>%{customdata[0]}</b><br><br>Species: <i>%{customdata[1]}</i><br>Family: <i>%{customdata[2]}</i><br>Region of origin: %{customdata[3]}<br>Arabic: %{customdata[4]} <i>%{customdata[5]}</i><br>Chinese: %{customdata[6]} <i>%{customdata[7]}</i><br><extra></extra>",
         "hovertext": [
          "mace",
          "nutmeg"
         ],
         "lat": [
          -5,
          -4
         ],
         "legendgroup": "Myristicaceae",
         "lon": [
          130,
          129
         ],
         "marker": {
          "color": "#e17909",
          "line": {
           "color": "rgba(0,0,0,0)",
           "width": 1
          },
          "opacity": 0.75,
          "size": 12,
          "sizemode": "area",
          "sizeref": 0.006944444444444444,
          "symbol": "circle"
         },
         "mode": "markers+text",
         "name": "Myristicaceae",
         "showlegend": true,
         "text": [
          "mace",
          "nutmeg"
         ],
         "textfont": {
          "color": "#dddddd",
          "family": "Noto Sans",
          "size": 12
         },
         "textposition": "top right",
         "type": "scattergeo"
        },
        {
         "customdata": [
          [
           "saffron",
           "Crocus sativus",
           "Iridaceae",
           "Southeastern Europe",
           "زعفران",
           "zaʿfarān",
           "藏紅花",
           "zànghónghuā",
           25,
           36,
           1,
           "https://partigabor.github.io/aromatica/items/saffron"
          ]
         ],
         "geo": "geo",
         "hovertemplate": "<b>%{customdata[0]}</b><br><br>Species: <i>%{customdata[1]}</i><br>Family: <i>%{customdata[2]}</i><br>Region of origin: %{customdata[3]}<br>Arabic: %{customdata[4]} <i>%{customdata[5]}</i><br>Chinese: %{customdata[6]} <i>%{customdata[7]}</i><br><extra></extra>",
         "hovertext": [
          "saffron"
         ],
         "lat": [
          36
         ],
         "legendgroup": "Iridaceae",
         "lon": [
          25
         ],
         "marker": {
          "color": "#cc503e",
          "line": {
           "color": "rgba(0,0,0,0)",
           "width": 1
          },
          "opacity": 0.75,
          "size": 12,
          "sizemode": "area",
          "sizeref": 0.006944444444444444,
          "symbol": "circle"
         },
         "mode": "markers+text",
         "name": "Iridaceae",
         "showlegend": true,
         "text": [
          "saffron"
         ],
         "textfont": {
          "color": "#dddddd",
          "family": "Noto Sans",
          "size": 12
         },
         "textposition": "top right",
         "type": "scattergeo"
        },
        {
         "customdata": [
          [
           "star anise",
           "Illicium verum",
           "Schisandraceae",
           "China, Indo-China",
           "يانسون نجمي",
           "yānsūn najmī",
           "八角",
           "bājiǎo",
           106,
           18,
           1,
           "https://partigabor.github.io/aromatica/items/star_anise"
          ]
         ],
         "geo": "geo",
         "hovertemplate": "<b>%{customdata[0]}</b><br><br>Species: <i>%{customdata[1]}</i><br>Family: <i>%{customdata[2]}</i><br>Region of origin: %{customdata[3]}<br>Arabic: %{customdata[4]} <i>%{customdata[5]}</i><br>Chinese: %{customdata[6]} <i>%{customdata[7]}</i><br><extra></extra>",
         "hovertext": [
          "star anise"
         ],
         "lat": [
          18
         ],
         "legendgroup": "Schisandraceae",
         "lon": [
          106
         ],
         "marker": {
          "color": "#94346e",
          "line": {
           "color": "rgba(0,0,0,0)",
           "width": 1
          },
          "opacity": 0.75,
          "size": 12,
          "sizemode": "area",
          "sizeref": 0.006944444444444444,
          "symbol": "circle"
         },
         "mode": "markers+text",
         "name": "Schisandraceae",
         "showlegend": true,
         "text": [
          "star anise"
         ],
         "textfont": {
          "color": "#dddddd",
          "family": "Noto Sans",
          "size": 12
         },
         "textposition": "top right",
         "type": "scattergeo"
        },
        {
         "customdata": [
          [
           "vanilla",
           "Vanilla planifolia",
           "Orchidaceae",
           "Mexico, Central America, Western South America, Brazil",
           "فانيليا",
           "fānīliyā",
           "香草",
           "xiāngcǎo",
           -86,
           13,
           1,
           "https://partigabor.github.io/aromatica/items/vanilla"
          ]
         ],
         "geo": "geo",
         "hovertemplate": "<b>%{customdata[0]}</b><br><br>Species: <i>%{customdata[1]}</i><br>Family: <i>%{customdata[2]}</i><br>Region of origin: %{customdata[3]}<br>Arabic: %{customdata[4]} <i>%{customdata[5]}</i><br>Chinese: %{customdata[6]} <i>%{customdata[7]}</i><br><extra></extra>",
         "hovertext": [
          "vanilla"
         ],
         "lat": [
          13
         ],
         "legendgroup": "Orchidaceae",
         "lon": [
          -86
         ],
         "marker": {
          "color": "#6f4070",
          "line": {
           "color": "rgba(0,0,0,0)",
           "width": 1
          },
          "opacity": 0.75,
          "size": 12,
          "sizemode": "area",
          "sizeref": 0.006944444444444444,
          "symbol": "circle"
         },
         "mode": "markers+text",
         "name": "Orchidaceae",
         "showlegend": true,
         "text": [
          "vanilla"
         ],
         "textfont": {
          "color": "#dddddd",
          "family": "Noto Sans",
          "size": 12
         },
         "textposition": "top right",
         "type": "scattergeo"
        }
       ],
       "layout": {
        "annotations": [
         {
          "font": {
           "color": "#dddddd",
           "family": "Noto Sans",
           "size": 16
          },
          "name": "info",
          "opacity": 0.9,
          "showarrow": false,
          "text": "Click on a material to navigate to its corresponding page!",
          "x": 0.5,
          "xref": "paper",
          "y": 0.05,
          "yref": "paper"
         },
         {
          "font": {
           "color": "#404040",
           "family": "Noto Sans",
           "size": 8
          },
          "name": "copyright",
          "opacity": 0.9,
          "showarrow": false,
          "text": "© Gábor Parti, 2024",
          "x": 0.5,
          "xref": "paper",
          "y": 0,
          "yref": "paper"
         }
        ],
        "geo": {
         "bgcolor": "rgba(0,0,0,0)",
         "center": {},
         "coastlinecolor": "#383838",
         "coastlinewidth": 1,
         "countrycolor": "#383838",
         "countrywidth": 1,
         "domain": {
          "x": [
           0,
           1
          ],
          "y": [
           0,
           1
          ]
         },
         "framecolor": "#383838",
         "framewidth": 1,
         "lakecolor": "#202020",
         "landcolor": "#303030",
         "lataxis": {
          "dtick": 10,
          "gridcolor": "#282828",
          "gridwidth": 0.5,
          "showgrid": true
         },
         "lonaxis": {
          "dtick": 10,
          "gridcolor": "#282828",
          "gridwidth": 0.5,
          "showgrid": true
         },
         "oceancolor": "#202020",
         "projection": {
          "rotation": {
           "lat": 20,
           "lon": 80,
           "roll": 0
          },
          "scale": 1,
          "type": "orthographic"
         },
         "resolution": 110,
         "rivercolor": "#202020",
         "riverwidth": 1,
         "scope": "world",
         "showcoastlines": true,
         "showcountries": false,
         "showframe": true,
         "showlakes": true,
         "showland": true,
         "showocean": true,
         "showrivers": true,
         "showsubunits": true,
         "subunitcolor": "#383838",
         "subunitwidth": 0
        },
        "hoverlabel": {
         "font": {
          "family": "Noto Sans",
          "size": 12
         }
        },
        "legend": {
         "bgcolor": "rgba(0,0,0,0.25)",
         "font": {
          "color": "#dddddd",
          "family": "Noto Sans",
          "size": 12
         },
         "itemsizing": "constant",
         "orientation": "v",
         "title": {
          "font": {
           "color": "#dddddd",
           "family": "Noto Sans",
           "size": 14
          },
          "text": "family"
         },
         "tracegroupgap": 0,
         "traceorder": "normal",
         "x": 0,
         "xanchor": "left",
         "y": 0,
         "yanchor": "bottom"
        },
        "margin": {
         "b": 0,
         "l": 0,
         "r": 0,
         "t": 0
        },
        "paper_bgcolor": "#101010",
        "plot_bgcolor": "rgba(0,0,0,0)",
        "showlegend": true,
        "template": {
         "data": {
          "bar": [
           {
            "error_x": {
             "color": "#2a3f5f"
            },
            "error_y": {
             "color": "#2a3f5f"
            },
            "marker": {
             "line": {
              "color": "#E5ECF6",
              "width": 0.5
             },
             "pattern": {
              "fillmode": "overlay",
              "size": 10,
              "solidity": 0.2
             }
            },
            "type": "bar"
           }
          ],
          "barpolar": [
           {
            "marker": {
             "line": {
              "color": "#E5ECF6",
              "width": 0.5
             },
             "pattern": {
              "fillmode": "overlay",
              "size": 10,
              "solidity": 0.2
             }
            },
            "type": "barpolar"
           }
          ],
          "carpet": [
           {
            "aaxis": {
             "endlinecolor": "#2a3f5f",
             "gridcolor": "white",
             "linecolor": "white",
             "minorgridcolor": "white",
             "startlinecolor": "#2a3f5f"
            },
            "baxis": {
             "endlinecolor": "#2a3f5f",
             "gridcolor": "white",
             "linecolor": "white",
             "minorgridcolor": "white",
             "startlinecolor": "#2a3f5f"
            },
            "type": "carpet"
           }
          ],
          "choropleth": [
           {
            "colorbar": {
             "outlinewidth": 0,
             "ticks": ""
            },
            "type": "choropleth"
           }
          ],
          "contour": [
           {
            "colorbar": {
             "outlinewidth": 0,
             "ticks": ""
            },
            "colorscale": [
             [
              0,
              "#0d0887"
             ],
             [
              0.1111111111111111,
              "#46039f"
             ],
             [
              0.2222222222222222,
              "#7201a8"
             ],
             [
              0.3333333333333333,
              "#9c179e"
             ],
             [
              0.4444444444444444,
              "#bd3786"
             ],
             [
              0.5555555555555556,
              "#d8576b"
             ],
             [
              0.6666666666666666,
              "#ed7953"
             ],
             [
              0.7777777777777778,
              "#fb9f3a"
             ],
             [
              0.8888888888888888,
              "#fdca26"
             ],
             [
              1,
              "#f0f921"
             ]
            ],
            "type": "contour"
           }
          ],
          "contourcarpet": [
           {
            "colorbar": {
             "outlinewidth": 0,
             "ticks": ""
            },
            "type": "contourcarpet"
           }
          ],
          "heatmap": [
           {
            "colorbar": {
             "outlinewidth": 0,
             "ticks": ""
            },
            "colorscale": [
             [
              0,
              "#0d0887"
             ],
             [
              0.1111111111111111,
              "#46039f"
             ],
             [
              0.2222222222222222,
              "#7201a8"
             ],
             [
              0.3333333333333333,
              "#9c179e"
             ],
             [
              0.4444444444444444,
              "#bd3786"
             ],
             [
              0.5555555555555556,
              "#d8576b"
             ],
             [
              0.6666666666666666,
              "#ed7953"
             ],
             [
              0.7777777777777778,
              "#fb9f3a"
             ],
             [
              0.8888888888888888,
              "#fdca26"
             ],
             [
              1,
              "#f0f921"
             ]
            ],
            "type": "heatmap"
           }
          ],
          "heatmapgl": [
           {
            "colorbar": {
             "outlinewidth": 0,
             "ticks": ""
            },
            "colorscale": [
             [
              0,
              "#0d0887"
             ],
             [
              0.1111111111111111,
              "#46039f"
             ],
             [
              0.2222222222222222,
              "#7201a8"
             ],
             [
              0.3333333333333333,
              "#9c179e"
             ],
             [
              0.4444444444444444,
              "#bd3786"
             ],
             [
              0.5555555555555556,
              "#d8576b"
             ],
             [
              0.6666666666666666,
              "#ed7953"
             ],
             [
              0.7777777777777778,
              "#fb9f3a"
             ],
             [
              0.8888888888888888,
              "#fdca26"
             ],
             [
              1,
              "#f0f921"
             ]
            ],
            "type": "heatmapgl"
           }
          ],
          "histogram": [
           {
            "marker": {
             "pattern": {
              "fillmode": "overlay",
              "size": 10,
              "solidity": 0.2
             }
            },
            "type": "histogram"
           }
          ],
          "histogram2d": [
           {
            "colorbar": {
             "outlinewidth": 0,
             "ticks": ""
            },
            "colorscale": [
             [
              0,
              "#0d0887"
             ],
             [
              0.1111111111111111,
              "#46039f"
             ],
             [
              0.2222222222222222,
              "#7201a8"
             ],
             [
              0.3333333333333333,
              "#9c179e"
             ],
             [
              0.4444444444444444,
              "#bd3786"
             ],
             [
              0.5555555555555556,
              "#d8576b"
             ],
             [
              0.6666666666666666,
              "#ed7953"
             ],
             [
              0.7777777777777778,
              "#fb9f3a"
             ],
             [
              0.8888888888888888,
              "#fdca26"
             ],
             [
              1,
              "#f0f921"
             ]
            ],
            "type": "histogram2d"
           }
          ],
          "histogram2dcontour": [
           {
            "colorbar": {
             "outlinewidth": 0,
             "ticks": ""
            },
            "colorscale": [
             [
              0,
              "#0d0887"
             ],
             [
              0.1111111111111111,
              "#46039f"
             ],
             [
              0.2222222222222222,
              "#7201a8"
             ],
             [
              0.3333333333333333,
              "#9c179e"
             ],
             [
              0.4444444444444444,
              "#bd3786"
             ],
             [
              0.5555555555555556,
              "#d8576b"
             ],
             [
              0.6666666666666666,
              "#ed7953"
             ],
             [
              0.7777777777777778,
              "#fb9f3a"
             ],
             [
              0.8888888888888888,
              "#fdca26"
             ],
             [
              1,
              "#f0f921"
             ]
            ],
            "type": "histogram2dcontour"
           }
          ],
          "mesh3d": [
           {
            "colorbar": {
             "outlinewidth": 0,
             "ticks": ""
            },
            "type": "mesh3d"
           }
          ],
          "parcoords": [
           {
            "line": {
             "colorbar": {
              "outlinewidth": 0,
              "ticks": ""
             }
            },
            "type": "parcoords"
           }
          ],
          "pie": [
           {
            "automargin": true,
            "type": "pie"
           }
          ],
          "scatter": [
           {
            "fillpattern": {
             "fillmode": "overlay",
             "size": 10,
             "solidity": 0.2
            },
            "type": "scatter"
           }
          ],
          "scatter3d": [
           {
            "line": {
             "colorbar": {
              "outlinewidth": 0,
              "ticks": ""
             }
            },
            "marker": {
             "colorbar": {
              "outlinewidth": 0,
              "ticks": ""
             }
            },
            "type": "scatter3d"
           }
          ],
          "scattercarpet": [
           {
            "marker": {
             "colorbar": {
              "outlinewidth": 0,
              "ticks": ""
             }
            },
            "type": "scattercarpet"
           }
          ],
          "scattergeo": [
           {
            "marker": {
             "colorbar": {
              "outlinewidth": 0,
              "ticks": ""
             }
            },
            "type": "scattergeo"
           }
          ],
          "scattergl": [
           {
            "marker": {
             "colorbar": {
              "outlinewidth": 0,
              "ticks": ""
             }
            },
            "type": "scattergl"
           }
          ],
          "scattermapbox": [
           {
            "marker": {
             "colorbar": {
              "outlinewidth": 0,
              "ticks": ""
             }
            },
            "type": "scattermapbox"
           }
          ],
          "scatterpolar": [
           {
            "marker": {
             "colorbar": {
              "outlinewidth": 0,
              "ticks": ""
             }
            },
            "type": "scatterpolar"
           }
          ],
          "scatterpolargl": [
           {
            "marker": {
             "colorbar": {
              "outlinewidth": 0,
              "ticks": ""
             }
            },
            "type": "scatterpolargl"
           }
          ],
          "scatterternary": [
           {
            "marker": {
             "colorbar": {
              "outlinewidth": 0,
              "ticks": ""
             }
            },
            "type": "scatterternary"
           }
          ],
          "surface": [
           {
            "colorbar": {
             "outlinewidth": 0,
             "ticks": ""
            },
            "colorscale": [
             [
              0,
              "#0d0887"
             ],
             [
              0.1111111111111111,
              "#46039f"
             ],
             [
              0.2222222222222222,
              "#7201a8"
             ],
             [
              0.3333333333333333,
              "#9c179e"
             ],
             [
              0.4444444444444444,
              "#bd3786"
             ],
             [
              0.5555555555555556,
              "#d8576b"
             ],
             [
              0.6666666666666666,
              "#ed7953"
             ],
             [
              0.7777777777777778,
              "#fb9f3a"
             ],
             [
              0.8888888888888888,
              "#fdca26"
             ],
             [
              1,
              "#f0f921"
             ]
            ],
            "type": "surface"
           }
          ],
          "table": [
           {
            "cells": {
             "fill": {
              "color": "#EBF0F8"
             },
             "line": {
              "color": "white"
             }
            },
            "header": {
             "fill": {
              "color": "#C8D4E3"
             },
             "line": {
              "color": "white"
             }
            },
            "type": "table"
           }
          ]
         },
         "layout": {
          "annotationdefaults": {
           "arrowcolor": "#2a3f5f",
           "arrowhead": 0,
           "arrowwidth": 1
          },
          "autotypenumbers": "strict",
          "coloraxis": {
           "colorbar": {
            "outlinewidth": 0,
            "ticks": ""
           }
          },
          "colorscale": {
           "diverging": [
            [
             0,
             "#8e0152"
            ],
            [
             0.1,
             "#c51b7d"
            ],
            [
             0.2,
             "#de77ae"
            ],
            [
             0.3,
             "#f1b6da"
            ],
            [
             0.4,
             "#fde0ef"
            ],
            [
             0.5,
             "#f7f7f7"
            ],
            [
             0.6,
             "#e6f5d0"
            ],
            [
             0.7,
             "#b8e186"
            ],
            [
             0.8,
             "#7fbc41"
            ],
            [
             0.9,
             "#4d9221"
            ],
            [
             1,
             "#276419"
            ]
           ],
           "sequential": [
            [
             0,
             "#0d0887"
            ],
            [
             0.1111111111111111,
             "#46039f"
            ],
            [
             0.2222222222222222,
             "#7201a8"
            ],
            [
             0.3333333333333333,
             "#9c179e"
            ],
            [
             0.4444444444444444,
             "#bd3786"
            ],
            [
             0.5555555555555556,
             "#d8576b"
            ],
            [
             0.6666666666666666,
             "#ed7953"
            ],
            [
             0.7777777777777778,
             "#fb9f3a"
            ],
            [
             0.8888888888888888,
             "#fdca26"
            ],
            [
             1,
             "#f0f921"
            ]
           ],
           "sequentialminus": [
            [
             0,
             "#0d0887"
            ],
            [
             0.1111111111111111,
             "#46039f"
            ],
            [
             0.2222222222222222,
             "#7201a8"
            ],
            [
             0.3333333333333333,
             "#9c179e"
            ],
            [
             0.4444444444444444,
             "#bd3786"
            ],
            [
             0.5555555555555556,
             "#d8576b"
            ],
            [
             0.6666666666666666,
             "#ed7953"
            ],
            [
             0.7777777777777778,
             "#fb9f3a"
            ],
            [
             0.8888888888888888,
             "#fdca26"
            ],
            [
             1,
             "#f0f921"
            ]
           ]
          },
          "colorway": [
           "#636efa",
           "#EF553B",
           "#00cc96",
           "#ab63fa",
           "#FFA15A",
           "#19d3f3",
           "#FF6692",
           "#B6E880",
           "#FF97FF",
           "#FECB52"
          ],
          "font": {
           "color": "#2a3f5f"
          },
          "geo": {
           "bgcolor": "white",
           "lakecolor": "white",
           "landcolor": "#E5ECF6",
           "showlakes": true,
           "showland": true,
           "subunitcolor": "white"
          },
          "hoverlabel": {
           "align": "left"
          },
          "hovermode": "closest",
          "mapbox": {
           "style": "light"
          },
          "paper_bgcolor": "white",
          "plot_bgcolor": "#E5ECF6",
          "polar": {
           "angularaxis": {
            "gridcolor": "white",
            "linecolor": "white",
            "ticks": ""
           },
           "bgcolor": "#E5ECF6",
           "radialaxis": {
            "gridcolor": "white",
            "linecolor": "white",
            "ticks": ""
           }
          },
          "scene": {
           "xaxis": {
            "backgroundcolor": "#E5ECF6",
            "gridcolor": "white",
            "gridwidth": 2,
            "linecolor": "white",
            "showbackground": true,
            "ticks": "",
            "zerolinecolor": "white"
           },
           "yaxis": {
            "backgroundcolor": "#E5ECF6",
            "gridcolor": "white",
            "gridwidth": 2,
            "linecolor": "white",
            "showbackground": true,
            "ticks": "",
            "zerolinecolor": "white"
           },
           "zaxis": {
            "backgroundcolor": "#E5ECF6",
            "gridcolor": "white",
            "gridwidth": 2,
            "linecolor": "white",
            "showbackground": true,
            "ticks": "",
            "zerolinecolor": "white"
           }
          },
          "shapedefaults": {
           "line": {
            "color": "#2a3f5f"
           }
          },
          "ternary": {
           "aaxis": {
            "gridcolor": "white",
            "linecolor": "white",
            "ticks": ""
           },
           "baxis": {
            "gridcolor": "white",
            "linecolor": "white",
            "ticks": ""
           },
           "bgcolor": "#E5ECF6",
           "caxis": {
            "gridcolor": "white",
            "linecolor": "white",
            "ticks": ""
           }
          },
          "title": {
           "x": 0.05
          },
          "xaxis": {
           "automargin": true,
           "gridcolor": "white",
           "linecolor": "white",
           "ticks": "",
           "title": {
            "standoff": 15
           },
           "zerolinecolor": "white",
           "zerolinewidth": 2
          },
          "yaxis": {
           "automargin": true,
           "gridcolor": "white",
           "linecolor": "white",
           "ticks": "",
           "title": {
            "standoff": 15
           },
           "zerolinecolor": "white",
           "zerolinewidth": 2
          }
         }
        },
        "title": {
         "font": {
          "color": "#dddddd",
          "family": "Noto Sans",
          "size": 18
         },
         "text": "",
         "x": 0.5,
         "xanchor": "center",
         "y": 0.99,
         "yanchor": "top"
        }
       }
      }
     },
     "metadata": {},
     "output_type": "display_data"
    }
   ],
   "source": [
    "# Set size\n",
    "df['size'] = 1\n",
    "# Size by spreadability\n",
    "# df['spreadability'] = df['spreadability'].astype(float)\n",
    "# df['spreadability'] = df['spreadability'].round(2)\n",
    "# df['size'] = df['spreadability'] + 2\n",
    "max_marker_size = 12\n",
    "\n",
    "# Add links\n",
    "df['url'] = \"https://partigabor.github.io/aromatica/items/\" + df['key']\n",
    "\n",
    "# For the website, with hyperlinks\n",
    "data = px.scatter_geo(df, \n",
    "    lat='lat', lon='lon',\n",
    "    text='item',\n",
    "    color=\"family\",\n",
    "    color_discrete_sequence=color_scheme,\n",
    "    opacity = opacity,\n",
    "    size=\"size\",\n",
    "    size_max=max_marker_size,\n",
    "    hover_name=\"item\", \n",
    "    hover_data={'item':True, 'taxon_name':True, 'family':True, 'regions':True, 'Arabic':True, 'ar':True, 'Chinese':True, 'zh':True, 'lon':False, 'lat':False, 'size':False, 'url':False},\n",
    "    # labels={\"group\": \"category\"},\n",
    "    )\n",
    "\n",
    "fig = data\n",
    "\n",
    "# # Update layout\n",
    "# fig.update_layout(\n",
    "#         # title = 'Title',\n",
    "#         geo_scope='world',\n",
    "#         template = 'plotly_dark',\n",
    "#     )\n",
    "\n",
    "fig.update_traces(ortho_traces)\n",
    "fig.update_layout(ortho_layout)\n",
    "\n",
    "# Update to black background\n",
    "fig.update_layout(\n",
    "    paper_bgcolor='#101010',\n",
    ")\n",
    "\n",
    "fig.update_layout(annotations=[info, cr])\n",
    "# fig.add_layout_image(logo)\n",
    "\n",
    "# Write\n",
    "filename = \"output/distribution_map\"\n",
    "fig.write_json(filename + \".json\", validate=True, pretty=True)\n",
    "fig.write_html(filename + \".html\")\n",
    "fig.write_image(filename + \".pdf\", engine=\"kaleido\")\n",
    "fig.write_image(filename + \".png\", scale=3)\n",
    "\n",
    "fig.show()\n",
    "\n",
    "######################################################\n",
    "# Get HTML representation of plotly.js and this figure\n",
    "plot_div = plot(fig, output_type='div', include_plotlyjs=True)\n",
    "\n",
    "# Get id of html div element that looks like\n",
    "# <div id=\"301d22ab-bfba-4621-8f5d-dc4fd855bb33\" ... >\n",
    "res = re.search('<div id=\"([^\"]*)\"', plot_div)\n",
    "div_id = res.groups()[0]\n",
    "\n",
    "# Build JavaScript callback for handling clicks \n",
    "# and opening the URL in the trace's customdata \n",
    "js_callback = \"\"\"\n",
    "<script>\n",
    "var plot_element = document.getElementById(\"{div_id}\");\n",
    "plot_element.on('plotly_click', function(data){{\n",
    "    console.log(data);\n",
    "    var point = data.points[0];\n",
    "    if (point) {{\n",
    "        console.log(point.customdata[11]);\n",
    "        window.open(point.customdata[11]);\n",
    "    }}\n",
    "}})\n",
    "</script>\n",
    "\"\"\".format(div_id=div_id)\n",
    "\n",
    "# Build HTML string\n",
    "html_str = \"\"\"\n",
    "<html>\n",
    "<body>\n",
    "{plot_div}\n",
    "{js_callback}\n",
    "</body>\n",
    "</html>\n",
    "\"\"\".format(plot_div=plot_div, js_callback=js_callback)\n",
    "\n",
    "# Write html with hyperlinks\n",
    "with open(filename + \".html\", 'w', encoding='utf-8') as f:\n",
    "    f.write(html_str)\n",
    "\n",
    "# Read back html and write it as json. Seems to work but does not open links when embedded...\n",
    "def html_to_json(html_file):\n",
    "    with open(html_file + '.html') as f:\n",
    "        html = f.read()\n",
    "    call_arg_str = re.findall(r'Plotly\\.newPlot\\((.*)\\)', html[-2**16:])[0]\n",
    "    call_args = json.loads(f'[{call_arg_str}]')\n",
    "    plotly_json = {'data': call_args[1], 'layout': call_args[2]}  \n",
    "    figure=plotly.io.from_json(json.dumps(plotly_json))\n",
    "    figure.write_json(filename + \".json\", validate=True, pretty=True)\n",
    "    return\n",
    "\n",
    "# html_to_json('distribution_map')"
   ]
  },
  {
   "cell_type": "code",
   "execution_count": 43,
   "metadata": {},
   "outputs": [],
   "source": [
    "# Move files to the website folder\n",
    "move_dir(path_out_json, website_json, \"*.json\")"
   ]
  },
  {
   "cell_type": "code",
   "execution_count": 44,
   "metadata": {},
   "outputs": [],
   "source": [
    "# # Basic map to show some countries, not very good\n",
    "\n",
    "# import plotly.express as px\n",
    "# import geopandas as gpd\n",
    "\n",
    "# # Load the world map data\n",
    "# world = gpd.read_file(gpd.datasets.get_path('naturalearth_lowres'))\n",
    "\n",
    "# # Filter the data to include only India, Sri Lanka, and Maldives\n",
    "# target_countries = ['India', 'Sri Lanka', 'Maldives', 'Wales']\n",
    "# filtered_world = world[world['name'].isin(target_countries)]\n",
    "\n",
    "# # Create a choropleth map\n",
    "# fig = px.choropleth(\n",
    "#     filtered_world,\n",
    "#     locations='iso_a3',\n",
    "#     color='name',\n",
    "#     color_discrete_sequence = color_scheme,\n",
    "#     projection='orthographic',\n",
    "#     title='Highlighted Countries: India, Sri Lanka, Maldives'\n",
    "# )\n",
    "\n",
    "# # Call the orthographic traces and layout settings from above\n",
    "# fig.update_layout(ortho_layout)\n",
    "# # fig.update_layout(title_text = \"Title\")\n",
    "\n",
    "# # Show the map\n",
    "# fig.show()\n"
   ]
  },
  {
   "cell_type": "code",
   "execution_count": 46,
   "metadata": {},
   "outputs": [],
   "source": [
    "df = df_items.copy()\n",
    "\n",
    "key = \"saffron\""
   ]
  },
  {
   "cell_type": "markdown",
   "metadata": {},
   "source": [
    "## Distribution maps"
   ]
  },
  {
   "cell_type": "code",
   "execution_count": 47,
   "metadata": {},
   "outputs": [],
   "source": [
    "def habitat_map(key):\n",
    "    '''\n",
    "    This function generates a map of the distributions of a spice.\n",
    "    '''\n",
    "\n",
    "    print(\"Drawing habitat map of\", key)\n",
    "    \n",
    "    # Load the geographic data (shapefile or GeoJSON) # https://github.com/tdwg/wgsrpd\n",
    "    gdf = gpd.read_file(\"data\\\\resources\\\\geo\\\\level3.geojson\")\n",
    "\n",
    "    # Rename columns\n",
    "    gdf.columns = ['name', 'code', 'code_l2', 'code_l1', 'geometry']\n",
    "\n",
    "    # Get local df and reset its index\n",
    "    df_local = df_items.loc[df_items['key'] == key]\n",
    "    df_local.reset_index(drop=True, inplace=True)\n",
    "\n",
    "    # Get list of native areas\n",
    "    native = df_local.loc[0, 'native'].split(', ')\n",
    "\n",
    "    # Get list of introduced areas, if it is not NA\n",
    "    if pd.notna(df_local.loc[0, 'introduced']):\n",
    "        introduced = df_local.loc[0, 'introduced'].split(', ')\n",
    "    else:\n",
    "        introduced = []\n",
    "\n",
    "    # Filter data for native areas from gdf dataframe's LEVEL3_NAM column\n",
    "    filtered_data_native = gdf[gdf['name'].isin(native)].copy()  # Ensure a copy is made\n",
    "    filtered_data_native.loc[:, 'region'] = 'native'\n",
    "\n",
    "    # Filter data for introduced areas from gdf dataframe's LEVEL3_NAM column\n",
    "    filtered_data_introduced = gdf[gdf['name'].isin(introduced)].copy()  # Ensure a copy is made\n",
    "    if not filtered_data_introduced.empty:\n",
    "        filtered_data_introduced.loc[:, 'region'] = 'introduced'\n",
    "\n",
    "    # Concatenate the filtered dataframes\n",
    "    filtered_data = pd.concat([filtered_data_native, filtered_data_introduced])\n",
    "\n",
    "    # ***\n",
    "\n",
    "    # Create the choropleth map\n",
    "    fig = px.choropleth(\n",
    "        filtered_data,\n",
    "        geojson = filtered_data.geometry,\n",
    "        locations = filtered_data.index,\n",
    "        color = 'region',\n",
    "        color_discrete_sequence = ['#88ae43', '#6943ae'],\n",
    "        hover_data = {'name': True, 'code': True},\n",
    "        projection = 'orthographic'\n",
    "    )\n",
    "\n",
    "    # Call layout\n",
    "    fig.update_traces(dist_traces)\n",
    "    fig.update_layout(dist_layout)\n",
    "\n",
    "    # Adjust map bounds\n",
    "    # fig.update_geos(fitbounds='locations')\n",
    "\n",
    "    # Get centroid values for the native areas of the item\n",
    "    for index, row in df_local.iterrows():\n",
    "        native_distribution = row['native'].split(', ')\n",
    "        # Filter data for native distribution from gdf dataframe's LEVEL3_NAM column\n",
    "        native_data = gdf[gdf['name'].isin(native_distribution)].copy() \n",
    "        # Calculate centroid data\n",
    "        native_centroid = native_data.to_crs('+proj=cea').centroid.to_crs(native_data.crs)\n",
    "        native_centroid_lon = native_centroid.x.iloc[0]\n",
    "        native_centroid_lat = native_centroid.y.iloc[0]\n",
    "    # Amend projection rotation with the native areas' centroid values\n",
    "    fig.update_layout(geo=dict(projection_rotation = {'lat': native_centroid_lat, 'lon': native_centroid_lon, 'roll': 0}))\n",
    "\n",
    "    # Show the map\n",
    "    # fig.show()\n",
    "\n",
    "    # Save\n",
    "    # fig.write_html(path_out_html + key + \".html\")\n",
    "    fig.write_json(path_out_json + key + \".json\", validate=True, pretty=True)\n",
    "    # fig.write_image(path_out_png + key + \".png\", scale=3)\n",
    "    return"
   ]
  },
  {
   "cell_type": "code",
   "execution_count": 48,
   "metadata": {},
   "outputs": [
    {
     "name": "stdout",
     "output_type": "stream",
     "text": [
      "Drawing habitat map of allspice\n",
      "Drawing habitat map of anise\n",
      "Drawing habitat map of asafoetida\n",
      "Drawing habitat map of caraway\n",
      "Drawing habitat map of cardamom\n",
      "Drawing habitat map of cassia\n",
      "Drawing habitat map of cinnamon\n",
      "Drawing habitat map of clove\n",
      "Drawing habitat map of coriander\n",
      "Drawing habitat map of cubeb\n",
      "Drawing habitat map of cumin\n",
      "Drawing habitat map of fennel\n",
      "Drawing habitat map of fenugreek\n",
      "Drawing habitat map of ginger\n",
      "Drawing habitat map of long_pepper\n",
      "Drawing habitat map of mace\n",
      "Drawing habitat map of nutmeg\n",
      "Drawing habitat map of pepper\n",
      "Drawing habitat map of saffron\n",
      "Drawing habitat map of star_anise\n",
      "Drawing habitat map of turmeric\n",
      "Drawing habitat map of vanilla\n",
      "Done.\n"
     ]
    }
   ],
   "source": [
    "# Loop through all spices\n",
    "for key in list_of_keys:\n",
    "    # If item belongs to kingdom Plantae, draw a map\n",
    "    if df_items.loc[df_items['key'] == key, 'kingdom'].iloc[0] == 'Plantae':\n",
    "        habitat_map(key)\n",
    "print(\"Done.\")\n",
    "\n",
    "# Move files to the website folder\n",
    "move_dir(path_out_json, website_json + \"/distributions\", \"*.json\")"
   ]
  },
  {
   "cell_type": "markdown",
   "metadata": {},
   "source": [
    "# End"
   ]
  },
  {
   "cell_type": "code",
   "execution_count": null,
   "metadata": {},
   "outputs": [
    {
     "name": "stdout",
     "output_type": "stream",
     "text": [
      "All done at 2024-03-07 13:07:20.961370.\n",
      "Duration: 0:00:48.576324\n"
     ]
    }
   ],
   "source": [
    "# ...measure time\n",
    "end_time = datetime.now()\n",
    "print(\"All done at \" + str(end_time) + \".\")\n",
    "print('Duration: {}'.format(end_time - start_time))"
   ]
  },
  {
   "cell_type": "markdown",
   "metadata": {},
   "source": [
    "# Notes"
   ]
  },
  {
   "cell_type": "code",
   "execution_count": null,
   "metadata": {},
   "outputs": [],
   "source": [
    "# print(gpd.datasets.available)\n",
    "# import geodatasets\n",
    "# geodatasets.data\n",
    "\n",
    "# with open(\"data\\\\resources\\\\geo\\\\level3.geojson\", 'r') as f:\n",
    "#     geojson_data = json.load(f)\n",
    "\n",
    "# geojson_data"
   ]
  }
 ],
 "metadata": {
  "kernelspec": {
   "display_name": "work",
   "language": "python",
   "name": "python3"
  },
  "language_info": {
   "codemirror_mode": {
    "name": "ipython",
    "version": 3
   },
   "file_extension": ".py",
   "mimetype": "text/x-python",
   "name": "python",
   "nbconvert_exporter": "python",
   "pygments_lexer": "ipython3",
   "version": "3.11.7"
  },
  "orig_nbformat": 4
 },
 "nbformat": 4,
 "nbformat_minor": 2
}
