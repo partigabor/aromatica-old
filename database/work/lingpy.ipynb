{
 "cells": [
  {
   "cell_type": "code",
   "execution_count": 6,
   "metadata": {},
   "outputs": [],
   "source": [
    "import lingpy\n",
    "import lingpy as lp\n",
    "from lingpy import *"
   ]
  },
  {
   "cell_type": "code",
   "execution_count": 17,
   "metadata": {},
   "outputs": [
    {
     "name": "stdout",
     "output_type": "stream",
     "text": [
      "p\ti\tpp\ta\tl\ti\n",
      "p\ti\tpp\ta\tr\ti\n",
      "p\te\tp\te\tr\ti\n",
      "p\ti\tp\te\tr\t-\n",
      "p\ti\tp\to\tr\t-\n",
      "p\te\tpp\te\tr\t-\n"
     ]
    }
   ],
   "source": [
    "seqs = ['pippali', 'pippari', 'peperi', 'piper', 'pipor', 'pepper']\n",
    "msa = Multiple(seqs)\n",
    "msa.prog_align()\n",
    "print(msa)"
   ]
  },
  {
   "cell_type": "code",
   "execution_count": 11,
   "metadata": {},
   "outputs": [
    {
     "name": "stdout",
     "output_type": "stream",
     "text": [
      "w\to\tl\t-\td\te\tm\to\tr\tt\n",
      "w\ta\tl\t-\td\te\tm\ta\tr\t-\n",
      "w\t-\tl\ta\td\ti\tm\ti\tr\t-\n",
      "v\t-\tl\ta\td\ty\tm\ty\tr\t-\n"
     ]
    },
    {
     "data": {
      "text/plain": [
       "[['w', 'o', 'l', '-', 'd', 'e', 'm', 'o', 'r', 't'],\n",
       " ['w', 'a', 'l', '-', 'd', 'e', 'm', 'a', 'r', '-'],\n",
       " ['w', '-', 'l', 'a', 'd', 'i', 'm', 'i', 'r', '-'],\n",
       " ['v', '-', 'l', 'a', 'd', 'y', 'm', 'y', 'r', '-']]"
      ]
     },
     "execution_count": 11,
     "metadata": {},
     "output_type": "execute_result"
    }
   ],
   "source": [
    "mult_align(['woldemort', 'waldemar', 'wladimir', 'vladymyr'], pprint=True)"
   ]
  },
  {
   "cell_type": "code",
   "execution_count": 12,
   "metadata": {},
   "outputs": [
    {
     "name": "stdout",
     "output_type": "stream",
     "text": [
      "(((Norwegian:0.18,(Swedish:0.12,Icelandic:0.28):0.20):0.17,English:-0.01):0.16,Dutch:0.16);\n",
      "                              /-Norwegian\n",
      "                    /edge.1--|\n",
      "                   |         |          /-Swedish\n",
      "          /edge.2--|          \\edge.0--|\n",
      "         |         |                    \\-Icelandic\n",
      "-root----|         |\n",
      "         |          \\-English\n",
      "         |\n",
      "          \\-Dutch\n"
     ]
    }
   ],
   "source": [
    "from lingpy.algorithm import squareform\n",
    "\n",
    "languages = ['Norwegian','Swedish','Icelandic','Dutch','English']\n",
    "\n",
    "distances = squareform([0.5,0.67,0.8,0.2,0.4,0.7,0.6,0.8,0.8,0.3])\n",
    "\n",
    "tree = neighbor(distances,languages)\n",
    "\n",
    "print(tree)\n",
    "\n",
    "tree = Tree(tree)\n",
    "print(tree.asciiArt())"
   ]
  },
  {
   "cell_type": "code",
   "execution_count": null,
   "metadata": {},
   "outputs": [],
   "source": []
  }
 ],
 "metadata": {
  "kernelspec": {
   "display_name": "work",
   "language": "python",
   "name": "python3"
  },
  "language_info": {
   "codemirror_mode": {
    "name": "ipython",
    "version": 3
   },
   "file_extension": ".py",
   "mimetype": "text/x-python",
   "name": "python",
   "nbconvert_exporter": "python",
   "pygments_lexer": "ipython3",
   "version": "3.10.12"
  }
 },
 "nbformat": 4,
 "nbformat_minor": 2
}
