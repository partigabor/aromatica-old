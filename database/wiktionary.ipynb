{
 "cells": [
  {
   "attachments": {},
   "cell_type": "markdown",
   "metadata": {
    "id": "TGaSlG4Zac5a"
   },
   "source": [
    "# Wiktionary extractor"
   ]
  },
  {
   "cell_type": "code",
   "execution_count": 55,
   "metadata": {},
   "outputs": [],
   "source": [
    "import re\n",
    "import numpy as np\n",
    "import pandas as pd\n",
    "import requests\n",
    "from bs4 import BeautifulSoup\n",
    "import plotly.express as px\n",
    "import plotly.graph_objs as go\n",
    "\n",
    "# response = requests.get(\"https://en.wiktionary.org/wiki/cinnamon\")\n",
    "# soup = BeautifulSoup(response.text, 'html.parser')\n",
    "# soup"
   ]
  },
  {
   "cell_type": "code",
   "execution_count": 56,
   "metadata": {},
   "outputs": [],
   "source": [
    "# Variables\n",
    "key = 'cinnamon'\n",
    "path = 'data\\\\wiktionary\\\\'"
   ]
  },
  {
   "cell_type": "markdown",
   "metadata": {},
   "source": [
    "## Crawl and organize data"
   ]
  },
  {
   "cell_type": "markdown",
   "metadata": {},
   "source": [
    "### Google Translate"
   ]
  },
  {
   "cell_type": "code",
   "execution_count": 57,
   "metadata": {},
   "outputs": [],
   "source": [
    "# from googletrans import Translator, LANGUAGES\n",
    "# import pandas as pd\n",
    "\n",
    "# # Initialize the Translator\n",
    "# translator = Translator()\n",
    "\n",
    "# # The word to translate\n",
    "# word = 'cinnamon'\n",
    "\n",
    "# # Initialize a list to store the translations\n",
    "# translations = []\n",
    "\n",
    "# # Loop through all available languages and translate the word\n",
    "# for lang in LANGUAGES:\n",
    "#     # Translate the word\n",
    "#     translation = translator.translate(word, dest=lang)\n",
    "\n",
    "#     # Add the translation to the list\n",
    "#     translations.append({\n",
    "#         'language': LANGUAGES[lang],\n",
    "#         'term': translation.text,\n",
    "#         'transliteration': translation.pronunciation\n",
    "#     })\n",
    "\n",
    "# # Convert the list to a DataFrame\n",
    "# df_gt = pd.DataFrame(translations)\n",
    "\n",
    "# # Save as xlsx\n",
    "# df_gt.to_excel(path + f'{key}_googletranslate.xlsx', index=False)\n",
    "\n",
    "# # Print the DataFrame\n",
    "# df_gt"
   ]
  },
  {
   "cell_type": "markdown",
   "metadata": {},
   "source": [
    "### Wiktionary"
   ]
  },
  {
   "cell_type": "code",
   "execution_count": 58,
   "metadata": {},
   "outputs": [],
   "source": [
    "# # Define the URL\n",
    "# url = f\"https://en.wiktionary.org/wiki/cinnamon\"\n",
    "\n",
    "# # Get the HTML content of the page\n",
    "# response = requests.get(url)\n",
    "# soup = BeautifulSoup(response.text, 'html.parser')\n",
    "\n",
    "# # Define the list of ids\n",
    "# ids = ['Translations-spice', 'Translations-\\'\\'Cinnamomum_verum\\'\\'']\n",
    "\n",
    "# # Create a list of tuples containing the language, translation, sense, and level\n",
    "# translations = []\n",
    "# for id in ids:\n",
    "#     # Get the translations for the specific noun sense\n",
    "#     translations_div = soup.find('div', {'id': id})\n",
    "\n",
    "#     if translations_div is not None:\n",
    "#         for li in translations_div.find_all('li'):\n",
    "#             split_text = li.get_text().split(\":\", 1)\n",
    "#             lang = split_text[0]\n",
    "#             trans = split_text[1].split('\\n')[0] if len(split_text) > 1 else ''\n",
    "#             sense = id.split('-')[1]  # Extract the sense from the id\n",
    "#             level = 'main'  # This row is not from a level\n",
    "#             translations.append((lang, trans, sense, level))\n",
    "\n",
    "#             # Check if there are sub-items (dl and dd tags)\n",
    "#             dl = li.find('dl')\n",
    "#             if dl is not None:\n",
    "#                 for dd in dl.find_all('dd'):\n",
    "#                     # Extract language and translation from the dd tag\n",
    "#                     split_text = dd.get_text().split(\":\", 1)\n",
    "#                     lang = split_text[0]\n",
    "#                     trans = split_text[1].split('\\n')[0] if len(split_text) > 1 else ''\n",
    "#                     level = 'sub'  # This row is from a level\n",
    "#                     translations.append((lang, trans, sense, level))\n",
    "\n",
    "# # Create a DataFrame from the list of tuples\n",
    "# df = pd.DataFrame(translations, columns=['language', 'item', 'sense', 'level'])\n",
    "\n",
    "# # # Replace \"\" with NaN\n",
    "# # df['item'] = df['item'].replace('', pd.NA)\n",
    "\n",
    "# # # Use backfill for NA in items\n",
    "# # df['item'] = df['item'].fillna(method='bfill')\n",
    "\n",
    "# # Define a function to split on commas not inside parentheses\n",
    "# def split_not_in_parentheses(s):\n",
    "#     return re.split(r',\\s*(?![^()]*\\))', s)\n",
    "\n",
    "# # Apply the function to the 'item' column\n",
    "# df['item'] = df['item'].apply(split_not_in_parentheses)\n",
    "\n",
    "# # Explode the 'item' column\n",
    "# df = df.explode('item')\n",
    "\n",
    "# # Drop duplicates (keep first with spice sense)\n",
    "# df = df.drop_duplicates(subset = ['language', 'item'], keep = 'first').reset_index(drop = True)\n",
    "\n",
    "# # Cleaning\n",
    "# df['item'] = [re.sub('\\xa0', \" \", str(x)) for x in df['item']]\n",
    "# df['item'] = [re.sub(r' m ', \" \", str(x)) for x in df['item']]\n",
    "# df['item'] = [re.sub(r' f ', \" \", str(x)) for x in df['item']]\n",
    "# df['item'] = [re.sub(r' n ', \" \", str(x)) for x in df['item']]\n",
    "# df['item'] = [re.sub(r' c ', \" \", str(x)) for x in df['item']]\n",
    "# df['item'] = [re.sub(r' pl ', \" \", str(x)) for x in df['item']]\n",
    "# df['item'] = [re.sub(r' m,', \",\", str(x)) for x in df['item']]\n",
    "# df['item'] = [re.sub(r' f,', \",\", str(x)) for x in df['item']]\n",
    "# df['item'] = [re.sub(r' n,', \",\", str(x)) for x in df['item']]\n",
    "# df['item'] = [re.sub(r' c,', \",\", str(x)) for x in df['item']]\n",
    "# df['item'] = [re.sub(r' pl,', \",\", str(x)) for x in df['item']]\n",
    "# df['item'] = [re.sub(r' m$', \"\", str(x)) for x in df['item']]\n",
    "# df['item'] = [re.sub(r' f$', \"\", str(x)) for x in df['item']]\n",
    "# df['item'] = [re.sub(r' n$', \"\", str(x)) for x in df['item']]\n",
    "# df['item'] = [re.sub(r' c$', \"\", str(x)) for x in df['item']]\n",
    "# df['item'] = [re.sub(r' pl$', \"\", str(x)) for x in df['item']]\n",
    "# df['item'] = [re.sub(r'\\(bcl\\)', \"\", str(x)) for x in df['item']]\n",
    "# df['item'] = [re.sub(r'\\(nds\\)', \"\", str(x)) for x in df['item']]\n",
    "# df['item'] = [re.sub(r'\\(scn\\)', \"\", str(x)) for x in df['item']]\n",
    "# df['item'] = [re.sub(r'\\(ast\\)', \"\", str(x)) for x in df['item']]\n",
    "# df['item'] = [re.sub(r'\\(Föhr-Amrum\\)', \"\", str(x)) for x in df['item']]\n",
    "# df['item'] = [re.sub(r'\\s?\\(\\w\\w\\)', \"\", str(x)) for x in df['item']]\n",
    "# df['item'] = [re.sub(r'\\(please verify\\)', \"\", str(x)) for x in df['item']]\n",
    "# df['item'] = [re.sub(r'\\s+', \" \", str(x)) for x in df['item']]\n",
    "# df['item'] = [re.sub(r' ,', \",\", str(x)) for x in df['item']]\n",
    "# df['item'] = [re.sub(r'^\\s', \"\", str(x)) for x in df['item']]\n",
    "# df['item'] = [re.sub(r'\\s$', \"\", str(x)) for x in df['item']]\n",
    "\n",
    "# # Other\n",
    "# df['item'] = [re.sub(r\"\\(taraškievica\\)\", \"\", str(x)) for x in df['item']]\n",
    "# df['item'] = [re.sub(r\"\\(collective\\)\", \"\", str(x)) for x in df['item']]\n",
    "# df['item'] = [re.sub(r\"class 9/10\", \"\", str(x)) for x in df['item']]\n",
    "\n",
    "# # Change ( and ) to * and * \n",
    "# df['item'] = [re.sub(r'\\(', \"*\", str(x)) for x in df['item']]\n",
    "# df['item'] = [re.sub(r'\\)', \"*\", str(x)) for x in df['item']]\n",
    "\n",
    "# # Remove ⁧ and ⁩ from item\n",
    "# df['item'] = [re.sub(r'⁧', \"\", str(x)) for x in df['item']]\n",
    "# df['item'] = [re.sub(r'⁩', \"\", str(x)) for x in df['item']]\n",
    "\n",
    "# # drop NA\n",
    "# df = df[df.item != \"please add this translation if you can\"]\n",
    "\n",
    "# # If there is a star in the item column, split the column into 'script' and 'transliteration' columns\n",
    "# df['term'] = df['item'].apply(lambda x: x.split('*')[0].strip())\n",
    "# df['transliteration'] = df['item'].apply(lambda x: x.split('*')[1].strip() if len(x.split('*')) > 1 else None)\n",
    "\n",
    "# # CLean '' in the sense column\n",
    "# df['sense'] = [re.sub(r\"''\", \"\", str(x)) for x in df['sense']]\n",
    "\n",
    "# # Reorder by alphabetizing the language column\n",
    "# # df = df.sort_values('language').reset_index(drop=True)\n",
    "\n",
    "# # Create source\n",
    "# df['source'] = 'Wiktionary'\n",
    "# df['group'] = ''\n",
    "# df['skip'] = ''\n",
    "\n",
    "# # reorder\n",
    "# df = df[['skip', 'language', 'term', 'transliteration', 'item', 'group', 'sense', 'source']]\n",
    "\n",
    "# # Glottologize\n",
    "# # glottologize()\n",
    "\n",
    "# # Save the DataFrame to file\n",
    "# # df.to_excel(path + f'{key}_gen.xlsx', sheet_name='wiktionary', index=None)\n",
    "\n",
    "# # Print\n",
    "# df.head(60)"
   ]
  },
  {
   "cell_type": "markdown",
   "metadata": {},
   "source": [
    "## Manual work\n",
    "\n",
    "Now the manual work: Use the generated file `key_generated.xlsx` to fix, amend, append, group, and organize the names, with the addition of other sources and create a `key.xlsx` master list.\n",
    "\n",
    "Steps:\n",
    " 1. Manual check transliterations, especially Dhivehi, Burmese.\n",
    " 2. Analyze and group words/names.\n",
    " 3. Mark uncertain ones for skipping with 'yes'.\n",
    "\n",
    "Recommended sources:\n",
    "* Katzer (needs serious checking)\n",
    "* WOLD\n",
    "* Max Planck databases \\\\\\\\(CLIC3, etc.)\n",
    "* others... \n",
    "\n",
    "After that, more preprocessing, cleaning, and merging with language data and coordinates."
   ]
  },
  {
   "cell_type": "markdown",
   "metadata": {},
   "source": [
    "## Preprocessing"
   ]
  },
  {
   "cell_type": "markdown",
   "metadata": {},
   "source": [
    "### Language data"
   ]
  },
  {
   "cell_type": "code",
   "execution_count": 59,
   "metadata": {},
   "outputs": [
    {
     "data": {
      "text/html": [
       "<div>\n",
       "<style scoped>\n",
       "    .dataframe tbody tr th:only-of-type {\n",
       "        vertical-align: middle;\n",
       "    }\n",
       "\n",
       "    .dataframe tbody tr th {\n",
       "        vertical-align: top;\n",
       "    }\n",
       "\n",
       "    .dataframe thead th {\n",
       "        text-align: right;\n",
       "    }\n",
       "</style>\n",
       "<table border=\"1\" class=\"dataframe\">\n",
       "  <thead>\n",
       "    <tr style=\"text-align: right;\">\n",
       "      <th></th>\n",
       "      <th>id</th>\n",
       "      <th>name</th>\n",
       "      <th>iso</th>\n",
       "      <th>level</th>\n",
       "      <th>family</th>\n",
       "      <th>country</th>\n",
       "      <th>lat</th>\n",
       "      <th>lon</th>\n",
       "      <th>source</th>\n",
       "    </tr>\n",
       "  </thead>\n",
       "  <tbody>\n",
       "    <tr>\n",
       "      <th>0</th>\n",
       "      <td>3adt1234</td>\n",
       "      <td>3Ad-Tekles</td>\n",
       "      <td>NaN</td>\n",
       "      <td>dialect</td>\n",
       "      <td>afro1255</td>\n",
       "      <td>NaN</td>\n",
       "      <td>NaN</td>\n",
       "      <td>NaN</td>\n",
       "      <td>glottolog</td>\n",
       "    </tr>\n",
       "    <tr>\n",
       "      <th>1</th>\n",
       "      <td>aala1237</td>\n",
       "      <td>Aalawa</td>\n",
       "      <td>NaN</td>\n",
       "      <td>dialect</td>\n",
       "      <td>aust1307</td>\n",
       "      <td>NaN</td>\n",
       "      <td>NaN</td>\n",
       "      <td>NaN</td>\n",
       "      <td>glottolog</td>\n",
       "    </tr>\n",
       "    <tr>\n",
       "      <th>2</th>\n",
       "      <td>aant1238</td>\n",
       "      <td>Aantantara</td>\n",
       "      <td>NaN</td>\n",
       "      <td>dialect</td>\n",
       "      <td>nucl1709</td>\n",
       "      <td>NaN</td>\n",
       "      <td>NaN</td>\n",
       "      <td>NaN</td>\n",
       "      <td>glottolog</td>\n",
       "    </tr>\n",
       "    <tr>\n",
       "      <th>3</th>\n",
       "      <td>aari1238</td>\n",
       "      <td>Aari-Gayil</td>\n",
       "      <td>aiz</td>\n",
       "      <td>family</td>\n",
       "      <td>sout2845</td>\n",
       "      <td>NaN</td>\n",
       "      <td>NaN</td>\n",
       "      <td>NaN</td>\n",
       "      <td>glottolog</td>\n",
       "    </tr>\n",
       "    <tr>\n",
       "      <th>4</th>\n",
       "      <td>aari1239</td>\n",
       "      <td>Aari</td>\n",
       "      <td>aiw</td>\n",
       "      <td>language</td>\n",
       "      <td>sout2845</td>\n",
       "      <td>ET</td>\n",
       "      <td>5.95034</td>\n",
       "      <td>36.5721</td>\n",
       "      <td>glottolog</td>\n",
       "    </tr>\n",
       "    <tr>\n",
       "      <th>...</th>\n",
       "      <td>...</td>\n",
       "      <td>...</td>\n",
       "      <td>...</td>\n",
       "      <td>...</td>\n",
       "      <td>...</td>\n",
       "      <td>...</td>\n",
       "      <td>...</td>\n",
       "      <td>...</td>\n",
       "      <td>...</td>\n",
       "    </tr>\n",
       "    <tr>\n",
       "      <th>26664</th>\n",
       "      <td>zuti1239</td>\n",
       "      <td>Guajajára of Zutiua</td>\n",
       "      <td>NaN</td>\n",
       "      <td>dialect</td>\n",
       "      <td>tupi1275</td>\n",
       "      <td>NaN</td>\n",
       "      <td>NaN</td>\n",
       "      <td>NaN</td>\n",
       "      <td>glottolog</td>\n",
       "    </tr>\n",
       "    <tr>\n",
       "      <th>26665</th>\n",
       "      <td>zuwa1238</td>\n",
       "      <td>Zuwadza</td>\n",
       "      <td>NaN</td>\n",
       "      <td>dialect</td>\n",
       "      <td>koia1260</td>\n",
       "      <td>NaN</td>\n",
       "      <td>NaN</td>\n",
       "      <td>NaN</td>\n",
       "      <td>glottolog</td>\n",
       "    </tr>\n",
       "    <tr>\n",
       "      <th>26666</th>\n",
       "      <td>zwal1238</td>\n",
       "      <td>Zwall</td>\n",
       "      <td>NaN</td>\n",
       "      <td>dialect</td>\n",
       "      <td>atla1278</td>\n",
       "      <td>NaN</td>\n",
       "      <td>NaN</td>\n",
       "      <td>NaN</td>\n",
       "      <td>glottolog</td>\n",
       "    </tr>\n",
       "    <tr>\n",
       "      <th>26667</th>\n",
       "      <td>zyph1238</td>\n",
       "      <td>Zyphe</td>\n",
       "      <td>zyp</td>\n",
       "      <td>language</td>\n",
       "      <td>sino1245</td>\n",
       "      <td>IN MM</td>\n",
       "      <td>22.52400</td>\n",
       "      <td>93.2640</td>\n",
       "      <td>glottolog</td>\n",
       "    </tr>\n",
       "    <tr>\n",
       "      <th>26668</th>\n",
       "      <td>zyud1238</td>\n",
       "      <td>Zyuzdin</td>\n",
       "      <td>NaN</td>\n",
       "      <td>dialect</td>\n",
       "      <td>ural1272</td>\n",
       "      <td>NaN</td>\n",
       "      <td>NaN</td>\n",
       "      <td>NaN</td>\n",
       "      <td>glottolog</td>\n",
       "    </tr>\n",
       "  </tbody>\n",
       "</table>\n",
       "<p>26669 rows × 9 columns</p>\n",
       "</div>"
      ],
      "text/plain": [
       "             id                 name  iso     level    family country  \\\n",
       "0      3adt1234           3Ad-Tekles  NaN   dialect  afro1255     NaN   \n",
       "1      aala1237               Aalawa  NaN   dialect  aust1307     NaN   \n",
       "2      aant1238           Aantantara  NaN   dialect  nucl1709     NaN   \n",
       "3      aari1238           Aari-Gayil  aiz    family  sout2845     NaN   \n",
       "4      aari1239                 Aari  aiw  language  sout2845      ET   \n",
       "...         ...                  ...  ...       ...       ...     ...   \n",
       "26664  zuti1239  Guajajára of Zutiua  NaN   dialect  tupi1275     NaN   \n",
       "26665  zuwa1238              Zuwadza  NaN   dialect  koia1260     NaN   \n",
       "26666  zwal1238                Zwall  NaN   dialect  atla1278     NaN   \n",
       "26667  zyph1238                Zyphe  zyp  language  sino1245   IN MM   \n",
       "26668  zyud1238              Zyuzdin  NaN   dialect  ural1272     NaN   \n",
       "\n",
       "            lat      lon     source  \n",
       "0           NaN      NaN  glottolog  \n",
       "1           NaN      NaN  glottolog  \n",
       "2           NaN      NaN  glottolog  \n",
       "3           NaN      NaN  glottolog  \n",
       "4       5.95034  36.5721  glottolog  \n",
       "...         ...      ...        ...  \n",
       "26664       NaN      NaN  glottolog  \n",
       "26665       NaN      NaN  glottolog  \n",
       "26666       NaN      NaN  glottolog  \n",
       "26667  22.52400  93.2640  glottolog  \n",
       "26668       NaN      NaN  glottolog  \n",
       "\n",
       "[26669 rows x 9 columns]"
      ]
     },
     "execution_count": 59,
     "metadata": {},
     "output_type": "execute_result"
    }
   ],
   "source": [
    "# Read in Glottolog data\n",
    "df_languoid = pd.read_csv('data\\\\glottolog\\\\languoid.csv', delimiter=',', encoding=\"utf-8\")\n",
    "\n",
    "# Extract desired columns\n",
    "df_languoid = df_languoid[['id', 'name', 'iso639P3code', 'level', 'family_id', 'country_ids', 'latitude', 'longitude']]\n",
    "\n",
    "# Rename columns\n",
    "df_languoid.columns = ['id', 'name', 'iso', 'level', 'family', 'country', 'lat', 'lon']\n",
    "\n",
    "# Add source\n",
    "df_languoid = df_languoid.assign(source='glottolog')\n",
    "df_languoid"
   ]
  },
  {
   "cell_type": "code",
   "execution_count": 60,
   "metadata": {},
   "outputs": [
    {
     "data": {
      "text/html": [
       "<div>\n",
       "<style scoped>\n",
       "    .dataframe tbody tr th:only-of-type {\n",
       "        vertical-align: middle;\n",
       "    }\n",
       "\n",
       "    .dataframe tbody tr th {\n",
       "        vertical-align: top;\n",
       "    }\n",
       "\n",
       "    .dataframe thead th {\n",
       "        text-align: right;\n",
       "    }\n",
       "</style>\n",
       "<table border=\"1\" class=\"dataframe\">\n",
       "  <thead>\n",
       "    <tr style=\"text-align: right;\">\n",
       "      <th></th>\n",
       "      <th>id</th>\n",
       "      <th>name</th>\n",
       "      <th>iso</th>\n",
       "      <th>level</th>\n",
       "      <th>macroarea</th>\n",
       "      <th>lat</th>\n",
       "      <th>lon</th>\n",
       "      <th>source</th>\n",
       "    </tr>\n",
       "  </thead>\n",
       "  <tbody>\n",
       "    <tr>\n",
       "      <th>0</th>\n",
       "      <td>3adt1234</td>\n",
       "      <td>3Ad-Tekles</td>\n",
       "      <td>NaN</td>\n",
       "      <td>dialect</td>\n",
       "      <td>Africa</td>\n",
       "      <td>NaN</td>\n",
       "      <td>NaN</td>\n",
       "      <td>glottolog</td>\n",
       "    </tr>\n",
       "    <tr>\n",
       "      <th>1</th>\n",
       "      <td>aala1237</td>\n",
       "      <td>Aalawa</td>\n",
       "      <td>NaN</td>\n",
       "      <td>dialect</td>\n",
       "      <td>Papunesia</td>\n",
       "      <td>NaN</td>\n",
       "      <td>NaN</td>\n",
       "      <td>glottolog</td>\n",
       "    </tr>\n",
       "    <tr>\n",
       "      <th>2</th>\n",
       "      <td>aant1238</td>\n",
       "      <td>Aantantara</td>\n",
       "      <td>NaN</td>\n",
       "      <td>dialect</td>\n",
       "      <td>Papunesia</td>\n",
       "      <td>NaN</td>\n",
       "      <td>NaN</td>\n",
       "      <td>glottolog</td>\n",
       "    </tr>\n",
       "    <tr>\n",
       "      <th>3</th>\n",
       "      <td>aari1239</td>\n",
       "      <td>Aari</td>\n",
       "      <td>aiw</td>\n",
       "      <td>language</td>\n",
       "      <td>Africa</td>\n",
       "      <td>5.95034</td>\n",
       "      <td>36.5721</td>\n",
       "      <td>glottolog</td>\n",
       "    </tr>\n",
       "    <tr>\n",
       "      <th>4</th>\n",
       "      <td>aari1240</td>\n",
       "      <td>Aariya</td>\n",
       "      <td>aay</td>\n",
       "      <td>language</td>\n",
       "      <td>Eurasia</td>\n",
       "      <td>NaN</td>\n",
       "      <td>NaN</td>\n",
       "      <td>glottolog</td>\n",
       "    </tr>\n",
       "    <tr>\n",
       "      <th>...</th>\n",
       "      <td>...</td>\n",
       "      <td>...</td>\n",
       "      <td>...</td>\n",
       "      <td>...</td>\n",
       "      <td>...</td>\n",
       "      <td>...</td>\n",
       "      <td>...</td>\n",
       "      <td>...</td>\n",
       "    </tr>\n",
       "    <tr>\n",
       "      <th>21952</th>\n",
       "      <td>zuwa1238</td>\n",
       "      <td>Zuwadza</td>\n",
       "      <td>NaN</td>\n",
       "      <td>dialect</td>\n",
       "      <td>Papunesia</td>\n",
       "      <td>NaN</td>\n",
       "      <td>NaN</td>\n",
       "      <td>glottolog</td>\n",
       "    </tr>\n",
       "    <tr>\n",
       "      <th>21953</th>\n",
       "      <td>zwal1238</td>\n",
       "      <td>Zwall</td>\n",
       "      <td>NaN</td>\n",
       "      <td>dialect</td>\n",
       "      <td>Africa</td>\n",
       "      <td>NaN</td>\n",
       "      <td>NaN</td>\n",
       "      <td>glottolog</td>\n",
       "    </tr>\n",
       "    <tr>\n",
       "      <th>21954</th>\n",
       "      <td>zyph1238</td>\n",
       "      <td>Zyphe</td>\n",
       "      <td>zyp</td>\n",
       "      <td>language</td>\n",
       "      <td>Eurasia</td>\n",
       "      <td>22.52400</td>\n",
       "      <td>93.2640</td>\n",
       "      <td>glottolog</td>\n",
       "    </tr>\n",
       "    <tr>\n",
       "      <th>21955</th>\n",
       "      <td>zyud1238</td>\n",
       "      <td>Zyuzdin</td>\n",
       "      <td>NaN</td>\n",
       "      <td>dialect</td>\n",
       "      <td>Eurasia</td>\n",
       "      <td>NaN</td>\n",
       "      <td>NaN</td>\n",
       "      <td>glottolog</td>\n",
       "    </tr>\n",
       "    <tr>\n",
       "      <th>21956</th>\n",
       "      <td>huaa1249</td>\n",
       "      <td>ǂHua</td>\n",
       "      <td>NaN</td>\n",
       "      <td>dialect</td>\n",
       "      <td>Africa</td>\n",
       "      <td>NaN</td>\n",
       "      <td>NaN</td>\n",
       "      <td>glottolog</td>\n",
       "    </tr>\n",
       "  </tbody>\n",
       "</table>\n",
       "<p>21957 rows × 8 columns</p>\n",
       "</div>"
      ],
      "text/plain": [
       "             id        name  iso     level  macroarea       lat      lon  \\\n",
       "0      3adt1234  3Ad-Tekles  NaN   dialect     Africa       NaN      NaN   \n",
       "1      aala1237      Aalawa  NaN   dialect  Papunesia       NaN      NaN   \n",
       "2      aant1238  Aantantara  NaN   dialect  Papunesia       NaN      NaN   \n",
       "3      aari1239        Aari  aiw  language     Africa   5.95034  36.5721   \n",
       "4      aari1240      Aariya  aay  language    Eurasia       NaN      NaN   \n",
       "...         ...         ...  ...       ...        ...       ...      ...   \n",
       "21952  zuwa1238     Zuwadza  NaN   dialect  Papunesia       NaN      NaN   \n",
       "21953  zwal1238       Zwall  NaN   dialect     Africa       NaN      NaN   \n",
       "21954  zyph1238       Zyphe  zyp  language    Eurasia  22.52400  93.2640   \n",
       "21955  zyud1238     Zyuzdin  NaN   dialect    Eurasia       NaN      NaN   \n",
       "21956  huaa1249        ǂHua  NaN   dialect     Africa       NaN      NaN   \n",
       "\n",
       "          source  \n",
       "0      glottolog  \n",
       "1      glottolog  \n",
       "2      glottolog  \n",
       "3      glottolog  \n",
       "4      glottolog  \n",
       "...          ...  \n",
       "21952  glottolog  \n",
       "21953  glottolog  \n",
       "21954  glottolog  \n",
       "21955  glottolog  \n",
       "21956  glottolog  \n",
       "\n",
       "[21957 rows x 8 columns]"
      ]
     },
     "execution_count": 60,
     "metadata": {},
     "output_type": "execute_result"
    }
   ],
   "source": [
    "# Load in geodataset for macroarea\n",
    "df_geo = pd.read_csv('data\\\\glottolog\\\\languages_and_dialects_geo.csv', delimiter=',', encoding=\"utf-8\")\n",
    "\n",
    "# Rename columns\n",
    "df_geo.columns = ['id', 'name', 'iso', 'level', 'macroarea', 'lat', 'lon']\n",
    "\n",
    "# From\n",
    "df_geo = df_geo.assign(source='glottolog')\n",
    "df_geo"
   ]
  },
  {
   "cell_type": "code",
   "execution_count": 61,
   "metadata": {},
   "outputs": [],
   "source": [
    "# Merge\n",
    "df_languages = pd.merge(df_languoid, df_geo, on=[\"name\", \"iso\", \"level\", \"id\", \"lat\", \"lon\", \"source\"], how='outer')\n",
    "\n",
    "# Drop duplicates\n",
    "df_languages.drop_duplicates(subset=['id', 'name'], keep='first', inplace=True, ignore_index=True)\n",
    "\n",
    "# Reassign\n",
    "df = df_languages\n",
    "\n",
    "# Drop sign languages, bookkeeping, unattested, artificial\n",
    "df = df[df['family'] != 'book1242']\n",
    "df = df[df['family'] != 'sign1238']\n",
    "df = df[df['family'] != 'unat1236']\n",
    "df = df[df['family'] != 'arti1236']\n",
    "\n",
    "# Manually name families?\n",
    "df['family'] = [re.sub('afro1255', \"Afro-Asiatic\", str(x)) for x in df['family']]\n",
    "df['family'] = [re.sub('atha1245', \"Athabaskan-Eyak-Tlingit\", str(x)) for x in df['family']]\n",
    "df['family'] = [re.sub('atla1278', \"Atlantic-Congo\", str(x)) for x in df['family']]\n",
    "df['family'] = [re.sub('aust1305', \"Austroasiatic\", str(x)) for x in df['family']]\n",
    "df['family'] = [re.sub('aust1307', \"Austronesian\", str(x)) for x in df['family']]\n",
    "df['family'] = [re.sub('drav1251', \"Dravidian\", str(x)) for x in df['family']]\n",
    "df['family'] = [re.sub('indo1319', \"Indo-European\", str(x)) for x in df['family']]\n",
    "df['family'] = [re.sub('japo1237', \"Japonic\", str(x)) for x in df['family']]\n",
    "df['family'] = [re.sub('jara1244', \"Jarawa-Onge\", str(x)) for x in df['family']]\n",
    "df['family'] = [re.sub('khoe1240', \"Khoe-Kwadi\", str(x)) for x in df['family']]\n",
    "df['family'] = [re.sub('koia1260', \"Koiarian\", str(x)) for x in df['family']]\n",
    "df['family'] = [re.sub('kore1284', \"Koreanic\", str(x)) for x in df['family']]\n",
    "df['family'] = [re.sub('kxaa1236', \"Kxa\", str(x)) for x in df['family']]\n",
    "df['family'] = [re.sub('lake1255', \"Lakes Plain\", str(x)) for x in df['family']]\n",
    "df['family'] = [re.sub('mong1349', \"Mongolic-Khitan\", str(x)) for x in df['family']]\n",
    "df['family'] = [re.sub('nucl1709', \"Nuclear Trans New Guinea\", str(x)) for x in df['family']]\n",
    "df['family'] = [re.sub('pama1250', \"Pama-Nyungan\", str(x)) for x in df['family']]\n",
    "df['family'] = [re.sub('sino1245', \"Sino-Tibetan\", str(x)) for x in df['family']]\n",
    "df['family'] = [re.sub('sout2845', \"South Omotic\", str(x)) for x in df['family']]\n",
    "df['family'] = [re.sub('taik1256', \"Tai-Kadai\", str(x)) for x in df['family']]\n",
    "df['family'] = [re.sub('tupi1275', \"Tupian\", str(x)) for x in df['family']]\n",
    "df['family'] = [re.sub('turk1311', \"Turkic\", str(x)) for x in df['family']]\n",
    "df['family'] = [re.sub('tuuu1241', \"Tuu\", str(x)) for x in df['family']]\n",
    "df['family'] = [re.sub('ural1272', \"Uralic\", str(x)) for x in df['family']]\n",
    "df['family'] = [re.sub('utoa1244', \"Uto-Aztecan\", str(x)) for x in df['family']]\n",
    "df['family'] = [re.sub('zapa1251', \"Zaparoan\", str(x)) for x in df['family']]\n",
    "\n",
    "# Reorder columns\n",
    "df = df[['id', 'name', 'iso', 'level', 'family', 'macroarea', 'country', 'lat', 'lon', 'source']]\n",
    "\n",
    "# Rename name column to language in df_languages\n",
    "df = df.rename(columns={'name': 'language'})\n",
    "\n",
    "# Reassign\n",
    "df_languages = df"
   ]
  },
  {
   "cell_type": "markdown",
   "metadata": {},
   "source": [
    "### Merge language data and spice data"
   ]
  },
  {
   "cell_type": "code",
   "execution_count": 62,
   "metadata": {},
   "outputs": [
    {
     "name": "stdout",
     "output_type": "stream",
     "text": [
      "Before skipping:  228\n",
      "After skipping:  188\n"
     ]
    }
   ],
   "source": [
    "# Read in dataframe from xlsx\n",
    "df = pd.read_excel(path + f'{key}.xlsx', sheet_name='wiktionary')\n",
    "\n",
    "# Extract only desired columns\n",
    "selectlist = ['skip', 'language', 'term', 'transliteration', 'group']\n",
    "df = df[selectlist]\n",
    "\n",
    "# Drop rows with 'skip' == 'yes'\n",
    "print(\"Before skipping: \", df.shape[0])\n",
    "df=df[df['skip'] != \"yes\"]\n",
    "print(\"After skipping: \", df.shape[0])\n",
    "\n",
    "# Reset index\n",
    "df = df.reset_index(drop=True)\n",
    "\n",
    "# Reassign\n",
    "df_words = df"
   ]
  },
  {
   "cell_type": "code",
   "execution_count": 63,
   "metadata": {},
   "outputs": [
    {
     "data": {
      "text/html": [
       "<div>\n",
       "<style scoped>\n",
       "    .dataframe tbody tr th:only-of-type {\n",
       "        vertical-align: middle;\n",
       "    }\n",
       "\n",
       "    .dataframe tbody tr th {\n",
       "        vertical-align: top;\n",
       "    }\n",
       "\n",
       "    .dataframe thead th {\n",
       "        text-align: right;\n",
       "    }\n",
       "</style>\n",
       "<table border=\"1\" class=\"dataframe\">\n",
       "  <thead>\n",
       "    <tr style=\"text-align: right;\">\n",
       "      <th></th>\n",
       "      <th>skip</th>\n",
       "      <th>language</th>\n",
       "      <th>term</th>\n",
       "      <th>transliteration</th>\n",
       "      <th>group</th>\n",
       "    </tr>\n",
       "  </thead>\n",
       "  <tbody>\n",
       "    <tr>\n",
       "      <th>0</th>\n",
       "      <td>NaN</td>\n",
       "      <td>Afrikaans</td>\n",
       "      <td>kaneel</td>\n",
       "      <td>NaN</td>\n",
       "      <td>canela</td>\n",
       "    </tr>\n",
       "    <tr>\n",
       "      <th>1</th>\n",
       "      <td>NaN</td>\n",
       "      <td>Northern Tosk Albanian</td>\n",
       "      <td>kanellë</td>\n",
       "      <td>NaN</td>\n",
       "      <td>canela</td>\n",
       "    </tr>\n",
       "    <tr>\n",
       "      <th>2</th>\n",
       "      <td>NaN</td>\n",
       "      <td>Amharic</td>\n",
       "      <td>ቀረፋ</td>\n",
       "      <td>ḳäräfa</td>\n",
       "      <td>qirfa</td>\n",
       "    </tr>\n",
       "    <tr>\n",
       "      <th>3</th>\n",
       "      <td>NaN</td>\n",
       "      <td>Ancient Hebrew</td>\n",
       "      <td>קִנָּמוֹן</td>\n",
       "      <td>qinnāmôn</td>\n",
       "      <td>kinnamon</td>\n",
       "    </tr>\n",
       "    <tr>\n",
       "      <th>4</th>\n",
       "      <td>NaN</td>\n",
       "      <td>Standard Arabic</td>\n",
       "      <td>قِرْفَة</td>\n",
       "      <td>qirfa</td>\n",
       "      <td>qirfa</td>\n",
       "    </tr>\n",
       "    <tr>\n",
       "      <th>...</th>\n",
       "      <td>...</td>\n",
       "      <td>...</td>\n",
       "      <td>...</td>\n",
       "      <td>...</td>\n",
       "      <td>...</td>\n",
       "    </tr>\n",
       "    <tr>\n",
       "      <th>183</th>\n",
       "      <td>NaN</td>\n",
       "      <td>Waray (Philippines)</td>\n",
       "      <td>kanéla</td>\n",
       "      <td>NaN</td>\n",
       "      <td>canela</td>\n",
       "    </tr>\n",
       "    <tr>\n",
       "      <th>184</th>\n",
       "      <td>NaN</td>\n",
       "      <td>Waray (Philippines)</td>\n",
       "      <td>kalingag</td>\n",
       "      <td>NaN</td>\n",
       "      <td>other</td>\n",
       "    </tr>\n",
       "    <tr>\n",
       "      <th>185</th>\n",
       "      <td>NaN</td>\n",
       "      <td>Waray (Philippines)</td>\n",
       "      <td>kayankong</td>\n",
       "      <td>NaN</td>\n",
       "      <td>other</td>\n",
       "    </tr>\n",
       "    <tr>\n",
       "      <th>186</th>\n",
       "      <td>NaN</td>\n",
       "      <td>Welsh</td>\n",
       "      <td>synamon</td>\n",
       "      <td>NaN</td>\n",
       "      <td>kinnamon</td>\n",
       "    </tr>\n",
       "    <tr>\n",
       "      <th>187</th>\n",
       "      <td>NaN</td>\n",
       "      <td>Eastern Yiddish</td>\n",
       "      <td>צימערינג, צימרינג</td>\n",
       "      <td>tsimering, tsimring</td>\n",
       "      <td>kinnamon</td>\n",
       "    </tr>\n",
       "  </tbody>\n",
       "</table>\n",
       "<p>188 rows × 5 columns</p>\n",
       "</div>"
      ],
      "text/plain": [
       "    skip                language               term      transliteration  \\\n",
       "0    NaN               Afrikaans             kaneel                  NaN   \n",
       "1    NaN  Northern Tosk Albanian            kanellë                  NaN   \n",
       "2    NaN                 Amharic                ቀረፋ               ḳäräfa   \n",
       "3    NaN          Ancient Hebrew          קִנָּמוֹן             qinnāmôn   \n",
       "4    NaN         Standard Arabic            قِرْفَة                qirfa   \n",
       "..   ...                     ...                ...                  ...   \n",
       "183  NaN     Waray (Philippines)             kanéla                  NaN   \n",
       "184  NaN     Waray (Philippines)           kalingag                  NaN   \n",
       "185  NaN     Waray (Philippines)          kayankong                  NaN   \n",
       "186  NaN                   Welsh            synamon                  NaN   \n",
       "187  NaN         Eastern Yiddish  צימערינג, צימרינג  tsimering, tsimring   \n",
       "\n",
       "        group  \n",
       "0      canela  \n",
       "1      canela  \n",
       "2       qirfa  \n",
       "3    kinnamon  \n",
       "4       qirfa  \n",
       "..        ...  \n",
       "183    canela  \n",
       "184     other  \n",
       "185     other  \n",
       "186  kinnamon  \n",
       "187  kinnamon  \n",
       "\n",
       "[188 rows x 5 columns]"
      ]
     },
     "execution_count": 63,
     "metadata": {},
     "output_type": "execute_result"
    }
   ],
   "source": [
    "# Change languages to Glottolog name\n",
    "def glottologize():\n",
    "    df['language'] = [re.sub(\"^Albanian$\", \"Northern Tosk Albanian\", str(x)) for x in df['language']]\n",
    "    df['language'] = [re.sub(\"^Arabic$\", \"Standard Arabic\", str(x)) for x in df['language']]\n",
    "    df['language'] = [re.sub(\"^Aramaic$\", \"Classical Syriac\", str(x)) for x in df['language']]\n",
    "    df['language'] = [re.sub(\"^Armenian$\", \"Eastern Armenian\", str(x)) for x in df['language']]\n",
    "    df['language'] = [re.sub(\"^Armenian \\(Eastern\\)$\", \"Eastern Armenian\", str(x)) for x in df['language']]\n",
    "    df['language'] = [re.sub(\"^Eastern Armenian$\", \"Eastern Armenian\", str(x)) for x in df['language']]\n",
    "    df['language'] = [re.sub(\"^Armenian \\(Western\\)$\", \"Western Armenian\", str(x)) for x in df['language']]\n",
    "    df['language'] = [re.sub(\"^Western Armenian$\", \"Western Armenian\", str(x)) for x in df['language']]\n",
    "    df['language'] = [re.sub(\"^Armenian \\(Old\\)$\", \"Classical-Middle Armenian\", str(x)) for x in df['language']]\n",
    "    df['language'] = [re.sub(\"^Old Armenian$\", \"Classical-Middle Armenian\", str(x)) for x in df['language']]\n",
    "    df['language'] = [re.sub(\"^Azerbaijani$\", \"North Azerbaijani\", str(x)) for x in df['language']]\n",
    "    df['language'] = [re.sub(\"^Bikol Central$\", \"Coastal-Naga Bikol\", str(x)) for x in df['language']]\n",
    "    df['language'] = [re.sub(\"^Bosnian$\", \"Bosnian Standard\", str(x)) for x in df['language']]\n",
    "    df['language'] = [re.sub(\"^Brunei Malay$\", \"Brunei\", str(x)) for x in df['language']]\n",
    "    df['language'] = [re.sub(\"^Chichewa$\", \"Nyanja\", str(x)) for x in df['language']]\n",
    "    df['language'] = [re.sub(\"^Croatian$\", \"Croatian Standard\", str(x)) for x in df['language']]\n",
    "    df['language'] = [re.sub(\"^Frisian$\", \"Western Frisian\", str(x)) for x in df['language']]\n",
    "    df['language'] = [re.sub(\"^Gaelic$\", \"Scottish Gaelic\", str(x)) for x in df['language']]\n",
    "    df['language'] = [re.sub(\"^Greek$\", \"Modern Greek\", str(x)) for x in df['language']]\n",
    "    df['language'] = [re.sub(\"^Greek \\(Ancient\\)$\", \"Ionic-Attic Ancient Greek\", str(x)) for x in df['language']]\n",
    "    df['language'] = [re.sub(\"^Ancient Greek$\", \"Ionic-Attic Ancient Greek\", str(x)) for x in df['language']]\n",
    "    df['language'] = [re.sub(\"^Greenlandic$\", \"Kalaallisut\", str(x)) for x in df['language']]\n",
    "    df['language'] = [re.sub(\"^Haitian Creole$\", \"Haitian\", str(x)) for x in df['language']]\n",
    "    df['language'] = [re.sub(\"^Hakka$\", \"Hakka Chinese\", str(x)) for x in df['language']]\n",
    "    df['language'] = [re.sub(\"^Hebrew$\", \"Modern Hebrew\", str(x)) for x in df['language']]\n",
    "    df['language'] = [re.sub(\"^Hmong$\", \"Hmong Daw\", str(x)) for x in df['language']] # ?\n",
    "    df['language'] = [re.sub(\"^Indonesian$\", \"Standard Indonesian\", str(x)) for x in df['language']]\n",
    "    df['language'] = [re.sub(\"^Jewish Babylonian Aramaic$\", \"Jewish Babylonian Aramaic (ca. 200-1200 CE)\", str(x)) for x in df['language']]\n",
    "    df['language'] = [re.sub(\"^Khmer$\", \"Central Khmer\", str(x)) for x in df['language']]\n",
    "    df['language'] = [re.sub(\"^Kyrgyz$\", \"Kirghiz\", str(x)) for x in df['language']]\n",
    "    df['language'] = [re.sub(\"^Kurdish \\(Kurmanji\\)$\", \"Northern Kurdish\", str(x)) for x in df['language']]\n",
    "    df['language'] = [re.sub(\"^Kurdish \\(Northern\\)$\", \"Northern Kurdish\", str(x)) for x in df['language']]\n",
    "    df['language'] = [re.sub(\"^Luxembourgish$\", \"Luxemburgish\", str(x)) for x in df['language']]\n",
    "    df['language'] = [re.sub(\"^Malagasy$\", \"Plateau Malagasy\", str(x)) for x in df['language']]\n",
    "    df['language'] = [re.sub(\"^Malay$\", \"Standard Malay\", str(x)) for x in df['language']]\n",
    "    df['language'] = [re.sub(\"^Mandarin$\", \"Mandarin Chinese\", str(x)) for x in df['language']]\n",
    "    df['language'] = [re.sub(\"^Manipuri \\(Meitei-Lon\\)$\", \"Manipuri\", str(x)) for x in df['language']]\n",
    "    df['language'] = [re.sub(\"^Minnan$\", \"Min Nan Chinese\", str(x)) for x in df['language']]\n",
    "    df['language'] = [re.sub(\"^Mongolian$\", \"Halh Mongolian\", str(x)) for x in df['language']]\n",
    "    df['language'] = [re.sub(\"^Naga \\(Sumi\\)$\", \"Sumi Naga\", str(x)) for x in df['language']]\n",
    "    df['language'] = [re.sub(\"^Naga \\(Tangkhul\\)$\", \"North-Central Tangkhul Naga\", str(x)) for x in df['language']] # A hypoglot\n",
    "    df['language'] = [re.sub(\"^Naga \\(Rengma\\)$\", \"Northern Rengma Naga\", str(x)) for x in df['language']]\n",
    "    df['language'] = [re.sub(\"^Naga \\(Lotha\\)$\", \"Lotha Naga\", str(x)) for x in df['language']]\n",
    "    df['language'] = [re.sub(\"^Naga \\(Konyak\\)$\", \"Konyak Naga\", str(x)) for x in df['language']]\n",
    "    df['language'] = [re.sub(\"^Naga \\(Chakhesang-Chokri\\)$\", \"Chokri Naga\", str(x)) for x in df['language']]\n",
    "    df['language'] = [re.sub(\"^Naga \\(Ao\\)$\", \"Ao Naga\", str(x)) for x in df['language']]\n",
    "    df['language'] = [re.sub(\"^Naga \\(Angami\\)$\", \"Angami Naga\", str(x)) for x in df['language']]\n",
    "    df['language'] = [re.sub(\"^Norman$\", \"Anglo-Norman\", str(x)) for x in df['language']]\n",
    "    df['language'] = [re.sub(\"^North Frisian$\", \"Northern Frisian\", str(x)) for x in df['language']]\n",
    "    df['language'] = [re.sub(\"^North Sami$\", \"North Saami\", str(x)) for x in df['language']]\n",
    "    df['language'] = [re.sub(\"^Old Church Slavonic$\", \"Church Slavic\", str(x)) for x in df['language']]\n",
    "    df['language'] = [re.sub(\"^Old East Slavic$\", \"Old Russian\", str(x)) for x in df['language']]\n",
    "    df['language'] = [re.sub(\"^Old Javanese$\", \"Kawi\", str(x)) for x in df['language']]\n",
    "    df['language'] = [re.sub(\"^Oriya$\", \"Odia\", str(x)) for x in df['language']]\n",
    "    df['language'] = [re.sub(\"^Oromo$\", \"West Central Oromo\", str(x)) for x in df['language']]\n",
    "    df['language'] = [re.sub(\"^Ossetian$\", \"Modern Ossetic\", str(x)) for x in df['language']]\n",
    "    df['language'] = [re.sub(\"^Pashto$\", \"Central Pashto\", str(x)) for x in df['language']]\n",
    "    df['language'] = [re.sub(\"^Persian$\", \"Western Farsi\", str(x)) for x in df['language']]\n",
    "    df['language'] = [re.sub(\"^Punjabi$\", \"Western Panjabi\", str(x)) for x in df['language']]\n",
    "    df['language'] = [re.sub(\"^Panjabi$\", \"Western Panjabi\", str(x)) for x in df['language']]\n",
    "    df['language'] = [re.sub(\"^Serbian$\", \"Serbian Standard\", str(x)) for x in df['language']]\n",
    "    df['language'] = [re.sub(\"^Serbo-Croatian$\", \"Serbian-Croatian-Bosnian\", str(x)) for x in df['language']]\n",
    "    df['language'] = [re.sub(\"^Sesotho$\", \"Southern Sotho\", str(x)) for x in df['language']]\n",
    "    df['language'] = [re.sub(\"^Sinhalese$\", \"Sinhala\", str(x)) for x in df['language']]\n",
    "    df['language'] = [re.sub(\"^Slovene$\", \"Slovenian\", str(x)) for x in df['language']]\n",
    "    df['language'] = [re.sub(\"^Uyghur$\", \"Uighur\", str(x)) for x in df['language']]\n",
    "    df['language'] = [re.sub(\"^Uzbek$\", \"Northern Uzbek\", str(x)) for x in df['language']]\n",
    "    df['language'] = [re.sub(\"^Waray$\", \"Waray (Philippines)\", str(x)) for x in df['language']]\n",
    "    df['language'] = [re.sub(\"^West Frisian$\", \"Western Frisian\", str(x)) for x in df['language']]\n",
    "    df['language'] = [re.sub(\"^Yiddish$\", \"Eastern Yiddish\", str(x)) for x in df['language']]\n",
    "\n",
    "    return df\n",
    "\n",
    "# Standardize names of languages\n",
    "glottologize()"
   ]
  },
  {
   "cell_type": "code",
   "execution_count": 64,
   "metadata": {},
   "outputs": [
    {
     "name": "stdout",
     "output_type": "stream",
     "text": [
      "Merged: (186, 14)\n",
      "    skip   language    term transliteration     group\n",
      "41   NaN  Esperanto  cinamo             NaN  kinnamon\n",
      "182  NaN    Volapük  kirfat             NaN     qirfa\n"
     ]
    }
   ],
   "source": [
    "# Merge input and languages\n",
    "df_merged = pd.merge(df_words, df_languages, on=['language'])\n",
    "print(\"Merged:\", df_merged.shape)\n",
    "\n",
    "# Show rows that appear in the df_words but not in the df_merged\n",
    "df_missing = df_words[~df_words.language.isin(df_merged.language)]\n",
    "print(df_missing)\n",
    "\n",
    "# Reassign\n",
    "df = df_merged.copy()"
   ]
  },
  {
   "cell_type": "code",
   "execution_count": 65,
   "metadata": {},
   "outputs": [
    {
     "data": {
      "text/html": [
       "<div>\n",
       "<style scoped>\n",
       "    .dataframe tbody tr th:only-of-type {\n",
       "        vertical-align: middle;\n",
       "    }\n",
       "\n",
       "    .dataframe tbody tr th {\n",
       "        vertical-align: top;\n",
       "    }\n",
       "\n",
       "    .dataframe thead th {\n",
       "        text-align: right;\n",
       "    }\n",
       "</style>\n",
       "<table border=\"1\" class=\"dataframe\">\n",
       "  <thead>\n",
       "    <tr style=\"text-align: right;\">\n",
       "      <th></th>\n",
       "      <th>skip</th>\n",
       "      <th>language</th>\n",
       "      <th>term</th>\n",
       "      <th>transliteration</th>\n",
       "      <th>group</th>\n",
       "      <th>id</th>\n",
       "      <th>iso</th>\n",
       "      <th>level</th>\n",
       "      <th>family</th>\n",
       "      <th>macroarea</th>\n",
       "      <th>country</th>\n",
       "      <th>lat</th>\n",
       "      <th>lon</th>\n",
       "      <th>source</th>\n",
       "    </tr>\n",
       "  </thead>\n",
       "  <tbody>\n",
       "    <tr>\n",
       "      <th>0</th>\n",
       "      <td>NaN</td>\n",
       "      <td>Afrikaans</td>\n",
       "      <td>kaneel</td>\n",
       "      <td>NaN</td>\n",
       "      <td>canela</td>\n",
       "      <td>afri1274</td>\n",
       "      <td>afr</td>\n",
       "      <td>language</td>\n",
       "      <td>Indo-European</td>\n",
       "      <td>Africa</td>\n",
       "      <td>BW MZ NA ZA ZM ZW</td>\n",
       "      <td>-22.00000</td>\n",
       "      <td>30.000000</td>\n",
       "      <td>glottolog</td>\n",
       "    </tr>\n",
       "    <tr>\n",
       "      <th>22</th>\n",
       "      <td>NaN</td>\n",
       "      <td>Catalan</td>\n",
       "      <td>canella</td>\n",
       "      <td>NaN</td>\n",
       "      <td>canela</td>\n",
       "      <td>stan1289</td>\n",
       "      <td>cat</td>\n",
       "      <td>language</td>\n",
       "      <td>Indo-European</td>\n",
       "      <td>Eurasia</td>\n",
       "      <td>AD ES FR IT</td>\n",
       "      <td>41.45300</td>\n",
       "      <td>1.569000</td>\n",
       "      <td>glottolog</td>\n",
       "    </tr>\n",
       "    <tr>\n",
       "      <th>128</th>\n",
       "      <td>NaN</td>\n",
       "      <td>Anglo-Norman</td>\n",
       "      <td>cannelle</td>\n",
       "      <td>NaN</td>\n",
       "      <td>canela</td>\n",
       "      <td>angl1258</td>\n",
       "      <td>xno</td>\n",
       "      <td>dialect</td>\n",
       "      <td>Indo-European</td>\n",
       "      <td>Eurasia</td>\n",
       "      <td>NaN</td>\n",
       "      <td>NaN</td>\n",
       "      <td>NaN</td>\n",
       "      <td>glottolog</td>\n",
       "    </tr>\n",
       "    <tr>\n",
       "      <th>48</th>\n",
       "      <td>NaN</td>\n",
       "      <td>Scottish Gaelic</td>\n",
       "      <td>caineal</td>\n",
       "      <td>NaN</td>\n",
       "      <td>canela</td>\n",
       "      <td>scot1245</td>\n",
       "      <td>gla</td>\n",
       "      <td>language</td>\n",
       "      <td>Indo-European</td>\n",
       "      <td>Eurasia</td>\n",
       "      <td>GB</td>\n",
       "      <td>56.75740</td>\n",
       "      <td>-5.243660</td>\n",
       "      <td>glottolog</td>\n",
       "    </tr>\n",
       "    <tr>\n",
       "      <th>106</th>\n",
       "      <td>NaN</td>\n",
       "      <td>Maltese</td>\n",
       "      <td>kannella</td>\n",
       "      <td>NaN</td>\n",
       "      <td>canela</td>\n",
       "      <td>malt1254</td>\n",
       "      <td>mlt</td>\n",
       "      <td>language</td>\n",
       "      <td>Afro-Asiatic</td>\n",
       "      <td>Eurasia</td>\n",
       "      <td>MT</td>\n",
       "      <td>35.88840</td>\n",
       "      <td>14.450800</td>\n",
       "      <td>glottolog</td>\n",
       "    </tr>\n",
       "    <tr>\n",
       "      <th>...</th>\n",
       "      <td>...</td>\n",
       "      <td>...</td>\n",
       "      <td>...</td>\n",
       "      <td>...</td>\n",
       "      <td>...</td>\n",
       "      <td>...</td>\n",
       "      <td>...</td>\n",
       "      <td>...</td>\n",
       "      <td>...</td>\n",
       "      <td>...</td>\n",
       "      <td>...</td>\n",
       "      <td>...</td>\n",
       "      <td>...</td>\n",
       "      <td>...</td>\n",
       "    </tr>\n",
       "    <tr>\n",
       "      <th>116</th>\n",
       "      <td>NaN</td>\n",
       "      <td>Halh Mongolian</td>\n",
       "      <td>шанц</td>\n",
       "      <td>šanc (shants)</td>\n",
       "      <td>other</td>\n",
       "      <td>halh1238</td>\n",
       "      <td>khk</td>\n",
       "      <td>language</td>\n",
       "      <td>Mongolic-Khitan</td>\n",
       "      <td>Eurasia</td>\n",
       "      <td>MN RU</td>\n",
       "      <td>48.32397</td>\n",
       "      <td>106.288740</td>\n",
       "      <td>glottolog</td>\n",
       "    </tr>\n",
       "    <tr>\n",
       "      <th>115</th>\n",
       "      <td>NaN</td>\n",
       "      <td>Mon</td>\n",
       "      <td>ခဍၚ် ရာ1</td>\n",
       "      <td>hədɛŋ¹ ra</td>\n",
       "      <td>other</td>\n",
       "      <td>monn1252</td>\n",
       "      <td>mnw</td>\n",
       "      <td>language</td>\n",
       "      <td>Austroasiatic</td>\n",
       "      <td>Eurasia</td>\n",
       "      <td>MM TH</td>\n",
       "      <td>15.49394</td>\n",
       "      <td>98.122465</td>\n",
       "      <td>glottolog</td>\n",
       "    </tr>\n",
       "    <tr>\n",
       "      <th>114</th>\n",
       "      <td>NaN</td>\n",
       "      <td>Mon</td>\n",
       "      <td>ကွာန်1</td>\n",
       "      <td>kəwan</td>\n",
       "      <td>other</td>\n",
       "      <td>monn1252</td>\n",
       "      <td>mnw</td>\n",
       "      <td>language</td>\n",
       "      <td>Austroasiatic</td>\n",
       "      <td>Eurasia</td>\n",
       "      <td>MM TH</td>\n",
       "      <td>15.49394</td>\n",
       "      <td>98.122465</td>\n",
       "      <td>glottolog</td>\n",
       "    </tr>\n",
       "    <tr>\n",
       "      <th>123</th>\n",
       "      <td>NaN</td>\n",
       "      <td>Northern Rengma Naga</td>\n",
       "      <td>achansa</td>\n",
       "      <td>NaN</td>\n",
       "      <td>other</td>\n",
       "      <td>nort2725</td>\n",
       "      <td>nnl</td>\n",
       "      <td>language</td>\n",
       "      <td>Sino-Tibetan</td>\n",
       "      <td>Eurasia</td>\n",
       "      <td>IN</td>\n",
       "      <td>26.44920</td>\n",
       "      <td>94.568300</td>\n",
       "      <td>glottolog</td>\n",
       "    </tr>\n",
       "    <tr>\n",
       "      <th>92</th>\n",
       "      <td>NaN</td>\n",
       "      <td>Lao</td>\n",
       "      <td>ແຄ່</td>\n",
       "      <td>khǣ</td>\n",
       "      <td>other</td>\n",
       "      <td>laoo1244</td>\n",
       "      <td>lao</td>\n",
       "      <td>language</td>\n",
       "      <td>Tai-Kadai</td>\n",
       "      <td>Eurasia</td>\n",
       "      <td>KH LA TH</td>\n",
       "      <td>19.00000</td>\n",
       "      <td>102.460000</td>\n",
       "      <td>glottolog</td>\n",
       "    </tr>\n",
       "  </tbody>\n",
       "</table>\n",
       "<p>186 rows × 14 columns</p>\n",
       "</div>"
      ],
      "text/plain": [
       "    skip              language       term transliteration   group        id  \\\n",
       "0    NaN             Afrikaans     kaneel             NaN  canela  afri1274   \n",
       "22   NaN               Catalan    canella             NaN  canela  stan1289   \n",
       "128  NaN          Anglo-Norman   cannelle             NaN  canela  angl1258   \n",
       "48   NaN       Scottish Gaelic    caineal             NaN  canela  scot1245   \n",
       "106  NaN               Maltese   kannella             NaN  canela  malt1254   \n",
       "..   ...                   ...        ...             ...     ...       ...   \n",
       "116  NaN        Halh Mongolian       шанц   šanc (shants)   other  halh1238   \n",
       "115  NaN                   Mon  ခဍၚ် ရာ1        hədɛŋ¹ ra   other  monn1252   \n",
       "114  NaN                   Mon     ကွာန်1           kəwan   other  monn1252   \n",
       "123  NaN  Northern Rengma Naga    achansa             NaN   other  nort2725   \n",
       "92   NaN                   Lao        ແຄ່             khǣ   other  laoo1244   \n",
       "\n",
       "     iso     level           family macroarea            country       lat  \\\n",
       "0    afr  language    Indo-European    Africa  BW MZ NA ZA ZM ZW -22.00000   \n",
       "22   cat  language    Indo-European   Eurasia        AD ES FR IT  41.45300   \n",
       "128  xno   dialect    Indo-European   Eurasia                NaN       NaN   \n",
       "48   gla  language    Indo-European   Eurasia                 GB  56.75740   \n",
       "106  mlt  language     Afro-Asiatic   Eurasia                 MT  35.88840   \n",
       "..   ...       ...              ...       ...                ...       ...   \n",
       "116  khk  language  Mongolic-Khitan   Eurasia              MN RU  48.32397   \n",
       "115  mnw  language    Austroasiatic   Eurasia              MM TH  15.49394   \n",
       "114  mnw  language    Austroasiatic   Eurasia              MM TH  15.49394   \n",
       "123  nnl  language     Sino-Tibetan   Eurasia                 IN  26.44920   \n",
       "92   lao  language        Tai-Kadai   Eurasia           KH LA TH  19.00000   \n",
       "\n",
       "            lon     source  \n",
       "0     30.000000  glottolog  \n",
       "22     1.569000  glottolog  \n",
       "128         NaN  glottolog  \n",
       "48    -5.243660  glottolog  \n",
       "106   14.450800  glottolog  \n",
       "..          ...        ...  \n",
       "116  106.288740  glottolog  \n",
       "115   98.122465  glottolog  \n",
       "114   98.122465  glottolog  \n",
       "123   94.568300  glottolog  \n",
       "92   102.460000  glottolog  \n",
       "\n",
       "[186 rows x 14 columns]"
      ]
     },
     "execution_count": 65,
     "metadata": {},
     "output_type": "execute_result"
    }
   ],
   "source": [
    "# Sort the dataframe according to the group column\n",
    "# merged = merged.sort_values(by=['group'])\n",
    "\n",
    "# #sort by categories, pepper ######## AUTOMATE ########\n",
    "# df['group'] = pd.Categorical(df['group'], [\"pippali\", \"pigment\", \"marica\", \"hujiao\", \"other\"]) # add categorical order here\n",
    "# df.sort_values(\"group\", inplace = True) # sort according to the categories\n",
    "\n",
    "# Sort by categories, cinnamon ######## AUTOMATE ########\n",
    "df['group'] = pd.Categorical(df['group'], [\"canela\", \"kinnamon\", \"korica\", \"qirfa\", \"darchin\", \"gui\", \"other\"]) # add categorical order here\n",
    "df.sort_values(\"group\", inplace = True) # sort according to the categories\n",
    "df"
   ]
  },
  {
   "cell_type": "code",
   "execution_count": 66,
   "metadata": {},
   "outputs": [],
   "source": [
    "# Add coordinates by hand\n",
    "df.loc[df.language == 'Anglo-Norman', ['lat', 'lon']] = 51, -1 # ?\n",
    "df.loc[df.language == 'Armenian', ['lat', 'lon']] = 49.68, 6.15 # Coordinates of hyperglot, Moselle Franconian\n",
    "df.loc[df.language == 'Aramaic', ['lat', 'lon']] = 33.91, 42.19 # Coordinates of Imperial Aramaic (700-300 BCE)\n",
    "df.loc[df.language == 'Brunei Malay', ['lat', 'lon']] = 4.53, 114.72 #Coordinates of Brunei\n",
    "df.loc[df.language == 'Dravidian', ['lat', 'lon']] = 11, 78 # Coordinates of Old Tamil\n",
    "df.loc[df.language == 'Fante', ['lat', 'lon']] = 6.35, -1.33 # Coordinates of hyperglot Akan\n",
    "df.loc[df.language == 'Germanic', ['lat', 'lon']] = 48.25, 10.60 # Middle High German\n",
    "df.loc[df.language == 'Iranian', ['lat', 'lon']] = 39.70, 66.98 # Coordinates of Sogdian, cognate bors\n",
    "df.loc[df.language == 'Late Latin', ['lat', 'lon']] = 46.2, 1.3 # Western Europe coordinates\n",
    "df.loc[df.language == 'Luxemburgish', ['lat', 'lon']] = 49.68, 6.15 # Coordinates of hyperglot, Moselle Franconian OK\n",
    "df.loc[df.language == 'Medieval Latin', ['lat', 'lon']] = 46.2, 1.3 # Western Europe coordinates\n",
    "df.loc[df.language == 'Mongolian', ['lat', 'lon']] = 48.32, 106.29 # Coordinates of hypoglot, Halh Mongolian (most spoken dialect) OK\n",
    "df.loc[df.language == 'New Latin', ['lat', 'lon']] = 46.2, 1.3 # Western Europe coordinates\n",
    "df.loc[df.language == 'Ottoman Turkish', ['lat', 'lon']] = 39.87, 32.87 # Coordinates of Turkish\n",
    "df.loc[df.language == 'Romance', ['lat', 'lon']] = 44, 12\n",
    "df.loc[df.language == 'Semitic', ['lat', 'lon']] = 29, 40\n",
    "df.loc[df.language == 'Slavic', ['lat', 'lon']] = 43.72, 22.84 # Church Slavic???\n",
    "df.loc[df.language == 'Turkic', ['lat', 'lon']] = 55.49, 47.16 # Coordinates of Chuvash, cognate of bors.\n",
    "df.loc[df.language == 'Twi', ['lat', 'lon']] = 6.35, -1.33 # Coordinates of hyperglot Akan\n",
    "df.loc[df.language == 'Volapük', ['lat', 'lon']] = 49, 8.24 # Coordinates of Karlsrühe, Baden\n",
    "df.loc[df.language == 'West Germanic', ['lat', 'lon']] = 48, 9 #\n",
    "\n",
    "# Modify names\n",
    "df.loc[df.language == 'Old English (ca. 450-1100)', ['language']] = 'Old English'\n",
    "df.loc[df.language == 'Old French (842-ca. 1400)', ['language']] = 'Old French'\n",
    "df.loc[df.language == 'Jewish Babylonian Aramaic (ca. 200-1200 CE)', ['language']] = 'Jewish Babylonian Aramaic'\n",
    "# df.loc[df.language == 'Pahlavi', ['language']] = 'Middle Persian'\n",
    "# Late Middle Indo-Aryan in the new instead of Middle Indo Aryan"
   ]
  },
  {
   "cell_type": "code",
   "execution_count": 67,
   "metadata": {},
   "outputs": [
    {
     "data": {
      "text/html": [
       "<div>\n",
       "<style scoped>\n",
       "    .dataframe tbody tr th:only-of-type {\n",
       "        vertical-align: middle;\n",
       "    }\n",
       "\n",
       "    .dataframe tbody tr th {\n",
       "        vertical-align: top;\n",
       "    }\n",
       "\n",
       "    .dataframe thead th {\n",
       "        text-align: right;\n",
       "    }\n",
       "</style>\n",
       "<table border=\"1\" class=\"dataframe\">\n",
       "  <thead>\n",
       "    <tr style=\"text-align: right;\">\n",
       "      <th></th>\n",
       "      <th>skip</th>\n",
       "      <th>language</th>\n",
       "      <th>term</th>\n",
       "      <th>transliteration</th>\n",
       "      <th>group</th>\n",
       "      <th>id</th>\n",
       "      <th>iso</th>\n",
       "      <th>level</th>\n",
       "      <th>family</th>\n",
       "      <th>macroarea</th>\n",
       "      <th>country</th>\n",
       "      <th>lat</th>\n",
       "      <th>lon</th>\n",
       "      <th>source</th>\n",
       "    </tr>\n",
       "  </thead>\n",
       "  <tbody>\n",
       "  </tbody>\n",
       "</table>\n",
       "</div>"
      ],
      "text/plain": [
       "Empty DataFrame\n",
       "Columns: [skip, language, term, transliteration, group, id, iso, level, family, macroarea, country, lat, lon, source]\n",
       "Index: []"
      ]
     },
     "execution_count": 67,
     "metadata": {},
     "output_type": "execute_result"
    }
   ],
   "source": [
    "# Show rows in the dataframe with missing latitude and longitude\n",
    "df_missing = df[df['lat'].isna()]\n",
    "df_missing"
   ]
  },
  {
   "cell_type": "code",
   "execution_count": 68,
   "metadata": {},
   "outputs": [
    {
     "data": {
      "text/html": [
       "<div>\n",
       "<style scoped>\n",
       "    .dataframe tbody tr th:only-of-type {\n",
       "        vertical-align: middle;\n",
       "    }\n",
       "\n",
       "    .dataframe tbody tr th {\n",
       "        vertical-align: top;\n",
       "    }\n",
       "\n",
       "    .dataframe thead th {\n",
       "        text-align: right;\n",
       "    }\n",
       "</style>\n",
       "<table border=\"1\" class=\"dataframe\">\n",
       "  <thead>\n",
       "    <tr style=\"text-align: right;\">\n",
       "      <th></th>\n",
       "      <th>skip</th>\n",
       "      <th>language</th>\n",
       "      <th>term</th>\n",
       "      <th>transliteration</th>\n",
       "      <th>group</th>\n",
       "      <th>id</th>\n",
       "      <th>iso</th>\n",
       "      <th>level</th>\n",
       "      <th>family</th>\n",
       "      <th>macroarea</th>\n",
       "      <th>country</th>\n",
       "      <th>lat</th>\n",
       "      <th>lon</th>\n",
       "      <th>source</th>\n",
       "      <th>is_duplicate</th>\n",
       "    </tr>\n",
       "  </thead>\n",
       "  <tbody>\n",
       "    <tr>\n",
       "      <th>0</th>\n",
       "      <td>NaN</td>\n",
       "      <td>Afrikaans</td>\n",
       "      <td>kaneel</td>\n",
       "      <td>NaN</td>\n",
       "      <td>canela</td>\n",
       "      <td>afri1274</td>\n",
       "      <td>afr</td>\n",
       "      <td>language</td>\n",
       "      <td>Indo-European</td>\n",
       "      <td>Africa</td>\n",
       "      <td>BW MZ NA ZA ZM ZW</td>\n",
       "      <td>-22.000000</td>\n",
       "      <td>30.000000</td>\n",
       "      <td>glottolog</td>\n",
       "      <td>False</td>\n",
       "    </tr>\n",
       "    <tr>\n",
       "      <th>22</th>\n",
       "      <td>NaN</td>\n",
       "      <td>Catalan</td>\n",
       "      <td>canella</td>\n",
       "      <td>NaN</td>\n",
       "      <td>canela</td>\n",
       "      <td>stan1289</td>\n",
       "      <td>cat</td>\n",
       "      <td>language</td>\n",
       "      <td>Indo-European</td>\n",
       "      <td>Eurasia</td>\n",
       "      <td>AD ES FR IT</td>\n",
       "      <td>41.453000</td>\n",
       "      <td>1.569000</td>\n",
       "      <td>glottolog</td>\n",
       "      <td>False</td>\n",
       "    </tr>\n",
       "    <tr>\n",
       "      <th>128</th>\n",
       "      <td>NaN</td>\n",
       "      <td>Anglo-Norman</td>\n",
       "      <td>cannelle</td>\n",
       "      <td>NaN</td>\n",
       "      <td>canela</td>\n",
       "      <td>angl1258</td>\n",
       "      <td>xno</td>\n",
       "      <td>dialect</td>\n",
       "      <td>Indo-European</td>\n",
       "      <td>Eurasia</td>\n",
       "      <td>NaN</td>\n",
       "      <td>51.000000</td>\n",
       "      <td>-1.000000</td>\n",
       "      <td>glottolog</td>\n",
       "      <td>False</td>\n",
       "    </tr>\n",
       "    <tr>\n",
       "      <th>48</th>\n",
       "      <td>NaN</td>\n",
       "      <td>Scottish Gaelic</td>\n",
       "      <td>caineal</td>\n",
       "      <td>NaN</td>\n",
       "      <td>canela</td>\n",
       "      <td>scot1245</td>\n",
       "      <td>gla</td>\n",
       "      <td>language</td>\n",
       "      <td>Indo-European</td>\n",
       "      <td>Eurasia</td>\n",
       "      <td>GB</td>\n",
       "      <td>56.757400</td>\n",
       "      <td>-5.243660</td>\n",
       "      <td>glottolog</td>\n",
       "      <td>False</td>\n",
       "    </tr>\n",
       "    <tr>\n",
       "      <th>106</th>\n",
       "      <td>NaN</td>\n",
       "      <td>Maltese</td>\n",
       "      <td>kannella</td>\n",
       "      <td>NaN</td>\n",
       "      <td>canela</td>\n",
       "      <td>malt1254</td>\n",
       "      <td>mlt</td>\n",
       "      <td>language</td>\n",
       "      <td>Afro-Asiatic</td>\n",
       "      <td>Eurasia</td>\n",
       "      <td>MT</td>\n",
       "      <td>35.161498</td>\n",
       "      <td>14.948486</td>\n",
       "      <td>glottolog</td>\n",
       "      <td>True</td>\n",
       "    </tr>\n",
       "    <tr>\n",
       "      <th>...</th>\n",
       "      <td>...</td>\n",
       "      <td>...</td>\n",
       "      <td>...</td>\n",
       "      <td>...</td>\n",
       "      <td>...</td>\n",
       "      <td>...</td>\n",
       "      <td>...</td>\n",
       "      <td>...</td>\n",
       "      <td>...</td>\n",
       "      <td>...</td>\n",
       "      <td>...</td>\n",
       "      <td>...</td>\n",
       "      <td>...</td>\n",
       "      <td>...</td>\n",
       "      <td>...</td>\n",
       "    </tr>\n",
       "    <tr>\n",
       "      <th>116</th>\n",
       "      <td>NaN</td>\n",
       "      <td>Halh Mongolian</td>\n",
       "      <td>шанц</td>\n",
       "      <td>šanc (shants)</td>\n",
       "      <td>other</td>\n",
       "      <td>halh1238</td>\n",
       "      <td>khk</td>\n",
       "      <td>language</td>\n",
       "      <td>Mongolic-Khitan</td>\n",
       "      <td>Eurasia</td>\n",
       "      <td>MN RU</td>\n",
       "      <td>48.323970</td>\n",
       "      <td>106.288740</td>\n",
       "      <td>glottolog</td>\n",
       "      <td>False</td>\n",
       "    </tr>\n",
       "    <tr>\n",
       "      <th>115</th>\n",
       "      <td>NaN</td>\n",
       "      <td>Mon</td>\n",
       "      <td>ခဍၚ် ရာ1</td>\n",
       "      <td>hədɛŋ¹ ra</td>\n",
       "      <td>other</td>\n",
       "      <td>monn1252</td>\n",
       "      <td>mnw</td>\n",
       "      <td>language</td>\n",
       "      <td>Austroasiatic</td>\n",
       "      <td>Eurasia</td>\n",
       "      <td>MM TH</td>\n",
       "      <td>16.268747</td>\n",
       "      <td>99.020853</td>\n",
       "      <td>glottolog</td>\n",
       "      <td>True</td>\n",
       "    </tr>\n",
       "    <tr>\n",
       "      <th>114</th>\n",
       "      <td>NaN</td>\n",
       "      <td>Mon</td>\n",
       "      <td>ကွာန်1</td>\n",
       "      <td>kəwan</td>\n",
       "      <td>other</td>\n",
       "      <td>monn1252</td>\n",
       "      <td>mnw</td>\n",
       "      <td>language</td>\n",
       "      <td>Austroasiatic</td>\n",
       "      <td>Eurasia</td>\n",
       "      <td>MM TH</td>\n",
       "      <td>16.065744</td>\n",
       "      <td>99.086167</td>\n",
       "      <td>glottolog</td>\n",
       "      <td>True</td>\n",
       "    </tr>\n",
       "    <tr>\n",
       "      <th>123</th>\n",
       "      <td>NaN</td>\n",
       "      <td>Northern Rengma Naga</td>\n",
       "      <td>achansa</td>\n",
       "      <td>NaN</td>\n",
       "      <td>other</td>\n",
       "      <td>nort2725</td>\n",
       "      <td>nnl</td>\n",
       "      <td>language</td>\n",
       "      <td>Sino-Tibetan</td>\n",
       "      <td>Eurasia</td>\n",
       "      <td>IN</td>\n",
       "      <td>26.449200</td>\n",
       "      <td>94.568300</td>\n",
       "      <td>glottolog</td>\n",
       "      <td>False</td>\n",
       "    </tr>\n",
       "    <tr>\n",
       "      <th>92</th>\n",
       "      <td>NaN</td>\n",
       "      <td>Lao</td>\n",
       "      <td>ແຄ່</td>\n",
       "      <td>khǣ</td>\n",
       "      <td>other</td>\n",
       "      <td>laoo1244</td>\n",
       "      <td>lao</td>\n",
       "      <td>language</td>\n",
       "      <td>Tai-Kadai</td>\n",
       "      <td>Eurasia</td>\n",
       "      <td>KH LA TH</td>\n",
       "      <td>18.529719</td>\n",
       "      <td>101.697839</td>\n",
       "      <td>glottolog</td>\n",
       "      <td>True</td>\n",
       "    </tr>\n",
       "  </tbody>\n",
       "</table>\n",
       "<p>186 rows × 15 columns</p>\n",
       "</div>"
      ],
      "text/plain": [
       "    skip              language       term transliteration   group        id  \\\n",
       "0    NaN             Afrikaans     kaneel             NaN  canela  afri1274   \n",
       "22   NaN               Catalan    canella             NaN  canela  stan1289   \n",
       "128  NaN          Anglo-Norman   cannelle             NaN  canela  angl1258   \n",
       "48   NaN       Scottish Gaelic    caineal             NaN  canela  scot1245   \n",
       "106  NaN               Maltese   kannella             NaN  canela  malt1254   \n",
       "..   ...                   ...        ...             ...     ...       ...   \n",
       "116  NaN        Halh Mongolian       шанц   šanc (shants)   other  halh1238   \n",
       "115  NaN                   Mon  ခဍၚ် ရာ1        hədɛŋ¹ ra   other  monn1252   \n",
       "114  NaN                   Mon     ကွာန်1           kəwan   other  monn1252   \n",
       "123  NaN  Northern Rengma Naga    achansa             NaN   other  nort2725   \n",
       "92   NaN                   Lao        ແຄ່             khǣ   other  laoo1244   \n",
       "\n",
       "     iso     level           family macroarea            country        lat  \\\n",
       "0    afr  language    Indo-European    Africa  BW MZ NA ZA ZM ZW -22.000000   \n",
       "22   cat  language    Indo-European   Eurasia        AD ES FR IT  41.453000   \n",
       "128  xno   dialect    Indo-European   Eurasia                NaN  51.000000   \n",
       "48   gla  language    Indo-European   Eurasia                 GB  56.757400   \n",
       "106  mlt  language     Afro-Asiatic   Eurasia                 MT  35.161498   \n",
       "..   ...       ...              ...       ...                ...        ...   \n",
       "116  khk  language  Mongolic-Khitan   Eurasia              MN RU  48.323970   \n",
       "115  mnw  language    Austroasiatic   Eurasia              MM TH  16.268747   \n",
       "114  mnw  language    Austroasiatic   Eurasia              MM TH  16.065744   \n",
       "123  nnl  language     Sino-Tibetan   Eurasia                 IN  26.449200   \n",
       "92   lao  language        Tai-Kadai   Eurasia           KH LA TH  18.529719   \n",
       "\n",
       "            lon     source  is_duplicate  \n",
       "0     30.000000  glottolog         False  \n",
       "22     1.569000  glottolog         False  \n",
       "128   -1.000000  glottolog         False  \n",
       "48    -5.243660  glottolog         False  \n",
       "106   14.948486  glottolog          True  \n",
       "..          ...        ...           ...  \n",
       "116  106.288740  glottolog         False  \n",
       "115   99.020853  glottolog          True  \n",
       "114   99.086167  glottolog          True  \n",
       "123   94.568300  glottolog         False  \n",
       "92   101.697839  glottolog          True  \n",
       "\n",
       "[186 rows x 15 columns]"
      ]
     },
     "execution_count": 68,
     "metadata": {},
     "output_type": "execute_result"
    }
   ],
   "source": [
    "# Repel data points if they overlap (check for language duplicates  and remove them)\n",
    "# Assuming df is your DataFrame\n",
    "df['is_duplicate'] = df.duplicated(subset=['language'], keep=False)\n",
    "\n",
    "# Add a random value between -1.0 and 1.0 to the latitude and longitude of duplicate rows\n",
    "df.loc[df['is_duplicate'] == True, 'lat'] += np.random.uniform(-1.0, 1.0, size=df[df['is_duplicate']].shape[0])\n",
    "df.loc[df['is_duplicate'] == True, 'lon'] += np.random.uniform(-1.0, 1.0, size=df[df['is_duplicate']].shape[0])\n",
    "\n",
    "# Save\n",
    "df.to_csv(path + f'{key}.csv')\n",
    "\n",
    "# Show\n",
    "df"
   ]
  },
  {
   "cell_type": "code",
   "execution_count": 69,
   "metadata": {},
   "outputs": [
    {
     "data": {
      "text/html": [
       "<div>\n",
       "<style scoped>\n",
       "    .dataframe tbody tr th:only-of-type {\n",
       "        vertical-align: middle;\n",
       "    }\n",
       "\n",
       "    .dataframe tbody tr th {\n",
       "        vertical-align: top;\n",
       "    }\n",
       "\n",
       "    .dataframe thead th {\n",
       "        text-align: right;\n",
       "    }\n",
       "</style>\n",
       "<table border=\"1\" class=\"dataframe\">\n",
       "  <thead>\n",
       "    <tr style=\"text-align: right;\">\n",
       "      <th></th>\n",
       "      <th>skip</th>\n",
       "      <th>language</th>\n",
       "      <th>term</th>\n",
       "      <th>transliteration</th>\n",
       "      <th>group</th>\n",
       "      <th>id</th>\n",
       "      <th>iso</th>\n",
       "      <th>level</th>\n",
       "      <th>family</th>\n",
       "      <th>macroarea</th>\n",
       "      <th>country</th>\n",
       "      <th>lat</th>\n",
       "      <th>lon</th>\n",
       "      <th>source</th>\n",
       "      <th>is_duplicate</th>\n",
       "    </tr>\n",
       "  </thead>\n",
       "  <tbody>\n",
       "    <tr>\n",
       "      <th>170</th>\n",
       "      <td>NaN</td>\n",
       "      <td>Twi</td>\n",
       "      <td>anoatre dua</td>\n",
       "      <td>NaN</td>\n",
       "      <td>other</td>\n",
       "      <td>twii1234</td>\n",
       "      <td>twi</td>\n",
       "      <td>dialect</td>\n",
       "      <td>Atlantic-Congo</td>\n",
       "      <td>Africa</td>\n",
       "      <td>NaN</td>\n",
       "      <td>6.35</td>\n",
       "      <td>-1.33</td>\n",
       "      <td>glottolog</td>\n",
       "      <td>False</td>\n",
       "    </tr>\n",
       "    <tr>\n",
       "      <th>42</th>\n",
       "      <td>NaN</td>\n",
       "      <td>Fante</td>\n",
       "      <td>anoater dua</td>\n",
       "      <td>NaN</td>\n",
       "      <td>other</td>\n",
       "      <td>fant1241</td>\n",
       "      <td>fat</td>\n",
       "      <td>dialect</td>\n",
       "      <td>Atlantic-Congo</td>\n",
       "      <td>Africa</td>\n",
       "      <td>NaN</td>\n",
       "      <td>6.35</td>\n",
       "      <td>-1.33</td>\n",
       "      <td>glottolog</td>\n",
       "      <td>False</td>\n",
       "    </tr>\n",
       "  </tbody>\n",
       "</table>\n",
       "</div>"
      ],
      "text/plain": [
       "    skip language         term transliteration  group        id  iso    level  \\\n",
       "170  NaN      Twi  anoatre dua             NaN  other  twii1234  twi  dialect   \n",
       "42   NaN    Fante  anoater dua             NaN  other  fant1241  fat  dialect   \n",
       "\n",
       "             family macroarea country   lat   lon     source  is_duplicate  \n",
       "170  Atlantic-Congo    Africa     NaN  6.35 -1.33  glottolog         False  \n",
       "42   Atlantic-Congo    Africa     NaN  6.35 -1.33  glottolog         False  "
      ]
     },
     "execution_count": 69,
     "metadata": {},
     "output_type": "execute_result"
    }
   ],
   "source": [
    "# Show Twi and Fante\n",
    "df[(df['language'] == 'Twi') | (df['language'] == 'Fante')]"
   ]
  },
  {
   "cell_type": "markdown",
   "metadata": {},
   "source": [
    "## Plotly"
   ]
  },
  {
   "cell_type": "code",
   "execution_count": 70,
   "metadata": {},
   "outputs": [],
   "source": [
    "# Prism colors in hex code (without gray)\n",
    "prism_ori = ['#5f4690', '#1d6996', '#38a6a5', '#0f8554', '#73af48', '#edae08', '#e17909', '#cc503e', '#94346e', '#6f4070']\n",
    "prism = ['#5f4690', '#1d6996', '#38a6a5', '#0f8554', '#73af48', '#edae08', '#808080']\n",
    "\n",
    "# Transparency from black\n",
    "transparent = \"rgba(0,0,0,0)\"\n",
    "three_quarters_transparent = 'rgba(0,0,0,0.75)'\n",
    "half_transparent = 'rgba(0,0,0,0.5)'\n",
    "quarter_transparent = 'rgba(0,0,0,0.25)'\n",
    "tenth_transparent = 'rgba(0,0,0,0.1)'\n",
    "\n",
    "# # Visual variables for map (dark mode)\n",
    "# font_size = 14\n",
    "# font_color = \"#dddddd\"\n",
    "# font_family = \"Noto Sans\"\n",
    "# marker_symbol= 'circle'\n",
    "# marker_size = 12\n",
    "# max_marker_size = 32\n",
    "# edge_color = transparent\n",
    "# edge_size = 1\n",
    "# opacity = 0.75\n",
    "# line_width = 4\n",
    "# water = \"#202020\"\n",
    "# grid_color = \"#282828\"\n",
    "# land = \"#303030\"\n",
    "# lines = \"#383838\"\n",
    "# copyright_color = \"#404040\"\n",
    "# background_color = transparent\n",
    "# legend_background_color = quarter_transparent\n",
    "# color_scheme = prism\n",
    "\n",
    "# Visual variables for map (light mode)\n",
    "font_size = 14\n",
    "font_color = \"#000000\"\n",
    "font_family = \"Noto Sans\"\n",
    "marker_symbol= 'circle'\n",
    "marker_size = 12\n",
    "max_marker_size = 32\n",
    "edge_color = transparent\n",
    "edge_size = 1\n",
    "opacity = 0.75\n",
    "line_width = 4\n",
    "background_color = transparent\n",
    "legend_background_color = quarter_transparent\n",
    "color_scheme = prism\n",
    "water = \"#ffffff\"\n",
    "grid_color = \"#f7f7f7\"\n",
    "land = \"#ffffff\"\n",
    "lines = \"#777777\"\n",
    "copyright_color = \"#f7f7f7\"\n",
    "\n",
    "# Orthographic globe layout\n",
    "ortho_traces = dict(\n",
    "    textposition = 'top right', # middle left, bottom center, etc.\n",
    "    textfont = dict(size=font_size, color=font_color, family=font_family),\n",
    "    hovertemplate=\n",
    "        \"<b>%{customdata[0]}</b><br><br>\" +\n",
    "        \"Species: <i>%{customdata[1]}</i><br>\" +\n",
    "        \"Family: <i>%{customdata[2]}</i><br>\" +\n",
    "        \"Region of origin: %{customdata[3]}<br>\" +\n",
    "        \"Arabic: %{customdata[4]} <i>%{customdata[5]}</i><br>\" +\n",
    "        \"Chinese: %{customdata[6]} <i>%{customdata[7]}</i><br>\" +\n",
    "        # \"Spreadability: %{customdata[7]:.2f}<br>\" +\n",
    "        \"<extra></extra>\",\n",
    "    marker = dict(\n",
    "        symbol = marker_symbol,\n",
    "        size = marker_size,\n",
    "        line = dict(\n",
    "            color=edge_color,\n",
    "            width=edge_size\n",
    "        )\n",
    "    )\n",
    ")\n",
    "\n",
    "ortho_layout = go.Layout(\n",
    "    paper_bgcolor=background_color,\n",
    "    plot_bgcolor=background_color,\n",
    "    geo = dict(\n",
    "        resolution=110, # 50 is large; 110 is small\n",
    "        scope='world', # 'world', 'asia'\n",
    "        projection_type = 'orthographic', # orthographic, natural earth\n",
    "        projection_scale = 1,\n",
    "        projection_rotation = {'lat': 20, 'lon': 80, 'roll': 0},\n",
    "        bgcolor=background_color,\n",
    "        showcoastlines=True, coastlinewidth = 1, coastlinecolor = lines,\n",
    "        showcountries=False, countrywidth = 1, countrycolor = lines,\n",
    "        showframe=True, framewidth = 1, framecolor = lines,\n",
    "        showlakes=True, lakecolor = water,\n",
    "        showland=True, landcolor = land,\n",
    "        showocean=True, oceancolor = water,\n",
    "        showrivers=True, riverwidth = 1, rivercolor = water,\n",
    "        showsubunits=True, subunitwidth = 0, subunitcolor = lines,\n",
    "        lonaxis = dict(showgrid = True, gridwidth = 0.5, dtick = 10, gridcolor=grid_color),\n",
    "        lataxis = dict (showgrid = True, gridwidth = 0.5, dtick = 10, gridcolor=grid_color)),\n",
    "    showlegend = True,\n",
    "    legend=dict(x=0, y=0, xanchor=\"left\", yanchor=\"bottom\", bgcolor=legend_background_color,\n",
    "                font=dict(color=font_color, size=font_size, family=font_family),\n",
    "                title_font=dict(color=font_color, size=font_size+4, family=font_family),\n",
    "                traceorder = 'normal', orientation=\"v\"),\n",
    "    title=dict(x=0.5, y=0.99, xanchor='center', yanchor='top', text='',\n",
    "               font=dict(color=font_color, size=font_size+6, family=font_family)),\n",
    "    margin={\"r\":0,\"t\":0,\"l\":0,\"b\":0},\n",
    "    hoverlabel=dict(#bgcolor=\"white\",\n",
    "                    font_size=font_size,\n",
    "                    font_family=font_family),\n",
    "    )\n",
    "\n",
    "# \"Document size\" for pdfs\n",
    "document_size = dict(width = 800, height=800)\n",
    "\n",
    "# Copyright\n",
    "cr = dict(\n",
    "    name=\"copyright\",\n",
    "    text=\"© Gábor Parti, 2024\",\n",
    "    font=dict(color=copyright_color, size=8, family=font_family),\n",
    "    opacity=0.9,\n",
    "    xref=\"paper\",\n",
    "    yref=\"paper\",\n",
    "    x=0.5,\n",
    "    y=0,\n",
    "    # xanchor=\"right\", \n",
    "    # yanchor=\"bottom\", \n",
    "    # align=\"center\",\n",
    "    showarrow=False,\n",
    ")\n",
    "# fig.update_layout(annotations = [cr]) # to call"
   ]
  },
  {
   "cell_type": "code",
   "execution_count": 71,
   "metadata": {},
   "outputs": [],
   "source": [
    "# Load and prepare the data\n",
    "df = pd.read_csv(path + f'{key}.csv', header =[0], delimiter=',', encoding=\"utf-8\")\n",
    "\n",
    "# Change NaN in transliteration to ''\n",
    "df['transliteration'] = df['transliteration'].fillna('')\n",
    "\n",
    "# Create an item colum that contains the term and the transliteration with the latter in italics\n",
    "df['item'] = df['term'] + ' <i>' + df['transliteration'] + '</i>'\n",
    "\n",
    "# Creat a column with notes, remarks, etc.\n",
    "df['note'] = df['term'] + "
   ]
  },
  {
   "cell_type": "code",
   "execution_count": 72,
   "metadata": {},
   "outputs": [
    {
     "data": {
      "application/vnd.plotly.v1+json": {
       "config": {
        "plotlyServerURL": "https://plot.ly"
       },
       "data": [
        {
         "customdata": [
          [
           "kaneel",
           "Afrikaans",
           "Indo-European",
           "kaneel <i></i>",
           "",
           30,
           -22,
           "canela"
          ],
          [
           "canella",
           "Catalan",
           "Indo-European",
           "canella <i></i>",
           "",
           1.569,
           41.453,
           "canela"
          ],
          [
           "cannelle",
           "Anglo-Norman",
           "Indo-European",
           "cannelle <i></i>",
           "",
           -1,
           51,
           "canela"
          ],
          [
           "caineal",
           "Scottish Gaelic",
           "Indo-European",
           "caineal <i></i>",
           "",
           -5.24366,
           56.7574,
           "canela"
          ],
          [
           "kannella",
           "Maltese",
           "Afro-Asiatic",
           "kannella <i></i>",
           "",
           14.948486246363,
           35.16149841484412,
           "canela"
          ],
          [
           "kanela",
           "Chavacano",
           "Indo-European",
           "kanela <i></i>",
           "",
           122.18849,
           7.435034,
           "canela"
          ],
          [
           "kaniel",
           "Western Frisian",
           "Indo-European",
           "kaniel <i></i>",
           "",
           5.86091,
           53.143,
           "canela"
          ],
          [
           "kanelina",
           "Plateau Malagasy",
           "Austronesian",
           "kanelina <i></i>",
           "",
           47.1211,
           -19.5907,
           "canela"
          ],
          [
           "kannèl",
           "Haitian",
           "Indo-European",
           "kannèl <i></i>",
           "",
           -72.136115,
           18.795135,
           "canela"
          ],
          [
           "kanéil",
           "Luxemburgish",
           "Indo-European",
           "kanéil <i></i>",
           "",
           6.15,
           49.68,
           "canela"
          ],
          [
           "cannelle",
           "French",
           "Indo-European",
           "cannelle <i></i>",
           "",
           2,
           48,
           "canela"
          ],
          [
           "cannella",
           "Corsican",
           "Indo-European",
           "cannella <i></i>",
           "",
           9.25537,
           41.7,
           "canela"
          ],
          [
           "kaneli",
           "Finnish",
           "Uralic",
           "kaneli <i></i>",
           "",
           25.5577,
           64.7628,
           "canela"
          ],
          [
           "kanēlis",
           "Latvian",
           "Indo-European",
           "kanēlis <i></i>",
           "",
           24.309118,
           56.826108,
           "canela"
          ],
          [
           "kanela",
           "Filipino",
           "Austronesian",
           "kanela <i></i>",
           "",
           123.464,
           12.265,
           "canela"
          ],
          [
           "kanel",
           "Danish",
           "Indo-European",
           "kanel <i></i>",
           "",
           9.36284,
           54.8655,
           "canela"
          ],
          [
           "kanel",
           "Faroese",
           "Indo-European",
           "kanel <i></i>",
           "",
           -6.88497,
           62.0732,
           "canela"
          ],
          [
           "kaneel",
           "Dutch",
           "Indo-European",
           "kaneel <i></i>",
           "",
           5,
           52,
           "canela"
          ],
          [
           "kanel",
           "Norwegian",
           "Indo-European",
           "kanel <i></i>",
           "",
           10.71,
           59.92,
           "canela"
          ],
          [
           "kanéla",
           "Kabuverdianu",
           "Indo-European",
           "kanéla <i></i>",
           "",
           -23.6148,
           15.0586,
           "canela"
          ],
          [
           "canèla",
           "Occitan",
           "Indo-European",
           "canèla <i></i>",
           "",
           6.82979,
           44.1415,
           "canela"
          ],
          [
           "canela",
           "Galician",
           "Indo-European",
           "canela <i></i>",
           "",
           -7.5343,
           42.2446,
           "canela"
          ],
          [
           "kanellë",
           "Northern Tosk Albanian",
           "Indo-European",
           "kanellë <i></i>",
           "",
           20,
           41,
           "canela"
          ],
          [
           "kanéla",
           "Waray (Philippines)",
           "Austronesian",
           "kanéla <i></i>",
           "",
           125.46330150658784,
           12.015668645448914,
           "canela"
          ],
          [
           "canela",
           "Venetian",
           "Indo-European",
           "canela <i></i>",
           "",
           12.214167,
           45.503581,
           "canela"
          ],
          [
           "kanéla",
           "Hiligaynon",
           "Austronesian",
           "kanéla <i></i>",
           "",
           122.974,
           10.4018,
           "canela"
          ],
          [
           "kanéla",
           "Tagalog",
           "Austronesian",
           "kanéla <i></i>",
           "",
           121.747,
           14.06,
           "canela"
          ],
          [
           "kanel",
           "Swedish",
           "Indo-European",
           "kanel <i></i>",
           "",
           17.389526,
           59.800634,
           "canela"
          ],
          [
           "canela",
           "Spanish",
           "Indo-European",
           "canela <i></i>",
           "",
           -1.11788,
           40.4414,
           "canela"
          ],
          [
           "кане́ла",
           "Bulgarian",
           "Indo-European",
           "кане́ла <i>kanéla</i>",
           "kanéla",
           25.047,
           43.3646,
           "canela"
          ],
          [
           "kanill",
           "Icelandic",
           "Indo-European",
           "kanill <i></i>",
           "",
           -19.0212,
           63.4837,
           "canela"
          ],
          [
           "cainéal",
           "Irish",
           "Indo-European",
           "cainéal <i></i>",
           "",
           -7.61509,
           53.2186,
           "canela"
          ],
          [
           "kanela",
           "Basque",
           null,
           "kanela <i></i>",
           "",
           -1.31622,
           43.2787,
           "canela"
          ],
          [
           "cannella",
           "Italian",
           "Indo-European",
           "cannella <i></i>",
           "",
           12.6489,
           43.0464,
           "canela"
          ],
          [
           "canela",
           "Portuguese",
           "Indo-European",
           "canela <i></i>",
           "",
           -8.1,
           39.91,
           "canela"
          ],
          [
           "kanela",
           "Coastal-Naga Bikol",
           "Austronesian",
           "kanela <i></i>",
           "",
           123.403,
           13.7574,
           "canela"
          ],
          [
           "kanell",
           "Breton",
           "Indo-European",
           "kanell <i></i>",
           "",
           -3.78934,
           48.2452,
           "canela"
          ],
          [
           "κανέλα",
           "Modern Greek",
           "Indo-European",
           "κανέλα <i>kanéla</i>",
           "kanéla",
           23.13,
           38.36,
           "canela"
          ],
          [
           "kaneel",
           "Estonian",
           "Uralic",
           "kaneel <i></i>",
           "",
           25.82,
           58.55,
           "canela"
          ]
         ],
         "geo": "geo",
         "hovertemplate": "<b>%{customdata[0]}</b><br><i>%{customdata[4]}</i><br>%{customdata[1]}<br>%{customdata[2]}<br><extra></extra>",
         "hovertext": [
          "kaneel <i></i>",
          "canella <i></i>",
          "cannelle <i></i>",
          "caineal <i></i>",
          "kannella <i></i>",
          "kanela <i></i>",
          "kaniel <i></i>",
          "kanelina <i></i>",
          "kannèl <i></i>",
          "kanéil <i></i>",
          "cannelle <i></i>",
          "cannella <i></i>",
          "kaneli <i></i>",
          "kanēlis <i></i>",
          "kanela <i></i>",
          "kanel <i></i>",
          "kanel <i></i>",
          "kaneel <i></i>",
          "kanel <i></i>",
          "kanéla <i></i>",
          "canèla <i></i>",
          "canela <i></i>",
          "kanellë <i></i>",
          "kanéla <i></i>",
          "canela <i></i>",
          "kanéla <i></i>",
          "kanéla <i></i>",
          "kanel <i></i>",
          "canela <i></i>",
          "кане́ла <i>kanéla</i>",
          "kanill <i></i>",
          "cainéal <i></i>",
          "kanela <i></i>",
          "cannella <i></i>",
          "canela <i></i>",
          "kanela <i></i>",
          "kanell <i></i>",
          "κανέλα <i>kanéla</i>",
          "kaneel <i></i>"
         ],
         "lat": [
          -22,
          41.453,
          51,
          56.7574,
          35.16149841484412,
          7.435034,
          53.143,
          -19.5907,
          18.795135,
          49.68,
          48,
          41.7,
          64.7628,
          56.826108,
          12.265,
          54.8655,
          62.0732,
          52,
          59.92,
          15.0586,
          44.1415,
          42.2446,
          41,
          12.015668645448914,
          45.503581,
          10.4018,
          14.06,
          59.800634,
          40.4414,
          43.3646,
          63.4837,
          53.2186,
          43.2787,
          43.0464,
          39.91,
          13.7574,
          48.2452,
          38.36,
          58.55
         ],
         "legendgroup": "canela",
         "lon": [
          30,
          1.569,
          -1,
          -5.24366,
          14.948486246363,
          122.18849,
          5.86091,
          47.1211,
          -72.136115,
          6.15,
          2,
          9.25537,
          25.5577,
          24.309118,
          123.464,
          9.36284,
          -6.88497,
          5,
          10.71,
          -23.6148,
          6.82979,
          -7.5343,
          20,
          125.46330150658784,
          12.214167,
          122.974,
          121.747,
          17.389526,
          -1.11788,
          25.047,
          -19.0212,
          -7.61509,
          -1.31622,
          12.6489,
          -8.1,
          123.403,
          -3.78934,
          23.13,
          25.82
         ],
         "marker": {
          "color": "#5f4690",
          "line": {
           "color": "rgba(0,0,0,0)",
           "width": 1
          },
          "opacity": 0.75,
          "size": 12,
          "symbol": "circle"
         },
         "mode": "markers",
         "name": "canela",
         "showlegend": true,
         "text": [
          "kaneel <i></i>",
          "canella <i></i>",
          "cannelle <i></i>",
          "caineal <i></i>",
          "kannella <i></i>",
          "kanela <i></i>",
          "kaniel <i></i>",
          "kanelina <i></i>",
          "kannèl <i></i>",
          "kanéil <i></i>",
          "cannelle <i></i>",
          "cannella <i></i>",
          "kaneli <i></i>",
          "kanēlis <i></i>",
          "kanela <i></i>",
          "kanel <i></i>",
          "kanel <i></i>",
          "kaneel <i></i>",
          "kanel <i></i>",
          "kanéla <i></i>",
          "canèla <i></i>",
          "canela <i></i>",
          "kanellë <i></i>",
          "kanéla <i></i>",
          "canela <i></i>",
          "kanéla <i></i>",
          "kanéla <i></i>",
          "kanel <i></i>",
          "canela <i></i>",
          "кане́ла <i>kanéla</i>",
          "kanill <i></i>",
          "cainéal <i></i>",
          "kanela <i></i>",
          "cannella <i></i>",
          "canela <i></i>",
          "kanela <i></i>",
          "kanell <i></i>",
          "κανέλα <i>kanéla</i>",
          "kaneel <i></i>"
         ],
         "textfont": {
          "color": "#000000",
          "family": "Noto Sans",
          "size": 14
         },
         "textposition": "middle right",
         "type": "scattergeo"
        },
        {
         "customdata": [
          [
           "シナモン",
           "Japanese",
           "Japonic",
           "シナモン <i>shinamon</i>",
           "shinamon",
           135.00743677925928,
           35.198933828692184,
           "kinnamon"
          ],
          [
           "קינמון",
           "Modern Hebrew",
           "Afro-Asiatic",
           "קינמון <i>qinamón</i>",
           "qinamón",
           35.0179,
           31.1056,
           "kinnamon"
          ],
          [
           "цимет",
           "Macedonian",
           "Indo-European",
           "цимет <i>cimet</i>",
           "cimet",
           21.7932,
           41.5957,
           "kinnamon"
          ],
          [
           "synamon",
           "Welsh",
           "Indo-European",
           "synamon <i></i>",
           "",
           -4,
           52,
           "kinnamon"
          ],
          [
           "cymt",
           "Upper Sorbian",
           "Indo-European",
           "cymt <i></i>",
           "",
           14.258396888027354,
           51.49864177073097,
           "kinnamon"
          ],
          [
           "цинамо́н ",
           "Ukrainian",
           "Indo-European",
           "цинамо́н  <i>cynamón</i>",
           "cynamón",
           29.42897811442414,
           49.06638823004289,
           "kinnamon"
          ],
          [
           "cimet",
           "Slovenian",
           "Indo-European",
           "cimet <i></i>",
           "",
           14.7766,
           46.2543,
           "kinnamon"
          ],
          [
           "sinamone",
           "Southern Sotho",
           "Atlantic-Congo",
           "sinamone <i></i>",
           "",
           27.89,
           -28.78,
           "kinnamon"
          ],
          [
           "цимет",
           "Serbian-Croatian-Bosnian",
           "Indo-European",
           "цимет <i>cimet</i>",
           "cimet",
           18.81,
           44.15,
           "kinnamon"
          ],
          [
           "цимет",
           "Serbian Standard",
           "Indo-European",
           "цимет <i>cimet</i>",
           "cimet",
           21.9192,
           44.3238,
           "kinnamon"
          ],
          [
           "시나몬",
           "Korean",
           "Koreanic",
           "시나몬 <i>sinamon</i>",
           "sinamon",
           126.50341003269756,
           38.26557598566177,
           "kinnamon"
          ],
          [
           "kinamoni, kinnamona",
           "Samoan",
           "Austronesian",
           "kinamoni, kinnamona <i></i>",
           "",
           -171.83,
           -13.92,
           "kinnamon"
          ],
          [
           "hinamona",
           "Maori",
           "Austronesian",
           "hinamona <i></i>",
           "",
           176.541,
           -38.2881,
           "kinnamon"
          ],
          [
           "ċinnamonu",
           "Maltese",
           "Afro-Asiatic",
           "ċinnamonu <i></i>",
           "",
           15.423189617233737,
           35.365153437368065,
           "kinnamon"
          ],
          [
           "cymt",
           "Lower Sorbian",
           "Indo-European",
           "cymt <i></i>",
           "",
           13.9407,
           51.6621,
           "kinnamon"
          ],
          [
           "cinamonas",
           "Lithuanian",
           "Indo-European",
           "cinamonas <i></i>",
           "",
           23.9601,
           55.1429,
           "kinnamon"
          ],
          [
           "cinnamum",
           "Latin",
           "Indo-European",
           "cinnamum <i></i>",
           "",
           11.626684104683726,
           42.046471831311614,
           "kinnamon"
          ],
          [
           "cinnamōmum",
           "Latin",
           "Indo-European",
           "cinnamōmum <i></i>",
           "",
           13.17254232167816,
           42.198884306109896,
           "kinnamon"
          ],
          [
           "cynamon",
           "Polish",
           "Indo-European",
           "cynamon <i></i>",
           "",
           18.6255,
           51.8439,
           "kinnamon"
          ],
          [
           "kinamona",
           "Hawaiian",
           "Austronesian",
           "kinamona <i></i>",
           "",
           -155.43,
           19.6297,
           "kinnamon"
          ],
          [
           "צימערינג, צימרינג",
           "Eastern Yiddish",
           "Indo-European",
           "צימערינג, צימרינג <i>tsimering, tsimring</i>",
           "tsimering, tsimring",
           19.42,
           51.75,
           "kinnamon"
          ],
          [
           "կինամոն",
           "Eastern Armenian",
           "Indo-European",
           "կինամոն <i>kinamon</i>",
           "kinamon",
           44.88423779488628,
           40.77900567779106,
           "kinnamon"
          ],
          [
           "цынамо́н",
           "Belarusian",
           "Indo-European",
           "цынамо́н <i>cynamón</i>",
           "cynamón",
           25.09976610543667,
           52.7201572116795,
           "kinnamon"
          ],
          [
           "cinnamon",
           "English",
           "Indo-European",
           "cinnamon <i></i>",
           "",
           -1,
           53,
           "kinnamon"
          ],
          [
           "cimet",
           "Croatian Standard",
           "Indo-European",
           "cimet <i></i>",
           "",
           15.982,
           45.555,
           "kinnamon"
          ],
          [
           "κιννάμωμον",
           "Ionic-Attic Ancient Greek",
           "Indo-European",
           "κιννάμωμον <i>kinnámōmon</i>",
           "kinnámōmon",
           21.9129,
           39.8155,
           "kinnamon"
          ],
          [
           "קִנָּמוֹן",
           "Ancient Hebrew",
           "Afro-Asiatic",
           "קִנָּמוֹן <i>qinnāmôn</i>",
           "qinnāmôn",
           35.1725,
           31.7761,
           "kinnamon"
          ],
          [
           "ⲛⲁⲙⲛⲟⲛ",
           "Coptic",
           "Afro-Asiatic",
           "ⲛⲁⲙⲛⲟⲛ <i>namnon</i>",
           "namnon",
           31.454706713539128,
           29.16404308880333,
           "kinnamon"
          ],
          [
           "կինամոմոն",
           "Classical-Middle Armenian",
           "Indo-European",
           "կինամոմոն <i>kinamomon</i>",
           "kinamomon",
           41.375775942963166,
           38.16586243947408,
           "kinnamon"
          ],
          [
           "Zimt",
           "German",
           "Indo-European",
           "Zimt <i></i>",
           "",
           12.4676,
           48.649,
           "kinnamon"
          ],
          [
           "ⲕⲓⲛⲁⲙⲟⲛ, ⲕⲓⲛⲛⲁⲙⲱⲙⲟⲛ, ϭⲓⲛⲁⲙⲟⲙⲟⲛ",
           "Coptic",
           "Afro-Asiatic",
           "ⲕⲓⲛⲁⲙⲟⲛ, ⲕⲓⲛⲛⲁⲙⲱⲙⲟⲛ, ϭⲓⲛⲁⲙⲟⲙⲟⲛ <i>kinamon, kinnamōmon, chinamomon</i>",
           "kinamon, kinnamōmon, chinamomon",
           30.360598505921125,
           30.243094580188128,
           "kinnamon"
          ],
          [
           "ቅናሞሙ",
           "Geez",
           "Afro-Asiatic",
           "ቅናሞሙ <i>qənāmomu</i>",
           "qənāmomu",
           40.6821,
           10.1342,
           "kinnamon"
          ]
         ],
         "geo": "geo",
         "hovertemplate": "<b>%{customdata[0]}</b><br><i>%{customdata[4]}</i><br>%{customdata[1]}<br>%{customdata[2]}<br><extra></extra>",
         "hovertext": [
          "シナモン <i>shinamon</i>",
          "קינמון <i>qinamón</i>",
          "цимет <i>cimet</i>",
          "synamon <i></i>",
          "cymt <i></i>",
          "цинамо́н  <i>cynamón</i>",
          "cimet <i></i>",
          "sinamone <i></i>",
          "цимет <i>cimet</i>",
          "цимет <i>cimet</i>",
          "시나몬 <i>sinamon</i>",
          "kinamoni, kinnamona <i></i>",
          "hinamona <i></i>",
          "ċinnamonu <i></i>",
          "cymt <i></i>",
          "cinamonas <i></i>",
          "cinnamum <i></i>",
          "cinnamōmum <i></i>",
          "cynamon <i></i>",
          "kinamona <i></i>",
          "צימערינג, צימרינג <i>tsimering, tsimring</i>",
          "կինամոն <i>kinamon</i>",
          "цынамо́н <i>cynamón</i>",
          "cinnamon <i></i>",
          "cimet <i></i>",
          "κιννάμωμον <i>kinnámōmon</i>",
          "קִנָּמוֹן <i>qinnāmôn</i>",
          "ⲛⲁⲙⲛⲟⲛ <i>namnon</i>",
          "կինամոմոն <i>kinamomon</i>",
          "Zimt <i></i>",
          "ⲕⲓⲛⲁⲙⲟⲛ, ⲕⲓⲛⲛⲁⲙⲱⲙⲟⲛ, ϭⲓⲛⲁⲙⲟⲙⲟⲛ <i>kinamon, kinnamōmon, chinamomon</i>",
          "ቅናሞሙ <i>qənāmomu</i>"
         ],
         "lat": [
          35.198933828692184,
          31.1056,
          41.5957,
          52,
          51.49864177073097,
          49.06638823004289,
          46.2543,
          -28.78,
          44.15,
          44.3238,
          38.26557598566177,
          -13.92,
          -38.2881,
          35.365153437368065,
          51.6621,
          55.1429,
          42.046471831311614,
          42.198884306109896,
          51.8439,
          19.6297,
          51.75,
          40.77900567779106,
          52.7201572116795,
          53,
          45.555,
          39.8155,
          31.7761,
          29.16404308880333,
          38.16586243947408,
          48.649,
          30.243094580188128,
          10.1342
         ],
         "legendgroup": "kinnamon",
         "lon": [
          135.00743677925928,
          35.0179,
          21.7932,
          -4,
          14.258396888027354,
          29.42897811442414,
          14.7766,
          27.89,
          18.81,
          21.9192,
          126.50341003269756,
          -171.83,
          176.541,
          15.423189617233737,
          13.9407,
          23.9601,
          11.626684104683726,
          13.17254232167816,
          18.6255,
          -155.43,
          19.42,
          44.88423779488628,
          25.09976610543667,
          -1,
          15.982,
          21.9129,
          35.1725,
          31.454706713539128,
          41.375775942963166,
          12.4676,
          30.360598505921125,
          40.6821
         ],
         "marker": {
          "color": "#1d6996",
          "line": {
           "color": "rgba(0,0,0,0)",
           "width": 1
          },
          "opacity": 0.75,
          "size": 12,
          "symbol": "circle"
         },
         "mode": "markers",
         "name": "kinnamon",
         "showlegend": true,
         "text": [
          "シナモン <i>shinamon</i>",
          "קינמון <i>qinamón</i>",
          "цимет <i>cimet</i>",
          "synamon <i></i>",
          "cymt <i></i>",
          "цинамо́н  <i>cynamón</i>",
          "cimet <i></i>",
          "sinamone <i></i>",
          "цимет <i>cimet</i>",
          "цимет <i>cimet</i>",
          "시나몬 <i>sinamon</i>",
          "kinamoni, kinnamona <i></i>",
          "hinamona <i></i>",
          "ċinnamonu <i></i>",
          "cymt <i></i>",
          "cinamonas <i></i>",
          "cinnamum <i></i>",
          "cinnamōmum <i></i>",
          "cynamon <i></i>",
          "kinamona <i></i>",
          "צימערינג, צימרינג <i>tsimering, tsimring</i>",
          "կինամոն <i>kinamon</i>",
          "цынамо́н <i>cynamón</i>",
          "cinnamon <i></i>",
          "cimet <i></i>",
          "κιννάμωμον <i>kinnámōmon</i>",
          "קִנָּמוֹן <i>qinnāmôn</i>",
          "ⲛⲁⲙⲛⲟⲛ <i>namnon</i>",
          "կինամոմոն <i>kinamomon</i>",
          "Zimt <i></i>",
          "ⲕⲓⲛⲁⲙⲟⲛ, ⲕⲓⲛⲛⲁⲙⲱⲙⲟⲛ, ϭⲓⲛⲁⲙⲟⲙⲟⲛ <i>kinamon, kinnamōmon, chinamomon</i>",
          "ቅናሞሙ <i>qənāmomu</i>"
         ],
         "textfont": {
          "color": "#000000",
          "family": "Noto Sans",
          "size": 14
         },
         "textposition": "middle right",
         "type": "scattergeo"
        },
        {
         "customdata": [
          [
           "корга",
           "Tajik",
           "Indo-European",
           "корга <i>korga</i>",
           "korga",
           67.67227091888523,
           38.56002471895889,
           "korica"
          ],
          [
           "skořice",
           "Czech",
           "Indo-European",
           "skořice <i></i>",
           "",
           15.10437,
           49.873398,
           "korica"
          ],
          [
           "корица",
           "Kirghiz",
           "Turkic",
           "корица <i>koritsa</i>",
           "koritsa",
           73.10847582561847,
           41.19626428373071,
           "korica"
          ],
          [
           "корица ",
           "Kirghiz",
           "Turkic",
           "корица  <i>qoritsa</i>",
           "qoritsa",
           73.0733481767143,
           42.88995276133278,
           "korica"
          ],
          [
           "skorica",
           "Upper Sorbian",
           "Indo-European",
           "skorica <i></i>",
           "",
           14.673747493021285,
           51.16680114655132,
           "korica"
          ],
          [
           "кори́ця ",
           "Ukrainian",
           "Indo-European",
           "кори́ця  <i>korýcja</i>",
           "korýcja",
           30.15238512166345,
           49.50649287251724,
           "korica"
          ],
          [
           "кори́ца",
           "Russian",
           "Indo-European",
           "кори́ца <i>koríca</i>",
           "koríca",
           50,
           59,
           "korica"
          ],
          [
           "škorica",
           "Slovak",
           "Indo-European",
           "škorica <i></i>",
           "",
           18.78479,
           48.545705,
           "korica"
          ],
          [
           "кары́ца",
           "Belarusian",
           "Indo-European",
           "кары́ца <i>karýca</i>",
           "karýca",
           26.497346931397484,
           53.96586382347455,
           "korica"
          ],
          [
           "koritsa",
           "Northern Uzbek",
           "Turkic",
           "koritsa <i></i>",
           "",
           68.82265452161735,
           41.04084081453368,
           "korica"
          ]
         ],
         "geo": "geo",
         "hovertemplate": "<b>%{customdata[0]}</b><br><i>%{customdata[4]}</i><br>%{customdata[1]}<br>%{customdata[2]}<br><extra></extra>",
         "hovertext": [
          "корга <i>korga</i>",
          "skořice <i></i>",
          "корица <i>koritsa</i>",
          "корица  <i>qoritsa</i>",
          "skorica <i></i>",
          "кори́ця  <i>korýcja</i>",
          "кори́ца <i>koríca</i>",
          "škorica <i></i>",
          "кары́ца <i>karýca</i>",
          "koritsa <i></i>"
         ],
         "lat": [
          38.56002471895889,
          49.873398,
          41.19626428373071,
          42.88995276133278,
          51.16680114655132,
          49.50649287251724,
          59,
          48.545705,
          53.96586382347455,
          41.04084081453368
         ],
         "legendgroup": "korica",
         "lon": [
          67.67227091888523,
          15.10437,
          73.10847582561847,
          73.0733481767143,
          14.673747493021285,
          30.15238512166345,
          50,
          18.78479,
          26.497346931397484,
          68.82265452161735
         ],
         "marker": {
          "color": "#38a6a5",
          "line": {
           "color": "rgba(0,0,0,0)",
           "width": 1
          },
          "opacity": 0.75,
          "size": 12,
          "symbol": "circle"
         },
         "mode": "markers",
         "name": "korica",
         "showlegend": true,
         "text": [
          "корга <i>korga</i>",
          "skořice <i></i>",
          "корица <i>koritsa</i>",
          "корица  <i>qoritsa</i>",
          "skorica <i></i>",
          "кори́ця  <i>korýcja</i>",
          "кори́ца <i>koríca</i>",
          "škorica <i></i>",
          "кары́ца <i>karýca</i>",
          "koritsa <i></i>"
         ],
         "textfont": {
          "color": "#000000",
          "family": "Noto Sans",
          "size": 14
         },
         "textposition": "middle right",
         "type": "scattergeo"
        },
        {
         "customdata": [
          [
           "kirfa",
           "Hausa",
           "Afro-Asiatic",
           "kirfa <i></i>",
           "",
           8.7804,
           11.1513,
           "qirfa"
          ],
          [
           "قرفة‎ ",
           "Hijazi Arabic",
           "Afro-Asiatic",
           "قرفة‎  <i>girfa</i>",
           "girfa",
           38.9237,
           22.8346,
           "qirfa"
          ],
          [
           "ቀረፋ",
           "Amharic",
           "Afro-Asiatic",
           "ቀረፋ <i>ḳäräfa</i>",
           "ḳäräfa",
           39.543456,
           11.708182,
           "qirfa"
          ],
          [
           "قرفة",
           "Egyptian Arabic",
           "Afro-Asiatic",
           "قرفة <i>ʔerfa</i>",
           "ʔerfa",
           31,
           31,
           "qirfa"
          ],
          [
           "ቃርፋ ",
           "Tigrinya",
           "Afro-Asiatic",
           "ቃርፋ  <i>ḳarfa</i>",
           "ḳarfa",
           38.9266,
           15.3359,
           "qirfa"
          ],
          [
           "qorfe",
           "Somali",
           "Afro-Asiatic",
           "qorfe <i></i>",
           "",
           45.152856,
           4.778704,
           "qirfa"
          ],
          [
           "قرفة‎ ",
           "Moroccan Arabic",
           "Afro-Asiatic",
           "قرفة‎  <i>qarfa</i>",
           "qarfa",
           -7.5,
           32.5,
           "qirfa"
          ],
          [
           "qarafaa",
           "West Central Oromo",
           "Afro-Asiatic",
           "qarafaa <i></i>",
           "",
           36.7365,
           8.81391,
           "qirfa"
          ],
          [
           "قِرْفَة",
           "Standard Arabic",
           "Afro-Asiatic",
           "قِرْفَة <i>qirfa</i>",
           "qirfa",
           43.8525,
           27.9625,
           "qirfa"
          ]
         ],
         "geo": "geo",
         "hovertemplate": "<b>%{customdata[0]}</b><br><i>%{customdata[4]}</i><br>%{customdata[1]}<br>%{customdata[2]}<br><extra></extra>",
         "hovertext": [
          "kirfa <i></i>",
          "قرفة‎  <i>girfa</i>",
          "ቀረፋ <i>ḳäräfa</i>",
          "قرفة <i>ʔerfa</i>",
          "ቃርፋ  <i>ḳarfa</i>",
          "qorfe <i></i>",
          "قرفة‎  <i>qarfa</i>",
          "qarafaa <i></i>",
          "قِرْفَة <i>qirfa</i>"
         ],
         "lat": [
          11.1513,
          22.8346,
          11.708182,
          31,
          15.3359,
          4.778704,
          32.5,
          8.81391,
          27.9625
         ],
         "legendgroup": "qirfa",
         "lon": [
          8.7804,
          38.9237,
          39.543456,
          31,
          38.9266,
          45.152856,
          -7.5,
          36.7365,
          43.8525
         ],
         "marker": {
          "color": "#0f8554",
          "line": {
           "color": "rgba(0,0,0,0)",
           "width": 1
          },
          "opacity": 0.75,
          "size": 12,
          "symbol": "circle"
         },
         "mode": "markers",
         "name": "qirfa",
         "showlegend": true,
         "text": [
          "kirfa <i></i>",
          "قرفة‎  <i>girfa</i>",
          "ቀረፋ <i>ḳäräfa</i>",
          "قرفة <i>ʔerfa</i>",
          "ቃርፋ  <i>ḳarfa</i>",
          "qorfe <i></i>",
          "قرفة‎  <i>qarfa</i>",
          "qarafaa <i></i>",
          "قِرْفَة <i>qirfa</i>"
         ],
         "textfont": {
          "color": "#000000",
          "family": "Noto Sans",
          "size": 14
         },
         "textposition": "middle right",
         "type": "scattergeo"
        },
        {
         "customdata": [
          [
           "దాల్చిని",
           "Telugu",
           "Dravidian",
           "దాల్చిని <i>dālcini</i>",
           "dālcini",
           78.167721522679,
           16.091402153644633,
           "darchin"
          ],
          [
           "дарчин",
           "Tatar",
           "Turkic",
           "дарчин <i>darçin</i>",
           "darçin",
           49.11577,
           55.79592,
           "darchin"
          ],
          [
           "दालचीनी ",
           "Marathi",
           "Indo-European",
           "दालचीनी  <i>dālcīnī</i>",
           "dālcīnī",
           76.6665,
           17.9344,
           "darchin"
          ],
          [
           "дорчин ",
           "Tajik",
           "Indo-European",
           "дорчин  <i>dorčin</i>",
           "dorčin",
           69.40950396999956,
           38.48419309730684,
           "darchin"
          ],
          [
           "darçyn",
           "Turkmen",
           "Turkic",
           "darçyn <i></i>",
           "",
           59.17574,
           37.08719,
           "darchin"
          ],
          [
           "դարիճենիկ",
           "Classical-Middle Armenian",
           "Indo-European",
           "դարիճենիկ <i>daričenik</i>",
           "daričenik",
           40.70473667019375,
           38.61336515573221,
           "darchin"
          ],
          [
           "dalasini",
           "Swahili",
           "Atlantic-Congo",
           "dalasini <i></i>",
           "",
           37.624,
           -8.25605,
           "darchin"
          ],
          [
           "دارچین",
           "Central Kurdish",
           "Indo-European",
           "دارچین <i>darçîn</i>",
           "darçîn",
           45.8077,
           35.6539,
           "darchin"
          ],
          [
           "ଦାଲଚିନି",
           "Odia",
           "Indo-European",
           "ଦାଲଚିନି <i>dālcini</i>",
           "dālcini",
           85,
           21,
           "darchin"
          ],
          [
           "دارچین",
           "Ottoman Turkish",
           "Turkic",
           "دارچین <i>darçın</i>",
           "darçın",
           32.87,
           39.87,
           "darchin"
          ],
          [
           "دارچیني، دال چینی",
           "Central Pashto",
           "Indo-European",
           "دارچیني، دال چینی <i> dār-c̱ẖīnī, dāl-c̱ẖīnī</i>",
           " dār-c̱ẖīnī, dāl-c̱ẖīnī",
           69.4529,
           31.9153,
           "darchin"
          ],
          [
           "دارچین",
           "Western Farsi",
           "Indo-European",
           "دارچین <i>dârčin</i>",
           "dârčin",
           53.3,
           32.9,
           "darchin"
          ],
          [
           "দালচেনি",
           "Assamese",
           "Indo-European",
           "দালচেনি <i>dalseni</i>",
           "dalseni",
           91.2932,
           26.0876,
           "darchin"
          ],
          [
           "দারুচিনি",
           "Bengali",
           "Indo-European",
           "দারুচিনি <i>dārucini</i>",
           "dārucini",
           90,
           24,
           "darchin"
          ],
          [
           "ਦਾਲ਼ਚੀਨੀ",
           "Western Panjabi",
           "Indo-European",
           "ਦਾਲ਼ਚੀਨੀ <i>dāḷcīnī</i>",
           "dāḷcīnī",
           75.3474,
           30.0948,
           "darchin"
          ],
          [
           "दारुसिता",
           "Sanskrit",
           "Indo-European",
           "दारुसिता <i>dārusitā</i>",
           "dārusitā",
           76.37470854847172,
           19.68343010927441,
           "darchin"
          ],
          [
           "դարչին",
           "Eastern Armenian",
           "Indo-European",
           "դարչին <i>darčʿin</i>",
           "darčʿin",
           45.26590374452336,
           39.53548356002938,
           "darchin"
          ],
          [
           "दालचिनी, दालचीनि",
           "Nepali",
           "Indo-European",
           "दालचिनी, दालचीनि <i>dālacinī, dālacīni</i>",
           "dālacinī, dālacīni",
           85,
           28,
           "darchin"
          ],
          [
           "darçın",
           "North Azerbaijani",
           "Turkic",
           "darçın <i></i>",
           "",
           46.4737,
           40.97768,
           "darchin"
          ],
          [
           "dalchini",
           "Khasi",
           "Austroasiatic",
           "dalchini <i></i>",
           "",
           91.9998,
           24.977,
           "darchin"
          ],
          [
           "ದಾಲ್ಚಿನ್ನಿ ",
           "Kannada",
           "Dravidian",
           "ದಾಲ್ಚಿನ್ನಿ  <i>dālcinni</i>",
           "dālcinni",
           76.1198,
           13.5878,
           "darchin"
          ],
          [
           "ndarathini",
           "Kikuyu",
           "Atlantic-Congo",
           "ndarathini <i></i>",
           "",
           36.719,
           -0.29005,
           "darchin"
          ],
          [
           "דַּרְצִינִי",
           "Jewish Babylonian Aramaic",
           "Afro-Asiatic",
           "דַּרְצִינִי <i>darṣīnī</i>",
           "darṣīnī",
           44.245,
           32.273,
           "darchin"
          ],
          [
           "darçîn",
           "Northern Kurdish",
           "Indo-European",
           "darçîn <i></i>",
           "",
           43,
           37,
           "darchin"
          ],
          [
           "tarçın",
           "Crimean Tatar",
           "Turkic",
           "tarçın <i></i>",
           "",
           34.08,
           45,
           "darchin"
          ],
          [
           "ܨܝܢܕܪܓ",
           "Classical Syriac",
           "Afro-Asiatic",
           "ܨܝܢܕܪܓ <i>ṣīndreḡ</i>",
           "ṣīndreḡ",
           41.29063769653315,
           36.472023980461216,
           "darchin"
          ],
          [
           "دارچینی",
           "Urdu",
           "Indo-European",
           "دارچینی <i>dārcīnī</i>",
           "dārcīnī",
           67,
           25,
           "darchin"
          ],
          [
           "دارچىن",
           "Uighur",
           "Turkic",
           "دارچىن <i>darchin</i>",
           "darchin",
           87.38,
           43.88,
           "darchin"
          ],
          [
           "даршын ",
           "Kazakh",
           "Turkic",
           "даршын  <i>darşın</i>",
           "darşın",
           71.454,
           51.17,
           "darchin"
          ],
          [
           "دالچین",
           "Kashmiri",
           "Indo-European",
           "دالچین <i>dālchīn</i>",
           "dālchīn",
           74.330455,
           34.166825,
           "darchin"
          ],
          [
           "ܕܪܨܝܢܝ",
           "Classical Syriac",
           "Afro-Asiatic",
           "ܕܪܨܝܢܝ <i>dārṣīnī</i>",
           "dārṣīnī",
           41.86235723977504,
           37.55047976676885,
           "darchin"
          ],
          [
           "tarçın",
           "Turkish",
           "Turkic",
           "tarçın <i></i>",
           "",
           32.8667,
           39.8667,
           "darchin"
          ],
          [
           "დარიჩინი",
           "Georgian",
           "kart1248",
           "დარიჩინი <i>daričini</i>",
           "daričini",
           43.78613,
           41.850397,
           "darchin"
          ],
          [
           "dolchin",
           "Northern Uzbek",
           "Turkic",
           "dolchin <i></i>",
           "",
           68.25281178297902,
           41.3625443261589,
           "darchin"
          ],
          [
           "दालचीनी",
           "Hindi",
           "Indo-European",
           "दालचीनी <i>dālcīnī</i>",
           "dālcīnī",
           77,
           25,
           "darchin"
          ],
          [
           "دارسين‎ ",
           "Gulf Arabic",
           "Afro-Asiatic",
           "دارسين‎  <i>dārsīn</i>",
           "dārsīn",
           47.5,
           30.17,
           "darchin"
          ],
          [
           "𑄓𑄣𑄴 𑄌𑄨𑄚𑄨",
           "Chakma",
           "Indo-European",
           "𑄓𑄣𑄴 𑄌𑄨𑄚𑄨 <i>dal chini</i>",
           "dal chini",
           92.339,
           23.00148,
           "darchin"
          ],
          [
           "दालचिनी",
           "Maithili",
           "Indo-European",
           "दालचिनी <i>dalchini</i>",
           "dalchini",
           86.2211,
           26.3817,
           "darchin"
          ]
         ],
         "geo": "geo",
         "hovertemplate": "<b>%{customdata[0]}</b><br><i>%{customdata[4]}</i><br>%{customdata[1]}<br>%{customdata[2]}<br><extra></extra>",
         "hovertext": [
          "దాల్చిని <i>dālcini</i>",
          "дарчин <i>darçin</i>",
          "दालचीनी  <i>dālcīnī</i>",
          "дорчин  <i>dorčin</i>",
          "darçyn <i></i>",
          "դարիճենիկ <i>daričenik</i>",
          "dalasini <i></i>",
          "دارچین <i>darçîn</i>",
          "ଦାଲଚିନି <i>dālcini</i>",
          "دارچین <i>darçın</i>",
          "دارچیني، دال چینی <i> dār-c̱ẖīnī, dāl-c̱ẖīnī</i>",
          "دارچین <i>dârčin</i>",
          "দালচেনি <i>dalseni</i>",
          "দারুচিনি <i>dārucini</i>",
          "ਦਾਲ਼ਚੀਨੀ <i>dāḷcīnī</i>",
          "दारुसिता <i>dārusitā</i>",
          "դարչին <i>darčʿin</i>",
          "दालचिनी, दालचीनि <i>dālacinī, dālacīni</i>",
          "darçın <i></i>",
          "dalchini <i></i>",
          "ದಾಲ್ಚಿನ್ನಿ  <i>dālcinni</i>",
          "ndarathini <i></i>",
          "דַּרְצִינִי <i>darṣīnī</i>",
          "darçîn <i></i>",
          "tarçın <i></i>",
          "ܨܝܢܕܪܓ <i>ṣīndreḡ</i>",
          "دارچینی <i>dārcīnī</i>",
          "دارچىن <i>darchin</i>",
          "даршын  <i>darşın</i>",
          "دالچین <i>dālchīn</i>",
          "ܕܪܨܝܢܝ <i>dārṣīnī</i>",
          "tarçın <i></i>",
          "დარიჩინი <i>daričini</i>",
          "dolchin <i></i>",
          "दालचीनी <i>dālcīnī</i>",
          "دارسين‎  <i>dārsīn</i>",
          "𑄓𑄣𑄴 𑄌𑄨𑄚𑄨 <i>dal chini</i>",
          "दालचिनी <i>dalchini</i>"
         ],
         "lat": [
          16.091402153644633,
          55.79592,
          17.9344,
          38.48419309730684,
          37.08719,
          38.61336515573221,
          -8.25605,
          35.6539,
          21,
          39.87,
          31.9153,
          32.9,
          26.0876,
          24,
          30.0948,
          19.68343010927441,
          39.53548356002938,
          28,
          40.97768,
          24.977,
          13.5878,
          -0.29005,
          32.273,
          37,
          45,
          36.472023980461216,
          25,
          43.88,
          51.17,
          34.166825,
          37.55047976676885,
          39.8667,
          41.850397,
          41.3625443261589,
          25,
          30.17,
          23.00148,
          26.3817
         ],
         "legendgroup": "darchin",
         "lon": [
          78.167721522679,
          49.11577,
          76.6665,
          69.40950396999956,
          59.17574,
          40.70473667019375,
          37.624,
          45.8077,
          85,
          32.87,
          69.4529,
          53.3,
          91.2932,
          90,
          75.3474,
          76.37470854847172,
          45.26590374452336,
          85,
          46.4737,
          91.9998,
          76.1198,
          36.719,
          44.245,
          43,
          34.08,
          41.29063769653315,
          67,
          87.38,
          71.454,
          74.330455,
          41.86235723977504,
          32.8667,
          43.78613,
          68.25281178297902,
          77,
          47.5,
          92.339,
          86.2211
         ],
         "marker": {
          "color": "#73af48",
          "line": {
           "color": "rgba(0,0,0,0)",
           "width": 1
          },
          "opacity": 0.75,
          "size": 12,
          "symbol": "circle"
         },
         "mode": "markers",
         "name": "darchin",
         "showlegend": true,
         "text": [
          "దాల్చిని <i>dālcini</i>",
          "дарчин <i>darçin</i>",
          "दालचीनी  <i>dālcīnī</i>",
          "дорчин  <i>dorčin</i>",
          "darçyn <i></i>",
          "դարիճենիկ <i>daričenik</i>",
          "dalasini <i></i>",
          "دارچین <i>darçîn</i>",
          "ଦାଲଚିନି <i>dālcini</i>",
          "دارچین <i>darçın</i>",
          "دارچیني، دال چینی <i> dār-c̱ẖīnī, dāl-c̱ẖīnī</i>",
          "دارچین <i>dârčin</i>",
          "দালচেনি <i>dalseni</i>",
          "দারুচিনি <i>dārucini</i>",
          "ਦਾਲ਼ਚੀਨੀ <i>dāḷcīnī</i>",
          "दारुसिता <i>dārusitā</i>",
          "դարչին <i>darčʿin</i>",
          "दालचिनी, दालचीनि <i>dālacinī, dālacīni</i>",
          "darçın <i></i>",
          "dalchini <i></i>",
          "ದಾಲ್ಚಿನ್ನಿ  <i>dālcinni</i>",
          "ndarathini <i></i>",
          "דַּרְצִינִי <i>darṣīnī</i>",
          "darçîn <i></i>",
          "tarçın <i></i>",
          "ܨܝܢܕܪܓ <i>ṣīndreḡ</i>",
          "دارچینی <i>dārcīnī</i>",
          "دارچىن <i>darchin</i>",
          "даршын  <i>darşın</i>",
          "دالچین <i>dālchīn</i>",
          "ܕܪܨܝܢܝ <i>dārṣīnī</i>",
          "tarçın <i></i>",
          "დარიჩინი <i>daričini</i>",
          "dolchin <i></i>",
          "दालचीनी <i>dālcīnī</i>",
          "دارسين‎  <i>dārsīn</i>",
          "𑄓𑄣𑄴 𑄌𑄨𑄚𑄨 <i>dal chini</i>",
          "दालचिनी <i>dalchini</i>"
         ],
         "textfont": {
          "color": "#000000",
          "family": "Noto Sans",
          "size": 14
         },
         "textposition": "middle right",
         "type": "scattergeo"
        },
        {
         "customdata": [
          [
           "quế",
           "Vietnamese",
           "Austroasiatic",
           "quế <i></i>",
           "",
           105.774071,
           20.681188,
           "gui"
          ],
          [
           "肉桂",
           "Japanese",
           "Japonic",
           "肉桂 <i>nikkei</i>",
           "nikkei",
           135.63718765550522,
           34.07387590513977,
           "gui"
          ],
          [
           "桂皮",
           "Mandarin Chinese",
           "Sino-Tibetan",
           "桂皮 <i>guìpí</i>",
           "guìpí",
           115.65998206494692,
           41.01470201066356,
           "gui"
          ],
          [
           "肉桂",
           "Mandarin Chinese",
           "Sino-Tibetan",
           "肉桂 <i>ròuguì</i>",
           "ròuguì",
           115.84110704097851,
           39.49146050648597,
           "gui"
          ],
          [
           "계피",
           "Korean",
           "Koreanic",
           "계피 <i>gyepi</i>",
           "gyepi",
           127.9738428163836,
           37.70256665519308,
           "gui"
          ],
          [
           "肉桂",
           "Min Nan Chinese",
           "Sino-Tibetan",
           "肉桂 <i>jio̍k-kuì/lio̍k-kuì　</i>",
           "jio̍k-kuì/lio̍k-kuì　",
           118.17,
           24.5,
           "gui"
          ],
          [
           "肉桂",
           "Cantonese",
           "Sino-Tibetan",
           "肉桂 <i>juk6 gwai3</i>",
           "juk6 gwai3",
           113.2021,
           23.0118,
           "gui"
          ],
          [
           "肉桂",
           "Hakka Chinese",
           "Sino-Tibetan",
           "肉桂 <i>ngiuk-kui</i>",
           "ngiuk-kui",
           116,
           25,
           "gui"
          ]
         ],
         "geo": "geo",
         "hovertemplate": "<b>%{customdata[0]}</b><br><i>%{customdata[4]}</i><br>%{customdata[1]}<br>%{customdata[2]}<br><extra></extra>",
         "hovertext": [
          "quế <i></i>",
          "肉桂 <i>nikkei</i>",
          "桂皮 <i>guìpí</i>",
          "肉桂 <i>ròuguì</i>",
          "계피 <i>gyepi</i>",
          "肉桂 <i>jio̍k-kuì/lio̍k-kuì　</i>",
          "肉桂 <i>juk6 gwai3</i>",
          "肉桂 <i>ngiuk-kui</i>"
         ],
         "lat": [
          20.681188,
          34.07387590513977,
          41.01470201066356,
          39.49146050648597,
          37.70256665519308,
          24.5,
          23.0118,
          25
         ],
         "legendgroup": "gui",
         "lon": [
          105.774071,
          135.63718765550522,
          115.65998206494692,
          115.84110704097851,
          127.9738428163836,
          118.17,
          113.2021,
          116
         ],
         "marker": {
          "color": "#edae08",
          "line": {
           "color": "rgba(0,0,0,0)",
           "width": 1
          },
          "opacity": 0.75,
          "size": 12,
          "symbol": "circle"
         },
         "mode": "markers",
         "name": "gui",
         "showlegend": true,
         "text": [
          "quế <i></i>",
          "肉桂 <i>nikkei</i>",
          "桂皮 <i>guìpí</i>",
          "肉桂 <i>ròuguì</i>",
          "계피 <i>gyepi</i>",
          "肉桂 <i>jio̍k-kuì/lio̍k-kuì　</i>",
          "肉桂 <i>juk6 gwai3</i>",
          "肉桂 <i>ngiuk-kui</i>"
         ],
         "textfont": {
          "color": "#000000",
          "family": "Noto Sans",
          "size": 14
         },
         "textposition": "middle right",
         "type": "scattergeo"
        },
        {
         "customdata": [
          [
           "anoatre dua",
           "Twi",
           "Atlantic-Congo",
           "anoatre dua <i></i>",
           "",
           -1.33,
           6.35,
           "other"
          ],
          [
           "இலவங்கப்பட்டை",
           "Tamil",
           "Dravidian",
           "இலவங்கப்பட்டை <i>ilavaṅkappaṭṭai</i>",
           "ilavaṅkappaṭṭai",
           78.37865348428939,
           11.462600188234056,
           "other"
          ],
          [
           "கருவாப்பட்டை",
           "Tamil",
           "Dravidian",
           "கருவாப்பட்டை <i>karuvāppaṭṭai</i>",
           "karuvāppaṭṭai",
           78.6924663765316,
           10.708111274801066,
           "other"
          ],
          [
           "లవంగపట్ట",
           "Telugu",
           "Dravidian",
           "లవంగపట్ట <i>lavaṅgapaṭṭa</i>",
           "lavaṅgapaṭṭa",
           78.44858656533395,
           17.309169592892427,
           "other"
          ],
          [
           "อบเชย",
           "Thai",
           "Tai-Kadai",
           "อบเชย <i>òp-chəəi</i>",
           "òp-chəəi",
           100.671,
           14.192,
           "other"
          ],
          [
           "ཤིང་ཚ ",
           "Tibetan",
           "Sino-Tibetan",
           "ཤིང་ཚ  <i>shing tsha</i>",
           "shing tsha",
           90.1872,
           28.3681,
           "other"
          ],
          [
           "kalingag",
           "Waray (Philippines)",
           "Austronesian",
           "kalingag <i></i>",
           "",
           125.40127767906968,
           11.980204502141511,
           "other"
          ],
          [
           "kayankong",
           "Waray (Philippines)",
           "Austronesian",
           "kayankong <i></i>",
           "",
           124.94854355415032,
           11.073204189286672,
           "other"
          ],
          [
           "කුරුඳු",
           "Sinhala",
           "Indo-European",
           "කුරුඳු <i>kuruⁿdu</i>",
           "kuruⁿdu",
           81,
           8,
           "other"
          ],
          [
           "ၵႅင်းႁွမ်",
           "Shan",
           "Tai-Kadai",
           "ၵႅင်းႁွမ် <i>kɛŋ4 hɔm1</i>",
           "kɛŋ4 hɔm1",
           98.0342,
           21.5995,
           "other"
          ],
          [
           "ಚೆಕ್ಕೆ",
           "Tulu",
           "Dravidian",
           "ಚೆಕ್ಕೆ <i>chekke</i>",
           "chekke",
           75.2651,
           12.8114,
           "other"
          ],
          [
           "xsangsuru",
           "Lotha Naga",
           "Sino-Tibetan",
           "xsangsuru <i></i>",
           "",
           94.04355,
           26.01396,
           "other"
          ],
          [
           "चोच",
           "Sanskrit",
           "Indo-European",
           "चोच <i>coca</i>",
           "coca",
           76.78475767048738,
           19.022406601342663,
           "other"
          ],
          [
           "kayu manis",
           "Standard Malay",
           "Austronesian",
           "kayu manis <i></i>",
           "",
           101.699,
           3.08896,
           "other"
          ],
          [
           "kadangag",
           "Maguindanao",
           "Austronesian",
           "kadangag <i></i>",
           "",
           124.509,
           6.9453,
           "other"
          ],
          [
           "ފޮނި ތޮށި",
           "Dhivehi",
           "Indo-European",
           "ފޮނި ތޮށި <i>foni toṣi</i>",
           "foni toṣi",
           73.54433,
           1.928498,
           "other"
          ],
          [
           "ອົບເຊີຍ ",
           "Lao",
           "Tai-Kadai",
           "ອົບເຊີຍ  <i>ʼop sœ̄i</i>",
           "ʼop sœ̄i",
           102.72265078834144,
           19.965064103758795,
           "other"
          ],
          [
           "អុបឆឺយ",
           "Central Khmer",
           "Austroasiatic",
           "អុបឆឺយ <i>obchheuy</i>",
           "obchheuy",
           105.015,
           12.0515,
           "other"
          ],
          [
           "anoater dua",
           "Fante",
           "Atlantic-Congo",
           "anoater dua <i></i>",
           "",
           -1.33,
           6.35,
           "other"
          ],
          [
           "ꦏꦪꦸꦩꦤꦶꦱ꧀",
           "Javanese",
           "Austronesian",
           "ꦏꦪꦸꦩꦤꦶꦱ꧀ <i>kayu manis</i>",
           "kayu manis",
           110.15484761921346,
           -6.919949991419978,
           "other"
          ],
          [
           "kayu legi",
           "Javanese",
           "Austronesian",
           "kayu legi <i></i>",
           "",
           109.73395604933218,
           -7.5522275564216175,
           "other"
          ],
          [
           "manisjangan",
           "Standard Indonesian",
           "Austronesian",
           "manisjangan <i></i>",
           "",
           109.86127213356173,
           -7.419845518100397,
           "other"
          ],
          [
           "kayu manis",
           "Standard Indonesian",
           "Austronesian",
           "kayu manis <i></i>",
           "",
           108.96722132155344,
           -6.778115167978306,
           "other"
          ],
          [
           "kulit manis",
           "Standard Indonesian",
           "Austronesian",
           "kulit manis <i></i>",
           "",
           110.18215358909868,
           -7.798050589613321,
           "other"
          ],
          [
           "pawuda",
           "Igbo",
           "Atlantic-Congo",
           "pawuda <i></i>",
           "",
           7.23441,
           4.62705,
           "other"
          ],
          [
           "fahéj",
           "Hungarian",
           "Uralic",
           "fahéj <i></i>",
           "",
           19.6555271429,
           46.9068585714,
           "other"
          ],
          [
           "txuj lom xinamees",
           "Hmong Daw",
           "hmon1336",
           "txuj lom xinamees <i></i>",
           "",
           103.164,
           21.5461,
           "other"
          ],
          [
           "તજ ",
           "Gujarati",
           "Indo-European",
           "તજ  <i>taj</i>",
           "taj",
           71.0962,
           22.687,
           "other"
          ],
          [
           "കറുവ",
           "Malayalam",
           "Dravidian",
           "കറുവ <i>kaṟuva</i>",
           "kaṟuva",
           76.7651,
           9.59208,
           "other"
          ],
          [
           "mtengo",
           "Nyanja",
           "Atlantic-Congo",
           "mtengo <i></i>",
           "",
           32.8108,
           -14.8047,
           "other"
          ],
          [
           "উশিংশা",
           "Manipuri",
           "Sino-Tibetan",
           "উশিংশা <i>ushingsha</i>",
           "ushingsha",
           93.3426,
           24.4409,
           "other"
          ],
          [
           "thakthing",
           "Mizo",
           "Sino-Tibetan",
           "thakthing <i></i>",
           "",
           92.6247,
           22.6138,
           "other"
          ],
          [
           "त्वच",
           "Sanskrit",
           "Indo-European",
           "त्वच <i>tvac</i>",
           "tvac",
           76.54049844619965,
           20.09142961977348,
           "other"
          ],
          [
           "scorțișoară",
           "Romanian",
           "Indo-European",
           "scorțișoară <i></i>",
           "",
           24.2256,
           46.3913,
           "other"
          ],
          [
           "kayu manis",
           "Brunei",
           "Austronesian",
           "kayu manis <i></i>",
           "",
           114.429505,
           4.456045,
           "other"
          ],
          [
           "သစ်ကြံပိုး",
           "Burmese",
           "Sino-Tibetan",
           "သစ်ကြံပိုး <i>sackrampui:</i>",
           "sackrampui:",
           93.9665,
           20.7926,
           "other"
          ],
          [
           "kaningag",
           "Cebuano",
           "Austronesian",
           "kaningag <i></i>",
           "",
           124.367,
           8.38799,
           "other"
          ],
          [
           "tó wónaanídę́ę́ʼ tsin bikáshtʼóózh bitáʼahí bił éʼélʼíní",
           "Navajo",
           "Athabaskan-Eyak-Tlingit",
           "tó wónaanídę́ę́ʼ tsin bikáshtʼóózh bitáʼahí bił éʼélʼíní <i></i>",
           "",
           -109.38,
           36.33,
           "other"
          ],
          [
           "pharongkor",
           "North-Central Tangkhul Naga",
           "Sino-Tibetan",
           "pharongkor <i></i>",
           "",
           94.204722,
           25.156667,
           "other"
          ],
          [
           "maswi, meswi",
           "Balinese",
           "Austronesian",
           "maswi, meswi <i></i>",
           "",
           115.075,
           -8.35714,
           "other"
          ],
          [
           "losani, akusa",
           "Sumi Naga",
           "Sino-Tibetan",
           "losani, akusa <i></i>",
           "",
           94.4235,
           25.9996,
           "other"
          ],
          [
           "pongmo",
           "Konyak Naga",
           "Sino-Tibetan",
           "pongmo <i></i>",
           "",
           95.0598,
           26.6823,
           "other"
          ],
          [
           "chipfweketo, thime",
           "Chokri Naga",
           "Sino-Tibetan",
           "chipfweketo, thime <i></i>",
           "",
           94.2887,
           25.5636,
           "other"
          ],
          [
           "sungshi",
           "Ao Naga",
           "Sino-Tibetan",
           "sungshi <i></i>",
           "",
           94.3824,
           26.3241,
           "other"
          ],
          [
           "seichü",
           "Angami Naga",
           "Sino-Tibetan",
           "seichü <i></i>",
           "",
           93.8668,
           25.6841,
           "other"
          ],
          [
           "шанц",
           "Halh Mongolian",
           "Mongolic-Khitan",
           "шанц <i>šanc (shants)</i>",
           "šanc (shants)",
           106.28874,
           48.32397,
           "other"
          ],
          [
           "ခဍၚ် ရာ1 ",
           "Mon",
           "Austroasiatic",
           "ခဍၚ် ရာ1  <i>hədɛŋ¹ ra</i>",
           "hədɛŋ¹ ra",
           99.02085278509696,
           16.268747188789668,
           "other"
          ],
          [
           "ကွာန်1",
           "Mon",
           "Austroasiatic",
           "ကွာန်1 <i>kəwan</i>",
           "kəwan",
           99.08616743750608,
           16.06574413988141,
           "other"
          ],
          [
           "achansa",
           "Northern Rengma Naga",
           "Sino-Tibetan",
           "achansa <i></i>",
           "",
           94.5683,
           26.4492,
           "other"
          ],
          [
           "ແຄ່",
           "Lao",
           "Tai-Kadai",
           "ແຄ່ <i>khǣ</i>",
           "khǣ",
           101.69783913693082,
           18.52971864746789,
           "other"
          ]
         ],
         "geo": "geo",
         "hovertemplate": "<b>%{customdata[0]}</b><br><i>%{customdata[4]}</i><br>%{customdata[1]}<br>%{customdata[2]}<br><extra></extra>",
         "hovertext": [
          "anoatre dua <i></i>",
          "இலவங்கப்பட்டை <i>ilavaṅkappaṭṭai</i>",
          "கருவாப்பட்டை <i>karuvāppaṭṭai</i>",
          "లవంగపట్ట <i>lavaṅgapaṭṭa</i>",
          "อบเชย <i>òp-chəəi</i>",
          "ཤིང་ཚ  <i>shing tsha</i>",
          "kalingag <i></i>",
          "kayankong <i></i>",
          "කුරුඳු <i>kuruⁿdu</i>",
          "ၵႅင်းႁွမ် <i>kɛŋ4 hɔm1</i>",
          "ಚೆಕ್ಕೆ <i>chekke</i>",
          "xsangsuru <i></i>",
          "चोच <i>coca</i>",
          "kayu manis <i></i>",
          "kadangag <i></i>",
          "ފޮނި ތޮށި <i>foni toṣi</i>",
          "ອົບເຊີຍ  <i>ʼop sœ̄i</i>",
          "អុបឆឺយ <i>obchheuy</i>",
          "anoater dua <i></i>",
          "ꦏꦪꦸꦩꦤꦶꦱ꧀ <i>kayu manis</i>",
          "kayu legi <i></i>",
          "manisjangan <i></i>",
          "kayu manis <i></i>",
          "kulit manis <i></i>",
          "pawuda <i></i>",
          "fahéj <i></i>",
          "txuj lom xinamees <i></i>",
          "તજ  <i>taj</i>",
          "കറുവ <i>kaṟuva</i>",
          "mtengo <i></i>",
          "উশিংশা <i>ushingsha</i>",
          "thakthing <i></i>",
          "त्वच <i>tvac</i>",
          "scorțișoară <i></i>",
          "kayu manis <i></i>",
          "သစ်ကြံပိုး <i>sackrampui:</i>",
          "kaningag <i></i>",
          "tó wónaanídę́ę́ʼ tsin bikáshtʼóózh bitáʼahí bił éʼélʼíní <i></i>",
          "pharongkor <i></i>",
          "maswi, meswi <i></i>",
          "losani, akusa <i></i>",
          "pongmo <i></i>",
          "chipfweketo, thime <i></i>",
          "sungshi <i></i>",
          "seichü <i></i>",
          "шанц <i>šanc (shants)</i>",
          "ခဍၚ် ရာ1  <i>hədɛŋ¹ ra</i>",
          "ကွာန်1 <i>kəwan</i>",
          "achansa <i></i>",
          "ແຄ່ <i>khǣ</i>"
         ],
         "lat": [
          6.35,
          11.462600188234056,
          10.708111274801066,
          17.309169592892427,
          14.192,
          28.3681,
          11.980204502141511,
          11.073204189286672,
          8,
          21.5995,
          12.8114,
          26.01396,
          19.022406601342663,
          3.08896,
          6.9453,
          1.928498,
          19.965064103758795,
          12.0515,
          6.35,
          -6.919949991419978,
          -7.5522275564216175,
          -7.419845518100397,
          -6.778115167978306,
          -7.798050589613321,
          4.62705,
          46.9068585714,
          21.5461,
          22.687,
          9.59208,
          -14.8047,
          24.4409,
          22.6138,
          20.09142961977348,
          46.3913,
          4.456045,
          20.7926,
          8.38799,
          36.33,
          25.156667,
          -8.35714,
          25.9996,
          26.6823,
          25.5636,
          26.3241,
          25.6841,
          48.32397,
          16.268747188789668,
          16.06574413988141,
          26.4492,
          18.52971864746789
         ],
         "legendgroup": "other",
         "lon": [
          -1.33,
          78.37865348428939,
          78.6924663765316,
          78.44858656533395,
          100.671,
          90.1872,
          125.40127767906968,
          124.94854355415032,
          81,
          98.0342,
          75.2651,
          94.04355,
          76.78475767048738,
          101.699,
          124.509,
          73.54433,
          102.72265078834144,
          105.015,
          -1.33,
          110.15484761921346,
          109.73395604933218,
          109.86127213356173,
          108.96722132155344,
          110.18215358909868,
          7.23441,
          19.6555271429,
          103.164,
          71.0962,
          76.7651,
          32.8108,
          93.3426,
          92.6247,
          76.54049844619965,
          24.2256,
          114.429505,
          93.9665,
          124.367,
          -109.38,
          94.204722,
          115.075,
          94.4235,
          95.0598,
          94.2887,
          94.3824,
          93.8668,
          106.28874,
          99.02085278509696,
          99.08616743750608,
          94.5683,
          101.69783913693082
         ],
         "marker": {
          "color": "#808080",
          "line": {
           "color": "rgba(0,0,0,0)",
           "width": 1
          },
          "opacity": 0.75,
          "size": 12,
          "symbol": "circle"
         },
         "mode": "markers",
         "name": "other",
         "showlegend": true,
         "text": [
          "anoatre dua <i></i>",
          "இலவங்கப்பட்டை <i>ilavaṅkappaṭṭai</i>",
          "கருவாப்பட்டை <i>karuvāppaṭṭai</i>",
          "లవంగపట్ట <i>lavaṅgapaṭṭa</i>",
          "อบเชย <i>òp-chəəi</i>",
          "ཤིང་ཚ  <i>shing tsha</i>",
          "kalingag <i></i>",
          "kayankong <i></i>",
          "කුරුඳු <i>kuruⁿdu</i>",
          "ၵႅင်းႁွမ် <i>kɛŋ4 hɔm1</i>",
          "ಚೆಕ್ಕೆ <i>chekke</i>",
          "xsangsuru <i></i>",
          "चोच <i>coca</i>",
          "kayu manis <i></i>",
          "kadangag <i></i>",
          "ފޮނި ތޮށި <i>foni toṣi</i>",
          "ອົບເຊີຍ  <i>ʼop sœ̄i</i>",
          "អុបឆឺយ <i>obchheuy</i>",
          "anoater dua <i></i>",
          "ꦏꦪꦸꦩꦤꦶꦱ꧀ <i>kayu manis</i>",
          "kayu legi <i></i>",
          "manisjangan <i></i>",
          "kayu manis <i></i>",
          "kulit manis <i></i>",
          "pawuda <i></i>",
          "fahéj <i></i>",
          "txuj lom xinamees <i></i>",
          "તજ  <i>taj</i>",
          "കറുവ <i>kaṟuva</i>",
          "mtengo <i></i>",
          "উশিংশা <i>ushingsha</i>",
          "thakthing <i></i>",
          "त्वच <i>tvac</i>",
          "scorțișoară <i></i>",
          "kayu manis <i></i>",
          "သစ်ကြံပိုး <i>sackrampui:</i>",
          "kaningag <i></i>",
          "tó wónaanídę́ę́ʼ tsin bikáshtʼóózh bitáʼahí bił éʼélʼíní <i></i>",
          "pharongkor <i></i>",
          "maswi, meswi <i></i>",
          "losani, akusa <i></i>",
          "pongmo <i></i>",
          "chipfweketo, thime <i></i>",
          "sungshi <i></i>",
          "seichü <i></i>",
          "шанц <i>šanc (shants)</i>",
          "ခဍၚ် ရာ1  <i>hədɛŋ¹ ra</i>",
          "ကွာန်1 <i>kəwan</i>",
          "achansa <i></i>",
          "ແຄ່ <i>khǣ</i>"
         ],
         "textfont": {
          "color": "#000000",
          "family": "Noto Sans",
          "size": 14
         },
         "textposition": "middle right",
         "type": "scattergeo"
        }
       ],
       "layout": {
        "annotations": [
         {
          "font": {
           "color": "#f7f7f7",
           "family": "Noto Sans",
           "size": 8
          },
          "name": "copyright",
          "opacity": 0.9,
          "showarrow": false,
          "text": "© Gábor Parti, 2024",
          "x": 0.5,
          "xref": "paper",
          "y": 0,
          "yref": "paper"
         }
        ],
        "geo": {
         "bgcolor": "rgba(0,0,0,0)",
         "center": {},
         "coastlinecolor": "#777777",
         "coastlinewidth": 1,
         "countrycolor": "#777777",
         "countrywidth": 1,
         "domain": {
          "x": [
           0,
           1
          ],
          "y": [
           0,
           1
          ]
         },
         "framecolor": "#777777",
         "framewidth": 1,
         "lakecolor": "#ffffff",
         "landcolor": "#ffffff",
         "lataxis": {
          "dtick": 10,
          "gridcolor": "#f7f7f7",
          "gridwidth": 0.5,
          "showgrid": true
         },
         "lonaxis": {
          "dtick": 10,
          "gridcolor": "#f7f7f7",
          "gridwidth": 0.5,
          "showgrid": true
         },
         "oceancolor": "#ffffff",
         "projection": {
          "rotation": {
           "lat": 15,
           "lon": 60,
           "roll": 0
          },
          "scale": 1,
          "type": "orthographic"
         },
         "resolution": 110,
         "rivercolor": "#ffffff",
         "riverwidth": 1,
         "scope": "world",
         "showcoastlines": true,
         "showcountries": false,
         "showframe": true,
         "showlakes": true,
         "showland": true,
         "showocean": true,
         "showrivers": true,
         "showsubunits": true,
         "subunitcolor": "#777777",
         "subunitwidth": 0
        },
        "hoverlabel": {
         "font": {
          "family": "Noto Sans",
          "size": 14
         }
        },
        "legend": {
         "bgcolor": "rgba(0,0,0,0.25)",
         "font": {
          "color": "#000000",
          "family": "Noto Sans",
          "size": 14
         },
         "orientation": "v",
         "title": {
          "font": {
           "color": "#000000",
           "family": "Noto Sans",
           "size": 18
          },
          "text": "category"
         },
         "tracegroupgap": 0,
         "traceorder": "normal",
         "x": 0,
         "xanchor": "left",
         "y": 0,
         "yanchor": "bottom"
        },
        "margin": {
         "b": 0,
         "l": 0,
         "r": 0,
         "t": 0
        },
        "paper_bgcolor": "rgba(0,0,0,0)",
        "plot_bgcolor": "rgba(0,0,0,0)",
        "showlegend": true,
        "template": {
         "data": {
          "bar": [
           {
            "error_x": {
             "color": "#2a3f5f"
            },
            "error_y": {
             "color": "#2a3f5f"
            },
            "marker": {
             "line": {
              "color": "#E5ECF6",
              "width": 0.5
             },
             "pattern": {
              "fillmode": "overlay",
              "size": 10,
              "solidity": 0.2
             }
            },
            "type": "bar"
           }
          ],
          "barpolar": [
           {
            "marker": {
             "line": {
              "color": "#E5ECF6",
              "width": 0.5
             },
             "pattern": {
              "fillmode": "overlay",
              "size": 10,
              "solidity": 0.2
             }
            },
            "type": "barpolar"
           }
          ],
          "carpet": [
           {
            "aaxis": {
             "endlinecolor": "#2a3f5f",
             "gridcolor": "white",
             "linecolor": "white",
             "minorgridcolor": "white",
             "startlinecolor": "#2a3f5f"
            },
            "baxis": {
             "endlinecolor": "#2a3f5f",
             "gridcolor": "white",
             "linecolor": "white",
             "minorgridcolor": "white",
             "startlinecolor": "#2a3f5f"
            },
            "type": "carpet"
           }
          ],
          "choropleth": [
           {
            "colorbar": {
             "outlinewidth": 0,
             "ticks": ""
            },
            "type": "choropleth"
           }
          ],
          "contour": [
           {
            "colorbar": {
             "outlinewidth": 0,
             "ticks": ""
            },
            "colorscale": [
             [
              0,
              "#0d0887"
             ],
             [
              0.1111111111111111,
              "#46039f"
             ],
             [
              0.2222222222222222,
              "#7201a8"
             ],
             [
              0.3333333333333333,
              "#9c179e"
             ],
             [
              0.4444444444444444,
              "#bd3786"
             ],
             [
              0.5555555555555556,
              "#d8576b"
             ],
             [
              0.6666666666666666,
              "#ed7953"
             ],
             [
              0.7777777777777778,
              "#fb9f3a"
             ],
             [
              0.8888888888888888,
              "#fdca26"
             ],
             [
              1,
              "#f0f921"
             ]
            ],
            "type": "contour"
           }
          ],
          "contourcarpet": [
           {
            "colorbar": {
             "outlinewidth": 0,
             "ticks": ""
            },
            "type": "contourcarpet"
           }
          ],
          "heatmap": [
           {
            "colorbar": {
             "outlinewidth": 0,
             "ticks": ""
            },
            "colorscale": [
             [
              0,
              "#0d0887"
             ],
             [
              0.1111111111111111,
              "#46039f"
             ],
             [
              0.2222222222222222,
              "#7201a8"
             ],
             [
              0.3333333333333333,
              "#9c179e"
             ],
             [
              0.4444444444444444,
              "#bd3786"
             ],
             [
              0.5555555555555556,
              "#d8576b"
             ],
             [
              0.6666666666666666,
              "#ed7953"
             ],
             [
              0.7777777777777778,
              "#fb9f3a"
             ],
             [
              0.8888888888888888,
              "#fdca26"
             ],
             [
              1,
              "#f0f921"
             ]
            ],
            "type": "heatmap"
           }
          ],
          "heatmapgl": [
           {
            "colorbar": {
             "outlinewidth": 0,
             "ticks": ""
            },
            "colorscale": [
             [
              0,
              "#0d0887"
             ],
             [
              0.1111111111111111,
              "#46039f"
             ],
             [
              0.2222222222222222,
              "#7201a8"
             ],
             [
              0.3333333333333333,
              "#9c179e"
             ],
             [
              0.4444444444444444,
              "#bd3786"
             ],
             [
              0.5555555555555556,
              "#d8576b"
             ],
             [
              0.6666666666666666,
              "#ed7953"
             ],
             [
              0.7777777777777778,
              "#fb9f3a"
             ],
             [
              0.8888888888888888,
              "#fdca26"
             ],
             [
              1,
              "#f0f921"
             ]
            ],
            "type": "heatmapgl"
           }
          ],
          "histogram": [
           {
            "marker": {
             "pattern": {
              "fillmode": "overlay",
              "size": 10,
              "solidity": 0.2
             }
            },
            "type": "histogram"
           }
          ],
          "histogram2d": [
           {
            "colorbar": {
             "outlinewidth": 0,
             "ticks": ""
            },
            "colorscale": [
             [
              0,
              "#0d0887"
             ],
             [
              0.1111111111111111,
              "#46039f"
             ],
             [
              0.2222222222222222,
              "#7201a8"
             ],
             [
              0.3333333333333333,
              "#9c179e"
             ],
             [
              0.4444444444444444,
              "#bd3786"
             ],
             [
              0.5555555555555556,
              "#d8576b"
             ],
             [
              0.6666666666666666,
              "#ed7953"
             ],
             [
              0.7777777777777778,
              "#fb9f3a"
             ],
             [
              0.8888888888888888,
              "#fdca26"
             ],
             [
              1,
              "#f0f921"
             ]
            ],
            "type": "histogram2d"
           }
          ],
          "histogram2dcontour": [
           {
            "colorbar": {
             "outlinewidth": 0,
             "ticks": ""
            },
            "colorscale": [
             [
              0,
              "#0d0887"
             ],
             [
              0.1111111111111111,
              "#46039f"
             ],
             [
              0.2222222222222222,
              "#7201a8"
             ],
             [
              0.3333333333333333,
              "#9c179e"
             ],
             [
              0.4444444444444444,
              "#bd3786"
             ],
             [
              0.5555555555555556,
              "#d8576b"
             ],
             [
              0.6666666666666666,
              "#ed7953"
             ],
             [
              0.7777777777777778,
              "#fb9f3a"
             ],
             [
              0.8888888888888888,
              "#fdca26"
             ],
             [
              1,
              "#f0f921"
             ]
            ],
            "type": "histogram2dcontour"
           }
          ],
          "mesh3d": [
           {
            "colorbar": {
             "outlinewidth": 0,
             "ticks": ""
            },
            "type": "mesh3d"
           }
          ],
          "parcoords": [
           {
            "line": {
             "colorbar": {
              "outlinewidth": 0,
              "ticks": ""
             }
            },
            "type": "parcoords"
           }
          ],
          "pie": [
           {
            "automargin": true,
            "type": "pie"
           }
          ],
          "scatter": [
           {
            "fillpattern": {
             "fillmode": "overlay",
             "size": 10,
             "solidity": 0.2
            },
            "type": "scatter"
           }
          ],
          "scatter3d": [
           {
            "line": {
             "colorbar": {
              "outlinewidth": 0,
              "ticks": ""
             }
            },
            "marker": {
             "colorbar": {
              "outlinewidth": 0,
              "ticks": ""
             }
            },
            "type": "scatter3d"
           }
          ],
          "scattercarpet": [
           {
            "marker": {
             "colorbar": {
              "outlinewidth": 0,
              "ticks": ""
             }
            },
            "type": "scattercarpet"
           }
          ],
          "scattergeo": [
           {
            "marker": {
             "colorbar": {
              "outlinewidth": 0,
              "ticks": ""
             }
            },
            "type": "scattergeo"
           }
          ],
          "scattergl": [
           {
            "marker": {
             "colorbar": {
              "outlinewidth": 0,
              "ticks": ""
             }
            },
            "type": "scattergl"
           }
          ],
          "scattermapbox": [
           {
            "marker": {
             "colorbar": {
              "outlinewidth": 0,
              "ticks": ""
             }
            },
            "type": "scattermapbox"
           }
          ],
          "scatterpolar": [
           {
            "marker": {
             "colorbar": {
              "outlinewidth": 0,
              "ticks": ""
             }
            },
            "type": "scatterpolar"
           }
          ],
          "scatterpolargl": [
           {
            "marker": {
             "colorbar": {
              "outlinewidth": 0,
              "ticks": ""
             }
            },
            "type": "scatterpolargl"
           }
          ],
          "scatterternary": [
           {
            "marker": {
             "colorbar": {
              "outlinewidth": 0,
              "ticks": ""
             }
            },
            "type": "scatterternary"
           }
          ],
          "surface": [
           {
            "colorbar": {
             "outlinewidth": 0,
             "ticks": ""
            },
            "colorscale": [
             [
              0,
              "#0d0887"
             ],
             [
              0.1111111111111111,
              "#46039f"
             ],
             [
              0.2222222222222222,
              "#7201a8"
             ],
             [
              0.3333333333333333,
              "#9c179e"
             ],
             [
              0.4444444444444444,
              "#bd3786"
             ],
             [
              0.5555555555555556,
              "#d8576b"
             ],
             [
              0.6666666666666666,
              "#ed7953"
             ],
             [
              0.7777777777777778,
              "#fb9f3a"
             ],
             [
              0.8888888888888888,
              "#fdca26"
             ],
             [
              1,
              "#f0f921"
             ]
            ],
            "type": "surface"
           }
          ],
          "table": [
           {
            "cells": {
             "fill": {
              "color": "#EBF0F8"
             },
             "line": {
              "color": "white"
             }
            },
            "header": {
             "fill": {
              "color": "#C8D4E3"
             },
             "line": {
              "color": "white"
             }
            },
            "type": "table"
           }
          ]
         },
         "layout": {
          "annotationdefaults": {
           "arrowcolor": "#2a3f5f",
           "arrowhead": 0,
           "arrowwidth": 1
          },
          "autotypenumbers": "strict",
          "coloraxis": {
           "colorbar": {
            "outlinewidth": 0,
            "ticks": ""
           }
          },
          "colorscale": {
           "diverging": [
            [
             0,
             "#8e0152"
            ],
            [
             0.1,
             "#c51b7d"
            ],
            [
             0.2,
             "#de77ae"
            ],
            [
             0.3,
             "#f1b6da"
            ],
            [
             0.4,
             "#fde0ef"
            ],
            [
             0.5,
             "#f7f7f7"
            ],
            [
             0.6,
             "#e6f5d0"
            ],
            [
             0.7,
             "#b8e186"
            ],
            [
             0.8,
             "#7fbc41"
            ],
            [
             0.9,
             "#4d9221"
            ],
            [
             1,
             "#276419"
            ]
           ],
           "sequential": [
            [
             0,
             "#0d0887"
            ],
            [
             0.1111111111111111,
             "#46039f"
            ],
            [
             0.2222222222222222,
             "#7201a8"
            ],
            [
             0.3333333333333333,
             "#9c179e"
            ],
            [
             0.4444444444444444,
             "#bd3786"
            ],
            [
             0.5555555555555556,
             "#d8576b"
            ],
            [
             0.6666666666666666,
             "#ed7953"
            ],
            [
             0.7777777777777778,
             "#fb9f3a"
            ],
            [
             0.8888888888888888,
             "#fdca26"
            ],
            [
             1,
             "#f0f921"
            ]
           ],
           "sequentialminus": [
            [
             0,
             "#0d0887"
            ],
            [
             0.1111111111111111,
             "#46039f"
            ],
            [
             0.2222222222222222,
             "#7201a8"
            ],
            [
             0.3333333333333333,
             "#9c179e"
            ],
            [
             0.4444444444444444,
             "#bd3786"
            ],
            [
             0.5555555555555556,
             "#d8576b"
            ],
            [
             0.6666666666666666,
             "#ed7953"
            ],
            [
             0.7777777777777778,
             "#fb9f3a"
            ],
            [
             0.8888888888888888,
             "#fdca26"
            ],
            [
             1,
             "#f0f921"
            ]
           ]
          },
          "colorway": [
           "#636efa",
           "#EF553B",
           "#00cc96",
           "#ab63fa",
           "#FFA15A",
           "#19d3f3",
           "#FF6692",
           "#B6E880",
           "#FF97FF",
           "#FECB52"
          ],
          "font": {
           "color": "#2a3f5f"
          },
          "geo": {
           "bgcolor": "white",
           "lakecolor": "white",
           "landcolor": "#E5ECF6",
           "showlakes": true,
           "showland": true,
           "subunitcolor": "white"
          },
          "hoverlabel": {
           "align": "left"
          },
          "hovermode": "closest",
          "mapbox": {
           "style": "light"
          },
          "paper_bgcolor": "white",
          "plot_bgcolor": "#E5ECF6",
          "polar": {
           "angularaxis": {
            "gridcolor": "white",
            "linecolor": "white",
            "ticks": ""
           },
           "bgcolor": "#E5ECF6",
           "radialaxis": {
            "gridcolor": "white",
            "linecolor": "white",
            "ticks": ""
           }
          },
          "scene": {
           "xaxis": {
            "backgroundcolor": "#E5ECF6",
            "gridcolor": "white",
            "gridwidth": 2,
            "linecolor": "white",
            "showbackground": true,
            "ticks": "",
            "zerolinecolor": "white"
           },
           "yaxis": {
            "backgroundcolor": "#E5ECF6",
            "gridcolor": "white",
            "gridwidth": 2,
            "linecolor": "white",
            "showbackground": true,
            "ticks": "",
            "zerolinecolor": "white"
           },
           "zaxis": {
            "backgroundcolor": "#E5ECF6",
            "gridcolor": "white",
            "gridwidth": 2,
            "linecolor": "white",
            "showbackground": true,
            "ticks": "",
            "zerolinecolor": "white"
           }
          },
          "shapedefaults": {
           "line": {
            "color": "#2a3f5f"
           }
          },
          "ternary": {
           "aaxis": {
            "gridcolor": "white",
            "linecolor": "white",
            "ticks": ""
           },
           "baxis": {
            "gridcolor": "white",
            "linecolor": "white",
            "ticks": ""
           },
           "bgcolor": "#E5ECF6",
           "caxis": {
            "gridcolor": "white",
            "linecolor": "white",
            "ticks": ""
           }
          },
          "title": {
           "x": 0.05
          },
          "xaxis": {
           "automargin": true,
           "gridcolor": "white",
           "linecolor": "white",
           "ticks": "",
           "title": {
            "standoff": 15
           },
           "zerolinecolor": "white",
           "zerolinewidth": 2
          },
          "yaxis": {
           "automargin": true,
           "gridcolor": "white",
           "linecolor": "white",
           "ticks": "",
           "title": {
            "standoff": 15
           },
           "zerolinecolor": "white",
           "zerolinewidth": 2
          }
         }
        },
        "title": {
         "font": {
          "color": "#000000",
          "family": "Noto Sans",
          "size": 20
         },
         "text": "",
         "x": 0.5,
         "xanchor": "center",
         "y": 0.99,
         "yanchor": "top"
        }
       }
      }
     },
     "metadata": {},
     "output_type": "display_data"
    }
   ],
   "source": [
    "# Document\n",
    "fig = px.scatter_geo(df,\n",
    "    lat='lat', \n",
    "    lon='lon',\n",
    "    text='item',\n",
    "    color='group',\n",
    "    color_discrete_sequence=prism,\n",
    "    opacity = opacity,\n",
    "    hover_name='item',\n",
    "    hover_data={'term':False, 'language':True, 'family':True, 'item':False, 'transliteration':False, 'lon':False, 'lat':False, 'group':False},\n",
    "    labels={\"group\": \"category\"}\n",
    "    )\n",
    "\n",
    "fig.update_traces(mode = \"markers\",\n",
    "                  textposition='middle right',\n",
    "                  textfont={\"color\": font_color, \"size\": font_size, \"family\": font_family},\n",
    "                  marker=dict(symbol=marker_symbol, size=marker_size, opacity=opacity, line=dict(color=edge_color, width=1)),\n",
    "                  hovertemplate=\"<b>%{customdata[0]}</b><br><i>%{customdata[4]}</i><br>%{customdata[1]}<br>%{customdata[2]}<br>\" + \"<extra></extra>\",\n",
    "                  )\n",
    "\n",
    "fig.update_layout(ortho_layout)\n",
    "fig.update_layout(geo=dict(projection_rotation = {'lat': 15, 'lon': 60, 'roll': 0}))\n",
    "# fig.update_layout(document_size)\n",
    "# fig.update_layout(title_text=\"Distribution of words for \" + key + \" in a few languages\")\n",
    "fig.update_layout(annotations = [cr])\n",
    "\n",
    "fig.show()\n",
    "\n",
    "# Write\n",
    "filename = \"distribution_\" + key\n",
    "fig.write_image(path + filename + \".pdf\", engine=\"kaleido\")\n",
    "fig.write_image(path + filename + \".png\", scale=3)\n",
    "fig.write_html(path + filename + \".html\")\n",
    "fig.write_json(path + filename + \".json\", validate=True, pretty=True)"
   ]
  },
  {
   "cell_type": "markdown",
   "metadata": {},
   "source": [
    "# End"
   ]
  },
  {
   "cell_type": "code",
   "execution_count": null,
   "metadata": {},
   "outputs": [],
   "source": []
  }
 ],
 "metadata": {
  "kernelspec": {
   "display_name": "base",
   "language": "python",
   "name": "python3"
  },
  "language_info": {
   "codemirror_mode": {
    "name": "ipython",
    "version": 3
   },
   "file_extension": ".py",
   "mimetype": "text/x-python",
   "name": "python",
   "nbconvert_exporter": "python",
   "pygments_lexer": "ipython3",
   "version": "3.10.11"
  },
  "orig_nbformat": 4,
  "vscode": {
   "interpreter": {
    "hash": "18c4d285bf73f8d33795481156cb8e20c5329867a6af52097d4f49f8abbf9900"
   }
  }
 },
 "nbformat": 4,
 "nbformat_minor": 2
}
