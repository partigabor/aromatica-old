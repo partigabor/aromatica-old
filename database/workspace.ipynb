{
 "cells": [
  {
   "cell_type": "markdown",
   "metadata": {},
   "source": [
    "# Generate Website"
   ]
  },
  {
   "cell_type": "markdown",
   "metadata": {},
   "source": [
    "# Libraries"
   ]
  },
  {
   "cell_type": "code",
   "execution_count": 1,
   "metadata": {},
   "outputs": [],
   "source": [
    "# Import dependencies\n",
    "import pandas as pd\n",
    "import numpy as np\n",
    "import re\n",
    "\n",
    "from collections import defaultdict\n",
    "from datetime import date, datetime, timedelta\n",
    "from py_markdown_table.markdown_table import markdown_table\n",
    "import nltk\n",
    "from nltk.corpus import wordnet as wn\n",
    "# nltk.download(\"wordnet\")\n",
    "# nltk.download(\"omw-1.4\")\n",
    "# nltk.download(\"extended_omw\") # if you want the wiktionary data\n",
    "\n",
    "# pip install babelnet\n",
    "\n",
    "from plotly.io import write_image, write_json\n",
    "import plotly.express as px\n",
    "import plotly.graph_objs as go\n",
    "from palette import *"
   ]
  },
  {
   "cell_type": "markdown",
   "metadata": {},
   "source": [
    "# Paths"
   ]
  },
  {
   "cell_type": "code",
   "execution_count": 2,
   "metadata": {},
   "outputs": [],
   "source": [
    "path_in = \"data/\"\n",
    "path_out_tex = \"output/tex/\"\n",
    "path_out_md = \"output/md/\"\n",
    "path_out_json = \"output/json/\"\n",
    "path_out_html = \"output/html/\"\n",
    "\n",
    "# # Old\n",
    "# path_in = \"data/\"\n",
    "# path_out_html = \"output/html/\"\n",
    "# path_out_json = \"output/json/\"\n",
    "# path_out_md = \"output/md/\"\n",
    "# path_out_pdf = \"output/pdf/\"\n",
    "# path_out_png = \"output/png/\"\n",
    "# path_out_tex = \"output/tex/\"\n",
    "# path_out_draft = \"website/drafts/\"\n",
    "\n",
    "# destination_pdf = \"thesis/imgs/plots/\"\n",
    "# destination_tex = \"thesis/envs/\"\n",
    "# destination_html = \"website/static/plotly/\"\n",
    "# destination_json = \"website/static/plotly/\"\n",
    "\n",
    "website_md = \"../content/materials/\"\n",
    "website_json = \"../static/plotly/\""
   ]
  },
  {
   "cell_type": "markdown",
   "metadata": {},
   "source": [
    "# Functions"
   ]
  },
  {
   "cell_type": "code",
   "execution_count": 3,
   "metadata": {},
   "outputs": [
    {
     "name": "stdout",
     "output_type": "stream",
     "text": [
      "锡兰肉桂 錫蘭肉桂\n",
      "xílánròugùi\n",
      "sek3 laan4 juk6 gwai3\n",
      "vegyesfűszer\n"
     ]
    }
   ],
   "source": [
    "################################################################################\n",
    "# List all files in a folder, including subfolders\n",
    "def list_files(dir):                                                                                                  \n",
    "    r = []                                                                                                            \n",
    "    subdirs = [x[0] for x in os.walk(dir)]                                                                            \n",
    "    for subdir in subdirs:                                                                                            \n",
    "        files = os.walk(subdir).__next__()[2]                                                                             \n",
    "        if (len(files) > 0):                                                                                          \n",
    "            for file in files:                                                                                        \n",
    "                r.append(os.path.join(subdir, file))                                                                         \n",
    "    return r\n",
    "\n",
    "################################################################################\n",
    "# Move or copy files between folders\n",
    "import os, shutil, pathlib, fnmatch\n",
    "\n",
    "def move_dir(src: str, dst: str, pattern: str = '*'):\n",
    "    if not os.path.isdir(dst):\n",
    "        pathlib.Path(dst).mkdir(parents=True, exist_ok=True)\n",
    "    for f in fnmatch.filter(os.listdir(src), pattern):\n",
    "        shutil.move(os.path.join(src, f), os.path.join(dst, f))\n",
    "\n",
    "def copy_dir(src: str, dst: str, pattern: str = '*'):\n",
    "    if not os.path.isdir(dst):\n",
    "        pathlib.Path(dst).mkdir(parents=True, exist_ok=True)\n",
    "    for f in fnmatch.filter(os.listdir(src), pattern):\n",
    "        shutil.copy(os.path.join(src, f), os.path.join(dst, f))\n",
    "\n",
    "################################################################################\n",
    "# Roman numerals from Arabic numerals\n",
    "def roman(num: int) -> str:\n",
    "\n",
    "    chlist = \"VXLCDM\"\n",
    "    rev = [int(ch) for ch in reversed(str(num))]\n",
    "    chlist = [\"I\"] + [chlist[i % len(chlist)] + \"\\u0304\" * (i // len(chlist))\n",
    "                    for i in range(0, len(rev) * 2)]\n",
    "\n",
    "    def period(p: int, ten: str, five: str, one: str) -> str:\n",
    "        if p == 9:\n",
    "            return one + ten\n",
    "        elif p >= 5:\n",
    "            return five + one * (p - 5)\n",
    "        elif p == 4:\n",
    "            return one + five\n",
    "        else:\n",
    "            return one * p\n",
    "\n",
    "    return \"\".join(reversed([period(rev[i], chlist[i * 2 + 2], chlist[i * 2 + 1], chlist[i * 2])\n",
    "                            for i in range(0, len(rev))]))\n",
    "\n",
    "def century(year):\n",
    "    return (year) // 100 + 1 \n",
    "\n",
    "# print(roman(17))\n",
    "\n",
    "################################################################################\n",
    "# Get coordinates for a place\n",
    "from geopy.geocoders import Nominatim\n",
    "geolocator = Nominatim(user_agent=\"MyApp\")\n",
    "\n",
    "def coordinates(place):\n",
    "    location = geolocator.geocode(place)\n",
    "    lat, lon = location.latitude, location.longitude\n",
    "    coord = [lat, lon]\n",
    "    return coord\n",
    "# print(coordinates(\"Hong Kong\"))\n",
    "\n",
    "# Generate geo-coordinates from location in a df\n",
    "def generate_coordinates(df):\n",
    "    for index, row in df.iterrows():\n",
    "        if pd.notna(row['location']):\n",
    "            location = geolocator.geocode(row['location'])\n",
    "            df.at[index, 'lat_gen'] = location.latitude\n",
    "            df.at[index, 'lon_gen'] = location.longitude\n",
    "    return df\n",
    "\n",
    "################################################################################\n",
    "# Convert Chinese Text to Simplified if needed\n",
    "import opencc\n",
    "tcsc = opencc.OpenCC('t2s.json')\n",
    "sctc = opencc.OpenCC('s2t.json')\n",
    "print(tcsc.convert('錫蘭肉桂'), sctc.convert('锡兰肉桂'))\n",
    "\n",
    "# ################################################################################\n",
    "# Transcribe Chinese into pinyin or jyutping\n",
    "import pinyin\n",
    "import jyutping\n",
    "py = pinyin.get('錫蘭肉桂')\n",
    "jp = jyutping.get('錫蘭肉桂')\n",
    "print(py)\n",
    "print(' '.join(jp))\n",
    "\n",
    "# ################################################################################\n",
    "# Wordnets using the Open Multilingual WordNet (https://omwn.org/)\n",
    "wn_langs = ['als', 'arb', 'bul', 'cat', 'cmn', 'dan', 'ell', 'eng', 'eus', 'fin', 'fra', 'glg', 'heb', 'hrv', 'ind', 'isl', 'ita', 'ita_iwn', 'jpn', 'lit', 'nld', 'nno', 'nob', 'pol', 'por', 'slv', 'spa', 'swe', 'tha', 'zsm'] # 100%: cmn, fin, hrv\n",
    "# print(wn.synset('allspice.n.03').definition())\n",
    "# print(wn.synsets('allspice', pos='n'))\n",
    "# print(wn.synset('allspice.n.03').lemma_names('ita'))\n",
    "\n",
    "def wn_define(df):\n",
    "    for index, row in df.iterrows():\n",
    "        if pd.notna(row['wn']):\n",
    "            wn_definition = wn.synset(row['wn']).definition()\n",
    "            df.at[index, f\"wn_def\"] = wn_definition\n",
    "    return df\n",
    "\n",
    "def wn_translate(df, lan):\n",
    "    for index, row in df.iterrows():\n",
    "        if pd.notna(row['wn']):\n",
    "            translated_list = wn.synset(row['wn']).lemma_names(lan)\n",
    "            df.at[index, f\"wn_{lan}\"] = str(translated_list)\n",
    "    return df\n",
    "\n",
    "################################################################################\n",
    "# Translate with DeepL, use any translator you like, in this example GoogleTranslator\n",
    "# ChatGptTranslator, MicrosoftTranslator, DeeplTranslator; need API\n",
    "from deep_translator import GoogleTranslator as dl\n",
    "translated = dl(source='en', target='hu').translate(\"allspice\") # api_key=openai\n",
    "print(translated)\n",
    "\n",
    "def translate(df, lg):\n",
    "    for index, row in df.iterrows():\n",
    "        if pd.notna(row['en']):\n",
    "            translated = dl(source='en', target=lg).translate(row['en'])\n",
    "            df.at[index, f\"{lg}_gen\"] = translated\n",
    "    return df\n",
    "\n",
    "################################################################################\n",
    "# Hex to RGBA\n",
    "from PIL import ImageColor as ic\n",
    "def hex_to_rgba(hex):\n",
    "    rgb = str(ic.getrgb(hex))\n",
    "    rgba = re.sub('\\)', ', 1.0)', rgb)\n",
    "    return rgba\n",
    "\n",
    "# hex_to_rgba(nord0)\n",
    "\n",
    "# ################################################################################\n",
    "# # Convert PDFs\n",
    "# from pdf2image import convert_from_path\n",
    "\n",
    "# def convert_pdf_to_png(file):\n",
    "#     name = str(file)\n",
    "#     name = re.sub(\".*(?=/)\", \"\", name)\n",
    "#     name = re.sub(\"\\..*\", \"\", name)\n",
    "#     pages = convert_from_path(file, 0)\n",
    "#     for page in pages:\n",
    "#         page.save(path + name + \".png\", 'PNG')\n",
    "\n",
    "################################################################################\n",
    "\n",
    "# Regex cheatsheet\n",
    "\n",
    "# (?!) - negative lookahead\n",
    "# (?=) - positive lookahead\n",
    "# (?<=) - positive lookbehind\n",
    "# (?<!) - negative lookbehind\n",
    "\n",
    "# (?>) - atomic group\n"
   ]
  },
  {
   "cell_type": "code",
   "execution_count": 4,
   "metadata": {},
   "outputs": [],
   "source": [
    "# import requests\n",
    " \n",
    "# def fetch_wikidata(params):\n",
    "#     url = 'https://www.wikidata.org/w/api.php'\n",
    "#     try:\n",
    "#         return requests.get(url, params=params)\n",
    "#     except:\n",
    "#         return 'There was and error'\n",
    "\n",
    "\n",
    "# # What text to search for\n",
    "# query = 'Elettaria cardamomum'\n",
    " \n",
    "# # Which parameters to use\n",
    "# params = {\n",
    "#         'action': 'wbsearchentities',\n",
    "#         'format': 'json',\n",
    "#         'search': query,\n",
    "#         'language': 'en'\n",
    "#     }\n",
    " \n",
    "# # Fetch API\n",
    "# data = fetch_wikidata(params)\n",
    " \n",
    "# #show response as JSON\n",
    "# data = data.json()\n",
    "# data"
   ]
  },
  {
   "cell_type": "code",
   "execution_count": 5,
   "metadata": {},
   "outputs": [],
   "source": [
    "# Start timer\n",
    "start_time = datetime.now()"
   ]
  },
  {
   "cell_type": "markdown",
   "metadata": {},
   "source": [
    "# Data"
   ]
  },
  {
   "cell_type": "markdown",
   "metadata": {},
   "source": [
    "## Spices"
   ]
  },
  {
   "cell_type": "code",
   "execution_count": 6,
   "metadata": {},
   "outputs": [
    {
     "name": "stdout",
     "output_type": "stream",
     "text": [
      "24 spices in total.\n",
      " ['Sichuan pepper', 'allspice', 'anise', 'asafoetida', 'caraway', 'cardamom', 'cassia', 'chile', 'cinnamon', 'clove', 'coriander', 'cumin', 'dill seeds', 'fennel seeds', 'fenugreek', 'ginger', 'long pepper', 'mace', 'nutmeg', 'pepper', 'saffron', 'star anise', 'turmeric', 'vanilla']\n"
     ]
    },
    {
     "data": {
      "text/html": [
       "<div>\n",
       "<style scoped>\n",
       "    .dataframe tbody tr th:only-of-type {\n",
       "        vertical-align: middle;\n",
       "    }\n",
       "\n",
       "    .dataframe tbody tr th {\n",
       "        vertical-align: top;\n",
       "    }\n",
       "\n",
       "    .dataframe thead th {\n",
       "        text-align: right;\n",
       "    }\n",
       "</style>\n",
       "<table border=\"1\" class=\"dataframe\">\n",
       "  <thead>\n",
       "    <tr style=\"text-align: right;\">\n",
       "      <th></th>\n",
       "      <th>include</th>\n",
       "      <th>key</th>\n",
       "      <th>1</th>\n",
       "      <th>2</th>\n",
       "      <th>3</th>\n",
       "      <th>4</th>\n",
       "      <th>5</th>\n",
       "      <th>6</th>\n",
       "      <th>group</th>\n",
       "      <th>id</th>\n",
       "      <th>...</th>\n",
       "      <th>EOL</th>\n",
       "      <th>FOC</th>\n",
       "      <th>Hindi</th>\n",
       "      <th>Hi translit</th>\n",
       "      <th>Hi literal</th>\n",
       "      <th>Hi alt</th>\n",
       "      <th>Indonesian</th>\n",
       "      <th>Malay</th>\n",
       "      <th>Persian</th>\n",
       "      <th>url</th>\n",
       "    </tr>\n",
       "  </thead>\n",
       "  <tbody>\n",
       "    <tr>\n",
       "      <th>0</th>\n",
       "      <td>in</td>\n",
       "      <td>S0001</td>\n",
       "      <td>M</td>\n",
       "      <td>P</td>\n",
       "      <td>D</td>\n",
       "      <td>NaN</td>\n",
       "      <td>1.0</td>\n",
       "      <td>1.0</td>\n",
       "      <td>NaN</td>\n",
       "      <td>allspice</td>\n",
       "      <td>...</td>\n",
       "      <td>NaN</td>\n",
       "      <td>NaN</td>\n",
       "      <td>गंधद्रव्य?</td>\n",
       "      <td>gandhadravya?</td>\n",
       "      <td>NaN</td>\n",
       "      <td>NaN</td>\n",
       "      <td>NaN</td>\n",
       "      <td>NaN</td>\n",
       "      <td>NaN</td>\n",
       "      <td>https://partigabor.github.io/aromatica/materia...</td>\n",
       "    </tr>\n",
       "    <tr>\n",
       "      <th>1</th>\n",
       "      <td>in</td>\n",
       "      <td>S0002</td>\n",
       "      <td>A</td>\n",
       "      <td>P</td>\n",
       "      <td>A</td>\n",
       "      <td>NaN</td>\n",
       "      <td>1.0</td>\n",
       "      <td>1.0</td>\n",
       "      <td>NaN</td>\n",
       "      <td>anise</td>\n",
       "      <td>...</td>\n",
       "      <td>NaN</td>\n",
       "      <td>NaN</td>\n",
       "      <td>मोटी सौंफ़</td>\n",
       "      <td>moti saunf</td>\n",
       "      <td>fat fennel</td>\n",
       "      <td>NaN</td>\n",
       "      <td>adas manis</td>\n",
       "      <td>NaN</td>\n",
       "      <td>بادیان رومی، انیسون</td>\n",
       "      <td>https://partigabor.github.io/aromatica/materia...</td>\n",
       "    </tr>\n",
       "    <tr>\n",
       "      <th>2</th>\n",
       "      <td>in</td>\n",
       "      <td>S0003</td>\n",
       "      <td>A</td>\n",
       "      <td>F</td>\n",
       "      <td>F</td>\n",
       "      <td>NaN</td>\n",
       "      <td>1.0</td>\n",
       "      <td>1.0</td>\n",
       "      <td>NaN</td>\n",
       "      <td>asafoetida</td>\n",
       "      <td>...</td>\n",
       "      <td>NaN</td>\n",
       "      <td>NaN</td>\n",
       "      <td>हींग</td>\n",
       "      <td>hīng</td>\n",
       "      <td>NaN</td>\n",
       "      <td>NaN</td>\n",
       "      <td>NaN</td>\n",
       "      <td>NaN</td>\n",
       "      <td>NaN</td>\n",
       "      <td>https://partigabor.github.io/aromatica/materia...</td>\n",
       "    </tr>\n",
       "    <tr>\n",
       "      <th>3</th>\n",
       "      <td>in</td>\n",
       "      <td>S0004</td>\n",
       "      <td>A</td>\n",
       "      <td>C</td>\n",
       "      <td>C</td>\n",
       "      <td>NaN</td>\n",
       "      <td>1.0</td>\n",
       "      <td>1.0</td>\n",
       "      <td>NaN</td>\n",
       "      <td>caraway</td>\n",
       "      <td>...</td>\n",
       "      <td>NaN</td>\n",
       "      <td>NaN</td>\n",
       "      <td>NaN</td>\n",
       "      <td>NaN</td>\n",
       "      <td>NaN</td>\n",
       "      <td>NaN</td>\n",
       "      <td>NaN</td>\n",
       "      <td>jintan</td>\n",
       "      <td>NaN</td>\n",
       "      <td>https://partigabor.github.io/aromatica/materia...</td>\n",
       "    </tr>\n",
       "    <tr>\n",
       "      <th>4</th>\n",
       "      <td>in</td>\n",
       "      <td>S0005</td>\n",
       "      <td>Z</td>\n",
       "      <td>E</td>\n",
       "      <td>C</td>\n",
       "      <td>NaN</td>\n",
       "      <td>1.0</td>\n",
       "      <td>1.0</td>\n",
       "      <td>cardamoms</td>\n",
       "      <td>cardamom</td>\n",
       "      <td>...</td>\n",
       "      <td>https://eol.org/pages/1120064</td>\n",
       "      <td>NaN</td>\n",
       "      <td>NaN</td>\n",
       "      <td>NaN</td>\n",
       "      <td>NaN</td>\n",
       "      <td>NaN</td>\n",
       "      <td>NaN</td>\n",
       "      <td>NaN</td>\n",
       "      <td>NaN</td>\n",
       "      <td>https://partigabor.github.io/aromatica/materia...</td>\n",
       "    </tr>\n",
       "  </tbody>\n",
       "</table>\n",
       "<p>5 rows × 126 columns</p>\n",
       "</div>"
      ],
      "text/plain": [
       "  include    key  1  2  3    4    5    6      group          id  ...  \\\n",
       "0      in  S0001  M  P  D  NaN  1.0  1.0        NaN    allspice  ...   \n",
       "1      in  S0002  A  P  A  NaN  1.0  1.0        NaN       anise  ...   \n",
       "2      in  S0003  A  F  F  NaN  1.0  1.0        NaN  asafoetida  ...   \n",
       "3      in  S0004  A  C  C  NaN  1.0  1.0        NaN     caraway  ...   \n",
       "4      in  S0005  Z  E  C  NaN  1.0  1.0  cardamoms    cardamom  ...   \n",
       "\n",
       "                             EOL  FOC       Hindi    Hi translit  Hi literal  \\\n",
       "0                            NaN  NaN  गंधद्रव्य?  gandhadravya?         NaN   \n",
       "1                            NaN  NaN   मोटी सौंफ़     moti saunf  fat fennel   \n",
       "2                            NaN  NaN        हींग           hīng         NaN   \n",
       "3                            NaN  NaN         NaN            NaN         NaN   \n",
       "4  https://eol.org/pages/1120064  NaN         NaN            NaN         NaN   \n",
       "\n",
       "  Hi alt   Indonesian   Malay              Persian  \\\n",
       "0     NaN         NaN     NaN                  NaN   \n",
       "1     NaN  adas manis     NaN  بادیان رومی، انیسون   \n",
       "2     NaN         NaN     NaN                  NaN   \n",
       "3     NaN         NaN  jintan                  NaN   \n",
       "4     NaN         NaN     NaN                  NaN   \n",
       "\n",
       "                                                 url  \n",
       "0  https://partigabor.github.io/aromatica/materia...  \n",
       "1  https://partigabor.github.io/aromatica/materia...  \n",
       "2  https://partigabor.github.io/aromatica/materia...  \n",
       "3  https://partigabor.github.io/aromatica/materia...  \n",
       "4  https://partigabor.github.io/aromatica/materia...  \n",
       "\n",
       "[5 rows x 126 columns]"
      ]
     },
     "execution_count": 6,
     "metadata": {},
     "output_type": "execute_result"
    }
   ],
   "source": [
    "# Read and store content of an excel file \n",
    "df = pd.read_excel(path_in+\"spices.xlsx\")\n",
    "\n",
    "# Write the dataframe object into csv file\n",
    "df.to_csv (path_in+\"spices.csv\", index = None, header=True)\n",
    "\n",
    "# Load in dataset of spices as a dataframe\n",
    "df = pd.read_csv(path_in+'spices.csv', header=[0], delimiter=',', encoding=\"utf-8\")\n",
    "\n",
    "# Select ones to include\n",
    "df = df.loc[(df['include'] == \"in\")]\n",
    "\n",
    "# Info\n",
    "list_of_spices = df['id'].tolist()\n",
    "list_of_spices.sort()\n",
    "print(len(list_of_spices), \"spices in total.\\n\", list_of_spices)\n",
    "\n",
    "# Add links\n",
    "df['url'] = \"https://partigabor.github.io/aromatica/materials/\" + df['id'].str.replace(\" \", \"_\")\n",
    "\n",
    "# Add counts of regions\n",
    "df['no. of native regions'] = df['native regions'].str.count(',') + 1\n",
    "df['no. of introduced regions'] = df['introduced regions'].str.count(',') + 1\n",
    "\n",
    "\n",
    "\n",
    "\n",
    "# Generate geo-coordinates from location\n",
    "# generate_coordinates(df)\n",
    "\n",
    "# Get a definition from wordnet\n",
    "# wn_define(df)\n",
    "\n",
    "# Translate the names to other languages using OMWN\n",
    "# wn_translate(df, 'fra')\n",
    "\n",
    "# Machine ranslate the names to other languages # https://developers.google.com/admin-sdk/directory/v1/languages\n",
    "# translate(df, 'hi')\n",
    "\n",
    "# Assign\n",
    "df_spices = df.copy()\n",
    "df.head()"
   ]
  },
  {
   "cell_type": "markdown",
   "metadata": {},
   "source": [
    "## Names"
   ]
  },
  {
   "cell_type": "code",
   "execution_count": 7,
   "metadata": {},
   "outputs": [],
   "source": [
    "# Read and store content of an excel file \n",
    "df = pd.read_excel(path_in+\"names.xlsx\")\n",
    "\n",
    "# Write the dataframe object into csv file\n",
    "df.to_csv (path_in+\"names.csv\", index = None, header=True)\n",
    "\n",
    "# Load in dataset of names\n",
    "df = pd.read_csv(path_in+'names.csv', header =[0], delimiter=',', encoding=\"utf-8\")\n",
    "\n",
    "# Select ones to include\n",
    "df = df.loc[df['include'] == 'yes'] # include ones to include\n"
   ]
  },
  {
   "cell_type": "code",
   "execution_count": 8,
   "metadata": {},
   "outputs": [
    {
     "name": "stdout",
     "output_type": "stream",
     "text": [
      "360 names in total.\n"
     ]
    }
   ],
   "source": [
    "\n",
    "# Change NaN to empty string\n",
    "df.fillna('', inplace=True)\n",
    "\n",
    "# Info\n",
    "print(df.shape[0], \"names in total.\")\n",
    "\n",
    "# Assign\n",
    "df_names = df.copy()\n"
   ]
  },
  {
   "cell_type": "markdown",
   "metadata": {},
   "source": [
    "## Etymologies"
   ]
  },
  {
   "cell_type": "code",
   "execution_count": 9,
   "metadata": {},
   "outputs": [
    {
     "name": "stdout",
     "output_type": "stream",
     "text": [
      "84 words in total\n",
      "['tester', 'allspice', 'fulful ifranji', 'duoxiangguo', 'pimento', 'anise', 'anisun', 'huiqin', 'asafoetida', 'hing', 'hiltit', 'anjudan', 'awei', 'xingqu', 'caraway', 'karawiya', 'geluzi', 'cardamom', 'amomum', 'hal', 'qaqulla', 'doukou', 'cassia', 'salikha', 'rougui', 'cinnamon', 'darsini', 'qirfa', 'chile', 'fulful harr', 'lajiao', 'paprika', 'clove', 'qaranful', 'dingxiang', 'coriander', 'kuzbura', 'yansui', 'husui', 'cumin', 'kammun', 'ziran', 'dill', 'shibitt', 'shiluo', 'fennel', 'shamar', 'huixiang', 'fenugreek', 'hulba', 'huluba', 'ginger', 'zanjabil', 'jiang', 'long pepper', 'darfilfil', 'biba', 'mace', 'basbas', 'roudoukoupi', 'nutmeg', 'jawz al-tib', 'roudoukou', 'pepper', 'fulful', 'hujiao', 'bors', 'saffron', 'zafaran', 'fanhonghua', 'Sichuan pepper', 'fagara', 'fulful sitshuwan', 'huajiao', 'star anise', 'yansun najmi', 'bajiaohuixiang', 'badian', 'turmeric', 'kurkum', 'jianghuang', 'vanilla', 'faniliya', 'xiangcao']\n"
     ]
    }
   ],
   "source": [
    "# Read and store content of an excel file \n",
    "read_file = pd.read_excel(path_in+\"etymologies.xlsx\")\n",
    "\n",
    "# Write the dataframe object into csv file\n",
    "read_file.to_csv (path_in+\"etymologies.csv\", index = None, header=True)\n",
    "\n",
    "# Load in dataset\n",
    "df_etymologies=pd.read_csv(path_in+'etymologies.csv', header =[0], delimiter=',', encoding=\"utf-8\")\n",
    "\n",
    "# Split the dataset wherever an empty row is found\n",
    "df_list_with_na = np.split(df_etymologies, df_etymologies[df_etymologies.isnull().all(1)].index)\n",
    "\n",
    "# Drop NAs and reset the index\n",
    "df_list = []\n",
    "for df in df_list_with_na:\n",
    "  df = df.dropna(how='all')\n",
    "  df.reset_index(inplace=True, drop=True)\n",
    "  df_list.append(df)\n",
    "\n",
    "# Automatically extract IDs from the dataset\n",
    "list_of_etymologies = []\n",
    "for df in df_list:\n",
    "  # print(df['id'].iloc[0])\n",
    "  df = df.dropna(how='all')\n",
    "  df.reset_index(drop=True)\n",
    "  id = str(df['id'].iloc[0])\n",
    "  list_of_etymologies.append(id)\n",
    "\n",
    "# Print the number if IDs and what are they\n",
    "length = len(df_list)\n",
    "print(length, \"words in total\")\n",
    "print(list_of_etymologies)\n",
    "\n",
    "\n",
    "#Create a defaultdict of spice-word etymologies\n",
    "etymologies=defaultdict(list)\n",
    "for i in range(length):\n",
    "  etymologies[list_of_etymologies[i]]=df_list[i]\n",
    "\n",
    "# Testing\n",
    "# print(etymologies['saffron'])\n"
   ]
  },
  {
   "cell_type": "markdown",
   "metadata": {},
   "source": [
    "## Etymology box for LaTeX"
   ]
  },
  {
   "cell_type": "code",
   "execution_count": 10,
   "metadata": {},
   "outputs": [],
   "source": [
    "# key = \"tester\"\n",
    "\n",
    "# ################################################################################\n",
    "\n",
    "# # The following code will create an etymology box environment for the key, to be used in LaTeX\n",
    "# print(\"Started the generation of '\" + key + \"' as etymbox...\")\n",
    "\n",
    "# df_local = etymologies[key]\n",
    "# # df_local.fillna('', inplace=True)\n",
    "\n",
    "# # # Skipping those marked\n",
    "# df_local = df_local[df_local['boxskip'] != 'yes']\n",
    "# df_local.reset_index(inplace=True, drop=True)\n",
    "\n",
    "# # # Replace empty cells with NaNs\n",
    "# # df_local.replace(r'^\\s*$', np.nan, regex=True, inplace=True)\n",
    "# # df_local.replace(r'^nan$', np.nan, regex=True, inplace=True)\n",
    "\n",
    "# # Create content and sources stage by stage\n",
    "# content = \"\"\n",
    "# source = \"\"\n",
    "# sources = \"\"\n",
    "# source_list = []\n",
    "# nl = \"\\n\"\n",
    "\n",
    "# for index, row in df_local.iterrows():\n",
    "#   stage = \"< \"\n",
    "#   if pd.notna(row['complex']): # complex relationships\n",
    "#     row['complex'] = re.sub(\"and from\", \"+\", row['complex'])\n",
    "#     stage += row['complex'] + \" \"\n",
    "#   if pd.notna(row['language']): # language\n",
    "#     stage += \"\\\\textbf{\" + row['language'] + \"} \"\n",
    "#   if pd.notna(row['script']): # script\n",
    "#     script = \"{\" + row['script'] + \"} \"\n",
    "#     if row['language'] == 'Chinese':\n",
    "#       script = \"\\\\tc{\" + row['script'] + \"} \"\n",
    "#     stage += script\n",
    "#   if pd.notna(row['term']): # term\n",
    "#     stage += \"\\\\textit{\" + row['term'] + \"} \"\n",
    "#   if pd.notna(row['IPA']): # IPA\n",
    "#     stage += row['IPA'] + \" \"\n",
    "#   if pd.notna(row['meaning']): # meaning\n",
    "#     stage += \"`\" + row['meaning'] + \"' \"\n",
    "#   if pd.notna(row['literal']): # literal meaning\n",
    "#     stage += \"[\" + row['literal'] + \"] \"\n",
    "#   stage = re.sub(' $', '', stage)\n",
    "#   stage += \", \"\n",
    "#   if pd.notna(row['explanation']): # explanation\n",
    "#     stage += row['explanation'] + \" \"\n",
    "#   if pd.notna(row['remark']): # remark\n",
    "#     stage += \"(\" + row['remark'] + \") \"\n",
    "#   stage = re.sub(',? ?$', '', stage)\n",
    "\n",
    "#   if pd.notna(row['date']): # dates\n",
    "#     stage += \", \"\n",
    "#     row['date'] = re.sub('a(?=\\d)', 'a. ', row['date'])\n",
    "#     row['date'] = re.sub('c(?=\\d)', 'ca. ', row['date'])\n",
    "#     if re.match('^-\\d\\d?$', row['date']): # if is a century BC\n",
    "#       row['date'] = re.sub(\"-\", \"\", row['date'])\n",
    "#       date = \"\\\\nth{\" + row['date'] + \"} c. \\BC{}\" # ARAB NUMERALS\n",
    "#       # date = \" \" + roman(row['date']) + \" \\BC{}\" # ROMAN NUMERALS\n",
    "#     elif re.match('^\\d\\d?$', row['date']): # if is a century AD\n",
    "#       date = \"\\\\nth{\" + row['date'] + \"} c. \\AD{}\" # ARAB NUMERALS\n",
    "#       # date = \" \" + roman(row['date']) + \" \\AD{}\" # ROMAN NUMERALS\n",
    "#     else:\n",
    "#       date = row['date'] + \" \" # if it's a year\n",
    "#     stage += date\n",
    "#     stage = re.sub(',? ?$', '', stage)\n",
    "#   if pd.notna(row['cognates']): # cognates\n",
    "#     stage += \"; cf. cognates \" + row['cognates'] + \" \"\n",
    "#   if pd.notna(row['derivates']): # cognates\n",
    "#     if pd.notna(row['cognates']):\n",
    "#       stage = re.sub(' $', '', stage)\n",
    "#       stage += \"; \" + row['derivates'] + \" \"\n",
    "#     else:\n",
    "#       stage = re.sub(' $', '', stage)\n",
    "#       stage += \"; cf. \" + row['derivates'] + \" \"\n",
    "#   stage = re.sub(',? ?$', '', stage)\n",
    "#   # stage = re.sub('cf\\..*?(cf\\.)', '', stage)\n",
    "\n",
    "# # Final touches\n",
    "#   if row['doubt'] == 'yes':\n",
    "#     stage = re.sub(r'<', '<\\\\\\\\textss{?}', stage) # ???\n",
    "#   if row['complex'] == '+':\n",
    "#     stage = re.sub('<', '', stage)\n",
    "#   if row['complex'] == 'or from':\n",
    "#     stage = re.sub('<', '', stage)\n",
    "#   content += stage + nl\n",
    "\n",
    "# # Sources\n",
    "#   source=\"\"\n",
    "#   if pd.notna(row['source zotero']):\n",
    "#     source = row['source zotero']\n",
    "#     print(\"1\",source)\n",
    "#     if '{' in source:\n",
    "#       source = \"s\" + row['source zotero'].lower()\n",
    "#       print(source)\n",
    "#     else:\n",
    "#       source = \"{\" + row['source zotero'].lower() + \"}\"\n",
    "#       print(source)\n",
    "#     if pd.notna(row['source page']):\n",
    "#       source = \"[\" + str(row['source page']) + \"]{\" + row['source zotero'].lower() + \"}\"\n",
    "#       print(\"4\",source)\n",
    "#       if row['source page'].isalpha() == True:\n",
    "#         source = \"[s.v. \" + str(row['source page']) + \"]{\" + row['source zotero'].lower() + \"}\"\n",
    "#         print(\"5\",source)\n",
    "#     source = \"\\\\textcite\" + source\n",
    "#   print(source)\n",
    "#   source_list.append(source)\n",
    "\n",
    "# # clear duplicates from sources:\n",
    "# print(\"SL1: \", source_list)\n",
    "# # source_set = sorted(set(source_list), key=source_list.index)\n",
    "# source_set = set(source_list)\n",
    "# print(\"SS2: \", source_set)\n",
    "# source_list2 = list(source_set)\n",
    "# print(\"S3: \", source_list2)\n",
    "# sources_unduplicated = '; '.join(source_list2)\n",
    "# print(\"S4: \", sources_unduplicated)\n",
    "# # test for duplicates\n",
    "# newlist = [] # empty list to hold unique elements from the list\n",
    "# duplist = [] # empty list to hold the duplicate elements from the list\n",
    "# for i in source_list:\n",
    "#     if i not in newlist:\n",
    "#         newlist.append(i)\n",
    "#     else:\n",
    "#         duplist.append(i) # this method catches the first duplicate entries, and appends them to the list\n",
    "\n",
    "# # The next stage is to print the duplicate entries, and the unique entries\n",
    "# print(\"List of duplicates\", duplist)\n",
    "# print(\"Unique Item List\", newlist) \n",
    "# if len(duplist) > 0:\n",
    "#   # print(\"UNDUPL\")\n",
    "#   sources = sources_unduplicated\n",
    "# else:\n",
    "#   # print(\"ORI\")\n",
    "#   sources =  '; '.join(source_list)\n",
    "# # print(\"S5: \", sources)\n",
    "\n",
    "# sources =  '; '.join(source_list)\n",
    "\n",
    "# # Cleaning\n",
    "# sources = re.sub(\"; $\", \"\", sources)\n",
    "# sources = re.sub(\"^; \", \"\", sources)\n",
    "# sources = re.sub(\"(; )+\", \"; \", sources)\n",
    "# sources = \"\\\\footnote{\" + sources + \"}\\n\"\n",
    "\n",
    "# content = re.sub(\"\\n$\", \"\", content)\n",
    "# content = re.sub(r\"^< \", \"\", content) # delete the first <\n",
    "# content = re.sub(r\"\\n,\", \",\", content)\n",
    "# content = re.sub(r\" nan \", \" \", content)\n",
    "# content = re.sub(\"(<\\.\\n?)+$\", \"\", content)\n",
    "\n",
    "# content += sources\n",
    "\n",
    "# env_begin = r\"\\begin{etymology}\" + \"\\label{ety:\" + df_local['id'].iloc[0] + \"}\" + nl \n",
    "# env_end = r\"\\end{etymology}\"\n",
    "\n",
    "# box = env_begin + content + env_end\n",
    "# box = re.sub(r\"\\u200e\", \"\", box) #removes right to left mark\n",
    "\n",
    "# # Save the spicebox as a standalone tex file\n",
    "\n",
    "# filename = re.sub(\" \", \"_\", key)\n",
    "# filename = filename.lower()\n",
    "# f = open(path_out_tex + \"{}.tex\".format(\"etymbox_\" + filename), \"w\", encoding='utf-8')\n",
    "# f.write(box)\n",
    "# f.close()\n",
    "# print(\"Etymology-box '\" + str(key) + \"' as a tex file was created.\")\n",
    "# box\n"
   ]
  },
  {
   "cell_type": "code",
   "execution_count": 11,
   "metadata": {},
   "outputs": [],
   "source": [
    "# def etymbox(key):\n",
    "  \n",
    "#   # The following code will create a etymology box environment for the key, to be used in LaTeX\n",
    "#   print(\"Started the generation of '\" + key + \"' as etymbox...\")\n",
    "\n",
    "#   df_local = etymologies[key]\n",
    "#   # df_local.fillna('', inplace=True)\n",
    "\n",
    "#   # # Skipping those marked\n",
    "#   df_local = df_local[df_local['boxskip'] != 'yes']\n",
    "#   df_local.reset_index(inplace=True, drop=True)\n",
    "\n",
    "#   # # Replace empty cells with NaNs\n",
    "#   # df_local.replace(r'^\\s*$', np.nan, regex=True, inplace=True)\n",
    "#   # df_local.replace(r'^nan$', np.nan, regex=True, inplace=True)\n",
    "\n",
    "#   # Create content and sources stage by stage\n",
    "#   content = \"\"\n",
    "#   source = \"\"\n",
    "#   sources = \"\"\n",
    "#   source_list = []\n",
    "#   nl = \"\\n\"\n",
    "\n",
    "#   for index, row in df_local.iterrows():\n",
    "#     stage = \"< \"\n",
    "#     if pd.notna(row['complex']): # complex relationships\n",
    "#       row['complex'] = re.sub(\"and from\", \"+\", row['complex'])\n",
    "#       stage += row['complex'] + \" \"\n",
    "#     if pd.notna(row['language']): # language\n",
    "#       stage += \"\\\\textbf{\" + row['language'] + \"} \"\n",
    "#     if pd.notna(row['script']): # script\n",
    "#       script = \"{\" + row['script'] + \"} \"\n",
    "#       if row['language'] == 'Chinese':\n",
    "#         script = \"\\\\tc{\" + row['script'] + \"} \"\n",
    "#       stage += script\n",
    "#     if pd.notna(row['term']): # term\n",
    "#       stage += \"\\\\textit{\" + row['term'] + \"} \"\n",
    "#     if pd.notna(row['IPA']): # IPA\n",
    "#       stage += row['IPA'] + \" \"\n",
    "#     if pd.notna(row['meaning']): # meaning\n",
    "#       stage += \"`\" + row['meaning'] + \"' \"\n",
    "#     if pd.notna(row['literal']): # literal meaning\n",
    "#       stage += \"[\" + row['literal'] + \"] \"\n",
    "#     stage = re.sub(' $', '', stage)\n",
    "#     stage += \", \"\n",
    "#     if pd.notna(row['explanation']): # explanation\n",
    "#       stage += row['explanation'] + \" \"\n",
    "#     if pd.notna(row['remark']): # remark\n",
    "#       stage += \"(\" + row['remark'] + \") \"\n",
    "#     stage = re.sub(',? ?$', '', stage)\n",
    "\n",
    "#     if pd.notna(row['date']): # dates\n",
    "#       stage += \", \"\n",
    "#       row['date'] = re.sub('a(?=\\d)', 'a. ', row['date'])\n",
    "#       row['date'] = re.sub('c(?=\\d)', 'ca. ', row['date'])\n",
    "#       if re.match('^-\\d\\d?$', row['date']): # if is a century BC\n",
    "#         row['date'] = re.sub(\"-\", \"\", row['date'])\n",
    "#         date = \"\\\\nth{\" + row['date'] + \"} c. \\BC{}\" # ARAB NUMERALS\n",
    "#         # date = \" \" + roman(row['date']) + \" \\BC{}\" # ROMAN NUMERALS\n",
    "#       elif re.match('^\\d\\d?$', row['date']): # if is a century AD\n",
    "#         date = \"\\\\nth{\" + row['date'] + \"} c. \\AD{}\" # ARAB NUMERALS\n",
    "#         # date = \" \" + roman(row['date']) + \" \\AD{}\" # ROMAN NUMERALS\n",
    "#       else:\n",
    "#         date = row['date'] + \" \" # if it's a year\n",
    "#       stage += date\n",
    "#       stage = re.sub(',? ?$', '', stage)\n",
    "#     if pd.notna(row['cognates']): # cognates\n",
    "#       stage += \"; cf. cognates \" + row['cognates'] + \" \"\n",
    "#     if pd.notna(row['derivates']): # cognates\n",
    "#       if pd.notna(row['cognates']):\n",
    "#         stage = re.sub(' $', '', stage)\n",
    "#         stage += \"; \" + row['derivates'] + \" \"\n",
    "#       else:\n",
    "#         stage = re.sub(' $', '', stage)\n",
    "#         stage += \"; cf. \" + row['derivates'] + \" \"\n",
    "#     stage = re.sub(',? ?$', '', stage)\n",
    "#     # stage = re.sub('cf\\..*?(cf\\.)', '', stage)\n",
    "\n",
    "#   # Final touches\n",
    "#     if row['doubt'] == 'yes':\n",
    "#       stage = re.sub(r'<', '<\\\\\\\\textss{?}', stage) # ???\n",
    "#     if row['complex'] == '+':\n",
    "#       stage = re.sub('<', '', stage)\n",
    "#     if row['complex'] == 'or from':\n",
    "#       stage = re.sub('<', '', stage)\n",
    "#     content += stage + nl\n",
    "\n",
    "#   # Sources\n",
    "#     source=\"\"\n",
    "#     if pd.notna(row['source zotero']):\n",
    "#       source = row['source zotero']\n",
    "#       # print(source)\n",
    "#       if '{' in source:\n",
    "#         source = \"s\" + row['source zotero'].lower()\n",
    "#         # print(source)\n",
    "#       else:\n",
    "#         source = \"{\" + row['source zotero'].lower() + \"}\"\n",
    "#         # print(source)\n",
    "#       if pd.notna(row['source page']):\n",
    "#         source = \"[\" + str(row['source page']) + \"]{\" + row['source zotero'].lower() + \"}\"\n",
    "#         # print(source)\n",
    "#         if row['source page'].isalpha() == True:\n",
    "#           source = \"[s.v. \" + str(row['source page']) + \"]{\" + row['source zotero'].lower() + \"}\"\n",
    "#           # print(source)\n",
    "#       source = \"\\\\textcite\" + source\n",
    "#     # print(source)\n",
    "#     source_list.append(source)\n",
    "\n",
    "#   # clear duplicates from sources:\n",
    "#   # print(\"SL1: \", source_list)\n",
    "#   # source_set = sorted(set(source_list), key=source_list.index)\n",
    "#   source_set = set(source_list)\n",
    "#   # print(\"SS2: \", source_set)\n",
    "#   source_list2 = list(source_set)\n",
    "#   # print(\"S3: \", source_list2)\n",
    "#   sources_unduplicated = '; '.join(source_list2)\n",
    "#   # print(\"S4: \", sources_unduplicated)\n",
    "#   # test for duplicates\n",
    "#   newlist = [] # empty list to hold unique elements from the list\n",
    "#   duplist = [] # empty list to hold the duplicate elements from the list\n",
    "#   for i in source_list:\n",
    "#       if i not in newlist:\n",
    "#           newlist.append(i)\n",
    "#       else:\n",
    "#           duplist.append(i) # this method catches the first duplicate entries, and appends them to the list\n",
    "#   # The next stage is to print the duplicate entries, and the unique entries\n",
    "#   # print(\"List of duplicates\", duplist)\n",
    "#   # print(\"Unique Item List\", newlist) \n",
    "#   if len(duplist) > 0:\n",
    "#     # print(\"UNDUPL\")\n",
    "#     sources = sources_unduplicated\n",
    "#   else:\n",
    "#     # print(\"ORI\")\n",
    "#     sources =  '; '.join(source_list)\n",
    "#   # print(\"S5: \", sources)\n",
    "\n",
    "#   sources =  '; '.join(source_list)\n",
    "\n",
    "#   # Cleaning\n",
    "#   sources = re.sub(\"; $\", \"\", sources)\n",
    "#   sources = re.sub(\"^; \", \"\", sources)\n",
    "#   sources = re.sub(\"(; )+\", \"; \", sources)\n",
    "#   sources = \"\\\\footnote{\" + sources + \"}\\n\"\n",
    "\n",
    "#   content = re.sub(\"\\n$\", \"\", content)\n",
    "#   content = re.sub(r\"^< \", \"\", content) # delete the first <\n",
    "#   content = re.sub(r\"\\n,\", \",\", content)\n",
    "#   content = re.sub(r\" nan \", \" \", content)\n",
    "#   content = re.sub(\"(<\\.\\n?)+$\", \"\", content)\n",
    "\n",
    "#   content += sources\n",
    "\n",
    "#   env_begin = r\"\\begin{etymology}\" + \"\\label{ety:\" + df_local['id'].iloc[0] + \"}\" + nl \n",
    "#   env_end = r\"\\end{etymology}\"\n",
    "\n",
    "#   box = env_begin + content + env_end\n",
    "#   box = re.sub(r\"\\u200e\", \"\", box) #removes right to left mark\n",
    "\n",
    "#   # Save the spicebox as a standalone tex file\n",
    "#   filename = re.sub(\" \", \"_\", key)\n",
    "#   filename = filename.lower()\n",
    "#   f = open(path_out_tex + \"{}.tex\".format(\"etymbox_\" + filename), \"w\", encoding='utf-8')  \n",
    "#   f.write(box)\n",
    "#   f.close()\n",
    "#   print(\"Etymology-box '\" + str(key) + \"' as a tex file was created.\")\n",
    "\n",
    "#   return box\n",
    "\n",
    "# etymbox(\"tester\")"
   ]
  },
  {
   "cell_type": "markdown",
   "metadata": {},
   "source": [
    "## Etymology box for Markdown"
   ]
  },
  {
   "cell_type": "code",
   "execution_count": 12,
   "metadata": {},
   "outputs": [
    {
     "name": "stdout",
     "output_type": "stream",
     "text": [
      "Started the generation of 'tester' as etymbox...\n"
     ]
    },
    {
     "data": {
      "text/plain": [
       "'**Language A** тест *test* /tɛst/ \\'meaning1\\' [literal1], explanation1 (remark1); cf. cognates cognates1; derivates derivates1\\n< **Language B** тестер *tester* /ˈtɛstə/ \\'meaning2\\' [literal2], explanation2, AD 12 c.; cf. cognates cognates2\\n< **Language C** тестинг *testing* /ˈtɛstɪŋ/ \\'meaning3\\' [literal3] (remark3), 9 c. BC; cf. derivates derivates3\\n< **Language D** тесте *teste* /ˈaltə/ \\'meaning4\\' [literal4], explanation4 (remark4); cf. cognates cognates4; derivates derivates4\\n {{< cite \"oed;wehr_dictionary_1976;wehr_dictionary_1976;liddell_greekenglish_1940;wehr_dictionary_1976;lewis_latin_1879;liddell_greekenglish_1940\" \"1;2-3;4;5;6;;7\" >}}'"
      ]
     },
     "execution_count": 12,
     "metadata": {},
     "output_type": "execute_result"
    }
   ],
   "source": [
    "def etymbox(key):\n",
    "\n",
    "  # The following code will create a etymology box environment for the key, to be used in Markdown\n",
    "  print(\"Started the generation of '\" + key + \"' as etymbox...\")\n",
    "\n",
    "  # Select word\n",
    "  df_local = etymologies[key]\n",
    "  # df_local.fillna('', inplace=True)\n",
    "\n",
    "  # Skipping those marked\n",
    "  df_local = df_local[df_local['skip'] != 'yes']\n",
    "  df_local.reset_index(inplace=True, drop=True)\n",
    "\n",
    "  # # Replace empty cells with NaNs\n",
    "  # df_local.replace(r'^\\s*$', np.nan, regex=True, inplace=True)\n",
    "  # df_local.replace(r'^nan$', np.nan, regex=True, inplace=True)\n",
    "\n",
    "  # Initialize\n",
    "  content = \"\"\n",
    "  sources = \"\"\n",
    "  source_pages = \"\"\n",
    "\n",
    "  # Iterate through a word's etymology dataframe (stage by stage = row by row)\n",
    "  for index, row in df_local.iterrows():\n",
    "    # Initialize stage, add an '<' if its not the first stage\n",
    "    if index == 0:\n",
    "      stage = \"\"\n",
    "    else:\n",
    "      stage = \"< \"\n",
    "    # If there are complex relations, add them (e.g., partly, and, or)\n",
    "    if pd.notna(row['complex']):\n",
    "      stage += row['complex'] + \" \"\n",
    "    # Add language (in bold)\n",
    "    if pd.notna(row['language']):\n",
    "      stage += \"**\" + row['language'] + \"** \"\n",
    "    # Add the term with native script (if exists)\n",
    "    if pd.notna(row['script']):\n",
    "      stage += row['script'] + \" \"\n",
    "    # Add the term with transcription (in italics)\n",
    "    if pd.notna(row['term']):\n",
    "      stage += \"*\" + row['term'] + \"* \"\n",
    "    # Add /IPA/\n",
    "    if pd.notna(row['IPA']):\n",
    "      stage += \"/\" + row['IPA'] + \"/ \"\n",
    "    # Add 'meaning', gloss\n",
    "    if pd.notna(row['meaning']):\n",
    "      stage += \"'\" + row['meaning'] + \"' \"\n",
    "    # Add the [literal meaning] if there is one\n",
    "    if pd.notna(row['literal']):\n",
    "      stage += \"[\" + row['literal'] + \"] \"\n",
    "    # Clear ending\n",
    "    stage = re.sub(' $', '', stage)\n",
    "    # Add explanation\n",
    "    if pd.notna(row['explanation']):\n",
    "      stage += \", \" + row['explanation'] + \" \"\n",
    "    # Add (remark)\n",
    "    if pd.notna(row['remark']):\n",
    "      stage += \" (\" + row['remark'] + \") \"\n",
    "    # Clear ending\n",
    "    stage = re.sub(\" +\", \" \", stage)\n",
    "    stage = re.sub(\",? ?$\", \"\", stage)\n",
    "\n",
    "    # Add date, if there is a date\n",
    "    if pd.notna(row['date']):\n",
    "      # If it's a year\n",
    "      date = row['date']\n",
    "\n",
    "    # Add century if there is no date\n",
    "    if pd.notna(row['century']) and pd.isna(row['date']):\n",
    "      \n",
    "      # If it's a century BC\n",
    "      if re.match('^-\\d\\d?\\??$', row['century']):\n",
    "        # Remove dash\n",
    "        row['century'] = re.sub(\"-\", \"\", row['century'])\n",
    "        # If there is question mark\n",
    "        if re.match('\\d\\?', row['century']):\n",
    "          # Remove the question mark\n",
    "          row['century'] = re.sub(\"\\?\", \"\", row['century'])\n",
    "          # Date BC\n",
    "          # date = roman(int(row['century'])) + \" BC?\" # ROMAN NUMERALS\n",
    "          date = row['century'] + \" c. BC?\" # ARAB NUMERALS\n",
    "        else:\n",
    "          # date = roman(int(row['century'])) + \" BC\" # ROMAN NUMERALS\n",
    "          date = row['century'] + \" c. BC\" # ARAB NUMERALS\n",
    "\n",
    "      # If it is a century AD\n",
    "      elif re.match('^\\d\\d?\\??$', row['century']):\n",
    "        # If there is question mark\n",
    "        if re.match('\\d\\?', row['century']):\n",
    "          # Remove the question mark\n",
    "          row['century'] = re.sub(\"\\?\", \"\", row['century'])\n",
    "          # Date AD\n",
    "          # date = \"AD \" + roman(int(row['century'])) + \"?\" # ROMAN NUMERALS\n",
    "          date = \"AD \" + row['century'] + \" c.\" # ARAB NUMERALS\n",
    "        else:\n",
    "          # date = \"AD \" + roman(int(row['century'])) # ROMAN NUMERALS\n",
    "          date = \"AD \" + row['century'] + \" c.\" # ARAB NUMERALS\n",
    "\n",
    "      # Add date to stage\n",
    "      stage += \", \" + date\n",
    "      \n",
    "    # Clear ending\n",
    "    stage = re.sub(',? ?$', '', stage)\n",
    "\n",
    "    # If both cognates and derivates\n",
    "    if pd.notna(row['cognates']) and pd.notna(row['derivates']):\n",
    "      stage += \"; cf. cognates \" + row['cognates'] + \"; derivates \" + row['derivates'] + \" \"\n",
    "    # If cognates only\n",
    "    if pd.notna(row['cognates']) and pd.isna(row['derivates']):\n",
    "      stage += \"; cf. cognates \" + row['cognates'] + \" \"\n",
    "    # If derivates only\n",
    "    if pd.notna(row['derivates']) and pd.isna(row['cognates']):\n",
    "      stage += \"; cf. derivates \" + row['derivates'] + \" \"\n",
    "    \n",
    "    # Clear ending\n",
    "    stage = re.sub(';?,? ?$', '', stage)\n",
    "\n",
    "    # If stage is doubtful, use '<?'\n",
    "    if row['doubt'] == 'yes':\n",
    "      stage = re.sub('<', '<\\?', stage)\n",
    "    # If stage is \"complex\", remove '<'\n",
    "    if pd.notna(row['complex']):\n",
    "      stage = re.sub('<', '', stage)\n",
    "\n",
    "    # # Sources (at each stage) A\n",
    "    # source = \"\"\n",
    "    # # If there is source (zotero), add\n",
    "    # if pd.notna(row['source']):\n",
    "    #   source = '\\\"' + row['source'] + '\\\"'\n",
    "    #   # If there is page, add\n",
    "    #   if pd.notna(row['source page']):\n",
    "    #     source = '\\\"' + str(row['source'].lower()) + '\\\" \\\"' + str(row['source page']) + '\\\"'\n",
    "    # # Add the Hugo shortcode syntax \n",
    "    # source = r' {{< cite ' + source + r' >}}'\n",
    "    # # Create content\n",
    "    # content += stage + source + \"\\n\"\n",
    "\n",
    "    # Sources (once in the end, removing duplicates) B\n",
    "    # If there is source (zotero), add\n",
    "    if pd.notna(row['source']):\n",
    "      sources += row['source'] + \";\"\n",
    "      # If there is page, add\n",
    "      if pd.notna(row['source page']):\n",
    "        source_pages += str(row['source page']) + \";\"\n",
    "      else:\n",
    "        source_pages += \";\"\n",
    "    # Create content\n",
    "    content += stage + \"\\n\"\n",
    "\n",
    "  # If using version B of sources\n",
    "  # Clean ending\n",
    "  sources = re.sub(';?$', '', sources)\n",
    "  source_pages = re.sub(';?$', '', source_pages)\n",
    "  # Add the Hugo-cite shortcode syntax \n",
    "  source = r' {{< cite \"' + sources + r'\" \"' + source_pages + r'\" >}}'\n",
    "  # Add source to content\n",
    "  content += source\n",
    "\n",
    "\n",
    "\n",
    "  # Cleaning\n",
    "  box = content\n",
    "  box = re.sub(r\"\\u200e\", \"\", box) # Removes right-to-left mark\n",
    "\n",
    "  # # Save the spicebox as a standalone markdown file (if ever needed)\n",
    "  # filename = re.sub(\" \", \"_\", key)\n",
    "  # filename = filename.lower()\n",
    "  # f = open(path_out_md + \"{}.md\".format(\"etymbox_\" + filename), \"w\", encoding='utf-8')  \n",
    "  # f.write(box)\n",
    "  # f.close()\n",
    "  # print(\"Etymology-box '\" + str(key) + \"' as a md file was created.\")\n",
    "\n",
    "  return box\n",
    "\n",
    "etymbox(\"tester\")"
   ]
  },
  {
   "cell_type": "code",
   "execution_count": 13,
   "metadata": {},
   "outputs": [
    {
     "name": "stdout",
     "output_type": "stream",
     "text": [
      "Started the generation of 'tester' as etymbox...\n",
      "Started the generation of 'allspice' as etymbox...\n",
      "Started the generation of 'fulful ifranji' as etymbox...\n",
      "Started the generation of 'duoxiangguo' as etymbox...\n",
      "Started the generation of 'pimento' as etymbox...\n",
      "Started the generation of 'anise' as etymbox...\n",
      "Started the generation of 'anisun' as etymbox...\n",
      "Started the generation of 'huiqin' as etymbox...\n",
      "Started the generation of 'asafoetida' as etymbox...\n",
      "Started the generation of 'hing' as etymbox...\n",
      "Started the generation of 'hiltit' as etymbox...\n",
      "Started the generation of 'anjudan' as etymbox...\n",
      "Started the generation of 'awei' as etymbox...\n",
      "Started the generation of 'xingqu' as etymbox...\n",
      "Started the generation of 'caraway' as etymbox...\n",
      "Started the generation of 'karawiya' as etymbox...\n",
      "Started the generation of 'geluzi' as etymbox...\n",
      "Started the generation of 'cardamom' as etymbox...\n",
      "Started the generation of 'amomum' as etymbox...\n",
      "Started the generation of 'hal' as etymbox...\n",
      "Started the generation of 'qaqulla' as etymbox...\n",
      "Started the generation of 'doukou' as etymbox...\n",
      "Started the generation of 'cassia' as etymbox...\n",
      "Started the generation of 'salikha' as etymbox...\n",
      "Started the generation of 'rougui' as etymbox...\n",
      "Started the generation of 'cinnamon' as etymbox...\n",
      "Started the generation of 'darsini' as etymbox...\n",
      "Started the generation of 'qirfa' as etymbox...\n",
      "Started the generation of 'chile' as etymbox...\n",
      "Started the generation of 'fulful harr' as etymbox...\n",
      "Started the generation of 'lajiao' as etymbox...\n",
      "Started the generation of 'paprika' as etymbox...\n",
      "Started the generation of 'clove' as etymbox...\n",
      "Started the generation of 'qaranful' as etymbox...\n",
      "Started the generation of 'dingxiang' as etymbox...\n",
      "Started the generation of 'coriander' as etymbox...\n",
      "Started the generation of 'kuzbura' as etymbox...\n",
      "Started the generation of 'yansui' as etymbox...\n",
      "Started the generation of 'husui' as etymbox...\n",
      "Started the generation of 'cumin' as etymbox...\n",
      "Started the generation of 'kammun' as etymbox...\n",
      "Started the generation of 'ziran' as etymbox...\n",
      "Started the generation of 'dill' as etymbox...\n",
      "Started the generation of 'shibitt' as etymbox...\n",
      "Started the generation of 'shiluo' as etymbox...\n",
      "Started the generation of 'fennel' as etymbox...\n",
      "Started the generation of 'shamar' as etymbox...\n",
      "Started the generation of 'huixiang' as etymbox...\n",
      "Started the generation of 'fenugreek' as etymbox...\n",
      "Started the generation of 'hulba' as etymbox...\n",
      "Started the generation of 'huluba' as etymbox...\n",
      "Started the generation of 'ginger' as etymbox...\n",
      "Started the generation of 'zanjabil' as etymbox...\n",
      "Started the generation of 'jiang' as etymbox...\n",
      "Started the generation of 'long pepper' as etymbox...\n",
      "Started the generation of 'darfilfil' as etymbox...\n",
      "Started the generation of 'biba' as etymbox...\n",
      "Started the generation of 'mace' as etymbox...\n",
      "Started the generation of 'basbas' as etymbox...\n",
      "Started the generation of 'roudoukoupi' as etymbox...\n",
      "Started the generation of 'nutmeg' as etymbox...\n",
      "Started the generation of 'jawz al-tib' as etymbox...\n",
      "Started the generation of 'roudoukou' as etymbox...\n",
      "Started the generation of 'pepper' as etymbox...\n",
      "Started the generation of 'fulful' as etymbox...\n",
      "Started the generation of 'hujiao' as etymbox...\n",
      "Started the generation of 'bors' as etymbox...\n",
      "Started the generation of 'saffron' as etymbox...\n",
      "Started the generation of 'zafaran' as etymbox...\n",
      "Started the generation of 'fanhonghua' as etymbox...\n",
      "Started the generation of 'Sichuan pepper' as etymbox...\n",
      "Started the generation of 'fagara' as etymbox...\n",
      "Started the generation of 'fulful sitshuwan' as etymbox...\n",
      "Started the generation of 'huajiao' as etymbox...\n",
      "Started the generation of 'star anise' as etymbox...\n",
      "Started the generation of 'yansun najmi' as etymbox...\n",
      "Started the generation of 'bajiaohuixiang' as etymbox...\n",
      "Started the generation of 'badian' as etymbox...\n",
      "Started the generation of 'turmeric' as etymbox...\n",
      "Started the generation of 'kurkum' as etymbox...\n",
      "Started the generation of 'jianghuang' as etymbox...\n",
      "Started the generation of 'vanilla' as etymbox...\n",
      "Started the generation of 'faniliya' as etymbox...\n",
      "Started the generation of 'xiangcao' as etymbox...\n",
      "Done.\n"
     ]
    }
   ],
   "source": [
    "# Creating a dictionary of etymologies\n",
    "dictionary_of_etymologies = {}\n",
    "# Loop\n",
    "for key in list_of_etymologies:\n",
    "    box = (etymbox(key))\n",
    "    # box = r'{{% notice style=\"primary\" title=\"Pirates\" icon=\"skull-crossbones\" %}}' + \"\\n\" + text + \"\\n\" + r\"{{% /notice %}}\" + \"\\n\\n\"\n",
    "    dictionary_update = {key: box}\n",
    "    dictionary_of_etymologies.update(dictionary_update)\n",
    "print('Done.')\n"
   ]
  },
  {
   "cell_type": "code",
   "execution_count": 14,
   "metadata": {},
   "outputs": [
    {
     "data": {
      "text/plain": [
       "'**English** *allspice*, from *all* + *spice*; after the flavor profile that resembles the combined aroma of cloves, nutmeg, cinnamon, and black pepper\\n {{< cite \"oed\" \"allspice\" >}}'"
      ]
     },
     "execution_count": 14,
     "metadata": {},
     "output_type": "execute_result"
    }
   ],
   "source": [
    "# Check\n",
    "dictionary_of_etymologies['allspice']"
   ]
  },
  {
   "cell_type": "markdown",
   "metadata": {},
   "source": [
    "# Website Generation"
   ]
  },
  {
   "cell_type": "markdown",
   "metadata": {},
   "source": [
    "## Create a Spice Page"
   ]
  },
  {
   "cell_type": "code",
   "execution_count": 15,
   "metadata": {},
   "outputs": [],
   "source": [
    "def spicepage(key):\n",
    "    '''\n",
    "    This cell generates website pages from the spice datasets and writes them out to a markdown file.\n",
    "    '''\n",
    "\n",
    "    pd.options.mode.copy_on_write = True # to avoid SettingWithCopyWarning, https://stackoverflow.com/questions/20625582/how-to-deal-with-settingwithcopywarning-in-pandas\n",
    "    \n",
    "    # Dataframe of current item\n",
    "    print(\"Working on\", key)\n",
    "    df_local = df_spices.loc[df_spices['id'] == key]\n",
    "\n",
    "    # Reset index\n",
    "    df_local.reset_index(drop=True, inplace=True)\n",
    "\n",
    "    ###########################################################################\n",
    "    # The Spice ###############################################################\n",
    "    ###########################################################################\n",
    "    \n",
    "    # Create description\n",
    "    description = df_local['description'][0].capitalize()\n",
    "\n",
    "    # Create \"related\"\n",
    "    if pd.notna(df_local['related'].iloc[0]):\n",
    "        related = \", related to \" + str(df_local['related'].iloc[0])\n",
    "    else:\n",
    "        related = \"\"\n",
    "\n",
    "    # Create \"also known as...\"\n",
    "    if pd.notna(df_local['en alt'].iloc[0]):\n",
    "        aka = \", also known as \" + str(df_local['en alt'].iloc[0])\n",
    "    else:\n",
    "        aka = \"\"\n",
    "\n",
    "    description = description + aka + related + \".\"\n",
    "\n",
    "    # Extract categories\n",
    "    category = df_local['category'][0]\n",
    "    if \";\" in df_local['category'][0]:\n",
    "        category_list = category.split(\"; \")\n",
    "    else:\n",
    "        category_list = \"['\" + category + \"']\"\n",
    "\n",
    "    # Extract tags\n",
    "    tag = df_local['tag'][0]\n",
    "    if \";\" in df_local['tag'][0]:\n",
    "        tag_list = tag.split(\";\")\n",
    "    else:\n",
    "        tag_list = \"['\" + tag + \"']\"\n",
    "\n",
    "    # Preamble (US timezone can make pages not appear in \"future timezones\")\n",
    "    preamble = '+++\\ntitle = \"' + key.title() + '\"\\nauthor = \"Gabor Parti\"\\ndate = \"' + str(date.today()) + '\"\\ndescription = \"' + description + '\"\\nweight = 10\\n# draft = \"true\"\\n# hidden = \"true\"\\n# plotly = true\\ncategories = ' + str(category_list)  + \"\\ntags = \" + str(tag_list) + '\\nbibFile = \"static/files/bibliography.json\"\\n+++\\n\\n'\n",
    "\n",
    "    # Illustration\n",
    "    illustration_source = 'Illustration of *' + df_local['species'][0] + '* ' + df_local['species by'][0] + \" from \" + df_local['ill source'][0] + \", \" + str(df_local['ill page'][0]) + \".\"\n",
    "\n",
    "    illustration = r'![' + 'Illustration of *' + df_local['species'][0] + '* ' + df_local['species by'][0] + '](/images/illustrations/' + re.sub(\" \", \"_\", key) + '.png?width=25vw \"' + illustration_source + '\")' + '\\n'\n",
    "\n",
    "    illustration = illustration + \"\\n>\" + illustration_source + \"\\n\\n\"\n",
    "\n",
    "    # Overview \n",
    "    overview_head = \"## Overview\\n\\n\"\n",
    "    # Merge species name\n",
    "    df_local['species name'] = \"*\" + df_local['species'] + \"* \" + df_local['species by']\n",
    "    # Set link\n",
    "    df_local['botanical database'] = \"[POWO](\" + df_local['powo'] + \")\"\n",
    "    # Prepare overview tables\n",
    "    df_overview = df_local[['species name', 'family', 'part used', 'macroarea', 'region of origin', 'cultivation', 'color', 'botanical database']]\n",
    "    # Transpose table\n",
    "    df_overview = df_overview.T\n",
    "    # Reset index\n",
    "    df_overview.reset_index(inplace=True)\n",
    "    # Rename columns\n",
    "    df_overview.columns = ['id', key]\n",
    "    # Prepare data to create markdown table\n",
    "    data = df_overview.to_dict(orient='records')\n",
    "    # Create markdown table\n",
    "    overview_mdt = markdown_table(data).set_params(row_sep = 'markdown', quote = False).get_markdown()\n",
    "    # Table\n",
    "    overview = overview_head + overview_mdt + \"\\n\\n\"\n",
    "\n",
    "    # Intro\n",
    "    category = re.sub('; ', ' and ', category)\n",
    "    tag = re.sub('; ', ' and ', tag)\n",
    "    part = df_local['part used'][0]\n",
    "    part = re.sub('; ', ' and ', part)\n",
    "    intro = key.title() + \" (\" + str(df_local['species name'][0]) + \")\" + \" is a \" + tag + \" \" + category + \" from the *\" + str(df_local['family'][0]) + \"* family,[^powo] originating in the region(s) of \" + str(df_local['region of origin'][0]) + \".[^van_wyk_culinary_2014] \" + \"It is used for its \" + part + \", primarily for \" + str(df_local['major uses'][0]) + \". Its aroma is described as \" + str(df_local['taste/smell'][0]) + \", with a heat index of \" + str(df_local['heat'][0]) + \".[^ucla_medicinal_2002]\" + \"\\n\\n\"\n",
    "    \n",
    "    # Create references\n",
    "    references = \"[^powo]: POWO. (2022). Plants of the World Online (Botanical Database). Facilitated by the Royal Botanic Gardens, Kew. http://www.plantsoftheworldonline.org/\\n[^van_wyk_culinary_2014]: van Wyk, B.-E. (2014). Culinary Herbs and Spices of the World. University of Chicago Press, joint publication with the Royal Botanic Gardens, Kew. https://doi.org/10.7208/chicago/9780226091839.001.0001\\n[^ucla_medicinal_2002]: Medicinal Spices Exhibit. (2002). UCLA Biomedical Library: History & Special Collections. https://unitproj.library.ucla.edu/biomed/spice/index.cfm?spicefilename=taste.txt&itemsuppress=yes&displayswitch=0\\n\\n\"\n",
    "    # references = \"\"\n",
    "\n",
    "    # # Quick names\n",
    "    # if type(df_local['wn_fra'][0]) == str:\n",
    "    #     fra = df_local['wn_fra'][0]\n",
    "    #     fra = re.sub(\"[\\[\\]]\", \"\", fra)\n",
    "    #     fra = re.sub(\"\\_\", \" \", fra)\n",
    "    #     df_local['French'] = fra\n",
    "    # else:\n",
    "    #     df_local['French'] = \"\"\n",
    "\n",
    "    df_quick_names = df_local[['Hungarian', 'Arabic', 'Chinese', ]] # 'French' \n",
    "    # df_names = df_names.T\n",
    "    # df_names.reset_index(inplace=True)\n",
    "    # df_names.columns = ['language', 'name(s)']\n",
    "    data = df_quick_names.to_dict(orient='records')\n",
    "    quick_names_mdt = markdown_table(data).set_params(row_sep = 'markdown', quote = False).get_markdown()\n",
    "    quick_names = quick_names_mdt + \"\\n\\n\"\n",
    "\n",
    "    ############################################\n",
    "    ######## The Nomenclature ########\n",
    "\n",
    "    # Dataframe of current item \n",
    "    df_names_local = df_names.loc[df_names['id'] == key]\n",
    "    # Reset index\n",
    "    df_names_local.reset_index(drop=True, inplace=True)\n",
    "    # Names\n",
    "    names_head = \"***\\n\\n## Nomenclature\\n\\n\"\n",
    "    # Heads\n",
    "    names_head_en = \"### English\\n\\n\"\n",
    "    names_head_ar = \"### Arabic\\n\\n\"\n",
    "    names_head_zh = \"### Chinese\\n\\n\"\n",
    "    \n",
    "    # Language by language\n",
    "    language = \"English\"\n",
    "    df = df_names_local.loc[df_names_local['language'] == language]\n",
    "    df = df[['term', 'source human']]\n",
    "    df = df.rename(columns={'source human': 'source'})\n",
    "    data = df.to_dict(orient='records')\n",
    "    names_mdt_en = markdown_table(data).set_params(row_sep = 'markdown', quote = False).get_markdown()\n",
    "\n",
    "    language = \"Arabic\"\n",
    "    df = df_names_local.loc[df_names_local['language'] == language]\n",
    "    df = df[['script', 'term', 'literal', 'source human']]\n",
    "    df = df.rename(columns={'source human': 'source'})\n",
    "    data = df.to_dict(orient='records')\n",
    "    names_mdt_ar = markdown_table(data).set_params(row_sep = 'markdown', quote = False).get_markdown()\n",
    "\n",
    "    language = \"Chinese\"\n",
    "    df = df_names_local.loc[df_names_local['language'] == language]\n",
    "    df = df[['script', 'term', 'literal', 'source human']]\n",
    "    df = df.rename(columns={'source human': 'source'})\n",
    "    data = df.to_dict(orient='records')\n",
    "    names_mdt_zh = markdown_table(data).set_params(row_sep = 'markdown', quote = False).get_markdown()\n",
    "    names = names_head + names_head_en + names_mdt_en + \"\\n\\n\" + names_head_ar + names_mdt_ar + \"\\n\\n\" + names_head_zh + names_mdt_zh + \"\\n\\n\"\n",
    "    names = \"\"\n",
    "\n",
    "    ######## Extract etymologies ########\n",
    "    wordlist = df_local['words'][0].split(\"; \")\n",
    "    etymologies = \"\"\n",
    "    for word in wordlist:\n",
    "        etymologies += dictionary_of_etymologies[word]\n",
    "    etymologies = \"## Etymologies\\n\\n\" + etymologies\n",
    "    etymologies = \"\"\n",
    "\n",
    "    # Plotly file\n",
    "    jsons = \"\"\n",
    "    # key_ = re.sub(\" \", \"_\", key)\n",
    "    # jsons = r'{{< load-plotly >}}' + '\\n' + r'{{< plotly json=\"/plotly/diffusion_name_' + key_ + r'.json\" height=\"300px\" >}}' + '\\n\\n'\n",
    "\n",
    "    # Plotly files for all words (some missing)\n",
    "    # jsons = \"\"\n",
    "    # for word in wordlist:\n",
    "    #     word_ = re.sub(\" \", \"_\", word)\n",
    "    #     json = r'{{< load-plotly >}}' + '\\n' + r'{{< plotly json=\"/plotly/diffusion_name_' + word_ + r'.json\" height=\"300px\" >}}' + '\\n\\n'\n",
    "    #     jsons += json\n",
    "    # jsons = \"## Etymology maps\\n\\n\" + jsons\n",
    "    \n",
    "    # # Manuscripts (handwritten spice pages embedded into the generated one)\n",
    "    # for key in list_of_manuscripts:\n",
    "    # filename = re.sub(\" \", \"_\", key)\n",
    "    # with open(path + filename + \".md\", 'r', encoding=\"utf8\") as md:\n",
    "    #     lines = md.readlines()\n",
    "    #     text = \"\".join(lines)\n",
    "    # text = re.sub('\\n',' ',text)\n",
    "\n",
    "    ######## Assemble page ########\n",
    "    page = preamble + illustration + intro + quick_names + overview + etymologies + jsons + names + references\n",
    "    \n",
    "    # Write markdown file\n",
    "    filename = re.sub(\" \", \"_\", key)\n",
    "    with open(path_out_md + filename + '_gen.md', 'w', encoding='utf-8') as f:\n",
    "        f.write(page)\n",
    "    return"
   ]
  },
  {
   "cell_type": "code",
   "execution_count": 16,
   "metadata": {},
   "outputs": [
    {
     "name": "stdout",
     "output_type": "stream",
     "text": [
      "Working on Sichuan pepper\n",
      "Working on allspice\n",
      "Working on anise\n",
      "Working on asafoetida\n",
      "Working on caraway\n",
      "Working on cardamom\n",
      "Working on cassia\n",
      "Working on chile\n",
      "Working on cinnamon\n",
      "Working on clove\n",
      "Working on coriander\n",
      "Working on cumin\n",
      "Working on dill seeds\n"
     ]
    },
    {
     "ename": "TypeError",
     "evalue": "can only concatenate str (not \"float\") to str",
     "output_type": "error",
     "traceback": [
      "\u001b[1;31m---------------------------------------------------------------------------\u001b[0m",
      "\u001b[1;31mTypeError\u001b[0m                                 Traceback (most recent call last)",
      "\u001b[1;32mc:\\Users\\parti\\GitHub\\aromatica\\database\\workspace.ipynb Cell 28\u001b[0m line \u001b[0;36m3\n\u001b[0;32m      <a href='vscode-notebook-cell:/c%3A/Users/parti/GitHub/aromatica/database/workspace.ipynb#X36sZmlsZQ%3D%3D?line=0'>1</a>\u001b[0m \u001b[39m# Loop through all spices\u001b[39;00m\n\u001b[0;32m      <a href='vscode-notebook-cell:/c%3A/Users/parti/GitHub/aromatica/database/workspace.ipynb#X36sZmlsZQ%3D%3D?line=1'>2</a>\u001b[0m \u001b[39mfor\u001b[39;00m key \u001b[39min\u001b[39;00m list_of_spices:\n\u001b[1;32m----> <a href='vscode-notebook-cell:/c%3A/Users/parti/GitHub/aromatica/database/workspace.ipynb#X36sZmlsZQ%3D%3D?line=2'>3</a>\u001b[0m     spicepage(key)\n\u001b[0;32m      <a href='vscode-notebook-cell:/c%3A/Users/parti/GitHub/aromatica/database/workspace.ipynb#X36sZmlsZQ%3D%3D?line=3'>4</a>\u001b[0m \u001b[39mprint\u001b[39m(\u001b[39m\"\u001b[39m\u001b[39mDone.\u001b[39m\u001b[39m\"\u001b[39m)\n",
      "\u001b[1;32mc:\\Users\\parti\\GitHub\\aromatica\\database\\workspace.ipynb Cell 28\u001b[0m line \u001b[0;36m5\n\u001b[0;32m     <a href='vscode-notebook-cell:/c%3A/Users/parti/GitHub/aromatica/database/workspace.ipynb#X36sZmlsZQ%3D%3D?line=50'>51</a>\u001b[0m preamble \u001b[39m=\u001b[39m \u001b[39m'\u001b[39m\u001b[39m+++\u001b[39m\u001b[39m\\n\u001b[39;00m\u001b[39mtitle = \u001b[39m\u001b[39m\"\u001b[39m\u001b[39m'\u001b[39m \u001b[39m+\u001b[39m key\u001b[39m.\u001b[39mtitle() \u001b[39m+\u001b[39m \u001b[39m'\u001b[39m\u001b[39m\"\u001b[39m\u001b[39m\\n\u001b[39;00m\u001b[39mauthor = \u001b[39m\u001b[39m\"\u001b[39m\u001b[39mGabor Parti\u001b[39m\u001b[39m\"\u001b[39m\u001b[39m\\n\u001b[39;00m\u001b[39mdate = \u001b[39m\u001b[39m\"\u001b[39m\u001b[39m'\u001b[39m \u001b[39m+\u001b[39m \u001b[39mstr\u001b[39m(date\u001b[39m.\u001b[39mtoday()) \u001b[39m+\u001b[39m \u001b[39m'\u001b[39m\u001b[39m\"\u001b[39m\u001b[39m\\n\u001b[39;00m\u001b[39mdescription = \u001b[39m\u001b[39m\"\u001b[39m\u001b[39m'\u001b[39m \u001b[39m+\u001b[39m description \u001b[39m+\u001b[39m \u001b[39m'\u001b[39m\u001b[39m\"\u001b[39m\u001b[39m\\n\u001b[39;00m\u001b[39mweight = 10\u001b[39m\u001b[39m\\n\u001b[39;00m\u001b[39m# draft = \u001b[39m\u001b[39m\"\u001b[39m\u001b[39mtrue\u001b[39m\u001b[39m\"\u001b[39m\u001b[39m\\n\u001b[39;00m\u001b[39m# hidden = \u001b[39m\u001b[39m\"\u001b[39m\u001b[39mtrue\u001b[39m\u001b[39m\"\u001b[39m\u001b[39m\\n\u001b[39;00m\u001b[39m# plotly = true\u001b[39m\u001b[39m\\n\u001b[39;00m\u001b[39mcategories = \u001b[39m\u001b[39m'\u001b[39m \u001b[39m+\u001b[39m \u001b[39mstr\u001b[39m(category_list)  \u001b[39m+\u001b[39m \u001b[39m\"\u001b[39m\u001b[39m\\n\u001b[39;00m\u001b[39mtags = \u001b[39m\u001b[39m\"\u001b[39m \u001b[39m+\u001b[39m \u001b[39mstr\u001b[39m(tag_list) \u001b[39m+\u001b[39m \u001b[39m'\u001b[39m\u001b[39m\\n\u001b[39;00m\u001b[39mbibFile = \u001b[39m\u001b[39m\"\u001b[39m\u001b[39mstatic/files/bibliography.json\u001b[39m\u001b[39m\"\u001b[39m\u001b[39m\\n\u001b[39;00m\u001b[39m+++\u001b[39m\u001b[39m\\n\u001b[39;00m\u001b[39m\\n\u001b[39;00m\u001b[39m'\u001b[39m\n\u001b[0;32m     <a href='vscode-notebook-cell:/c%3A/Users/parti/GitHub/aromatica/database/workspace.ipynb#X36sZmlsZQ%3D%3D?line=52'>53</a>\u001b[0m \u001b[39m# Illustration\u001b[39;00m\n\u001b[1;32m---> <a href='vscode-notebook-cell:/c%3A/Users/parti/GitHub/aromatica/database/workspace.ipynb#X36sZmlsZQ%3D%3D?line=53'>54</a>\u001b[0m illustration_source \u001b[39m=\u001b[39m \u001b[39m'\u001b[39;49m\u001b[39mIllustration of *\u001b[39;49m\u001b[39m'\u001b[39;49m \u001b[39m+\u001b[39;49m df_local[\u001b[39m'\u001b[39;49m\u001b[39mspecies\u001b[39;49m\u001b[39m'\u001b[39;49m][\u001b[39m0\u001b[39;49m] \u001b[39m+\u001b[39;49m \u001b[39m'\u001b[39;49m\u001b[39m* \u001b[39;49m\u001b[39m'\u001b[39;49m \u001b[39m+\u001b[39;49m df_local[\u001b[39m'\u001b[39;49m\u001b[39mspecies by\u001b[39;49m\u001b[39m'\u001b[39;49m][\u001b[39m0\u001b[39;49m] \u001b[39m+\u001b[39;49m \u001b[39m\"\u001b[39;49m\u001b[39m from \u001b[39;49m\u001b[39m\"\u001b[39;49m \u001b[39m+\u001b[39;49m df_local[\u001b[39m'\u001b[39;49m\u001b[39mill source\u001b[39;49m\u001b[39m'\u001b[39;49m][\u001b[39m0\u001b[39;49m] \u001b[39m+\u001b[39m \u001b[39m\"\u001b[39m\u001b[39m, \u001b[39m\u001b[39m\"\u001b[39m \u001b[39m+\u001b[39m \u001b[39mstr\u001b[39m(df_local[\u001b[39m'\u001b[39m\u001b[39mill page\u001b[39m\u001b[39m'\u001b[39m][\u001b[39m0\u001b[39m]) \u001b[39m+\u001b[39m \u001b[39m\"\u001b[39m\u001b[39m.\u001b[39m\u001b[39m\"\u001b[39m\n\u001b[0;32m     <a href='vscode-notebook-cell:/c%3A/Users/parti/GitHub/aromatica/database/workspace.ipynb#X36sZmlsZQ%3D%3D?line=55'>56</a>\u001b[0m illustration \u001b[39m=\u001b[39m \u001b[39mr\u001b[39m\u001b[39m'\u001b[39m\u001b[39m![\u001b[39m\u001b[39m'\u001b[39m \u001b[39m+\u001b[39m \u001b[39m'\u001b[39m\u001b[39mIllustration of *\u001b[39m\u001b[39m'\u001b[39m \u001b[39m+\u001b[39m df_local[\u001b[39m'\u001b[39m\u001b[39mspecies\u001b[39m\u001b[39m'\u001b[39m][\u001b[39m0\u001b[39m] \u001b[39m+\u001b[39m \u001b[39m'\u001b[39m\u001b[39m* \u001b[39m\u001b[39m'\u001b[39m \u001b[39m+\u001b[39m df_local[\u001b[39m'\u001b[39m\u001b[39mspecies by\u001b[39m\u001b[39m'\u001b[39m][\u001b[39m0\u001b[39m] \u001b[39m+\u001b[39m \u001b[39m'\u001b[39m\u001b[39m](/images/illustrations/\u001b[39m\u001b[39m'\u001b[39m \u001b[39m+\u001b[39m re\u001b[39m.\u001b[39msub(\u001b[39m\"\u001b[39m\u001b[39m \u001b[39m\u001b[39m\"\u001b[39m, \u001b[39m\"\u001b[39m\u001b[39m_\u001b[39m\u001b[39m\"\u001b[39m, key) \u001b[39m+\u001b[39m \u001b[39m'\u001b[39m\u001b[39m.png?width=25vw \u001b[39m\u001b[39m\"\u001b[39m\u001b[39m'\u001b[39m \u001b[39m+\u001b[39m illustration_source \u001b[39m+\u001b[39m \u001b[39m'\u001b[39m\u001b[39m\"\u001b[39m\u001b[39m)\u001b[39m\u001b[39m'\u001b[39m \u001b[39m+\u001b[39m \u001b[39m'\u001b[39m\u001b[39m\\n\u001b[39;00m\u001b[39m'\u001b[39m\n\u001b[0;32m     <a href='vscode-notebook-cell:/c%3A/Users/parti/GitHub/aromatica/database/workspace.ipynb#X36sZmlsZQ%3D%3D?line=57'>58</a>\u001b[0m illustration \u001b[39m=\u001b[39m illustration \u001b[39m+\u001b[39m \u001b[39m\"\u001b[39m\u001b[39m\\n\u001b[39;00m\u001b[39m>\u001b[39m\u001b[39m\"\u001b[39m \u001b[39m+\u001b[39m illustration_source \u001b[39m+\u001b[39m \u001b[39m\"\u001b[39m\u001b[39m\\n\u001b[39;00m\u001b[39m\\n\u001b[39;00m\u001b[39m\"\u001b[39m\n",
      "\u001b[1;31mTypeError\u001b[0m: can only concatenate str (not \"float\") to str"
     ]
    }
   ],
   "source": [
    "# Loop through all spices\n",
    "for key in list_of_spices:\n",
    "    spicepage(key)\n",
    "print(\"Done.\")"
   ]
  },
  {
   "cell_type": "code",
   "execution_count": null,
   "metadata": {},
   "outputs": [],
   "source": [
    "# # Move files to the website folder\n",
    "# move_dir(path_out_md, website_md, \"*.md\")"
   ]
  },
  {
   "cell_type": "markdown",
   "metadata": {},
   "source": [
    "## Merge autogenerated files with manuscripts"
   ]
  },
  {
   "cell_type": "code",
   "execution_count": null,
   "metadata": {},
   "outputs": [],
   "source": [
    "def build_page(key):\n",
    "    filename = re.sub(\" \", \"_\", key)\n",
    "    filepath = website_md + '/manuscripts/' + filename + '_ms.md'\n",
    "    if os.path.isfile(filepath) == True:\n",
    "        # Read generated files\n",
    "        with open(path_out_md + filename + '_gen.md', 'r', encoding='utf-8') as f:\n",
    "            generated = f.read()\n",
    "        # Read manuscript files    \n",
    "        with open(website_md + '/manuscripts/' + filename + '_ms.md', 'r', encoding='utf-8') as f:\n",
    "            manuscript = f.read()\n",
    "        # Assemple    \n",
    "        page = generated + \"***\\n\\n\" + manuscript\n",
    "        # Write out page file\n",
    "        with open(website_md + filename + '.md', 'w', encoding='utf-8') as f:\n",
    "            f.write(page)\n",
    "    else:\n",
    "        # Read generated files\n",
    "        with open(path_out_md + filename + '_gen.md', 'r', encoding='utf-8') as f:\n",
    "            generated = f.read()\n",
    "        # Assemple    \n",
    "        page = generated\n",
    "        # Write out page file\n",
    "        with open(website_md + filename + '.md', 'w', encoding='utf-8') as f:\n",
    "            f.write(page)\n",
    "    return\n"
   ]
  },
  {
   "cell_type": "code",
   "execution_count": null,
   "metadata": {},
   "outputs": [],
   "source": [
    "for key in list_of_spices:\n",
    "    build_page(key)"
   ]
  },
  {
   "cell_type": "code",
   "execution_count": 17,
   "metadata": {},
   "outputs": [
    {
     "name": "stdout",
     "output_type": "stream",
     "text": [
      "All done at 2023-09-27 14:45:06.155522.\n",
      "Duration: 0:00:03.518861\n"
     ]
    }
   ],
   "source": [
    "# ...measure time\n",
    "end_time = datetime.now()\n",
    "print(\"All done at \" + str(end_time) + \".\")\n",
    "print('Duration: {}'.format(end_time - start_time))"
   ]
  },
  {
   "cell_type": "markdown",
   "metadata": {},
   "source": [
    "# Maps"
   ]
  },
  {
   "cell_type": "code",
   "execution_count": 18,
   "metadata": {},
   "outputs": [],
   "source": [
    "df = df_spices.copy()"
   ]
  },
  {
   "cell_type": "code",
   "execution_count": 19,
   "metadata": {},
   "outputs": [],
   "source": [
    "# # Basic example with Plotly Go\n",
    "# # Create figure data\n",
    "# fig = go.Figure(data=go.Scattergeo(\n",
    "#         lon = df['lon'],\n",
    "#         lat = df['lat'],\n",
    "#         text = df['id'],\n",
    "#         mode = 'markers',\n",
    "#         # marker_color = df['cnt'],\n",
    "#         ))\n",
    "\n",
    "# # Update layout\n",
    "# fig.update_layout(\n",
    "#         title = 'Title',\n",
    "#         geo_scope='world',\n",
    "#         template = 'plotly_dark'\n",
    "#     )\n",
    "\n",
    "# # Show figure\n",
    "# fig.show()"
   ]
  },
  {
   "cell_type": "markdown",
   "metadata": {},
   "source": [
    "### Settings for fancy maps"
   ]
  },
  {
   "cell_type": "code",
   "execution_count": 20,
   "metadata": {},
   "outputs": [],
   "source": [
    "# Visual variables for map (dark mode)\n",
    "\n",
    "font_size = 14\n",
    "font_color = \"white\"\n",
    "font_family = \"Sans-Serif\"\n",
    "marker_symbol= 'circle'\n",
    "marker_size = 14\n",
    "max_marker_size = 32\n",
    "edge_color = transparent\n",
    "edge_size = 1\n",
    "opacity = 0.7\n",
    "line_width = 4\n",
    "water = nord0\n",
    "grid_color = nord1\n",
    "land = nord2\n",
    "lines = nord2\n",
    "copyright_color = nord3\n",
    "background_color = transparent\n",
    "legend_background_color = quarter_transparent\n",
    "color_scheme = prism"
   ]
  },
  {
   "cell_type": "code",
   "execution_count": 21,
   "metadata": {},
   "outputs": [],
   "source": [
    "# Orthographic globe layout\n",
    "ortho_traces = dict(\n",
    "    textposition = 'top right', # middle left, bottom center, etc.\n",
    "    textfont = dict(size=font_size, color=font_color, family=font_family),\n",
    "    hovertemplate=\n",
    "        \"<b>%{text}</b><br><br>\" +\n",
    "        \"Species: <i>%{customdata[0]}</i><br>\" +\n",
    "        \"Family: <i>%{customdata[1]}</i><br>\" +\n",
    "        \"Region of origin: %{customdata[2]}<br>\" +\n",
    "        \"Arabic: %{customdata[3]} <i>%{customdata[4]}</i><br>\" +\n",
    "        \"Chinese: %{customdata[5]} <i>%{customdata[6]}</i><br>\" +\n",
    "        # \"Spreadability: %{customdata[7]:.2f}<br>\" +\n",
    "        \"<extra></extra>\",\n",
    "    marker = dict(\n",
    "        symbol = marker_symbol,\n",
    "        size = marker_size,\n",
    "        line = dict(\n",
    "            color=edge_color,\n",
    "            width=edge_size\n",
    "        )\n",
    "    )\n",
    ")\n",
    "\n",
    "ortho_layout = go.Layout(\n",
    "    paper_bgcolor=background_color,\n",
    "    plot_bgcolor=background_color,\n",
    "    geo = dict(\n",
    "        resolution=110, # 50 is large; 110 is small\n",
    "        scope='world', # 'world', 'asia'\n",
    "        projection_type = 'orthographic', # orthographic, natural earth\n",
    "        projection_scale = 1,\n",
    "        projection_rotation = {'lat': 20, 'lon': 80, 'roll': 0},\n",
    "        bgcolor=background_color,\n",
    "        showcoastlines=True, coastlinewidth = 1, coastlinecolor = lines,\n",
    "        showcountries=False, countrywidth = 1, countrycolor = lines, \n",
    "        showframe=True, framewidth = 1, framecolor = lines, \n",
    "        showlakes=True, lakecolor = water,\n",
    "        showland=True, landcolor = land, \n",
    "        showocean=True, oceancolor = water,\n",
    "        showrivers=True, riverwidth = 1, rivercolor = water,\n",
    "        showsubunits=False, subunitwidth = 1, subunitcolor = lines, \n",
    "        lonaxis = dict(showgrid = True, gridwidth = 0.5, dtick = 10, gridcolor=grid_color),\n",
    "        lataxis = dict (showgrid = True, gridwidth = 0.5, dtick = 10, gridcolor=grid_color)),\n",
    "    showlegend = True,\n",
    "    legend=dict(x=0, y=0, xanchor=\"left\", yanchor=\"bottom\", bgcolor=legend_background_color,  \n",
    "                font=dict(color=font_color, size=font_size, family=font_family), \n",
    "                title_font=dict(color=font_color, size=font_size+2, family=font_family),\n",
    "                traceorder = 'normal', orientation=\"v\"),\n",
    "    title=dict(x=0.5, y=0.99, xanchor='center', yanchor='top', text='',\n",
    "               font=dict(color=font_color, size=font_size+6, family=font_family)),\n",
    "    margin={\"r\":0,\"t\":0,\"l\":0,\"b\":0},\n",
    "    hoverlabel=dict(#bgcolor=\"white\", \n",
    "                    font_size=font_size, \n",
    "                    font_family=font_family),\n",
    "    )\n",
    "\n",
    "# \"Document size\" for pdfs\n",
    "document_size = dict(width = 600, height=600)\n",
    "\n",
    "# Copyright\n",
    "cr = dict(\n",
    "    name=\"copyright\",\n",
    "    text=\"© Gábor Parti, 2023\",\n",
    "    font=dict(color=copyright_color, size=8, family=font_family),\n",
    "    opacity=0.9,\n",
    "    xref=\"paper\",\n",
    "    yref=\"paper\",\n",
    "    x=0.5,\n",
    "    y=0,\n",
    "    # xanchor=\"right\", \n",
    "    # yanchor=\"bottom\", \n",
    "    # align=\"center\",\n",
    "    showarrow=False,\n",
    ")\n",
    "# fig.update_layout(annotations = [cr]) # to call\n",
    "\n",
    "## Info\n",
    "info = dict(\n",
    "    name=\"info\",\n",
    "    text=\"Click on a material to navigate to its corresponding page!\",\n",
    "    font=dict(color=font_color, size=font_size, family=font_family),\n",
    "    opacity=0.9,\n",
    "    xref=\"paper\",\n",
    "    yref=\"paper\",\n",
    "    x=0.5,\n",
    "    y=0.05,\n",
    "    # xanchor=\"right\", \n",
    "    # yanchor=\"bottom\", \n",
    "    # align=\"center\",\n",
    "    showarrow=False,\n",
    ")\n",
    "# fig.update_layout(annotations = [info]) # to call\n",
    "\n",
    "# Adding layout images\n",
    "logo = dict(\n",
    "    source=\"https://upload.wikimedia.org/wikipedia/en/thumb/9/9e/PolyU_Logo_with_wordmark.svg/1024px-PolyU_Logo_with_wordmark.svg.png\",\n",
    "    sizex=0.15, sizey=0.15,\n",
    "    x=1, y=0, \n",
    "    xanchor=\"right\", \n",
    "    yanchor=\"bottom\", \n",
    ")\n",
    "# fig.add_layout_image(logo) # to call"
   ]
  },
  {
   "cell_type": "markdown",
   "metadata": {},
   "source": [
    "## Plot"
   ]
  },
  {
   "cell_type": "code",
   "execution_count": 22,
   "metadata": {},
   "outputs": [
    {
     "data": {
      "application/vnd.plotly.v1+json": {
       "config": {
        "plotlyServerURL": "https://plot.ly"
       },
       "data": [
        {
         "customdata": [
          [
           "Pimenta dioica",
           "Myrtaceae",
           "S. Mexico to C. America; Caribbean",
           "فلفل إفرنجي",
           "fulful ifranjī",
           "多香果",
           "duōxiāngguǒ",
           -77,
           18,
           1
          ],
          [
           "Syzygium aromaticum",
           "Myrtaceae",
           "N. Moluccas, Indonesia",
           "قرنفل",
           "qaranful",
           "丁香",
           "dīngxiāng",
           127,
           0,
           1
          ]
         ],
         "geo": "geo",
         "hovertemplate": "<b>%{text}</b><br><br>Species: <i>%{customdata[0]}</i><br>Family: <i>%{customdata[1]}</i><br>Region of origin: %{customdata[2]}<br>Arabic: %{customdata[3]} <i>%{customdata[4]}</i><br>Chinese: %{customdata[5]} <i>%{customdata[6]}</i><br><extra></extra>",
         "hovertext": [
          "allspice",
          "clove"
         ],
         "lat": [
          18,
          0
         ],
         "legendgroup": "Myrtaceae",
         "lon": [
          -77,
          127
         ],
         "marker": {
          "color": "#5f4690",
          "line": {
           "color": "rgba(0,0,0,0)",
           "width": 1
          },
          "opacity": 0.7,
          "size": 14,
          "sizemode": "area",
          "sizeref": 0.0009765625,
          "symbol": "circle"
         },
         "mode": "markers+text",
         "name": "Myrtaceae",
         "showlegend": true,
         "text": [
          "allspice",
          "clove"
         ],
         "textfont": {
          "color": "white",
          "family": "Sans-Serif",
          "size": 14
         },
         "textposition": "top right",
         "type": "scattergeo"
        },
        {
         "customdata": [
          [
           "Pimpinella anisum",
           "Apiaceae",
           "E. Mediterranean; W. Asia; Asia Minor",
           "أنيسون",
           "anīsūn",
           "茴芹",
           "huíqín",
           35,
           39,
           1
          ],
          [
           "Ferula foetida",
           "Apiaceae",
           "Iran; W. and C. Asia",
           "حلتیت",
           "ḥiltīt",
           "阿魏",
           "āwèi",
           55,
           35,
           1
          ],
          [
           "Carum carvi",
           "Apiaceae",
           "Mediterranean; C. Europe; Eurasia",
           "كراويا",
           "karāwiyā",
           "葛縷子",
           "gě​lǚ​zi",
           69,
           45,
           1
          ],
          [
           "Coriandrum sativum",
           "Apiaceae",
           "E. Mediterranean; W. Asia",
           "كزبرة",
           "kuzbara",
           "芫荽",
           "yán​sui",
           35,
           39,
           1
          ],
          [
           "Cuminum cyminum",
           "Apiaceae",
           "S. Europe; W. & C. Asia; India",
           "كمون ",
           "kammūn",
           "孜然",
           "zī​rán",
           53,
           32,
           1
          ],
          [
           "Anethum graveolens",
           "Apiaceae",
           "S. Europe; N. Africa; SW. Asia",
           "شبت",
           "shibitt",
           "蒔蘿",
           "shíluó",
           30,
           28,
           1
          ],
          [
           "Foeniculum vulgare",
           "Apiaceae",
           "Med",
           "شمر",
           "shamar",
           "茴香",
           "huíxiāng",
           42,
           29,
           1
          ]
         ],
         "geo": "geo",
         "hovertemplate": "<b>%{text}</b><br><br>Species: <i>%{customdata[0]}</i><br>Family: <i>%{customdata[1]}</i><br>Region of origin: %{customdata[2]}<br>Arabic: %{customdata[3]} <i>%{customdata[4]}</i><br>Chinese: %{customdata[5]} <i>%{customdata[6]}</i><br><extra></extra>",
         "hovertext": [
          "anise",
          "asafoetida",
          "caraway",
          "coriander",
          "cumin",
          "dill seeds",
          "fennel seeds"
         ],
         "lat": [
          39,
          35,
          45,
          39,
          32,
          28,
          29
         ],
         "legendgroup": "Apiaceae",
         "lon": [
          35,
          55,
          69,
          35,
          53,
          30,
          42
         ],
         "marker": {
          "color": "#1d6996",
          "line": {
           "color": "rgba(0,0,0,0)",
           "width": 1
          },
          "opacity": 0.7,
          "size": 14,
          "sizemode": "area",
          "sizeref": 0.0009765625,
          "symbol": "circle"
         },
         "mode": "markers+text",
         "name": "Apiaceae",
         "showlegend": true,
         "text": [
          "anise",
          "asafoetida",
          "caraway",
          "coriander",
          "cumin",
          "dill seeds",
          "fennel seeds"
         ],
         "textfont": {
          "color": "white",
          "family": "Sans-Serif",
          "size": 14
         },
         "textposition": "top right",
         "type": "scattergeo"
        },
        {
         "customdata": [
          [
           "Elettaria cardamomum",
           "Zingiberaceae",
           "Kerala, S. India; southern Asia",
           "هال",
           "hāl",
           "豆蔻",
           "dòukòu",
           75,
           16,
           1
          ],
          [
           "Zingiber officinale",
           "Zingiberaceae",
           "South East Asia; India (secondary)",
           "زنجبيل",
           "zanjabīl",
           "薑",
           "jiāng",
           95,
           24,
           1
          ],
          [
           "Curcuma longa",
           "Zingiberaceae",
           "India",
           "كركم",
           "kurkum",
           "薑黃",
           "jiānghuáng",
           79,
           12,
           1
          ]
         ],
         "geo": "geo",
         "hovertemplate": "<b>%{text}</b><br><br>Species: <i>%{customdata[0]}</i><br>Family: <i>%{customdata[1]}</i><br>Region of origin: %{customdata[2]}<br>Arabic: %{customdata[3]} <i>%{customdata[4]}</i><br>Chinese: %{customdata[5]} <i>%{customdata[6]}</i><br><extra></extra>",
         "hovertext": [
          "cardamom",
          "ginger",
          "turmeric"
         ],
         "lat": [
          16,
          24,
          12
         ],
         "legendgroup": "Zingiberaceae",
         "lon": [
          75,
          95,
          79
         ],
         "marker": {
          "color": "#38a6a5",
          "line": {
           "color": "rgba(0,0,0,0)",
           "width": 1
          },
          "opacity": 0.7,
          "size": 14,
          "sizemode": "area",
          "sizeref": 0.0009765625,
          "symbol": "circle"
         },
         "mode": "markers+text",
         "name": "Zingiberaceae",
         "showlegend": true,
         "text": [
          "cardamom",
          "ginger",
          "turmeric"
         ],
         "textfont": {
          "color": "white",
          "family": "Sans-Serif",
          "size": 14
         },
         "textposition": "top right",
         "type": "scattergeo"
        },
        {
         "customdata": [
          [
           "Cinnamomum cassia",
           "Lauraceae",
           "Southeast China",
           "سليخة",
           "salīkha",
           "肉桂",
           "ròuguì",
           111,
           22,
           1
          ],
          [
           "Cinnamomum verum",
           "Lauraceae",
           "Sri Lanka; SW. India",
           "قرفة",
           "qirfa",
           "錫蘭肉桂",
           "xīlánròuguì",
           81,
           7,
           1
          ]
         ],
         "geo": "geo",
         "hovertemplate": "<b>%{text}</b><br><br>Species: <i>%{customdata[0]}</i><br>Family: <i>%{customdata[1]}</i><br>Region of origin: %{customdata[2]}<br>Arabic: %{customdata[3]} <i>%{customdata[4]}</i><br>Chinese: %{customdata[5]} <i>%{customdata[6]}</i><br><extra></extra>",
         "hovertext": [
          "cassia",
          "cinnamon"
         ],
         "lat": [
          22,
          7
         ],
         "legendgroup": "Lauraceae",
         "lon": [
          111,
          81
         ],
         "marker": {
          "color": "#0f8554",
          "line": {
           "color": "rgba(0,0,0,0)",
           "width": 1
          },
          "opacity": 0.7,
          "size": 14,
          "sizemode": "area",
          "sizeref": 0.0009765625,
          "symbol": "circle"
         },
         "mode": "markers+text",
         "name": "Lauraceae",
         "showlegend": true,
         "text": [
          "cassia",
          "cinnamon"
         ],
         "textfont": {
          "color": "white",
          "family": "Sans-Serif",
          "size": 14
         },
         "textposition": "top right",
         "type": "scattergeo"
        },
        {
         "customdata": [
          [
           "Capsicum annuum",
           "Solanaceae",
           "Central America",
           "فلفل حار",
           "fulful hārr",
           "辣椒",
           "làjiāo",
           -85,
           12,
           1
          ]
         ],
         "geo": "geo",
         "hovertemplate": "<b>%{text}</b><br><br>Species: <i>%{customdata[0]}</i><br>Family: <i>%{customdata[1]}</i><br>Region of origin: %{customdata[2]}<br>Arabic: %{customdata[3]} <i>%{customdata[4]}</i><br>Chinese: %{customdata[5]} <i>%{customdata[6]}</i><br><extra></extra>",
         "hovertext": [
          "chile"
         ],
         "lat": [
          12
         ],
         "legendgroup": "Solanaceae",
         "lon": [
          -85
         ],
         "marker": {
          "color": "#73af48",
          "line": {
           "color": "rgba(0,0,0,0)",
           "width": 1
          },
          "opacity": 0.7,
          "size": 14,
          "sizemode": "area",
          "sizeref": 0.0009765625,
          "symbol": "circle"
         },
         "mode": "markers+text",
         "name": "Solanaceae",
         "showlegend": true,
         "text": [
          "chile"
         ],
         "textfont": {
          "color": "white",
          "family": "Sans-Serif",
          "size": 14
         },
         "textposition": "top right",
         "type": "scattergeo"
        },
        {
         "customdata": [
          [
           "Trigonella foenum-graecum",
           "Fabaceae",
           "S Eur; W As",
           "حلبة",
           "ḥulba",
           "胡蘆巴",
           "húlúbā",
           67,
           33,
           1
          ]
         ],
         "geo": "geo",
         "hovertemplate": "<b>%{text}</b><br><br>Species: <i>%{customdata[0]}</i><br>Family: <i>%{customdata[1]}</i><br>Region of origin: %{customdata[2]}<br>Arabic: %{customdata[3]} <i>%{customdata[4]}</i><br>Chinese: %{customdata[5]} <i>%{customdata[6]}</i><br><extra></extra>",
         "hovertext": [
          "fenugreek"
         ],
         "lat": [
          33
         ],
         "legendgroup": "Fabaceae",
         "lon": [
          67
         ],
         "marker": {
          "color": "#edae08",
          "line": {
           "color": "rgba(0,0,0,0)",
           "width": 1
          },
          "opacity": 0.7,
          "size": 14,
          "sizemode": "area",
          "sizeref": 0.0009765625,
          "symbol": "circle"
         },
         "mode": "markers+text",
         "name": "Fabaceae",
         "showlegend": true,
         "text": [
          "fenugreek"
         ],
         "textfont": {
          "color": "white",
          "family": "Sans-Serif",
          "size": 14
         },
         "textposition": "top right",
         "type": "scattergeo"
        },
        {
         "customdata": [
          [
           "Piper longum",
           "Piperaceae",
           "E. Himalaya to S. China; Indo-China",
           "دارفلفل",
           "dārfilfil",
           "蓽撥",
           "bìbō",
           80,
           23,
           1
          ],
          [
           "Piper nigrum",
           "Piperaceae",
           "Malabar coast (South India)",
           "فلفل",
           "filfil, fulful",
           "胡椒",
           "hújiāo",
           76,
           14,
           1
          ]
         ],
         "geo": "geo",
         "hovertemplate": "<b>%{text}</b><br><br>Species: <i>%{customdata[0]}</i><br>Family: <i>%{customdata[1]}</i><br>Region of origin: %{customdata[2]}<br>Arabic: %{customdata[3]} <i>%{customdata[4]}</i><br>Chinese: %{customdata[5]} <i>%{customdata[6]}</i><br><extra></extra>",
         "hovertext": [
          "long pepper",
          "pepper"
         ],
         "lat": [
          23,
          14
         ],
         "legendgroup": "Piperaceae",
         "lon": [
          80,
          76
         ],
         "marker": {
          "color": "#e17909",
          "line": {
           "color": "rgba(0,0,0,0)",
           "width": 1
          },
          "opacity": 0.7,
          "size": 14,
          "sizemode": "area",
          "sizeref": 0.0009765625,
          "symbol": "circle"
         },
         "mode": "markers+text",
         "name": "Piperaceae",
         "showlegend": true,
         "text": [
          "long pepper",
          "pepper"
         ],
         "textfont": {
          "color": "white",
          "family": "Sans-Serif",
          "size": 14
         },
         "textposition": "top right",
         "type": "scattergeo"
        },
        {
         "customdata": [
          [
           "Myristica fragrans",
           "Myristicaceae",
           "Moluccas (Indonesia)",
           "بسباسة",
           "basbāsa",
           "肉豆蔻皮",
           "ròudòukòupí",
           130,
           -6,
           1
          ],
          [
           "Myristica fragrans",
           "Myristicaceae",
           "Moluccas (Indonesia)",
           "جوز الطيب",
           "jawz al-ṭīb",
           "肉豆蔻",
           "ròudòukòu",
           129,
           -4,
           1
          ]
         ],
         "geo": "geo",
         "hovertemplate": "<b>%{text}</b><br><br>Species: <i>%{customdata[0]}</i><br>Family: <i>%{customdata[1]}</i><br>Region of origin: %{customdata[2]}<br>Arabic: %{customdata[3]} <i>%{customdata[4]}</i><br>Chinese: %{customdata[5]} <i>%{customdata[6]}</i><br><extra></extra>",
         "hovertext": [
          "mace",
          "nutmeg"
         ],
         "lat": [
          -6,
          -4
         ],
         "legendgroup": "Myristicaceae",
         "lon": [
          130,
          129
         ],
         "marker": {
          "color": "#cc503e",
          "line": {
           "color": "rgba(0,0,0,0)",
           "width": 1
          },
          "opacity": 0.7,
          "size": 14,
          "sizemode": "area",
          "sizeref": 0.0009765625,
          "symbol": "circle"
         },
         "mode": "markers+text",
         "name": "Myristicaceae",
         "showlegend": true,
         "text": [
          "mace",
          "nutmeg"
         ],
         "textfont": {
          "color": "white",
          "family": "Sans-Serif",
          "size": 14
         },
         "textposition": "top right",
         "type": "scattergeo"
        },
        {
         "customdata": [
          [
           "Crocus sativus",
           "Iridaceae",
           "Greece",
           "زعفران",
           "zaʿfarān",
           "藏紅花",
           "zànghónghuā",
           22,
           39,
           1
          ]
         ],
         "geo": "geo",
         "hovertemplate": "<b>%{text}</b><br><br>Species: <i>%{customdata[0]}</i><br>Family: <i>%{customdata[1]}</i><br>Region of origin: %{customdata[2]}<br>Arabic: %{customdata[3]} <i>%{customdata[4]}</i><br>Chinese: %{customdata[5]} <i>%{customdata[6]}</i><br><extra></extra>",
         "hovertext": [
          "saffron"
         ],
         "lat": [
          39
         ],
         "legendgroup": "Iridaceae",
         "lon": [
          22
         ],
         "marker": {
          "color": "#94346e",
          "line": {
           "color": "rgba(0,0,0,0)",
           "width": 1
          },
          "opacity": 0.7,
          "size": 14,
          "sizemode": "area",
          "sizeref": 0.0009765625,
          "symbol": "circle"
         },
         "mode": "markers+text",
         "name": "Iridaceae",
         "showlegend": true,
         "text": [
          "saffron"
         ],
         "textfont": {
          "color": "white",
          "family": "Sans-Serif",
          "size": 14
         },
         "textposition": "top right",
         "type": "scattergeo"
        },
        {
         "customdata": [
          [
           "Zanthoxylum bungeanum",
           "Rutaceae",
           "China",
           "فلفل سيتشوان",
           "fulful sītshuwān",
           "花椒",
           "huā​jiāo",
           105,
           35,
           1
          ]
         ],
         "geo": "geo",
         "hovertemplate": "<b>%{text}</b><br><br>Species: <i>%{customdata[0]}</i><br>Family: <i>%{customdata[1]}</i><br>Region of origin: %{customdata[2]}<br>Arabic: %{customdata[3]} <i>%{customdata[4]}</i><br>Chinese: %{customdata[5]} <i>%{customdata[6]}</i><br><extra></extra>",
         "hovertext": [
          "Sichuan pepper"
         ],
         "lat": [
          35
         ],
         "legendgroup": "Rutaceae",
         "lon": [
          105
         ],
         "marker": {
          "color": "#6f4070",
          "line": {
           "color": "rgba(0,0,0,0)",
           "width": 1
          },
          "opacity": 0.7,
          "size": 14,
          "sizemode": "area",
          "sizeref": 0.0009765625,
          "symbol": "circle"
         },
         "mode": "markers+text",
         "name": "Rutaceae",
         "showlegend": true,
         "text": [
          "Sichuan pepper"
         ],
         "textfont": {
          "color": "white",
          "family": "Sans-Serif",
          "size": 14
         },
         "textposition": "top right",
         "type": "scattergeo"
        },
        {
         "customdata": [
          [
           "Illicium verum",
           "Schisandraceae",
           "SE. China; Vietnam",
           "يانسون نجمي",
           "yānsūn najmī",
           "八角",
           "bājiǎo",
           106,
           18,
           1
          ]
         ],
         "geo": "geo",
         "hovertemplate": "<b>%{text}</b><br><br>Species: <i>%{customdata[0]}</i><br>Family: <i>%{customdata[1]}</i><br>Region of origin: %{customdata[2]}<br>Arabic: %{customdata[3]} <i>%{customdata[4]}</i><br>Chinese: %{customdata[5]} <i>%{customdata[6]}</i><br><extra></extra>",
         "hovertext": [
          "star anise"
         ],
         "lat": [
          18
         ],
         "legendgroup": "Schisandraceae",
         "lon": [
          106
         ],
         "marker": {
          "color": "#a28aba",
          "line": {
           "color": "rgba(0,0,0,0)",
           "width": 1
          },
          "opacity": 0.7,
          "size": 14,
          "sizemode": "area",
          "sizeref": 0.0009765625,
          "symbol": "circle"
         },
         "mode": "markers+text",
         "name": "Schisandraceae",
         "showlegend": true,
         "text": [
          "star anise"
         ],
         "textfont": {
          "color": "white",
          "family": "Sans-Serif",
          "size": 14
         },
         "textposition": "top right",
         "type": "scattergeo"
        },
        {
         "customdata": [
          [
           "Vanilla planifolia",
           "Orchidaceae",
           "Tropical America",
           "فانيليا",
           "fānīliyā",
           "香草",
           "xiāngcǎo",
           -55,
           -10,
           1
          ]
         ],
         "geo": "geo",
         "hovertemplate": "<b>%{text}</b><br><br>Species: <i>%{customdata[0]}</i><br>Family: <i>%{customdata[1]}</i><br>Region of origin: %{customdata[2]}<br>Arabic: %{customdata[3]} <i>%{customdata[4]}</i><br>Chinese: %{customdata[5]} <i>%{customdata[6]}</i><br><extra></extra>",
         "hovertext": [
          "vanilla"
         ],
         "lat": [
          -10
         ],
         "legendgroup": "Orchidaceae",
         "lon": [
          -55
         ],
         "marker": {
          "color": "#6baed6",
          "line": {
           "color": "rgba(0,0,0,0)",
           "width": 1
          },
          "opacity": 0.7,
          "size": 14,
          "sizemode": "area",
          "sizeref": 0.0009765625,
          "symbol": "circle"
         },
         "mode": "markers+text",
         "name": "Orchidaceae",
         "showlegend": true,
         "text": [
          "vanilla"
         ],
         "textfont": {
          "color": "white",
          "family": "Sans-Serif",
          "size": 14
         },
         "textposition": "top right",
         "type": "scattergeo"
        }
       ],
       "layout": {
        "annotations": [
         {
          "font": {
           "color": "#4c566a",
           "family": "Sans-Serif",
           "size": 8
          },
          "name": "copyright",
          "opacity": 0.9,
          "showarrow": false,
          "text": "© Gábor Parti, 2023",
          "x": 0.5,
          "xref": "paper",
          "y": 0,
          "yref": "paper"
         }
        ],
        "geo": {
         "bgcolor": "rgba(0,0,0,0)",
         "center": {},
         "coastlinecolor": "#434c5e",
         "coastlinewidth": 1,
         "countrycolor": "#434c5e",
         "countrywidth": 1,
         "domain": {
          "x": [
           0,
           1
          ],
          "y": [
           0,
           1
          ]
         },
         "framecolor": "#434c5e",
         "framewidth": 1,
         "lakecolor": "#2e3440",
         "landcolor": "#434c5e",
         "lataxis": {
          "dtick": 10,
          "gridcolor": "#3b4252",
          "gridwidth": 0.5,
          "showgrid": true
         },
         "lonaxis": {
          "dtick": 10,
          "gridcolor": "#3b4252",
          "gridwidth": 0.5,
          "showgrid": true
         },
         "oceancolor": "#2e3440",
         "projection": {
          "rotation": {
           "lat": 20,
           "lon": 80,
           "roll": 0
          },
          "scale": 1,
          "type": "orthographic"
         },
         "resolution": 110,
         "rivercolor": "#2e3440",
         "riverwidth": 1,
         "scope": "world",
         "showcoastlines": true,
         "showcountries": false,
         "showframe": true,
         "showlakes": true,
         "showland": true,
         "showocean": true,
         "showrivers": true,
         "showsubunits": false,
         "subunitcolor": "#434c5e",
         "subunitwidth": 1
        },
        "hoverlabel": {
         "font": {
          "family": "Sans-Serif",
          "size": 14
         }
        },
        "legend": {
         "bgcolor": "rgba(0,0,0,0.25)",
         "font": {
          "color": "white",
          "family": "Sans-Serif",
          "size": 14
         },
         "itemsizing": "constant",
         "orientation": "v",
         "title": {
          "font": {
           "color": "white",
           "family": "Sans-Serif",
           "size": 16
          },
          "text": "family"
         },
         "tracegroupgap": 0,
         "traceorder": "normal",
         "x": 0,
         "xanchor": "left",
         "y": 0,
         "yanchor": "bottom"
        },
        "margin": {
         "b": 0,
         "l": 0,
         "r": 0,
         "t": 0
        },
        "paper_bgcolor": "rgba(0,0,0,0)",
        "plot_bgcolor": "rgba(0,0,0,0)",
        "showlegend": true,
        "template": {
         "data": {
          "bar": [
           {
            "error_x": {
             "color": "#2a3f5f"
            },
            "error_y": {
             "color": "#2a3f5f"
            },
            "marker": {
             "line": {
              "color": "#E5ECF6",
              "width": 0.5
             },
             "pattern": {
              "fillmode": "overlay",
              "size": 10,
              "solidity": 0.2
             }
            },
            "type": "bar"
           }
          ],
          "barpolar": [
           {
            "marker": {
             "line": {
              "color": "#E5ECF6",
              "width": 0.5
             },
             "pattern": {
              "fillmode": "overlay",
              "size": 10,
              "solidity": 0.2
             }
            },
            "type": "barpolar"
           }
          ],
          "carpet": [
           {
            "aaxis": {
             "endlinecolor": "#2a3f5f",
             "gridcolor": "white",
             "linecolor": "white",
             "minorgridcolor": "white",
             "startlinecolor": "#2a3f5f"
            },
            "baxis": {
             "endlinecolor": "#2a3f5f",
             "gridcolor": "white",
             "linecolor": "white",
             "minorgridcolor": "white",
             "startlinecolor": "#2a3f5f"
            },
            "type": "carpet"
           }
          ],
          "choropleth": [
           {
            "colorbar": {
             "outlinewidth": 0,
             "ticks": ""
            },
            "type": "choropleth"
           }
          ],
          "contour": [
           {
            "colorbar": {
             "outlinewidth": 0,
             "ticks": ""
            },
            "colorscale": [
             [
              0,
              "#0d0887"
             ],
             [
              0.1111111111111111,
              "#46039f"
             ],
             [
              0.2222222222222222,
              "#7201a8"
             ],
             [
              0.3333333333333333,
              "#9c179e"
             ],
             [
              0.4444444444444444,
              "#bd3786"
             ],
             [
              0.5555555555555556,
              "#d8576b"
             ],
             [
              0.6666666666666666,
              "#ed7953"
             ],
             [
              0.7777777777777778,
              "#fb9f3a"
             ],
             [
              0.8888888888888888,
              "#fdca26"
             ],
             [
              1,
              "#f0f921"
             ]
            ],
            "type": "contour"
           }
          ],
          "contourcarpet": [
           {
            "colorbar": {
             "outlinewidth": 0,
             "ticks": ""
            },
            "type": "contourcarpet"
           }
          ],
          "heatmap": [
           {
            "colorbar": {
             "outlinewidth": 0,
             "ticks": ""
            },
            "colorscale": [
             [
              0,
              "#0d0887"
             ],
             [
              0.1111111111111111,
              "#46039f"
             ],
             [
              0.2222222222222222,
              "#7201a8"
             ],
             [
              0.3333333333333333,
              "#9c179e"
             ],
             [
              0.4444444444444444,
              "#bd3786"
             ],
             [
              0.5555555555555556,
              "#d8576b"
             ],
             [
              0.6666666666666666,
              "#ed7953"
             ],
             [
              0.7777777777777778,
              "#fb9f3a"
             ],
             [
              0.8888888888888888,
              "#fdca26"
             ],
             [
              1,
              "#f0f921"
             ]
            ],
            "type": "heatmap"
           }
          ],
          "heatmapgl": [
           {
            "colorbar": {
             "outlinewidth": 0,
             "ticks": ""
            },
            "colorscale": [
             [
              0,
              "#0d0887"
             ],
             [
              0.1111111111111111,
              "#46039f"
             ],
             [
              0.2222222222222222,
              "#7201a8"
             ],
             [
              0.3333333333333333,
              "#9c179e"
             ],
             [
              0.4444444444444444,
              "#bd3786"
             ],
             [
              0.5555555555555556,
              "#d8576b"
             ],
             [
              0.6666666666666666,
              "#ed7953"
             ],
             [
              0.7777777777777778,
              "#fb9f3a"
             ],
             [
              0.8888888888888888,
              "#fdca26"
             ],
             [
              1,
              "#f0f921"
             ]
            ],
            "type": "heatmapgl"
           }
          ],
          "histogram": [
           {
            "marker": {
             "pattern": {
              "fillmode": "overlay",
              "size": 10,
              "solidity": 0.2
             }
            },
            "type": "histogram"
           }
          ],
          "histogram2d": [
           {
            "colorbar": {
             "outlinewidth": 0,
             "ticks": ""
            },
            "colorscale": [
             [
              0,
              "#0d0887"
             ],
             [
              0.1111111111111111,
              "#46039f"
             ],
             [
              0.2222222222222222,
              "#7201a8"
             ],
             [
              0.3333333333333333,
              "#9c179e"
             ],
             [
              0.4444444444444444,
              "#bd3786"
             ],
             [
              0.5555555555555556,
              "#d8576b"
             ],
             [
              0.6666666666666666,
              "#ed7953"
             ],
             [
              0.7777777777777778,
              "#fb9f3a"
             ],
             [
              0.8888888888888888,
              "#fdca26"
             ],
             [
              1,
              "#f0f921"
             ]
            ],
            "type": "histogram2d"
           }
          ],
          "histogram2dcontour": [
           {
            "colorbar": {
             "outlinewidth": 0,
             "ticks": ""
            },
            "colorscale": [
             [
              0,
              "#0d0887"
             ],
             [
              0.1111111111111111,
              "#46039f"
             ],
             [
              0.2222222222222222,
              "#7201a8"
             ],
             [
              0.3333333333333333,
              "#9c179e"
             ],
             [
              0.4444444444444444,
              "#bd3786"
             ],
             [
              0.5555555555555556,
              "#d8576b"
             ],
             [
              0.6666666666666666,
              "#ed7953"
             ],
             [
              0.7777777777777778,
              "#fb9f3a"
             ],
             [
              0.8888888888888888,
              "#fdca26"
             ],
             [
              1,
              "#f0f921"
             ]
            ],
            "type": "histogram2dcontour"
           }
          ],
          "mesh3d": [
           {
            "colorbar": {
             "outlinewidth": 0,
             "ticks": ""
            },
            "type": "mesh3d"
           }
          ],
          "parcoords": [
           {
            "line": {
             "colorbar": {
              "outlinewidth": 0,
              "ticks": ""
             }
            },
            "type": "parcoords"
           }
          ],
          "pie": [
           {
            "automargin": true,
            "type": "pie"
           }
          ],
          "scatter": [
           {
            "fillpattern": {
             "fillmode": "overlay",
             "size": 10,
             "solidity": 0.2
            },
            "type": "scatter"
           }
          ],
          "scatter3d": [
           {
            "line": {
             "colorbar": {
              "outlinewidth": 0,
              "ticks": ""
             }
            },
            "marker": {
             "colorbar": {
              "outlinewidth": 0,
              "ticks": ""
             }
            },
            "type": "scatter3d"
           }
          ],
          "scattercarpet": [
           {
            "marker": {
             "colorbar": {
              "outlinewidth": 0,
              "ticks": ""
             }
            },
            "type": "scattercarpet"
           }
          ],
          "scattergeo": [
           {
            "marker": {
             "colorbar": {
              "outlinewidth": 0,
              "ticks": ""
             }
            },
            "type": "scattergeo"
           }
          ],
          "scattergl": [
           {
            "marker": {
             "colorbar": {
              "outlinewidth": 0,
              "ticks": ""
             }
            },
            "type": "scattergl"
           }
          ],
          "scattermapbox": [
           {
            "marker": {
             "colorbar": {
              "outlinewidth": 0,
              "ticks": ""
             }
            },
            "type": "scattermapbox"
           }
          ],
          "scatterpolar": [
           {
            "marker": {
             "colorbar": {
              "outlinewidth": 0,
              "ticks": ""
             }
            },
            "type": "scatterpolar"
           }
          ],
          "scatterpolargl": [
           {
            "marker": {
             "colorbar": {
              "outlinewidth": 0,
              "ticks": ""
             }
            },
            "type": "scatterpolargl"
           }
          ],
          "scatterternary": [
           {
            "marker": {
             "colorbar": {
              "outlinewidth": 0,
              "ticks": ""
             }
            },
            "type": "scatterternary"
           }
          ],
          "surface": [
           {
            "colorbar": {
             "outlinewidth": 0,
             "ticks": ""
            },
            "colorscale": [
             [
              0,
              "#0d0887"
             ],
             [
              0.1111111111111111,
              "#46039f"
             ],
             [
              0.2222222222222222,
              "#7201a8"
             ],
             [
              0.3333333333333333,
              "#9c179e"
             ],
             [
              0.4444444444444444,
              "#bd3786"
             ],
             [
              0.5555555555555556,
              "#d8576b"
             ],
             [
              0.6666666666666666,
              "#ed7953"
             ],
             [
              0.7777777777777778,
              "#fb9f3a"
             ],
             [
              0.8888888888888888,
              "#fdca26"
             ],
             [
              1,
              "#f0f921"
             ]
            ],
            "type": "surface"
           }
          ],
          "table": [
           {
            "cells": {
             "fill": {
              "color": "#EBF0F8"
             },
             "line": {
              "color": "white"
             }
            },
            "header": {
             "fill": {
              "color": "#C8D4E3"
             },
             "line": {
              "color": "white"
             }
            },
            "type": "table"
           }
          ]
         },
         "layout": {
          "annotationdefaults": {
           "arrowcolor": "#2a3f5f",
           "arrowhead": 0,
           "arrowwidth": 1
          },
          "autotypenumbers": "strict",
          "coloraxis": {
           "colorbar": {
            "outlinewidth": 0,
            "ticks": ""
           }
          },
          "colorscale": {
           "diverging": [
            [
             0,
             "#8e0152"
            ],
            [
             0.1,
             "#c51b7d"
            ],
            [
             0.2,
             "#de77ae"
            ],
            [
             0.3,
             "#f1b6da"
            ],
            [
             0.4,
             "#fde0ef"
            ],
            [
             0.5,
             "#f7f7f7"
            ],
            [
             0.6,
             "#e6f5d0"
            ],
            [
             0.7,
             "#b8e186"
            ],
            [
             0.8,
             "#7fbc41"
            ],
            [
             0.9,
             "#4d9221"
            ],
            [
             1,
             "#276419"
            ]
           ],
           "sequential": [
            [
             0,
             "#0d0887"
            ],
            [
             0.1111111111111111,
             "#46039f"
            ],
            [
             0.2222222222222222,
             "#7201a8"
            ],
            [
             0.3333333333333333,
             "#9c179e"
            ],
            [
             0.4444444444444444,
             "#bd3786"
            ],
            [
             0.5555555555555556,
             "#d8576b"
            ],
            [
             0.6666666666666666,
             "#ed7953"
            ],
            [
             0.7777777777777778,
             "#fb9f3a"
            ],
            [
             0.8888888888888888,
             "#fdca26"
            ],
            [
             1,
             "#f0f921"
            ]
           ],
           "sequentialminus": [
            [
             0,
             "#0d0887"
            ],
            [
             0.1111111111111111,
             "#46039f"
            ],
            [
             0.2222222222222222,
             "#7201a8"
            ],
            [
             0.3333333333333333,
             "#9c179e"
            ],
            [
             0.4444444444444444,
             "#bd3786"
            ],
            [
             0.5555555555555556,
             "#d8576b"
            ],
            [
             0.6666666666666666,
             "#ed7953"
            ],
            [
             0.7777777777777778,
             "#fb9f3a"
            ],
            [
             0.8888888888888888,
             "#fdca26"
            ],
            [
             1,
             "#f0f921"
            ]
           ]
          },
          "colorway": [
           "#636efa",
           "#EF553B",
           "#00cc96",
           "#ab63fa",
           "#FFA15A",
           "#19d3f3",
           "#FF6692",
           "#B6E880",
           "#FF97FF",
           "#FECB52"
          ],
          "font": {
           "color": "#2a3f5f"
          },
          "geo": {
           "bgcolor": "white",
           "lakecolor": "white",
           "landcolor": "#E5ECF6",
           "showlakes": true,
           "showland": true,
           "subunitcolor": "white"
          },
          "hoverlabel": {
           "align": "left"
          },
          "hovermode": "closest",
          "mapbox": {
           "style": "light"
          },
          "paper_bgcolor": "white",
          "plot_bgcolor": "#E5ECF6",
          "polar": {
           "angularaxis": {
            "gridcolor": "white",
            "linecolor": "white",
            "ticks": ""
           },
           "bgcolor": "#E5ECF6",
           "radialaxis": {
            "gridcolor": "white",
            "linecolor": "white",
            "ticks": ""
           }
          },
          "scene": {
           "xaxis": {
            "backgroundcolor": "#E5ECF6",
            "gridcolor": "white",
            "gridwidth": 2,
            "linecolor": "white",
            "showbackground": true,
            "ticks": "",
            "zerolinecolor": "white"
           },
           "yaxis": {
            "backgroundcolor": "#E5ECF6",
            "gridcolor": "white",
            "gridwidth": 2,
            "linecolor": "white",
            "showbackground": true,
            "ticks": "",
            "zerolinecolor": "white"
           },
           "zaxis": {
            "backgroundcolor": "#E5ECF6",
            "gridcolor": "white",
            "gridwidth": 2,
            "linecolor": "white",
            "showbackground": true,
            "ticks": "",
            "zerolinecolor": "white"
           }
          },
          "shapedefaults": {
           "line": {
            "color": "#2a3f5f"
           }
          },
          "ternary": {
           "aaxis": {
            "gridcolor": "white",
            "linecolor": "white",
            "ticks": ""
           },
           "baxis": {
            "gridcolor": "white",
            "linecolor": "white",
            "ticks": ""
           },
           "bgcolor": "#E5ECF6",
           "caxis": {
            "gridcolor": "white",
            "linecolor": "white",
            "ticks": ""
           }
          },
          "title": {
           "x": 0.05
          },
          "xaxis": {
           "automargin": true,
           "gridcolor": "white",
           "linecolor": "white",
           "ticks": "",
           "title": {
            "standoff": 15
           },
           "zerolinecolor": "white",
           "zerolinewidth": 2
          },
          "yaxis": {
           "automargin": true,
           "gridcolor": "white",
           "linecolor": "white",
           "ticks": "",
           "title": {
            "standoff": 15
           },
           "zerolinecolor": "white",
           "zerolinewidth": 2
          }
         }
        },
        "title": {
         "font": {
          "color": "white",
          "family": "Sans-Serif",
          "size": 20
         },
         "text": "",
         "x": 0.5,
         "xanchor": "center",
         "y": 0.99,
         "yanchor": "top"
        }
       }
      }
     },
     "metadata": {},
     "output_type": "display_data"
    }
   ],
   "source": [
    "# Set size\n",
    "df['size'] = 1\n",
    "\n",
    "# Create figure data\n",
    "data = px.scatter_geo(df,\n",
    "    lat='lat', \n",
    "    lon='lon',\n",
    "    text='id',\n",
    "    color='family',\n",
    "    color_discrete_sequence=color_scheme,\n",
    "    size_max = max_marker_size,\n",
    "    size = 'size',\n",
    "    opacity = opacity,\n",
    "    hover_name='id',\n",
    "    hover_data={'species':True, 'family':True, 'region of origin':True, 'Arabic':True, 'ar transliteration':True, 'Chinese':True, 'pinyin':True, 'lon':False, 'lat':False, 'size':False}, #'spreadability':':.2f', \n",
    "    labels={\"group\": \"category\"}\n",
    "    )\n",
    "\n",
    "# Save figure data\n",
    "fig = data\n",
    "\n",
    "###################################################\n",
    "# Interactive visualization (HTML/JSON) for the web\n",
    "\n",
    "# Call the orthographic traces and layout settings from above\n",
    "fig.update_traces(ortho_traces)\n",
    "fig.update_layout(ortho_layout)\n",
    "# fig.update_layout(title_text = \"Title\")\n",
    "\n",
    "# Add copyrigth\n",
    "fig.update_layout(annotations=[cr])\n",
    "\n",
    "# Show figure\n",
    "fig.show()\n",
    "\n",
    "# Write interactive visualization (HTML/JSON) for the web\n",
    "filename = \"test\"\n",
    "# fig.write_html(path_out_html + filename + \".html\")\n",
    "fig.write_json(path_out_json + filename + \".json\", validate=True, pretty=True)\n",
    "\n",
    "###################################################\n",
    "# Image (PNG/PDF) for documents\n",
    "\n",
    "# Call figure data\n",
    "# fig = data\n",
    "\n",
    "# Call the orthographic traces and layout settings from above\n",
    "# fig.update_traces(ortho_traces)\n",
    "# fig.update_layout(ortho_layout)\n",
    "# fig.update_layout(geo=dict(projection_rotation = {'lat': 20, 'lon': 80, 'roll': 0}))\n",
    "# fig.update_layout(document_size)\n",
    "\n",
    "# Show figure\n",
    "# fig.show()\n",
    "\n",
    "# filename = \"test\"\n",
    "# fig.write_image(path_out_png + filename + \".png\", scale=3)\n",
    "# fig.write_image(filename + \".pdf\", engine=\"kaleido\")\n"
   ]
  },
  {
   "cell_type": "code",
   "execution_count": 23,
   "metadata": {},
   "outputs": [],
   "source": [
    "# Move files to the website folder\n",
    "move_dir(path_out_json, website_json, \"*.json\")"
   ]
  },
  {
   "cell_type": "markdown",
   "metadata": {},
   "source": [
    "# Note"
   ]
  },
  {
   "cell_type": "code",
   "execution_count": 24,
   "metadata": {},
   "outputs": [
    {
     "data": {
      "text/html": [
       "<div>\n",
       "<style scoped>\n",
       "    .dataframe tbody tr th:only-of-type {\n",
       "        vertical-align: middle;\n",
       "    }\n",
       "\n",
       "    .dataframe tbody tr th {\n",
       "        vertical-align: top;\n",
       "    }\n",
       "\n",
       "    .dataframe thead th {\n",
       "        text-align: right;\n",
       "    }\n",
       "</style>\n",
       "<table border=\"1\" class=\"dataframe\">\n",
       "  <thead>\n",
       "    <tr style=\"text-align: right;\">\n",
       "      <th></th>\n",
       "      <th>iata</th>\n",
       "      <th>airport</th>\n",
       "      <th>city</th>\n",
       "      <th>state</th>\n",
       "      <th>country</th>\n",
       "      <th>lat</th>\n",
       "      <th>long</th>\n",
       "      <th>cnt</th>\n",
       "    </tr>\n",
       "  </thead>\n",
       "  <tbody>\n",
       "    <tr>\n",
       "      <th>0</th>\n",
       "      <td>ORD</td>\n",
       "      <td>Chicago O'Hare International</td>\n",
       "      <td>Chicago</td>\n",
       "      <td>IL</td>\n",
       "      <td>USA</td>\n",
       "      <td>41.979595</td>\n",
       "      <td>-87.904464</td>\n",
       "      <td>25129</td>\n",
       "    </tr>\n",
       "    <tr>\n",
       "      <th>1</th>\n",
       "      <td>ATL</td>\n",
       "      <td>William B Hartsfield-Atlanta Intl</td>\n",
       "      <td>Atlanta</td>\n",
       "      <td>GA</td>\n",
       "      <td>USA</td>\n",
       "      <td>33.640444</td>\n",
       "      <td>-84.426944</td>\n",
       "      <td>21925</td>\n",
       "    </tr>\n",
       "    <tr>\n",
       "      <th>2</th>\n",
       "      <td>DFW</td>\n",
       "      <td>Dallas-Fort Worth International</td>\n",
       "      <td>Dallas-Fort Worth</td>\n",
       "      <td>TX</td>\n",
       "      <td>USA</td>\n",
       "      <td>32.895951</td>\n",
       "      <td>-97.037200</td>\n",
       "      <td>20662</td>\n",
       "    </tr>\n",
       "    <tr>\n",
       "      <th>3</th>\n",
       "      <td>PHX</td>\n",
       "      <td>Phoenix Sky Harbor International</td>\n",
       "      <td>Phoenix</td>\n",
       "      <td>AZ</td>\n",
       "      <td>USA</td>\n",
       "      <td>33.434167</td>\n",
       "      <td>-112.008056</td>\n",
       "      <td>17290</td>\n",
       "    </tr>\n",
       "    <tr>\n",
       "      <th>4</th>\n",
       "      <td>DEN</td>\n",
       "      <td>Denver Intl</td>\n",
       "      <td>Denver</td>\n",
       "      <td>CO</td>\n",
       "      <td>USA</td>\n",
       "      <td>39.858408</td>\n",
       "      <td>-104.667002</td>\n",
       "      <td>13781</td>\n",
       "    </tr>\n",
       "  </tbody>\n",
       "</table>\n",
       "</div>"
      ],
      "text/plain": [
       "  iata                            airport               city state country  \\\n",
       "0  ORD       Chicago O'Hare International            Chicago    IL     USA   \n",
       "1  ATL  William B Hartsfield-Atlanta Intl            Atlanta    GA     USA   \n",
       "2  DFW    Dallas-Fort Worth International  Dallas-Fort Worth    TX     USA   \n",
       "3  PHX   Phoenix Sky Harbor International            Phoenix    AZ     USA   \n",
       "4  DEN                        Denver Intl             Denver    CO     USA   \n",
       "\n",
       "         lat        long    cnt  \n",
       "0  41.979595  -87.904464  25129  \n",
       "1  33.640444  -84.426944  21925  \n",
       "2  32.895951  -97.037200  20662  \n",
       "3  33.434167 -112.008056  17290  \n",
       "4  39.858408 -104.667002  13781  "
      ]
     },
     "execution_count": 24,
     "metadata": {},
     "output_type": "execute_result"
    }
   ],
   "source": [
    "df_airports = pd.read_csv('https://raw.githubusercontent.com/plotly/datasets/master/2011_february_us_airport_traffic.csv')\n",
    "df_airports.head()\n"
   ]
  },
  {
   "cell_type": "code",
   "execution_count": 31,
   "metadata": {},
   "outputs": [
    {
     "data": {
      "text/html": [
       "<div>\n",
       "<style scoped>\n",
       "    .dataframe tbody tr th:only-of-type {\n",
       "        vertical-align: middle;\n",
       "    }\n",
       "\n",
       "    .dataframe tbody tr th {\n",
       "        vertical-align: top;\n",
       "    }\n",
       "\n",
       "    .dataframe thead th {\n",
       "        text-align: right;\n",
       "    }\n",
       "</style>\n",
       "<table border=\"1\" class=\"dataframe\">\n",
       "  <thead>\n",
       "    <tr style=\"text-align: right;\">\n",
       "      <th></th>\n",
       "      <th>start_lat</th>\n",
       "      <th>start_lon</th>\n",
       "      <th>end_lat</th>\n",
       "      <th>end_lon</th>\n",
       "      <th>airline</th>\n",
       "      <th>airport1</th>\n",
       "      <th>airport2</th>\n",
       "      <th>cnt</th>\n",
       "    </tr>\n",
       "  </thead>\n",
       "  <tbody>\n",
       "    <tr>\n",
       "      <th>0</th>\n",
       "      <td>32.895951</td>\n",
       "      <td>-97.037200</td>\n",
       "      <td>35.040222</td>\n",
       "      <td>-106.609194</td>\n",
       "      <td>AA</td>\n",
       "      <td>DFW</td>\n",
       "      <td>ABQ</td>\n",
       "      <td>444</td>\n",
       "    </tr>\n",
       "    <tr>\n",
       "      <th>1</th>\n",
       "      <td>41.979595</td>\n",
       "      <td>-87.904464</td>\n",
       "      <td>30.194533</td>\n",
       "      <td>-97.669872</td>\n",
       "      <td>AA</td>\n",
       "      <td>ORD</td>\n",
       "      <td>AUS</td>\n",
       "      <td>166</td>\n",
       "    </tr>\n",
       "    <tr>\n",
       "      <th>2</th>\n",
       "      <td>32.895951</td>\n",
       "      <td>-97.037200</td>\n",
       "      <td>41.938874</td>\n",
       "      <td>-72.683228</td>\n",
       "      <td>AA</td>\n",
       "      <td>DFW</td>\n",
       "      <td>BDL</td>\n",
       "      <td>162</td>\n",
       "    </tr>\n",
       "    <tr>\n",
       "      <th>3</th>\n",
       "      <td>18.439417</td>\n",
       "      <td>-66.001833</td>\n",
       "      <td>41.938874</td>\n",
       "      <td>-72.683228</td>\n",
       "      <td>AA</td>\n",
       "      <td>SJU</td>\n",
       "      <td>BDL</td>\n",
       "      <td>56</td>\n",
       "    </tr>\n",
       "    <tr>\n",
       "      <th>4</th>\n",
       "      <td>32.895951</td>\n",
       "      <td>-97.037200</td>\n",
       "      <td>33.562943</td>\n",
       "      <td>-86.753550</td>\n",
       "      <td>AA</td>\n",
       "      <td>DFW</td>\n",
       "      <td>BHM</td>\n",
       "      <td>168</td>\n",
       "    </tr>\n",
       "    <tr>\n",
       "      <th>...</th>\n",
       "      <td>...</td>\n",
       "      <td>...</td>\n",
       "      <td>...</td>\n",
       "      <td>...</td>\n",
       "      <td>...</td>\n",
       "      <td>...</td>\n",
       "      <td>...</td>\n",
       "      <td>...</td>\n",
       "    </tr>\n",
       "    <tr>\n",
       "      <th>173</th>\n",
       "      <td>25.793250</td>\n",
       "      <td>-80.290556</td>\n",
       "      <td>27.975472</td>\n",
       "      <td>-82.533250</td>\n",
       "      <td>AA</td>\n",
       "      <td>MIA</td>\n",
       "      <td>TPA</td>\n",
       "      <td>298</td>\n",
       "    </tr>\n",
       "    <tr>\n",
       "      <th>174</th>\n",
       "      <td>41.979595</td>\n",
       "      <td>-87.904464</td>\n",
       "      <td>27.975472</td>\n",
       "      <td>-82.533250</td>\n",
       "      <td>AA</td>\n",
       "      <td>ORD</td>\n",
       "      <td>TPA</td>\n",
       "      <td>150</td>\n",
       "    </tr>\n",
       "    <tr>\n",
       "      <th>175</th>\n",
       "      <td>18.439417</td>\n",
       "      <td>-66.001833</td>\n",
       "      <td>27.975472</td>\n",
       "      <td>-82.533250</td>\n",
       "      <td>AA</td>\n",
       "      <td>SJU</td>\n",
       "      <td>TPA</td>\n",
       "      <td>56</td>\n",
       "    </tr>\n",
       "    <tr>\n",
       "      <th>176</th>\n",
       "      <td>32.895951</td>\n",
       "      <td>-97.037200</td>\n",
       "      <td>36.198372</td>\n",
       "      <td>-95.888242</td>\n",
       "      <td>AA</td>\n",
       "      <td>DFW</td>\n",
       "      <td>TUL</td>\n",
       "      <td>390</td>\n",
       "    </tr>\n",
       "    <tr>\n",
       "      <th>177</th>\n",
       "      <td>32.895951</td>\n",
       "      <td>-97.037200</td>\n",
       "      <td>32.116083</td>\n",
       "      <td>-110.941028</td>\n",
       "      <td>AA</td>\n",
       "      <td>DFW</td>\n",
       "      <td>TUS</td>\n",
       "      <td>419</td>\n",
       "    </tr>\n",
       "  </tbody>\n",
       "</table>\n",
       "<p>178 rows × 8 columns</p>\n",
       "</div>"
      ],
      "text/plain": [
       "     start_lat  start_lon    end_lat     end_lon airline airport1 airport2  \\\n",
       "0    32.895951 -97.037200  35.040222 -106.609194      AA      DFW      ABQ   \n",
       "1    41.979595 -87.904464  30.194533  -97.669872      AA      ORD      AUS   \n",
       "2    32.895951 -97.037200  41.938874  -72.683228      AA      DFW      BDL   \n",
       "3    18.439417 -66.001833  41.938874  -72.683228      AA      SJU      BDL   \n",
       "4    32.895951 -97.037200  33.562943  -86.753550      AA      DFW      BHM   \n",
       "..         ...        ...        ...         ...     ...      ...      ...   \n",
       "173  25.793250 -80.290556  27.975472  -82.533250      AA      MIA      TPA   \n",
       "174  41.979595 -87.904464  27.975472  -82.533250      AA      ORD      TPA   \n",
       "175  18.439417 -66.001833  27.975472  -82.533250      AA      SJU      TPA   \n",
       "176  32.895951 -97.037200  36.198372  -95.888242      AA      DFW      TUL   \n",
       "177  32.895951 -97.037200  32.116083 -110.941028      AA      DFW      TUS   \n",
       "\n",
       "     cnt  \n",
       "0    444  \n",
       "1    166  \n",
       "2    162  \n",
       "3     56  \n",
       "4    168  \n",
       "..   ...  \n",
       "173  298  \n",
       "174  150  \n",
       "175   56  \n",
       "176  390  \n",
       "177  419  \n",
       "\n",
       "[178 rows x 8 columns]"
      ]
     },
     "execution_count": 31,
     "metadata": {},
     "output_type": "execute_result"
    }
   ],
   "source": [
    "df_flight_paths = pd.read_csv('https://raw.githubusercontent.com/plotly/datasets/master/2011_february_aa_flight_paths.csv')\n",
    "df_flight_paths.head()\n",
    "df_flight_paths"
   ]
  },
  {
   "cell_type": "code",
   "execution_count": 35,
   "metadata": {},
   "outputs": [],
   "source": [
    "fig = go.Figure()\n",
    "\n",
    "fig.add_trace(go.Scattergeo(\n",
    "    locationmode = 'USA-states',\n",
    "    lon = df_airports['long'],\n",
    "    lat = df_airports['lat'],\n",
    "    hoverinfo = 'text',\n",
    "    text = df_airports['airport'],\n",
    "    mode = 'markers',\n",
    "    marker = dict(\n",
    "        size = 3,\n",
    "        color = 'rgb(255, 0, 0)',\n",
    "        line = dict(\n",
    "            width = 3,\n",
    "            color = 'rgba(68, 68, 68, 0)'\n",
    "        )\n",
    "    )))\n",
    "\n",
    "# Initialize empty lists to contain latitudes and longitudes\n",
    "lons = []\n",
    "lats = []\n",
    "\n",
    "# \n",
    "lons = np.empty(3 * len(df_flight_paths))\n",
    "lons[::3] = df_flight_paths['start_lon']\n",
    "lons[1::3] = df_flight_paths['end_lon']\n",
    "lons[2::3] = None\n",
    "lats = np.empty(3 * len(df_flight_paths))\n",
    "lats[::3] = df_flight_paths['start_lat']\n",
    "lats[1::3] = df_flight_paths['end_lat']\n",
    "lats[2::3] = None\n"
   ]
  },
  {
   "cell_type": "code",
   "execution_count": 36,
   "metadata": {},
   "outputs": [
    {
     "data": {
      "text/plain": [
       "array([ -97.0372    , -106.6091944 ,           nan,  -87.90446417,\n",
       "        -97.66987194,           nan,  -97.0372    ,  -72.68322833,\n",
       "                 nan,  -66.00183333,  -72.68322833,           nan,\n",
       "        -97.0372    ,  -86.75354972,           nan,  -80.29055556,\n",
       "        -86.67818222,           nan,  -97.0372    ,  -71.00517917,\n",
       "                 nan,  -80.29055556,  -71.00517917,           nan,\n",
       "        -87.90446417,  -71.00517917,           nan,  -66.00183333,\n",
       "        -71.00517917,           nan,  -64.97336111,  -71.00517917,\n",
       "                 nan,  -80.29055556,  -76.66819833,           nan,\n",
       "        -66.00183333,  -76.66819833,           nan,  -97.0372    ,\n",
       "        -80.94312583,           nan,  -97.0372    , -104.70025   ,\n",
       "                 nan,  -97.0372    ,  -84.219375  ,           nan,\n",
       "        -97.0372    ,  -77.03772222,           nan,  -80.29055556,\n",
       "       -104.6670019 ,           nan,  -87.90446417, -104.6670019 ,\n",
       "                 nan,  -84.42694444,  -97.0372    ,           nan,\n",
       "        -97.66987194,  -97.0372    ,           nan,  -86.67818222,\n",
       "        -97.0372    ,           nan, -118.3584969 ,  -97.0372    ,\n",
       "                 nan,  -76.66819833,  -97.0372    ,           nan,\n",
       "        -82.89188278,  -97.0372    ,           nan, -104.6670019 ,\n",
       "        -97.0372    ,           nan,  -83.34883583,  -97.0372    ,\n",
       "                 nan, -106.9176953 ,  -97.0372    ,           nan,\n",
       "        -74.16866056,  -97.0372    ,           nan, -119.7181389 ,\n",
       "        -97.0372    ,           nan,  -80.15275   ,  -97.0372    ,\n",
       "                 nan,  -86.77310944,  -97.0372    ,           nan,\n",
       "        -95.33972222,  -97.0372    ,           nan, -118.4080744 ,\n",
       "        -97.0372    ,           nan,  -94.71390556,  -97.0372    ,\n",
       "                 nan,  -81.31602778,  -97.0372    ,           nan,\n",
       "        -89.97666667,  -97.0372    ,           nan,  -98.23861111,\n",
       "        -97.0372    ,           nan,  -80.29055556,  -97.0372    ,\n",
       "                 nan,  -93.2169225 ,  -97.0372    ,           nan,\n",
       "       -107.8938333 ,  -97.0372    ,           nan, -156.4304578 ,\n",
       "        -97.0372    ,           nan,  -97.60073389,  -97.0372    ,\n",
       "                 nan,  -95.89417306,  -97.0372    ,           nan,\n",
       "        -87.90446417,  -97.0372    ,           nan,  -75.24114083,\n",
       "        -97.0372    ,           nan, -112.0080556 ,  -97.0372    ,\n",
       "                 nan,  -77.31966667,  -97.0372    ,           nan,\n",
       "       -119.7680647 ,  -97.0372    ,           nan, -117.1896567 ,\n",
       "        -97.0372    ,           nan,  -98.46977778,  -97.0372    ,\n",
       "                 nan,  -85.736     ,  -97.0372    ,           nan,\n",
       "       -122.3748433 ,  -97.0372    ,           nan, -121.9290089 ,\n",
       "        -97.0372    ,           nan, -111.9777731 ,  -97.0372    ,\n",
       "                 nan,  -90.35998972,  -97.0372    ,           nan,\n",
       "        -94.30681111,  -97.0372    ,           nan,  -80.29055556,\n",
       "        -83.34883583,           nan,  -73.87260917, -106.9176953 ,\n",
       "                 nan,  -87.90446417, -106.9176953 ,           nan,\n",
       "        -97.0372    , -106.3778056 ,           nan, -118.4080744 ,\n",
       "        -74.16866056,           nan,  -80.29055556,  -74.16866056,\n",
       "                 nan,  -73.77892556,  -80.15275   ,           nan,\n",
       "        -97.0372    , -107.2176597 ,           nan,  -97.0372    ,\n",
       "       -157.9224072 ,           nan, -118.4080744 , -157.9224072 ,\n",
       "                 nan,  -97.0372    ,  -77.45580972,           nan,\n",
       "       -118.4080744 ,  -77.45580972,           nan,  -80.29055556,\n",
       "        -77.45580972,           nan,  -80.29055556,  -95.33972222,\n",
       "                 nan,  -97.0372    ,  -97.43304583,           nan,\n",
       "        -97.0372    ,  -86.29438417,           nan,  -97.0372    ,\n",
       "       -110.7377389 ,           nan,  -97.0372    ,  -81.68786111,\n",
       "                 nan,  -97.66987194,  -73.77892556,           nan,\n",
       "        -97.0372    ,  -73.77892556,           nan, -106.9176953 ,\n",
       "        -73.77892556,           nan,  -81.31602778,  -73.77892556,\n",
       "                 nan,  -80.29055556,  -73.77892556,           nan,\n",
       "       -122.3093131 ,  -73.77892556,           nan, -122.3748433 ,\n",
       "        -73.77892556,           nan,  -64.97336111,  -73.77892556,\n",
       "                 nan,  -82.53325   ,  -73.77892556,           nan,\n",
       "        -97.0372    , -115.1523333 ,           nan,  -73.77892556,\n",
       "       -115.1523333 ,           nan, -118.4080744 , -115.1523333 ,\n",
       "                 nan,  -87.90446417, -115.1523333 ,           nan,\n",
       "        -97.66987194, -118.4080744 ,           nan,  -86.67818222,\n",
       "       -118.4080744 ,           nan,  -71.00517917, -118.4080744 ,\n",
       "                 nan, -106.9176953 , -118.4080744 ,           nan,\n",
       "        -73.77892556, -118.4080744 ,           nan, -156.0456314 ,\n",
       "       -118.4080744 ,           nan, -156.4304578 , -118.4080744 ,\n",
       "                 nan,  -87.90446417, -118.4080744 ,           nan,\n",
       "        -90.35998972, -118.4080744 ,           nan,  -86.67818222,\n",
       "        -73.87260917,           nan,  -97.0372    ,  -73.87260917,\n",
       "                 nan,  -90.35998972,  -73.87260917,           nan,\n",
       "       -118.4080744 , -159.3389581 ,           nan, -118.4080744 ,\n",
       "        -81.31602778,           nan,  -80.29055556,  -81.31602778,\n",
       "                 nan,  -84.42694444,  -80.29055556,           nan,\n",
       "        -72.68322833,  -80.29055556,           nan,  -77.03772222,\n",
       "        -80.29055556,           nan, -106.9176953 ,  -80.29055556,\n",
       "                 nan, -115.1523333 ,  -80.29055556,           nan,\n",
       "       -118.4080744 ,  -80.29055556,           nan,  -73.87260917,\n",
       "        -80.29055556,           nan,  -93.2169225 ,  -80.29055556,\n",
       "                 nan,  -87.90446417,  -80.29055556,           nan,\n",
       "        -75.24114083,  -80.29055556,           nan, -112.0080556 ,\n",
       "        -80.29055556,           nan, -122.3748433 ,  -80.29055556,\n",
       "                 nan,  -66.00183333,  -80.29055556,           nan,\n",
       "        -95.88824167,  -80.29055556,           nan,  -87.90446417,\n",
       "        -93.2169225 ,           nan,  -97.0372    ,  -90.25802778,\n",
       "                 nan,  -80.29055556,  -90.25802778,           nan,\n",
       "        -87.90446417,  -90.25802778,           nan,  -97.0372    ,\n",
       "       -117.6011944 ,           nan,  -77.03772222,  -87.90446417,\n",
       "                 nan,  -74.16866056,  -87.90446417,           nan,\n",
       "        -80.15275   ,  -87.90446417,           nan, -107.2176597 ,\n",
       "        -87.90446417,           nan, -157.9224072 ,  -87.90446417,\n",
       "                 nan, -110.7377389 ,  -87.90446417,           nan,\n",
       "        -73.77892556,  -87.90446417,           nan,  -73.87260917,\n",
       "        -87.90446417,           nan,  -94.71390556,  -87.90446417,\n",
       "                 nan,  -81.31602778,  -87.90446417,           nan,\n",
       "        -78.78747222,  -87.90446417,           nan, -119.7680647 ,\n",
       "        -87.90446417,           nan, -117.1896567 ,  -87.90446417,\n",
       "                 nan,  -98.46977778,  -87.90446417,           nan,\n",
       "       -121.9290089 ,  -87.90446417,           nan,  -66.00183333,\n",
       "        -87.90446417,           nan,  -90.35998972,  -87.90446417,\n",
       "                 nan,  -95.88824167,  -87.90446417,           nan,\n",
       "       -110.9410278 ,  -87.90446417,           nan,  -97.0372    ,\n",
       "        -76.20122222,           nan,  -97.0372    ,  -80.09559417,\n",
       "                 nan,  -87.90446417,  -80.09559417,           nan,\n",
       "        -97.0372    , -122.5975    ,           nan,  -87.90446417,\n",
       "        -75.24114083,           nan,  -66.00183333,  -75.24114083,\n",
       "                 nan,  -87.90446417, -112.0080556 ,           nan,\n",
       "        -97.0372    ,  -80.23287083,           nan,  -97.0372    ,\n",
       "       -116.5062531 ,           nan,  -87.90446417, -116.5062531 ,\n",
       "                 nan,  -97.0372    ,  -78.78747222,           nan,\n",
       "        -80.29055556,  -78.78747222,           nan,  -97.0372    ,\n",
       "        -81.75516667,           nan,  -87.90446417,  -81.75516667,\n",
       "                 nan,  -73.77892556, -117.1896567 ,           nan,\n",
       "        -97.0372    , -122.3093131 ,           nan,  -87.90446417,\n",
       "       -122.3093131 ,           nan, -157.9224072 , -122.3748433 ,\n",
       "                 nan, -118.4080744 , -122.3748433 ,           nan,\n",
       "        -87.90446417, -122.3748433 ,           nan,  -97.0372    ,\n",
       "        -66.00183333,           nan,  -77.45580972,  -66.00183333,\n",
       "                 nan,  -73.77892556,  -66.00183333,           nan,\n",
       "       -118.4080744 ,  -66.00183333,           nan,  -97.0372    ,\n",
       "       -121.5907669 ,           nan,  -97.0372    , -117.8682225 ,\n",
       "                 nan,  -87.90446417, -117.8682225 ,           nan,\n",
       "        -77.03772222,  -90.35998972,           nan,  -80.29055556,\n",
       "        -90.35998972,           nan,  -80.29055556,  -64.97336111,\n",
       "                 nan,  -80.29055556,  -64.79855556,           nan,\n",
       "        -97.0372    ,  -82.53325   ,           nan,  -80.29055556,\n",
       "        -82.53325   ,           nan,  -87.90446417,  -82.53325   ,\n",
       "                 nan,  -66.00183333,  -82.53325   ,           nan,\n",
       "        -97.0372    ,  -95.88824167,           nan,  -97.0372    ,\n",
       "       -110.9410278 ,           nan])"
      ]
     },
     "execution_count": 36,
     "metadata": {},
     "output_type": "execute_result"
    }
   ],
   "source": [
    "lons"
   ]
  },
  {
   "cell_type": "code",
   "execution_count": 37,
   "metadata": {},
   "outputs": [
    {
     "data": {
      "application/vnd.plotly.v1+json": {
       "config": {
        "plotlyServerURL": "https://plot.ly"
       },
       "data": [
        {
         "hoverinfo": "text",
         "lat": [
          41.979595,
          33.64044444,
          32.89595056,
          33.43416667,
          39.85840806,
          29.98047222,
          37.61900194,
          33.94253611,
          28.42888889,
          35.21401111,
          40.78838778,
          27.97547222,
          40.69249722,
          36.08036111,
          39.87195278,
          44.88054694,
          47.44898194,
          40.77724306,
          41.7859825,
          38.94453194,
          32.73355611,
          38.74768694,
          42.21205889,
          40.63975111,
          25.79325,
          42.3643475,
          38.69542167,
          39.17540167,
          33.67565861,
          29.99338889,
          37.36186194,
          38.85208333,
          45.58872222,
          26.53616667,
          26.68316194,
          35.87763889,
          29.64541861,
          29.53369444,
          26.07258333,
          39.29760528,
          37.72129083,
          40.49146583,
          35.04241667,
          42.94722222,
          41.41089417,
          30.49405556,
          32.11608333,
          39.71732917,
          39.49857611,
          35.39308833,
          41.72399917,
          36.19837222,
          39.04614278,
          39.99798528,
          38.17438889,
          34.056,
          34.72939611,
          32.84711389,
          41.30251861,
          36.89461111,
          39.90237583,
          43.11886611,
          36.28186944,
          36.12447667,
          35.04022222,
          32.31116667,
          31.80666667,
          37.50516667,
          41.93887417,
          31.94252778,
          30.53316083,
          35.81248722,
          38.80580556,
          30.47330556,
          43.11118694,
          33.56294306,
          42.93451639,
          33.82921556,
          27.39533333,
          27.77036083,
          34.6404475,
          33.93884,
          30.20527972,
          34.42621194,
          47.61985556,
          30.69141667,
          37.64995889,
          42.94052472,
          41.53493306,
          40.19349528,
          43.64616667,
          32.30064417,
          37.13189556,
          41.06695778,
          36.5869825,
          42.88081972,
          30.448674,
          32.65658333,
          39.22316,
          30.39652778,
          30.40728028,
          44.04532139,
          33.81772222,
          34.27061111,
          38.03697222,
          43.13985778,
          44.12326,
          32.12758333,
          33.66363889,
          41.88458833,
          34.89566722,
          36.09774694,
          40.7952425,
          41.44852639,
          35.43619444,
          40.91631194,
          40.47798556,
          26.22850611,
          30.48325,
          32.4466275,
          46.91934889,
          40.48118028,
          42.37422778,
          40.66424333,
          27.54373861,
          30.19453278,
          32.41132,
          37.24432611,
          42.96550333,
          36.47521417,
          31.06489778,
          32.89864639,
          44.48507333,
          44.25406722,
          32.51633333,
          41.70895361,
          43.56444444,
          33.67975,
          48.25937778,
          40.03925,
          37.32546833,
          39.64256778,
          43.60732417,
          45.77690139,
          39.1224125,
          34.20061917,
          38.03799139,
          38.53396333,
          43.51455556,
          36.77619444,
          39.84395194,
          26.17583333,
          40.50898361,
          47.949255,
          43.58135111,
          42.48180389,
          34.89924833,
          42.91130556,
          31.32133917,
          34.82916444,
          38.50886722,
          46.77411111,
          42.90835556,
          44.74144472,
          32.51086556,
          46.26468028,
          39.14096722,
          31.32737167,
          43.41713889,
          35.61677778,
          42.15614361,
          41.50409361,
          38.13863889,
          30.7825,
          44.77761917,
          35.65884306,
          40.97811528,
          31.25902778,
          40.85097222,
          40.97846583,
          44.52019417,
          37.06083333,
          35.23705806,
          41.33814944,
          33.45033444,
          44.34889806,
          35.07297222,
          33.369955,
          35.33659028,
          32.35413889,
          46.60681806,
          47.48200194,
          32.33313333,
          46.353639,
          37.95375861,
          35.03526833,
          46.37449806,
          37.70097028,
          42.74811944,
          44.47300361,
          48.31140472,
          28.10275,
          29.17991667,
          40.65236278,
          46.84209028,
          41.1557225,
          41.5942175,
          37.85830556,
          38.37315083,
          48.79275,
          37.62404861,
          44.25740806,
          36.385913,
          27.91076333,
          33.98879611,
          34.99147222,
          44.86525722,
          42.40295944,
          43.90882639,
          34.681499,
          45.8076625
         ],
         "locationmode": "USA-states",
         "lon": [
          -87.90446417,
          -84.42694444,
          -97.0372,
          -112.0080556,
          -104.6670019,
          -95.33972222,
          -122.3748433,
          -118.4080744,
          -81.31602778,
          -80.94312583,
          -111.9777731,
          -82.53325,
          -74.16866056,
          -115.1523333,
          -75.24114083,
          -93.2169225,
          -122.3093131,
          -73.87260917,
          -87.75242444,
          -77.45580972,
          -117.1896567,
          -90.35998972,
          -83.34883583,
          -73.77892556,
          -80.29055556,
          -71.00517917,
          -121.5907669,
          -76.66819833,
          -117.8682225,
          -90.25802778,
          -121.9290089,
          -77.03772222,
          -122.5975,
          -81.75516667,
          -80.09559417,
          -78.78747222,
          -95.27888889,
          -98.46977778,
          -80.15275,
          -94.71390556,
          -122.2207167,
          -80.23287083,
          -89.97666667,
          -87.89658333,
          -81.84939667,
          -81.68786111,
          -110.9410278,
          -86.29438417,
          -119.7680647,
          -97.60073389,
          -71.42822111,
          -95.88824167,
          -84.6621725,
          -82.89188278,
          -85.736,
          -117.6011944,
          -92.22424556,
          -96.85177222,
          -95.89417306,
          -76.20122222,
          -84.219375,
          -77.67238389,
          -94.30681111,
          -86.67818222,
          -106.6091944,
          -90.07588889,
          -106.3778056,
          -77.31966667,
          -72.68322833,
          -102.2019139,
          -91.14963444,
          -83.99285583,
          -104.70025,
          -87.18744444,
          -76.10631056,
          -86.75354972,
          -71.43705583,
          -116.5062531,
          -82.55411111,
          -97.50121528,
          -86.77310944,
          -81.11953944,
          -91.987655,
          -119.8403733,
          -117.5338425,
          -88.24283333,
          -97.43304583,
          -78.73216667,
          -93.66068222,
          -76.76340361,
          -70.30875,
          -86.39397611,
          -76.4929875,
          -73.70757444,
          -121.8429478,
          -85.52276778,
          -84.550781,
          -114.6059722,
          -106.868845,
          -84.35033333,
          -89.07009278,
          -103.0573708,
          -118.1516111,
          -77.90255556,
          -84.60538889,
          -89.33751361,
          -123.2186856,
          -81.20213889,
          -101.8227778,
          -91.71087222,
          -82.21885833,
          -79.9372975,
          -73.10021194,
          -90.50753917,
          -82.54180556,
          -81.44246556,
          -88.91595278,
          -97.65439389,
          -86.5254,
          -93.82559833,
          -96.81498889,
          -107.2176597,
          -122.8734978,
          -89.69330556,
          -99.46154361,
          -97.66987194,
          -99.68189722,
          -93.38685806,
          -83.74345639,
          -82.40742056,
          -97.82779778,
          -80.04050583,
          -88.12959,
          -121.1499633,
          -84.93886111,
          -86.31847417,
          -116.2227778,
          -78.92833333,
          -101.2803339,
          -88.27805556,
          -79.97542833,
          -106.9176953,
          -110.7377389,
          -111.1530072,
          -108.5267347,
          -118.3584969,
          -87.53062667,
          -106.9331817,
          -112.0701667,
          -119.7181389,
          -89.67761861,
          -98.23861111,
          -122.2934019,
          -97.17611111,
          -96.74170028,
          -114.4877356,
          -120.4575825,
          -112.5958611,
          -85.44962889,
          -77.61213778,
          -107.8938333,
          -100.7467222,
          -106.4644661,
          -85.582235,
          -92.03768778,
          -119.1190292,
          -96.67083278,
          -92.54855611,
          -124.2460278,
          -106.0881389,
          -121.7332081,
          -74.10483833,
          -78.45286111,
          -83.27672222,
          -89.66677944,
          -117.8295122,
          -124.1086189,
          -81.46630556,
          -96.75925,
          -85.19514639,
          -109.0237961,
          -88.77375,
          -120.6423931,
          -75.7242675,
          -88.59136861,
          -105.5393614,
          -77.04294444,
          -81.96449611,
          -94.36744111,
          -95.40238611,
          -111.9827503,
          -111.3706853,
          -88.75120556,
          -87.395361,
          -107.90848,
          -85.20378778,
          -117.0153944,
          -113.098575,
          -73.80297861,
          -73.1503125,
          -114.2550694,
          -80.64580556,
          -81.05805556,
          -75.44040167,
          -92.19364861,
          -104.8118381,
          -109.0651928,
          -80.39947222,
          -81.59318972,
          -122.5375278,
          -118.8377722,
          -88.51947556,
          -92.548828,
          -82.68743944,
          -98.49189333,
          -78.88,
          -91.48507194,
          -90.70916722,
          -92.49798722,
          -90.348816,
          -108.5428611
         ],
         "marker": {
          "color": "rgb(255, 0, 0)",
          "line": {
           "color": "rgba(68, 68, 68, 0)",
           "width": 3
          },
          "size": 3
         },
         "mode": "markers",
         "text": [
          "Chicago O'Hare International",
          "William B Hartsfield-Atlanta Intl",
          "Dallas-Fort Worth International",
          "Phoenix Sky Harbor International",
          "Denver Intl",
          "George Bush Intercontinental",
          "San Francisco International",
          "Los Angeles International",
          "Orlando International",
          "Charlotte/Douglas International",
          "Salt Lake City Intl",
          "Tampa International ",
          "Newark Intl",
          "McCarran International",
          "Philadelphia Intl",
          "Minneapolis-St Paul Intl",
          "Seattle-Tacoma Intl",
          "LaGuardia",
          "Chicago Midway",
          "Washington Dulles International",
          "San Diego International-Lindbergh ",
          "Lambert-St Louis International",
          "Detroit Metropolitan-Wayne County",
          "John F Kennedy Intl",
          "Miami International",
          "Gen Edw L Logan Intl",
          "Sacramento International",
          "Baltimore-Washington International",
          "John Wayne /Orange Co",
          "New Orleans International ",
          "San Jose International",
          "Ronald Reagan Washington National",
          "Portland Intl",
          "Southwest Florida International",
          "Palm Beach International",
          "Raleigh-Durham International",
          "William P Hobby",
          "San Antonio International",
          "Fort Lauderdale-Hollywood Int'l",
          "Kansas City International",
          "Metropolitan Oakland International",
          "Pittsburgh International",
          "Memphis International",
          "General Mitchell International",
          "Cleveland-Hopkins Intl",
          "Jacksonville International",
          "Tucson International",
          "Indianapolis International",
          "Reno/Tahoe International",
          "Will Rogers World",
          "Theodore F Green State",
          "Tulsa International",
          "Cincinnati Northern Kentucky Intl",
          "Port Columbus Intl",
          "Louisville International-Standiford ",
          "Ontario International",
          "Adams ",
          "Dallas Love ",
          "Eppley Airfield",
          "Norfolk International",
          "James M Cox Dayton Intl",
          "Greater Rochester Int'l",
          "Northwest Arkansas Regional",
          "Nashville International",
          "Albuquerque International",
          "Jackson International",
          "El Paso International",
          "Richmond International",
          "Bradley International",
          "Midland International",
          "Baton Rouge Metropolitan, Ryan ",
          "McGhee-Tyson",
          "City of Colorado Springs Muni",
          "Pensacola Regional",
          "Syracuse-Hancock Intl",
          "Birmingham International",
          "Manchester",
          "Palm Springs International",
          "Sarasota Bradenton International",
          "Corpus Christi International",
          "Huntsville International ",
          "Columbia Metropolitan",
          "Lafayette Regional",
          "Santa Barbara Municipal",
          "Spokane Intl",
          "Mobile Regional",
          "Wichita Mid-Continent",
          "Buffalo Niagara Intl",
          "Des Moines International",
          "Harrisburg Intl",
          "Portland International Jetport",
          "Montgomery Regional Apt",
          "Newport News/Williamsburg International",
          "Westchester Cty",
          "Monterey Peninsula",
          "Kent County International",
          "Florida Beach",
          "Yuma MCAS-Yuma International",
          "Aspen-Pitkin Co/Sardy ",
          "Tallahassee Regional",
          "Gulfport-Biloxi Regional",
          "Rapid City Regional",
          "Long Beach (Daugherty )",
          "Wilmington International",
          "Blue Grass ",
          "Dane County Regional",
          "Mahlon Sweet ",
          "Savannah International",
          "Lubbock International",
          "Eastern Iowa ",
          "Greenville-Spartanburg",
          "Piedmont Triad International",
          "Long Island - MacArthur",
          "Quad City",
          "Asheville Regional",
          "Akron-Canton Regional",
          "Central Illinois Regional",
          "Valley International",
          "Eglin Air Force Base",
          "Shreveport Regional",
          "Hector International",
          "Yampa Valley",
          "Rogue Valley International",
          "Greater Peoria Regional",
          "Laredo International",
          "Austin-Bergstrom International",
          "Abilene Regional",
          "Springfield-Branson Regional",
          "Bishop",
          "Tri-Cities Regional",
          "Robert Gray AAF",
          "Charleston AFB/International",
          "Austin Straubel International",
          "Roberts ",
          "Columbus Metropolitan",
          "South Bend Regional",
          "Boise Air Terminal",
          "Myrtle Beach International",
          "Minot International",
          "University of Illinois-Willard",
          "Roanoke Regional/ Woodrum ",
          "Eagle County Regional",
          "Jackson Hole",
          "Gallatin ",
          "Walker ",
          "Burbank-Glendale-Pasadena",
          "Evansville Regional",
          "Gunnison County",
          "Idaho Falls Regional",
          "Fresno Yosemite International",
          "Capital",
          "McAllen Miller International",
          "Redding Municipal",
          "Grand Forks International",
          "Joe Foss ",
          "Joslin Field - Magic Valley",
          "Santa Maria Pub/Capt G Allan Hancock ",
          "Pocatello Regional",
          "Dothan ",
          "Albert J Ellis",
          "Montrose Regional",
          "Bismarck Municipal",
          "Natrona County Intl",
          "Cherry Capital",
          "Monroe Regional",
          "Tri-Cities",
          "Manhattan Regional",
          "Alexandria International",
          "North Bend Muni",
          "Santa Fe Municipal",
          "Klamath Falls International",
          "Stewart",
          "Charlottesville-Albermarle",
          "Valdosta Regional",
          "Central Wisconsin",
          "Inyokern",
          "Arcata",
          "Glynco Jetport",
          "Lincoln Municipal",
          "Fort Wayne International",
          "Yellowstone Regional",
          "Barkley Regional",
          "San Luis Obispo Co-McChesney ",
          "Wilkes-Barre/Scranton Intl",
          "Golden Triangle Regional",
          "Gillette-Campbell County",
          "Craven County Regional",
          "Bush ",
          "Fort Smith Regional",
          "Tyler Pounds ",
          "Helena Regional",
          "Great Falls Intl",
          "Key ",
          "Marquette County Airport",
          "Telluride Regional",
          "Lovell ",
          "Lewiston-Nez Perce County",
          "Cedar City Muni",
          "Albany Cty",
          "Burlington International",
          "Glacier Park Intl",
          "Melbourne International ",
          "Daytona Beach International",
          "Lehigh Valley International",
          "Duluth International",
          "Cheyenne",
          "Rock Springs-Sweetwater County",
          "Greenbrier Valley",
          "Yeager",
          "Bellingham Intl",
          "Mammoth Yosemite",
          "Outagamie County Regional",
          "Branson Airport",
          "St. Petersburg-Clearwater International",
          "Sheppard AFB/Wichita Falls Municipal",
          "Fayetteville Municipal",
          "Chippewa Valley Regional",
          "Dubuque Municipal",
          "Rochester International",
          "Tunica Municipal Airport",
          "Billings Logan Intl"
         ],
         "type": "scattergeo"
        },
        {
         "lat": [
          32.89595056,
          35.04022222,
          null,
          41.979595,
          30.19453278,
          null,
          32.89595056,
          41.93887417,
          null,
          18.43941667,
          41.93887417,
          null,
          32.89595056,
          33.56294306,
          null,
          25.79325,
          36.12447667,
          null,
          32.89595056,
          42.3643475,
          null,
          25.79325,
          42.3643475,
          null,
          41.979595,
          42.3643475,
          null,
          18.43941667,
          42.3643475,
          null,
          18.33730556,
          42.3643475,
          null,
          25.79325,
          39.17540167,
          null,
          18.43941667,
          39.17540167,
          null,
          32.89595056,
          35.21401111,
          null,
          32.89595056,
          38.80580556,
          null,
          32.89595056,
          39.90237583,
          null,
          32.89595056,
          38.85208333,
          null,
          25.79325,
          39.85840806,
          null,
          41.979595,
          39.85840806,
          null,
          33.64044444,
          32.89595056,
          null,
          30.19453278,
          32.89595056,
          null,
          36.12447667,
          32.89595056,
          null,
          34.20061917,
          32.89595056,
          null,
          39.17540167,
          32.89595056,
          null,
          39.99798528,
          32.89595056,
          null,
          39.85840806,
          32.89595056,
          null,
          42.21205889,
          32.89595056,
          null,
          39.64256778,
          32.89595056,
          null,
          40.69249722,
          32.89595056,
          null,
          36.77619444,
          32.89595056,
          null,
          26.07258333,
          32.89595056,
          null,
          34.6404475,
          32.89595056,
          null,
          29.98047222,
          32.89595056,
          null,
          33.94253611,
          32.89595056,
          null,
          39.29760528,
          32.89595056,
          null,
          28.42888889,
          32.89595056,
          null,
          35.04241667,
          32.89595056,
          null,
          26.17583333,
          32.89595056,
          null,
          25.79325,
          32.89595056,
          null,
          44.88054694,
          32.89595056,
          null,
          38.50886722,
          32.89595056,
          null,
          20.89864972,
          32.89595056,
          null,
          35.39308833,
          32.89595056,
          null,
          41.30251861,
          32.89595056,
          null,
          41.979595,
          32.89595056,
          null,
          39.87195278,
          32.89595056,
          null,
          33.43416667,
          32.89595056,
          null,
          37.50516667,
          32.89595056,
          null,
          39.49857611,
          32.89595056,
          null,
          32.73355611,
          32.89595056,
          null,
          29.53369444,
          32.89595056,
          null,
          38.17438889,
          32.89595056,
          null,
          37.61900194,
          32.89595056,
          null,
          37.36186194,
          32.89595056,
          null,
          40.78838778,
          32.89595056,
          null,
          38.74768694,
          32.89595056,
          null,
          36.28186944,
          32.89595056,
          null,
          25.79325,
          42.21205889,
          null,
          40.77724306,
          39.64256778,
          null,
          41.979595,
          39.64256778,
          null,
          32.89595056,
          31.80666667,
          null,
          33.94253611,
          40.69249722,
          null,
          25.79325,
          40.69249722,
          null,
          40.63975111,
          26.07258333,
          null,
          32.89595056,
          40.48118028,
          null,
          32.89595056,
          21.31869111,
          null,
          33.94253611,
          21.31869111,
          null,
          32.89595056,
          38.94453194,
          null,
          33.94253611,
          38.94453194,
          null,
          25.79325,
          38.94453194,
          null,
          25.79325,
          29.98047222,
          null,
          32.89595056,
          37.64995889,
          null,
          32.89595056,
          39.71732917,
          null,
          32.89595056,
          43.60732417,
          null,
          32.89595056,
          30.49405556,
          null,
          30.19453278,
          40.63975111,
          null,
          32.89595056,
          40.63975111,
          null,
          39.64256778,
          40.63975111,
          null,
          28.42888889,
          40.63975111,
          null,
          25.79325,
          40.63975111,
          null,
          47.44898194,
          40.63975111,
          null,
          37.61900194,
          40.63975111,
          null,
          18.33730556,
          40.63975111,
          null,
          27.97547222,
          40.63975111,
          null,
          32.89595056,
          36.08036111,
          null,
          40.63975111,
          36.08036111,
          null,
          33.94253611,
          36.08036111,
          null,
          41.979595,
          36.08036111,
          null,
          30.19453278,
          33.94253611,
          null,
          36.12447667,
          33.94253611,
          null,
          42.3643475,
          33.94253611,
          null,
          39.64256778,
          33.94253611,
          null,
          40.63975111,
          33.94253611,
          null,
          19.73876583,
          33.94253611,
          null,
          20.89864972,
          33.94253611,
          null,
          41.979595,
          33.94253611,
          null,
          38.74768694,
          33.94253611,
          null,
          36.12447667,
          40.77724306,
          null,
          32.89595056,
          40.77724306,
          null,
          38.74768694,
          40.77724306,
          null,
          33.94253611,
          21.97598306,
          null,
          33.94253611,
          28.42888889,
          null,
          25.79325,
          28.42888889,
          null,
          33.64044444,
          25.79325,
          null,
          41.93887417,
          25.79325,
          null,
          38.85208333,
          25.79325,
          null,
          39.64256778,
          25.79325,
          null,
          36.08036111,
          25.79325,
          null,
          33.94253611,
          25.79325,
          null,
          40.77724306,
          25.79325,
          null,
          44.88054694,
          25.79325,
          null,
          41.979595,
          25.79325,
          null,
          39.87195278,
          25.79325,
          null,
          33.43416667,
          25.79325,
          null,
          37.61900194,
          25.79325,
          null,
          18.43941667,
          25.79325,
          null,
          36.19837222,
          25.79325,
          null,
          41.979595,
          44.88054694,
          null,
          32.89595056,
          29.99338889,
          null,
          25.79325,
          29.99338889,
          null,
          41.979595,
          29.99338889,
          null,
          32.89595056,
          34.056,
          null,
          38.85208333,
          41.979595,
          null,
          40.69249722,
          41.979595,
          null,
          26.07258333,
          41.979595,
          null,
          40.48118028,
          41.979595,
          null,
          21.31869111,
          41.979595,
          null,
          43.60732417,
          41.979595,
          null,
          40.63975111,
          41.979595,
          null,
          40.77724306,
          41.979595,
          null,
          39.29760528,
          41.979595,
          null,
          28.42888889,
          41.979595,
          null,
          35.87763889,
          41.979595,
          null,
          39.49857611,
          41.979595,
          null,
          32.73355611,
          41.979595,
          null,
          29.53369444,
          41.979595,
          null,
          37.36186194,
          41.979595,
          null,
          18.43941667,
          41.979595,
          null,
          38.74768694,
          41.979595,
          null,
          36.19837222,
          41.979595,
          null,
          32.11608333,
          41.979595,
          null,
          32.89595056,
          36.89461111,
          null,
          32.89595056,
          26.68316194,
          null,
          41.979595,
          26.68316194,
          null,
          32.89595056,
          45.58872222,
          null,
          41.979595,
          39.87195278,
          null,
          18.43941667,
          39.87195278,
          null,
          41.979595,
          33.43416667,
          null,
          32.89595056,
          40.49146583,
          null,
          32.89595056,
          33.82921556,
          null,
          41.979595,
          33.82921556,
          null,
          32.89595056,
          35.87763889,
          null,
          25.79325,
          35.87763889,
          null,
          32.89595056,
          26.53616667,
          null,
          41.979595,
          26.53616667,
          null,
          40.63975111,
          32.73355611,
          null,
          32.89595056,
          47.44898194,
          null,
          41.979595,
          47.44898194,
          null,
          21.31869111,
          37.61900194,
          null,
          33.94253611,
          37.61900194,
          null,
          41.979595,
          37.61900194,
          null,
          32.89595056,
          18.43941667,
          null,
          38.94453194,
          18.43941667,
          null,
          40.63975111,
          18.43941667,
          null,
          33.94253611,
          18.43941667,
          null,
          32.89595056,
          38.69542167,
          null,
          32.89595056,
          33.67565861,
          null,
          41.979595,
          33.67565861,
          null,
          38.85208333,
          38.74768694,
          null,
          25.79325,
          38.74768694,
          null,
          25.79325,
          18.33730556,
          null,
          25.79325,
          17.70188889,
          null,
          32.89595056,
          27.97547222,
          null,
          25.79325,
          27.97547222,
          null,
          41.979595,
          27.97547222,
          null,
          18.43941667,
          27.97547222,
          null,
          32.89595056,
          36.19837222,
          null,
          32.89595056,
          32.11608333,
          null
         ],
         "line": {
          "color": "red",
          "width": 1
         },
         "locationmode": "USA-states",
         "lon": [
          -97.0372,
          -106.6091944,
          null,
          -87.90446417,
          -97.66987194,
          null,
          -97.0372,
          -72.68322833,
          null,
          -66.00183333,
          -72.68322833,
          null,
          -97.0372,
          -86.75354972,
          null,
          -80.29055556,
          -86.67818222,
          null,
          -97.0372,
          -71.00517917,
          null,
          -80.29055556,
          -71.00517917,
          null,
          -87.90446417,
          -71.00517917,
          null,
          -66.00183333,
          -71.00517917,
          null,
          -64.97336111,
          -71.00517917,
          null,
          -80.29055556,
          -76.66819833,
          null,
          -66.00183333,
          -76.66819833,
          null,
          -97.0372,
          -80.94312583,
          null,
          -97.0372,
          -104.70025,
          null,
          -97.0372,
          -84.219375,
          null,
          -97.0372,
          -77.03772222,
          null,
          -80.29055556,
          -104.6670019,
          null,
          -87.90446417,
          -104.6670019,
          null,
          -84.42694444,
          -97.0372,
          null,
          -97.66987194,
          -97.0372,
          null,
          -86.67818222,
          -97.0372,
          null,
          -118.3584969,
          -97.0372,
          null,
          -76.66819833,
          -97.0372,
          null,
          -82.89188278,
          -97.0372,
          null,
          -104.6670019,
          -97.0372,
          null,
          -83.34883583,
          -97.0372,
          null,
          -106.9176953,
          -97.0372,
          null,
          -74.16866056,
          -97.0372,
          null,
          -119.7181389,
          -97.0372,
          null,
          -80.15275,
          -97.0372,
          null,
          -86.77310944,
          -97.0372,
          null,
          -95.33972222,
          -97.0372,
          null,
          -118.4080744,
          -97.0372,
          null,
          -94.71390556,
          -97.0372,
          null,
          -81.31602778,
          -97.0372,
          null,
          -89.97666667,
          -97.0372,
          null,
          -98.23861111,
          -97.0372,
          null,
          -80.29055556,
          -97.0372,
          null,
          -93.2169225,
          -97.0372,
          null,
          -107.8938333,
          -97.0372,
          null,
          -156.4304578,
          -97.0372,
          null,
          -97.60073389,
          -97.0372,
          null,
          -95.89417306,
          -97.0372,
          null,
          -87.90446417,
          -97.0372,
          null,
          -75.24114083,
          -97.0372,
          null,
          -112.0080556,
          -97.0372,
          null,
          -77.31966667,
          -97.0372,
          null,
          -119.7680647,
          -97.0372,
          null,
          -117.1896567,
          -97.0372,
          null,
          -98.46977778,
          -97.0372,
          null,
          -85.736,
          -97.0372,
          null,
          -122.3748433,
          -97.0372,
          null,
          -121.9290089,
          -97.0372,
          null,
          -111.9777731,
          -97.0372,
          null,
          -90.35998972,
          -97.0372,
          null,
          -94.30681111,
          -97.0372,
          null,
          -80.29055556,
          -83.34883583,
          null,
          -73.87260917,
          -106.9176953,
          null,
          -87.90446417,
          -106.9176953,
          null,
          -97.0372,
          -106.3778056,
          null,
          -118.4080744,
          -74.16866056,
          null,
          -80.29055556,
          -74.16866056,
          null,
          -73.77892556,
          -80.15275,
          null,
          -97.0372,
          -107.2176597,
          null,
          -97.0372,
          -157.9224072,
          null,
          -118.4080744,
          -157.9224072,
          null,
          -97.0372,
          -77.45580972,
          null,
          -118.4080744,
          -77.45580972,
          null,
          -80.29055556,
          -77.45580972,
          null,
          -80.29055556,
          -95.33972222,
          null,
          -97.0372,
          -97.43304583,
          null,
          -97.0372,
          -86.29438417,
          null,
          -97.0372,
          -110.7377389,
          null,
          -97.0372,
          -81.68786111,
          null,
          -97.66987194,
          -73.77892556,
          null,
          -97.0372,
          -73.77892556,
          null,
          -106.9176953,
          -73.77892556,
          null,
          -81.31602778,
          -73.77892556,
          null,
          -80.29055556,
          -73.77892556,
          null,
          -122.3093131,
          -73.77892556,
          null,
          -122.3748433,
          -73.77892556,
          null,
          -64.97336111,
          -73.77892556,
          null,
          -82.53325,
          -73.77892556,
          null,
          -97.0372,
          -115.1523333,
          null,
          -73.77892556,
          -115.1523333,
          null,
          -118.4080744,
          -115.1523333,
          null,
          -87.90446417,
          -115.1523333,
          null,
          -97.66987194,
          -118.4080744,
          null,
          -86.67818222,
          -118.4080744,
          null,
          -71.00517917,
          -118.4080744,
          null,
          -106.9176953,
          -118.4080744,
          null,
          -73.77892556,
          -118.4080744,
          null,
          -156.0456314,
          -118.4080744,
          null,
          -156.4304578,
          -118.4080744,
          null,
          -87.90446417,
          -118.4080744,
          null,
          -90.35998972,
          -118.4080744,
          null,
          -86.67818222,
          -73.87260917,
          null,
          -97.0372,
          -73.87260917,
          null,
          -90.35998972,
          -73.87260917,
          null,
          -118.4080744,
          -159.3389581,
          null,
          -118.4080744,
          -81.31602778,
          null,
          -80.29055556,
          -81.31602778,
          null,
          -84.42694444,
          -80.29055556,
          null,
          -72.68322833,
          -80.29055556,
          null,
          -77.03772222,
          -80.29055556,
          null,
          -106.9176953,
          -80.29055556,
          null,
          -115.1523333,
          -80.29055556,
          null,
          -118.4080744,
          -80.29055556,
          null,
          -73.87260917,
          -80.29055556,
          null,
          -93.2169225,
          -80.29055556,
          null,
          -87.90446417,
          -80.29055556,
          null,
          -75.24114083,
          -80.29055556,
          null,
          -112.0080556,
          -80.29055556,
          null,
          -122.3748433,
          -80.29055556,
          null,
          -66.00183333,
          -80.29055556,
          null,
          -95.88824167,
          -80.29055556,
          null,
          -87.90446417,
          -93.2169225,
          null,
          -97.0372,
          -90.25802778,
          null,
          -80.29055556,
          -90.25802778,
          null,
          -87.90446417,
          -90.25802778,
          null,
          -97.0372,
          -117.6011944,
          null,
          -77.03772222,
          -87.90446417,
          null,
          -74.16866056,
          -87.90446417,
          null,
          -80.15275,
          -87.90446417,
          null,
          -107.2176597,
          -87.90446417,
          null,
          -157.9224072,
          -87.90446417,
          null,
          -110.7377389,
          -87.90446417,
          null,
          -73.77892556,
          -87.90446417,
          null,
          -73.87260917,
          -87.90446417,
          null,
          -94.71390556,
          -87.90446417,
          null,
          -81.31602778,
          -87.90446417,
          null,
          -78.78747222,
          -87.90446417,
          null,
          -119.7680647,
          -87.90446417,
          null,
          -117.1896567,
          -87.90446417,
          null,
          -98.46977778,
          -87.90446417,
          null,
          -121.9290089,
          -87.90446417,
          null,
          -66.00183333,
          -87.90446417,
          null,
          -90.35998972,
          -87.90446417,
          null,
          -95.88824167,
          -87.90446417,
          null,
          -110.9410278,
          -87.90446417,
          null,
          -97.0372,
          -76.20122222,
          null,
          -97.0372,
          -80.09559417,
          null,
          -87.90446417,
          -80.09559417,
          null,
          -97.0372,
          -122.5975,
          null,
          -87.90446417,
          -75.24114083,
          null,
          -66.00183333,
          -75.24114083,
          null,
          -87.90446417,
          -112.0080556,
          null,
          -97.0372,
          -80.23287083,
          null,
          -97.0372,
          -116.5062531,
          null,
          -87.90446417,
          -116.5062531,
          null,
          -97.0372,
          -78.78747222,
          null,
          -80.29055556,
          -78.78747222,
          null,
          -97.0372,
          -81.75516667,
          null,
          -87.90446417,
          -81.75516667,
          null,
          -73.77892556,
          -117.1896567,
          null,
          -97.0372,
          -122.3093131,
          null,
          -87.90446417,
          -122.3093131,
          null,
          -157.9224072,
          -122.3748433,
          null,
          -118.4080744,
          -122.3748433,
          null,
          -87.90446417,
          -122.3748433,
          null,
          -97.0372,
          -66.00183333,
          null,
          -77.45580972,
          -66.00183333,
          null,
          -73.77892556,
          -66.00183333,
          null,
          -118.4080744,
          -66.00183333,
          null,
          -97.0372,
          -121.5907669,
          null,
          -97.0372,
          -117.8682225,
          null,
          -87.90446417,
          -117.8682225,
          null,
          -77.03772222,
          -90.35998972,
          null,
          -80.29055556,
          -90.35998972,
          null,
          -80.29055556,
          -64.97336111,
          null,
          -80.29055556,
          -64.79855556,
          null,
          -97.0372,
          -82.53325,
          null,
          -80.29055556,
          -82.53325,
          null,
          -87.90446417,
          -82.53325,
          null,
          -66.00183333,
          -82.53325,
          null,
          -97.0372,
          -95.88824167,
          null,
          -97.0372,
          -110.9410278,
          null
         ],
         "mode": "lines",
         "opacity": 0.5,
         "type": "scattergeo"
        }
       ],
       "layout": {
        "geo": {
         "countrycolor": "rgb(204, 204, 204)",
         "landcolor": "rgb(243, 243, 243)",
         "projection": {
          "type": "azimuthal equal area"
         },
         "scope": "north america",
         "showland": true
        },
        "height": 700,
        "showlegend": false,
        "template": {
         "data": {
          "bar": [
           {
            "error_x": {
             "color": "#2a3f5f"
            },
            "error_y": {
             "color": "#2a3f5f"
            },
            "marker": {
             "line": {
              "color": "#E5ECF6",
              "width": 0.5
             },
             "pattern": {
              "fillmode": "overlay",
              "size": 10,
              "solidity": 0.2
             }
            },
            "type": "bar"
           }
          ],
          "barpolar": [
           {
            "marker": {
             "line": {
              "color": "#E5ECF6",
              "width": 0.5
             },
             "pattern": {
              "fillmode": "overlay",
              "size": 10,
              "solidity": 0.2
             }
            },
            "type": "barpolar"
           }
          ],
          "carpet": [
           {
            "aaxis": {
             "endlinecolor": "#2a3f5f",
             "gridcolor": "white",
             "linecolor": "white",
             "minorgridcolor": "white",
             "startlinecolor": "#2a3f5f"
            },
            "baxis": {
             "endlinecolor": "#2a3f5f",
             "gridcolor": "white",
             "linecolor": "white",
             "minorgridcolor": "white",
             "startlinecolor": "#2a3f5f"
            },
            "type": "carpet"
           }
          ],
          "choropleth": [
           {
            "colorbar": {
             "outlinewidth": 0,
             "ticks": ""
            },
            "type": "choropleth"
           }
          ],
          "contour": [
           {
            "colorbar": {
             "outlinewidth": 0,
             "ticks": ""
            },
            "colorscale": [
             [
              0,
              "#0d0887"
             ],
             [
              0.1111111111111111,
              "#46039f"
             ],
             [
              0.2222222222222222,
              "#7201a8"
             ],
             [
              0.3333333333333333,
              "#9c179e"
             ],
             [
              0.4444444444444444,
              "#bd3786"
             ],
             [
              0.5555555555555556,
              "#d8576b"
             ],
             [
              0.6666666666666666,
              "#ed7953"
             ],
             [
              0.7777777777777778,
              "#fb9f3a"
             ],
             [
              0.8888888888888888,
              "#fdca26"
             ],
             [
              1,
              "#f0f921"
             ]
            ],
            "type": "contour"
           }
          ],
          "contourcarpet": [
           {
            "colorbar": {
             "outlinewidth": 0,
             "ticks": ""
            },
            "type": "contourcarpet"
           }
          ],
          "heatmap": [
           {
            "colorbar": {
             "outlinewidth": 0,
             "ticks": ""
            },
            "colorscale": [
             [
              0,
              "#0d0887"
             ],
             [
              0.1111111111111111,
              "#46039f"
             ],
             [
              0.2222222222222222,
              "#7201a8"
             ],
             [
              0.3333333333333333,
              "#9c179e"
             ],
             [
              0.4444444444444444,
              "#bd3786"
             ],
             [
              0.5555555555555556,
              "#d8576b"
             ],
             [
              0.6666666666666666,
              "#ed7953"
             ],
             [
              0.7777777777777778,
              "#fb9f3a"
             ],
             [
              0.8888888888888888,
              "#fdca26"
             ],
             [
              1,
              "#f0f921"
             ]
            ],
            "type": "heatmap"
           }
          ],
          "heatmapgl": [
           {
            "colorbar": {
             "outlinewidth": 0,
             "ticks": ""
            },
            "colorscale": [
             [
              0,
              "#0d0887"
             ],
             [
              0.1111111111111111,
              "#46039f"
             ],
             [
              0.2222222222222222,
              "#7201a8"
             ],
             [
              0.3333333333333333,
              "#9c179e"
             ],
             [
              0.4444444444444444,
              "#bd3786"
             ],
             [
              0.5555555555555556,
              "#d8576b"
             ],
             [
              0.6666666666666666,
              "#ed7953"
             ],
             [
              0.7777777777777778,
              "#fb9f3a"
             ],
             [
              0.8888888888888888,
              "#fdca26"
             ],
             [
              1,
              "#f0f921"
             ]
            ],
            "type": "heatmapgl"
           }
          ],
          "histogram": [
           {
            "marker": {
             "pattern": {
              "fillmode": "overlay",
              "size": 10,
              "solidity": 0.2
             }
            },
            "type": "histogram"
           }
          ],
          "histogram2d": [
           {
            "colorbar": {
             "outlinewidth": 0,
             "ticks": ""
            },
            "colorscale": [
             [
              0,
              "#0d0887"
             ],
             [
              0.1111111111111111,
              "#46039f"
             ],
             [
              0.2222222222222222,
              "#7201a8"
             ],
             [
              0.3333333333333333,
              "#9c179e"
             ],
             [
              0.4444444444444444,
              "#bd3786"
             ],
             [
              0.5555555555555556,
              "#d8576b"
             ],
             [
              0.6666666666666666,
              "#ed7953"
             ],
             [
              0.7777777777777778,
              "#fb9f3a"
             ],
             [
              0.8888888888888888,
              "#fdca26"
             ],
             [
              1,
              "#f0f921"
             ]
            ],
            "type": "histogram2d"
           }
          ],
          "histogram2dcontour": [
           {
            "colorbar": {
             "outlinewidth": 0,
             "ticks": ""
            },
            "colorscale": [
             [
              0,
              "#0d0887"
             ],
             [
              0.1111111111111111,
              "#46039f"
             ],
             [
              0.2222222222222222,
              "#7201a8"
             ],
             [
              0.3333333333333333,
              "#9c179e"
             ],
             [
              0.4444444444444444,
              "#bd3786"
             ],
             [
              0.5555555555555556,
              "#d8576b"
             ],
             [
              0.6666666666666666,
              "#ed7953"
             ],
             [
              0.7777777777777778,
              "#fb9f3a"
             ],
             [
              0.8888888888888888,
              "#fdca26"
             ],
             [
              1,
              "#f0f921"
             ]
            ],
            "type": "histogram2dcontour"
           }
          ],
          "mesh3d": [
           {
            "colorbar": {
             "outlinewidth": 0,
             "ticks": ""
            },
            "type": "mesh3d"
           }
          ],
          "parcoords": [
           {
            "line": {
             "colorbar": {
              "outlinewidth": 0,
              "ticks": ""
             }
            },
            "type": "parcoords"
           }
          ],
          "pie": [
           {
            "automargin": true,
            "type": "pie"
           }
          ],
          "scatter": [
           {
            "fillpattern": {
             "fillmode": "overlay",
             "size": 10,
             "solidity": 0.2
            },
            "type": "scatter"
           }
          ],
          "scatter3d": [
           {
            "line": {
             "colorbar": {
              "outlinewidth": 0,
              "ticks": ""
             }
            },
            "marker": {
             "colorbar": {
              "outlinewidth": 0,
              "ticks": ""
             }
            },
            "type": "scatter3d"
           }
          ],
          "scattercarpet": [
           {
            "marker": {
             "colorbar": {
              "outlinewidth": 0,
              "ticks": ""
             }
            },
            "type": "scattercarpet"
           }
          ],
          "scattergeo": [
           {
            "marker": {
             "colorbar": {
              "outlinewidth": 0,
              "ticks": ""
             }
            },
            "type": "scattergeo"
           }
          ],
          "scattergl": [
           {
            "marker": {
             "colorbar": {
              "outlinewidth": 0,
              "ticks": ""
             }
            },
            "type": "scattergl"
           }
          ],
          "scattermapbox": [
           {
            "marker": {
             "colorbar": {
              "outlinewidth": 0,
              "ticks": ""
             }
            },
            "type": "scattermapbox"
           }
          ],
          "scatterpolar": [
           {
            "marker": {
             "colorbar": {
              "outlinewidth": 0,
              "ticks": ""
             }
            },
            "type": "scatterpolar"
           }
          ],
          "scatterpolargl": [
           {
            "marker": {
             "colorbar": {
              "outlinewidth": 0,
              "ticks": ""
             }
            },
            "type": "scatterpolargl"
           }
          ],
          "scatterternary": [
           {
            "marker": {
             "colorbar": {
              "outlinewidth": 0,
              "ticks": ""
             }
            },
            "type": "scatterternary"
           }
          ],
          "surface": [
           {
            "colorbar": {
             "outlinewidth": 0,
             "ticks": ""
            },
            "colorscale": [
             [
              0,
              "#0d0887"
             ],
             [
              0.1111111111111111,
              "#46039f"
             ],
             [
              0.2222222222222222,
              "#7201a8"
             ],
             [
              0.3333333333333333,
              "#9c179e"
             ],
             [
              0.4444444444444444,
              "#bd3786"
             ],
             [
              0.5555555555555556,
              "#d8576b"
             ],
             [
              0.6666666666666666,
              "#ed7953"
             ],
             [
              0.7777777777777778,
              "#fb9f3a"
             ],
             [
              0.8888888888888888,
              "#fdca26"
             ],
             [
              1,
              "#f0f921"
             ]
            ],
            "type": "surface"
           }
          ],
          "table": [
           {
            "cells": {
             "fill": {
              "color": "#EBF0F8"
             },
             "line": {
              "color": "white"
             }
            },
            "header": {
             "fill": {
              "color": "#C8D4E3"
             },
             "line": {
              "color": "white"
             }
            },
            "type": "table"
           }
          ]
         },
         "layout": {
          "annotationdefaults": {
           "arrowcolor": "#2a3f5f",
           "arrowhead": 0,
           "arrowwidth": 1
          },
          "autotypenumbers": "strict",
          "coloraxis": {
           "colorbar": {
            "outlinewidth": 0,
            "ticks": ""
           }
          },
          "colorscale": {
           "diverging": [
            [
             0,
             "#8e0152"
            ],
            [
             0.1,
             "#c51b7d"
            ],
            [
             0.2,
             "#de77ae"
            ],
            [
             0.3,
             "#f1b6da"
            ],
            [
             0.4,
             "#fde0ef"
            ],
            [
             0.5,
             "#f7f7f7"
            ],
            [
             0.6,
             "#e6f5d0"
            ],
            [
             0.7,
             "#b8e186"
            ],
            [
             0.8,
             "#7fbc41"
            ],
            [
             0.9,
             "#4d9221"
            ],
            [
             1,
             "#276419"
            ]
           ],
           "sequential": [
            [
             0,
             "#0d0887"
            ],
            [
             0.1111111111111111,
             "#46039f"
            ],
            [
             0.2222222222222222,
             "#7201a8"
            ],
            [
             0.3333333333333333,
             "#9c179e"
            ],
            [
             0.4444444444444444,
             "#bd3786"
            ],
            [
             0.5555555555555556,
             "#d8576b"
            ],
            [
             0.6666666666666666,
             "#ed7953"
            ],
            [
             0.7777777777777778,
             "#fb9f3a"
            ],
            [
             0.8888888888888888,
             "#fdca26"
            ],
            [
             1,
             "#f0f921"
            ]
           ],
           "sequentialminus": [
            [
             0,
             "#0d0887"
            ],
            [
             0.1111111111111111,
             "#46039f"
            ],
            [
             0.2222222222222222,
             "#7201a8"
            ],
            [
             0.3333333333333333,
             "#9c179e"
            ],
            [
             0.4444444444444444,
             "#bd3786"
            ],
            [
             0.5555555555555556,
             "#d8576b"
            ],
            [
             0.6666666666666666,
             "#ed7953"
            ],
            [
             0.7777777777777778,
             "#fb9f3a"
            ],
            [
             0.8888888888888888,
             "#fdca26"
            ],
            [
             1,
             "#f0f921"
            ]
           ]
          },
          "colorway": [
           "#636efa",
           "#EF553B",
           "#00cc96",
           "#ab63fa",
           "#FFA15A",
           "#19d3f3",
           "#FF6692",
           "#B6E880",
           "#FF97FF",
           "#FECB52"
          ],
          "font": {
           "color": "#2a3f5f"
          },
          "geo": {
           "bgcolor": "white",
           "lakecolor": "white",
           "landcolor": "#E5ECF6",
           "showlakes": true,
           "showland": true,
           "subunitcolor": "white"
          },
          "hoverlabel": {
           "align": "left"
          },
          "hovermode": "closest",
          "mapbox": {
           "style": "light"
          },
          "paper_bgcolor": "white",
          "plot_bgcolor": "#E5ECF6",
          "polar": {
           "angularaxis": {
            "gridcolor": "white",
            "linecolor": "white",
            "ticks": ""
           },
           "bgcolor": "#E5ECF6",
           "radialaxis": {
            "gridcolor": "white",
            "linecolor": "white",
            "ticks": ""
           }
          },
          "scene": {
           "xaxis": {
            "backgroundcolor": "#E5ECF6",
            "gridcolor": "white",
            "gridwidth": 2,
            "linecolor": "white",
            "showbackground": true,
            "ticks": "",
            "zerolinecolor": "white"
           },
           "yaxis": {
            "backgroundcolor": "#E5ECF6",
            "gridcolor": "white",
            "gridwidth": 2,
            "linecolor": "white",
            "showbackground": true,
            "ticks": "",
            "zerolinecolor": "white"
           },
           "zaxis": {
            "backgroundcolor": "#E5ECF6",
            "gridcolor": "white",
            "gridwidth": 2,
            "linecolor": "white",
            "showbackground": true,
            "ticks": "",
            "zerolinecolor": "white"
           }
          },
          "shapedefaults": {
           "line": {
            "color": "#2a3f5f"
           }
          },
          "ternary": {
           "aaxis": {
            "gridcolor": "white",
            "linecolor": "white",
            "ticks": ""
           },
           "baxis": {
            "gridcolor": "white",
            "linecolor": "white",
            "ticks": ""
           },
           "bgcolor": "#E5ECF6",
           "caxis": {
            "gridcolor": "white",
            "linecolor": "white",
            "ticks": ""
           }
          },
          "title": {
           "x": 0.05
          },
          "xaxis": {
           "automargin": true,
           "gridcolor": "white",
           "linecolor": "white",
           "ticks": "",
           "title": {
            "standoff": 15
           },
           "zerolinecolor": "white",
           "zerolinewidth": 2
          },
          "yaxis": {
           "automargin": true,
           "gridcolor": "white",
           "linecolor": "white",
           "ticks": "",
           "title": {
            "standoff": 15
           },
           "zerolinecolor": "white",
           "zerolinewidth": 2
          }
         }
        },
        "title": {
         "text": "Feb. 2011 American Airline flight paths<br>(Hover for airport names)"
        }
       }
      }
     },
     "metadata": {},
     "output_type": "display_data"
    }
   ],
   "source": [
    "fig.add_trace(\n",
    "    go.Scattergeo(\n",
    "        locationmode = 'USA-states',\n",
    "        lon = lons,\n",
    "        lat = lats,\n",
    "        mode = 'lines',\n",
    "        line = dict(width = 1,color = 'red'),\n",
    "        opacity = 0.5\n",
    "    )\n",
    ")\n",
    "\n",
    "fig.update_layout(\n",
    "    title_text = 'Feb. 2011 American Airline flight paths<br>(Hover for airport names)',\n",
    "    showlegend = False,\n",
    "    geo = go.layout.Geo(\n",
    "        scope = 'north america',\n",
    "        projection_type = 'azimuthal equal area',\n",
    "        showland = True,\n",
    "        landcolor = 'rgb(243, 243, 243)',\n",
    "        countrycolor = 'rgb(204, 204, 204)',\n",
    "    ),\n",
    "    height=700,\n",
    ")\n",
    "\n",
    "fig.show()\n"
   ]
  },
  {
   "cell_type": "code",
   "execution_count": 38,
   "metadata": {},
   "outputs": [
    {
     "data": {
      "text/html": [
       "<div>\n",
       "<style scoped>\n",
       "    .dataframe tbody tr th:only-of-type {\n",
       "        vertical-align: middle;\n",
       "    }\n",
       "\n",
       "    .dataframe tbody tr th {\n",
       "        vertical-align: top;\n",
       "    }\n",
       "\n",
       "    .dataframe thead th {\n",
       "        text-align: right;\n",
       "    }\n",
       "</style>\n",
       "<table border=\"1\" class=\"dataframe\">\n",
       "  <thead>\n",
       "    <tr style=\"text-align: right;\">\n",
       "      <th></th>\n",
       "      <th>country</th>\n",
       "      <th>continent</th>\n",
       "      <th>year</th>\n",
       "      <th>lifeExp</th>\n",
       "      <th>pop</th>\n",
       "      <th>gdpPercap</th>\n",
       "      <th>iso_alpha</th>\n",
       "      <th>iso_num</th>\n",
       "    </tr>\n",
       "  </thead>\n",
       "  <tbody>\n",
       "    <tr>\n",
       "      <th>11</th>\n",
       "      <td>Afghanistan</td>\n",
       "      <td>Asia</td>\n",
       "      <td>2007</td>\n",
       "      <td>43.828</td>\n",
       "      <td>31889923</td>\n",
       "      <td>974.580338</td>\n",
       "      <td>AFG</td>\n",
       "      <td>4</td>\n",
       "    </tr>\n",
       "    <tr>\n",
       "      <th>23</th>\n",
       "      <td>Albania</td>\n",
       "      <td>Europe</td>\n",
       "      <td>2007</td>\n",
       "      <td>76.423</td>\n",
       "      <td>3600523</td>\n",
       "      <td>5937.029526</td>\n",
       "      <td>ALB</td>\n",
       "      <td>8</td>\n",
       "    </tr>\n",
       "    <tr>\n",
       "      <th>35</th>\n",
       "      <td>Algeria</td>\n",
       "      <td>Africa</td>\n",
       "      <td>2007</td>\n",
       "      <td>72.301</td>\n",
       "      <td>33333216</td>\n",
       "      <td>6223.367465</td>\n",
       "      <td>DZA</td>\n",
       "      <td>12</td>\n",
       "    </tr>\n",
       "    <tr>\n",
       "      <th>47</th>\n",
       "      <td>Angola</td>\n",
       "      <td>Africa</td>\n",
       "      <td>2007</td>\n",
       "      <td>42.731</td>\n",
       "      <td>12420476</td>\n",
       "      <td>4797.231267</td>\n",
       "      <td>AGO</td>\n",
       "      <td>24</td>\n",
       "    </tr>\n",
       "    <tr>\n",
       "      <th>59</th>\n",
       "      <td>Argentina</td>\n",
       "      <td>Americas</td>\n",
       "      <td>2007</td>\n",
       "      <td>75.320</td>\n",
       "      <td>40301927</td>\n",
       "      <td>12779.379640</td>\n",
       "      <td>ARG</td>\n",
       "      <td>32</td>\n",
       "    </tr>\n",
       "    <tr>\n",
       "      <th>...</th>\n",
       "      <td>...</td>\n",
       "      <td>...</td>\n",
       "      <td>...</td>\n",
       "      <td>...</td>\n",
       "      <td>...</td>\n",
       "      <td>...</td>\n",
       "      <td>...</td>\n",
       "      <td>...</td>\n",
       "    </tr>\n",
       "    <tr>\n",
       "      <th>1655</th>\n",
       "      <td>Vietnam</td>\n",
       "      <td>Asia</td>\n",
       "      <td>2007</td>\n",
       "      <td>74.249</td>\n",
       "      <td>85262356</td>\n",
       "      <td>2441.576404</td>\n",
       "      <td>VNM</td>\n",
       "      <td>704</td>\n",
       "    </tr>\n",
       "    <tr>\n",
       "      <th>1667</th>\n",
       "      <td>West Bank and Gaza</td>\n",
       "      <td>Asia</td>\n",
       "      <td>2007</td>\n",
       "      <td>73.422</td>\n",
       "      <td>4018332</td>\n",
       "      <td>3025.349798</td>\n",
       "      <td>PSE</td>\n",
       "      <td>275</td>\n",
       "    </tr>\n",
       "    <tr>\n",
       "      <th>1679</th>\n",
       "      <td>Yemen, Rep.</td>\n",
       "      <td>Asia</td>\n",
       "      <td>2007</td>\n",
       "      <td>62.698</td>\n",
       "      <td>22211743</td>\n",
       "      <td>2280.769906</td>\n",
       "      <td>YEM</td>\n",
       "      <td>887</td>\n",
       "    </tr>\n",
       "    <tr>\n",
       "      <th>1691</th>\n",
       "      <td>Zambia</td>\n",
       "      <td>Africa</td>\n",
       "      <td>2007</td>\n",
       "      <td>42.384</td>\n",
       "      <td>11746035</td>\n",
       "      <td>1271.211593</td>\n",
       "      <td>ZMB</td>\n",
       "      <td>894</td>\n",
       "    </tr>\n",
       "    <tr>\n",
       "      <th>1703</th>\n",
       "      <td>Zimbabwe</td>\n",
       "      <td>Africa</td>\n",
       "      <td>2007</td>\n",
       "      <td>43.487</td>\n",
       "      <td>12311143</td>\n",
       "      <td>469.709298</td>\n",
       "      <td>ZWE</td>\n",
       "      <td>716</td>\n",
       "    </tr>\n",
       "  </tbody>\n",
       "</table>\n",
       "<p>142 rows × 8 columns</p>\n",
       "</div>"
      ],
      "text/plain": [
       "                 country continent  year  lifeExp       pop     gdpPercap  \\\n",
       "11           Afghanistan      Asia  2007   43.828  31889923    974.580338   \n",
       "23               Albania    Europe  2007   76.423   3600523   5937.029526   \n",
       "35               Algeria    Africa  2007   72.301  33333216   6223.367465   \n",
       "47                Angola    Africa  2007   42.731  12420476   4797.231267   \n",
       "59             Argentina  Americas  2007   75.320  40301927  12779.379640   \n",
       "...                  ...       ...   ...      ...       ...           ...   \n",
       "1655             Vietnam      Asia  2007   74.249  85262356   2441.576404   \n",
       "1667  West Bank and Gaza      Asia  2007   73.422   4018332   3025.349798   \n",
       "1679         Yemen, Rep.      Asia  2007   62.698  22211743   2280.769906   \n",
       "1691              Zambia    Africa  2007   42.384  11746035   1271.211593   \n",
       "1703            Zimbabwe    Africa  2007   43.487  12311143    469.709298   \n",
       "\n",
       "     iso_alpha  iso_num  \n",
       "11         AFG        4  \n",
       "23         ALB        8  \n",
       "35         DZA       12  \n",
       "47         AGO       24  \n",
       "59         ARG       32  \n",
       "...        ...      ...  \n",
       "1655       VNM      704  \n",
       "1667       PSE      275  \n",
       "1679       YEM      887  \n",
       "1691       ZMB      894  \n",
       "1703       ZWE      716  \n",
       "\n",
       "[142 rows x 8 columns]"
      ]
     },
     "execution_count": 38,
     "metadata": {},
     "output_type": "execute_result"
    }
   ],
   "source": [
    "import plotly.express as px\n",
    "df = px.data.gapminder().query(\"year == 2007\")\n",
    "df\n"
   ]
  },
  {
   "cell_type": "code",
   "execution_count": 39,
   "metadata": {},
   "outputs": [
    {
     "data": {
      "application/vnd.plotly.v1+json": {
       "config": {
        "plotlyServerURL": "https://plot.ly"
       },
       "data": [
        {
         "geo": "geo",
         "hovertemplate": "continent=Asia<br>iso_alpha=%{location}<extra></extra>",
         "legendgroup": "Asia",
         "line": {
          "color": "#636efa",
          "dash": "solid"
         },
         "locations": [
          "AFG",
          "BHR",
          "BGD",
          "KHM",
          "CHN",
          "HKG",
          "IND",
          "IDN",
          "IRN",
          "IRQ",
          "ISR",
          "JPN",
          "JOR",
          "KOR",
          "KOR",
          "KWT",
          "LBN",
          "MYS",
          "MNG",
          "MMR",
          "NPL",
          "OMN",
          "PAK",
          "PHL",
          "SAU",
          "SGP",
          "LKA",
          "SYR",
          "TWN",
          "THA",
          "VNM",
          "PSE",
          "YEM"
         ],
         "marker": {
          "symbol": "circle"
         },
         "mode": "lines",
         "name": "Asia",
         "showlegend": true,
         "type": "scattergeo"
        },
        {
         "geo": "geo",
         "hovertemplate": "continent=Europe<br>iso_alpha=%{location}<extra></extra>",
         "legendgroup": "Europe",
         "line": {
          "color": "#EF553B",
          "dash": "solid"
         },
         "locations": [
          "ALB",
          "AUT",
          "BEL",
          "BIH",
          "BGR",
          "HRV",
          "CZE",
          "DNK",
          "FIN",
          "FRA",
          "DEU",
          "GRC",
          "HUN",
          "ISL",
          "IRL",
          "ITA",
          "MNE",
          "NLD",
          "NOR",
          "POL",
          "PRT",
          "ROU",
          "SRB",
          "SVK",
          "SVN",
          "ESP",
          "SWE",
          "CHE",
          "TUR",
          "GBR"
         ],
         "marker": {
          "symbol": "circle"
         },
         "mode": "lines",
         "name": "Europe",
         "showlegend": true,
         "type": "scattergeo"
        },
        {
         "geo": "geo",
         "hovertemplate": "continent=Africa<br>iso_alpha=%{location}<extra></extra>",
         "legendgroup": "Africa",
         "line": {
          "color": "#00cc96",
          "dash": "solid"
         },
         "locations": [
          "DZA",
          "AGO",
          "BEN",
          "BWA",
          "BFA",
          "BDI",
          "CMR",
          "CAF",
          "TCD",
          "COM",
          "COD",
          "COG",
          "CIV",
          "DJI",
          "EGY",
          "GNQ",
          "ERI",
          "ETH",
          "GAB",
          "GMB",
          "GHA",
          "GIN",
          "GNB",
          "KEN",
          "LSO",
          "LBR",
          "LBY",
          "MDG",
          "MWI",
          "MLI",
          "MRT",
          "MUS",
          "MAR",
          "MOZ",
          "NAM",
          "NER",
          "NGA",
          "REU",
          "RWA",
          "STP",
          "SEN",
          "SLE",
          "SOM",
          "ZAF",
          "SDN",
          "SWZ",
          "TZA",
          "TGO",
          "TUN",
          "UGA",
          "ZMB",
          "ZWE"
         ],
         "marker": {
          "symbol": "circle"
         },
         "mode": "lines",
         "name": "Africa",
         "showlegend": true,
         "type": "scattergeo"
        },
        {
         "geo": "geo",
         "hovertemplate": "continent=Americas<br>iso_alpha=%{location}<extra></extra>",
         "legendgroup": "Americas",
         "line": {
          "color": "#ab63fa",
          "dash": "solid"
         },
         "locations": [
          "ARG",
          "BOL",
          "BRA",
          "CAN",
          "CHL",
          "COL",
          "CRI",
          "CUB",
          "DOM",
          "ECU",
          "SLV",
          "GTM",
          "HTI",
          "HND",
          "JAM",
          "MEX",
          "NIC",
          "PAN",
          "PRY",
          "PER",
          "PRI",
          "TTO",
          "USA",
          "URY",
          "VEN"
         ],
         "marker": {
          "symbol": "circle"
         },
         "mode": "lines",
         "name": "Americas",
         "showlegend": true,
         "type": "scattergeo"
        },
        {
         "geo": "geo",
         "hovertemplate": "continent=Oceania<br>iso_alpha=%{location}<extra></extra>",
         "legendgroup": "Oceania",
         "line": {
          "color": "#FFA15A",
          "dash": "solid"
         },
         "locations": [
          "AUS",
          "NZL"
         ],
         "marker": {
          "symbol": "circle"
         },
         "mode": "lines",
         "name": "Oceania",
         "showlegend": true,
         "type": "scattergeo"
        }
       ],
       "layout": {
        "geo": {
         "center": {},
         "domain": {
          "x": [
           0,
           1
          ],
          "y": [
           0,
           1
          ]
         },
         "projection": {
          "type": "orthographic"
         }
        },
        "legend": {
         "title": {
          "text": "continent"
         },
         "tracegroupgap": 0
        },
        "margin": {
         "t": 60
        },
        "template": {
         "data": {
          "bar": [
           {
            "error_x": {
             "color": "#2a3f5f"
            },
            "error_y": {
             "color": "#2a3f5f"
            },
            "marker": {
             "line": {
              "color": "#E5ECF6",
              "width": 0.5
             },
             "pattern": {
              "fillmode": "overlay",
              "size": 10,
              "solidity": 0.2
             }
            },
            "type": "bar"
           }
          ],
          "barpolar": [
           {
            "marker": {
             "line": {
              "color": "#E5ECF6",
              "width": 0.5
             },
             "pattern": {
              "fillmode": "overlay",
              "size": 10,
              "solidity": 0.2
             }
            },
            "type": "barpolar"
           }
          ],
          "carpet": [
           {
            "aaxis": {
             "endlinecolor": "#2a3f5f",
             "gridcolor": "white",
             "linecolor": "white",
             "minorgridcolor": "white",
             "startlinecolor": "#2a3f5f"
            },
            "baxis": {
             "endlinecolor": "#2a3f5f",
             "gridcolor": "white",
             "linecolor": "white",
             "minorgridcolor": "white",
             "startlinecolor": "#2a3f5f"
            },
            "type": "carpet"
           }
          ],
          "choropleth": [
           {
            "colorbar": {
             "outlinewidth": 0,
             "ticks": ""
            },
            "type": "choropleth"
           }
          ],
          "contour": [
           {
            "colorbar": {
             "outlinewidth": 0,
             "ticks": ""
            },
            "colorscale": [
             [
              0,
              "#0d0887"
             ],
             [
              0.1111111111111111,
              "#46039f"
             ],
             [
              0.2222222222222222,
              "#7201a8"
             ],
             [
              0.3333333333333333,
              "#9c179e"
             ],
             [
              0.4444444444444444,
              "#bd3786"
             ],
             [
              0.5555555555555556,
              "#d8576b"
             ],
             [
              0.6666666666666666,
              "#ed7953"
             ],
             [
              0.7777777777777778,
              "#fb9f3a"
             ],
             [
              0.8888888888888888,
              "#fdca26"
             ],
             [
              1,
              "#f0f921"
             ]
            ],
            "type": "contour"
           }
          ],
          "contourcarpet": [
           {
            "colorbar": {
             "outlinewidth": 0,
             "ticks": ""
            },
            "type": "contourcarpet"
           }
          ],
          "heatmap": [
           {
            "colorbar": {
             "outlinewidth": 0,
             "ticks": ""
            },
            "colorscale": [
             [
              0,
              "#0d0887"
             ],
             [
              0.1111111111111111,
              "#46039f"
             ],
             [
              0.2222222222222222,
              "#7201a8"
             ],
             [
              0.3333333333333333,
              "#9c179e"
             ],
             [
              0.4444444444444444,
              "#bd3786"
             ],
             [
              0.5555555555555556,
              "#d8576b"
             ],
             [
              0.6666666666666666,
              "#ed7953"
             ],
             [
              0.7777777777777778,
              "#fb9f3a"
             ],
             [
              0.8888888888888888,
              "#fdca26"
             ],
             [
              1,
              "#f0f921"
             ]
            ],
            "type": "heatmap"
           }
          ],
          "heatmapgl": [
           {
            "colorbar": {
             "outlinewidth": 0,
             "ticks": ""
            },
            "colorscale": [
             [
              0,
              "#0d0887"
             ],
             [
              0.1111111111111111,
              "#46039f"
             ],
             [
              0.2222222222222222,
              "#7201a8"
             ],
             [
              0.3333333333333333,
              "#9c179e"
             ],
             [
              0.4444444444444444,
              "#bd3786"
             ],
             [
              0.5555555555555556,
              "#d8576b"
             ],
             [
              0.6666666666666666,
              "#ed7953"
             ],
             [
              0.7777777777777778,
              "#fb9f3a"
             ],
             [
              0.8888888888888888,
              "#fdca26"
             ],
             [
              1,
              "#f0f921"
             ]
            ],
            "type": "heatmapgl"
           }
          ],
          "histogram": [
           {
            "marker": {
             "pattern": {
              "fillmode": "overlay",
              "size": 10,
              "solidity": 0.2
             }
            },
            "type": "histogram"
           }
          ],
          "histogram2d": [
           {
            "colorbar": {
             "outlinewidth": 0,
             "ticks": ""
            },
            "colorscale": [
             [
              0,
              "#0d0887"
             ],
             [
              0.1111111111111111,
              "#46039f"
             ],
             [
              0.2222222222222222,
              "#7201a8"
             ],
             [
              0.3333333333333333,
              "#9c179e"
             ],
             [
              0.4444444444444444,
              "#bd3786"
             ],
             [
              0.5555555555555556,
              "#d8576b"
             ],
             [
              0.6666666666666666,
              "#ed7953"
             ],
             [
              0.7777777777777778,
              "#fb9f3a"
             ],
             [
              0.8888888888888888,
              "#fdca26"
             ],
             [
              1,
              "#f0f921"
             ]
            ],
            "type": "histogram2d"
           }
          ],
          "histogram2dcontour": [
           {
            "colorbar": {
             "outlinewidth": 0,
             "ticks": ""
            },
            "colorscale": [
             [
              0,
              "#0d0887"
             ],
             [
              0.1111111111111111,
              "#46039f"
             ],
             [
              0.2222222222222222,
              "#7201a8"
             ],
             [
              0.3333333333333333,
              "#9c179e"
             ],
             [
              0.4444444444444444,
              "#bd3786"
             ],
             [
              0.5555555555555556,
              "#d8576b"
             ],
             [
              0.6666666666666666,
              "#ed7953"
             ],
             [
              0.7777777777777778,
              "#fb9f3a"
             ],
             [
              0.8888888888888888,
              "#fdca26"
             ],
             [
              1,
              "#f0f921"
             ]
            ],
            "type": "histogram2dcontour"
           }
          ],
          "mesh3d": [
           {
            "colorbar": {
             "outlinewidth": 0,
             "ticks": ""
            },
            "type": "mesh3d"
           }
          ],
          "parcoords": [
           {
            "line": {
             "colorbar": {
              "outlinewidth": 0,
              "ticks": ""
             }
            },
            "type": "parcoords"
           }
          ],
          "pie": [
           {
            "automargin": true,
            "type": "pie"
           }
          ],
          "scatter": [
           {
            "fillpattern": {
             "fillmode": "overlay",
             "size": 10,
             "solidity": 0.2
            },
            "type": "scatter"
           }
          ],
          "scatter3d": [
           {
            "line": {
             "colorbar": {
              "outlinewidth": 0,
              "ticks": ""
             }
            },
            "marker": {
             "colorbar": {
              "outlinewidth": 0,
              "ticks": ""
             }
            },
            "type": "scatter3d"
           }
          ],
          "scattercarpet": [
           {
            "marker": {
             "colorbar": {
              "outlinewidth": 0,
              "ticks": ""
             }
            },
            "type": "scattercarpet"
           }
          ],
          "scattergeo": [
           {
            "marker": {
             "colorbar": {
              "outlinewidth": 0,
              "ticks": ""
             }
            },
            "type": "scattergeo"
           }
          ],
          "scattergl": [
           {
            "marker": {
             "colorbar": {
              "outlinewidth": 0,
              "ticks": ""
             }
            },
            "type": "scattergl"
           }
          ],
          "scattermapbox": [
           {
            "marker": {
             "colorbar": {
              "outlinewidth": 0,
              "ticks": ""
             }
            },
            "type": "scattermapbox"
           }
          ],
          "scatterpolar": [
           {
            "marker": {
             "colorbar": {
              "outlinewidth": 0,
              "ticks": ""
             }
            },
            "type": "scatterpolar"
           }
          ],
          "scatterpolargl": [
           {
            "marker": {
             "colorbar": {
              "outlinewidth": 0,
              "ticks": ""
             }
            },
            "type": "scatterpolargl"
           }
          ],
          "scatterternary": [
           {
            "marker": {
             "colorbar": {
              "outlinewidth": 0,
              "ticks": ""
             }
            },
            "type": "scatterternary"
           }
          ],
          "surface": [
           {
            "colorbar": {
             "outlinewidth": 0,
             "ticks": ""
            },
            "colorscale": [
             [
              0,
              "#0d0887"
             ],
             [
              0.1111111111111111,
              "#46039f"
             ],
             [
              0.2222222222222222,
              "#7201a8"
             ],
             [
              0.3333333333333333,
              "#9c179e"
             ],
             [
              0.4444444444444444,
              "#bd3786"
             ],
             [
              0.5555555555555556,
              "#d8576b"
             ],
             [
              0.6666666666666666,
              "#ed7953"
             ],
             [
              0.7777777777777778,
              "#fb9f3a"
             ],
             [
              0.8888888888888888,
              "#fdca26"
             ],
             [
              1,
              "#f0f921"
             ]
            ],
            "type": "surface"
           }
          ],
          "table": [
           {
            "cells": {
             "fill": {
              "color": "#EBF0F8"
             },
             "line": {
              "color": "white"
             }
            },
            "header": {
             "fill": {
              "color": "#C8D4E3"
             },
             "line": {
              "color": "white"
             }
            },
            "type": "table"
           }
          ]
         },
         "layout": {
          "annotationdefaults": {
           "arrowcolor": "#2a3f5f",
           "arrowhead": 0,
           "arrowwidth": 1
          },
          "autotypenumbers": "strict",
          "coloraxis": {
           "colorbar": {
            "outlinewidth": 0,
            "ticks": ""
           }
          },
          "colorscale": {
           "diverging": [
            [
             0,
             "#8e0152"
            ],
            [
             0.1,
             "#c51b7d"
            ],
            [
             0.2,
             "#de77ae"
            ],
            [
             0.3,
             "#f1b6da"
            ],
            [
             0.4,
             "#fde0ef"
            ],
            [
             0.5,
             "#f7f7f7"
            ],
            [
             0.6,
             "#e6f5d0"
            ],
            [
             0.7,
             "#b8e186"
            ],
            [
             0.8,
             "#7fbc41"
            ],
            [
             0.9,
             "#4d9221"
            ],
            [
             1,
             "#276419"
            ]
           ],
           "sequential": [
            [
             0,
             "#0d0887"
            ],
            [
             0.1111111111111111,
             "#46039f"
            ],
            [
             0.2222222222222222,
             "#7201a8"
            ],
            [
             0.3333333333333333,
             "#9c179e"
            ],
            [
             0.4444444444444444,
             "#bd3786"
            ],
            [
             0.5555555555555556,
             "#d8576b"
            ],
            [
             0.6666666666666666,
             "#ed7953"
            ],
            [
             0.7777777777777778,
             "#fb9f3a"
            ],
            [
             0.8888888888888888,
             "#fdca26"
            ],
            [
             1,
             "#f0f921"
            ]
           ],
           "sequentialminus": [
            [
             0,
             "#0d0887"
            ],
            [
             0.1111111111111111,
             "#46039f"
            ],
            [
             0.2222222222222222,
             "#7201a8"
            ],
            [
             0.3333333333333333,
             "#9c179e"
            ],
            [
             0.4444444444444444,
             "#bd3786"
            ],
            [
             0.5555555555555556,
             "#d8576b"
            ],
            [
             0.6666666666666666,
             "#ed7953"
            ],
            [
             0.7777777777777778,
             "#fb9f3a"
            ],
            [
             0.8888888888888888,
             "#fdca26"
            ],
            [
             1,
             "#f0f921"
            ]
           ]
          },
          "colorway": [
           "#636efa",
           "#EF553B",
           "#00cc96",
           "#ab63fa",
           "#FFA15A",
           "#19d3f3",
           "#FF6692",
           "#B6E880",
           "#FF97FF",
           "#FECB52"
          ],
          "font": {
           "color": "#2a3f5f"
          },
          "geo": {
           "bgcolor": "white",
           "lakecolor": "white",
           "landcolor": "#E5ECF6",
           "showlakes": true,
           "showland": true,
           "subunitcolor": "white"
          },
          "hoverlabel": {
           "align": "left"
          },
          "hovermode": "closest",
          "mapbox": {
           "style": "light"
          },
          "paper_bgcolor": "white",
          "plot_bgcolor": "#E5ECF6",
          "polar": {
           "angularaxis": {
            "gridcolor": "white",
            "linecolor": "white",
            "ticks": ""
           },
           "bgcolor": "#E5ECF6",
           "radialaxis": {
            "gridcolor": "white",
            "linecolor": "white",
            "ticks": ""
           }
          },
          "scene": {
           "xaxis": {
            "backgroundcolor": "#E5ECF6",
            "gridcolor": "white",
            "gridwidth": 2,
            "linecolor": "white",
            "showbackground": true,
            "ticks": "",
            "zerolinecolor": "white"
           },
           "yaxis": {
            "backgroundcolor": "#E5ECF6",
            "gridcolor": "white",
            "gridwidth": 2,
            "linecolor": "white",
            "showbackground": true,
            "ticks": "",
            "zerolinecolor": "white"
           },
           "zaxis": {
            "backgroundcolor": "#E5ECF6",
            "gridcolor": "white",
            "gridwidth": 2,
            "linecolor": "white",
            "showbackground": true,
            "ticks": "",
            "zerolinecolor": "white"
           }
          },
          "shapedefaults": {
           "line": {
            "color": "#2a3f5f"
           }
          },
          "ternary": {
           "aaxis": {
            "gridcolor": "white",
            "linecolor": "white",
            "ticks": ""
           },
           "baxis": {
            "gridcolor": "white",
            "linecolor": "white",
            "ticks": ""
           },
           "bgcolor": "#E5ECF6",
           "caxis": {
            "gridcolor": "white",
            "linecolor": "white",
            "ticks": ""
           }
          },
          "title": {
           "x": 0.05
          },
          "xaxis": {
           "automargin": true,
           "gridcolor": "white",
           "linecolor": "white",
           "ticks": "",
           "title": {
            "standoff": 15
           },
           "zerolinecolor": "white",
           "zerolinewidth": 2
          },
          "yaxis": {
           "automargin": true,
           "gridcolor": "white",
           "linecolor": "white",
           "ticks": "",
           "title": {
            "standoff": 15
           },
           "zerolinecolor": "white",
           "zerolinewidth": 2
          }
         }
        }
       }
      }
     },
     "metadata": {},
     "output_type": "display_data"
    }
   ],
   "source": [
    "fig = px.line_geo(df, locations=\"iso_alpha\",\n",
    "                  color=\"continent\", # \"continent\" is one of the columns of gapminder\n",
    "                  projection=\"orthographic\")\n",
    "fig.show()"
   ]
  },
  {
   "cell_type": "code",
   "execution_count": 40,
   "metadata": {},
   "outputs": [
    {
     "data": {
      "application/vnd.plotly.v1+json": {
       "config": {
        "plotlyServerURL": "https://plot.ly"
       },
       "data": [
        {
         "autocolorscale": false,
         "colorbar": {
          "tickprefix": "$",
          "title": {
           "text": "GDP<br>Billions US$"
          }
         },
         "colorscale": [
          [
           0,
           "rgb(247,251,255)"
          ],
          [
           0.125,
           "rgb(222,235,247)"
          ],
          [
           0.25,
           "rgb(198,219,239)"
          ],
          [
           0.375,
           "rgb(158,202,225)"
          ],
          [
           0.5,
           "rgb(107,174,214)"
          ],
          [
           0.625,
           "rgb(66,146,198)"
          ],
          [
           0.75,
           "rgb(33,113,181)"
          ],
          [
           0.875,
           "rgb(8,81,156)"
          ],
          [
           1,
           "rgb(8,48,107)"
          ]
         ],
         "locations": [
          "AFG",
          "ALB",
          "DZA",
          "ASM",
          "AND",
          "AGO",
          "AIA",
          "ATG",
          "ARG",
          "ARM",
          "ABW",
          "AUS",
          "AUT",
          "AZE",
          "BHM",
          "BHR",
          "BGD",
          "BRB",
          "BLR",
          "BEL",
          "BLZ",
          "BEN",
          "BMU",
          "BTN",
          "BOL",
          "BIH",
          "BWA",
          "BRA",
          "VGB",
          "BRN",
          "BGR",
          "BFA",
          "MMR",
          "BDI",
          "CPV",
          "KHM",
          "CMR",
          "CAN",
          "CYM",
          "CAF",
          "TCD",
          "CHL",
          "CHN",
          "COL",
          "COM",
          "COD",
          "COG",
          "COK",
          "CRI",
          "CIV",
          "HRV",
          "CUB",
          "CUW",
          "CYP",
          "CZE",
          "DNK",
          "DJI",
          "DMA",
          "DOM",
          "ECU",
          "EGY",
          "SLV",
          "GNQ",
          "ERI",
          "EST",
          "ETH",
          "FLK",
          "FRO",
          "FJI",
          "FIN",
          "FRA",
          "PYF",
          "GAB",
          "GMB",
          "GEO",
          "DEU",
          "GHA",
          "GIB",
          "GRC",
          "GRL",
          "GRD",
          "GUM",
          "GTM",
          "GGY",
          "GNB",
          "GIN",
          "GUY",
          "HTI",
          "HND",
          "HKG",
          "HUN",
          "ISL",
          "IND",
          "IDN",
          "IRN",
          "IRQ",
          "IRL",
          "IMN",
          "ISR",
          "ITA",
          "JAM",
          "JPN",
          "JEY",
          "JOR",
          "KAZ",
          "KEN",
          "KIR",
          "PRK",
          "KOR",
          "KSV",
          "KWT",
          "KGZ",
          "LAO",
          "LVA",
          "LBN",
          "LSO",
          "LBR",
          "LBY",
          "LIE",
          "LTU",
          "LUX",
          "MAC",
          "MKD",
          "MDG",
          "MWI",
          "MYS",
          "MDV",
          "MLI",
          "MLT",
          "MHL",
          "MRT",
          "MUS",
          "MEX",
          "FSM",
          "MDA",
          "MCO",
          "MNG",
          "MNE",
          "MAR",
          "MOZ",
          "NAM",
          "NPL",
          "NLD",
          "NCL",
          "NZL",
          "NIC",
          "NGA",
          "NER",
          "NIU",
          "MNP",
          "NOR",
          "OMN",
          "PAK",
          "PLW",
          "PAN",
          "PNG",
          "PRY",
          "PER",
          "PHL",
          "POL",
          "PRT",
          "PRI",
          "QAT",
          "ROU",
          "RUS",
          "RWA",
          "KNA",
          "LCA",
          "MAF",
          "SPM",
          "VCT",
          "WSM",
          "SMR",
          "STP",
          "SAU",
          "SEN",
          "SRB",
          "SYC",
          "SLE",
          "SGP",
          "SXM",
          "SVK",
          "SVN",
          "SLB",
          "SOM",
          "ZAF",
          "SSD",
          "ESP",
          "LKA",
          "SDN",
          "SUR",
          "SWZ",
          "SWE",
          "CHE",
          "SYR",
          "TWN",
          "TJK",
          "TZA",
          "THA",
          "TLS",
          "TGO",
          "TON",
          "TTO",
          "TUN",
          "TUR",
          "TKM",
          "TUV",
          "UGA",
          "UKR",
          "ARE",
          "GBR",
          "USA",
          "URY",
          "UZB",
          "VUT",
          "VEN",
          "VNM",
          "VGB",
          "WBG",
          "YEM",
          "ZMB",
          "ZWE"
         ],
         "marker": {
          "line": {
           "color": "darkgray",
           "width": 0.5
          }
         },
         "reversescale": true,
         "text": [
          "Afghanistan",
          "Albania",
          "Algeria",
          "American Samoa",
          "Andorra",
          "Angola",
          "Anguilla",
          "Antigua and Barbuda",
          "Argentina",
          "Armenia",
          "Aruba",
          "Australia",
          "Austria",
          "Azerbaijan",
          "Bahamas, The",
          "Bahrain",
          "Bangladesh",
          "Barbados",
          "Belarus",
          "Belgium",
          "Belize",
          "Benin",
          "Bermuda",
          "Bhutan",
          "Bolivia",
          "Bosnia and Herzegovina",
          "Botswana",
          "Brazil",
          "British Virgin Islands",
          "Brunei",
          "Bulgaria",
          "Burkina Faso",
          "Burma",
          "Burundi",
          "Cabo Verde",
          "Cambodia",
          "Cameroon",
          "Canada",
          "Cayman Islands",
          "Central African Republic",
          "Chad",
          "Chile",
          "China",
          "Colombia",
          "Comoros",
          "Congo, Democratic Republic of the",
          "Congo, Republic of the",
          "Cook Islands",
          "Costa Rica",
          "Cote d'Ivoire",
          "Croatia",
          "Cuba",
          "Curacao",
          "Cyprus",
          "Czech Republic",
          "Denmark",
          "Djibouti",
          "Dominica",
          "Dominican Republic",
          "Ecuador",
          "Egypt",
          "El Salvador",
          "Equatorial Guinea",
          "Eritrea",
          "Estonia",
          "Ethiopia",
          "Falkland Islands (Islas Malvinas)",
          "Faroe Islands",
          "Fiji",
          "Finland",
          "France",
          "French Polynesia",
          "Gabon",
          "Gambia, The",
          "Georgia",
          "Germany",
          "Ghana",
          "Gibraltar",
          "Greece",
          "Greenland",
          "Grenada",
          "Guam",
          "Guatemala",
          "Guernsey",
          "Guinea-Bissau",
          "Guinea",
          "Guyana",
          "Haiti",
          "Honduras",
          "Hong Kong",
          "Hungary",
          "Iceland",
          "India",
          "Indonesia",
          "Iran",
          "Iraq",
          "Ireland",
          "Isle of Man",
          "Israel",
          "Italy",
          "Jamaica",
          "Japan",
          "Jersey",
          "Jordan",
          "Kazakhstan",
          "Kenya",
          "Kiribati",
          "Korea, North",
          "Korea, South",
          "Kosovo",
          "Kuwait",
          "Kyrgyzstan",
          "Laos",
          "Latvia",
          "Lebanon",
          "Lesotho",
          "Liberia",
          "Libya",
          "Liechtenstein",
          "Lithuania",
          "Luxembourg",
          "Macau",
          "Macedonia",
          "Madagascar",
          "Malawi",
          "Malaysia",
          "Maldives",
          "Mali",
          "Malta",
          "Marshall Islands",
          "Mauritania",
          "Mauritius",
          "Mexico",
          "Micronesia, Federated States of",
          "Moldova",
          "Monaco",
          "Mongolia",
          "Montenegro",
          "Morocco",
          "Mozambique",
          "Namibia",
          "Nepal",
          "Netherlands",
          "New Caledonia",
          "New Zealand",
          "Nicaragua",
          "Nigeria",
          "Niger",
          "Niue",
          "Northern Mariana Islands",
          "Norway",
          "Oman",
          "Pakistan",
          "Palau",
          "Panama",
          "Papua New Guinea",
          "Paraguay",
          "Peru",
          "Philippines",
          "Poland",
          "Portugal",
          "Puerto Rico",
          "Qatar",
          "Romania",
          "Russia",
          "Rwanda",
          "Saint Kitts and Nevis",
          "Saint Lucia",
          "Saint Martin",
          "Saint Pierre and Miquelon",
          "Saint Vincent and the Grenadines",
          "Samoa",
          "San Marino",
          "Sao Tome and Principe",
          "Saudi Arabia",
          "Senegal",
          "Serbia",
          "Seychelles",
          "Sierra Leone",
          "Singapore",
          "Sint Maarten",
          "Slovakia",
          "Slovenia",
          "Solomon Islands",
          "Somalia",
          "South Africa",
          "South Sudan",
          "Spain",
          "Sri Lanka",
          "Sudan",
          "Suriname",
          "Swaziland",
          "Sweden",
          "Switzerland",
          "Syria",
          "Taiwan",
          "Tajikistan",
          "Tanzania",
          "Thailand",
          "Timor-Leste",
          "Togo",
          "Tonga",
          "Trinidad and Tobago",
          "Tunisia",
          "Turkey",
          "Turkmenistan",
          "Tuvalu",
          "Uganda",
          "Ukraine",
          "United Arab Emirates",
          "United Kingdom",
          "United States",
          "Uruguay",
          "Uzbekistan",
          "Vanuatu",
          "Venezuela",
          "Vietnam",
          "Virgin Islands",
          "West Bank",
          "Yemen",
          "Zambia",
          "Zimbabwe"
         ],
         "type": "choropleth",
         "z": [
          21.71,
          13.4,
          227.8,
          0.75,
          4.8,
          131.4,
          0.18,
          1.24,
          536.2,
          10.88,
          2.52,
          1483,
          436.1,
          77.91,
          8.65,
          34.05,
          186.6,
          4.28,
          75.25,
          527.8,
          1.67,
          9.24,
          5.2,
          2.09,
          34.08,
          19.55,
          16.3,
          2244,
          1.1,
          17.43,
          55.08,
          13.38,
          65.29,
          3.04,
          1.98,
          16.9,
          32.16,
          1794,
          2.25,
          1.73,
          15.84,
          264.1,
          10360,
          400.1,
          0.72,
          32.67,
          14.11,
          0.18,
          50.46,
          33.96,
          57.18,
          77.15,
          5.6,
          21.34,
          205.6,
          347.2,
          1.58,
          0.51,
          64.05,
          100.5,
          284.9,
          25.14,
          15.4,
          3.87,
          26.36,
          49.86,
          0.16,
          2.32,
          4.17,
          276.3,
          2902,
          7.15,
          20.68,
          0.92,
          16.13,
          3820,
          35.48,
          1.85,
          246.4,
          2.16,
          0.84,
          4.6,
          58.3,
          2.74,
          1.04,
          6.77,
          3.14,
          8.92,
          19.37,
          292.7,
          129.7,
          16.2,
          2048,
          856.1,
          402.7,
          232.2,
          245.8,
          4.08,
          305,
          2129,
          13.92,
          4770,
          5.77,
          36.55,
          225.6,
          62.72,
          0.16,
          28,
          1410,
          5.99,
          179.3,
          7.65,
          11.71,
          32.82,
          47.5,
          2.46,
          2.07,
          49.34,
          5.11,
          48.72,
          63.93,
          51.68,
          10.92,
          11.19,
          4.41,
          336.9,
          2.41,
          12.04,
          10.57,
          0.18,
          4.29,
          12.72,
          1296,
          0.34,
          7.74,
          6.06,
          11.73,
          4.66,
          112.6,
          16.59,
          13.11,
          19.64,
          880.4,
          11.1,
          201,
          11.85,
          594.3,
          8.29,
          0.01,
          1.23,
          511.6,
          80.54,
          237.5,
          0.65,
          44.69,
          16.1,
          31.3,
          208.2,
          284.6,
          552.2,
          228.2,
          93.52,
          212,
          199,
          2057,
          8,
          0.81,
          1.35,
          0.56,
          0.22,
          0.75,
          0.83,
          1.86,
          0.36,
          777.9,
          15.88,
          42.65,
          1.47,
          5.41,
          307.9,
          304.1,
          99.75,
          49.93,
          1.16,
          2.37,
          341.2,
          11.89,
          1400,
          71.57,
          70.03,
          5.27,
          3.84,
          559.1,
          679,
          64.7,
          529.5,
          9.16,
          36.62,
          373.8,
          4.51,
          4.84,
          0.49,
          29.63,
          49.12,
          813.3,
          43.5,
          0.04,
          26.09,
          134.9,
          416.4,
          2848,
          17420,
          55.6,
          63.08,
          0.82,
          209.2,
          187.8,
          5.08,
          6.64,
          45.45,
          25.61,
          13.74
         ]
        }
       ],
       "layout": {
        "annotations": [
         {
          "showarrow": false,
          "text": "Source: <a href=\"https://www.cia.gov/library/publications/the-world-factbook/fields/2195.html\">            CIA World Factbook</a>",
          "x": 0.55,
          "xref": "paper",
          "y": 0.1,
          "yref": "paper"
         }
        ],
        "geo": {
         "projection": {
          "type": "equirectangular"
         },
         "showcoastlines": false,
         "showframe": false
        },
        "template": {
         "data": {
          "bar": [
           {
            "error_x": {
             "color": "#2a3f5f"
            },
            "error_y": {
             "color": "#2a3f5f"
            },
            "marker": {
             "line": {
              "color": "#E5ECF6",
              "width": 0.5
             },
             "pattern": {
              "fillmode": "overlay",
              "size": 10,
              "solidity": 0.2
             }
            },
            "type": "bar"
           }
          ],
          "barpolar": [
           {
            "marker": {
             "line": {
              "color": "#E5ECF6",
              "width": 0.5
             },
             "pattern": {
              "fillmode": "overlay",
              "size": 10,
              "solidity": 0.2
             }
            },
            "type": "barpolar"
           }
          ],
          "carpet": [
           {
            "aaxis": {
             "endlinecolor": "#2a3f5f",
             "gridcolor": "white",
             "linecolor": "white",
             "minorgridcolor": "white",
             "startlinecolor": "#2a3f5f"
            },
            "baxis": {
             "endlinecolor": "#2a3f5f",
             "gridcolor": "white",
             "linecolor": "white",
             "minorgridcolor": "white",
             "startlinecolor": "#2a3f5f"
            },
            "type": "carpet"
           }
          ],
          "choropleth": [
           {
            "colorbar": {
             "outlinewidth": 0,
             "ticks": ""
            },
            "type": "choropleth"
           }
          ],
          "contour": [
           {
            "colorbar": {
             "outlinewidth": 0,
             "ticks": ""
            },
            "colorscale": [
             [
              0,
              "#0d0887"
             ],
             [
              0.1111111111111111,
              "#46039f"
             ],
             [
              0.2222222222222222,
              "#7201a8"
             ],
             [
              0.3333333333333333,
              "#9c179e"
             ],
             [
              0.4444444444444444,
              "#bd3786"
             ],
             [
              0.5555555555555556,
              "#d8576b"
             ],
             [
              0.6666666666666666,
              "#ed7953"
             ],
             [
              0.7777777777777778,
              "#fb9f3a"
             ],
             [
              0.8888888888888888,
              "#fdca26"
             ],
             [
              1,
              "#f0f921"
             ]
            ],
            "type": "contour"
           }
          ],
          "contourcarpet": [
           {
            "colorbar": {
             "outlinewidth": 0,
             "ticks": ""
            },
            "type": "contourcarpet"
           }
          ],
          "heatmap": [
           {
            "colorbar": {
             "outlinewidth": 0,
             "ticks": ""
            },
            "colorscale": [
             [
              0,
              "#0d0887"
             ],
             [
              0.1111111111111111,
              "#46039f"
             ],
             [
              0.2222222222222222,
              "#7201a8"
             ],
             [
              0.3333333333333333,
              "#9c179e"
             ],
             [
              0.4444444444444444,
              "#bd3786"
             ],
             [
              0.5555555555555556,
              "#d8576b"
             ],
             [
              0.6666666666666666,
              "#ed7953"
             ],
             [
              0.7777777777777778,
              "#fb9f3a"
             ],
             [
              0.8888888888888888,
              "#fdca26"
             ],
             [
              1,
              "#f0f921"
             ]
            ],
            "type": "heatmap"
           }
          ],
          "heatmapgl": [
           {
            "colorbar": {
             "outlinewidth": 0,
             "ticks": ""
            },
            "colorscale": [
             [
              0,
              "#0d0887"
             ],
             [
              0.1111111111111111,
              "#46039f"
             ],
             [
              0.2222222222222222,
              "#7201a8"
             ],
             [
              0.3333333333333333,
              "#9c179e"
             ],
             [
              0.4444444444444444,
              "#bd3786"
             ],
             [
              0.5555555555555556,
              "#d8576b"
             ],
             [
              0.6666666666666666,
              "#ed7953"
             ],
             [
              0.7777777777777778,
              "#fb9f3a"
             ],
             [
              0.8888888888888888,
              "#fdca26"
             ],
             [
              1,
              "#f0f921"
             ]
            ],
            "type": "heatmapgl"
           }
          ],
          "histogram": [
           {
            "marker": {
             "pattern": {
              "fillmode": "overlay",
              "size": 10,
              "solidity": 0.2
             }
            },
            "type": "histogram"
           }
          ],
          "histogram2d": [
           {
            "colorbar": {
             "outlinewidth": 0,
             "ticks": ""
            },
            "colorscale": [
             [
              0,
              "#0d0887"
             ],
             [
              0.1111111111111111,
              "#46039f"
             ],
             [
              0.2222222222222222,
              "#7201a8"
             ],
             [
              0.3333333333333333,
              "#9c179e"
             ],
             [
              0.4444444444444444,
              "#bd3786"
             ],
             [
              0.5555555555555556,
              "#d8576b"
             ],
             [
              0.6666666666666666,
              "#ed7953"
             ],
             [
              0.7777777777777778,
              "#fb9f3a"
             ],
             [
              0.8888888888888888,
              "#fdca26"
             ],
             [
              1,
              "#f0f921"
             ]
            ],
            "type": "histogram2d"
           }
          ],
          "histogram2dcontour": [
           {
            "colorbar": {
             "outlinewidth": 0,
             "ticks": ""
            },
            "colorscale": [
             [
              0,
              "#0d0887"
             ],
             [
              0.1111111111111111,
              "#46039f"
             ],
             [
              0.2222222222222222,
              "#7201a8"
             ],
             [
              0.3333333333333333,
              "#9c179e"
             ],
             [
              0.4444444444444444,
              "#bd3786"
             ],
             [
              0.5555555555555556,
              "#d8576b"
             ],
             [
              0.6666666666666666,
              "#ed7953"
             ],
             [
              0.7777777777777778,
              "#fb9f3a"
             ],
             [
              0.8888888888888888,
              "#fdca26"
             ],
             [
              1,
              "#f0f921"
             ]
            ],
            "type": "histogram2dcontour"
           }
          ],
          "mesh3d": [
           {
            "colorbar": {
             "outlinewidth": 0,
             "ticks": ""
            },
            "type": "mesh3d"
           }
          ],
          "parcoords": [
           {
            "line": {
             "colorbar": {
              "outlinewidth": 0,
              "ticks": ""
             }
            },
            "type": "parcoords"
           }
          ],
          "pie": [
           {
            "automargin": true,
            "type": "pie"
           }
          ],
          "scatter": [
           {
            "fillpattern": {
             "fillmode": "overlay",
             "size": 10,
             "solidity": 0.2
            },
            "type": "scatter"
           }
          ],
          "scatter3d": [
           {
            "line": {
             "colorbar": {
              "outlinewidth": 0,
              "ticks": ""
             }
            },
            "marker": {
             "colorbar": {
              "outlinewidth": 0,
              "ticks": ""
             }
            },
            "type": "scatter3d"
           }
          ],
          "scattercarpet": [
           {
            "marker": {
             "colorbar": {
              "outlinewidth": 0,
              "ticks": ""
             }
            },
            "type": "scattercarpet"
           }
          ],
          "scattergeo": [
           {
            "marker": {
             "colorbar": {
              "outlinewidth": 0,
              "ticks": ""
             }
            },
            "type": "scattergeo"
           }
          ],
          "scattergl": [
           {
            "marker": {
             "colorbar": {
              "outlinewidth": 0,
              "ticks": ""
             }
            },
            "type": "scattergl"
           }
          ],
          "scattermapbox": [
           {
            "marker": {
             "colorbar": {
              "outlinewidth": 0,
              "ticks": ""
             }
            },
            "type": "scattermapbox"
           }
          ],
          "scatterpolar": [
           {
            "marker": {
             "colorbar": {
              "outlinewidth": 0,
              "ticks": ""
             }
            },
            "type": "scatterpolar"
           }
          ],
          "scatterpolargl": [
           {
            "marker": {
             "colorbar": {
              "outlinewidth": 0,
              "ticks": ""
             }
            },
            "type": "scatterpolargl"
           }
          ],
          "scatterternary": [
           {
            "marker": {
             "colorbar": {
              "outlinewidth": 0,
              "ticks": ""
             }
            },
            "type": "scatterternary"
           }
          ],
          "surface": [
           {
            "colorbar": {
             "outlinewidth": 0,
             "ticks": ""
            },
            "colorscale": [
             [
              0,
              "#0d0887"
             ],
             [
              0.1111111111111111,
              "#46039f"
             ],
             [
              0.2222222222222222,
              "#7201a8"
             ],
             [
              0.3333333333333333,
              "#9c179e"
             ],
             [
              0.4444444444444444,
              "#bd3786"
             ],
             [
              0.5555555555555556,
              "#d8576b"
             ],
             [
              0.6666666666666666,
              "#ed7953"
             ],
             [
              0.7777777777777778,
              "#fb9f3a"
             ],
             [
              0.8888888888888888,
              "#fdca26"
             ],
             [
              1,
              "#f0f921"
             ]
            ],
            "type": "surface"
           }
          ],
          "table": [
           {
            "cells": {
             "fill": {
              "color": "#EBF0F8"
             },
             "line": {
              "color": "white"
             }
            },
            "header": {
             "fill": {
              "color": "#C8D4E3"
             },
             "line": {
              "color": "white"
             }
            },
            "type": "table"
           }
          ]
         },
         "layout": {
          "annotationdefaults": {
           "arrowcolor": "#2a3f5f",
           "arrowhead": 0,
           "arrowwidth": 1
          },
          "autotypenumbers": "strict",
          "coloraxis": {
           "colorbar": {
            "outlinewidth": 0,
            "ticks": ""
           }
          },
          "colorscale": {
           "diverging": [
            [
             0,
             "#8e0152"
            ],
            [
             0.1,
             "#c51b7d"
            ],
            [
             0.2,
             "#de77ae"
            ],
            [
             0.3,
             "#f1b6da"
            ],
            [
             0.4,
             "#fde0ef"
            ],
            [
             0.5,
             "#f7f7f7"
            ],
            [
             0.6,
             "#e6f5d0"
            ],
            [
             0.7,
             "#b8e186"
            ],
            [
             0.8,
             "#7fbc41"
            ],
            [
             0.9,
             "#4d9221"
            ],
            [
             1,
             "#276419"
            ]
           ],
           "sequential": [
            [
             0,
             "#0d0887"
            ],
            [
             0.1111111111111111,
             "#46039f"
            ],
            [
             0.2222222222222222,
             "#7201a8"
            ],
            [
             0.3333333333333333,
             "#9c179e"
            ],
            [
             0.4444444444444444,
             "#bd3786"
            ],
            [
             0.5555555555555556,
             "#d8576b"
            ],
            [
             0.6666666666666666,
             "#ed7953"
            ],
            [
             0.7777777777777778,
             "#fb9f3a"
            ],
            [
             0.8888888888888888,
             "#fdca26"
            ],
            [
             1,
             "#f0f921"
            ]
           ],
           "sequentialminus": [
            [
             0,
             "#0d0887"
            ],
            [
             0.1111111111111111,
             "#46039f"
            ],
            [
             0.2222222222222222,
             "#7201a8"
            ],
            [
             0.3333333333333333,
             "#9c179e"
            ],
            [
             0.4444444444444444,
             "#bd3786"
            ],
            [
             0.5555555555555556,
             "#d8576b"
            ],
            [
             0.6666666666666666,
             "#ed7953"
            ],
            [
             0.7777777777777778,
             "#fb9f3a"
            ],
            [
             0.8888888888888888,
             "#fdca26"
            ],
            [
             1,
             "#f0f921"
            ]
           ]
          },
          "colorway": [
           "#636efa",
           "#EF553B",
           "#00cc96",
           "#ab63fa",
           "#FFA15A",
           "#19d3f3",
           "#FF6692",
           "#B6E880",
           "#FF97FF",
           "#FECB52"
          ],
          "font": {
           "color": "#2a3f5f"
          },
          "geo": {
           "bgcolor": "white",
           "lakecolor": "white",
           "landcolor": "#E5ECF6",
           "showlakes": true,
           "showland": true,
           "subunitcolor": "white"
          },
          "hoverlabel": {
           "align": "left"
          },
          "hovermode": "closest",
          "mapbox": {
           "style": "light"
          },
          "paper_bgcolor": "white",
          "plot_bgcolor": "#E5ECF6",
          "polar": {
           "angularaxis": {
            "gridcolor": "white",
            "linecolor": "white",
            "ticks": ""
           },
           "bgcolor": "#E5ECF6",
           "radialaxis": {
            "gridcolor": "white",
            "linecolor": "white",
            "ticks": ""
           }
          },
          "scene": {
           "xaxis": {
            "backgroundcolor": "#E5ECF6",
            "gridcolor": "white",
            "gridwidth": 2,
            "linecolor": "white",
            "showbackground": true,
            "ticks": "",
            "zerolinecolor": "white"
           },
           "yaxis": {
            "backgroundcolor": "#E5ECF6",
            "gridcolor": "white",
            "gridwidth": 2,
            "linecolor": "white",
            "showbackground": true,
            "ticks": "",
            "zerolinecolor": "white"
           },
           "zaxis": {
            "backgroundcolor": "#E5ECF6",
            "gridcolor": "white",
            "gridwidth": 2,
            "linecolor": "white",
            "showbackground": true,
            "ticks": "",
            "zerolinecolor": "white"
           }
          },
          "shapedefaults": {
           "line": {
            "color": "#2a3f5f"
           }
          },
          "ternary": {
           "aaxis": {
            "gridcolor": "white",
            "linecolor": "white",
            "ticks": ""
           },
           "baxis": {
            "gridcolor": "white",
            "linecolor": "white",
            "ticks": ""
           },
           "bgcolor": "#E5ECF6",
           "caxis": {
            "gridcolor": "white",
            "linecolor": "white",
            "ticks": ""
           }
          },
          "title": {
           "x": 0.05
          },
          "xaxis": {
           "automargin": true,
           "gridcolor": "white",
           "linecolor": "white",
           "ticks": "",
           "title": {
            "standoff": 15
           },
           "zerolinecolor": "white",
           "zerolinewidth": 2
          },
          "yaxis": {
           "automargin": true,
           "gridcolor": "white",
           "linecolor": "white",
           "ticks": "",
           "title": {
            "standoff": 15
           },
           "zerolinecolor": "white",
           "zerolinewidth": 2
          }
         }
        },
        "title": {
         "text": "2014 Global GDP<br>Source: <a href=\"https://www.cia.gov/library/publications/the-world-factbook/fields/2195.html\">        CIA World Factbook</a>"
        }
       }
      }
     },
     "metadata": {},
     "output_type": "display_data"
    }
   ],
   "source": [
    "# A plotly figure with cloropleth map to show certain regions of the world, e.g, Brasil, Argentina, and Chile.\n",
    "\n",
    "import plotly.graph_objects as go\n",
    "import pandas as pd\n",
    "\n",
    "df = pd.read_csv('https://raw.githubusercontent.com/plotly/datasets/master/2014_world_gdp_with_codes.csv')\n",
    "\n",
    "fig = go.Figure(data=go.Choropleth(\n",
    "    locations = df['CODE'],\n",
    "    z = df['GDP (BILLIONS)'],\n",
    "    text = df['COUNTRY'],\n",
    "    colorscale = 'Blues',\n",
    "    autocolorscale=False,\n",
    "    reversescale=True,\n",
    "    marker_line_color='darkgray',\n",
    "    marker_line_width=0.5,\n",
    "    colorbar_tickprefix = '$',\n",
    "    colorbar_title = 'GDP<br>Billions US$',\n",
    "))\n",
    "\n",
    "fig.update_layout(\n",
    "    title_text='2014 Global GDP<br>Source: <a href=\"https://www.cia.gov/library/publications/the-world-factbook/fields/2195.html\">\\\n",
    "        CIA World Factbook</a>',\n",
    "    geo=dict(\n",
    "        showframe=False,\n",
    "        showcoastlines=False,\n",
    "        projection_type='equirectangular'\n",
    "    ),\n",
    "\n",
    "    annotations = [dict(\n",
    "        x=0.55,\n",
    "        y=0.1,\n",
    "        xref='paper',\n",
    "        yref='paper',\n",
    "        text='Source: <a href=\"https://www.cia.gov/library/publications/the-world-factbook/fields/2195.html\">\\\n",
    "            CIA World Factbook</a>',\n",
    "        showarrow = False\n",
    "    )]\n",
    ")\n",
    "\n",
    "fig.show()\n"
   ]
  },
  {
   "cell_type": "code",
   "execution_count": null,
   "metadata": {},
   "outputs": [],
   "source": []
  }
 ],
 "metadata": {
  "kernelspec": {
   "display_name": "work",
   "language": "python",
   "name": "python3"
  },
  "language_info": {
   "codemirror_mode": {
    "name": "ipython",
    "version": 3
   },
   "file_extension": ".py",
   "mimetype": "text/x-python",
   "name": "python",
   "nbconvert_exporter": "python",
   "pygments_lexer": "ipython3",
   "version": "3.10.11"
  },
  "orig_nbformat": 4
 },
 "nbformat": 4,
 "nbformat_minor": 2
}
